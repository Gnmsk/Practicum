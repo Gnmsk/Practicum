{
 "cells": [
  {
   "cell_type": "markdown",
   "metadata": {},
   "source": [
    "# Определение стоимости автомобилей"
   ]
  },
  {
   "cell_type": "markdown",
   "metadata": {},
   "source": [
    "Сервис по продаже автомобилей с пробегом «Не бит, не крашен» разрабатывает приложение для привлечения новых клиентов. В нём можно быстро узнать рыночную стоимость своего автомобиля. В вашем распоряжении исторические данные: технические характеристики, комплектации и цены автомобилей. Вам нужно построить модель для определения стоимости. \n",
    "\n",
    "Заказчику важны:\n",
    "\n",
    "- качество предсказания;\n",
    "- скорость предсказания;\n",
    "- время обучения."
   ]
  },
  {
   "cell_type": "markdown",
   "metadata": {},
   "source": [
    "## 0. Импорт библиотек и функций"
   ]
  },
  {
   "cell_type": "code",
   "execution_count": 1,
   "metadata": {},
   "outputs": [
    {
     "name": "stdout",
     "output_type": "stream",
     "text": [
      "Note: you may need to restart the kernel to use updated packages.\n"
     ]
    }
   ],
   "source": [
    "pip install --upgrade pip -q"
   ]
  },
  {
   "cell_type": "code",
   "execution_count": 2,
   "metadata": {},
   "outputs": [
    {
     "name": "stdout",
     "output_type": "stream",
     "text": [
      "\u001b[33mWARNING: Error parsing dependencies of ipykernel: Expected matching RIGHT_PARENTHESIS for LEFT_PARENTHESIS, after version specifier\n",
      "    matplotlib-inline (<0.2.0appnope,>=0.1.0) ; platform_system == \"Darwin\"\n",
      "                      ~~~~~~~~^\u001b[0m\u001b[33m\n",
      "\u001b[0mNote: you may need to restart the kernel to use updated packages.\n"
     ]
    }
   ],
   "source": [
    "pip install --upgrade Pillow -q"
   ]
  },
  {
   "cell_type": "code",
   "execution_count": 3,
   "metadata": {},
   "outputs": [
    {
     "name": "stdout",
     "output_type": "stream",
     "text": [
      "\u001b[33mWARNING: Error parsing dependencies of ipykernel: Expected matching RIGHT_PARENTHESIS for LEFT_PARENTHESIS, after version specifier\n",
      "    matplotlib-inline (<0.2.0appnope,>=0.1.0) ; platform_system == \"Darwin\"\n",
      "                      ~~~~~~~~^\u001b[0m\u001b[33m\n",
      "\u001b[0m\u001b[31mERROR: pip's dependency resolver does not currently take into account all the packages that are installed. This behaviour is the source of the following dependency conflicts.\n",
      "notebook 6.4.0 requires ipykernel, which is not installed.\n",
      "qtconsole 5.3.2 requires ipykernel>=4.1, which is not installed.\n",
      "numba 0.56.0 requires numpy<1.23,>=1.18, but you have numpy 1.23.5 which is incompatible.\u001b[0m\u001b[31m\n",
      "\u001b[0mNote: you may need to restart the kernel to use updated packages.\n"
     ]
    }
   ],
   "source": [
    "pip install ydata_profiling==4.5.1 -q"
   ]
  },
  {
   "cell_type": "code",
   "execution_count": 4,
   "metadata": {},
   "outputs": [
    {
     "name": "stdout",
     "output_type": "stream",
     "text": [
      "\u001b[33mWARNING: Error parsing dependencies of ipykernel: Expected matching RIGHT_PARENTHESIS for LEFT_PARENTHESIS, after version specifier\r\n",
      "    matplotlib-inline (<0.2.0appnope,>=0.1.0) ; platform_system == \"Darwin\"\r\n",
      "                      ~~~~~~~~^\u001b[0m\u001b[33m\r\n",
      "\u001b[0m"
     ]
    }
   ],
   "source": [
    "!pip install -U scikit-learn -q"
   ]
  },
  {
   "cell_type": "code",
   "execution_count": 5,
   "metadata": {},
   "outputs": [
    {
     "name": "stdout",
     "output_type": "stream",
     "text": [
      "\u001b[33mWARNING: Error parsing dependencies of ipykernel: Expected matching RIGHT_PARENTHESIS for LEFT_PARENTHESIS, after version specifier\n",
      "    matplotlib-inline (<0.2.0appnope,>=0.1.0) ; platform_system == \"Darwin\"\n",
      "                      ~~~~~~~~^\u001b[0m\u001b[33m\n",
      "\u001b[0mNote: you may need to restart the kernel to use updated packages.\n"
     ]
    }
   ],
   "source": [
    "pip install category_encoders -q"
   ]
  },
  {
   "cell_type": "code",
   "execution_count": 6,
   "metadata": {},
   "outputs": [],
   "source": [
    "import pandas as pd\n",
    "import numpy as np\n",
    "import matplotlib.pyplot as plt\n",
    "import seaborn as sn\n",
    "import lightgbm as lgm\n",
    "import sklearn\n",
    "from numpy import sqrt\n",
    "import time\n",
    "import phik\n",
    "\n",
    "from sklearn.model_selection import train_test_split, GridSearchCV, RandomizedSearchCV\n",
    "from sklearn.compose import ColumnTransformer\n",
    "from sklearn.preprocessing import (\n",
    "    StandardScaler,\n",
    "    MinMaxScaler,\n",
    "    RobustScaler,\n",
    "    OneHotEncoder,\n",
    "    OrdinalEncoder\n",
    ")\n",
    "\n",
    "from category_encoders import MEstimateEncoder\n",
    "\n",
    "from sklearn.linear_model import LinearRegression\n",
    "from sklearn.tree import DecisionTreeClassifier, DecisionTreeRegressor\n",
    "from sklearn.neighbors import KNeighborsClassifier\n",
    "from sklearn.svm import SVC\n",
    "\n",
    "from sklearn.metrics import roc_auc_score, make_scorer, mean_squared_error\n",
    "from sklearn.pipeline import Pipeline\n",
    "from sklearn.impute import SimpleImputer"
   ]
  },
  {
   "cell_type": "code",
   "execution_count": 7,
   "metadata": {},
   "outputs": [],
   "source": [
    "RANDOM_STATE = 42\n",
    "VALID_SIZE = 0.1"
   ]
  },
  {
   "cell_type": "code",
   "execution_count": 8,
   "metadata": {},
   "outputs": [],
   "source": [
    "#Функция для анализа категоральных столбцов. Строит гистограмму и выводит отношение значений (без учета np.nan)\n",
    "\n",
    "def cat_col_analiz(data, col, val_show='on', hue='off', discrete=False, common_norm=False):\n",
    "    sn.set_palette('Set2')\n",
    "    plt.subplots(figsize=(12, 6))\n",
    "    if hue=='off':\n",
    "        sn.histplot(data.dropna(), x=col)\n",
    "    if hue != 'off':\n",
    "        sn.histplot(data.dropna(), x=col, hue=hue, multiple='stack', discrete=discrete, common_norm=common_norm)\n",
    "    plt.title(label = f'Гистограмма для показателя {col}\\nБез учета значений np.nan\\n', fontsize=15)\n",
    "    plt.xlabel(col, fontsize=15)\n",
    "    plt.xticks(rotation=45,fontsize=10)\n",
    "    plt.ylabel('Количество', fontsize=15)\n",
    "    plt.show()\n",
    "    if val_show == 'on':\n",
    "        print(f'{data[col].value_counts(normalize=True)}\\n{data[col].value_counts()}')\n",
    "    print('\\n')"
   ]
  },
  {
   "cell_type": "code",
   "execution_count": 9,
   "metadata": {},
   "outputs": [],
   "source": [
    "#Функция для исследовательского анализа количественных признаков. Строит диаграмму размаха,\n",
    "#показывает список и количество выбросов, при их присутствии \n",
    "\n",
    "def num_col_analiz(data, col):\n",
    "    sn.set_palette('Set2')\n",
    "    plt.subplots(figsize=(10, 2))\n",
    "    sn.boxplot(data=data[col], orient='h');\n",
    "    plt.title(label = f'Диаграмма размаха для показателя {col}', fontsize=15)\n",
    "    plt.show()\n",
    "    extum_list_max=[] #Список для выбросов \"справа\"\n",
    "    extum_list_min=[] #Список для выбросов \"слева\"\n",
    "    Q3 = data[col].describe().loc['75%'] #Фиксируем значение третьего квартиля\n",
    "    Q1 = data[col].describe().loc['25%'] #Фиксируем значение первого квартиля\n",
    "    IQR = Q3-Q1  #Находим межквартильный размах\n",
    "    for i in data[col]: #Находим экстремумные значения - \"выбросы\" и раскидываем их по спискам\n",
    "        if i < (Q1 - IQR * 1.5):\n",
    "            extum_list_min.append(i)\n",
    "        if i > (Q3 + IQR * 1.5):\n",
    "            extum_list_max.append(i)\n",
    "    col_size = len(data[col])\n",
    "    extum_list_min = sorted(extum_list_min)\n",
    "    extum_list_max = sorted(extum_list_max)\n",
    "    min_len = len(extum_list_min)\n",
    "    max_len = len(extum_list_max)\n",
    "    print(data[col].describe().T)\n",
    "    print('\\n')\n",
    "    print(f'Выбросы ниже нормальных значений: \\nКоличество выбросов: {min_len} \\nПроцент выбросов: {round((min_len / col_size) * 100,2)} %')\n",
    "    print('\\n')\n",
    "    print(f'Выбросы выше нормальных значений: \\nКоличество выбросов: {max_len} \\nПроцент выбросов: {round((max_len / col_size) * 100,2)} %')\n",
    "    print('\\n')\n",
    "    print(f'Выбросы ниже нормальных значений: {extum_list_min}\\n')\n",
    "    print(f'Выбросы выше нормальных значений: {extum_list_max}\\n')"
   ]
  },
  {
   "cell_type": "markdown",
   "metadata": {},
   "source": [
    "## 1.Загрузка датасета"
   ]
  },
  {
   "cell_type": "markdown",
   "metadata": {},
   "source": [
    "**Загружаем данные в датасет auto_data**"
   ]
  },
  {
   "cell_type": "code",
   "execution_count": 10,
   "metadata": {},
   "outputs": [],
   "source": [
    "auto_data = pd.read_csv('/datasets/autos.csv')"
   ]
  },
  {
   "cell_type": "code",
   "execution_count": 11,
   "metadata": {},
   "outputs": [],
   "source": [
    "auto_data_size = auto_data.shape[0] #Сохраним для статистики изначальный размер датасета"
   ]
  },
  {
   "cell_type": "code",
   "execution_count": 12,
   "metadata": {},
   "outputs": [
    {
     "data": {
      "text/plain": [
       "354369"
      ]
     },
     "execution_count": 12,
     "metadata": {},
     "output_type": "execute_result"
    }
   ],
   "source": [
    "auto_data_size"
   ]
  },
  {
   "cell_type": "code",
   "execution_count": 13,
   "metadata": {
    "scrolled": true
   },
   "outputs": [
    {
     "data": {
      "text/html": [
       "<div>\n",
       "<style scoped>\n",
       "    .dataframe tbody tr th:only-of-type {\n",
       "        vertical-align: middle;\n",
       "    }\n",
       "\n",
       "    .dataframe tbody tr th {\n",
       "        vertical-align: top;\n",
       "    }\n",
       "\n",
       "    .dataframe thead th {\n",
       "        text-align: right;\n",
       "    }\n",
       "</style>\n",
       "<table border=\"1\" class=\"dataframe\">\n",
       "  <thead>\n",
       "    <tr style=\"text-align: right;\">\n",
       "      <th></th>\n",
       "      <th>DateCrawled</th>\n",
       "      <th>Price</th>\n",
       "      <th>VehicleType</th>\n",
       "      <th>RegistrationYear</th>\n",
       "      <th>Gearbox</th>\n",
       "      <th>Power</th>\n",
       "      <th>Model</th>\n",
       "      <th>Kilometer</th>\n",
       "      <th>RegistrationMonth</th>\n",
       "      <th>FuelType</th>\n",
       "      <th>Brand</th>\n",
       "      <th>Repaired</th>\n",
       "      <th>DateCreated</th>\n",
       "      <th>NumberOfPictures</th>\n",
       "      <th>PostalCode</th>\n",
       "      <th>LastSeen</th>\n",
       "    </tr>\n",
       "  </thead>\n",
       "  <tbody>\n",
       "    <tr>\n",
       "      <th>0</th>\n",
       "      <td>2016-03-24 11:52:17</td>\n",
       "      <td>480</td>\n",
       "      <td>NaN</td>\n",
       "      <td>1993</td>\n",
       "      <td>manual</td>\n",
       "      <td>0</td>\n",
       "      <td>golf</td>\n",
       "      <td>150000</td>\n",
       "      <td>0</td>\n",
       "      <td>petrol</td>\n",
       "      <td>volkswagen</td>\n",
       "      <td>NaN</td>\n",
       "      <td>2016-03-24 00:00:00</td>\n",
       "      <td>0</td>\n",
       "      <td>70435</td>\n",
       "      <td>2016-04-07 03:16:57</td>\n",
       "    </tr>\n",
       "    <tr>\n",
       "      <th>1</th>\n",
       "      <td>2016-03-24 10:58:45</td>\n",
       "      <td>18300</td>\n",
       "      <td>coupe</td>\n",
       "      <td>2011</td>\n",
       "      <td>manual</td>\n",
       "      <td>190</td>\n",
       "      <td>NaN</td>\n",
       "      <td>125000</td>\n",
       "      <td>5</td>\n",
       "      <td>gasoline</td>\n",
       "      <td>audi</td>\n",
       "      <td>yes</td>\n",
       "      <td>2016-03-24 00:00:00</td>\n",
       "      <td>0</td>\n",
       "      <td>66954</td>\n",
       "      <td>2016-04-07 01:46:50</td>\n",
       "    </tr>\n",
       "    <tr>\n",
       "      <th>2</th>\n",
       "      <td>2016-03-14 12:52:21</td>\n",
       "      <td>9800</td>\n",
       "      <td>suv</td>\n",
       "      <td>2004</td>\n",
       "      <td>auto</td>\n",
       "      <td>163</td>\n",
       "      <td>grand</td>\n",
       "      <td>125000</td>\n",
       "      <td>8</td>\n",
       "      <td>gasoline</td>\n",
       "      <td>jeep</td>\n",
       "      <td>NaN</td>\n",
       "      <td>2016-03-14 00:00:00</td>\n",
       "      <td>0</td>\n",
       "      <td>90480</td>\n",
       "      <td>2016-04-05 12:47:46</td>\n",
       "    </tr>\n",
       "    <tr>\n",
       "      <th>3</th>\n",
       "      <td>2016-03-17 16:54:04</td>\n",
       "      <td>1500</td>\n",
       "      <td>small</td>\n",
       "      <td>2001</td>\n",
       "      <td>manual</td>\n",
       "      <td>75</td>\n",
       "      <td>golf</td>\n",
       "      <td>150000</td>\n",
       "      <td>6</td>\n",
       "      <td>petrol</td>\n",
       "      <td>volkswagen</td>\n",
       "      <td>no</td>\n",
       "      <td>2016-03-17 00:00:00</td>\n",
       "      <td>0</td>\n",
       "      <td>91074</td>\n",
       "      <td>2016-03-17 17:40:17</td>\n",
       "    </tr>\n",
       "    <tr>\n",
       "      <th>4</th>\n",
       "      <td>2016-03-31 17:25:20</td>\n",
       "      <td>3600</td>\n",
       "      <td>small</td>\n",
       "      <td>2008</td>\n",
       "      <td>manual</td>\n",
       "      <td>69</td>\n",
       "      <td>fabia</td>\n",
       "      <td>90000</td>\n",
       "      <td>7</td>\n",
       "      <td>gasoline</td>\n",
       "      <td>skoda</td>\n",
       "      <td>no</td>\n",
       "      <td>2016-03-31 00:00:00</td>\n",
       "      <td>0</td>\n",
       "      <td>60437</td>\n",
       "      <td>2016-04-06 10:17:21</td>\n",
       "    </tr>\n",
       "  </tbody>\n",
       "</table>\n",
       "</div>"
      ],
      "text/plain": [
       "           DateCrawled  Price VehicleType  RegistrationYear Gearbox  Power  \\\n",
       "0  2016-03-24 11:52:17    480         NaN              1993  manual      0   \n",
       "1  2016-03-24 10:58:45  18300       coupe              2011  manual    190   \n",
       "2  2016-03-14 12:52:21   9800         suv              2004    auto    163   \n",
       "3  2016-03-17 16:54:04   1500       small              2001  manual     75   \n",
       "4  2016-03-31 17:25:20   3600       small              2008  manual     69   \n",
       "\n",
       "   Model  Kilometer  RegistrationMonth  FuelType       Brand Repaired  \\\n",
       "0   golf     150000                  0    petrol  volkswagen      NaN   \n",
       "1    NaN     125000                  5  gasoline        audi      yes   \n",
       "2  grand     125000                  8  gasoline        jeep      NaN   \n",
       "3   golf     150000                  6    petrol  volkswagen       no   \n",
       "4  fabia      90000                  7  gasoline       skoda       no   \n",
       "\n",
       "           DateCreated  NumberOfPictures  PostalCode             LastSeen  \n",
       "0  2016-03-24 00:00:00                 0       70435  2016-04-07 03:16:57  \n",
       "1  2016-03-24 00:00:00                 0       66954  2016-04-07 01:46:50  \n",
       "2  2016-03-14 00:00:00                 0       90480  2016-04-05 12:47:46  \n",
       "3  2016-03-17 00:00:00                 0       91074  2016-03-17 17:40:17  \n",
       "4  2016-03-31 00:00:00                 0       60437  2016-04-06 10:17:21  "
      ]
     },
     "execution_count": 13,
     "metadata": {},
     "output_type": "execute_result"
    }
   ],
   "source": [
    "auto_data.head()"
   ]
  },
  {
   "cell_type": "markdown",
   "metadata": {},
   "source": [
    "**Данные загружены корректно**"
   ]
  },
  {
   "cell_type": "markdown",
   "metadata": {},
   "source": [
    "## 2.Исследовательский анализ"
   ]
  },
  {
   "cell_type": "markdown",
   "metadata": {},
   "source": [
    "**Изучим общую статистику по датасету**"
   ]
  },
  {
   "cell_type": "code",
   "execution_count": 14,
   "metadata": {},
   "outputs": [
    {
     "data": {
      "text/html": [
       "<div>\n",
       "<style scoped>\n",
       "    .dataframe tbody tr th:only-of-type {\n",
       "        vertical-align: middle;\n",
       "    }\n",
       "\n",
       "    .dataframe tbody tr th {\n",
       "        vertical-align: top;\n",
       "    }\n",
       "\n",
       "    .dataframe thead th {\n",
       "        text-align: right;\n",
       "    }\n",
       "</style>\n",
       "<table border=\"1\" class=\"dataframe\">\n",
       "  <thead>\n",
       "    <tr style=\"text-align: right;\">\n",
       "      <th></th>\n",
       "      <th>count</th>\n",
       "      <th>mean</th>\n",
       "      <th>std</th>\n",
       "      <th>min</th>\n",
       "      <th>25%</th>\n",
       "      <th>50%</th>\n",
       "      <th>75%</th>\n",
       "      <th>max</th>\n",
       "    </tr>\n",
       "  </thead>\n",
       "  <tbody>\n",
       "    <tr>\n",
       "      <th>Price</th>\n",
       "      <td>354369.0</td>\n",
       "      <td>4416.656776</td>\n",
       "      <td>4514.158514</td>\n",
       "      <td>0.0</td>\n",
       "      <td>1050.0</td>\n",
       "      <td>2700.0</td>\n",
       "      <td>6400.0</td>\n",
       "      <td>20000.0</td>\n",
       "    </tr>\n",
       "    <tr>\n",
       "      <th>RegistrationYear</th>\n",
       "      <td>354369.0</td>\n",
       "      <td>2004.234448</td>\n",
       "      <td>90.227958</td>\n",
       "      <td>1000.0</td>\n",
       "      <td>1999.0</td>\n",
       "      <td>2003.0</td>\n",
       "      <td>2008.0</td>\n",
       "      <td>9999.0</td>\n",
       "    </tr>\n",
       "    <tr>\n",
       "      <th>Power</th>\n",
       "      <td>354369.0</td>\n",
       "      <td>110.094337</td>\n",
       "      <td>189.850405</td>\n",
       "      <td>0.0</td>\n",
       "      <td>69.0</td>\n",
       "      <td>105.0</td>\n",
       "      <td>143.0</td>\n",
       "      <td>20000.0</td>\n",
       "    </tr>\n",
       "    <tr>\n",
       "      <th>Kilometer</th>\n",
       "      <td>354369.0</td>\n",
       "      <td>128211.172535</td>\n",
       "      <td>37905.341530</td>\n",
       "      <td>5000.0</td>\n",
       "      <td>125000.0</td>\n",
       "      <td>150000.0</td>\n",
       "      <td>150000.0</td>\n",
       "      <td>150000.0</td>\n",
       "    </tr>\n",
       "    <tr>\n",
       "      <th>RegistrationMonth</th>\n",
       "      <td>354369.0</td>\n",
       "      <td>5.714645</td>\n",
       "      <td>3.726421</td>\n",
       "      <td>0.0</td>\n",
       "      <td>3.0</td>\n",
       "      <td>6.0</td>\n",
       "      <td>9.0</td>\n",
       "      <td>12.0</td>\n",
       "    </tr>\n",
       "    <tr>\n",
       "      <th>NumberOfPictures</th>\n",
       "      <td>354369.0</td>\n",
       "      <td>0.000000</td>\n",
       "      <td>0.000000</td>\n",
       "      <td>0.0</td>\n",
       "      <td>0.0</td>\n",
       "      <td>0.0</td>\n",
       "      <td>0.0</td>\n",
       "      <td>0.0</td>\n",
       "    </tr>\n",
       "    <tr>\n",
       "      <th>PostalCode</th>\n",
       "      <td>354369.0</td>\n",
       "      <td>50508.689087</td>\n",
       "      <td>25783.096248</td>\n",
       "      <td>1067.0</td>\n",
       "      <td>30165.0</td>\n",
       "      <td>49413.0</td>\n",
       "      <td>71083.0</td>\n",
       "      <td>99998.0</td>\n",
       "    </tr>\n",
       "  </tbody>\n",
       "</table>\n",
       "</div>"
      ],
      "text/plain": [
       "                      count           mean           std     min       25%  \\\n",
       "Price              354369.0    4416.656776   4514.158514     0.0    1050.0   \n",
       "RegistrationYear   354369.0    2004.234448     90.227958  1000.0    1999.0   \n",
       "Power              354369.0     110.094337    189.850405     0.0      69.0   \n",
       "Kilometer          354369.0  128211.172535  37905.341530  5000.0  125000.0   \n",
       "RegistrationMonth  354369.0       5.714645      3.726421     0.0       3.0   \n",
       "NumberOfPictures   354369.0       0.000000      0.000000     0.0       0.0   \n",
       "PostalCode         354369.0   50508.689087  25783.096248  1067.0   30165.0   \n",
       "\n",
       "                        50%       75%       max  \n",
       "Price                2700.0    6400.0   20000.0  \n",
       "RegistrationYear     2003.0    2008.0    9999.0  \n",
       "Power                 105.0     143.0   20000.0  \n",
       "Kilometer          150000.0  150000.0  150000.0  \n",
       "RegistrationMonth       6.0       9.0      12.0  \n",
       "NumberOfPictures        0.0       0.0       0.0  \n",
       "PostalCode          49413.0   71083.0   99998.0  "
      ]
     },
     "execution_count": 14,
     "metadata": {},
     "output_type": "execute_result"
    }
   ],
   "source": [
    "auto_data.describe().T"
   ]
  },
  {
   "cell_type": "code",
   "execution_count": 15,
   "metadata": {},
   "outputs": [
    {
     "name": "stdout",
     "output_type": "stream",
     "text": [
      "<class 'pandas.core.frame.DataFrame'>\n",
      "RangeIndex: 354369 entries, 0 to 354368\n",
      "Data columns (total 16 columns):\n",
      " #   Column             Non-Null Count   Dtype \n",
      "---  ------             --------------   ----- \n",
      " 0   DateCrawled        354369 non-null  object\n",
      " 1   Price              354369 non-null  int64 \n",
      " 2   VehicleType        316879 non-null  object\n",
      " 3   RegistrationYear   354369 non-null  int64 \n",
      " 4   Gearbox            334536 non-null  object\n",
      " 5   Power              354369 non-null  int64 \n",
      " 6   Model              334664 non-null  object\n",
      " 7   Kilometer          354369 non-null  int64 \n",
      " 8   RegistrationMonth  354369 non-null  int64 \n",
      " 9   FuelType           321474 non-null  object\n",
      " 10  Brand              354369 non-null  object\n",
      " 11  Repaired           283215 non-null  object\n",
      " 12  DateCreated        354369 non-null  object\n",
      " 13  NumberOfPictures   354369 non-null  int64 \n",
      " 14  PostalCode         354369 non-null  int64 \n",
      " 15  LastSeen           354369 non-null  object\n",
      "dtypes: int64(7), object(9)\n",
      "memory usage: 43.3+ MB\n"
     ]
    }
   ],
   "source": [
    "auto_data.info()"
   ]
  },
  {
   "cell_type": "markdown",
   "metadata": {},
   "source": [
    "**Названия колонок в едином формате, тип данных в колонках соответствуют их логическому наполнению. При дальнейшей подготовке данных для обучения модели, формат столбцов возможно будет изменен**"
   ]
  },
  {
   "cell_type": "markdown",
   "metadata": {},
   "source": [
    "**-----------------------------------------------**"
   ]
  },
  {
   "cell_type": "markdown",
   "metadata": {},
   "source": [
    "**-----------------------------------------------**"
   ]
  },
  {
   "cell_type": "markdown",
   "metadata": {},
   "source": [
    "**Проверим корреляцию признаков между собой**\n",
    "\n",
    "Такие признаки как:\n",
    "* 'NumberOfPictures',\n",
    "* 'DateCrawled',\n",
    "* 'LastSeen',\n",
    "* 'PostalCode',\n",
    "* 'DateCreated'\n",
    "\n",
    "учитывать не будем, так как они не относятся напрямую к обьектам исследования (автомобилям)"
   ]
  },
  {
   "cell_type": "code",
   "execution_count": 16,
   "metadata": {},
   "outputs": [],
   "source": [
    "intervals_cols = ['Price', 'RegistrationYear', 'Power', 'Kilometer']"
   ]
  },
  {
   "cell_type": "code",
   "execution_count": 17,
   "metadata": {
    "scrolled": false
   },
   "outputs": [
    {
     "data": {
      "image/png": "[encoded data removed]",
      "text/plain": [
       "<Figure size 1080x1080 with 1 Axes>"
      ]
     },
     "metadata": {
      "needs_background": "light"
     },
     "output_type": "display_data"
    }
   ],
   "source": [
    "plt.subplots(figsize=(15, 15))\n",
    "plt.title(label = 'Тепловая карта корреляции признаков в auto_data', fontsize=15)\n",
    "sn.heatmap(auto_data.drop(['NumberOfPictures','DateCrawled','LastSeen','PostalCode','DateCreated'],axis=1).phik_matrix(interval_cols=intervals_cols), cmap=\"coolwarm\", cbar=False, annot=True);"
   ]
  },
  {
   "cell_type": "markdown",
   "metadata": {},
   "source": [
    "Наблюдаем очень высокую мультиколлинеарность между такими признаками как \n",
    "* **Brand** и **Model** - 1\n",
    "* **Model** и **VehicleType** - 0.92"
   ]
  },
  {
   "cell_type": "markdown",
   "metadata": {},
   "source": [
    "Тк обе пары объединяет признак Model, то его исключим из данных для работы с моделями"
   ]
  },
  {
   "cell_type": "markdown",
   "metadata": {},
   "source": [
    "**Для работы с моделями и предсказанием цены оставим следующие входящие признаки:**\n",
    "\n",
    "* VehicleType\n",
    "* RegistrationYear\n",
    "* Gearbox\n",
    "* Power\n",
    "* Kilometer\n",
    "* FuelType\n",
    "* Brand\n",
    "* Repaired\n",
    "\n",
    "**Price - остается таргетом**\n",
    "\n",
    "Всего 9 признаков"
   ]
  },
  {
   "cell_type": "code",
   "execution_count": 18,
   "metadata": {},
   "outputs": [],
   "source": [
    "features = ['VehicleType','RegistrationYear','Gearbox','Power','Kilometer','FuelType','Brand','Repaired'] #Создадим список столбцов дадасета, которые будут иметь значение и использоваться для работы с моделями"
   ]
  },
  {
   "cell_type": "markdown",
   "metadata": {},
   "source": [
    "**----------------------------------------------------------**"
   ]
  },
  {
   "cell_type": "markdown",
   "metadata": {},
   "source": [
    "**----------------------------------------------------------**"
   ]
  },
  {
   "cell_type": "markdown",
   "metadata": {},
   "source": [
    "### 2.1 Явные дубликаты"
   ]
  },
  {
   "cell_type": "code",
   "execution_count": 19,
   "metadata": {},
   "outputs": [
    {
     "data": {
      "text/plain": [
       "4"
      ]
     },
     "execution_count": 19,
     "metadata": {},
     "output_type": "execute_result"
    }
   ],
   "source": [
    "auto_data.duplicated().sum()"
   ]
  },
  {
   "cell_type": "code",
   "execution_count": 20,
   "metadata": {},
   "outputs": [],
   "source": [
    "auto_data.drop_duplicates(inplace=True, keep='first')"
   ]
  },
  {
   "cell_type": "code",
   "execution_count": 21,
   "metadata": {},
   "outputs": [
    {
     "data": {
      "text/plain": [
       "0"
      ]
     },
     "execution_count": 21,
     "metadata": {},
     "output_type": "execute_result"
    }
   ],
   "source": [
    "auto_data.duplicated().sum()"
   ]
  },
  {
   "cell_type": "markdown",
   "metadata": {},
   "source": [
    "**В датасете присутствовало 4 явных дубликата, которые были удалены**"
   ]
  },
  {
   "cell_type": "markdown",
   "metadata": {},
   "source": [
    "**----------------------------------------------------------**"
   ]
  },
  {
   "cell_type": "markdown",
   "metadata": {},
   "source": [
    "**----------------------------------------------------------**"
   ]
  },
  {
   "cell_type": "markdown",
   "metadata": {},
   "source": [
    "### 2.2 Пропуски"
   ]
  },
  {
   "cell_type": "markdown",
   "metadata": {},
   "source": [
    "**Проверим пропуски в датасете и анамальные значения**"
   ]
  },
  {
   "cell_type": "code",
   "execution_count": 22,
   "metadata": {},
   "outputs": [],
   "source": [
    "miss_list = [] #Создадим список в который занесем названия \"неполных\" колонок"
   ]
  },
  {
   "cell_type": "code",
   "execution_count": 23,
   "metadata": {},
   "outputs": [
    {
     "name": "stdout",
     "output_type": "stream",
     "text": [
      "Колонка VehicleType\n",
      "Количество пропусков 37490\n",
      "Процент пропусков 10.58%\n",
      "Количество уникальных значений 9\n",
      "\n",
      "Колонка RegistrationYear\n",
      "Количество пропусков 0\n",
      "Процент пропусков 0.0%\n",
      "Количество уникальных значений 151\n",
      "\n",
      "Колонка Gearbox\n",
      "Количество пропусков 19833\n",
      "Процент пропусков 5.6%\n",
      "Количество уникальных значений 3\n",
      "\n",
      "Колонка Power\n",
      "Количество пропусков 0\n",
      "Процент пропусков 0.0%\n",
      "Количество уникальных значений 712\n",
      "\n",
      "Колонка Kilometer\n",
      "Количество пропусков 0\n",
      "Процент пропусков 0.0%\n",
      "Количество уникальных значений 13\n",
      "\n",
      "Колонка FuelType\n",
      "Количество пропусков 32895\n",
      "Процент пропусков 9.28%\n",
      "Количество уникальных значений 8\n",
      "\n",
      "Колонка Brand\n",
      "Количество пропусков 0\n",
      "Процент пропусков 0.0%\n",
      "Количество уникальных значений 40\n",
      "\n",
      "Колонка Repaired\n",
      "Количество пропусков 71154\n",
      "Процент пропусков 20.08%\n",
      "Количество уникальных значений 3\n",
      "\n",
      "Колонка Price\n",
      "Количество пропусков 0\n",
      "Процент пропусков 0.0%\n",
      "Количество уникальных значений 3731\n",
      "\n"
     ]
    }
   ],
   "source": [
    "for col in ['VehicleType','RegistrationYear','Gearbox','Power','Kilometer','FuelType','Brand','Repaired','Price']:\n",
    "    col_miss_val = auto_data[col].isna().sum()\n",
    "    if col_miss_val > 0:\n",
    "        miss_list.append(col)\n",
    "    print(f'Колонка {col}')\n",
    "    print(f'Количество пропусков {col_miss_val}')\n",
    "    print(f'Процент пропусков {round(auto_data[col].isna().mean() * 100,2)}%')\n",
    "    print(f'Количество уникальных значений {len(auto_data[col].unique())}\\n')"
   ]
  },
  {
   "cell_type": "markdown",
   "metadata": {},
   "source": [
    "**Столбцы с пропусками:**"
   ]
  },
  {
   "cell_type": "code",
   "execution_count": 24,
   "metadata": {},
   "outputs": [
    {
     "data": {
      "text/plain": [
       "['VehicleType', 'Gearbox', 'FuelType', 'Repaired']"
      ]
     },
     "execution_count": 24,
     "metadata": {},
     "output_type": "execute_result"
    }
   ],
   "source": [
    "miss_list"
   ]
  },
  {
   "cell_type": "markdown",
   "metadata": {},
   "source": [
    "**----------------------------------------------------------**"
   ]
  },
  {
   "cell_type": "markdown",
   "metadata": {},
   "source": [
    "**----------------------------------------------------------**"
   ]
  },
  {
   "cell_type": "markdown",
   "metadata": {},
   "source": [
    "### Repaired"
   ]
  },
  {
   "cell_type": "code",
   "execution_count": 25,
   "metadata": {},
   "outputs": [
    {
     "data": {
      "text/plain": [
       "array([nan, 'yes', 'no'], dtype=object)"
      ]
     },
     "execution_count": 25,
     "metadata": {},
     "output_type": "execute_result"
    }
   ],
   "source": [
    "auto_data['Repaired'].unique()"
   ]
  },
  {
   "cell_type": "markdown",
   "metadata": {},
   "source": [
    "Колонка Repaired содержит больше 20% пропусков, слишком большое количество пропусков для удаления данных. Предположим, что при отсутствии ремонта, человек заполняющий данные об авто просто пропускал этот столбец. Следовательно все значения nan заменим на **no**"
   ]
  },
  {
   "cell_type": "code",
   "execution_count": 26,
   "metadata": {},
   "outputs": [],
   "source": [
    "auto_data['Repaired'] = auto_data['Repaired'].fillna('maybe')"
   ]
  },
  {
   "cell_type": "code",
   "execution_count": 27,
   "metadata": {},
   "outputs": [
    {
     "data": {
      "text/plain": [
       "array(['maybe', 'yes', 'no'], dtype=object)"
      ]
     },
     "execution_count": 27,
     "metadata": {},
     "output_type": "execute_result"
    }
   ],
   "source": [
    "auto_data['Repaired'].unique()"
   ]
  },
  {
   "cell_type": "code",
   "execution_count": 28,
   "metadata": {},
   "outputs": [
    {
     "data": {
      "text/plain": [
       "0"
      ]
     },
     "execution_count": 28,
     "metadata": {},
     "output_type": "execute_result"
    }
   ],
   "source": [
    "auto_data['Repaired'].isna().sum()"
   ]
  },
  {
   "cell_type": "code",
   "execution_count": 29,
   "metadata": {},
   "outputs": [
    {
     "data": {
      "image/png": "[encoded data removed]",
      "text/plain": [
       "<Figure size 864x432 with 1 Axes>"
      ]
     },
     "metadata": {
      "needs_background": "light"
     },
     "output_type": "display_data"
    },
    {
     "name": "stdout",
     "output_type": "stream",
     "text": [
      "no       0.697467\n",
      "maybe    0.200793\n",
      "yes      0.101740\n",
      "Name: Repaired, dtype: float64\n",
      "no       247158\n",
      "maybe     71154\n",
      "yes       36053\n",
      "Name: Repaired, dtype: int64\n",
      "\n",
      "\n"
     ]
    }
   ],
   "source": [
    "cat_col_analiz(auto_data, 'Repaired')"
   ]
  },
  {
   "cell_type": "markdown",
   "metadata": {},
   "source": [
    "**----------------------------------------------------------**"
   ]
  },
  {
   "cell_type": "markdown",
   "metadata": {},
   "source": [
    "### Brand"
   ]
  },
  {
   "cell_type": "code",
   "execution_count": 30,
   "metadata": {},
   "outputs": [
    {
     "data": {
      "text/plain": [
       "array(['volkswagen', 'audi', 'jeep', 'skoda', 'bmw', 'peugeot', 'ford',\n",
       "       'mazda', 'nissan', 'renault', 'mercedes_benz', 'opel', 'seat',\n",
       "       'citroen', 'honda', 'fiat', 'mini', 'smart', 'hyundai',\n",
       "       'sonstige_autos', 'alfa_romeo', 'subaru', 'volvo', 'mitsubishi',\n",
       "       'kia', 'suzuki', 'lancia', 'toyota', 'chevrolet', 'dacia',\n",
       "       'daihatsu', 'trabant', 'saab', 'chrysler', 'jaguar', 'daewoo',\n",
       "       'porsche', 'rover', 'land_rover', 'lada'], dtype=object)"
      ]
     },
     "execution_count": 30,
     "metadata": {},
     "output_type": "execute_result"
    }
   ],
   "source": [
    "auto_data['Brand'].unique()"
   ]
  },
  {
   "cell_type": "markdown",
   "metadata": {},
   "source": [
    "Пропусков нет, значний типа nan тоже нет. Все впорядке"
   ]
  },
  {
   "cell_type": "markdown",
   "metadata": {},
   "source": [
    "### FuelType"
   ]
  },
  {
   "cell_type": "code",
   "execution_count": 31,
   "metadata": {},
   "outputs": [
    {
     "data": {
      "text/plain": [
       "array(['petrol', 'gasoline', nan, 'lpg', 'other', 'hybrid', 'cng',\n",
       "       'electric'], dtype=object)"
      ]
     },
     "execution_count": 31,
     "metadata": {},
     "output_type": "execute_result"
    }
   ],
   "source": [
    "auto_data['FuelType'].unique()"
   ]
  },
  {
   "cell_type": "markdown",
   "metadata": {},
   "source": [
    "petrol и gasoline это одно и тоже топливо, приведем к единому стандарту"
   ]
  },
  {
   "cell_type": "code",
   "execution_count": 32,
   "metadata": {},
   "outputs": [],
   "source": [
    "auto_data['FuelType'] = auto_data['FuelType'].replace('gasoline','petrol')"
   ]
  },
  {
   "cell_type": "markdown",
   "metadata": {},
   "source": [
    "**Как мы помним в столбце FuelType 9.28% пропусков. Заполним их по моде для каждой модели**"
   ]
  },
  {
   "cell_type": "code",
   "execution_count": 33,
   "metadata": {
    "scrolled": false
   },
   "outputs": [],
   "source": [
    "brands = auto_data['Brand'].unique().tolist()"
   ]
  },
  {
   "cell_type": "markdown",
   "metadata": {},
   "source": [
    "**Пропуски в моделях заполним по моде для каждого конкретного бренда**\n",
    "\n",
    "Если для бренда неизвестно ниодной модели, то заменим значение NaN на Unknown"
   ]
  },
  {
   "cell_type": "code",
   "execution_count": 34,
   "metadata": {
    "scrolled": false
   },
   "outputs": [],
   "source": [
    "for brand in brands:\n",
    "    x_mode = auto_data[auto_data['Brand']==brand]['Model'].mode()\n",
    "    try:\n",
    "        auto_data.loc[(auto_data['Model'].isna()) & (auto_data['Brand']==brand),'Model'] = x_mode[0]\n",
    "    except:\n",
    "        auto_data.loc[(auto_data['Model'].isna())&(auto_data['Brand']==brand),'Model'] = 'unknown'"
   ]
  },
  {
   "cell_type": "code",
   "execution_count": 35,
   "metadata": {},
   "outputs": [
    {
     "data": {
      "text/plain": [
       "0"
      ]
     },
     "execution_count": 35,
     "metadata": {},
     "output_type": "execute_result"
    }
   ],
   "source": [
    "auto_data['Model'].isna().sum()"
   ]
  },
  {
   "cell_type": "markdown",
   "metadata": {},
   "source": [
    "**Пропусков в Моделях больше нет**"
   ]
  },
  {
   "cell_type": "markdown",
   "metadata": {},
   "source": [
    "**---------------------------------------------**"
   ]
  },
  {
   "cell_type": "markdown",
   "metadata": {},
   "source": [
    "**---------------------------------------------**"
   ]
  },
  {
   "cell_type": "markdown",
   "metadata": {},
   "source": [
    "**Заполним пропуски в типе топлива по моде для каждой конкретной модели**\n",
    "\n",
    "Если для модели неизвестно ниодного типа топлива, то заменим пропуск на unknown"
   ]
  },
  {
   "cell_type": "code",
   "execution_count": 36,
   "metadata": {},
   "outputs": [],
   "source": [
    "models = auto_data['Model'].unique().tolist()"
   ]
  },
  {
   "cell_type": "code",
   "execution_count": 37,
   "metadata": {},
   "outputs": [],
   "source": [
    "for model in models:\n",
    "    x_mode = auto_data[auto_data['Model']==model]['FuelType'].mode()\n",
    "    try:\n",
    "        auto_data.loc[(auto_data['FuelType'].isna()) & (auto_data['Model']==model),'FuelType'] = x_mode[0]\n",
    "    except:\n",
    "        auto_data.loc[(auto_data['FuelType'].isna()) & (auto_data['Model']==model),'FuelType'] = 'unknown'"
   ]
  },
  {
   "cell_type": "code",
   "execution_count": 38,
   "metadata": {},
   "outputs": [
    {
     "data": {
      "text/plain": [
       "array(['petrol', 'lpg', 'other', 'hybrid', 'cng', 'electric'],\n",
       "      dtype=object)"
      ]
     },
     "execution_count": 38,
     "metadata": {},
     "output_type": "execute_result"
    }
   ],
   "source": [
    "auto_data['FuelType'].unique()"
   ]
  },
  {
   "cell_type": "markdown",
   "metadata": {},
   "source": [
    "**Пропусков в типе топлива больше нет**"
   ]
  },
  {
   "cell_type": "code",
   "execution_count": 39,
   "metadata": {},
   "outputs": [
    {
     "data": {
      "image/png": "[encoded data removed]",
      "text/plain": [
       "<Figure size 864x432 with 1 Axes>"
      ]
     },
     "metadata": {
      "needs_background": "light"
     },
     "output_type": "display_data"
    },
    {
     "name": "stdout",
     "output_type": "stream",
     "text": [
      "petrol      0.981934\n",
      "lpg         0.014985\n",
      "cng         0.001594\n",
      "hybrid      0.000658\n",
      "other       0.000576\n",
      "electric    0.000254\n",
      "Name: FuelType, dtype: float64\n",
      "petrol      347963\n",
      "lpg           5310\n",
      "cng            565\n",
      "hybrid         233\n",
      "other          204\n",
      "electric        90\n",
      "Name: FuelType, dtype: int64\n",
      "\n",
      "\n"
     ]
    }
   ],
   "source": [
    "cat_col_analiz(auto_data, 'FuelType')"
   ]
  },
  {
   "cell_type": "markdown",
   "metadata": {},
   "source": [
    "**---------------------------------------------**"
   ]
  },
  {
   "cell_type": "markdown",
   "metadata": {},
   "source": [
    "**---------------------------------------------**"
   ]
  },
  {
   "cell_type": "markdown",
   "metadata": {},
   "source": [
    "### Gearbox"
   ]
  },
  {
   "cell_type": "code",
   "execution_count": 40,
   "metadata": {},
   "outputs": [
    {
     "data": {
      "text/plain": [
       "array(['manual', 'auto', nan], dtype=object)"
      ]
     },
     "execution_count": 40,
     "metadata": {},
     "output_type": "execute_result"
    }
   ],
   "source": [
    "auto_data['Gearbox'].unique()"
   ]
  },
  {
   "cell_type": "code",
   "execution_count": 41,
   "metadata": {},
   "outputs": [
    {
     "data": {
      "image/png": "[encoded data removed]",
      "text/plain": [
       "<Figure size 864x432 with 1 Axes>"
      ]
     },
     "metadata": {
      "needs_background": "light"
     },
     "output_type": "display_data"
    },
    {
     "name": "stdout",
     "output_type": "stream",
     "text": [
      "manual    0.801863\n",
      "auto      0.198137\n",
      "Name: Gearbox, dtype: float64\n",
      "manual    268249\n",
      "auto       66283\n",
      "Name: Gearbox, dtype: int64\n",
      "\n",
      "\n"
     ]
    }
   ],
   "source": [
    "cat_col_analiz(auto_data, 'Gearbox')"
   ]
  },
  {
   "cell_type": "markdown",
   "metadata": {},
   "source": [
    "**Как мы знаем, в Gearbox 5.6% пропусков**\n",
    "\n",
    "Заполним так же по моде для каждой модели, если для модели неизвестен тип коробки, поставим значение uknown"
   ]
  },
  {
   "cell_type": "code",
   "execution_count": 42,
   "metadata": {},
   "outputs": [],
   "source": [
    "for model in models:\n",
    "    x_mode = auto_data[auto_data['Model']==model]['Gearbox'].mode()\n",
    "    try:\n",
    "        auto_data.loc[(auto_data['Gearbox'].isna()) & (auto_data['Model']==model),'Gearbox'] = x_mode[0]\n",
    "    except:\n",
    "        auto_data.loc[(auto_data['Gearbox'].isna()) & (auto_data['Model']==model),'Gearbox'] = 'unknown'"
   ]
  },
  {
   "cell_type": "code",
   "execution_count": 43,
   "metadata": {},
   "outputs": [
    {
     "data": {
      "text/plain": [
       "0"
      ]
     },
     "execution_count": 43,
     "metadata": {},
     "output_type": "execute_result"
    }
   ],
   "source": [
    "auto_data['Gearbox'].isna().sum()"
   ]
  },
  {
   "cell_type": "markdown",
   "metadata": {},
   "source": [
    "**Пропусков в Gearbox больше нет**"
   ]
  },
  {
   "cell_type": "markdown",
   "metadata": {},
   "source": [
    "**------------------------------------------------**"
   ]
  },
  {
   "cell_type": "markdown",
   "metadata": {},
   "source": [
    "**-------------------------------------------------**"
   ]
  },
  {
   "cell_type": "markdown",
   "metadata": {},
   "source": [
    "### VehicleType"
   ]
  },
  {
   "cell_type": "code",
   "execution_count": 44,
   "metadata": {},
   "outputs": [
    {
     "data": {
      "text/plain": [
       "array([nan, 'coupe', 'suv', 'small', 'sedan', 'convertible', 'bus',\n",
       "       'wagon', 'other'], dtype=object)"
      ]
     },
     "execution_count": 44,
     "metadata": {},
     "output_type": "execute_result"
    }
   ],
   "source": [
    "auto_data['VehicleType'].unique()"
   ]
  },
  {
   "cell_type": "code",
   "execution_count": 45,
   "metadata": {},
   "outputs": [
    {
     "data": {
      "image/png": "[encoded data removed]",
      "text/plain": [
       "<Figure size 864x432 with 1 Axes>"
      ]
     },
     "metadata": {
      "needs_background": "light"
     },
     "output_type": "display_data"
    },
    {
     "name": "stdout",
     "output_type": "stream",
     "text": [
      "sedan          0.288622\n",
      "small          0.251929\n",
      "wagon          0.205649\n",
      "bus            0.090809\n",
      "convertible    0.063757\n",
      "coupe          0.051001\n",
      "suv            0.037857\n",
      "other          0.010376\n",
      "Name: VehicleType, dtype: float64\n",
      "sedan          91457\n",
      "small          79830\n",
      "wagon          65165\n",
      "bus            28775\n",
      "convertible    20203\n",
      "coupe          16161\n",
      "suv            11996\n",
      "other           3288\n",
      "Name: VehicleType, dtype: int64\n",
      "\n",
      "\n"
     ]
    }
   ],
   "source": [
    "cat_col_analiz(auto_data, 'VehicleType')"
   ]
  },
  {
   "cell_type": "markdown",
   "metadata": {},
   "source": [
    "**Как мы знаем в VehicleType 10.58% пропусков, заполним признак по аналогии с предыдущими**"
   ]
  },
  {
   "cell_type": "code",
   "execution_count": 46,
   "metadata": {},
   "outputs": [],
   "source": [
    "for model in models:\n",
    "    x_mode = auto_data[auto_data['Model']==model]['VehicleType'].mode()\n",
    "    try:\n",
    "        auto_data.loc[(auto_data['VehicleType'].isna()) & (auto_data['Model']==model),'VehicleType'] = x_mode[0]\n",
    "    except:\n",
    "        auto_data.loc[(auto_data['VehicleType'].isna()) & (auto_data['Model']==model),'VehicleType'] = 'unknown'"
   ]
  },
  {
   "cell_type": "code",
   "execution_count": 47,
   "metadata": {},
   "outputs": [
    {
     "data": {
      "text/plain": [
       "0"
      ]
     },
     "execution_count": 47,
     "metadata": {},
     "output_type": "execute_result"
    }
   ],
   "source": [
    "auto_data['VehicleType'].isna().sum()"
   ]
  },
  {
   "cell_type": "markdown",
   "metadata": {},
   "source": [
    "**Пропусков в Gearbox больше нет**"
   ]
  },
  {
   "cell_type": "markdown",
   "metadata": {},
   "source": [
    "**------------------------------------------------**"
   ]
  },
  {
   "cell_type": "markdown",
   "metadata": {},
   "source": [
    "**------------------------------------------------**"
   ]
  },
  {
   "cell_type": "markdown",
   "metadata": {},
   "source": [
    "### Все пропуски закончились. Ниже исследуются признаки, в которых нет пропусков, но могут быть аномальные данные"
   ]
  },
  {
   "cell_type": "markdown",
   "metadata": {},
   "source": [
    "### 2.3 Аномальные значения"
   ]
  },
  {
   "cell_type": "markdown",
   "metadata": {},
   "source": [
    "### RegistrationYear"
   ]
  },
  {
   "cell_type": "code",
   "execution_count": 48,
   "metadata": {
    "scrolled": true
   },
   "outputs": [
    {
     "data": {
      "image/png": "[encoded data removed]",
      "text/plain": [
       "<Figure size 720x144 with 1 Axes>"
      ]
     },
     "metadata": {
      "needs_background": "light"
     },
     "output_type": "display_data"
    },
    {
     "name": "stdout",
     "output_type": "stream",
     "text": [
      "count    354365.000000\n",
      "mean       2004.234481\n",
      "std          90.228466\n",
      "min        1000.000000\n",
      "25%        1999.000000\n",
      "50%        2003.000000\n",
      "75%        2008.000000\n",
      "max        9999.000000\n",
      "Name: RegistrationYear, dtype: float64\n",
      "\n",
      "\n",
      "Выбросы ниже нормальных значений: \n",
      "Количество выбросов: 6204 \n",
      "Процент выбросов: 1.75 %\n",
      "\n",
      "\n",
      "Выбросы выше нормальных значений: \n",
      "Количество выбросов: 105 \n",
      "Процент выбросов: 0.03 %\n",
      "\n",
      "\n",
      "Выбросы ниже нормальных значений: [1000, 1000, 1000, 1000, 1000, 1000, 1000, 1000, 1000, 1000, 1000, 1000, 1000, 1000, 1000, 1000, 1000, 1000, 1000, 1000, 1000, 1000, 1000, 1000, 1000, 1000, 1000, 1000, 1000, 1000, 1000, 1000, 1000, 1000, 1000, 1000, 1000, 1001, 1039, 1111, 1111, 1111, 1200, 1234, 1234, 1234, 1234, 1253, 1255, 1300, 1300, 1400, 1500, 1500, 1500, 1500, 1500, 1600, 1600, 1602, 1688, 1800, 1800, 1800, 1800, 1800, 1910, 1910, 1910, 1910, 1910, 1910, 1910, 1910, 1910, 1910, 1910, 1910, 1910, 1910, 1910, 1910, 1910, 1910, 1910, 1910, 1910, 1910, 1910, 1910, 1910, 1910, 1910, 1910, 1910, 1910, 1910, 1910, 1910, 1910, 1910, 1910, 1910, 1910, 1910, 1910, 1910, 1910, 1910, 1910, 1910, 1910, 1910, 1910, 1910, 1910, 1910, 1910, 1910, 1910, 1910, 1910, 1910, 1910, 1910, 1910, 1910, 1910, 1910, 1910, 1910, 1910, 1910, 1910, 1910, 1910, 1910, 1910, 1910, 1910, 1910, 1910, 1910, 1910, 1910, 1910, 1910, 1910, 1910, 1910, 1910, 1910, 1910, 1910, 1910, 1910, 1910, 1910, 1910, 1910, 1910, 1910, 1910, 1910, 1910, 1910, 1910, 1915, 1919, 1920, 1923, 1923, 1925, 1927, 1928, 1928, 1929, 1929, 1929, 1929, 1929, 1929, 1929, 1930, 1930, 1930, 1931, 1932, 1932, 1932, 1933, 1933, 1933, 1934, 1934, 1934, 1935, 1935, 1935, 1935, 1936, 1936, 1936, 1937, 1937, 1937, 1937, 1937, 1937, 1937, 1937, 1937, 1937, 1937, 1938, 1938, 1938, 1938, 1938, 1938, 1938, 1938, 1940, 1940, 1941, 1941, 1942, 1942, 1942, 1943, 1943, 1943, 1943, 1944, 1944, 1945, 1945, 1945, 1945, 1946, 1947, 1947, 1948, 1948, 1948, 1949, 1950, 1950, 1950, 1950, 1950, 1950, 1950, 1950, 1950, 1950, 1950, 1950, 1950, 1950, 1950, 1950, 1950, 1950, 1951, 1951, 1951, 1951, 1951, 1951, 1951, 1951, 1951, 1951, 1951, 1951, 1952, 1952, 1952, 1952, 1952, 1952, 1952, 1952, 1952, 1953, 1953, 1953, 1953, 1953, 1953, 1953, 1953, 1953, 1953, 1953, 1953, 1953, 1953, 1954, 1954, 1954, 1954, 1954, 1954, 1954, 1954, 1954, 1954, 1954, 1955, 1955, 1955, 1955, 1955, 1955, 1955, 1955, 1955, 1955, 1955, 1955, 1955, 1955, 1955, 1956, 1956, 1956, 1956, 1956, 1956, 1956, 1956, 1956, 1956, 1956, 1956, 1956, 1956, 1956, 1956, 1956, 1956, 1956, 1956, 1956, 1956, 1956, 1956, 1956, 1956, 1956, 1957, 1957, 1957, 1957, 1957, 1957, 1957, 1957, 1957, 1957, 1957, 1957, 1957, 1958, 1958, 1958, 1958, 1958, 1958, 1958, 1958, 1958, 1958, 1958, 1958, 1958, 1958, 1958, 1958, 1958, 1958, 1958, 1958, 1958, 1958, 1958, 1958, 1958, 1959, 1959, 1959, 1959, 1959, 1959, 1959, 1959, 1959, 1959, 1959, 1959, 1959, 1959, 1959, 1959, 1959, 1959, 1959, 1959, 1959, 1959, 1959, 1959, 1959, 1959, 1959, 1959, 1959, 1959, 1959, 1959, 1960, 1960, 1960, 1960, 1960, 1960, 1960, 1960, 1960, 1960, 1960, 1960, 1960, 1960, 1960, 1960, 1960, 1960, 1960, 1960, 1960, 1960, 1960, 1960, 1960, 1960, 1960, 1960, 1960, 1960, 1960, 1960, 1960, 1960, 1960, 1960, 1960, 1960, 1960, 1960, 1960, 1960, 1960, 1960, 1960, 1960, 1960, 1960, 1960, 1960, 1960, 1960, 1960, 1960, 1960, 1960, 1960, 1960, 1960, 1960, 1960, 1960, 1960, 1960, 1960, 1960, 1960, 1960, 1960, 1960, 1960, 1960, 1960, 1960, 1960, 1960, 1960, 1960, 1960, 1960, 1960, 1960, 1960, 1960, 1960, 1960, 1960, 1960, 1960, 1960, 1960, 1960, 1960, 1960, 1960, 1960, 1960, 1960, 1960, 1960, 1960, 1960, 1960, 1960, 1960, 1960, 1960, 1960, 1960, 1960, 1960, 1960, 1960, 1960, 1960, 1960, 1960, 1960, 1960, 1960, 1960, 1960, 1960, 1960, 1960, 1960, 1960, 1960, 1960, 1960, 1960, 1960, 1960, 1960, 1960, 1960, 1960, 1960, 1960, 1960, 1960, 1960, 1960, 1960, 1960, 1960, 1960, 1960, 1960, 1960, 1960, 1960, 1960, 1960, 1960, 1960, 1960, 1960, 1960, 1960, 1960, 1960, 1960, 1960, 1960, 1960, 1960, 1960, 1960, 1960, 1960, 1960, 1960, 1960, 1960, 1960, 1960, 1960, 1960, 1960, 1960, 1960, 1960, 1960, 1960, 1960, 1960, 1960, 1961, 1961, 1961, 1961, 1961, 1961, 1961, 1961, 1961, 1961, 1961, 1961, 1961, 1961, 1961, 1961, 1961, 1961, 1961, 1961, 1961, 1961, 1961, 1961, 1961, 1961, 1961, 1961, 1961, 1961, 1961, 1961, 1961, 1961, 1961, 1961, 1961, 1961, 1961, 1961, 1961, 1962, 1962, 1962, 1962, 1962, 1962, 1962, 1962, 1962, 1962, 1962, 1962, 1962, 1962, 1962, 1962, 1962, 1962, 1962, 1962, 1962, 1962, 1962, 1962, 1962, 1962, 1962, 1962, 1962, 1962, 1962, 1962, 1962, 1962, 1962, 1962, 1962, 1962, 1962, 1962, 1962, 1962, 1962, 1962, 1962, 1962, 1963, 1963, 1963, 1963, 1963, 1963, 1963, 1963, 1963, 1963, 1963, 1963, 1963, 1963, 1963, 1963, 1963, 1963, 1963, 1963, 1963, 1963, 1963, 1963, 1963, 1963, 1963, 1963, 1963, 1963, 1963, 1963, 1963, 1963, 1963, 1963, 1963, 1963, 1963, 1963, 1963, 1963, 1963, 1963, 1963, 1963, 1963, 1963, 1963, 1963, 1963, 1963, 1963, 1963, 1963, 1963, 1963, 1964, 1964, 1964, 1964, 1964, 1964, 1964, 1964, 1964, 1964, 1964, 1964, 1964, 1964, 1964, 1964, 1964, 1964, 1964, 1964, 1964, 1964, 1964, 1964, 1964, 1964, 1964, 1964, 1964, 1964, 1964, 1964, 1964, 1964, 1964, 1964, 1964, 1964, 1964, 1964, 1964, 1964, 1964, 1964, 1964, 1964, 1964, 1964, 1964, 1964, 1964, 1964, 1964, 1964, 1964, 1964, 1964, 1964, 1964, 1964, 1964, 1964, 1964, 1964, 1965, 1965, 1965, 1965, 1965, 1965, 1965, 1965, 1965, 1965, 1965, 1965, 1965, 1965, 1965, 1965, 1965, 1965, 1965, 1965, 1965, 1965, 1965, 1965, 1965, 1965, 1965, 1965, 1965, 1965, 1965, 1965, 1965, 1965, 1965, 1965, 1965, 1965, 1965, 1965, 1965, 1965, 1965, 1965, 1965, 1965, 1965, 1965, 1965, 1965, 1965, 1965, 1965, 1965, 1965, 1965, 1965, 1965, 1965, 1965, 1965, 1965, 1965, 1965, 1965, 1965, 1965, 1965, 1965, 1965, 1965, 1965, 1965, 1965, 1965, 1965, 1965, 1965, 1965, 1965, 1965, 1965, 1966, 1966, 1966, 1966, 1966, 1966, 1966, 1966, 1966, 1966, 1966, 1966, 1966, 1966, 1966, 1966, 1966, 1966, 1966, 1966, 1966, 1966, 1966, 1966, 1966, 1966, 1966, 1966, 1966, 1966, 1966, 1966, 1966, 1966, 1966, 1966, 1966, 1966, 1966, 1966, 1966, 1966, 1966, 1966, 1966, 1966, 1966, 1966, 1966, 1966, 1966, 1966, 1966, 1966, 1966, 1966, 1966, 1966, 1966, 1966, 1966, 1966, 1966, 1966, 1966, 1966, 1966, 1966, 1966, 1966, 1966, 1966, 1966, 1966, 1966, 1966, 1966, 1966, 1966, 1966, 1966, 1966, 1966, 1966, 1966, 1966, 1966, 1966, 1966, 1966, 1966, 1966, 1966, 1966, 1966, 1966, 1966, 1966, 1966, 1966, 1966, 1966, 1966, 1966, 1966, 1966, 1966, 1966, 1966, 1966, 1966, 1966, 1966, 1967, 1967, 1967, 1967, 1967, 1967, 1967, 1967, 1967, 1967, 1967, 1967, 1967, 1967, 1967, 1967, 1967, 1967, 1967, 1967, 1967, 1967, 1967, 1967, 1967, 1967, 1967, 1967, 1967, 1967, 1967, 1967, 1967, 1967, 1967, 1967, 1967, 1967, 1967, 1967, 1967, 1967, 1967, 1967, 1967, 1967, 1967, 1967, 1967, 1967, 1967, 1967, 1967, 1967, 1967, 1967, 1967, 1967, 1967, 1967, 1967, 1967, 1967, 1967, 1967, 1967, 1967, 1967, 1967, 1967, 1967, 1967, 1967, 1967, 1967, 1967, 1967, 1967, 1967, 1967, 1967, 1967, 1967, 1967, 1967, 1967, 1967, 1967, 1967, 1967, 1967, 1967, 1967, 1967, 1967, 1967, 1967, 1967, 1967, 1968, 1968, 1968, 1968, 1968, 1968, 1968, 1968, 1968, 1968, 1968, 1968, 1968, 1968, 1968, 1968, 1968, 1968, 1968, 1968, 1968, 1968, 1968, 1968, 1968, 1968, 1968, 1968, 1968, 1968, 1968, 1968, 1968, 1968, 1968, 1968, 1968, 1968, 1968, 1968, 1968, 1968, 1968, 1968, 1968, 1968, 1968, 1968, 1968, 1968, 1968, 1968, 1968, 1968, 1968, 1968, 1968, 1968, 1968, 1968, 1968, 1968, 1968, 1968, 1968, 1968, 1968, 1968, 1968, 1968, 1968, 1968, 1968, 1968, 1968, 1968, 1968, 1968, 1968, 1968, 1968, 1968, 1968, 1968, 1968, 1968, 1968, 1968, 1968, 1968, 1968, 1968, 1968, 1968, 1968, 1968, 1968, 1968, 1968, 1968, 1968, 1968, 1968, 1968, 1968, 1968, 1968, 1968, 1969, 1969, 1969, 1969, 1969, 1969, 1969, 1969, 1969, 1969, 1969, 1969, 1969, 1969, 1969, 1969, 1969, 1969, 1969, 1969, 1969, 1969, 1969, 1969, 1969, 1969, 1969, 1969, 1969, 1969, 1969, 1969, 1969, 1969, 1969, 1969, 1969, 1969, 1969, 1969, 1969, 1969, 1969, 1969, 1969, 1969, 1969, 1969, 1969, 1969, 1969, 1969, 1969, 1969, 1969, 1969, 1969, 1969, 1969, 1969, 1969, 1969, 1969, 1969, 1969, 1969, 1969, 1969, 1969, 1969, 1969, 1969, 1969, 1969, 1969, 1969, 1969, 1969, 1969, 1969, 1969, 1969, 1969, 1969, 1969, 1969, 1969, 1969, 1969, 1969, 1969, 1969, 1969, 1969, 1969, 1969, 1969, 1969, 1969, 1969, 1969, 1969, 1969, 1969, 1969, 1969, 1969, 1969, 1969, 1969, 1969, 1969, 1969, 1969, 1969, 1969, 1969, 1969, 1970, 1970, 1970, 1970, 1970, 1970, 1970, 1970, 1970, 1970, 1970, 1970, 1970, 1970, 1970, 1970, 1970, 1970, 1970, 1970, 1970, 1970, 1970, 1970, 1970, 1970, 1970, 1970, 1970, 1970, 1970, 1970, 1970, 1970, 1970, 1970, 1970, 1970, 1970, 1970, 1970, 1970, 1970, 1970, 1970, 1970, 1970, 1970, 1970, 1970, 1970, 1970, 1970, 1970, 1970, 1970, 1970, 1970, 1970, 1970, 1970, 1970, 1970, 1970, 1970, 1970, 1970, 1970, 1970, 1970, 1970, 1970, 1970, 1970, 1970, 1970, 1970, 1970, 1970, 1970, 1970, 1970, 1970, 1970, 1970, 1970, 1970, 1970, 1970, 1970, 1970, 1970, 1970, 1970, 1970, 1970, 1970, 1970, 1970, 1970, 1970, 1970, 1970, 1970, 1970, 1970, 1970, 1970, 1970, 1970, 1970, 1970, 1970, 1970, 1970, 1970, 1970, 1970, 1970, 1970, 1970, 1970, 1970, 1970, 1970, 1970, 1970, 1970, 1970, 1970, 1970, 1970, 1970, 1970, 1970, 1970, 1970, 1970, 1970, 1970, 1970, 1970, 1970, 1970, 1970, 1970, 1970, 1970, 1970, 1970, 1970, 1970, 1970, 1970, 1970, 1970, 1970, 1970, 1970, 1970, 1970, 1970, 1970, 1970, 1970, 1970, 1970, 1970, 1970, 1970, 1970, 1970, 1970, 1970, 1970, 1970, 1970, 1970, 1970, 1970, 1970, 1970, 1970, 1970, 1970, 1970, 1970, 1970, 1970, 1970, 1970, 1970, 1970, 1970, 1970, 1970, 1970, 1970, 1970, 1970, 1970, 1970, 1970, 1970, 1970, 1970, 1970, 1970, 1970, 1970, 1970, 1970, 1970, 1970, 1970, 1970, 1970, 1970, 1970, 1970, 1970, 1970, 1970, 1970, 1970, 1970, 1970, 1970, 1970, 1970, 1970, 1970, 1970, 1970, 1970, 1970, 1970, 1970, 1970, 1970, 1970, 1970, 1970, 1970, 1970, 1970, 1970, 1970, 1970, 1970, 1970, 1970, 1970, 1970, 1970, 1970, 1970, 1970, 1970, 1970, 1970, 1970, 1970, 1970, 1970, 1970, 1970, 1970, 1970, 1970, 1970, 1970, 1970, 1970, 1970, 1970, 1970, 1970, 1970, 1970, 1970, 1970, 1970, 1970, 1970, 1970, 1970, 1970, 1970, 1970, 1970, 1970, 1970, 1970, 1970, 1970, 1970, 1970, 1970, 1970, 1970, 1970, 1970, 1970, 1970, 1970, 1970, 1970, 1970, 1970, 1970, 1970, 1970, 1970, 1970, 1970, 1970, 1970, 1970, 1970, 1970, 1970, 1970, 1970, 1970, 1970, 1970, 1970, 1970, 1970, 1970, 1970, 1970, 1971, 1971, 1971, 1971, 1971, 1971, 1971, 1971, 1971, 1971, 1971, 1971, 1971, 1971, 1971, 1971, 1971, 1971, 1971, 1971, 1971, 1971, 1971, 1971, 1971, 1971, 1971, 1971, 1971, 1971, 1971, 1971, 1971, 1971, 1971, 1971, 1971, 1971, 1971, 1971, 1971, 1971, 1971, 1971, 1971, 1971, 1971, 1971, 1971, 1971, 1971, 1971, 1971, 1971, 1971, 1971, 1971, 1971, 1971, 1971, 1971, 1971, 1971, 1971, 1971, 1971, 1971, 1971, 1971, 1971, 1971, 1971, 1971, 1971, 1971, 1971, 1971, 1971, 1971, 1971, 1971, 1971, 1971, 1971, 1971, 1971, 1971, 1971, 1971, 1971, 1971, 1971, 1971, 1971, 1971, 1971, 1971, 1971, 1971, 1971, 1971, 1971, 1971, 1971, 1971, 1971, 1971, 1971, 1971, 1971, 1971, 1971, 1971, 1971, 1971, 1971, 1971, 1971, 1971, 1971, 1971, 1971, 1971, 1971, 1971, 1971, 1971, 1971, 1971, 1971, 1971, 1971, 1971, 1971, 1971, 1971, 1971, 1971, 1971, 1971, 1971, 1971, 1971, 1971, 1971, 1971, 1971, 1971, 1971, 1971, 1971, 1971, 1971, 1971, 1971, 1971, 1971, 1971, 1971, 1971, 1971, 1971, 1971, 1971, 1971, 1971, 1971, 1972, 1972, 1972, 1972, 1972, 1972, 1972, 1972, 1972, 1972, 1972, 1972, 1972, 1972, 1972, 1972, 1972, 1972, 1972, 1972, 1972, 1972, 1972, 1972, 1972, 1972, 1972, 1972, 1972, 1972, 1972, 1972, 1972, 1972, 1972, 1972, 1972, 1972, 1972, 1972, 1972, 1972, 1972, 1972, 1972, 1972, 1972, 1972, 1972, 1972, 1972, 1972, 1972, 1972, 1972, 1972, 1972, 1972, 1972, 1972, 1972, 1972, 1972, 1972, 1972, 1972, 1972, 1972, 1972, 1972, 1972, 1972, 1972, 1972, 1972, 1972, 1972, 1972, 1972, 1972, 1972, 1972, 1972, 1972, 1972, 1972, 1972, 1972, 1972, 1972, 1972, 1972, 1972, 1972, 1972, 1972, 1972, 1972, 1972, 1972, 1972, 1972, 1972, 1972, 1972, 1972, 1972, 1972, 1972, 1972, 1972, 1972, 1972, 1972, 1972, 1972, 1972, 1972, 1972, 1972, 1972, 1972, 1972, 1972, 1972, 1972, 1972, 1972, 1972, 1972, 1972, 1972, 1972, 1972, 1972, 1972, 1972, 1972, 1972, 1972, 1972, 1972, 1972, 1972, 1972, 1972, 1972, 1972, 1972, 1972, 1972, 1972, 1972, 1972, 1972, 1972, 1972, 1972, 1972, 1972, 1972, 1972, 1972, 1972, 1972, 1972, 1972, 1972, 1972, 1972, 1972, 1972, 1972, 1972, 1972, 1972, 1972, 1972, 1972, 1972, 1972, 1972, 1972, 1972, 1972, 1972, 1972, 1972, 1972, 1972, 1972, 1972, 1972, 1972, 1972, 1972, 1972, 1972, 1972, 1972, 1972, 1972, 1972, 1972, 1972, 1972, 1972, 1972, 1972, 1972, 1972, 1972, 1972, 1973, 1973, 1973, 1973, 1973, 1973, 1973, 1973, 1973, 1973, 1973, 1973, 1973, 1973, 1973, 1973, 1973, 1973, 1973, 1973, 1973, 1973, 1973, 1973, 1973, 1973, 1973, 1973, 1973, 1973, 1973, 1973, 1973, 1973, 1973, 1973, 1973, 1973, 1973, 1973, 1973, 1973, 1973, 1973, 1973, 1973, 1973, 1973, 1973, 1973, 1973, 1973, 1973, 1973, 1973, 1973, 1973, 1973, 1973, 1973, 1973, 1973, 1973, 1973, 1973, 1973, 1973, 1973, 1973, 1973, 1973, 1973, 1973, 1973, 1973, 1973, 1973, 1973, 1973, 1973, 1973, 1973, 1973, 1973, 1973, 1973, 1973, 1973, 1973, 1973, 1973, 1973, 1973, 1973, 1973, 1973, 1973, 1973, 1973, 1973, 1973, 1973, 1973, 1973, 1973, 1973, 1973, 1973, 1973, 1973, 1973, 1973, 1973, 1973, 1973, 1973, 1973, 1973, 1973, 1973, 1973, 1973, 1973, 1973, 1973, 1973, 1973, 1973, 1973, 1973, 1973, 1973, 1973, 1973, 1973, 1973, 1973, 1973, 1973, 1973, 1973, 1973, 1973, 1973, 1973, 1973, 1973, 1973, 1973, 1973, 1973, 1973, 1973, 1973, 1973, 1973, 1973, 1973, 1973, 1973, 1973, 1973, 1973, 1973, 1973, 1973, 1973, 1973, 1973, 1973, 1973, 1973, 1973, 1974, 1974, 1974, 1974, 1974, 1974, 1974, 1974, 1974, 1974, 1974, 1974, 1974, 1974, 1974, 1974, 1974, 1974, 1974, 1974, 1974, 1974, 1974, 1974, 1974, 1974, 1974, 1974, 1974, 1974, 1974, 1974, 1974, 1974, 1974, 1974, 1974, 1974, 1974, 1974, 1974, 1974, 1974, 1974, 1974, 1974, 1974, 1974, 1974, 1974, 1974, 1974, 1974, 1974, 1974, 1974, 1974, 1974, 1974, 1974, 1974, 1974, 1974, 1974, 1974, 1974, 1974, 1974, 1974, 1974, 1974, 1974, 1974, 1974, 1974, 1974, 1974, 1974, 1974, 1974, 1974, 1974, 1974, 1974, 1974, 1974, 1974, 1974, 1974, 1974, 1974, 1974, 1974, 1974, 1974, 1974, 1974, 1974, 1974, 1974, 1974, 1974, 1974, 1974, 1974, 1974, 1974, 1974, 1974, 1974, 1974, 1974, 1974, 1974, 1974, 1974, 1974, 1974, 1974, 1974, 1974, 1974, 1974, 1974, 1974, 1974, 1974, 1974, 1974, 1974, 1974, 1974, 1974, 1974, 1974, 1974, 1974, 1974, 1974, 1974, 1974, 1974, 1974, 1974, 1974, 1974, 1974, 1974, 1974, 1974, 1974, 1974, 1974, 1974, 1974, 1974, 1974, 1974, 1974, 1974, 1974, 1974, 1974, 1974, 1974, 1974, 1974, 1974, 1974, 1975, 1975, 1975, 1975, 1975, 1975, 1975, 1975, 1975, 1975, 1975, 1975, 1975, 1975, 1975, 1975, 1975, 1975, 1975, 1975, 1975, 1975, 1975, 1975, 1975, 1975, 1975, 1975, 1975, 1975, 1975, 1975, 1975, 1975, 1975, 1975, 1975, 1975, 1975, 1975, 1975, 1975, 1975, 1975, 1975, 1975, 1975, 1975, 1975, 1975, 1975, 1975, 1975, 1975, 1975, 1975, 1975, 1975, 1975, 1975, 1975, 1975, 1975, 1975, 1975, 1975, 1975, 1975, 1975, 1975, 1975, 1975, 1975, 1975, 1975, 1975, 1975, 1975, 1975, 1975, 1975, 1975, 1975, 1975, 1975, 1975, 1975, 1975, 1975, 1975, 1975, 1975, 1975, 1975, 1975, 1975, 1975, 1975, 1975, 1975, 1975, 1975, 1975, 1975, 1975, 1975, 1975, 1975, 1975, 1975, 1975, 1975, 1975, 1975, 1975, 1975, 1975, 1975, 1975, 1975, 1975, 1975, 1975, 1975, 1975, 1975, 1975, 1975, 1975, 1975, 1975, 1975, 1975, 1975, 1975, 1975, 1975, 1975, 1975, 1975, 1975, 1975, 1975, 1976, 1976, 1976, 1976, 1976, 1976, 1976, 1976, 1976, 1976, 1976, 1976, 1976, 1976, 1976, 1976, 1976, 1976, 1976, 1976, 1976, 1976, 1976, 1976, 1976, 1976, 1976, 1976, 1976, 1976, 1976, 1976, 1976, 1976, 1976, 1976, 1976, 1976, 1976, 1976, 1976, 1976, 1976, 1976, 1976, 1976, 1976, 1976, 1976, 1976, 1976, 1976, 1976, 1976, 1976, 1976, 1976, 1976, 1976, 1976, 1976, 1976, 1976, 1976, 1976, 1976, 1976, 1976, 1976, 1976, 1976, 1976, 1976, 1976, 1976, 1976, 1976, 1976, 1976, 1976, 1976, 1976, 1976, 1976, 1976, 1976, 1976, 1976, 1976, 1976, 1976, 1976, 1976, 1976, 1976, 1976, 1976, 1976, 1976, 1976, 1976, 1976, 1976, 1976, 1976, 1976, 1976, 1976, 1976, 1976, 1976, 1976, 1976, 1976, 1976, 1976, 1976, 1976, 1976, 1976, 1976, 1976, 1976, 1976, 1976, 1976, 1976, 1976, 1976, 1976, 1976, 1976, 1976, 1976, 1976, 1976, 1976, 1976, 1976, 1976, 1976, 1976, 1976, 1976, 1976, 1976, 1976, 1976, 1976, 1976, 1976, 1976, 1976, 1976, 1976, 1976, 1976, 1976, 1976, 1976, 1976, 1976, 1976, 1976, 1976, 1976, 1976, 1976, 1976, 1976, 1976, 1976, 1976, 1976, 1976, 1977, 1977, 1977, 1977, 1977, 1977, 1977, 1977, 1977, 1977, 1977, 1977, 1977, 1977, 1977, 1977, 1977, 1977, 1977, 1977, 1977, 1977, 1977, 1977, 1977, 1977, 1977, 1977, 1977, 1977, 1977, 1977, 1977, 1977, 1977, 1977, 1977, 1977, 1977, 1977, 1977, 1977, 1977, 1977, 1977, 1977, 1977, 1977, 1977, 1977, 1977, 1977, 1977, 1977, 1977, 1977, 1977, 1977, 1977, 1977, 1977, 1977, 1977, 1977, 1977, 1977, 1977, 1977, 1977, 1977, 1977, 1977, 1977, 1977, 1977, 1977, 1977, 1977, 1977, 1977, 1977, 1977, 1977, 1977, 1977, 1977, 1977, 1977, 1977, 1977, 1977, 1977, 1977, 1977, 1977, 1977, 1977, 1977, 1977, 1977, 1977, 1977, 1977, 1977, 1977, 1977, 1977, 1977, 1977, 1977, 1977, 1977, 1977, 1977, 1977, 1977, 1977, 1977, 1977, 1977, 1977, 1977, 1977, 1977, 1977, 1977, 1977, 1977, 1977, 1977, 1977, 1977, 1977, 1977, 1977, 1977, 1977, 1977, 1977, 1977, 1977, 1977, 1977, 1977, 1977, 1977, 1977, 1977, 1977, 1977, 1977, 1977, 1977, 1977, 1977, 1977, 1977, 1977, 1977, 1977, 1977, 1977, 1977, 1977, 1977, 1977, 1977, 1977, 1977, 1977, 1977, 1977, 1977, 1978, 1978, 1978, 1978, 1978, 1978, 1978, 1978, 1978, 1978, 1978, 1978, 1978, 1978, 1978, 1978, 1978, 1978, 1978, 1978, 1978, 1978, 1978, 1978, 1978, 1978, 1978, 1978, 1978, 1978, 1978, 1978, 1978, 1978, 1978, 1978, 1978, 1978, 1978, 1978, 1978, 1978, 1978, 1978, 1978, 1978, 1978, 1978, 1978, 1978, 1978, 1978, 1978, 1978, 1978, 1978, 1978, 1978, 1978, 1978, 1978, 1978, 1978, 1978, 1978, 1978, 1978, 1978, 1978, 1978, 1978, 1978, 1978, 1978, 1978, 1978, 1978, 1978, 1978, 1978, 1978, 1978, 1978, 1978, 1978, 1978, 1978, 1978, 1978, 1978, 1978, 1978, 1978, 1978, 1978, 1978, 1978, 1978, 1978, 1978, 1978, 1978, 1978, 1978, 1978, 1978, 1978, 1978, 1978, 1978, 1978, 1978, 1978, 1978, 1978, 1978, 1978, 1978, 1978, 1978, 1978, 1978, 1978, 1978, 1978, 1978, 1978, 1978, 1978, 1978, 1978, 1978, 1978, 1978, 1978, 1978, 1978, 1978, 1978, 1978, 1978, 1978, 1978, 1978, 1978, 1978, 1978, 1978, 1978, 1978, 1978, 1978, 1978, 1978, 1978, 1978, 1978, 1978, 1978, 1978, 1978, 1978, 1978, 1978, 1978, 1978, 1978, 1978, 1978, 1978, 1978, 1978, 1978, 1978, 1978, 1978, 1978, 1978, 1978, 1978, 1978, 1978, 1978, 1978, 1978, 1978, 1978, 1978, 1978, 1978, 1978, 1978, 1978, 1978, 1978, 1978, 1978, 1978, 1978, 1978, 1978, 1978, 1978, 1978, 1978, 1978, 1978, 1978, 1978, 1978, 1978, 1978, 1978, 1978, 1978, 1978, 1978, 1978, 1978, 1978, 1978, 1978, 1978, 1978, 1978, 1978, 1978, 1978, 1978, 1978, 1978, 1978, 1978, 1978, 1978, 1978, 1978, 1978, 1978, 1978, 1978, 1978, 1978, 1978, 1978, 1978, 1978, 1978, 1978, 1978, 1978, 1978, 1978, 1978, 1978, 1978, 1978, 1978, 1978, 1978, 1978, 1978, 1978, 1978, 1978, 1978, 1978, 1978, 1978, 1978, 1978, 1978, 1978, 1978, 1978, 1978, 1978, 1978, 1978, 1978, 1978, 1978, 1978, 1978, 1978, 1979, 1979, 1979, 1979, 1979, 1979, 1979, 1979, 1979, 1979, 1979, 1979, 1979, 1979, 1979, 1979, 1979, 1979, 1979, 1979, 1979, 1979, 1979, 1979, 1979, 1979, 1979, 1979, 1979, 1979, 1979, 1979, 1979, 1979, 1979, 1979, 1979, 1979, 1979, 1979, 1979, 1979, 1979, 1979, 1979, 1979, 1979, 1979, 1979, 1979, 1979, 1979, 1979, 1979, 1979, 1979, 1979, 1979, 1979, 1979, 1979, 1979, 1979, 1979, 1979, 1979, 1979, 1979, 1979, 1979, 1979, 1979, 1979, 1979, 1979, 1979, 1979, 1979, 1979, 1979, 1979, 1979, 1979, 1979, 1979, 1979, 1979, 1979, 1979, 1979, 1979, 1979, 1979, 1979, 1979, 1979, 1979, 1979, 1979, 1979, 1979, 1979, 1979, 1979, 1979, 1979, 1979, 1979, 1979, 1979, 1979, 1979, 1979, 1979, 1979, 1979, 1979, 1979, 1979, 1979, 1979, 1979, 1979, 1979, 1979, 1979, 1979, 1979, 1979, 1979, 1979, 1979, 1979, 1979, 1979, 1979, 1979, 1979, 1979, 1979, 1979, 1979, 1979, 1979, 1979, 1979, 1979, 1979, 1979, 1979, 1979, 1979, 1979, 1979, 1979, 1979, 1979, 1979, 1979, 1979, 1979, 1979, 1979, 1979, 1979, 1979, 1979, 1979, 1979, 1979, 1979, 1979, 1979, 1979, 1979, 1979, 1979, 1979, 1979, 1979, 1979, 1979, 1979, 1979, 1979, 1979, 1979, 1979, 1979, 1979, 1979, 1979, 1979, 1979, 1979, 1979, 1979, 1979, 1979, 1979, 1979, 1979, 1979, 1979, 1979, 1979, 1979, 1979, 1979, 1979, 1979, 1979, 1979, 1979, 1979, 1979, 1979, 1979, 1979, 1979, 1979, 1979, 1979, 1979, 1979, 1979, 1979, 1979, 1979, 1979, 1979, 1979, 1979, 1979, 1979, 1979, 1979, 1979, 1979, 1979, 1979, 1979, 1979, 1979, 1979, 1979, 1979, 1979, 1979, 1979, 1979, 1979, 1979, 1979, 1979, 1979, 1979, 1979, 1979, 1979, 1979, 1979, 1979, 1979, 1979, 1979, 1979, 1979, 1979, 1979, 1979, 1979, 1979, 1979, 1979, 1979, 1979, 1979, 1979, 1979, 1979, 1979, 1979, 1980, 1980, 1980, 1980, 1980, 1980, 1980, 1980, 1980, 1980, 1980, 1980, 1980, 1980, 1980, 1980, 1980, 1980, 1980, 1980, 1980, 1980, 1980, 1980, 1980, 1980, 1980, 1980, 1980, 1980, 1980, 1980, 1980, 1980, 1980, 1980, 1980, 1980, 1980, 1980, 1980, 1980, 1980, 1980, 1980, 1980, 1980, 1980, 1980, 1980, 1980, 1980, 1980, 1980, 1980, 1980, 1980, 1980, 1980, 1980, 1980, 1980, 1980, 1980, 1980, 1980, 1980, 1980, 1980, 1980, 1980, 1980, 1980, 1980, 1980, 1980, 1980, 1980, 1980, 1980, 1980, 1980, 1980, 1980, 1980, 1980, 1980, 1980, 1980, 1980, 1980, 1980, 1980, 1980, 1980, 1980, 1980, 1980, 1980, 1980, 1980, 1980, 1980, 1980, 1980, 1980, 1980, 1980, 1980, 1980, 1980, 1980, 1980, 1980, 1980, 1980, 1980, 1980, 1980, 1980, 1980, 1980, 1980, 1980, 1980, 1980, 1980, 1980, 1980, 1980, 1980, 1980, 1980, 1980, 1980, 1980, 1980, 1980, 1980, 1980, 1980, 1980, 1980, 1980, 1980, 1980, 1980, 1980, 1980, 1980, 1980, 1980, 1980, 1980, 1980, 1980, 1980, 1980, 1980, 1980, 1980, 1980, 1980, 1980, 1980, 1980, 1980, 1980, 1980, 1980, 1980, 1980, 1980, 1980, 1980, 1980, 1980, 1980, 1980, 1980, 1980, 1980, 1980, 1980, 1980, 1980, 1980, 1980, 1980, 1980, 1980, 1980, 1980, 1980, 1980, 1980, 1980, 1980, 1980, 1980, 1980, 1980, 1980, 1980, 1980, 1980, 1980, 1980, 1980, 1980, 1980, 1980, 1980, 1980, 1980, 1980, 1980, 1980, 1980, 1980, 1980, 1980, 1980, 1980, 1980, 1980, 1980, 1980, 1980, 1980, 1980, 1980, 1980, 1980, 1980, 1980, 1980, 1980, 1980, 1980, 1980, 1980, 1980, 1980, 1980, 1980, 1980, 1980, 1980, 1980, 1980, 1980, 1980, 1980, 1980, 1980, 1980, 1980, 1980, 1980, 1980, 1980, 1980, 1980, 1980, 1980, 1980, 1980, 1980, 1980, 1980, 1980, 1980, 1980, 1980, 1980, 1980, 1980, 1980, 1980, 1980, 1980, 1980, 1980, 1980, 1980, 1980, 1980, 1980, 1980, 1980, 1980, 1980, 1980, 1980, 1980, 1980, 1980, 1980, 1980, 1980, 1980, 1980, 1980, 1980, 1980, 1980, 1980, 1980, 1980, 1980, 1980, 1980, 1980, 1980, 1980, 1980, 1980, 1980, 1980, 1980, 1980, 1980, 1980, 1980, 1980, 1980, 1980, 1980, 1980, 1980, 1980, 1980, 1980, 1980, 1980, 1980, 1980, 1980, 1980, 1980, 1980, 1980, 1980, 1980, 1980, 1980, 1980, 1980, 1980, 1980, 1980, 1980, 1980, 1980, 1980, 1980, 1980, 1980, 1980, 1980, 1980, 1980, 1980, 1980, 1980, 1980, 1980, 1980, 1980, 1980, 1980, 1980, 1980, 1980, 1980, 1980, 1980, 1980, 1980, 1980, 1980, 1980, 1980, 1980, 1980, 1980, 1980, 1980, 1980, 1980, 1980, 1980, 1980, 1980, 1980, 1980, 1980, 1980, 1980, 1980, 1980, 1980, 1980, 1980, 1980, 1980, 1980, 1980, 1980, 1980, 1980, 1980, 1980, 1980, 1980, 1980, 1980, 1980, 1980, 1980, 1980, 1980, 1980, 1980, 1980, 1980, 1980, 1980, 1980, 1980, 1980, 1980, 1980, 1980, 1980, 1980, 1980, 1980, 1980, 1980, 1980, 1980, 1980, 1980, 1980, 1980, 1980, 1980, 1980, 1980, 1980, 1980, 1980, 1980, 1980, 1980, 1980, 1980, 1980, 1980, 1980, 1980, 1980, 1980, 1980, 1980, 1980, 1980, 1980, 1980, 1980, 1980, 1980, 1980, 1980, 1980, 1980, 1980, 1980, 1980, 1980, 1980, 1980, 1980, 1980, 1980, 1980, 1980, 1980, 1980, 1980, 1980, 1980, 1980, 1980, 1980, 1980, 1980, 1980, 1980, 1980, 1980, 1980, 1980, 1980, 1980, 1980, 1980, 1980, 1980, 1980, 1980, 1980, 1980, 1980, 1980, 1980, 1980, 1980, 1980, 1980, 1980, 1980, 1980, 1980, 1980, 1980, 1980, 1980, 1980, 1980, 1980, 1980, 1980, 1980, 1980, 1980, 1980, 1980, 1980, 1980, 1980, 1980, 1980, 1980, 1980, 1980, 1980, 1980, 1980, 1980, 1980, 1980, 1980, 1980, 1980, 1980, 1980, 1980, 1980, 1980, 1980, 1980, 1980, 1980, 1980, 1980, 1980, 1980, 1980, 1980, 1980, 1980, 1980, 1980, 1980, 1980, 1980, 1980, 1980, 1980, 1980, 1980, 1980, 1980, 1980, 1980, 1981, 1981, 1981, 1981, 1981, 1981, 1981, 1981, 1981, 1981, 1981, 1981, 1981, 1981, 1981, 1981, 1981, 1981, 1981, 1981, 1981, 1981, 1981, 1981, 1981, 1981, 1981, 1981, 1981, 1981, 1981, 1981, 1981, 1981, 1981, 1981, 1981, 1981, 1981, 1981, 1981, 1981, 1981, 1981, 1981, 1981, 1981, 1981, 1981, 1981, 1981, 1981, 1981, 1981, 1981, 1981, 1981, 1981, 1981, 1981, 1981, 1981, 1981, 1981, 1981, 1981, 1981, 1981, 1981, 1981, 1981, 1981, 1981, 1981, 1981, 1981, 1981, 1981, 1981, 1981, 1981, 1981, 1981, 1981, 1981, 1981, 1981, 1981, 1981, 1981, 1981, 1981, 1981, 1981, 1981, 1981, 1981, 1981, 1981, 1981, 1981, 1981, 1981, 1981, 1981, 1981, 1981, 1981, 1981, 1981, 1981, 1981, 1981, 1981, 1981, 1981, 1981, 1981, 1981, 1981, 1981, 1981, 1981, 1981, 1981, 1981, 1981, 1981, 1981, 1981, 1981, 1981, 1981, 1981, 1981, 1981, 1981, 1981, 1981, 1981, 1981, 1981, 1981, 1981, 1981, 1981, 1981, 1981, 1981, 1981, 1981, 1981, 1981, 1981, 1981, 1981, 1981, 1981, 1981, 1981, 1981, 1981, 1981, 1981, 1981, 1981, 1981, 1981, 1981, 1981, 1981, 1981, 1981, 1981, 1981, 1981, 1981, 1981, 1981, 1981, 1981, 1981, 1981, 1981, 1981, 1981, 1981, 1981, 1981, 1981, 1981, 1981, 1981, 1981, 1981, 1981, 1981, 1981, 1981, 1981, 1981, 1981, 1981, 1981, 1981, 1981, 1981, 1981, 1981, 1981, 1981, 1981, 1981, 1981, 1981, 1981, 1981, 1981, 1981, 1981, 1981, 1981, 1981, 1981, 1981, 1981, 1981, 1981, 1981, 1981, 1981, 1981, 1981, 1981, 1981, 1981, 1981, 1981, 1981, 1981, 1981, 1981, 1981, 1981, 1981, 1981, 1981, 1981, 1981, 1981, 1981, 1981, 1981, 1981, 1981, 1981, 1981, 1981, 1981, 1981, 1981, 1981, 1981, 1982, 1982, 1982, 1982, 1982, 1982, 1982, 1982, 1982, 1982, 1982, 1982, 1982, 1982, 1982, 1982, 1982, 1982, 1982, 1982, 1982, 1982, 1982, 1982, 1982, 1982, 1982, 1982, 1982, 1982, 1982, 1982, 1982, 1982, 1982, 1982, 1982, 1982, 1982, 1982, 1982, 1982, 1982, 1982, 1982, 1982, 1982, 1982, 1982, 1982, 1982, 1982, 1982, 1982, 1982, 1982, 1982, 1982, 1982, 1982, 1982, 1982, 1982, 1982, 1982, 1982, 1982, 1982, 1982, 1982, 1982, 1982, 1982, 1982, 1982, 1982, 1982, 1982, 1982, 1982, 1982, 1982, 1982, 1982, 1982, 1982, 1982, 1982, 1982, 1982, 1982, 1982, 1982, 1982, 1982, 1982, 1982, 1982, 1982, 1982, 1982, 1982, 1982, 1982, 1982, 1982, 1982, 1982, 1982, 1982, 1982, 1982, 1982, 1982, 1982, 1982, 1982, 1982, 1982, 1982, 1982, 1982, 1982, 1982, 1982, 1982, 1982, 1982, 1982, 1982, 1982, 1982, 1982, 1982, 1982, 1982, 1982, 1982, 1982, 1982, 1982, 1982, 1982, 1982, 1982, 1982, 1982, 1982, 1982, 1982, 1982, 1982, 1982, 1982, 1982, 1982, 1982, 1982, 1982, 1982, 1982, 1982, 1982, 1982, 1982, 1982, 1982, 1982, 1982, 1982, 1982, 1982, 1982, 1982, 1982, 1982, 1982, 1982, 1982, 1982, 1982, 1982, 1982, 1982, 1982, 1982, 1982, 1982, 1982, 1982, 1982, 1982, 1982, 1982, 1982, 1982, 1982, 1982, 1982, 1982, 1982, 1982, 1982, 1982, 1982, 1982, 1982, 1982, 1982, 1982, 1982, 1982, 1982, 1982, 1982, 1982, 1982, 1982, 1982, 1982, 1982, 1982, 1982, 1982, 1982, 1982, 1982, 1982, 1982, 1982, 1982, 1982, 1982, 1982, 1982, 1982, 1982, 1982, 1982, 1982, 1982, 1982, 1982, 1982, 1982, 1982, 1982, 1982, 1982, 1982, 1982, 1982, 1982, 1982, 1982, 1982, 1982, 1982, 1982, 1982, 1982, 1982, 1982, 1982, 1982, 1982, 1982, 1982, 1982, 1982, 1982, 1982, 1982, 1982, 1982, 1982, 1982, 1982, 1982, 1982, 1982, 1982, 1982, 1982, 1982, 1982, 1982, 1982, 1982, 1982, 1982, 1982, 1982, 1982, 1982, 1982, 1982, 1982, 1982, 1982, 1982, 1982, 1982, 1982, 1982, 1982, 1982, 1982, 1982, 1982, 1982, 1982, 1982, 1982, 1982, 1982, 1983, 1983, 1983, 1983, 1983, 1983, 1983, 1983, 1983, 1983, 1983, 1983, 1983, 1983, 1983, 1983, 1983, 1983, 1983, 1983, 1983, 1983, 1983, 1983, 1983, 1983, 1983, 1983, 1983, 1983, 1983, 1983, 1983, 1983, 1983, 1983, 1983, 1983, 1983, 1983, 1983, 1983, 1983, 1983, 1983, 1983, 1983, 1983, 1983, 1983, 1983, 1983, 1983, 1983, 1983, 1983, 1983, 1983, 1983, 1983, 1983, 1983, 1983, 1983, 1983, 1983, 1983, 1983, 1983, 1983, 1983, 1983, 1983, 1983, 1983, 1983, 1983, 1983, 1983, 1983, 1983, 1983, 1983, 1983, 1983, 1983, 1983, 1983, 1983, 1983, 1983, 1983, 1983, 1983, 1983, 1983, 1983, 1983, 1983, 1983, 1983, 1983, 1983, 1983, 1983, 1983, 1983, 1983, 1983, 1983, 1983, 1983, 1983, 1983, 1983, 1983, 1983, 1983, 1983, 1983, 1983, 1983, 1983, 1983, 1983, 1983, 1983, 1983, 1983, 1983, 1983, 1983, 1983, 1983, 1983, 1983, 1983, 1983, 1983, 1983, 1983, 1983, 1983, 1983, 1983, 1983, 1983, 1983, 1983, 1983, 1983, 1983, 1983, 1983, 1983, 1983, 1983, 1983, 1983, 1983, 1983, 1983, 1983, 1983, 1983, 1983, 1983, 1983, 1983, 1983, 1983, 1983, 1983, 1983, 1983, 1983, 1983, 1983, 1983, 1983, 1983, 1983, 1983, 1983, 1983, 1983, 1983, 1983, 1983, 1983, 1983, 1983, 1983, 1983, 1983, 1983, 1983, 1983, 1983, 1983, 1983, 1983, 1983, 1983, 1983, 1983, 1983, 1983, 1983, 1983, 1983, 1983, 1983, 1983, 1983, 1983, 1983, 1983, 1983, 1983, 1983, 1983, 1983, 1983, 1983, 1983, 1983, 1983, 1983, 1983, 1983, 1983, 1983, 1983, 1983, 1983, 1983, 1983, 1983, 1983, 1983, 1983, 1983, 1983, 1983, 1983, 1983, 1983, 1983, 1983, 1983, 1983, 1983, 1983, 1983, 1983, 1983, 1983, 1983, 1983, 1983, 1983, 1983, 1983, 1983, 1983, 1983, 1983, 1983, 1983, 1983, 1983, 1983, 1983, 1983, 1983, 1983, 1983, 1983, 1983, 1983, 1983, 1983, 1983, 1983, 1983, 1983, 1983, 1983, 1983, 1983, 1983, 1983, 1983, 1983, 1983, 1983, 1983, 1983, 1983, 1983, 1983, 1983, 1983, 1983, 1983, 1983, 1983, 1983, 1983, 1983, 1983, 1983, 1983, 1983, 1983, 1983, 1983, 1983, 1983, 1983, 1983, 1983, 1983, 1983, 1983, 1983, 1983, 1983, 1983, 1983, 1983, 1983, 1983, 1983, 1983, 1983, 1983, 1983, 1983, 1983, 1983, 1983, 1983, 1983, 1983, 1983, 1983, 1983, 1983, 1983, 1983, 1983, 1983, 1983, 1983, 1983, 1983, 1983, 1983, 1983, 1983, 1983, 1983, 1983, 1983, 1983, 1983, 1983, 1983, 1983, 1983, 1983, 1983, 1983, 1983, 1983, 1983, 1983, 1983, 1983, 1983, 1983, 1983, 1983, 1983, 1983, 1983, 1983, 1983, 1983, 1983, 1983, 1983, 1983, 1983, 1983, 1983, 1983, 1983, 1983, 1983, 1983, 1983, 1983, 1983, 1983, 1983, 1983, 1983, 1983, 1983, 1983, 1983, 1983, 1983, 1983, 1983, 1983, 1983, 1983, 1983, 1983, 1983, 1983, 1983, 1983, 1983, 1983, 1983, 1984, 1984, 1984, 1984, 1984, 1984, 1984, 1984, 1984, 1984, 1984, 1984, 1984, 1984, 1984, 1984, 1984, 1984, 1984, 1984, 1984, 1984, 1984, 1984, 1984, 1984, 1984, 1984, 1984, 1984, 1984, 1984, 1984, 1984, 1984, 1984, 1984, 1984, 1984, 1984, 1984, 1984, 1984, 1984, 1984, 1984, 1984, 1984, 1984, 1984, 1984, 1984, 1984, 1984, 1984, 1984, 1984, 1984, 1984, 1984, 1984, 1984, 1984, 1984, 1984, 1984, 1984, 1984, 1984, 1984, 1984, 1984, 1984, 1984, 1984, 1984, 1984, 1984, 1984, 1984, 1984, 1984, 1984, 1984, 1984, 1984, 1984, 1984, 1984, 1984, 1984, 1984, 1984, 1984, 1984, 1984, 1984, 1984, 1984, 1984, 1984, 1984, 1984, 1984, 1984, 1984, 1984, 1984, 1984, 1984, 1984, 1984, 1984, 1984, 1984, 1984, 1984, 1984, 1984, 1984, 1984, 1984, 1984, 1984, 1984, 1984, 1984, 1984, 1984, 1984, 1984, 1984, 1984, 1984, 1984, 1984, 1984, 1984, 1984, 1984, 1984, 1984, 1984, 1984, 1984, 1984, 1984, 1984, 1984, 1984, 1984, 1984, 1984, 1984, 1984, 1984, 1984, 1984, 1984, 1984, 1984, 1984, 1984, 1984, 1984, 1984, 1984, 1984, 1984, 1984, 1984, 1984, 1984, 1984, 1984, 1984, 1984, 1984, 1984, 1984, 1984, 1984, 1984, 1984, 1984, 1984, 1984, 1984, 1984, 1984, 1984, 1984, 1984, 1984, 1984, 1984, 1984, 1984, 1984, 1984, 1984, 1984, 1984, 1984, 1984, 1984, 1984, 1984, 1984, 1984, 1984, 1984, 1984, 1984, 1984, 1984, 1984, 1984, 1984, 1984, 1984, 1984, 1984, 1984, 1984, 1984, 1984, 1984, 1984, 1984, 1984, 1984, 1984, 1984, 1984, 1984, 1984, 1984, 1984, 1984, 1984, 1984, 1984, 1984, 1984, 1984, 1984, 1984, 1984, 1984, 1984, 1984, 1984, 1984, 1984, 1984, 1984, 1984, 1984, 1984, 1984, 1984, 1984, 1984, 1984, 1984, 1984, 1984, 1984, 1984, 1984, 1984, 1984, 1984, 1984, 1984, 1984, 1984, 1984, 1984, 1984, 1984, 1984, 1984, 1984, 1984, 1984, 1984, 1984, 1984, 1984, 1984, 1984, 1984, 1984, 1984, 1984, 1984, 1984, 1984, 1984, 1984, 1984, 1984, 1984, 1984, 1984, 1984, 1984, 1984, 1984, 1984, 1984, 1984, 1984, 1984, 1984, 1984, 1984, 1984, 1984, 1984, 1984, 1984, 1984, 1984, 1984, 1984, 1984, 1984, 1984, 1984, 1984, 1984, 1984, 1984, 1984, 1984, 1984, 1984, 1984, 1984, 1984, 1984, 1984, 1984, 1984, 1984, 1984, 1984, 1984, 1984, 1984, 1984, 1984, 1984, 1984, 1984, 1984, 1984, 1984, 1984, 1984, 1984, 1984, 1984, 1984, 1984, 1984, 1984, 1984, 1984, 1984, 1984, 1984, 1984, 1984, 1984, 1984, 1984, 1984, 1984, 1984, 1984, 1984, 1984, 1984, 1984, 1984, 1984, 1984, 1984, 1984, 1984, 1984, 1984, 1984, 1984, 1984, 1985, 1985, 1985, 1985, 1985, 1985, 1985, 1985, 1985, 1985, 1985, 1985, 1985, 1985, 1985, 1985, 1985, 1985, 1985, 1985, 1985, 1985, 1985, 1985, 1985, 1985, 1985, 1985, 1985, 1985, 1985, 1985, 1985, 1985, 1985, 1985, 1985, 1985, 1985, 1985, 1985, 1985, 1985, 1985, 1985, 1985, 1985, 1985, 1985, 1985, 1985, 1985, 1985, 1985, 1985, 1985, 1985, 1985, 1985, 1985, 1985, 1985, 1985, 1985, 1985, 1985, 1985, 1985, 1985, 1985, 1985, 1985, 1985, 1985, 1985, 1985, 1985, 1985, 1985, 1985, 1985, 1985, 1985, 1985, 1985, 1985, 1985, 1985, 1985, 1985, 1985, 1985, 1985, 1985, 1985, 1985, 1985, 1985, 1985, 1985, 1985, 1985, 1985, 1985, 1985, 1985, 1985, 1985, 1985, 1985, 1985, 1985, 1985, 1985, 1985, 1985, 1985, 1985, 1985, 1985, 1985, 1985, 1985, 1985, 1985, 1985, 1985, 1985, 1985, 1985, 1985, 1985, 1985, 1985, 1985, 1985, 1985, 1985, 1985, 1985, 1985, 1985, 1985, 1985, 1985, 1985, 1985, 1985, 1985, 1985, 1985, 1985, 1985, 1985, 1985, 1985, 1985, 1985, 1985, 1985, 1985, 1985, 1985, 1985, 1985, 1985, 1985, 1985, 1985, 1985, 1985, 1985, 1985, 1985, 1985, 1985, 1985, 1985, 1985, 1985, 1985, 1985, 1985, 1985, 1985, 1985, 1985, 1985, 1985, 1985, 1985, 1985, 1985, 1985, 1985, 1985, 1985, 1985, 1985, 1985, 1985, 1985, 1985, 1985, 1985, 1985, 1985, 1985, 1985, 1985, 1985, 1985, 1985, 1985, 1985, 1985, 1985, 1985, 1985, 1985, 1985, 1985, 1985, 1985, 1985, 1985, 1985, 1985, 1985, 1985, 1985, 1985, 1985, 1985, 1985, 1985, 1985, 1985, 1985, 1985, 1985, 1985, 1985, 1985, 1985, 1985, 1985, 1985, 1985, 1985, 1985, 1985, 1985, 1985, 1985, 1985, 1985, 1985, 1985, 1985, 1985, 1985, 1985, 1985, 1985, 1985, 1985, 1985, 1985, 1985, 1985, 1985, 1985, 1985, 1985, 1985, 1985, 1985, 1985, 1985, 1985, 1985, 1985, 1985, 1985, 1985, 1985, 1985, 1985, 1985, 1985, 1985, 1985, 1985, 1985, 1985, 1985, 1985, 1985, 1985, 1985, 1985, 1985, 1985, 1985, 1985, 1985, 1985, 1985, 1985, 1985, 1985, 1985, 1985, 1985, 1985, 1985, 1985, 1985, 1985, 1985, 1985, 1985, 1985, 1985, 1985, 1985, 1985, 1985, 1985, 1985, 1985, 1985, 1985, 1985, 1985, 1985, 1985, 1985, 1985, 1985, 1985, 1985, 1985, 1985, 1985, 1985, 1985, 1985, 1985, 1985, 1985, 1985, 1985, 1985, 1985, 1985, 1985, 1985, 1985, 1985, 1985, 1985, 1985, 1985, 1985, 1985, 1985, 1985, 1985, 1985, 1985, 1985, 1985, 1985, 1985, 1985, 1985, 1985, 1985, 1985, 1985, 1985, 1985, 1985, 1985, 1985, 1985, 1985, 1985, 1985, 1985, 1985, 1985, 1985, 1985, 1985, 1985, 1985, 1985, 1985, 1985, 1985, 1985, 1985, 1985, 1985, 1985, 1985, 1985, 1985, 1985, 1985, 1985, 1985, 1985, 1985, 1985, 1985, 1985, 1985, 1985, 1985, 1985, 1985, 1985, 1985, 1985, 1985, 1985, 1985, 1985, 1985, 1985, 1985, 1985, 1985, 1985, 1985, 1985, 1985, 1985, 1985, 1985, 1985, 1985, 1985, 1985, 1985, 1985, 1985, 1985, 1985, 1985, 1985, 1985, 1985, 1985, 1985, 1985, 1985, 1985, 1985, 1985, 1985, 1985, 1985, 1985, 1985, 1985, 1985, 1985, 1985, 1985, 1985, 1985, 1985, 1985, 1985, 1985, 1985, 1985, 1985, 1985, 1985, 1985, 1985, 1985, 1985, 1985, 1985, 1985, 1985, 1985, 1985, 1985, 1985, 1985, 1985, 1985, 1985, 1985, 1985, 1985, 1985, 1985, 1985, 1985, 1985, 1985, 1985, 1985, 1985, 1985, 1985, 1985, 1985, 1985, 1985, 1985, 1985, 1985, 1985, 1985, 1985, 1985, 1985, 1985, 1985, 1985, 1985, 1985, 1985, 1985, 1985, 1985, 1985, 1985, 1985, 1985, 1985, 1985, 1985, 1985, 1985, 1985, 1985, 1985, 1985, 1985, 1985, 1985, 1985, 1985, 1985, 1985, 1985, 1985, 1985, 1985, 1985, 1985, 1985, 1985, 1985, 1985, 1985, 1985, 1985, 1985, 1985, 1985, 1985, 1985, 1985, 1985, 1985, 1985, 1985, 1985, 1985, 1985, 1985, 1985, 1985, 1985, 1985, 1985, 1985, 1985, 1985, 1985, 1985, 1985, 1985, 1985, 1985, 1985, 1985, 1985, 1985, 1985, 1985, 1985, 1985, 1985, 1985, 1985, 1985, 1985, 1985, 1985, 1985, 1985, 1985, 1985, 1985, 1985, 1985, 1985, 1985, 1985, 1985, 1985, 1985, 1985, 1985, 1985, 1985, 1985, 1985, 1985, 1985, 1985, 1985, 1985, 1985, 1985, 1985, 1985, 1985, 1985, 1985, 1985, 1985, 1985, 1985, 1985, 1985, 1985, 1985, 1985, 1985, 1985, 1985, 1985, 1985, 1985, 1985, 1985, 1985, 1985, 1985, 1985, 1985, 1985, 1985, 1985, 1985, 1985, 1985, 1985, 1985, 1985, 1985, 1985, 1985, 1985, 1985, 1985, 1985, 1985, 1985, 1985, 1985, 1985, 1985, 1985, 1985, 1985, 1985, 1985, 1985, 1985, 1985, 1985, 1985, 1985, 1985, 1985, 1985, 1985, 1985, 1985, 1985, 1985, 1985, 1985, 1985, 1985, 1985, 1985, 1985, 1985, 1985, 1985, 1985, 1985, 1985, 1985, 1985, 1985, 1985, 1985, 1985, 1985, 1985, 1985, 1985, 1985, 1985, 1985, 1985, 1985, 1985, 1985, 1985, 1985, 1985, 1985, 1985, 1985, 1985, 1985, 1985, 1985, 1985, 1985, 1985, 1985, 1985, 1985, 1985, 1985, 1985, 1985]\n",
      "\n",
      "Выбросы выше нормальных значений: [2066, 2200, 2222, 2222, 2290, 2500, 2500, 2500, 2500, 2800, 2800, 2900, 3000, 3000, 3000, 3000, 3000, 3000, 3000, 3200, 3500, 3700, 3800, 4000, 4000, 4000, 4100, 4500, 4500, 4800, 5000, 5000, 5000, 5000, 5000, 5000, 5000, 5000, 5000, 5000, 5000, 5000, 5000, 5000, 5000, 5000, 5000, 5300, 5555, 5555, 5600, 5900, 5911, 5911, 6000, 6000, 6000, 6000, 6000, 6500, 7000, 7000, 7000, 7000, 7100, 7500, 7800, 8000, 8000, 8200, 8455, 8500, 8888, 9000, 9000, 9000, 9229, 9450, 9996, 9999, 9999, 9999, 9999, 9999, 9999, 9999, 9999, 9999, 9999, 9999, 9999, 9999, 9999, 9999, 9999, 9999, 9999, 9999, 9999, 9999, 9999, 9999, 9999, 9999, 9999]\n",
      "\n"
     ]
    }
   ],
   "source": [
    "num_col_analiz(auto_data,'RegistrationYear')"
   ]
  },
  {
   "cell_type": "markdown",
   "metadata": {},
   "source": [
    "Алгоритм выделил выбросы. \n",
    "\n",
    "К \"правым\" выбросам вопросов нет, машины 2066 года выпуска и современнее - явно анамалии и ошибки в заполнении данных.\n",
    "С \"левыми\" не все так однозначно, все таки машины около 1985 года выпуска это не что то фантастическое, но таких значений всего 1.75% и врядли кто то рассматривает такие авто к покупке, так что думаю такими данными можно так же принебречь и удалить их из датасета. Т.к датасет 2016 года, удалим все записи \"новее\" 2016 года"
   ]
  },
  {
   "cell_type": "code",
   "execution_count": 49,
   "metadata": {},
   "outputs": [],
   "source": [
    "reg_mask = (auto_data['RegistrationYear']>=2017) | (auto_data['RegistrationYear']<= 1985)"
   ]
  },
  {
   "cell_type": "code",
   "execution_count": 50,
   "metadata": {},
   "outputs": [],
   "source": [
    "auto_data = auto_data.drop(auto_data[reg_mask].index)"
   ]
  },
  {
   "cell_type": "code",
   "execution_count": 51,
   "metadata": {},
   "outputs": [
    {
     "data": {
      "image/png": "[encoded data removed]",
      "text/plain": [
       "<Figure size 720x144 with 1 Axes>"
      ]
     },
     "metadata": {
      "needs_background": "light"
     },
     "output_type": "display_data"
    },
    {
     "name": "stdout",
     "output_type": "stream",
     "text": [
      "count    333631.000000\n",
      "mean       2002.994557\n",
      "std           5.823445\n",
      "min        1986.000000\n",
      "25%        1999.000000\n",
      "50%        2003.000000\n",
      "75%        2007.000000\n",
      "max        2016.000000\n",
      "Name: RegistrationYear, dtype: float64\n",
      "\n",
      "\n",
      "Выбросы ниже нормальных значений: \n",
      "Количество выбросов: 538 \n",
      "Процент выбросов: 0.16 %\n",
      "\n",
      "\n",
      "Выбросы выше нормальных значений: \n",
      "Количество выбросов: 0 \n",
      "Процент выбросов: 0.0 %\n",
      "\n",
      "\n",
      "Выбросы ниже нормальных значений: [1986, 1986, 1986, 1986, 1986, 1986, 1986, 1986, 1986, 1986, 1986, 1986, 1986, 1986, 1986, 1986, 1986, 1986, 1986, 1986, 1986, 1986, 1986, 1986, 1986, 1986, 1986, 1986, 1986, 1986, 1986, 1986, 1986, 1986, 1986, 1986, 1986, 1986, 1986, 1986, 1986, 1986, 1986, 1986, 1986, 1986, 1986, 1986, 1986, 1986, 1986, 1986, 1986, 1986, 1986, 1986, 1986, 1986, 1986, 1986, 1986, 1986, 1986, 1986, 1986, 1986, 1986, 1986, 1986, 1986, 1986, 1986, 1986, 1986, 1986, 1986, 1986, 1986, 1986, 1986, 1986, 1986, 1986, 1986, 1986, 1986, 1986, 1986, 1986, 1986, 1986, 1986, 1986, 1986, 1986, 1986, 1986, 1986, 1986, 1986, 1986, 1986, 1986, 1986, 1986, 1986, 1986, 1986, 1986, 1986, 1986, 1986, 1986, 1986, 1986, 1986, 1986, 1986, 1986, 1986, 1986, 1986, 1986, 1986, 1986, 1986, 1986, 1986, 1986, 1986, 1986, 1986, 1986, 1986, 1986, 1986, 1986, 1986, 1986, 1986, 1986, 1986, 1986, 1986, 1986, 1986, 1986, 1986, 1986, 1986, 1986, 1986, 1986, 1986, 1986, 1986, 1986, 1986, 1986, 1986, 1986, 1986, 1986, 1986, 1986, 1986, 1986, 1986, 1986, 1986, 1986, 1986, 1986, 1986, 1986, 1986, 1986, 1986, 1986, 1986, 1986, 1986, 1986, 1986, 1986, 1986, 1986, 1986, 1986, 1986, 1986, 1986, 1986, 1986, 1986, 1986, 1986, 1986, 1986, 1986, 1986, 1986, 1986, 1986, 1986, 1986, 1986, 1986, 1986, 1986, 1986, 1986, 1986, 1986, 1986, 1986, 1986, 1986, 1986, 1986, 1986, 1986, 1986, 1986, 1986, 1986, 1986, 1986, 1986, 1986, 1986, 1986, 1986, 1986, 1986, 1986, 1986, 1986, 1986, 1986, 1986, 1986, 1986, 1986, 1986, 1986, 1986, 1986, 1986, 1986, 1986, 1986, 1986, 1986, 1986, 1986, 1986, 1986, 1986, 1986, 1986, 1986, 1986, 1986, 1986, 1986, 1986, 1986, 1986, 1986, 1986, 1986, 1986, 1986, 1986, 1986, 1986, 1986, 1986, 1986, 1986, 1986, 1986, 1986, 1986, 1986, 1986, 1986, 1986, 1986, 1986, 1986, 1986, 1986, 1986, 1986, 1986, 1986, 1986, 1986, 1986, 1986, 1986, 1986, 1986, 1986, 1986, 1986, 1986, 1986, 1986, 1986, 1986, 1986, 1986, 1986, 1986, 1986, 1986, 1986, 1986, 1986, 1986, 1986, 1986, 1986, 1986, 1986, 1986, 1986, 1986, 1986, 1986, 1986, 1986, 1986, 1986, 1986, 1986, 1986, 1986, 1986, 1986, 1986, 1986, 1986, 1986, 1986, 1986, 1986, 1986, 1986, 1986, 1986, 1986, 1986, 1986, 1986, 1986, 1986, 1986, 1986, 1986, 1986, 1986, 1986, 1986, 1986, 1986, 1986, 1986, 1986, 1986, 1986, 1986, 1986, 1986, 1986, 1986, 1986, 1986, 1986, 1986, 1986, 1986, 1986, 1986, 1986, 1986, 1986, 1986, 1986, 1986, 1986, 1986, 1986, 1986, 1986, 1986, 1986, 1986, 1986, 1986, 1986, 1986, 1986, 1986, 1986, 1986, 1986, 1986, 1986, 1986, 1986, 1986, 1986, 1986, 1986, 1986, 1986, 1986, 1986, 1986, 1986, 1986, 1986, 1986, 1986, 1986, 1986, 1986, 1986, 1986, 1986, 1986, 1986, 1986, 1986, 1986, 1986, 1986, 1986, 1986, 1986, 1986, 1986, 1986, 1986, 1986, 1986, 1986, 1986, 1986, 1986, 1986, 1986, 1986, 1986, 1986, 1986, 1986, 1986, 1986, 1986, 1986, 1986, 1986, 1986, 1986, 1986, 1986, 1986, 1986, 1986, 1986, 1986, 1986, 1986, 1986, 1986, 1986, 1986, 1986, 1986, 1986, 1986, 1986, 1986, 1986, 1986, 1986, 1986, 1986, 1986, 1986, 1986, 1986, 1986, 1986, 1986, 1986, 1986, 1986, 1986, 1986, 1986, 1986, 1986, 1986, 1986, 1986, 1986, 1986, 1986, 1986, 1986, 1986, 1986, 1986, 1986, 1986, 1986, 1986, 1986, 1986, 1986, 1986, 1986, 1986, 1986, 1986, 1986, 1986, 1986, 1986, 1986, 1986, 1986]\n",
      "\n",
      "Выбросы выше нормальных значений: []\n",
      "\n"
     ]
    }
   ],
   "source": [
    "num_col_analiz(auto_data,'RegistrationYear') #Проверяем еще раз"
   ]
  },
  {
   "cell_type": "markdown",
   "metadata": {},
   "source": [
    "**Выбросы и аномалии удалены**"
   ]
  },
  {
   "cell_type": "markdown",
   "metadata": {},
   "source": [
    "**-------------------------------------------**"
   ]
  },
  {
   "cell_type": "markdown",
   "metadata": {},
   "source": [
    "**-------------------------------------------**"
   ]
  },
  {
   "cell_type": "markdown",
   "metadata": {},
   "source": [
    "### RegistrationMonth"
   ]
  },
  {
   "cell_type": "code",
   "execution_count": 52,
   "metadata": {},
   "outputs": [
    {
     "data": {
      "image/png": "[encoded data removed]",
      "text/plain": [
       "<Figure size 864x432 with 1 Axes>"
      ]
     },
     "metadata": {
      "needs_background": "light"
     },
     "output_type": "display_data"
    },
    {
     "name": "stdout",
     "output_type": "stream",
     "text": [
      "3     0.097776\n",
      "0     0.096478\n",
      "6     0.089623\n",
      "4     0.083119\n",
      "5     0.082981\n",
      "7     0.076809\n",
      "10    0.074954\n",
      "12    0.069586\n",
      "11    0.069478\n",
      "9     0.068294\n",
      "1     0.065653\n",
      "8     0.064658\n",
      "2     0.060591\n",
      "Name: RegistrationMonth, dtype: float64\n",
      "3     32621\n",
      "0     32188\n",
      "6     29901\n",
      "4     27731\n",
      "5     27685\n",
      "7     25626\n",
      "10    25007\n",
      "12    23216\n",
      "11    23180\n",
      "9     22785\n",
      "1     21904\n",
      "8     21572\n",
      "2     20215\n",
      "Name: RegistrationMonth, dtype: int64\n",
      "\n",
      "\n"
     ]
    }
   ],
   "source": [
    "cat_col_analiz(auto_data,'RegistrationMonth')"
   ]
  },
  {
   "cell_type": "markdown",
   "metadata": {},
   "source": [
    "Регистрация 0 месяц - аномалия, удаляем, тк чем заменить угадать не можем."
   ]
  },
  {
   "cell_type": "code",
   "execution_count": 53,
   "metadata": {},
   "outputs": [],
   "source": [
    "mnt_mask = auto_data['RegistrationMonth']==0"
   ]
  },
  {
   "cell_type": "code",
   "execution_count": 54,
   "metadata": {},
   "outputs": [],
   "source": [
    "auto_data = auto_data.drop(auto_data[mnt_mask].index)"
   ]
  },
  {
   "cell_type": "markdown",
   "metadata": {},
   "source": [
    "**-------------------------------------------**"
   ]
  },
  {
   "cell_type": "markdown",
   "metadata": {},
   "source": [
    "**-------------------------------------------**"
   ]
  },
  {
   "cell_type": "markdown",
   "metadata": {},
   "source": [
    "### Power"
   ]
  },
  {
   "cell_type": "code",
   "execution_count": 55,
   "metadata": {},
   "outputs": [
    {
     "data": {
      "image/png": "[encoded data removed]",
      "text/plain": [
       "<Figure size 864x432 with 1 Axes>"
      ]
     },
     "metadata": {
      "needs_background": "light"
     },
     "output_type": "display_data"
    }
   ],
   "source": [
    "sn.set_palette('Set2')\n",
    "plt.subplots(figsize=(12, 6))\n",
    "sn.boxplot(x = auto_data['Power']);\n",
    "plt.title(label=f'Ящик с усами для признака Power', fontsize=15);\n",
    "plt.show()"
   ]
  },
  {
   "cell_type": "markdown",
   "metadata": {},
   "source": [
    "Алгоритм выделил выбросы.\n",
    "\n",
    "С \"левой стороны\" выбросов нет совсем.\n",
    "С \"правой стороны\" 2.07% выбросов, но при рассмотрении видим, что алгоритм оценил как выбросы даже весьма обычные значения в 250+ лс. Да, конечно появляются вопросы к 1000+, возможно на продажу стоит парочка Бугатти:)\n",
    "Посмотрим что там"
   ]
  },
  {
   "cell_type": "code",
   "execution_count": 56,
   "metadata": {},
   "outputs": [
    {
     "data": {
      "image/png": "[encoded data removed]",
      "text/plain": [
       "<Figure size 864x432 with 1 Axes>"
      ]
     },
     "metadata": {
      "needs_background": "light"
     },
     "output_type": "display_data"
    }
   ],
   "source": [
    "sn.set_palette('Set2')\n",
    "plt.subplots(figsize=(12, 6))\n",
    "sn.histplot(data=auto_data['Power']);\n",
    "plt.xlim(0, 1500)\n",
    "plt.show()"
   ]
  },
  {
   "cell_type": "markdown",
   "metadata": {},
   "source": [
    "Широнов нет. Удаляем все \"правые\" выбросы. Оставим более приземленные значения до 400 лс, которые еще как то заметны на гистограмме"
   ]
  },
  {
   "cell_type": "code",
   "execution_count": 57,
   "metadata": {},
   "outputs": [],
   "source": [
    "pow_mask = auto_data['Power']>400"
   ]
  },
  {
   "cell_type": "code",
   "execution_count": 58,
   "metadata": {},
   "outputs": [],
   "source": [
    "auto_data = auto_data.drop(auto_data[pow_mask].index)"
   ]
  },
  {
   "cell_type": "markdown",
   "metadata": {},
   "source": [
    "**Так же смущает минимальное значение мощности в 0 л.с**\n",
    "\n",
    "Посмотрим как примерно выглядит гистограмма мощностей"
   ]
  },
  {
   "cell_type": "markdown",
   "metadata": {},
   "source": [
    "**Какие то более-менее заметные всплески начинаются с около 40 л.с.**\n",
    "**Все что ниже удалим как аномалии.**"
   ]
  },
  {
   "cell_type": "code",
   "execution_count": 59,
   "metadata": {},
   "outputs": [],
   "source": [
    "pow_mask = auto_data['Power']<40"
   ]
  },
  {
   "cell_type": "code",
   "execution_count": 60,
   "metadata": {},
   "outputs": [],
   "source": [
    "auto_data = auto_data.drop(auto_data[pow_mask].index)"
   ]
  },
  {
   "cell_type": "code",
   "execution_count": 61,
   "metadata": {},
   "outputs": [
    {
     "data": {
      "image/png": "[encoded data removed]",
      "text/plain": [
       "<Figure size 864x432 with 1 Axes>"
      ]
     },
     "metadata": {
      "needs_background": "light"
     },
     "output_type": "display_data"
    }
   ],
   "source": [
    "sn.set_palette('Set2')\n",
    "plt.subplots(figsize=(12, 6))\n",
    "sn.histplot(data=auto_data['Power']);\n",
    "plt.show()"
   ]
  },
  {
   "cell_type": "markdown",
   "metadata": {},
   "source": [
    "**Получше**"
   ]
  },
  {
   "cell_type": "markdown",
   "metadata": {},
   "source": [
    "**----------------------------------------------------------**"
   ]
  },
  {
   "cell_type": "markdown",
   "metadata": {},
   "source": [
    "**----------------------------------------------------------**"
   ]
  },
  {
   "cell_type": "markdown",
   "metadata": {},
   "source": [
    "### Kilometer"
   ]
  },
  {
   "cell_type": "code",
   "execution_count": 62,
   "metadata": {},
   "outputs": [
    {
     "data": {
      "text/plain": [
       "count    278364.000000\n",
       "mean     128378.076906\n",
       "std       36437.178991\n",
       "min        5000.000000\n",
       "25%      125000.000000\n",
       "50%      150000.000000\n",
       "75%      150000.000000\n",
       "max      150000.000000\n",
       "Name: Kilometer, dtype: float64"
      ]
     },
     "execution_count": 62,
     "metadata": {},
     "output_type": "execute_result"
    }
   ],
   "source": [
    "auto_data['Kilometer'].describe().T"
   ]
  },
  {
   "cell_type": "code",
   "execution_count": 63,
   "metadata": {
    "scrolled": false
   },
   "outputs": [
    {
     "data": {
      "image/png": "[encoded data removed]",
      "text/plain": [
       "<Figure size 864x432 with 1 Axes>"
      ]
     },
     "metadata": {
      "needs_background": "light"
     },
     "output_type": "display_data"
    },
    {
     "name": "stdout",
     "output_type": "stream",
     "text": [
      "150000    0.661443\n",
      "125000    0.109033\n",
      "100000    0.043303\n",
      "90000     0.035378\n",
      "80000     0.030866\n",
      "70000     0.026756\n",
      "60000     0.023376\n",
      "50000     0.019421\n",
      "40000     0.015512\n",
      "30000     0.013213\n",
      "20000     0.010788\n",
      "5000      0.007896\n",
      "10000     0.003014\n",
      "Name: Kilometer, dtype: float64\n",
      "150000    184122\n",
      "125000     30351\n",
      "100000     12054\n",
      "90000       9848\n",
      "80000       8592\n",
      "70000       7448\n",
      "60000       6507\n",
      "50000       5406\n",
      "40000       4318\n",
      "30000       3678\n",
      "20000       3003\n",
      "5000        2198\n",
      "10000        839\n",
      "Name: Kilometer, dtype: int64\n",
      "\n",
      "\n"
     ]
    }
   ],
   "source": [
    "cat_col_analiz(auto_data,'Kilometer')"
   ]
  },
  {
   "cell_type": "code",
   "execution_count": 64,
   "metadata": {},
   "outputs": [
    {
     "data": {
      "image/png": "[encoded data removed]",
      "text/plain": [
       "<Figure size 864x432 with 1 Axes>"
      ]
     },
     "metadata": {
      "needs_background": "light"
     },
     "output_type": "display_data"
    }
   ],
   "source": [
    "sn.set_palette('Set2')\n",
    "plt.subplots(figsize=(12, 6))\n",
    "sn.kdeplot(data=auto_data['Kilometer'], common_norm=True);\n",
    "plt.title(label=f'Нормализованная гистограмма распределения значения Kilometer' , fontsize=15)\n",
    "plt.xlabel('Kilometer', fontsize=15)\n",
    "plt.xticks(rotation=45,fontsize=10)\n",
    "plt.show()"
   ]
  },
  {
   "cell_type": "code",
   "execution_count": 65,
   "metadata": {},
   "outputs": [
    {
     "data": {
      "image/png": "[encoded data removed]",
      "text/plain": [
       "<Figure size 864x432 with 1 Axes>"
      ]
     },
     "metadata": {
      "needs_background": "light"
     },
     "output_type": "display_data"
    }
   ],
   "source": [
    "sn.set_palette('Set2')\n",
    "plt.subplots(figsize=(12, 6))\n",
    "sn.boxplot(x = auto_data['Kilometer']);\n",
    "plt.title(label=f'Ящик с усами для признака Kilometer', fontsize=15);\n",
    "plt.show()"
   ]
  },
  {
   "cell_type": "markdown",
   "metadata": {},
   "source": [
    "Алгоритм выделил все значения километража до 80000 как выбросы. Но у нас нет доказательств, что это скрученный пробег, возможно это новые авто и тд. Оставим как есть."
   ]
  },
  {
   "cell_type": "markdown",
   "metadata": {},
   "source": [
    "### Price"
   ]
  },
  {
   "cell_type": "code",
   "execution_count": 66,
   "metadata": {
    "scrolled": false
   },
   "outputs": [
    {
     "data": {
      "text/plain": [
       "count    278364.000000\n",
       "mean       4902.059598\n",
       "std        4635.770416\n",
       "min           0.000000\n",
       "25%        1350.000000\n",
       "50%        3250.000000\n",
       "75%        7000.000000\n",
       "max       20000.000000\n",
       "Name: Price, dtype: float64"
      ]
     },
     "execution_count": 66,
     "metadata": {},
     "output_type": "execute_result"
    }
   ],
   "source": [
    "auto_data['Price'].describe().T"
   ]
  },
  {
   "cell_type": "code",
   "execution_count": 67,
   "metadata": {},
   "outputs": [
    {
     "data": {
      "image/png": "[encoded data removed]",
      "text/plain": [
       "<Figure size 864x432 with 1 Axes>"
      ]
     },
     "metadata": {
      "needs_background": "light"
     },
     "output_type": "display_data"
    }
   ],
   "source": [
    "sn.set_palette('Set2')\n",
    "plt.subplots(figsize=(12, 6))\n",
    "sn.boxplot(x = auto_data['Price']);\n",
    "plt.title(label=f'Ящик с усами для признака Price', fontsize=15);\n",
    "plt.show()"
   ]
  },
  {
   "cell_type": "markdown",
   "metadata": {},
   "source": [
    "Алгоритм определил как выбросы значения выше 12500. Так же смущают машины стоимостью в 0. Установим минимальную валидную стоимость авто хотя бы в 100 единиц. А по поводу \"правых\" выбросов, они могут быть не выбросами, а большими желаниями продавцов. Оставим как есть."
   ]
  },
  {
   "cell_type": "code",
   "execution_count": 68,
   "metadata": {},
   "outputs": [],
   "source": [
    "price_mask = auto_data['Price'] < 100"
   ]
  },
  {
   "cell_type": "code",
   "execution_count": 69,
   "metadata": {},
   "outputs": [],
   "source": [
    "auto_data = auto_data.drop(auto_data[price_mask].index)"
   ]
  },
  {
   "cell_type": "code",
   "execution_count": 70,
   "metadata": {},
   "outputs": [],
   "source": [
    "df_total_size = auto_data.shape[0]"
   ]
  },
  {
   "cell_type": "code",
   "execution_count": 71,
   "metadata": {},
   "outputs": [
    {
     "name": "stdout",
     "output_type": "stream",
     "text": [
      "После обработки аномалий удалено 22.94 % данных\n"
     ]
    }
   ],
   "source": [
    "print(f'После обработки аномалий удалено {round((100 - df_total_size / auto_data_size * 100),2)} % данных')"
   ]
  },
  {
   "cell_type": "markdown",
   "metadata": {},
   "source": [
    "### Обработка данных завершена"
   ]
  },
  {
   "cell_type": "markdown",
   "metadata": {},
   "source": [
    "## 3. Подготовка данных"
   ]
  },
  {
   "cell_type": "code",
   "execution_count": 72,
   "metadata": {},
   "outputs": [
    {
     "name": "stdout",
     "output_type": "stream",
     "text": [
      "<class 'pandas.core.frame.DataFrame'>\n",
      "Int64Index: 273082 entries, 1 to 354368\n",
      "Data columns (total 16 columns):\n",
      " #   Column             Non-Null Count   Dtype \n",
      "---  ------             --------------   ----- \n",
      " 0   DateCrawled        273082 non-null  object\n",
      " 1   Price              273082 non-null  int64 \n",
      " 2   VehicleType        273082 non-null  object\n",
      " 3   RegistrationYear   273082 non-null  int64 \n",
      " 4   Gearbox            273082 non-null  object\n",
      " 5   Power              273082 non-null  int64 \n",
      " 6   Model              273082 non-null  object\n",
      " 7   Kilometer          273082 non-null  int64 \n",
      " 8   RegistrationMonth  273082 non-null  int64 \n",
      " 9   FuelType           273082 non-null  object\n",
      " 10  Brand              273082 non-null  object\n",
      " 11  Repaired           273082 non-null  object\n",
      " 12  DateCreated        273082 non-null  object\n",
      " 13  NumberOfPictures   273082 non-null  int64 \n",
      " 14  PostalCode         273082 non-null  int64 \n",
      " 15  LastSeen           273082 non-null  object\n",
      "dtypes: int64(7), object(9)\n",
      "memory usage: 35.4+ MB\n"
     ]
    }
   ],
   "source": [
    "auto_data.info()"
   ]
  },
  {
   "cell_type": "code",
   "execution_count": 73,
   "metadata": {},
   "outputs": [],
   "source": [
    "auto_data = auto_data.drop(['DateCrawled','DateCreated','NumberOfPictures','PostalCode','LastSeen'], axis=1)"
   ]
  },
  {
   "cell_type": "code",
   "execution_count": 74,
   "metadata": {},
   "outputs": [],
   "source": [
    "auto_data.drop_duplicates(inplace=True, keep='first')"
   ]
  },
  {
   "cell_type": "code",
   "execution_count": 75,
   "metadata": {},
   "outputs": [],
   "source": [
    "#auto_data = auto_data.drop('Model', axis=1)"
   ]
  },
  {
   "cell_type": "code",
   "execution_count": 76,
   "metadata": {},
   "outputs": [],
   "source": [
    "#auto_data.drop_duplicates(inplace=True, keep='first')"
   ]
  },
  {
   "cell_type": "code",
   "execution_count": 77,
   "metadata": {},
   "outputs": [],
   "source": [
    "auto_data = auto_data.drop('RegistrationMonth', axis=1)"
   ]
  },
  {
   "cell_type": "code",
   "execution_count": 78,
   "metadata": {},
   "outputs": [],
   "source": [
    "auto_data.drop_duplicates(inplace=True, keep='first')"
   ]
  },
  {
   "cell_type": "code",
   "execution_count": 79,
   "metadata": {},
   "outputs": [
    {
     "name": "stdout",
     "output_type": "stream",
     "text": [
      "<class 'pandas.core.frame.DataFrame'>\n",
      "Int64Index: 233004 entries, 1 to 354368\n",
      "Data columns (total 10 columns):\n",
      " #   Column            Non-Null Count   Dtype \n",
      "---  ------            --------------   ----- \n",
      " 0   Price             233004 non-null  int64 \n",
      " 1   VehicleType       233004 non-null  object\n",
      " 2   RegistrationYear  233004 non-null  int64 \n",
      " 3   Gearbox           233004 non-null  object\n",
      " 4   Power             233004 non-null  int64 \n",
      " 5   Model             233004 non-null  object\n",
      " 6   Kilometer         233004 non-null  int64 \n",
      " 7   FuelType          233004 non-null  object\n",
      " 8   Brand             233004 non-null  object\n",
      " 9   Repaired          233004 non-null  object\n",
      "dtypes: int64(4), object(6)\n",
      "memory usage: 19.6+ MB\n"
     ]
    }
   ],
   "source": [
    "auto_data.info()"
   ]
  },
  {
   "cell_type": "code",
   "execution_count": 80,
   "metadata": {},
   "outputs": [],
   "source": [
    "auto_data['Repaired'] = auto_data['Repaired'].apply(lambda x: 1 if x =='yes' else 0)"
   ]
  },
  {
   "cell_type": "code",
   "execution_count": 81,
   "metadata": {},
   "outputs": [],
   "source": [
    "auto_data['Gearbox'] = auto_data['Gearbox'].apply(lambda x: 1 if x =='auto' else 0)"
   ]
  },
  {
   "cell_type": "code",
   "execution_count": 82,
   "metadata": {},
   "outputs": [],
   "source": [
    "ohe_col = ['VehicleType','FuelType','Repaired']\n",
    "mes_col = ['Brand','Model']\n",
    "pass_col = ['Gearbox']\n",
    "num_col = ['RegistrationYear','Power','Kilometer']"
   ]
  },
  {
   "cell_type": "code",
   "execution_count": 83,
   "metadata": {},
   "outputs": [],
   "source": [
    "features.append('Model') #После долгих настроек и тестов, модели с \n",
    "                         #признаком Model в датасете показывали на кроссвалидации\n",
    "                        #лучшую метрику RMSE в среднем на 150 пунктов\n",
    "                        #а на кроссвалидации при бустинге на 600 пунктов"
   ]
  },
  {
   "cell_type": "code",
   "execution_count": 84,
   "metadata": {},
   "outputs": [],
   "source": [
    "X_train, X_valid, y_train, y_valid = train_test_split(\n",
    "    auto_data[features],\n",
    "    auto_data['Price'],\n",
    "    test_size = VALID_SIZE,\n",
    "    random_state = RANDOM_STATE)"
   ]
  },
  {
   "cell_type": "code",
   "execution_count": 85,
   "metadata": {},
   "outputs": [
    {
     "name": "stdout",
     "output_type": "stream",
     "text": [
      "<class 'pandas.core.frame.DataFrame'>\n",
      "Int64Index: 233004 entries, 1 to 354368\n",
      "Data columns (total 9 columns):\n",
      " #   Column            Non-Null Count   Dtype \n",
      "---  ------            --------------   ----- \n",
      " 0   VehicleType       233004 non-null  object\n",
      " 1   RegistrationYear  233004 non-null  int64 \n",
      " 2   Gearbox           233004 non-null  int64 \n",
      " 3   Power             233004 non-null  int64 \n",
      " 4   Kilometer         233004 non-null  int64 \n",
      " 5   FuelType          233004 non-null  object\n",
      " 6   Brand             233004 non-null  object\n",
      " 7   Repaired          233004 non-null  int64 \n",
      " 8   Model             233004 non-null  object\n",
      "dtypes: int64(5), object(4)\n",
      "memory usage: 17.8+ MB\n"
     ]
    }
   ],
   "source": [
    "auto_data[features].info()"
   ]
  },
  {
   "cell_type": "markdown",
   "metadata": {},
   "source": [
    "Списки готовы, приступаем к сборке пайплайна"
   ]
  },
  {
   "cell_type": "markdown",
   "metadata": {},
   "source": [
    "## 4. Обучение моделей"
   ]
  },
  {
   "cell_type": "markdown",
   "metadata": {},
   "source": [
    "### 4.1 Пайп с простыми моделями"
   ]
  },
  {
   "cell_type": "code",
   "execution_count": 86,
   "metadata": {},
   "outputs": [],
   "source": [
    "ohe_pipe = Pipeline(\n",
    "    [\n",
    "        (\n",
    "            'simpleImputer_ohe', SimpleImputer(missing_values=np.nan, strategy='most_frequent')\n",
    "        ),\n",
    "        (\n",
    "            'ohe', OneHotEncoder(handle_unknown='ignore', drop='first')\n",
    "        )\n",
    "    ]\n",
    ")"
   ]
  },
  {
   "cell_type": "code",
   "execution_count": 87,
   "metadata": {},
   "outputs": [],
   "source": [
    "mes_pipe = Pipeline(\n",
    "    [\n",
    "        (\n",
    "            'simpleImputer_ohe', SimpleImputer(missing_values=np.nan, strategy='most_frequent')\n",
    "        ),\n",
    "        (\n",
    "            'mes', MEstimateEncoder(m=50)\n",
    "        )\n",
    "    ]\n",
    ")"
   ]
  },
  {
   "cell_type": "code",
   "execution_count": 88,
   "metadata": {},
   "outputs": [],
   "source": [
    "data_preprocessor = ColumnTransformer(\n",
    "    [\n",
    "        ('ohe', ohe_pipe, ohe_col),\n",
    "        ('mes', mes_pipe, mes_col),\n",
    "        ('pas', 'passthrough', pass_col),\n",
    "        ('num', StandardScaler(), num_col)\n",
    "    ],\n",
    "    remainder='passthrough'\n",
    ")"
   ]
  },
  {
   "cell_type": "code",
   "execution_count": 89,
   "metadata": {},
   "outputs": [],
   "source": [
    "pipe_final = Pipeline(\n",
    "    [\n",
    "        ('preprocessor', data_preprocessor),\n",
    "        ('models', None)\n",
    "    ]\n",
    ") "
   ]
  },
  {
   "cell_type": "code",
   "execution_count": 90,
   "metadata": {},
   "outputs": [],
   "source": [
    "param_grid = [\n",
    "    {\n",
    "        'models': [LinearRegression()],\n",
    "        'preprocessor__num': [StandardScaler(), MinMaxScaler(), 'passthrough']\n",
    "    },\n",
    "     {\n",
    "        'models': [DecisionTreeRegressor()],\n",
    "        'preprocessor__num': [StandardScaler(), MinMaxScaler(), 'passthrough']\n",
    "    }\n",
    "]"
   ]
  },
  {
   "cell_type": "code",
   "execution_count": 91,
   "metadata": {},
   "outputs": [],
   "source": [
    "grid_search = GridSearchCV(\n",
    "    pipe_final, \n",
    "    param_grid,\n",
    "    cv=5,\n",
    "    scoring = 'neg_mean_squared_error',  \n",
    "    n_jobs=-1,\n",
    "    verbose=2\n",
    ")"
   ]
  },
  {
   "cell_type": "code",
   "execution_count": 92,
   "metadata": {
    "scrolled": false
   },
   "outputs": [
    {
     "name": "stdout",
     "output_type": "stream",
     "text": [
      "Fitting 5 folds for each of 6 candidates, totalling 30 fits\n",
      "[CV] END models=LinearRegression(), preprocessor__num=StandardScaler(); total time=   1.0s\n",
      "[CV] END models=LinearRegression(), preprocessor__num=StandardScaler(); total time=   1.1s\n",
      "[CV] END models=LinearRegression(), preprocessor__num=StandardScaler(); total time=   1.1s\n",
      "[CV] END models=LinearRegression(), preprocessor__num=StandardScaler(); total time=   1.2s\n",
      "[CV] END models=LinearRegression(), preprocessor__num=StandardScaler(); total time=   1.8s\n",
      "[CV] END models=LinearRegression(), preprocessor__num=MinMaxScaler(); total time=   1.0s\n",
      "[CV] END models=LinearRegression(), preprocessor__num=MinMaxScaler(); total time=   1.1s\n",
      "[CV] END models=LinearRegression(), preprocessor__num=MinMaxScaler(); total time=   1.1s\n",
      "[CV] END models=LinearRegression(), preprocessor__num=MinMaxScaler(); total time=   1.1s\n",
      "[CV] END models=LinearRegression(), preprocessor__num=MinMaxScaler(); total time=   1.1s\n",
      "[CV] END models=LinearRegression(), preprocessor__num=passthrough; total time=   1.1s\n",
      "[CV] END models=LinearRegression(), preprocessor__num=passthrough; total time=   1.0s\n",
      "[CV] END models=LinearRegression(), preprocessor__num=passthrough; total time=   1.1s\n",
      "[CV] END models=LinearRegression(), preprocessor__num=passthrough; total time=   1.0s\n",
      "[CV] END models=LinearRegression(), preprocessor__num=passthrough; total time=   1.1s\n",
      "[CV] END models=DecisionTreeRegressor(), preprocessor__num=StandardScaler(); total time=   1.8s\n",
      "[CV] END models=DecisionTreeRegressor(), preprocessor__num=StandardScaler(); total time=   1.5s\n",
      "[CV] END models=DecisionTreeRegressor(), preprocessor__num=StandardScaler(); total time=   1.5s\n",
      "[CV] END models=DecisionTreeRegressor(), preprocessor__num=StandardScaler(); total time=   1.5s\n",
      "[CV] END models=DecisionTreeRegressor(), preprocessor__num=StandardScaler(); total time=   1.5s\n",
      "[CV] END models=DecisionTreeRegressor(), preprocessor__num=MinMaxScaler(); total time=   1.5s\n",
      "[CV] END models=DecisionTreeRegressor(), preprocessor__num=MinMaxScaler(); total time=   1.4s\n",
      "[CV] END models=DecisionTreeRegressor(), preprocessor__num=MinMaxScaler(); total time=   1.4s\n",
      "[CV] END models=DecisionTreeRegressor(), preprocessor__num=MinMaxScaler(); total time=   1.5s\n",
      "[CV] END models=DecisionTreeRegressor(), preprocessor__num=MinMaxScaler(); total time=   1.5s\n",
      "[CV] END models=DecisionTreeRegressor(), preprocessor__num=passthrough; total time=   1.4s\n",
      "[CV] END models=DecisionTreeRegressor(), preprocessor__num=passthrough; total time=   1.4s\n",
      "[CV] END models=DecisionTreeRegressor(), preprocessor__num=passthrough; total time=   1.5s\n",
      "[CV] END models=DecisionTreeRegressor(), preprocessor__num=passthrough; total time=   1.4s\n",
      "[CV] END models=DecisionTreeRegressor(), preprocessor__num=passthrough; total time=   1.4s\n"
     ]
    }
   ],
   "source": [
    "grid_search.fit(X_train, y_train);"
   ]
  },
  {
   "cell_type": "code",
   "execution_count": 93,
   "metadata": {},
   "outputs": [],
   "source": [
    "score = grid_search.cv_results_['mean_test_score'].min()"
   ]
  },
  {
   "cell_type": "code",
   "execution_count": 94,
   "metadata": {},
   "outputs": [],
   "source": [
    "best_model_time = round(grid_search.refit_time_,2)"
   ]
  },
  {
   "cell_type": "code",
   "execution_count": 95,
   "metadata": {},
   "outputs": [],
   "source": [
    "score_no_boost = abs(score)**0.5"
   ]
  },
  {
   "cell_type": "code",
   "execution_count": 96,
   "metadata": {},
   "outputs": [
    {
     "name": "stdout",
     "output_type": "stream",
     "text": [
      "Метрика RMSE для лучшей модели без градиентного бустинга на кроссвалидации равна 2634.6482577302936\n"
     ]
    }
   ],
   "source": [
    "print(f'Метрика RMSE для лучшей модели без градиентного бустинга на кроссвалидации равна {score_no_boost}')"
   ]
  },
  {
   "cell_type": "code",
   "execution_count": 97,
   "metadata": {},
   "outputs": [
    {
     "name": "stdout",
     "output_type": "stream",
     "text": [
      "Время обучения лучшей модели без градиентного бустинга равно 1.66 секунды\n"
     ]
    }
   ],
   "source": [
    "print(f'Время обучения лучшей модели без градиентного бустинга равно {best_model_time} секунды')"
   ]
  },
  {
   "cell_type": "markdown",
   "metadata": {},
   "source": [
    "### 4.2 Поиск по сетке с моделью lightgbm"
   ]
  },
  {
   "cell_type": "code",
   "execution_count": 98,
   "metadata": {},
   "outputs": [],
   "source": [
    "param_grid_gbm = {\n",
    " 'learning_rate': [0.1, 0.05],\n",
    " 'n_estimators': [150 ,100],\n",
    " 'max_depth': [5,7],\n",
    " 'num_leaves':[3,5,7]\n",
    "}"
   ]
  },
  {
   "cell_type": "code",
   "execution_count": 99,
   "metadata": {},
   "outputs": [],
   "source": [
    "model_gbm = lgm.LGBMRegressor(objective='regression', random_state=RANDOM_STATE)"
   ]
  },
  {
   "cell_type": "code",
   "execution_count": 100,
   "metadata": {},
   "outputs": [],
   "source": [
    "grid_search_gbm = GridSearchCV(\n",
    "    model_gbm, \n",
    "    param_grid_gbm,\n",
    "    cv=5,\n",
    "    scoring = 'neg_mean_squared_error',  \n",
    "    n_jobs=-1,\n",
    "    verbose=2\n",
    ")"
   ]
  },
  {
   "cell_type": "code",
   "execution_count": 101,
   "metadata": {},
   "outputs": [],
   "source": [
    "ohe_col = ['VehicleType','FuelType','Repaired']\n",
    "mes_col = ['Brand','Model']\n",
    "pass_col = ['Gearbox']\n",
    "num_col = ['RegistrationYear','Power','Kilometer']"
   ]
  },
  {
   "cell_type": "code",
   "execution_count": 102,
   "metadata": {},
   "outputs": [],
   "source": [
    "for col in X_train.select_dtypes(include='object').columns:\n",
    "    X_train[col] = X_train[col].astype('category')"
   ]
  },
  {
   "cell_type": "code",
   "execution_count": 103,
   "metadata": {},
   "outputs": [],
   "source": [
    "for col in X_valid.select_dtypes(include='object').columns:\n",
    "    X_valid[col] = X_valid[col].astype('category')"
   ]
  },
  {
   "cell_type": "code",
   "execution_count": 104,
   "metadata": {
    "scrolled": false
   },
   "outputs": [
    {
     "name": "stdout",
     "output_type": "stream",
     "text": [
      "Fitting 5 folds for each of 24 candidates, totalling 120 fits\n",
      "[CV] END learning_rate=0.1, max_depth=5, n_estimators=150, num_leaves=3; total time=   2.5s\n",
      "[CV] END learning_rate=0.1, max_depth=5, n_estimators=150, num_leaves=3; total time=   2.6s\n",
      "[CV] END learning_rate=0.1, max_depth=5, n_estimators=150, num_leaves=3; total time=   2.5s\n",
      "[CV] END learning_rate=0.1, max_depth=5, n_estimators=150, num_leaves=3; total time=   2.6s\n",
      "[CV] END learning_rate=0.1, max_depth=5, n_estimators=150, num_leaves=3; total time=   2.5s\n",
      "[CV] END learning_rate=0.1, max_depth=5, n_estimators=150, num_leaves=5; total time=   3.2s\n",
      "[CV] END learning_rate=0.1, max_depth=5, n_estimators=150, num_leaves=5; total time=   3.0s\n",
      "[CV] END learning_rate=0.1, max_depth=5, n_estimators=150, num_leaves=5; total time=   2.9s\n",
      "[CV] END learning_rate=0.1, max_depth=5, n_estimators=150, num_leaves=5; total time=   3.2s\n",
      "[CV] END learning_rate=0.1, max_depth=5, n_estimators=150, num_leaves=5; total time=   3.0s\n",
      "[CV] END learning_rate=0.1, max_depth=5, n_estimators=150, num_leaves=7; total time=   3.6s\n",
      "[CV] END learning_rate=0.1, max_depth=5, n_estimators=150, num_leaves=7; total time=   3.5s\n",
      "[CV] END learning_rate=0.1, max_depth=5, n_estimators=150, num_leaves=7; total time=   3.4s\n",
      "[CV] END learning_rate=0.1, max_depth=5, n_estimators=150, num_leaves=7; total time=   3.4s\n",
      "[CV] END learning_rate=0.1, max_depth=5, n_estimators=150, num_leaves=7; total time=   8.2s\n",
      "[CV] END learning_rate=0.1, max_depth=5, n_estimators=100, num_leaves=3; total time=   1.9s\n",
      "[CV] END learning_rate=0.1, max_depth=5, n_estimators=100, num_leaves=3; total time=   1.9s\n",
      "[CV] END learning_rate=0.1, max_depth=5, n_estimators=100, num_leaves=3; total time=   1.8s\n",
      "[CV] END learning_rate=0.1, max_depth=5, n_estimators=100, num_leaves=3; total time=   2.0s\n",
      "[CV] END learning_rate=0.1, max_depth=5, n_estimators=100, num_leaves=3; total time=   2.8s\n",
      "[CV] END learning_rate=0.1, max_depth=5, n_estimators=100, num_leaves=5; total time=   2.1s\n",
      "[CV] END learning_rate=0.1, max_depth=5, n_estimators=100, num_leaves=5; total time=   2.3s\n",
      "[CV] END learning_rate=0.1, max_depth=5, n_estimators=100, num_leaves=5; total time=   2.4s\n",
      "[CV] END learning_rate=0.1, max_depth=5, n_estimators=100, num_leaves=5; total time=   2.2s\n",
      "[CV] END learning_rate=0.1, max_depth=5, n_estimators=100, num_leaves=5; total time=   2.2s\n",
      "[CV] END learning_rate=0.1, max_depth=5, n_estimators=100, num_leaves=7; total time=   2.6s\n",
      "[CV] END learning_rate=0.1, max_depth=5, n_estimators=100, num_leaves=7; total time=   2.6s\n",
      "[CV] END learning_rate=0.1, max_depth=5, n_estimators=100, num_leaves=7; total time=   2.5s\n",
      "[CV] END learning_rate=0.1, max_depth=5, n_estimators=100, num_leaves=7; total time=   2.6s\n",
      "[CV] END learning_rate=0.1, max_depth=5, n_estimators=100, num_leaves=7; total time=   2.5s\n",
      "[CV] END learning_rate=0.1, max_depth=7, n_estimators=150, num_leaves=3; total time=   2.5s\n",
      "[CV] END learning_rate=0.1, max_depth=7, n_estimators=150, num_leaves=3; total time=   2.4s\n",
      "[CV] END learning_rate=0.1, max_depth=7, n_estimators=150, num_leaves=3; total time=   2.4s\n",
      "[CV] END learning_rate=0.1, max_depth=7, n_estimators=150, num_leaves=3; total time=   2.6s\n",
      "[CV] END learning_rate=0.1, max_depth=7, n_estimators=150, num_leaves=3; total time=   2.6s\n",
      "[CV] END learning_rate=0.1, max_depth=7, n_estimators=150, num_leaves=5; total time=   3.0s\n",
      "[CV] END learning_rate=0.1, max_depth=7, n_estimators=150, num_leaves=5; total time=   3.0s\n",
      "[CV] END learning_rate=0.1, max_depth=7, n_estimators=150, num_leaves=5; total time=   3.0s\n",
      "[CV] END learning_rate=0.1, max_depth=7, n_estimators=150, num_leaves=5; total time=   3.0s\n",
      "[CV] END learning_rate=0.1, max_depth=7, n_estimators=150, num_leaves=5; total time=   3.0s\n",
      "[CV] END learning_rate=0.1, max_depth=7, n_estimators=150, num_leaves=7; total time=   3.5s\n",
      "[CV] END learning_rate=0.1, max_depth=7, n_estimators=150, num_leaves=7; total time=   3.3s\n",
      "[CV] END learning_rate=0.1, max_depth=7, n_estimators=150, num_leaves=7; total time=   3.3s\n",
      "[CV] END learning_rate=0.1, max_depth=7, n_estimators=150, num_leaves=7; total time=   3.5s\n",
      "[CV] END learning_rate=0.1, max_depth=7, n_estimators=150, num_leaves=7; total time=   4.0s\n",
      "[CV] END learning_rate=0.1, max_depth=7, n_estimators=100, num_leaves=3; total time=   1.9s\n",
      "[CV] END learning_rate=0.1, max_depth=7, n_estimators=100, num_leaves=3; total time=   1.7s\n",
      "[CV] END learning_rate=0.1, max_depth=7, n_estimators=100, num_leaves=3; total time=   1.8s\n",
      "[CV] END learning_rate=0.1, max_depth=7, n_estimators=100, num_leaves=3; total time=   1.7s\n",
      "[CV] END learning_rate=0.1, max_depth=7, n_estimators=100, num_leaves=3; total time=   1.7s\n",
      "[CV] END learning_rate=0.1, max_depth=7, n_estimators=100, num_leaves=5; total time=   2.2s\n",
      "[CV] END learning_rate=0.1, max_depth=7, n_estimators=100, num_leaves=5; total time=   2.2s\n",
      "[CV] END learning_rate=0.1, max_depth=7, n_estimators=100, num_leaves=5; total time=   2.3s\n",
      "[CV] END learning_rate=0.1, max_depth=7, n_estimators=100, num_leaves=5; total time=   2.4s\n",
      "[CV] END learning_rate=0.1, max_depth=7, n_estimators=100, num_leaves=5; total time=   2.5s\n",
      "[CV] END learning_rate=0.1, max_depth=7, n_estimators=100, num_leaves=7; total time=   2.5s\n",
      "[CV] END learning_rate=0.1, max_depth=7, n_estimators=100, num_leaves=7; total time=   2.4s\n",
      "[CV] END learning_rate=0.1, max_depth=7, n_estimators=100, num_leaves=7; total time=   2.5s\n",
      "[CV] END learning_rate=0.1, max_depth=7, n_estimators=100, num_leaves=7; total time=   2.7s\n",
      "[CV] END learning_rate=0.1, max_depth=7, n_estimators=100, num_leaves=7; total time=   4.1s\n",
      "[CV] END learning_rate=0.05, max_depth=5, n_estimators=150, num_leaves=3; total time=   5.2s\n",
      "[CV] END learning_rate=0.05, max_depth=5, n_estimators=150, num_leaves=3; total time=   2.8s\n",
      "[CV] END learning_rate=0.05, max_depth=5, n_estimators=150, num_leaves=3; total time=   3.7s\n",
      "[CV] END learning_rate=0.05, max_depth=5, n_estimators=150, num_leaves=3; total time=   2.7s\n",
      "[CV] END learning_rate=0.05, max_depth=5, n_estimators=150, num_leaves=3; total time=   3.3s\n",
      "[CV] END learning_rate=0.05, max_depth=5, n_estimators=150, num_leaves=5; total time=   3.3s\n",
      "[CV] END learning_rate=0.05, max_depth=5, n_estimators=150, num_leaves=5; total time=   3.4s\n",
      "[CV] END learning_rate=0.05, max_depth=5, n_estimators=150, num_leaves=5; total time=   3.2s\n",
      "[CV] END learning_rate=0.05, max_depth=5, n_estimators=150, num_leaves=5; total time=   4.7s\n",
      "[CV] END learning_rate=0.05, max_depth=5, n_estimators=150, num_leaves=5; total time=   3.4s\n",
      "[CV] END learning_rate=0.05, max_depth=5, n_estimators=150, num_leaves=7; total time=   3.7s\n",
      "[CV] END learning_rate=0.05, max_depth=5, n_estimators=150, num_leaves=7; total time=   3.6s\n",
      "[CV] END learning_rate=0.05, max_depth=5, n_estimators=150, num_leaves=7; total time=   3.9s\n",
      "[CV] END learning_rate=0.05, max_depth=5, n_estimators=150, num_leaves=7; total time=   3.8s\n",
      "[CV] END learning_rate=0.05, max_depth=5, n_estimators=150, num_leaves=7; total time= 1.8min\n",
      "[CV] END learning_rate=0.05, max_depth=5, n_estimators=100, num_leaves=3; total time=  25.0s\n",
      "[CV] END learning_rate=0.05, max_depth=5, n_estimators=100, num_leaves=3; total time=   1.8s\n",
      "[CV] END learning_rate=0.05, max_depth=5, n_estimators=100, num_leaves=3; total time=   1.9s\n",
      "[CV] END learning_rate=0.05, max_depth=5, n_estimators=100, num_leaves=3; total time=   2.0s\n",
      "[CV] END learning_rate=0.05, max_depth=5, n_estimators=100, num_leaves=3; total time=   1.9s\n",
      "[CV] END learning_rate=0.05, max_depth=5, n_estimators=100, num_leaves=5; total time=   2.7s\n",
      "[CV] END learning_rate=0.05, max_depth=5, n_estimators=100, num_leaves=5; total time=   2.2s\n",
      "[CV] END learning_rate=0.05, max_depth=5, n_estimators=100, num_leaves=5; total time=   2.3s\n",
      "[CV] END learning_rate=0.05, max_depth=5, n_estimators=100, num_leaves=5; total time=   2.4s\n",
      "[CV] END learning_rate=0.05, max_depth=5, n_estimators=100, num_leaves=5; total time=   2.5s\n",
      "[CV] END learning_rate=0.05, max_depth=5, n_estimators=100, num_leaves=7; total time=  51.2s\n",
      "[CV] END learning_rate=0.05, max_depth=5, n_estimators=100, num_leaves=7; total time=  32.8s\n",
      "[CV] END learning_rate=0.05, max_depth=5, n_estimators=100, num_leaves=7; total time=   9.0s\n",
      "[CV] END learning_rate=0.05, max_depth=5, n_estimators=100, num_leaves=7; total time=   4.7s\n",
      "[CV] END learning_rate=0.05, max_depth=5, n_estimators=100, num_leaves=7; total time=   4.0s\n",
      "[CV] END learning_rate=0.05, max_depth=7, n_estimators=150, num_leaves=3; total time=   2.8s\n",
      "[CV] END learning_rate=0.05, max_depth=7, n_estimators=150, num_leaves=3; total time=   2.8s\n",
      "[CV] END learning_rate=0.05, max_depth=7, n_estimators=150, num_leaves=3; total time=   2.7s\n",
      "[CV] END learning_rate=0.05, max_depth=7, n_estimators=150, num_leaves=3; total time=   2.5s\n",
      "[CV] END learning_rate=0.05, max_depth=7, n_estimators=150, num_leaves=3; total time=   3.3s\n",
      "[CV] END learning_rate=0.05, max_depth=7, n_estimators=150, num_leaves=5; total time= 1.1min\n",
      "[CV] END learning_rate=0.05, max_depth=7, n_estimators=150, num_leaves=5; total time= 1.6min\n",
      "[CV] END learning_rate=0.05, max_depth=7, n_estimators=150, num_leaves=5; total time=   9.0s\n",
      "[CV] END learning_rate=0.05, max_depth=7, n_estimators=150, num_leaves=5; total time=   3.4s\n",
      "[CV] END learning_rate=0.05, max_depth=7, n_estimators=150, num_leaves=5; total time= 2.0min\n",
      "[CV] END learning_rate=0.05, max_depth=7, n_estimators=150, num_leaves=7; total time=  43.6s\n",
      "[CV] END learning_rate=0.05, max_depth=7, n_estimators=150, num_leaves=7; total time=   3.7s\n",
      "[CV] END learning_rate=0.05, max_depth=7, n_estimators=150, num_leaves=7; total time=   3.5s\n",
      "[CV] END learning_rate=0.05, max_depth=7, n_estimators=150, num_leaves=7; total time=   3.6s\n",
      "[CV] END learning_rate=0.05, max_depth=7, n_estimators=150, num_leaves=7; total time=   4.1s\n",
      "[CV] END learning_rate=0.05, max_depth=7, n_estimators=100, num_leaves=3; total time=   2.3s\n",
      "[CV] END learning_rate=0.05, max_depth=7, n_estimators=100, num_leaves=3; total time=   1.9s\n",
      "[CV] END learning_rate=0.05, max_depth=7, n_estimators=100, num_leaves=3; total time=   2.0s\n",
      "[CV] END learning_rate=0.05, max_depth=7, n_estimators=100, num_leaves=3; total time=   1.8s\n",
      "[CV] END learning_rate=0.05, max_depth=7, n_estimators=100, num_leaves=3; total time=   1.9s\n",
      "[CV] END learning_rate=0.05, max_depth=7, n_estimators=100, num_leaves=5; total time=   2.5s\n",
      "[CV] END learning_rate=0.05, max_depth=7, n_estimators=100, num_leaves=5; total time=   2.4s\n",
      "[CV] END learning_rate=0.05, max_depth=7, n_estimators=100, num_leaves=5; total time=   2.3s\n",
      "[CV] END learning_rate=0.05, max_depth=7, n_estimators=100, num_leaves=5; total time=   3.3s\n",
      "[CV] END learning_rate=0.05, max_depth=7, n_estimators=100, num_leaves=5; total time=   2.5s\n",
      "[CV] END learning_rate=0.05, max_depth=7, n_estimators=100, num_leaves=7; total time=   2.5s\n",
      "[CV] END learning_rate=0.05, max_depth=7, n_estimators=100, num_leaves=7; total time=   2.6s\n",
      "[CV] END learning_rate=0.05, max_depth=7, n_estimators=100, num_leaves=7; total time=   3.1s\n",
      "[CV] END learning_rate=0.05, max_depth=7, n_estimators=100, num_leaves=7; total time=   3.5s\n",
      "[CV] END learning_rate=0.05, max_depth=7, n_estimators=100, num_leaves=7; total time=   2.9s\n"
     ]
    },
    {
     "data": {
      "text/html": [
       "<style>#sk-container-id-1 {\n",
       "  /* Definition of color scheme common for light and dark mode */\n",
       "  --sklearn-color-text: black;\n",
       "  --sklearn-color-line: gray;\n",
       "  /* Definition of color scheme for unfitted estimators */\n",
       "  --sklearn-color-unfitted-level-0: #fff5e6;\n",
       "  --sklearn-color-unfitted-level-1: #f6e4d2;\n",
       "  --sklearn-color-unfitted-level-2: #ffe0b3;\n",
       "  --sklearn-color-unfitted-level-3: chocolate;\n",
       "  /* Definition of color scheme for fitted estimators */\n",
       "  --sklearn-color-fitted-level-0: #f0f8ff;\n",
       "  --sklearn-color-fitted-level-1: #d4ebff;\n",
       "  --sklearn-color-fitted-level-2: #b3dbfd;\n",
       "  --sklearn-color-fitted-level-3: cornflowerblue;\n",
       "\n",
       "  /* Specific color for light theme */\n",
       "  --sklearn-color-text-on-default-background: var(--sg-text-color, var(--theme-code-foreground, var(--jp-content-font-color1, black)));\n",
       "  --sklearn-color-background: var(--sg-background-color, var(--theme-background, var(--jp-layout-color0, white)));\n",
       "  --sklearn-color-border-box: var(--sg-text-color, var(--theme-code-foreground, var(--jp-content-font-color1, black)));\n",
       "  --sklearn-color-icon: #696969;\n",
       "\n",
       "  @media (prefers-color-scheme: dark) {\n",
       "    /* Redefinition of color scheme for dark theme */\n",
       "    --sklearn-color-text-on-default-background: var(--sg-text-color, var(--theme-code-foreground, var(--jp-content-font-color1, white)));\n",
       "    --sklearn-color-background: var(--sg-background-color, var(--theme-background, var(--jp-layout-color0, #111)));\n",
       "    --sklearn-color-border-box: var(--sg-text-color, var(--theme-code-foreground, var(--jp-content-font-color1, white)));\n",
       "    --sklearn-color-icon: #878787;\n",
       "  }\n",
       "}\n",
       "\n",
       "#sk-container-id-1 {\n",
       "  color: var(--sklearn-color-text);\n",
       "}\n",
       "\n",
       "#sk-container-id-1 pre {\n",
       "  padding: 0;\n",
       "}\n",
       "\n",
       "#sk-container-id-1 input.sk-hidden--visually {\n",
       "  border: 0;\n",
       "  clip: rect(1px 1px 1px 1px);\n",
       "  clip: rect(1px, 1px, 1px, 1px);\n",
       "  height: 1px;\n",
       "  margin: -1px;\n",
       "  overflow: hidden;\n",
       "  padding: 0;\n",
       "  position: absolute;\n",
       "  width: 1px;\n",
       "}\n",
       "\n",
       "#sk-container-id-1 div.sk-dashed-wrapped {\n",
       "  border: 1px dashed var(--sklearn-color-line);\n",
       "  margin: 0 0.4em 0.5em 0.4em;\n",
       "  box-sizing: border-box;\n",
       "  padding-bottom: 0.4em;\n",
       "  background-color: var(--sklearn-color-background);\n",
       "}\n",
       "\n",
       "#sk-container-id-1 div.sk-container {\n",
       "  /* jupyter's `normalize.less` sets `[hidden] { display: none; }`\n",
       "     but bootstrap.min.css set `[hidden] { display: none !important; }`\n",
       "     so we also need the `!important` here to be able to override the\n",
       "     default hidden behavior on the sphinx rendered scikit-learn.org.\n",
       "     See: https://github.com/scikit-learn/scikit-learn/issues/21755 */\n",
       "  display: inline-block !important;\n",
       "  position: relative;\n",
       "}\n",
       "\n",
       "#sk-container-id-1 div.sk-text-repr-fallback {\n",
       "  display: none;\n",
       "}\n",
       "\n",
       "div.sk-parallel-item,\n",
       "div.sk-serial,\n",
       "div.sk-item {\n",
       "  /* draw centered vertical line to link estimators */\n",
       "  background-image: linear-gradient(var(--sklearn-color-text-on-default-background), var(--sklearn-color-text-on-default-background));\n",
       "  background-size: 2px 100%;\n",
       "  background-repeat: no-repeat;\n",
       "  background-position: center center;\n",
       "}\n",
       "\n",
       "/* Parallel-specific style estimator block */\n",
       "\n",
       "#sk-container-id-1 div.sk-parallel-item::after {\n",
       "  content: \"\";\n",
       "  width: 100%;\n",
       "  border-bottom: 2px solid var(--sklearn-color-text-on-default-background);\n",
       "  flex-grow: 1;\n",
       "}\n",
       "\n",
       "#sk-container-id-1 div.sk-parallel {\n",
       "  display: flex;\n",
       "  align-items: stretch;\n",
       "  justify-content: center;\n",
       "  background-color: var(--sklearn-color-background);\n",
       "  position: relative;\n",
       "}\n",
       "\n",
       "#sk-container-id-1 div.sk-parallel-item {\n",
       "  display: flex;\n",
       "  flex-direction: column;\n",
       "}\n",
       "\n",
       "#sk-container-id-1 div.sk-parallel-item:first-child::after {\n",
       "  align-self: flex-end;\n",
       "  width: 50%;\n",
       "}\n",
       "\n",
       "#sk-container-id-1 div.sk-parallel-item:last-child::after {\n",
       "  align-self: flex-start;\n",
       "  width: 50%;\n",
       "}\n",
       "\n",
       "#sk-container-id-1 div.sk-parallel-item:only-child::after {\n",
       "  width: 0;\n",
       "}\n",
       "\n",
       "/* Serial-specific style estimator block */\n",
       "\n",
       "#sk-container-id-1 div.sk-serial {\n",
       "  display: flex;\n",
       "  flex-direction: column;\n",
       "  align-items: center;\n",
       "  background-color: var(--sklearn-color-background);\n",
       "  padding-right: 1em;\n",
       "  padding-left: 1em;\n",
       "}\n",
       "\n",
       "\n",
       "/* Toggleable style: style used for estimator/Pipeline/ColumnTransformer box that is\n",
       "clickable and can be expanded/collapsed.\n",
       "- Pipeline and ColumnTransformer use this feature and define the default style\n",
       "- Estimators will overwrite some part of the style using the `sk-estimator` class\n",
       "*/\n",
       "\n",
       "/* Pipeline and ColumnTransformer style (default) */\n",
       "\n",
       "#sk-container-id-1 div.sk-toggleable {\n",
       "  /* Default theme specific background. It is overwritten whether we have a\n",
       "  specific estimator or a Pipeline/ColumnTransformer */\n",
       "  background-color: var(--sklearn-color-background);\n",
       "}\n",
       "\n",
       "/* Toggleable label */\n",
       "#sk-container-id-1 label.sk-toggleable__label {\n",
       "  cursor: pointer;\n",
       "  display: block;\n",
       "  width: 100%;\n",
       "  margin-bottom: 0;\n",
       "  padding: 0.5em;\n",
       "  box-sizing: border-box;\n",
       "  text-align: center;\n",
       "}\n",
       "\n",
       "#sk-container-id-1 label.sk-toggleable__label-arrow:before {\n",
       "  /* Arrow on the left of the label */\n",
       "  content: \"▸\";\n",
       "  float: left;\n",
       "  margin-right: 0.25em;\n",
       "  color: var(--sklearn-color-icon);\n",
       "}\n",
       "\n",
       "#sk-container-id-1 label.sk-toggleable__label-arrow:hover:before {\n",
       "  color: var(--sklearn-color-text);\n",
       "}\n",
       "\n",
       "/* Toggleable content - dropdown */\n",
       "\n",
       "#sk-container-id-1 div.sk-toggleable__content {\n",
       "  max-height: 0;\n",
       "  max-width: 0;\n",
       "  overflow: hidden;\n",
       "  text-align: left;\n",
       "  /* unfitted */\n",
       "  background-color: var(--sklearn-color-unfitted-level-0);\n",
       "}\n",
       "\n",
       "#sk-container-id-1 div.sk-toggleable__content.fitted {\n",
       "  /* fitted */\n",
       "  background-color: var(--sklearn-color-fitted-level-0);\n",
       "}\n",
       "\n",
       "#sk-container-id-1 div.sk-toggleable__content pre {\n",
       "  margin: 0.2em;\n",
       "  border-radius: 0.25em;\n",
       "  color: var(--sklearn-color-text);\n",
       "  /* unfitted */\n",
       "  background-color: var(--sklearn-color-unfitted-level-0);\n",
       "}\n",
       "\n",
       "#sk-container-id-1 div.sk-toggleable__content.fitted pre {\n",
       "  /* unfitted */\n",
       "  background-color: var(--sklearn-color-fitted-level-0);\n",
       "}\n",
       "\n",
       "#sk-container-id-1 input.sk-toggleable__control:checked~div.sk-toggleable__content {\n",
       "  /* Expand drop-down */\n",
       "  max-height: 200px;\n",
       "  max-width: 100%;\n",
       "  overflow: auto;\n",
       "}\n",
       "\n",
       "#sk-container-id-1 input.sk-toggleable__control:checked~label.sk-toggleable__label-arrow:before {\n",
       "  content: \"▾\";\n",
       "}\n",
       "\n",
       "/* Pipeline/ColumnTransformer-specific style */\n",
       "\n",
       "#sk-container-id-1 div.sk-label input.sk-toggleable__control:checked~label.sk-toggleable__label {\n",
       "  color: var(--sklearn-color-text);\n",
       "  background-color: var(--sklearn-color-unfitted-level-2);\n",
       "}\n",
       "\n",
       "#sk-container-id-1 div.sk-label.fitted input.sk-toggleable__control:checked~label.sk-toggleable__label {\n",
       "  background-color: var(--sklearn-color-fitted-level-2);\n",
       "}\n",
       "\n",
       "/* Estimator-specific style */\n",
       "\n",
       "/* Colorize estimator box */\n",
       "#sk-container-id-1 div.sk-estimator input.sk-toggleable__control:checked~label.sk-toggleable__label {\n",
       "  /* unfitted */\n",
       "  background-color: var(--sklearn-color-unfitted-level-2);\n",
       "}\n",
       "\n",
       "#sk-container-id-1 div.sk-estimator.fitted input.sk-toggleable__control:checked~label.sk-toggleable__label {\n",
       "  /* fitted */\n",
       "  background-color: var(--sklearn-color-fitted-level-2);\n",
       "}\n",
       "\n",
       "#sk-container-id-1 div.sk-label label.sk-toggleable__label,\n",
       "#sk-container-id-1 div.sk-label label {\n",
       "  /* The background is the default theme color */\n",
       "  color: var(--sklearn-color-text-on-default-background);\n",
       "}\n",
       "\n",
       "/* On hover, darken the color of the background */\n",
       "#sk-container-id-1 div.sk-label:hover label.sk-toggleable__label {\n",
       "  color: var(--sklearn-color-text);\n",
       "  background-color: var(--sklearn-color-unfitted-level-2);\n",
       "}\n",
       "\n",
       "/* Label box, darken color on hover, fitted */\n",
       "#sk-container-id-1 div.sk-label.fitted:hover label.sk-toggleable__label.fitted {\n",
       "  color: var(--sklearn-color-text);\n",
       "  background-color: var(--sklearn-color-fitted-level-2);\n",
       "}\n",
       "\n",
       "/* Estimator label */\n",
       "\n",
       "#sk-container-id-1 div.sk-label label {\n",
       "  font-family: monospace;\n",
       "  font-weight: bold;\n",
       "  display: inline-block;\n",
       "  line-height: 1.2em;\n",
       "}\n",
       "\n",
       "#sk-container-id-1 div.sk-label-container {\n",
       "  text-align: center;\n",
       "}\n",
       "\n",
       "/* Estimator-specific */\n",
       "#sk-container-id-1 div.sk-estimator {\n",
       "  font-family: monospace;\n",
       "  border: 1px dotted var(--sklearn-color-border-box);\n",
       "  border-radius: 0.25em;\n",
       "  box-sizing: border-box;\n",
       "  margin-bottom: 0.5em;\n",
       "  /* unfitted */\n",
       "  background-color: var(--sklearn-color-unfitted-level-0);\n",
       "}\n",
       "\n",
       "#sk-container-id-1 div.sk-estimator.fitted {\n",
       "  /* fitted */\n",
       "  background-color: var(--sklearn-color-fitted-level-0);\n",
       "}\n",
       "\n",
       "/* on hover */\n",
       "#sk-container-id-1 div.sk-estimator:hover {\n",
       "  /* unfitted */\n",
       "  background-color: var(--sklearn-color-unfitted-level-2);\n",
       "}\n",
       "\n",
       "#sk-container-id-1 div.sk-estimator.fitted:hover {\n",
       "  /* fitted */\n",
       "  background-color: var(--sklearn-color-fitted-level-2);\n",
       "}\n",
       "\n",
       "/* Specification for estimator info (e.g. \"i\" and \"?\") */\n",
       "\n",
       "/* Common style for \"i\" and \"?\" */\n",
       "\n",
       ".sk-estimator-doc-link,\n",
       "a:link.sk-estimator-doc-link,\n",
       "a:visited.sk-estimator-doc-link {\n",
       "  float: right;\n",
       "  font-size: smaller;\n",
       "  line-height: 1em;\n",
       "  font-family: monospace;\n",
       "  background-color: var(--sklearn-color-background);\n",
       "  border-radius: 1em;\n",
       "  height: 1em;\n",
       "  width: 1em;\n",
       "  text-decoration: none !important;\n",
       "  margin-left: 1ex;\n",
       "  /* unfitted */\n",
       "  border: var(--sklearn-color-unfitted-level-1) 1pt solid;\n",
       "  color: var(--sklearn-color-unfitted-level-1);\n",
       "}\n",
       "\n",
       ".sk-estimator-doc-link.fitted,\n",
       "a:link.sk-estimator-doc-link.fitted,\n",
       "a:visited.sk-estimator-doc-link.fitted {\n",
       "  /* fitted */\n",
       "  border: var(--sklearn-color-fitted-level-1) 1pt solid;\n",
       "  color: var(--sklearn-color-fitted-level-1);\n",
       "}\n",
       "\n",
       "/* On hover */\n",
       "div.sk-estimator:hover .sk-estimator-doc-link:hover,\n",
       ".sk-estimator-doc-link:hover,\n",
       "div.sk-label-container:hover .sk-estimator-doc-link:hover,\n",
       ".sk-estimator-doc-link:hover {\n",
       "  /* unfitted */\n",
       "  background-color: var(--sklearn-color-unfitted-level-3);\n",
       "  color: var(--sklearn-color-background);\n",
       "  text-decoration: none;\n",
       "}\n",
       "\n",
       "div.sk-estimator.fitted:hover .sk-estimator-doc-link.fitted:hover,\n",
       ".sk-estimator-doc-link.fitted:hover,\n",
       "div.sk-label-container:hover .sk-estimator-doc-link.fitted:hover,\n",
       ".sk-estimator-doc-link.fitted:hover {\n",
       "  /* fitted */\n",
       "  background-color: var(--sklearn-color-fitted-level-3);\n",
       "  color: var(--sklearn-color-background);\n",
       "  text-decoration: none;\n",
       "}\n",
       "\n",
       "/* Span, style for the box shown on hovering the info icon */\n",
       ".sk-estimator-doc-link span {\n",
       "  display: none;\n",
       "  z-index: 9999;\n",
       "  position: relative;\n",
       "  font-weight: normal;\n",
       "  right: .2ex;\n",
       "  padding: .5ex;\n",
       "  margin: .5ex;\n",
       "  width: min-content;\n",
       "  min-width: 20ex;\n",
       "  max-width: 50ex;\n",
       "  color: var(--sklearn-color-text);\n",
       "  box-shadow: 2pt 2pt 4pt #999;\n",
       "  /* unfitted */\n",
       "  background: var(--sklearn-color-unfitted-level-0);\n",
       "  border: .5pt solid var(--sklearn-color-unfitted-level-3);\n",
       "}\n",
       "\n",
       ".sk-estimator-doc-link.fitted span {\n",
       "  /* fitted */\n",
       "  background: var(--sklearn-color-fitted-level-0);\n",
       "  border: var(--sklearn-color-fitted-level-3);\n",
       "}\n",
       "\n",
       ".sk-estimator-doc-link:hover span {\n",
       "  display: block;\n",
       "}\n",
       "\n",
       "/* \"?\"-specific style due to the `<a>` HTML tag */\n",
       "\n",
       "#sk-container-id-1 a.estimator_doc_link {\n",
       "  float: right;\n",
       "  font-size: 1rem;\n",
       "  line-height: 1em;\n",
       "  font-family: monospace;\n",
       "  background-color: var(--sklearn-color-background);\n",
       "  border-radius: 1rem;\n",
       "  height: 1rem;\n",
       "  width: 1rem;\n",
       "  text-decoration: none;\n",
       "  /* unfitted */\n",
       "  color: var(--sklearn-color-unfitted-level-1);\n",
       "  border: var(--sklearn-color-unfitted-level-1) 1pt solid;\n",
       "}\n",
       "\n",
       "#sk-container-id-1 a.estimator_doc_link.fitted {\n",
       "  /* fitted */\n",
       "  border: var(--sklearn-color-fitted-level-1) 1pt solid;\n",
       "  color: var(--sklearn-color-fitted-level-1);\n",
       "}\n",
       "\n",
       "/* On hover */\n",
       "#sk-container-id-1 a.estimator_doc_link:hover {\n",
       "  /* unfitted */\n",
       "  background-color: var(--sklearn-color-unfitted-level-3);\n",
       "  color: var(--sklearn-color-background);\n",
       "  text-decoration: none;\n",
       "}\n",
       "\n",
       "#sk-container-id-1 a.estimator_doc_link.fitted:hover {\n",
       "  /* fitted */\n",
       "  background-color: var(--sklearn-color-fitted-level-3);\n",
       "}\n",
       "</style><div id=\"sk-container-id-1\" class=\"sk-top-container\"><div class=\"sk-text-repr-fallback\"><pre>GridSearchCV(cv=5,\n",
       "             estimator=LGBMRegressor(objective=&#x27;regression&#x27;, random_state=42),\n",
       "             n_jobs=-1,\n",
       "             param_grid={&#x27;learning_rate&#x27;: [0.1, 0.05], &#x27;max_depth&#x27;: [5, 7],\n",
       "                         &#x27;n_estimators&#x27;: [150, 100], &#x27;num_leaves&#x27;: [3, 5, 7]},\n",
       "             scoring=&#x27;neg_mean_squared_error&#x27;, verbose=2)</pre><b>In a Jupyter environment, please rerun this cell to show the HTML representation or trust the notebook. <br />On GitHub, the HTML representation is unable to render, please try loading this page with nbviewer.org.</b></div><div class=\"sk-container\" hidden><div class=\"sk-item sk-dashed-wrapped\"><div class=\"sk-label-container\"><div class=\"sk-label fitted sk-toggleable\"><input class=\"sk-toggleable__control sk-hidden--visually\" id=\"sk-estimator-id-1\" type=\"checkbox\" ><label for=\"sk-estimator-id-1\" class=\"sk-toggleable__label fitted sk-toggleable__label-arrow fitted\">&nbsp;&nbsp;GridSearchCV<a class=\"sk-estimator-doc-link fitted\" rel=\"noreferrer\" target=\"_blank\" href=\"https://scikit-learn.org/1.5/modules/generated/sklearn.model_selection.GridSearchCV.html\">?<span>Documentation for GridSearchCV</span></a><span class=\"sk-estimator-doc-link fitted\">i<span>Fitted</span></span></label><div class=\"sk-toggleable__content fitted\"><pre>GridSearchCV(cv=5,\n",
       "             estimator=LGBMRegressor(objective=&#x27;regression&#x27;, random_state=42),\n",
       "             n_jobs=-1,\n",
       "             param_grid={&#x27;learning_rate&#x27;: [0.1, 0.05], &#x27;max_depth&#x27;: [5, 7],\n",
       "                         &#x27;n_estimators&#x27;: [150, 100], &#x27;num_leaves&#x27;: [3, 5, 7]},\n",
       "             scoring=&#x27;neg_mean_squared_error&#x27;, verbose=2)</pre></div> </div></div><div class=\"sk-parallel\"><div class=\"sk-parallel-item\"><div class=\"sk-item\"><div class=\"sk-label-container\"><div class=\"sk-label fitted sk-toggleable\"><input class=\"sk-toggleable__control sk-hidden--visually\" id=\"sk-estimator-id-2\" type=\"checkbox\" ><label for=\"sk-estimator-id-2\" class=\"sk-toggleable__label fitted sk-toggleable__label-arrow fitted\">best_estimator_: LGBMRegressor</label><div class=\"sk-toggleable__content fitted\"><pre>LGBMRegressor(max_depth=7, n_estimators=150, num_leaves=7,\n",
       "              objective=&#x27;regression&#x27;, random_state=42)</pre></div> </div></div><div class=\"sk-serial\"><div class=\"sk-item\"><div class=\"sk-estimator fitted sk-toggleable\"><input class=\"sk-toggleable__control sk-hidden--visually\" id=\"sk-estimator-id-3\" type=\"checkbox\" ><label for=\"sk-estimator-id-3\" class=\"sk-toggleable__label fitted sk-toggleable__label-arrow fitted\">LGBMRegressor</label><div class=\"sk-toggleable__content fitted\"><pre>LGBMRegressor(max_depth=7, n_estimators=150, num_leaves=7,\n",
       "              objective=&#x27;regression&#x27;, random_state=42)</pre></div> </div></div></div></div></div></div></div></div></div>"
      ],
      "text/plain": [
       "GridSearchCV(cv=5,\n",
       "             estimator=LGBMRegressor(objective='regression', random_state=42),\n",
       "             n_jobs=-1,\n",
       "             param_grid={'learning_rate': [0.1, 0.05], 'max_depth': [5, 7],\n",
       "                         'n_estimators': [150, 100], 'num_leaves': [3, 5, 7]},\n",
       "             scoring='neg_mean_squared_error', verbose=2)"
      ]
     },
     "execution_count": 104,
     "metadata": {},
     "output_type": "execute_result"
    }
   ],
   "source": [
    "grid_search_gbm.fit(X_train, y_train)"
   ]
  },
  {
   "cell_type": "code",
   "execution_count": 105,
   "metadata": {},
   "outputs": [],
   "source": [
    "score_gbm = grid_search_gbm.cv_results_['mean_test_score'].min()"
   ]
  },
  {
   "cell_type": "code",
   "execution_count": 106,
   "metadata": {},
   "outputs": [
    {
     "name": "stdout",
     "output_type": "stream",
     "text": [
      "Лучшая модель: LGBMRegressor(max_depth=7, n_estimators=150, num_leaves=7,\n",
      "              objective='regression', random_state=42)\n",
      "Гиперпараметры: {'learning_rate': 0.1, 'max_depth': 7, 'n_estimators': 150, 'num_leaves': 7}\n"
     ]
    }
   ],
   "source": [
    "best_model = grid_search_gbm.best_estimator_\n",
    "print(f\"Лучшая модель: {best_model}\")\n",
    "print(f\"Гиперпараметры: {grid_search_gbm.cv_results_['params'][grid_search_gbm.best_index_]}\")"
   ]
  },
  {
   "cell_type": "code",
   "execution_count": 107,
   "metadata": {},
   "outputs": [],
   "source": [
    "best_model_time_gbm = round(grid_search_gbm.refit_time_,2)"
   ]
  },
  {
   "cell_type": "code",
   "execution_count": 108,
   "metadata": {},
   "outputs": [],
   "source": [
    "score_boost = abs(score_gbm)**0.5"
   ]
  },
  {
   "cell_type": "code",
   "execution_count": 109,
   "metadata": {},
   "outputs": [
    {
     "name": "stdout",
     "output_type": "stream",
     "text": [
      "Метрика RMSE для лучшей модели градиентного бустинга на кроссвалидации равна 2150.220574259912\n"
     ]
    }
   ],
   "source": [
    "print(f'Метрика RMSE для лучшей модели градиентного бустинга на кроссвалидации равна {score_boost}')"
   ]
  },
  {
   "cell_type": "code",
   "execution_count": 110,
   "metadata": {},
   "outputs": [
    {
     "name": "stdout",
     "output_type": "stream",
     "text": [
      "Время обучения лучшей модели градиентного бустинга равно 4.1 секунды\n"
     ]
    }
   ],
   "source": [
    "print(f'Время обучения лучшей модели градиентного бустинга равно {best_model_time_gbm} секунды')"
   ]
  },
  {
   "cell_type": "markdown",
   "metadata": {},
   "source": [
    "**---------------------------------------**"
   ]
  },
  {
   "cell_type": "markdown",
   "metadata": {},
   "source": [
    "### Модели обучены, получим предсказания моделей, время предсказания и перейдем к анализам результатов"
   ]
  },
  {
   "cell_type": "markdown",
   "metadata": {},
   "source": [
    "**Лучшая модель без бустинга :**"
   ]
  },
  {
   "cell_type": "code",
   "execution_count": 111,
   "metadata": {},
   "outputs": [],
   "source": [
    "current_time = time.time()"
   ]
  },
  {
   "cell_type": "code",
   "execution_count": 112,
   "metadata": {},
   "outputs": [],
   "source": [
    "pred_no_boost = grid_search.best_estimator_.predict(X_valid)"
   ]
  },
  {
   "cell_type": "code",
   "execution_count": 113,
   "metadata": {},
   "outputs": [],
   "source": [
    "end_time = time.time()"
   ]
  },
  {
   "cell_type": "code",
   "execution_count": 114,
   "metadata": {},
   "outputs": [],
   "source": [
    "no_boost_time = end_time - current_time"
   ]
  },
  {
   "cell_type": "code",
   "execution_count": 115,
   "metadata": {},
   "outputs": [],
   "source": [
    "rmse_no_boost = sqrt(mean_squared_error(y_valid, pred_no_boost))"
   ]
  },
  {
   "cell_type": "code",
   "execution_count": 116,
   "metadata": {},
   "outputs": [
    {
     "name": "stdout",
     "output_type": "stream",
     "text": [
      "RMSE модели без бустинга: 1818.0880927299024\n"
     ]
    }
   ],
   "source": [
    "print(f\"RMSE модели без бустинга: {rmse_no_boost}\")"
   ]
  },
  {
   "cell_type": "code",
   "execution_count": 117,
   "metadata": {},
   "outputs": [
    {
     "name": "stdout",
     "output_type": "stream",
     "text": [
      "Время предсказания модели без бустинга: 0.08758163452148438 секунд\n"
     ]
    }
   ],
   "source": [
    "print(f\"Время предсказания модели без бустинга: {no_boost_time} секунд\")"
   ]
  },
  {
   "cell_type": "markdown",
   "metadata": {},
   "source": [
    "**Лучшая модель c бустингом :**"
   ]
  },
  {
   "cell_type": "code",
   "execution_count": 118,
   "metadata": {},
   "outputs": [],
   "source": [
    "current_time = time.time()"
   ]
  },
  {
   "cell_type": "code",
   "execution_count": 119,
   "metadata": {},
   "outputs": [],
   "source": [
    "pred_boost = grid_search_gbm.best_estimator_.predict(X_valid)"
   ]
  },
  {
   "cell_type": "code",
   "execution_count": 120,
   "metadata": {},
   "outputs": [],
   "source": [
    "end_time = time.time()"
   ]
  },
  {
   "cell_type": "code",
   "execution_count": 121,
   "metadata": {},
   "outputs": [],
   "source": [
    "boost_time = end_time - current_time"
   ]
  },
  {
   "cell_type": "code",
   "execution_count": 122,
   "metadata": {},
   "outputs": [],
   "source": [
    "rmse_boost = sqrt(mean_squared_error(y_valid, pred_boost))"
   ]
  },
  {
   "cell_type": "code",
   "execution_count": 123,
   "metadata": {},
   "outputs": [
    {
     "name": "stdout",
     "output_type": "stream",
     "text": [
      "RMSE модели с бустингом: 1638.681913865241\n"
     ]
    }
   ],
   "source": [
    "print(f\"RMSE модели с бустингом: {rmse_boost}\")"
   ]
  },
  {
   "cell_type": "code",
   "execution_count": 124,
   "metadata": {},
   "outputs": [
    {
     "name": "stdout",
     "output_type": "stream",
     "text": [
      "Время предсказания модели без бустинга: 0.24442672729492188 секунд\n"
     ]
    }
   ],
   "source": [
    "print(f\"Время предсказания модели без бустинга: {boost_time} секунд\")"
   ]
  },
  {
   "cell_type": "markdown",
   "metadata": {},
   "source": [
    "## 5. Анализ моделей"
   ]
  },
  {
   "cell_type": "markdown",
   "metadata": {},
   "source": [
    "**Мы получили 2 лучшие модели, одна без бустинга, вторая с бустингом**"
   ]
  },
  {
   "cell_type": "code",
   "execution_count": 125,
   "metadata": {},
   "outputs": [],
   "source": [
    "x = ['DecisionTreeRegressor','LGBMRegressor']\n",
    "y = [score_no_boost,score_boost]\n",
    "m_times = [best_model_time, best_model_time_gbm]\n",
    "m_times_pred = [no_boost_time,boost_time]\n",
    "y_test = [rmse_no_boost,rmse_boost]\n",
    "boost_stat = [rmse_boost]"
   ]
  },
  {
   "cell_type": "code",
   "execution_count": 126,
   "metadata": {},
   "outputs": [
    {
     "data": {
      "image/png": "[encoded data removed]",
      "text/plain": [
       "<Figure size 720x360 with 1 Axes>"
      ]
     },
     "metadata": {
      "needs_background": "light"
     },
     "output_type": "display_data"
    }
   ],
   "source": [
    "sn.set_palette('Set2')\n",
    "plt.subplots(figsize=(10, 5))\n",
    "plt.title(label=f'Результаты моделей на кроссвалидации' , fontsize=15)\n",
    "plt.ylabel('Значение RMSE', fontsize=15)\n",
    "plt.xticks(fontsize=15)\n",
    "sn.barplot(x=x, y=y);\n",
    "plt.axhline(y=2500, color='r');\n",
    "plt.text(0.25, 2550, 'Минимальный порог для метрики', fontsize=15, color='b');"
   ]
  },
  {
   "cell_type": "markdown",
   "metadata": {},
   "source": [
    "**На кроссвалидации модель с бустингом показывает лучшие результаты, и в данном исследовании является единственной, которая пересекла минимальный порог**"
   ]
  },
  {
   "cell_type": "code",
   "execution_count": 127,
   "metadata": {},
   "outputs": [
    {
     "data": {
      "image/png": "[encoded data removed]",
      "text/plain": [
       "<Figure size 720x360 with 1 Axes>"
      ]
     },
     "metadata": {
      "needs_background": "light"
     },
     "output_type": "display_data"
    }
   ],
   "source": [
    "sn.set_palette('Set2')\n",
    "plt.subplots(figsize=(10, 5))\n",
    "plt.title(label=f'Время обучения моделей' , fontsize=15)\n",
    "plt.ylabel('Секунды', fontsize=15)\n",
    "plt.xticks(fontsize=15)\n",
    "sn.barplot(x=x, y=m_times);"
   ]
  },
  {
   "cell_type": "markdown",
   "metadata": {},
   "source": [
    "**Модель с бустингом обучается дольше почти в 3 раза, но при этом показывает намного более точные результаты**"
   ]
  },
  {
   "cell_type": "code",
   "execution_count": 128,
   "metadata": {},
   "outputs": [
    {
     "data": {
      "image/png": "[encoded data removed]",
      "text/plain": [
       "<Figure size 720x360 with 1 Axes>"
      ]
     },
     "metadata": {
      "needs_background": "light"
     },
     "output_type": "display_data"
    }
   ],
   "source": [
    "sn.set_palette('Set2')\n",
    "plt.subplots(figsize=(10, 5))\n",
    "plt.title(label=f'Время предсказания моделей' , fontsize=15)\n",
    "plt.ylabel('Секунды', fontsize=15)\n",
    "plt.xticks(fontsize=15)\n",
    "sn.barplot(x=x, y=m_times_pred);"
   ]
  },
  {
   "cell_type": "markdown",
   "metadata": {},
   "source": [
    "**Предсказание модель с бустингом делает так же дольше в 2.5 раза**"
   ]
  },
  {
   "cell_type": "markdown",
   "metadata": {},
   "source": [
    "**--------------------**"
   ]
  },
  {
   "cell_type": "markdown",
   "metadata": {},
   "source": [
    "**На обучение и предсказание, модель с бустингом расходует больше времени, но в случае обучения это всего 4 секунды, а предсказания всего 0.4 секунды, что совершенно незначительно, при этом метрика RMSE модели с бустингом намного точнее**"
   ]
  },
  {
   "cell_type": "markdown",
   "metadata": {},
   "source": [
    "**--------------------**"
   ]
  },
  {
   "cell_type": "code",
   "execution_count": 129,
   "metadata": {
    "scrolled": true
   },
   "outputs": [
    {
     "data": {
      "image/png": "[encoded data removed]",
      "text/plain": [
       "<Figure size 720x360 with 1 Axes>"
      ]
     },
     "metadata": {
      "needs_background": "light"
     },
     "output_type": "display_data"
    }
   ],
   "source": [
    "sn.set_palette('Set2')\n",
    "plt.subplots(figsize=(10, 5))\n",
    "plt.title(label=f'Результаты лучшей модели на тестовой отложенной выборке \\n{round(rmse_boost)}' , fontsize=15)\n",
    "plt.ylabel('Значение RMSE модели с бустом', fontsize=15)\n",
    "plt.xticks(fontsize=15)\n",
    "sn.barplot(x=boost_stat);"
   ]
  },
  {
   "cell_type": "markdown",
   "metadata": {},
   "source": [
    "**Эффективность метрик выбирается на кроссвалидации, результаты метрик на тесте приведены для заказчика как пример того, насколько точные результаты он мог бы получить в своем конкретном случае**"
   ]
  },
  {
   "cell_type": "markdown",
   "metadata": {},
   "source": [
    "## 6. Вывод для заказчика"
   ]
  },
  {
   "cell_type": "markdown",
   "metadata": {},
   "source": [
    "**Были построены модели с бустингом и без. Между ними проведено сравнение. В обоих случая модели обучаются и делают предсказания в незначительные временные промежутки. Максимум 4 секунды. При этом модель с бустингом показывает намного боеле точную метркиу RMSE.**"
   ]
  },
  {
   "cell_type": "markdown",
   "metadata": {},
   "source": [
    "**На основании исследования заказчику предложено использование модели с градиентным бустингом**"
   ]
  },
  {
   "cell_type": "markdown",
   "metadata": {},
   "source": [
    "## Чек-лист проверки"
   ]
  },
  {
   "cell_type": "markdown",
   "metadata": {},
   "source": [
    "Поставьте 'x' в выполненных пунктах. Далее нажмите Shift+Enter."
   ]
  },
  {
   "cell_type": "markdown",
   "metadata": {},
   "source": [
    "- [x]  Jupyter Notebook открыт\n",
    "- [X]  Весь код выполняется без ошибок\n",
    "- [X]  Ячейки с кодом расположены в порядке исполнения\n",
    "- [X]  Выполнена загрузка и подготовка данных\n",
    "- [X]  Выполнено обучение моделей\n",
    "- [X]  Есть анализ скорости работы и качества моделей"
   ]
  }
 ],
 "metadata": {
  "ExecuteTimeLog": [
   {
    "duration": 1601,
    "start_time": "2024-05-12T09:17:15.871Z"
   },
   {
    "duration": 2,
    "start_time": "2024-05-12T09:17:36.756Z"
   },
   {
    "duration": 953,
    "start_time": "2024-05-12T09:20:33.769Z"
   },
   {
    "duration": 5252,
    "start_time": "2024-05-12T09:20:56.587Z"
   },
   {
    "duration": 3920,
    "start_time": "2024-05-12T09:21:12.356Z"
   },
   {
    "duration": 17,
    "start_time": "2024-05-12T09:21:16.278Z"
   },
   {
    "duration": 21915,
    "start_time": "2024-05-12T09:21:20.379Z"
   },
   {
    "duration": 734,
    "start_time": "2024-05-12T09:21:45.717Z"
   },
   {
    "duration": 2838,
    "start_time": "2024-05-12T09:22:02.898Z"
   },
   {
    "duration": 2890,
    "start_time": "2024-05-12T09:22:05.738Z"
   },
   {
    "duration": 5743,
    "start_time": "2024-05-12T09:22:08.629Z"
   },
   {
    "duration": 1904,
    "start_time": "2024-05-12T09:22:14.374Z"
   },
   {
    "duration": 2,
    "start_time": "2024-05-12T09:22:16.280Z"
   },
   {
    "duration": 705,
    "start_time": "2024-05-12T09:22:16.283Z"
   },
   {
    "duration": 2,
    "start_time": "2024-05-12T09:28:14.278Z"
   },
   {
    "duration": 3,
    "start_time": "2024-05-12T09:28:27.057Z"
   },
   {
    "duration": 4,
    "start_time": "2024-05-12T09:28:37.394Z"
   },
   {
    "duration": 13,
    "start_time": "2024-05-12T09:28:58.443Z"
   },
   {
    "duration": 124,
    "start_time": "2024-05-12T09:30:55.696Z"
   },
   {
    "duration": 87,
    "start_time": "2024-05-12T09:31:04.093Z"
   },
   {
    "duration": 342,
    "start_time": "2024-05-12T09:31:33.946Z"
   },
   {
    "duration": 394,
    "start_time": "2024-05-12T09:31:44.254Z"
   },
   {
    "duration": 341,
    "start_time": "2024-05-12T09:31:53.721Z"
   },
   {
    "duration": 2,
    "start_time": "2024-05-12T09:32:32.281Z"
   },
   {
    "duration": 160,
    "start_time": "2024-05-12T09:32:42.299Z"
   },
   {
    "duration": 406,
    "start_time": "2024-05-12T09:32:53.781Z"
   },
   {
    "duration": 3,
    "start_time": "2024-05-12T09:33:28.558Z"
   },
   {
    "duration": 5,
    "start_time": "2024-05-12T09:33:49.710Z"
   },
   {
    "duration": 16,
    "start_time": "2024-05-12T09:34:12.976Z"
   },
   {
    "duration": 17,
    "start_time": "2024-05-12T09:34:32.311Z"
   },
   {
    "duration": 16,
    "start_time": "2024-05-12T09:34:40.485Z"
   },
   {
    "duration": 11,
    "start_time": "2024-05-12T09:34:47.736Z"
   },
   {
    "duration": 2,
    "start_time": "2024-05-12T09:54:17.866Z"
   },
   {
    "duration": 2,
    "start_time": "2024-05-12T09:56:34.337Z"
   },
   {
    "duration": 5,
    "start_time": "2024-05-12T10:06:16.728Z"
   },
   {
    "duration": 14,
    "start_time": "2024-05-12T10:07:02.360Z"
   },
   {
    "duration": 2,
    "start_time": "2024-05-12T10:07:17.333Z"
   },
   {
    "duration": 387,
    "start_time": "2024-05-12T10:07:24.612Z"
   },
   {
    "duration": 19,
    "start_time": "2024-05-12T10:08:14.239Z"
   },
   {
    "duration": 424,
    "start_time": "2024-05-12T10:08:34.433Z"
   },
   {
    "duration": 19,
    "start_time": "2024-05-12T10:15:08.918Z"
   },
   {
    "duration": 44,
    "start_time": "2024-05-12T10:15:20.371Z"
   },
   {
    "duration": 21,
    "start_time": "2024-05-12T10:16:05.084Z"
   },
   {
    "duration": 24,
    "start_time": "2024-05-12T10:16:15.784Z"
   },
   {
    "duration": 21,
    "start_time": "2024-05-12T10:16:23.691Z"
   },
   {
    "duration": 26,
    "start_time": "2024-05-12T10:16:28.195Z"
   },
   {
    "duration": 30,
    "start_time": "2024-05-12T10:16:56.576Z"
   },
   {
    "duration": 33,
    "start_time": "2024-05-12T10:23:50.717Z"
   },
   {
    "duration": 505,
    "start_time": "2024-05-12T10:24:42.661Z"
   },
   {
    "duration": 52,
    "start_time": "2024-05-12T10:24:49.582Z"
   },
   {
    "duration": 35,
    "start_time": "2024-05-12T10:25:05.411Z"
   },
   {
    "duration": 33,
    "start_time": "2024-05-12T10:25:25.594Z"
   },
   {
    "duration": 37,
    "start_time": "2024-05-12T10:26:15.376Z"
   },
   {
    "duration": 113,
    "start_time": "2024-05-12T10:37:48.749Z"
   },
   {
    "duration": 94845,
    "start_time": "2024-05-12T10:39:09.805Z"
   },
   {
    "duration": 0,
    "start_time": "2024-05-12T10:40:44.652Z"
   },
   {
    "duration": 2,
    "start_time": "2024-05-12T10:40:48.457Z"
   },
   {
    "duration": 69893,
    "start_time": "2024-05-12T10:41:09.070Z"
   },
   {
    "duration": 2,
    "start_time": "2024-05-12T10:42:31.161Z"
   },
   {
    "duration": 10328,
    "start_time": "2024-05-12T10:42:36.804Z"
   },
   {
    "duration": 3,
    "start_time": "2024-05-12T10:43:54.189Z"
   },
   {
    "duration": 32793,
    "start_time": "2024-05-12T10:43:54.977Z"
   },
   {
    "duration": 6831,
    "start_time": "2024-05-12T10:44:34.026Z"
   },
   {
    "duration": 6499,
    "start_time": "2024-05-12T10:45:14.198Z"
   },
   {
    "duration": 6374,
    "start_time": "2024-05-12T10:45:55.364Z"
   },
   {
    "duration": 6418,
    "start_time": "2024-05-12T10:46:39.382Z"
   },
   {
    "duration": 4470,
    "start_time": "2024-05-12T10:54:10.511Z"
   },
   {
    "duration": 2,
    "start_time": "2024-05-12T11:11:43.176Z"
   },
   {
    "duration": 1252,
    "start_time": "2024-05-12T11:12:41.670Z"
   },
   {
    "duration": 191,
    "start_time": "2024-05-12T11:12:48.683Z"
   },
   {
    "duration": 4,
    "start_time": "2024-05-12T11:13:06.271Z"
   },
   {
    "duration": 3035,
    "start_time": "2024-05-12T11:13:31.118Z"
   },
   {
    "duration": 3154,
    "start_time": "2024-05-12T11:13:34.155Z"
   },
   {
    "duration": 2832,
    "start_time": "2024-05-12T11:13:37.310Z"
   },
   {
    "duration": 1948,
    "start_time": "2024-05-12T11:13:40.144Z"
   },
   {
    "duration": 2,
    "start_time": "2024-05-12T11:13:42.094Z"
   },
   {
    "duration": 6,
    "start_time": "2024-05-12T11:13:42.097Z"
   },
   {
    "duration": 7,
    "start_time": "2024-05-12T11:13:42.105Z"
   },
   {
    "duration": 743,
    "start_time": "2024-05-12T11:13:42.113Z"
   },
   {
    "duration": 2,
    "start_time": "2024-05-12T11:13:42.857Z"
   },
   {
    "duration": 8,
    "start_time": "2024-05-12T11:13:42.861Z"
   },
   {
    "duration": 24,
    "start_time": "2024-05-12T11:13:42.870Z"
   },
   {
    "duration": 93,
    "start_time": "2024-05-12T11:13:42.896Z"
   },
   {
    "duration": 98,
    "start_time": "2024-05-12T11:13:42.990Z"
   },
   {
    "duration": 3,
    "start_time": "2024-05-12T11:13:43.090Z"
   },
   {
    "duration": 4967,
    "start_time": "2024-05-12T11:13:43.094Z"
   },
   {
    "duration": 3,
    "start_time": "2024-05-12T11:13:48.063Z"
   },
   {
    "duration": 349,
    "start_time": "2024-05-12T11:13:48.067Z"
   },
   {
    "duration": 393,
    "start_time": "2024-05-12T11:13:48.418Z"
   },
   {
    "duration": 340,
    "start_time": "2024-05-12T11:13:48.812Z"
   },
   {
    "duration": 2,
    "start_time": "2024-05-12T11:13:49.153Z"
   },
   {
    "duration": 193,
    "start_time": "2024-05-12T11:13:49.157Z"
   },
   {
    "duration": 5,
    "start_time": "2024-05-12T11:13:49.351Z"
   },
   {
    "duration": 6,
    "start_time": "2024-05-12T11:13:49.357Z"
   },
   {
    "duration": 28,
    "start_time": "2024-05-12T11:13:49.364Z"
   },
   {
    "duration": 26,
    "start_time": "2024-05-12T11:13:49.393Z"
   },
   {
    "duration": 18,
    "start_time": "2024-05-12T11:13:49.421Z"
   },
   {
    "duration": 29,
    "start_time": "2024-05-12T11:13:49.440Z"
   },
   {
    "duration": 406,
    "start_time": "2024-05-12T11:13:49.470Z"
   },
   {
    "duration": 22,
    "start_time": "2024-05-12T11:13:49.878Z"
   },
   {
    "duration": 425,
    "start_time": "2024-05-12T11:13:49.901Z"
   },
   {
    "duration": 30,
    "start_time": "2024-05-12T11:13:50.328Z"
   },
   {
    "duration": 50,
    "start_time": "2024-05-12T11:13:50.359Z"
   },
   {
    "duration": 6,
    "start_time": "2024-05-12T11:24:18.036Z"
   },
   {
    "duration": 240,
    "start_time": "2024-05-12T11:27:09.821Z"
   },
   {
    "duration": 280,
    "start_time": "2024-05-12T11:38:15.467Z"
   },
   {
    "duration": 61,
    "start_time": "2024-05-12T11:38:27.941Z"
   },
   {
    "duration": 11,
    "start_time": "2024-05-12T11:39:54.358Z"
   },
   {
    "duration": 17,
    "start_time": "2024-05-12T11:41:32.232Z"
   },
   {
    "duration": 76,
    "start_time": "2024-05-12T11:41:45.983Z"
   },
   {
    "duration": 3,
    "start_time": "2024-05-12T11:41:50.960Z"
   },
   {
    "duration": 50,
    "start_time": "2024-05-12T11:42:22.147Z"
   },
   {
    "duration": 237,
    "start_time": "2024-05-12T11:42:33.995Z"
   },
   {
    "duration": 260,
    "start_time": "2024-05-12T11:44:45.103Z"
   },
   {
    "duration": 8,
    "start_time": "2024-05-12T11:49:31.224Z"
   },
   {
    "duration": 5,
    "start_time": "2024-05-12T11:49:38.241Z"
   },
   {
    "duration": 17,
    "start_time": "2024-05-12T11:49:55.215Z"
   },
   {
    "duration": 9,
    "start_time": "2024-05-12T11:50:21.851Z"
   },
   {
    "duration": 8,
    "start_time": "2024-05-12T11:50:43.360Z"
   },
   {
    "duration": 8,
    "start_time": "2024-05-12T11:50:46.841Z"
   },
   {
    "duration": 9,
    "start_time": "2024-05-12T11:51:01.346Z"
   },
   {
    "duration": 9,
    "start_time": "2024-05-12T11:51:14.233Z"
   },
   {
    "duration": 9,
    "start_time": "2024-05-12T11:53:48.966Z"
   },
   {
    "duration": 61,
    "start_time": "2024-05-12T11:54:29.372Z"
   },
   {
    "duration": 59,
    "start_time": "2024-05-12T11:54:37.657Z"
   },
   {
    "duration": 47,
    "start_time": "2024-05-12T11:54:49.190Z"
   },
   {
    "duration": 47,
    "start_time": "2024-05-12T11:55:16.096Z"
   },
   {
    "duration": 64,
    "start_time": "2024-05-12T11:55:33.232Z"
   },
   {
    "duration": 46,
    "start_time": "2024-05-12T11:56:16.161Z"
   },
   {
    "duration": 10,
    "start_time": "2024-05-12T11:59:27.260Z"
   },
   {
    "duration": 9,
    "start_time": "2024-05-12T11:59:36.901Z"
   },
   {
    "duration": 10,
    "start_time": "2024-05-12T11:59:48.069Z"
   },
   {
    "duration": 10,
    "start_time": "2024-05-12T12:00:04.026Z"
   },
   {
    "duration": 9,
    "start_time": "2024-05-12T12:00:11.254Z"
   },
   {
    "duration": 7,
    "start_time": "2024-05-12T12:00:22.344Z"
   },
   {
    "duration": 10,
    "start_time": "2024-05-12T12:00:29.610Z"
   },
   {
    "duration": 11,
    "start_time": "2024-05-12T12:00:57.198Z"
   },
   {
    "duration": 12,
    "start_time": "2024-05-12T12:01:05.454Z"
   },
   {
    "duration": 10,
    "start_time": "2024-05-12T12:01:35.405Z"
   },
   {
    "duration": 10,
    "start_time": "2024-05-12T12:01:57.053Z"
   },
   {
    "duration": 10,
    "start_time": "2024-05-12T12:02:03.559Z"
   },
   {
    "duration": 10,
    "start_time": "2024-05-12T12:02:12.439Z"
   },
   {
    "duration": 10,
    "start_time": "2024-05-12T12:03:09.300Z"
   },
   {
    "duration": 12,
    "start_time": "2024-05-12T12:04:36.720Z"
   },
   {
    "duration": 53,
    "start_time": "2024-05-12T12:05:50.757Z"
   },
   {
    "duration": 787,
    "start_time": "2024-05-12T12:07:18.786Z"
   },
   {
    "duration": 11,
    "start_time": "2024-05-12T12:07:39.246Z"
   },
   {
    "duration": 51,
    "start_time": "2024-05-12T12:07:50.548Z"
   },
   {
    "duration": 35,
    "start_time": "2024-05-12T12:09:29.132Z"
   },
   {
    "duration": 6,
    "start_time": "2024-05-12T12:10:16.949Z"
   },
   {
    "duration": 917,
    "start_time": "2024-05-12T12:10:35.559Z"
   },
   {
    "duration": 3,
    "start_time": "2024-05-12T12:11:09.793Z"
   },
   {
    "duration": 30,
    "start_time": "2024-05-12T12:11:10.756Z"
   },
   {
    "duration": 262,
    "start_time": "2024-05-12T12:11:26.868Z"
   },
   {
    "duration": 20,
    "start_time": "2024-05-12T12:12:28.698Z"
   },
   {
    "duration": 7,
    "start_time": "2024-05-12T12:12:45.460Z"
   },
   {
    "duration": 263,
    "start_time": "2024-05-12T12:13:54.034Z"
   },
   {
    "duration": 20,
    "start_time": "2024-05-12T12:20:03.241Z"
   },
   {
    "duration": 33,
    "start_time": "2024-05-12T12:47:51.540Z"
   },
   {
    "duration": 28,
    "start_time": "2024-05-12T12:48:12.791Z"
   },
   {
    "duration": 24,
    "start_time": "2024-05-12T12:48:27.506Z"
   },
   {
    "duration": 30,
    "start_time": "2024-05-12T12:48:32.781Z"
   },
   {
    "duration": 38,
    "start_time": "2024-05-12T12:48:39.044Z"
   },
   {
    "duration": 32,
    "start_time": "2024-05-12T12:49:44.180Z"
   },
   {
    "duration": 22,
    "start_time": "2024-05-12T12:49:58.389Z"
   },
   {
    "duration": 39,
    "start_time": "2024-05-12T12:50:12.766Z"
   },
   {
    "duration": 30,
    "start_time": "2024-05-12T12:50:18.929Z"
   },
   {
    "duration": 28,
    "start_time": "2024-05-12T12:55:38.079Z"
   },
   {
    "duration": 20,
    "start_time": "2024-05-12T12:55:41.820Z"
   },
   {
    "duration": 32,
    "start_time": "2024-05-12T12:56:26.689Z"
   },
   {
    "duration": 32,
    "start_time": "2024-05-12T12:56:34.311Z"
   },
   {
    "duration": 6,
    "start_time": "2024-05-12T12:56:39.814Z"
   },
   {
    "duration": 64,
    "start_time": "2024-05-12T12:56:54.171Z"
   },
   {
    "duration": 19,
    "start_time": "2024-05-12T12:57:58.337Z"
   },
   {
    "duration": 28,
    "start_time": "2024-05-12T12:58:11.876Z"
   },
   {
    "duration": 33,
    "start_time": "2024-05-12T12:58:54.213Z"
   },
   {
    "duration": 40,
    "start_time": "2024-05-12T12:59:02.984Z"
   },
   {
    "duration": 552,
    "start_time": "2024-05-12T13:00:53.554Z"
   },
   {
    "duration": 29,
    "start_time": "2024-05-12T13:01:13.126Z"
   },
   {
    "duration": 794,
    "start_time": "2024-05-12T13:01:23.742Z"
   },
   {
    "duration": 30,
    "start_time": "2024-05-12T13:01:32.022Z"
   },
   {
    "duration": 31,
    "start_time": "2024-05-12T13:01:36.303Z"
   },
   {
    "duration": 48,
    "start_time": "2024-05-12T13:02:19.497Z"
   },
   {
    "duration": 43,
    "start_time": "2024-05-12T13:02:23.638Z"
   },
   {
    "duration": 33,
    "start_time": "2024-05-12T13:02:52.947Z"
   },
   {
    "duration": 38,
    "start_time": "2024-05-12T13:04:41.464Z"
   },
   {
    "duration": 30,
    "start_time": "2024-05-12T13:06:29.633Z"
   },
   {
    "duration": 11056,
    "start_time": "2024-05-12T13:06:55.504Z"
   },
   {
    "duration": 12,
    "start_time": "2024-05-12T13:07:46.307Z"
   },
   {
    "duration": 16,
    "start_time": "2024-05-12T13:07:52.740Z"
   },
   {
    "duration": 467,
    "start_time": "2024-05-12T13:08:50.567Z"
   },
   {
    "duration": 6,
    "start_time": "2024-05-12T13:09:03.968Z"
   },
   {
    "duration": 105,
    "start_time": "2024-05-12T13:09:44.288Z"
   },
   {
    "duration": 89,
    "start_time": "2024-05-12T13:09:50.826Z"
   },
   {
    "duration": 16,
    "start_time": "2024-05-12T13:10:03.322Z"
   },
   {
    "duration": 5,
    "start_time": "2024-05-12T13:10:18.807Z"
   },
   {
    "duration": 22,
    "start_time": "2024-05-12T13:10:23.914Z"
   },
   {
    "duration": 13,
    "start_time": "2024-05-12T13:10:30.326Z"
   },
   {
    "duration": 9676,
    "start_time": "2024-05-12T13:10:59.543Z"
   },
   {
    "duration": 12,
    "start_time": "2024-05-12T13:11:10.196Z"
   },
   {
    "duration": 26,
    "start_time": "2024-05-12T13:12:40.987Z"
   },
   {
    "duration": 923,
    "start_time": "2024-05-12T13:12:51.311Z"
   },
   {
    "duration": 25,
    "start_time": "2024-05-12T13:13:05.193Z"
   },
   {
    "duration": 29,
    "start_time": "2024-05-12T13:13:18.837Z"
   },
   {
    "duration": 36,
    "start_time": "2024-05-12T13:13:39.904Z"
   },
   {
    "duration": 41,
    "start_time": "2024-05-12T13:14:06.410Z"
   },
   {
    "duration": 17,
    "start_time": "2024-05-12T13:14:53.735Z"
   },
   {
    "duration": 9631,
    "start_time": "2024-05-12T13:14:54.813Z"
   },
   {
    "duration": 14,
    "start_time": "2024-05-12T13:15:06.890Z"
   },
   {
    "duration": 40,
    "start_time": "2024-05-12T13:15:16.840Z"
   },
   {
    "duration": 19,
    "start_time": "2024-05-12T13:17:20.072Z"
   },
   {
    "duration": 4,
    "start_time": "2024-05-12T13:17:24.896Z"
   },
   {
    "duration": 25,
    "start_time": "2024-05-12T13:17:33.582Z"
   },
   {
    "duration": 3,
    "start_time": "2024-05-12T13:17:33.994Z"
   },
   {
    "duration": 2818,
    "start_time": "2024-05-12T13:17:49.378Z"
   },
   {
    "duration": 3102,
    "start_time": "2024-05-12T13:17:52.198Z"
   },
   {
    "duration": 2768,
    "start_time": "2024-05-12T13:17:55.302Z"
   },
   {
    "duration": 1954,
    "start_time": "2024-05-12T13:17:58.072Z"
   },
   {
    "duration": 3,
    "start_time": "2024-05-12T13:18:00.027Z"
   },
   {
    "duration": 38,
    "start_time": "2024-05-12T13:18:00.031Z"
   },
   {
    "duration": 66,
    "start_time": "2024-05-12T13:18:00.071Z"
   },
   {
    "duration": 51,
    "start_time": "2024-05-12T13:18:00.138Z"
   },
   {
    "duration": 854,
    "start_time": "2024-05-12T13:18:00.191Z"
   },
   {
    "duration": 3,
    "start_time": "2024-05-12T13:18:01.047Z"
   },
   {
    "duration": 43,
    "start_time": "2024-05-12T13:18:01.051Z"
   },
   {
    "duration": 70,
    "start_time": "2024-05-12T13:18:01.096Z"
   },
   {
    "duration": 128,
    "start_time": "2024-05-12T13:18:01.167Z"
   },
   {
    "duration": 95,
    "start_time": "2024-05-12T13:18:01.297Z"
   },
   {
    "duration": 75,
    "start_time": "2024-05-12T13:18:01.394Z"
   },
   {
    "duration": 5071,
    "start_time": "2024-05-12T13:18:01.470Z"
   },
   {
    "duration": 5,
    "start_time": "2024-05-12T13:18:06.543Z"
   },
   {
    "duration": 365,
    "start_time": "2024-05-12T13:18:06.549Z"
   },
   {
    "duration": 379,
    "start_time": "2024-05-12T13:18:06.915Z"
   },
   {
    "duration": 349,
    "start_time": "2024-05-12T13:18:07.296Z"
   },
   {
    "duration": 2,
    "start_time": "2024-05-12T13:18:07.647Z"
   },
   {
    "duration": 292,
    "start_time": "2024-05-12T13:18:07.651Z"
   },
   {
    "duration": 3,
    "start_time": "2024-05-12T13:18:07.945Z"
   },
   {
    "duration": 56,
    "start_time": "2024-05-12T13:18:07.949Z"
   },
   {
    "duration": 57,
    "start_time": "2024-05-12T13:18:08.006Z"
   },
   {
    "duration": 62,
    "start_time": "2024-05-12T13:18:08.064Z"
   },
   {
    "duration": 76,
    "start_time": "2024-05-12T13:18:08.128Z"
   },
   {
    "duration": 446,
    "start_time": "2024-05-12T13:18:08.208Z"
   },
   {
    "duration": 30,
    "start_time": "2024-05-12T13:18:08.655Z"
   },
   {
    "duration": 32,
    "start_time": "2024-05-12T13:18:08.686Z"
   },
   {
    "duration": 485,
    "start_time": "2024-05-12T13:18:08.719Z"
   },
   {
    "duration": 21,
    "start_time": "2024-05-12T13:18:09.205Z"
   },
   {
    "duration": 41,
    "start_time": "2024-05-12T13:18:09.227Z"
   },
   {
    "duration": 9951,
    "start_time": "2024-05-12T13:18:09.269Z"
   },
   {
    "duration": 70,
    "start_time": "2024-05-12T13:18:19.221Z"
   },
   {
    "duration": 12,
    "start_time": "2024-05-12T13:18:19.293Z"
   },
   {
    "duration": 265,
    "start_time": "2024-05-12T13:18:19.306Z"
   },
   {
    "duration": 14,
    "start_time": "2024-05-12T13:18:19.572Z"
   },
   {
    "duration": 72,
    "start_time": "2024-05-12T13:18:19.587Z"
   },
   {
    "duration": 236,
    "start_time": "2024-05-12T13:18:19.660Z"
   },
   {
    "duration": 305,
    "start_time": "2024-05-12T13:18:19.897Z"
   },
   {
    "duration": 10,
    "start_time": "2024-05-12T13:18:20.203Z"
   },
   {
    "duration": 23,
    "start_time": "2024-05-12T13:18:20.215Z"
   },
   {
    "duration": 58,
    "start_time": "2024-05-12T13:18:20.240Z"
   },
   {
    "duration": 258,
    "start_time": "2024-05-12T13:18:20.300Z"
   },
   {
    "duration": 285,
    "start_time": "2024-05-12T13:18:20.559Z"
   },
   {
    "duration": 14,
    "start_time": "2024-05-12T13:18:48.505Z"
   },
   {
    "duration": 47,
    "start_time": "2024-05-12T13:19:04.051Z"
   },
   {
    "duration": 44,
    "start_time": "2024-05-12T13:19:15.245Z"
   },
   {
    "duration": 23,
    "start_time": "2024-05-12T13:19:29.986Z"
   },
   {
    "duration": 40,
    "start_time": "2024-05-12T13:20:38.112Z"
   },
   {
    "duration": 29,
    "start_time": "2024-05-12T13:21:42.067Z"
   },
   {
    "duration": 26,
    "start_time": "2024-05-12T13:21:50.067Z"
   },
   {
    "duration": 3,
    "start_time": "2024-05-12T13:23:23.152Z"
   },
   {
    "duration": 191,
    "start_time": "2024-05-12T13:23:31.640Z"
   },
   {
    "duration": 9,
    "start_time": "2024-05-12T13:23:41.489Z"
   },
   {
    "duration": 1280,
    "start_time": "2024-05-12T13:23:51.275Z"
   },
   {
    "duration": 9819,
    "start_time": "2024-05-12T13:24:02.193Z"
   },
   {
    "duration": 32,
    "start_time": "2024-05-12T13:24:19.619Z"
   },
   {
    "duration": 3,
    "start_time": "2024-05-12T13:24:39.847Z"
   },
   {
    "duration": 1037,
    "start_time": "2024-05-12T13:25:19.672Z"
   },
   {
    "duration": 13,
    "start_time": "2024-05-12T13:25:28.461Z"
   },
   {
    "duration": 1650,
    "start_time": "2024-05-12T13:26:04.243Z"
   },
   {
    "duration": 10902,
    "start_time": "2024-05-12T13:26:07.592Z"
   },
   {
    "duration": 23,
    "start_time": "2024-05-12T13:26:19.957Z"
   },
   {
    "duration": 2981,
    "start_time": "2024-05-12T13:26:26.275Z"
   },
   {
    "duration": 3286,
    "start_time": "2024-05-12T13:26:29.258Z"
   },
   {
    "duration": 3163,
    "start_time": "2024-05-12T13:26:32.547Z"
   },
   {
    "duration": 2008,
    "start_time": "2024-05-12T13:26:35.713Z"
   },
   {
    "duration": 3,
    "start_time": "2024-05-12T13:26:37.723Z"
   },
   {
    "duration": 7,
    "start_time": "2024-05-12T13:26:37.727Z"
   },
   {
    "duration": 6,
    "start_time": "2024-05-12T13:26:37.736Z"
   },
   {
    "duration": 18,
    "start_time": "2024-05-12T13:26:37.744Z"
   },
   {
    "duration": 665,
    "start_time": "2024-05-12T13:26:37.764Z"
   },
   {
    "duration": 3,
    "start_time": "2024-05-12T13:26:38.430Z"
   },
   {
    "duration": 41,
    "start_time": "2024-05-12T13:26:38.434Z"
   },
   {
    "duration": 18,
    "start_time": "2024-05-12T13:26:38.477Z"
   },
   {
    "duration": 92,
    "start_time": "2024-05-12T13:26:38.499Z"
   },
   {
    "duration": 97,
    "start_time": "2024-05-12T13:26:38.593Z"
   },
   {
    "duration": 5,
    "start_time": "2024-05-12T13:26:38.692Z"
   },
   {
    "duration": 4894,
    "start_time": "2024-05-12T13:26:38.699Z"
   },
   {
    "duration": 3,
    "start_time": "2024-05-12T13:26:43.595Z"
   },
   {
    "duration": 329,
    "start_time": "2024-05-12T13:26:43.599Z"
   },
   {
    "duration": 381,
    "start_time": "2024-05-12T13:26:43.930Z"
   },
   {
    "duration": 340,
    "start_time": "2024-05-12T13:26:44.312Z"
   },
   {
    "duration": 2,
    "start_time": "2024-05-12T13:26:44.653Z"
   },
   {
    "duration": 222,
    "start_time": "2024-05-12T13:26:44.657Z"
   },
   {
    "duration": 4,
    "start_time": "2024-05-12T13:26:44.884Z"
   },
   {
    "duration": 54,
    "start_time": "2024-05-12T13:26:44.889Z"
   },
   {
    "duration": 20,
    "start_time": "2024-05-12T13:26:44.944Z"
   },
   {
    "duration": 16,
    "start_time": "2024-05-12T13:26:44.966Z"
   },
   {
    "duration": 19,
    "start_time": "2024-05-12T13:26:44.984Z"
   },
   {
    "duration": 405,
    "start_time": "2024-05-12T13:26:45.005Z"
   },
   {
    "duration": 21,
    "start_time": "2024-05-12T13:26:45.412Z"
   },
   {
    "duration": 27,
    "start_time": "2024-05-12T13:26:45.434Z"
   },
   {
    "duration": 421,
    "start_time": "2024-05-12T13:26:45.463Z"
   },
   {
    "duration": 24,
    "start_time": "2024-05-12T13:26:45.886Z"
   },
   {
    "duration": 22,
    "start_time": "2024-05-12T13:26:45.911Z"
   },
   {
    "duration": 1228,
    "start_time": "2024-05-12T13:26:45.934Z"
   },
   {
    "duration": 9699,
    "start_time": "2024-05-12T13:26:47.164Z"
   },
   {
    "duration": 25,
    "start_time": "2024-05-12T13:26:56.864Z"
   },
   {
    "duration": 266,
    "start_time": "2024-05-12T13:26:56.891Z"
   },
   {
    "duration": 4,
    "start_time": "2024-05-12T13:26:57.158Z"
   },
   {
    "duration": 58,
    "start_time": "2024-05-12T13:26:57.163Z"
   },
   {
    "duration": 241,
    "start_time": "2024-05-12T13:26:57.224Z"
   },
   {
    "duration": 261,
    "start_time": "2024-05-12T13:26:57.467Z"
   },
   {
    "duration": 10,
    "start_time": "2024-05-12T13:26:57.730Z"
   },
   {
    "duration": 3,
    "start_time": "2024-05-12T13:26:57.741Z"
   },
   {
    "duration": 66,
    "start_time": "2024-05-12T13:26:57.745Z"
   },
   {
    "duration": 279,
    "start_time": "2024-05-12T13:26:57.812Z"
   },
   {
    "duration": 281,
    "start_time": "2024-05-12T13:26:58.092Z"
   },
   {
    "duration": 2936,
    "start_time": "2024-05-12T13:27:47.478Z"
   },
   {
    "duration": 2959,
    "start_time": "2024-05-12T13:27:50.417Z"
   },
   {
    "duration": 2755,
    "start_time": "2024-05-12T13:27:53.378Z"
   },
   {
    "duration": 1897,
    "start_time": "2024-05-12T13:27:56.136Z"
   },
   {
    "duration": 3,
    "start_time": "2024-05-12T13:27:58.034Z"
   },
   {
    "duration": 9,
    "start_time": "2024-05-12T13:27:58.038Z"
   },
   {
    "duration": 5,
    "start_time": "2024-05-12T13:27:58.048Z"
   },
   {
    "duration": 7,
    "start_time": "2024-05-12T13:27:58.055Z"
   },
   {
    "duration": 690,
    "start_time": "2024-05-12T13:27:58.063Z"
   },
   {
    "duration": 2,
    "start_time": "2024-05-12T13:27:58.756Z"
   },
   {
    "duration": 19,
    "start_time": "2024-05-12T13:27:58.759Z"
   },
   {
    "duration": 13,
    "start_time": "2024-05-12T13:27:58.779Z"
   },
   {
    "duration": 78,
    "start_time": "2024-05-12T13:27:58.793Z"
   },
   {
    "duration": 123,
    "start_time": "2024-05-12T13:27:58.873Z"
   },
   {
    "duration": 2,
    "start_time": "2024-05-12T13:27:58.997Z"
   },
   {
    "duration": 4868,
    "start_time": "2024-05-12T13:27:59.001Z"
   },
   {
    "duration": 3,
    "start_time": "2024-05-12T13:28:03.871Z"
   },
   {
    "duration": 331,
    "start_time": "2024-05-12T13:28:03.875Z"
   },
   {
    "duration": 451,
    "start_time": "2024-05-12T13:28:04.208Z"
   },
   {
    "duration": 347,
    "start_time": "2024-05-12T13:28:04.660Z"
   },
   {
    "duration": 2,
    "start_time": "2024-05-12T13:28:05.008Z"
   },
   {
    "duration": 270,
    "start_time": "2024-05-12T13:28:05.011Z"
   },
   {
    "duration": 4,
    "start_time": "2024-05-12T13:28:05.283Z"
   },
   {
    "duration": 58,
    "start_time": "2024-05-12T13:28:05.288Z"
   },
   {
    "duration": 45,
    "start_time": "2024-05-12T13:28:05.347Z"
   },
   {
    "duration": 50,
    "start_time": "2024-05-12T13:28:05.394Z"
   },
   {
    "duration": 28,
    "start_time": "2024-05-12T13:28:05.446Z"
   },
   {
    "duration": 443,
    "start_time": "2024-05-12T13:28:05.478Z"
   },
   {
    "duration": 20,
    "start_time": "2024-05-12T13:28:05.922Z"
   },
   {
    "duration": 24,
    "start_time": "2024-05-12T13:28:05.944Z"
   },
   {
    "duration": 400,
    "start_time": "2024-05-12T13:28:05.969Z"
   },
   {
    "duration": 32,
    "start_time": "2024-05-12T13:28:06.370Z"
   },
   {
    "duration": 24,
    "start_time": "2024-05-12T13:28:06.403Z"
   },
   {
    "duration": 25,
    "start_time": "2024-05-12T13:28:06.428Z"
   },
   {
    "duration": 339,
    "start_time": "2024-05-12T13:28:06.454Z"
   },
   {
    "duration": 4,
    "start_time": "2024-05-12T13:28:06.794Z"
   },
   {
    "duration": 75,
    "start_time": "2024-05-12T13:28:06.799Z"
   },
   {
    "duration": 241,
    "start_time": "2024-05-12T13:28:06.876Z"
   },
   {
    "duration": 264,
    "start_time": "2024-05-12T13:28:07.119Z"
   },
   {
    "duration": 11,
    "start_time": "2024-05-12T13:28:07.384Z"
   },
   {
    "duration": 23,
    "start_time": "2024-05-12T13:28:07.396Z"
   },
   {
    "duration": 86,
    "start_time": "2024-05-12T13:28:07.420Z"
   },
   {
    "duration": 247,
    "start_time": "2024-05-12T13:28:07.507Z"
   },
   {
    "duration": 296,
    "start_time": "2024-05-12T13:28:07.755Z"
   },
   {
    "duration": 21,
    "start_time": "2024-05-12T13:29:03.642Z"
   },
   {
    "duration": 12,
    "start_time": "2024-05-12T13:29:14.049Z"
   },
   {
    "duration": 2822,
    "start_time": "2024-05-12T13:30:45.444Z"
   },
   {
    "duration": 3032,
    "start_time": "2024-05-12T13:30:48.268Z"
   },
   {
    "duration": 2704,
    "start_time": "2024-05-12T13:30:51.302Z"
   },
   {
    "duration": 1907,
    "start_time": "2024-05-12T13:30:54.008Z"
   },
   {
    "duration": 3,
    "start_time": "2024-05-12T13:30:55.916Z"
   },
   {
    "duration": 22,
    "start_time": "2024-05-12T13:30:55.920Z"
   },
   {
    "duration": 12,
    "start_time": "2024-05-12T13:30:55.944Z"
   },
   {
    "duration": 15,
    "start_time": "2024-05-12T13:30:55.958Z"
   },
   {
    "duration": 702,
    "start_time": "2024-05-12T13:30:55.974Z"
   },
   {
    "duration": 3,
    "start_time": "2024-05-12T13:30:56.683Z"
   },
   {
    "duration": 19,
    "start_time": "2024-05-12T13:30:56.688Z"
   },
   {
    "duration": 30,
    "start_time": "2024-05-12T13:30:56.709Z"
   },
   {
    "duration": 86,
    "start_time": "2024-05-12T13:30:56.740Z"
   },
   {
    "duration": 87,
    "start_time": "2024-05-12T13:30:56.827Z"
   },
   {
    "duration": 3,
    "start_time": "2024-05-12T13:30:56.915Z"
   },
   {
    "duration": 4758,
    "start_time": "2024-05-12T13:30:56.919Z"
   },
   {
    "duration": 2,
    "start_time": "2024-05-12T13:31:01.679Z"
   },
   {
    "duration": 384,
    "start_time": "2024-05-12T13:31:01.682Z"
   },
   {
    "duration": 419,
    "start_time": "2024-05-12T13:31:02.068Z"
   },
   {
    "duration": 362,
    "start_time": "2024-05-12T13:31:02.489Z"
   },
   {
    "duration": 2,
    "start_time": "2024-05-12T13:31:02.852Z"
   },
   {
    "duration": 221,
    "start_time": "2024-05-12T13:31:02.855Z"
   },
   {
    "duration": 3,
    "start_time": "2024-05-12T13:31:03.077Z"
   },
   {
    "duration": 52,
    "start_time": "2024-05-12T13:31:03.084Z"
   },
   {
    "duration": 59,
    "start_time": "2024-05-12T13:31:03.137Z"
   },
   {
    "duration": 25,
    "start_time": "2024-05-12T13:31:03.197Z"
   },
   {
    "duration": 24,
    "start_time": "2024-05-12T13:31:03.224Z"
   },
   {
    "duration": 382,
    "start_time": "2024-05-12T13:31:03.251Z"
   },
   {
    "duration": 20,
    "start_time": "2024-05-12T13:31:03.635Z"
   },
   {
    "duration": 31,
    "start_time": "2024-05-12T13:31:03.656Z"
   },
   {
    "duration": 398,
    "start_time": "2024-05-12T13:31:03.688Z"
   },
   {
    "duration": 21,
    "start_time": "2024-05-12T13:31:04.088Z"
   },
   {
    "duration": 19,
    "start_time": "2024-05-12T13:31:04.110Z"
   },
   {
    "duration": 13,
    "start_time": "2024-05-12T13:31:04.130Z"
   },
   {
    "duration": 12,
    "start_time": "2024-05-12T13:31:04.144Z"
   },
   {
    "duration": 251,
    "start_time": "2024-05-12T13:31:04.185Z"
   },
   {
    "duration": 3,
    "start_time": "2024-05-12T13:31:04.437Z"
   },
   {
    "duration": 71,
    "start_time": "2024-05-12T13:31:04.441Z"
   },
   {
    "duration": 253,
    "start_time": "2024-05-12T13:31:04.514Z"
   },
   {
    "duration": 260,
    "start_time": "2024-05-12T13:31:04.768Z"
   },
   {
    "duration": 10,
    "start_time": "2024-05-12T13:31:05.030Z"
   },
   {
    "duration": 18,
    "start_time": "2024-05-12T13:31:05.041Z"
   },
   {
    "duration": 85,
    "start_time": "2024-05-12T13:31:05.061Z"
   },
   {
    "duration": 249,
    "start_time": "2024-05-12T13:31:05.148Z"
   },
   {
    "duration": 280,
    "start_time": "2024-05-12T13:31:05.399Z"
   },
   {
    "duration": 167,
    "start_time": "2024-05-12T13:31:59.365Z"
   },
   {
    "duration": 4,
    "start_time": "2024-05-12T13:32:05.103Z"
   },
   {
    "duration": 3,
    "start_time": "2024-05-12T13:33:52.039Z"
   },
   {
    "duration": 39,
    "start_time": "2024-05-12T13:34:07.821Z"
   },
   {
    "duration": 15,
    "start_time": "2024-05-12T13:34:27.080Z"
   },
   {
    "duration": 954,
    "start_time": "2024-05-12T13:35:15.921Z"
   },
   {
    "duration": 17,
    "start_time": "2024-05-12T13:35:22.696Z"
   },
   {
    "duration": 44,
    "start_time": "2024-05-12T13:35:42.780Z"
   },
   {
    "duration": 39,
    "start_time": "2024-05-12T13:36:07.845Z"
   },
   {
    "duration": 1184,
    "start_time": "2024-05-12T13:36:16.496Z"
   },
   {
    "duration": 44,
    "start_time": "2024-05-12T13:36:20.560Z"
   },
   {
    "duration": 39,
    "start_time": "2024-05-12T13:36:34.611Z"
   },
   {
    "duration": 12,
    "start_time": "2024-05-12T13:37:00.620Z"
   },
   {
    "duration": 12,
    "start_time": "2024-05-12T13:37:23.581Z"
   },
   {
    "duration": 42,
    "start_time": "2024-05-12T13:37:32.808Z"
   },
   {
    "duration": 2774,
    "start_time": "2024-05-12T13:41:58.671Z"
   },
   {
    "duration": 3025,
    "start_time": "2024-05-12T13:42:01.447Z"
   },
   {
    "duration": 2685,
    "start_time": "2024-05-12T13:42:04.474Z"
   },
   {
    "duration": 1927,
    "start_time": "2024-05-12T13:42:07.161Z"
   },
   {
    "duration": 2,
    "start_time": "2024-05-12T13:42:09.090Z"
   },
   {
    "duration": 7,
    "start_time": "2024-05-12T13:42:09.094Z"
   },
   {
    "duration": 13,
    "start_time": "2024-05-12T13:42:09.102Z"
   },
   {
    "duration": 15,
    "start_time": "2024-05-12T13:42:09.116Z"
   },
   {
    "duration": 672,
    "start_time": "2024-05-12T13:42:09.132Z"
   },
   {
    "duration": 3,
    "start_time": "2024-05-12T13:42:09.807Z"
   },
   {
    "duration": 7,
    "start_time": "2024-05-12T13:42:09.811Z"
   },
   {
    "duration": 20,
    "start_time": "2024-05-12T13:42:09.819Z"
   },
   {
    "duration": 86,
    "start_time": "2024-05-12T13:42:09.840Z"
   },
   {
    "duration": 84,
    "start_time": "2024-05-12T13:42:09.927Z"
   },
   {
    "duration": 8,
    "start_time": "2024-05-12T13:42:10.012Z"
   },
   {
    "duration": 4756,
    "start_time": "2024-05-12T13:42:10.021Z"
   },
   {
    "duration": 3,
    "start_time": "2024-05-12T13:42:14.779Z"
   },
   {
    "duration": 305,
    "start_time": "2024-05-12T13:42:14.783Z"
   },
   {
    "duration": 385,
    "start_time": "2024-05-12T13:42:15.090Z"
   },
   {
    "duration": 325,
    "start_time": "2024-05-12T13:42:15.477Z"
   },
   {
    "duration": 3,
    "start_time": "2024-05-12T13:42:15.803Z"
   },
   {
    "duration": 173,
    "start_time": "2024-05-12T13:42:15.807Z"
   },
   {
    "duration": 2,
    "start_time": "2024-05-12T13:42:15.984Z"
   },
   {
    "duration": 22,
    "start_time": "2024-05-12T13:42:15.987Z"
   },
   {
    "duration": 18,
    "start_time": "2024-05-12T13:42:16.010Z"
   },
   {
    "duration": 26,
    "start_time": "2024-05-12T13:42:16.030Z"
   },
   {
    "duration": 12,
    "start_time": "2024-05-12T13:42:16.058Z"
   },
   {
    "duration": 357,
    "start_time": "2024-05-12T13:42:16.086Z"
   },
   {
    "duration": 20,
    "start_time": "2024-05-12T13:42:16.444Z"
   },
   {
    "duration": 24,
    "start_time": "2024-05-12T13:42:16.466Z"
   },
   {
    "duration": 411,
    "start_time": "2024-05-12T13:42:16.491Z"
   },
   {
    "duration": 21,
    "start_time": "2024-05-12T13:42:16.903Z"
   },
   {
    "duration": 20,
    "start_time": "2024-05-12T13:42:16.926Z"
   },
   {
    "duration": 1746,
    "start_time": "2024-05-12T13:42:16.948Z"
   },
   {
    "duration": 41,
    "start_time": "2024-05-12T13:42:18.695Z"
   },
   {
    "duration": 16,
    "start_time": "2024-05-12T13:42:18.738Z"
   },
   {
    "duration": 257,
    "start_time": "2024-05-12T13:42:18.755Z"
   },
   {
    "duration": 4,
    "start_time": "2024-05-12T13:42:19.013Z"
   },
   {
    "duration": 52,
    "start_time": "2024-05-12T13:42:19.018Z"
   },
   {
    "duration": 246,
    "start_time": "2024-05-12T13:42:19.071Z"
   },
   {
    "duration": 256,
    "start_time": "2024-05-12T13:42:19.318Z"
   },
   {
    "duration": 16,
    "start_time": "2024-05-12T13:42:19.576Z"
   },
   {
    "duration": 3,
    "start_time": "2024-05-12T13:42:19.593Z"
   },
   {
    "duration": 52,
    "start_time": "2024-05-12T13:42:19.597Z"
   },
   {
    "duration": 263,
    "start_time": "2024-05-12T13:42:19.650Z"
   },
   {
    "duration": 280,
    "start_time": "2024-05-12T13:42:19.915Z"
   },
   {
    "duration": 12,
    "start_time": "2024-05-12T13:43:27.892Z"
   },
   {
    "duration": 1649,
    "start_time": "2024-05-12T13:43:52.720Z"
   },
   {
    "duration": 11,
    "start_time": "2024-05-12T13:43:54.959Z"
   },
   {
    "duration": 29,
    "start_time": "2024-05-12T13:43:56.114Z"
   },
   {
    "duration": 28,
    "start_time": "2024-05-12T13:45:28.750Z"
   },
   {
    "duration": 2904,
    "start_time": "2024-05-12T13:45:40.911Z"
   },
   {
    "duration": 2930,
    "start_time": "2024-05-12T13:45:43.816Z"
   },
   {
    "duration": 2686,
    "start_time": "2024-05-12T13:45:46.748Z"
   },
   {
    "duration": 1952,
    "start_time": "2024-05-12T13:45:49.436Z"
   },
   {
    "duration": 2,
    "start_time": "2024-05-12T13:45:51.390Z"
   },
   {
    "duration": 18,
    "start_time": "2024-05-12T13:45:51.394Z"
   },
   {
    "duration": 6,
    "start_time": "2024-05-12T13:45:51.413Z"
   },
   {
    "duration": 6,
    "start_time": "2024-05-12T13:45:51.420Z"
   },
   {
    "duration": 677,
    "start_time": "2024-05-12T13:45:51.427Z"
   },
   {
    "duration": 2,
    "start_time": "2024-05-12T13:45:52.106Z"
   },
   {
    "duration": 12,
    "start_time": "2024-05-12T13:45:52.109Z"
   },
   {
    "duration": 28,
    "start_time": "2024-05-12T13:45:52.122Z"
   },
   {
    "duration": 95,
    "start_time": "2024-05-12T13:45:52.152Z"
   },
   {
    "duration": 101,
    "start_time": "2024-05-12T13:45:52.249Z"
   },
   {
    "duration": 2,
    "start_time": "2024-05-12T13:45:52.352Z"
   },
   {
    "duration": 4689,
    "start_time": "2024-05-12T13:45:52.356Z"
   },
   {
    "duration": 3,
    "start_time": "2024-05-12T13:45:57.047Z"
   },
   {
    "duration": 347,
    "start_time": "2024-05-12T13:45:57.051Z"
   },
   {
    "duration": 365,
    "start_time": "2024-05-12T13:45:57.399Z"
   },
   {
    "duration": 344,
    "start_time": "2024-05-12T13:45:57.765Z"
   },
   {
    "duration": 2,
    "start_time": "2024-05-12T13:45:58.110Z"
   },
   {
    "duration": 174,
    "start_time": "2024-05-12T13:45:58.114Z"
   },
   {
    "duration": 3,
    "start_time": "2024-05-12T13:45:58.290Z"
   },
   {
    "duration": 17,
    "start_time": "2024-05-12T13:45:58.294Z"
   },
   {
    "duration": 17,
    "start_time": "2024-05-12T13:45:58.313Z"
   },
   {
    "duration": 16,
    "start_time": "2024-05-12T13:45:58.331Z"
   },
   {
    "duration": 12,
    "start_time": "2024-05-12T13:45:58.348Z"
   },
   {
    "duration": 374,
    "start_time": "2024-05-12T13:45:58.384Z"
   },
   {
    "duration": 26,
    "start_time": "2024-05-12T13:45:58.759Z"
   },
   {
    "duration": 21,
    "start_time": "2024-05-12T13:45:58.786Z"
   },
   {
    "duration": 401,
    "start_time": "2024-05-12T13:45:58.809Z"
   },
   {
    "duration": 20,
    "start_time": "2024-05-12T13:45:59.211Z"
   },
   {
    "duration": 19,
    "start_time": "2024-05-12T13:45:59.232Z"
   },
   {
    "duration": 43,
    "start_time": "2024-05-12T13:45:59.252Z"
   },
   {
    "duration": 12,
    "start_time": "2024-05-12T13:45:59.297Z"
   },
   {
    "duration": 251,
    "start_time": "2024-05-12T13:45:59.310Z"
   },
   {
    "duration": 4,
    "start_time": "2024-05-12T13:45:59.563Z"
   },
   {
    "duration": 61,
    "start_time": "2024-05-12T13:45:59.568Z"
   },
   {
    "duration": 237,
    "start_time": "2024-05-12T13:45:59.630Z"
   },
   {
    "duration": 254,
    "start_time": "2024-05-12T13:45:59.869Z"
   },
   {
    "duration": 10,
    "start_time": "2024-05-12T13:46:00.124Z"
   },
   {
    "duration": 51,
    "start_time": "2024-05-12T13:46:00.135Z"
   },
   {
    "duration": 114,
    "start_time": "2024-05-12T13:46:00.188Z"
   },
   {
    "duration": 253,
    "start_time": "2024-05-12T13:46:00.303Z"
   },
   {
    "duration": 281,
    "start_time": "2024-05-12T13:46:00.557Z"
   },
   {
    "duration": 52,
    "start_time": "2024-05-12T13:46:41.559Z"
   },
   {
    "duration": 31,
    "start_time": "2024-05-12T13:46:50.089Z"
   },
   {
    "duration": 888,
    "start_time": "2024-05-12T13:47:28.474Z"
   },
   {
    "duration": 43,
    "start_time": "2024-05-12T13:47:34.704Z"
   },
   {
    "duration": 31,
    "start_time": "2024-05-12T13:47:48.228Z"
   },
   {
    "duration": 54,
    "start_time": "2024-05-12T13:47:57.314Z"
   },
   {
    "duration": 28,
    "start_time": "2024-05-12T13:47:59.057Z"
   },
   {
    "duration": 31,
    "start_time": "2024-05-12T13:49:30.849Z"
   },
   {
    "duration": 53,
    "start_time": "2024-05-12T13:49:38.325Z"
   },
   {
    "duration": 42,
    "start_time": "2024-05-12T13:49:44.519Z"
   },
   {
    "duration": 30,
    "start_time": "2024-05-12T13:49:59.106Z"
   },
   {
    "duration": 49,
    "start_time": "2024-05-12T13:50:15.804Z"
   },
   {
    "duration": 74,
    "start_time": "2024-05-12T13:50:23.162Z"
   },
   {
    "duration": 30,
    "start_time": "2024-05-12T13:50:27.831Z"
   },
   {
    "duration": 29,
    "start_time": "2024-05-12T13:50:39.334Z"
   },
   {
    "duration": 2835,
    "start_time": "2024-05-12T13:50:45.655Z"
   },
   {
    "duration": 3020,
    "start_time": "2024-05-12T13:50:48.492Z"
   },
   {
    "duration": 2677,
    "start_time": "2024-05-12T13:50:51.514Z"
   },
   {
    "duration": 1879,
    "start_time": "2024-05-12T13:50:54.193Z"
   },
   {
    "duration": 2,
    "start_time": "2024-05-12T13:50:56.074Z"
   },
   {
    "duration": 4,
    "start_time": "2024-05-12T13:50:56.077Z"
   },
   {
    "duration": 5,
    "start_time": "2024-05-12T13:50:56.082Z"
   },
   {
    "duration": 6,
    "start_time": "2024-05-12T13:50:56.088Z"
   },
   {
    "duration": 690,
    "start_time": "2024-05-12T13:50:56.095Z"
   },
   {
    "duration": 3,
    "start_time": "2024-05-12T13:50:56.787Z"
   },
   {
    "duration": 7,
    "start_time": "2024-05-12T13:50:56.791Z"
   },
   {
    "duration": 16,
    "start_time": "2024-05-12T13:50:56.799Z"
   },
   {
    "duration": 91,
    "start_time": "2024-05-12T13:50:56.816Z"
   },
   {
    "duration": 91,
    "start_time": "2024-05-12T13:50:56.910Z"
   },
   {
    "duration": 2,
    "start_time": "2024-05-12T13:50:57.003Z"
   },
   {
    "duration": 4812,
    "start_time": "2024-05-12T13:50:57.006Z"
   },
   {
    "duration": 3,
    "start_time": "2024-05-12T13:51:01.820Z"
   },
   {
    "duration": 325,
    "start_time": "2024-05-12T13:51:01.824Z"
   },
   {
    "duration": 386,
    "start_time": "2024-05-12T13:51:02.151Z"
   },
   {
    "duration": 366,
    "start_time": "2024-05-12T13:51:02.539Z"
   },
   {
    "duration": 3,
    "start_time": "2024-05-12T13:51:02.906Z"
   },
   {
    "duration": 213,
    "start_time": "2024-05-12T13:51:02.910Z"
   },
   {
    "duration": 4,
    "start_time": "2024-05-12T13:51:03.124Z"
   },
   {
    "duration": 29,
    "start_time": "2024-05-12T13:51:03.129Z"
   },
   {
    "duration": 30,
    "start_time": "2024-05-12T13:51:03.160Z"
   },
   {
    "duration": 33,
    "start_time": "2024-05-12T13:51:03.192Z"
   },
   {
    "duration": 28,
    "start_time": "2024-05-12T13:51:03.227Z"
   },
   {
    "duration": 380,
    "start_time": "2024-05-12T13:51:03.257Z"
   },
   {
    "duration": 20,
    "start_time": "2024-05-12T13:51:03.639Z"
   },
   {
    "duration": 44,
    "start_time": "2024-05-12T13:51:03.660Z"
   },
   {
    "duration": 417,
    "start_time": "2024-05-12T13:51:03.706Z"
   },
   {
    "duration": 20,
    "start_time": "2024-05-12T13:51:04.125Z"
   },
   {
    "duration": 37,
    "start_time": "2024-05-12T13:51:04.147Z"
   },
   {
    "duration": 73,
    "start_time": "2024-05-12T13:51:04.186Z"
   },
   {
    "duration": 39,
    "start_time": "2024-05-12T13:51:04.260Z"
   },
   {
    "duration": 44,
    "start_time": "2024-05-12T13:51:04.301Z"
   },
   {
    "duration": 11,
    "start_time": "2024-05-12T13:51:04.347Z"
   },
   {
    "duration": 261,
    "start_time": "2024-05-12T13:51:04.359Z"
   },
   {
    "duration": 4,
    "start_time": "2024-05-12T13:51:04.621Z"
   },
   {
    "duration": 64,
    "start_time": "2024-05-12T13:51:04.626Z"
   },
   {
    "duration": 240,
    "start_time": "2024-05-12T13:51:04.694Z"
   },
   {
    "duration": 269,
    "start_time": "2024-05-12T13:51:04.935Z"
   },
   {
    "duration": 13,
    "start_time": "2024-05-12T13:51:05.206Z"
   },
   {
    "duration": 4,
    "start_time": "2024-05-12T13:51:05.221Z"
   },
   {
    "duration": 76,
    "start_time": "2024-05-12T13:51:05.227Z"
   },
   {
    "duration": 259,
    "start_time": "2024-05-12T13:51:05.305Z"
   },
   {
    "duration": 278,
    "start_time": "2024-05-12T13:51:05.565Z"
   },
   {
    "duration": 27,
    "start_time": "2024-05-12T13:53:24.240Z"
   },
   {
    "duration": 53,
    "start_time": "2024-05-12T13:53:28.330Z"
   },
   {
    "duration": 46,
    "start_time": "2024-05-12T13:53:29.561Z"
   },
   {
    "duration": 2850,
    "start_time": "2024-05-12T13:53:44.923Z"
   },
   {
    "duration": 3111,
    "start_time": "2024-05-12T13:53:47.775Z"
   },
   {
    "duration": 2877,
    "start_time": "2024-05-12T13:53:50.888Z"
   },
   {
    "duration": 2042,
    "start_time": "2024-05-12T13:53:53.767Z"
   },
   {
    "duration": 3,
    "start_time": "2024-05-12T13:53:55.811Z"
   },
   {
    "duration": 3,
    "start_time": "2024-05-12T13:53:55.815Z"
   },
   {
    "duration": 5,
    "start_time": "2024-05-12T13:53:55.820Z"
   },
   {
    "duration": 6,
    "start_time": "2024-05-12T13:53:55.827Z"
   },
   {
    "duration": 706,
    "start_time": "2024-05-12T13:53:55.834Z"
   },
   {
    "duration": 3,
    "start_time": "2024-05-12T13:53:56.541Z"
   },
   {
    "duration": 10,
    "start_time": "2024-05-12T13:53:56.545Z"
   },
   {
    "duration": 27,
    "start_time": "2024-05-12T13:53:56.556Z"
   },
   {
    "duration": 79,
    "start_time": "2024-05-12T13:53:56.585Z"
   },
   {
    "duration": 154,
    "start_time": "2024-05-12T13:53:56.667Z"
   },
   {
    "duration": 4,
    "start_time": "2024-05-12T13:53:56.822Z"
   },
   {
    "duration": 5071,
    "start_time": "2024-05-12T13:53:56.827Z"
   },
   {
    "duration": 4,
    "start_time": "2024-05-12T13:54:01.899Z"
   },
   {
    "duration": 393,
    "start_time": "2024-05-12T13:54:01.905Z"
   },
   {
    "duration": 393,
    "start_time": "2024-05-12T13:54:02.299Z"
   },
   {
    "duration": 360,
    "start_time": "2024-05-12T13:54:02.693Z"
   },
   {
    "duration": 2,
    "start_time": "2024-05-12T13:54:03.054Z"
   },
   {
    "duration": 201,
    "start_time": "2024-05-12T13:54:03.058Z"
   },
   {
    "duration": 3,
    "start_time": "2024-05-12T13:54:03.261Z"
   },
   {
    "duration": 43,
    "start_time": "2024-05-12T13:54:03.265Z"
   },
   {
    "duration": 26,
    "start_time": "2024-05-12T13:54:03.309Z"
   },
   {
    "duration": 24,
    "start_time": "2024-05-12T13:54:03.337Z"
   },
   {
    "duration": 25,
    "start_time": "2024-05-12T13:54:03.363Z"
   },
   {
    "duration": 408,
    "start_time": "2024-05-12T13:54:03.390Z"
   },
   {
    "duration": 21,
    "start_time": "2024-05-12T13:54:03.799Z"
   },
   {
    "duration": 24,
    "start_time": "2024-05-12T13:54:03.821Z"
   },
   {
    "duration": 474,
    "start_time": "2024-05-12T13:54:03.847Z"
   },
   {
    "duration": 20,
    "start_time": "2024-05-12T13:54:04.323Z"
   },
   {
    "duration": 42,
    "start_time": "2024-05-12T13:54:04.345Z"
   },
   {
    "duration": 45,
    "start_time": "2024-05-12T13:54:04.388Z"
   },
   {
    "duration": 76,
    "start_time": "2024-05-12T13:54:04.435Z"
   },
   {
    "duration": 53,
    "start_time": "2024-05-12T13:54:04.513Z"
   },
   {
    "duration": 19,
    "start_time": "2024-05-12T13:54:04.567Z"
   },
   {
    "duration": 306,
    "start_time": "2024-05-12T13:54:04.587Z"
   },
   {
    "duration": 5,
    "start_time": "2024-05-12T13:54:04.894Z"
   },
   {
    "duration": 53,
    "start_time": "2024-05-12T13:54:04.900Z"
   },
   {
    "duration": 278,
    "start_time": "2024-05-12T13:54:04.958Z"
   },
   {
    "duration": 320,
    "start_time": "2024-05-12T13:54:05.238Z"
   },
   {
    "duration": 11,
    "start_time": "2024-05-12T13:54:05.560Z"
   },
   {
    "duration": 4,
    "start_time": "2024-05-12T13:54:05.584Z"
   },
   {
    "duration": 57,
    "start_time": "2024-05-12T13:54:05.589Z"
   },
   {
    "duration": 271,
    "start_time": "2024-05-12T13:54:05.648Z"
   },
   {
    "duration": 283,
    "start_time": "2024-05-12T13:54:05.920Z"
   },
   {
    "duration": 5,
    "start_time": "2024-05-12T13:54:36.286Z"
   },
   {
    "duration": 42,
    "start_time": "2024-05-12T13:59:41.790Z"
   },
   {
    "duration": 37,
    "start_time": "2024-05-12T13:59:55.602Z"
   },
   {
    "duration": 890,
    "start_time": "2024-05-12T13:59:56.809Z"
   },
   {
    "duration": 2951,
    "start_time": "2024-05-12T14:00:34.668Z"
   },
   {
    "duration": 3066,
    "start_time": "2024-05-12T14:00:37.621Z"
   },
   {
    "duration": 2806,
    "start_time": "2024-05-12T14:00:40.688Z"
   },
   {
    "duration": 1953,
    "start_time": "2024-05-12T14:00:43.496Z"
   },
   {
    "duration": 3,
    "start_time": "2024-05-12T14:00:45.450Z"
   },
   {
    "duration": 32,
    "start_time": "2024-05-12T14:00:45.454Z"
   },
   {
    "duration": 11,
    "start_time": "2024-05-12T14:00:45.487Z"
   },
   {
    "duration": 5,
    "start_time": "2024-05-12T14:00:45.500Z"
   },
   {
    "duration": 681,
    "start_time": "2024-05-12T14:00:45.506Z"
   },
   {
    "duration": 5,
    "start_time": "2024-05-12T14:00:46.189Z"
   },
   {
    "duration": 22,
    "start_time": "2024-05-12T14:00:46.195Z"
   },
   {
    "duration": 37,
    "start_time": "2024-05-12T14:00:46.218Z"
   },
   {
    "duration": 86,
    "start_time": "2024-05-12T14:00:46.256Z"
   },
   {
    "duration": 93,
    "start_time": "2024-05-12T14:00:46.343Z"
   },
   {
    "duration": 2,
    "start_time": "2024-05-12T14:00:46.438Z"
   },
   {
    "duration": 4915,
    "start_time": "2024-05-12T14:00:46.441Z"
   },
   {
    "duration": 3,
    "start_time": "2024-05-12T14:00:51.357Z"
   },
   {
    "duration": 339,
    "start_time": "2024-05-12T14:00:51.362Z"
   },
   {
    "duration": 391,
    "start_time": "2024-05-12T14:00:51.702Z"
   },
   {
    "duration": 352,
    "start_time": "2024-05-12T14:00:52.095Z"
   },
   {
    "duration": 2,
    "start_time": "2024-05-12T14:00:52.448Z"
   },
   {
    "duration": 202,
    "start_time": "2024-05-12T14:00:52.451Z"
   },
   {
    "duration": 3,
    "start_time": "2024-05-12T14:00:52.654Z"
   },
   {
    "duration": 16,
    "start_time": "2024-05-12T14:00:52.659Z"
   },
   {
    "duration": 35,
    "start_time": "2024-05-12T14:00:52.676Z"
   },
   {
    "duration": 36,
    "start_time": "2024-05-12T14:00:52.713Z"
   },
   {
    "duration": 18,
    "start_time": "2024-05-12T14:00:52.750Z"
   },
   {
    "duration": 370,
    "start_time": "2024-05-12T14:00:52.771Z"
   },
   {
    "duration": 20,
    "start_time": "2024-05-12T14:00:53.143Z"
   },
   {
    "duration": 32,
    "start_time": "2024-05-12T14:00:53.164Z"
   },
   {
    "duration": 405,
    "start_time": "2024-05-12T14:00:53.198Z"
   },
   {
    "duration": 31,
    "start_time": "2024-05-12T14:00:53.605Z"
   },
   {
    "duration": 20,
    "start_time": "2024-05-12T14:00:53.637Z"
   },
   {
    "duration": 43,
    "start_time": "2024-05-12T14:00:53.659Z"
   },
   {
    "duration": 4,
    "start_time": "2024-05-12T14:00:53.703Z"
   },
   {
    "duration": 39,
    "start_time": "2024-05-12T14:00:53.708Z"
   },
   {
    "duration": 40,
    "start_time": "2024-05-12T14:00:53.748Z"
   },
   {
    "duration": 18,
    "start_time": "2024-05-12T14:00:53.790Z"
   },
   {
    "duration": 261,
    "start_time": "2024-05-12T14:00:53.810Z"
   },
   {
    "duration": 3,
    "start_time": "2024-05-12T14:00:54.073Z"
   },
   {
    "duration": 58,
    "start_time": "2024-05-12T14:00:54.077Z"
   },
   {
    "duration": 250,
    "start_time": "2024-05-12T14:00:54.137Z"
   },
   {
    "duration": 264,
    "start_time": "2024-05-12T14:00:54.388Z"
   },
   {
    "duration": 10,
    "start_time": "2024-05-12T14:00:54.653Z"
   },
   {
    "duration": 10,
    "start_time": "2024-05-12T14:00:54.664Z"
   },
   {
    "duration": 59,
    "start_time": "2024-05-12T14:00:54.675Z"
   },
   {
    "duration": 264,
    "start_time": "2024-05-12T14:00:54.736Z"
   },
   {
    "duration": 278,
    "start_time": "2024-05-12T14:00:55.002Z"
   },
   {
    "duration": 15,
    "start_time": "2024-05-12T14:09:08.444Z"
   },
   {
    "duration": 379,
    "start_time": "2024-05-12T14:09:09.434Z"
   },
   {
    "duration": 3,
    "start_time": "2024-05-12T14:12:21.032Z"
   },
   {
    "duration": 33,
    "start_time": "2024-05-12T14:12:27.742Z"
   },
   {
    "duration": 27,
    "start_time": "2024-05-12T14:12:28.561Z"
   },
   {
    "duration": 13,
    "start_time": "2024-05-12T14:12:46.330Z"
   },
   {
    "duration": 1006,
    "start_time": "2024-05-12T14:13:40.454Z"
   },
   {
    "duration": 3,
    "start_time": "2024-05-12T14:14:01.976Z"
   },
   {
    "duration": 12,
    "start_time": "2024-05-12T14:14:06.109Z"
   },
   {
    "duration": 4,
    "start_time": "2024-05-12T14:14:08.602Z"
   },
   {
    "duration": 2761,
    "start_time": "2024-05-12T14:14:44.460Z"
   },
   {
    "duration": 2917,
    "start_time": "2024-05-12T14:14:47.223Z"
   },
   {
    "duration": 2741,
    "start_time": "2024-05-12T14:14:50.141Z"
   },
   {
    "duration": 1918,
    "start_time": "2024-05-12T14:14:52.884Z"
   },
   {
    "duration": 2,
    "start_time": "2024-05-12T14:14:54.804Z"
   },
   {
    "duration": 17,
    "start_time": "2024-05-12T14:14:54.807Z"
   },
   {
    "duration": 10,
    "start_time": "2024-05-12T14:14:54.825Z"
   },
   {
    "duration": 16,
    "start_time": "2024-05-12T14:14:54.836Z"
   },
   {
    "duration": 704,
    "start_time": "2024-05-12T14:14:54.853Z"
   },
   {
    "duration": 2,
    "start_time": "2024-05-12T14:14:55.559Z"
   },
   {
    "duration": 32,
    "start_time": "2024-05-12T14:14:55.562Z"
   },
   {
    "duration": 14,
    "start_time": "2024-05-12T14:14:55.595Z"
   },
   {
    "duration": 83,
    "start_time": "2024-05-12T14:14:55.610Z"
   },
   {
    "duration": 94,
    "start_time": "2024-05-12T14:14:55.694Z"
   },
   {
    "duration": 2,
    "start_time": "2024-05-12T14:14:55.789Z"
   },
   {
    "duration": 4657,
    "start_time": "2024-05-12T14:14:55.792Z"
   },
   {
    "duration": 2,
    "start_time": "2024-05-12T14:15:00.451Z"
   },
   {
    "duration": 407,
    "start_time": "2024-05-12T14:15:00.454Z"
   },
   {
    "duration": 374,
    "start_time": "2024-05-12T14:15:00.862Z"
   },
   {
    "duration": 334,
    "start_time": "2024-05-12T14:15:01.237Z"
   },
   {
    "duration": 2,
    "start_time": "2024-05-12T14:15:01.572Z"
   },
   {
    "duration": 196,
    "start_time": "2024-05-12T14:15:01.575Z"
   },
   {
    "duration": 3,
    "start_time": "2024-05-12T14:15:01.773Z"
   },
   {
    "duration": 16,
    "start_time": "2024-05-12T14:15:01.784Z"
   },
   {
    "duration": 35,
    "start_time": "2024-05-12T14:15:01.801Z"
   },
   {
    "duration": 38,
    "start_time": "2024-05-12T14:15:01.837Z"
   },
   {
    "duration": 19,
    "start_time": "2024-05-12T14:15:01.876Z"
   },
   {
    "duration": 417,
    "start_time": "2024-05-12T14:15:01.898Z"
   },
   {
    "duration": 21,
    "start_time": "2024-05-12T14:15:02.317Z"
   },
   {
    "duration": 22,
    "start_time": "2024-05-12T14:15:02.340Z"
   },
   {
    "duration": 32,
    "start_time": "2024-05-12T14:15:02.363Z"
   },
   {
    "duration": 442,
    "start_time": "2024-05-12T14:15:02.396Z"
   },
   {
    "duration": 21,
    "start_time": "2024-05-12T14:15:02.839Z"
   },
   {
    "duration": 65,
    "start_time": "2024-05-12T14:15:02.861Z"
   },
   {
    "duration": 32,
    "start_time": "2024-05-12T14:15:02.927Z"
   },
   {
    "duration": 21,
    "start_time": "2024-05-12T14:15:02.961Z"
   },
   {
    "duration": 1049,
    "start_time": "2024-05-12T14:15:02.983Z"
   },
   {
    "duration": 0,
    "start_time": "2024-05-12T14:15:04.033Z"
   },
   {
    "duration": 0,
    "start_time": "2024-05-12T14:15:04.034Z"
   },
   {
    "duration": 0,
    "start_time": "2024-05-12T14:15:04.035Z"
   },
   {
    "duration": 0,
    "start_time": "2024-05-12T14:15:04.036Z"
   },
   {
    "duration": 0,
    "start_time": "2024-05-12T14:15:04.036Z"
   },
   {
    "duration": 0,
    "start_time": "2024-05-12T14:15:04.037Z"
   },
   {
    "duration": 0,
    "start_time": "2024-05-12T14:15:04.038Z"
   },
   {
    "duration": 0,
    "start_time": "2024-05-12T14:15:04.038Z"
   },
   {
    "duration": 0,
    "start_time": "2024-05-12T14:15:04.039Z"
   },
   {
    "duration": 0,
    "start_time": "2024-05-12T14:15:04.040Z"
   },
   {
    "duration": 0,
    "start_time": "2024-05-12T14:15:04.040Z"
   },
   {
    "duration": 1703,
    "start_time": "2024-05-12T14:15:26.249Z"
   },
   {
    "duration": 2827,
    "start_time": "2024-05-12T14:15:35.370Z"
   },
   {
    "duration": 2877,
    "start_time": "2024-05-12T14:15:38.199Z"
   },
   {
    "duration": 2706,
    "start_time": "2024-05-12T14:15:41.078Z"
   },
   {
    "duration": 1960,
    "start_time": "2024-05-12T14:15:43.787Z"
   },
   {
    "duration": 2,
    "start_time": "2024-05-12T14:15:45.749Z"
   },
   {
    "duration": 56,
    "start_time": "2024-05-12T14:15:45.752Z"
   },
   {
    "duration": 9,
    "start_time": "2024-05-12T14:15:45.810Z"
   },
   {
    "duration": 15,
    "start_time": "2024-05-12T14:15:45.821Z"
   },
   {
    "duration": 678,
    "start_time": "2024-05-12T14:15:45.838Z"
   },
   {
    "duration": 3,
    "start_time": "2024-05-12T14:15:46.518Z"
   },
   {
    "duration": 5,
    "start_time": "2024-05-12T14:15:46.522Z"
   },
   {
    "duration": 16,
    "start_time": "2024-05-12T14:15:46.528Z"
   },
   {
    "duration": 90,
    "start_time": "2024-05-12T14:15:46.545Z"
   },
   {
    "duration": 99,
    "start_time": "2024-05-12T14:15:46.636Z"
   },
   {
    "duration": 2,
    "start_time": "2024-05-12T14:15:46.736Z"
   },
   {
    "duration": 4710,
    "start_time": "2024-05-12T14:15:46.739Z"
   },
   {
    "duration": 2,
    "start_time": "2024-05-12T14:15:51.451Z"
   },
   {
    "duration": 326,
    "start_time": "2024-05-12T14:15:51.454Z"
   },
   {
    "duration": 376,
    "start_time": "2024-05-12T14:15:51.784Z"
   },
   {
    "duration": 345,
    "start_time": "2024-05-12T14:15:52.162Z"
   },
   {
    "duration": 2,
    "start_time": "2024-05-12T14:15:52.508Z"
   },
   {
    "duration": 183,
    "start_time": "2024-05-12T14:15:52.511Z"
   },
   {
    "duration": 3,
    "start_time": "2024-05-12T14:15:52.695Z"
   },
   {
    "duration": 22,
    "start_time": "2024-05-12T14:15:52.699Z"
   },
   {
    "duration": 21,
    "start_time": "2024-05-12T14:15:52.723Z"
   },
   {
    "duration": 20,
    "start_time": "2024-05-12T14:15:52.746Z"
   },
   {
    "duration": 27,
    "start_time": "2024-05-12T14:15:52.767Z"
   },
   {
    "duration": 368,
    "start_time": "2024-05-12T14:15:52.796Z"
   },
   {
    "duration": 28,
    "start_time": "2024-05-12T14:15:53.165Z"
   },
   {
    "duration": 16,
    "start_time": "2024-05-12T14:15:53.194Z"
   },
   {
    "duration": 15,
    "start_time": "2024-05-12T14:15:53.211Z"
   },
   {
    "duration": 387,
    "start_time": "2024-05-12T14:15:53.227Z"
   },
   {
    "duration": 21,
    "start_time": "2024-05-12T14:15:53.615Z"
   },
   {
    "duration": 19,
    "start_time": "2024-05-12T14:15:53.637Z"
   },
   {
    "duration": 38,
    "start_time": "2024-05-12T14:15:53.657Z"
   },
   {
    "duration": 5,
    "start_time": "2024-05-12T14:15:53.696Z"
   },
   {
    "duration": 1711,
    "start_time": "2024-05-12T14:15:53.702Z"
   },
   {
    "duration": 12,
    "start_time": "2024-05-12T14:15:55.414Z"
   },
   {
    "duration": 259,
    "start_time": "2024-05-12T14:15:55.427Z"
   },
   {
    "duration": 3,
    "start_time": "2024-05-12T14:15:55.688Z"
   },
   {
    "duration": 49,
    "start_time": "2024-05-12T14:15:55.692Z"
   },
   {
    "duration": 257,
    "start_time": "2024-05-12T14:15:55.742Z"
   },
   {
    "duration": 249,
    "start_time": "2024-05-12T14:15:56.000Z"
   },
   {
    "duration": 10,
    "start_time": "2024-05-12T14:15:56.250Z"
   },
   {
    "duration": 7,
    "start_time": "2024-05-12T14:15:56.262Z"
   },
   {
    "duration": 59,
    "start_time": "2024-05-12T14:15:56.270Z"
   },
   {
    "duration": 246,
    "start_time": "2024-05-12T14:15:56.331Z"
   },
   {
    "duration": 283,
    "start_time": "2024-05-12T14:15:56.578Z"
   },
   {
    "duration": 12,
    "start_time": "2024-05-12T14:16:01.002Z"
   },
   {
    "duration": 5,
    "start_time": "2024-05-12T14:16:42.751Z"
   },
   {
    "duration": 1660,
    "start_time": "2024-05-12T14:17:06.935Z"
   },
   {
    "duration": 12,
    "start_time": "2024-05-12T14:17:10.763Z"
   },
   {
    "duration": 12,
    "start_time": "2024-05-12T14:17:12.202Z"
   },
   {
    "duration": 2896,
    "start_time": "2024-05-12T14:17:18.121Z"
   },
   {
    "duration": 2986,
    "start_time": "2024-05-12T14:17:21.019Z"
   },
   {
    "duration": 2779,
    "start_time": "2024-05-12T14:17:24.007Z"
   },
   {
    "duration": 1901,
    "start_time": "2024-05-12T14:17:26.787Z"
   },
   {
    "duration": 2,
    "start_time": "2024-05-12T14:17:28.690Z"
   },
   {
    "duration": 16,
    "start_time": "2024-05-12T14:17:28.693Z"
   },
   {
    "duration": 26,
    "start_time": "2024-05-12T14:17:28.710Z"
   },
   {
    "duration": 21,
    "start_time": "2024-05-12T14:17:28.737Z"
   },
   {
    "duration": 708,
    "start_time": "2024-05-12T14:17:28.759Z"
   },
   {
    "duration": 2,
    "start_time": "2024-05-12T14:17:29.469Z"
   },
   {
    "duration": 34,
    "start_time": "2024-05-12T14:17:29.472Z"
   },
   {
    "duration": 36,
    "start_time": "2024-05-12T14:17:29.507Z"
   },
   {
    "duration": 89,
    "start_time": "2024-05-12T14:17:29.544Z"
   },
   {
    "duration": 87,
    "start_time": "2024-05-12T14:17:29.637Z"
   },
   {
    "duration": 2,
    "start_time": "2024-05-12T14:17:29.726Z"
   },
   {
    "duration": 4711,
    "start_time": "2024-05-12T14:17:29.730Z"
   },
   {
    "duration": 3,
    "start_time": "2024-05-12T14:17:34.442Z"
   },
   {
    "duration": 326,
    "start_time": "2024-05-12T14:17:34.446Z"
   },
   {
    "duration": 378,
    "start_time": "2024-05-12T14:17:34.773Z"
   },
   {
    "duration": 341,
    "start_time": "2024-05-12T14:17:35.153Z"
   },
   {
    "duration": 2,
    "start_time": "2024-05-12T14:17:35.496Z"
   },
   {
    "duration": 185,
    "start_time": "2024-05-12T14:17:35.499Z"
   },
   {
    "duration": 3,
    "start_time": "2024-05-12T14:17:35.686Z"
   },
   {
    "duration": 20,
    "start_time": "2024-05-12T14:17:35.691Z"
   },
   {
    "duration": 22,
    "start_time": "2024-05-12T14:17:35.713Z"
   },
   {
    "duration": 19,
    "start_time": "2024-05-12T14:17:35.736Z"
   },
   {
    "duration": 12,
    "start_time": "2024-05-12T14:17:35.757Z"
   },
   {
    "duration": 375,
    "start_time": "2024-05-12T14:17:35.784Z"
   },
   {
    "duration": 29,
    "start_time": "2024-05-12T14:17:36.161Z"
   },
   {
    "duration": 17,
    "start_time": "2024-05-12T14:17:36.191Z"
   },
   {
    "duration": 18,
    "start_time": "2024-05-12T14:17:36.209Z"
   },
   {
    "duration": 382,
    "start_time": "2024-05-12T14:17:36.228Z"
   },
   {
    "duration": 21,
    "start_time": "2024-05-12T14:17:36.611Z"
   },
   {
    "duration": 20,
    "start_time": "2024-05-12T14:17:36.634Z"
   },
   {
    "duration": 39,
    "start_time": "2024-05-12T14:17:36.656Z"
   },
   {
    "duration": 3,
    "start_time": "2024-05-12T14:17:36.697Z"
   },
   {
    "duration": 1714,
    "start_time": "2024-05-12T14:17:36.702Z"
   },
   {
    "duration": 12,
    "start_time": "2024-05-12T14:17:38.417Z"
   },
   {
    "duration": 256,
    "start_time": "2024-05-12T14:17:38.430Z"
   },
   {
    "duration": 4,
    "start_time": "2024-05-12T14:17:38.687Z"
   },
   {
    "duration": 53,
    "start_time": "2024-05-12T14:17:38.695Z"
   },
   {
    "duration": 247,
    "start_time": "2024-05-12T14:17:38.750Z"
   },
   {
    "duration": 253,
    "start_time": "2024-05-12T14:17:38.998Z"
   },
   {
    "duration": 10,
    "start_time": "2024-05-12T14:17:39.253Z"
   },
   {
    "duration": 4,
    "start_time": "2024-05-12T14:17:39.264Z"
   },
   {
    "duration": 62,
    "start_time": "2024-05-12T14:17:39.270Z"
   },
   {
    "duration": 266,
    "start_time": "2024-05-12T14:17:39.333Z"
   },
   {
    "duration": 277,
    "start_time": "2024-05-12T14:17:39.601Z"
   },
   {
    "duration": 32,
    "start_time": "2024-05-12T14:17:52.020Z"
   },
   {
    "duration": 30,
    "start_time": "2024-05-12T14:18:22.988Z"
   },
   {
    "duration": 12,
    "start_time": "2024-05-12T14:18:27.887Z"
   },
   {
    "duration": 15,
    "start_time": "2024-05-12T14:19:18.070Z"
   },
   {
    "duration": 13,
    "start_time": "2024-05-12T14:19:30.628Z"
   },
   {
    "duration": 2827,
    "start_time": "2024-05-12T14:20:23.959Z"
   },
   {
    "duration": 2908,
    "start_time": "2024-05-12T14:20:26.788Z"
   },
   {
    "duration": 2719,
    "start_time": "2024-05-12T14:20:29.697Z"
   },
   {
    "duration": 1878,
    "start_time": "2024-05-12T14:20:32.417Z"
   },
   {
    "duration": 3,
    "start_time": "2024-05-12T14:20:34.297Z"
   },
   {
    "duration": 21,
    "start_time": "2024-05-12T14:20:34.301Z"
   },
   {
    "duration": 11,
    "start_time": "2024-05-12T14:20:34.323Z"
   },
   {
    "duration": 6,
    "start_time": "2024-05-12T14:20:34.335Z"
   },
   {
    "duration": 675,
    "start_time": "2024-05-12T14:20:34.342Z"
   },
   {
    "duration": 3,
    "start_time": "2024-05-12T14:20:35.018Z"
   },
   {
    "duration": 23,
    "start_time": "2024-05-12T14:20:35.022Z"
   },
   {
    "duration": 24,
    "start_time": "2024-05-12T14:20:35.047Z"
   },
   {
    "duration": 80,
    "start_time": "2024-05-12T14:20:35.072Z"
   },
   {
    "duration": 90,
    "start_time": "2024-05-12T14:20:35.154Z"
   },
   {
    "duration": 2,
    "start_time": "2024-05-12T14:20:35.246Z"
   },
   {
    "duration": 4684,
    "start_time": "2024-05-12T14:20:35.249Z"
   },
   {
    "duration": 2,
    "start_time": "2024-05-12T14:20:39.935Z"
   },
   {
    "duration": 340,
    "start_time": "2024-05-12T14:20:39.938Z"
   },
   {
    "duration": 364,
    "start_time": "2024-05-12T14:20:40.279Z"
   },
   {
    "duration": 333,
    "start_time": "2024-05-12T14:20:40.644Z"
   },
   {
    "duration": 6,
    "start_time": "2024-05-12T14:20:40.979Z"
   },
   {
    "duration": 177,
    "start_time": "2024-05-12T14:20:40.986Z"
   },
   {
    "duration": 3,
    "start_time": "2024-05-12T14:20:41.164Z"
   },
   {
    "duration": 28,
    "start_time": "2024-05-12T14:20:41.168Z"
   },
   {
    "duration": 21,
    "start_time": "2024-05-12T14:20:41.197Z"
   },
   {
    "duration": 15,
    "start_time": "2024-05-12T14:20:41.219Z"
   },
   {
    "duration": 16,
    "start_time": "2024-05-12T14:20:41.235Z"
   },
   {
    "duration": 376,
    "start_time": "2024-05-12T14:20:41.252Z"
   },
   {
    "duration": 20,
    "start_time": "2024-05-12T14:20:41.629Z"
   },
   {
    "duration": 18,
    "start_time": "2024-05-12T14:20:41.650Z"
   },
   {
    "duration": 29,
    "start_time": "2024-05-12T14:20:41.669Z"
   },
   {
    "duration": 379,
    "start_time": "2024-05-12T14:20:41.699Z"
   },
   {
    "duration": 21,
    "start_time": "2024-05-12T14:20:42.084Z"
   },
   {
    "duration": 19,
    "start_time": "2024-05-12T14:20:42.107Z"
   },
   {
    "duration": 37,
    "start_time": "2024-05-12T14:20:42.127Z"
   },
   {
    "duration": 1756,
    "start_time": "2024-05-12T14:20:42.165Z"
   },
   {
    "duration": 9621,
    "start_time": "2024-05-12T14:20:43.922Z"
   },
   {
    "duration": 12,
    "start_time": "2024-05-12T14:20:53.544Z"
   },
   {
    "duration": 254,
    "start_time": "2024-05-12T14:20:53.557Z"
   },
   {
    "duration": 3,
    "start_time": "2024-05-12T14:20:53.812Z"
   },
   {
    "duration": 69,
    "start_time": "2024-05-12T14:20:53.818Z"
   },
   {
    "duration": 242,
    "start_time": "2024-05-12T14:20:53.889Z"
   },
   {
    "duration": 259,
    "start_time": "2024-05-12T14:20:54.132Z"
   },
   {
    "duration": 9,
    "start_time": "2024-05-12T14:20:54.392Z"
   },
   {
    "duration": 2,
    "start_time": "2024-05-12T14:20:54.403Z"
   },
   {
    "duration": 54,
    "start_time": "2024-05-12T14:20:54.406Z"
   },
   {
    "duration": 262,
    "start_time": "2024-05-12T14:20:54.461Z"
   },
   {
    "duration": 272,
    "start_time": "2024-05-12T14:20:54.724Z"
   },
   {
    "duration": 13,
    "start_time": "2024-05-12T14:20:59.237Z"
   },
   {
    "duration": 29,
    "start_time": "2024-05-12T14:21:20.161Z"
   },
   {
    "duration": 1677,
    "start_time": "2024-05-12T14:21:36.554Z"
   },
   {
    "duration": 29,
    "start_time": "2024-05-12T14:21:39.185Z"
   },
   {
    "duration": 12,
    "start_time": "2024-05-12T14:22:26.010Z"
   },
   {
    "duration": 2894,
    "start_time": "2024-05-12T14:23:00.130Z"
   },
   {
    "duration": 2997,
    "start_time": "2024-05-12T14:23:03.026Z"
   },
   {
    "duration": 2677,
    "start_time": "2024-05-12T14:23:06.025Z"
   },
   {
    "duration": 1982,
    "start_time": "2024-05-12T14:23:08.704Z"
   },
   {
    "duration": 2,
    "start_time": "2024-05-12T14:23:10.688Z"
   },
   {
    "duration": 3,
    "start_time": "2024-05-12T14:23:10.692Z"
   },
   {
    "duration": 32,
    "start_time": "2024-05-12T14:23:10.697Z"
   },
   {
    "duration": 19,
    "start_time": "2024-05-12T14:23:10.731Z"
   },
   {
    "duration": 707,
    "start_time": "2024-05-12T14:23:10.751Z"
   },
   {
    "duration": 2,
    "start_time": "2024-05-12T14:23:11.459Z"
   },
   {
    "duration": 29,
    "start_time": "2024-05-12T14:23:11.462Z"
   },
   {
    "duration": 44,
    "start_time": "2024-05-12T14:23:11.492Z"
   },
   {
    "duration": 91,
    "start_time": "2024-05-12T14:23:11.537Z"
   },
   {
    "duration": 90,
    "start_time": "2024-05-12T14:23:11.630Z"
   },
   {
    "duration": 17,
    "start_time": "2024-05-12T14:23:11.721Z"
   },
   {
    "duration": 4785,
    "start_time": "2024-05-12T14:23:11.740Z"
   },
   {
    "duration": 2,
    "start_time": "2024-05-12T14:23:16.527Z"
   },
   {
    "duration": 334,
    "start_time": "2024-05-12T14:23:16.531Z"
   },
   {
    "duration": 379,
    "start_time": "2024-05-12T14:23:16.866Z"
   },
   {
    "duration": 339,
    "start_time": "2024-05-12T14:23:17.246Z"
   },
   {
    "duration": 2,
    "start_time": "2024-05-12T14:23:17.586Z"
   },
   {
    "duration": 181,
    "start_time": "2024-05-12T14:23:17.589Z"
   },
   {
    "duration": 3,
    "start_time": "2024-05-12T14:23:17.772Z"
   },
   {
    "duration": 41,
    "start_time": "2024-05-12T14:23:17.777Z"
   },
   {
    "duration": 23,
    "start_time": "2024-05-12T14:23:17.819Z"
   },
   {
    "duration": 22,
    "start_time": "2024-05-12T14:23:17.843Z"
   },
   {
    "duration": 54,
    "start_time": "2024-05-12T14:23:17.866Z"
   },
   {
    "duration": 381,
    "start_time": "2024-05-12T14:23:17.922Z"
   },
   {
    "duration": 20,
    "start_time": "2024-05-12T14:23:18.305Z"
   },
   {
    "duration": 31,
    "start_time": "2024-05-12T14:23:18.326Z"
   },
   {
    "duration": 25,
    "start_time": "2024-05-12T14:23:18.359Z"
   },
   {
    "duration": 376,
    "start_time": "2024-05-12T14:23:18.386Z"
   },
   {
    "duration": 28,
    "start_time": "2024-05-12T14:23:18.764Z"
   },
   {
    "duration": 22,
    "start_time": "2024-05-12T14:23:18.794Z"
   },
   {
    "duration": 28,
    "start_time": "2024-05-12T14:23:18.817Z"
   },
   {
    "duration": 4,
    "start_time": "2024-05-12T14:23:18.847Z"
   },
   {
    "duration": 25,
    "start_time": "2024-05-12T14:23:18.852Z"
   },
   {
    "duration": 267,
    "start_time": "2024-05-12T14:23:18.884Z"
   },
   {
    "duration": 3,
    "start_time": "2024-05-12T14:23:19.153Z"
   },
   {
    "duration": 62,
    "start_time": "2024-05-12T14:23:19.157Z"
   },
   {
    "duration": 243,
    "start_time": "2024-05-12T14:23:19.222Z"
   },
   {
    "duration": 279,
    "start_time": "2024-05-12T14:23:19.466Z"
   },
   {
    "duration": 11,
    "start_time": "2024-05-12T14:23:19.747Z"
   },
   {
    "duration": 3,
    "start_time": "2024-05-12T14:23:19.759Z"
   },
   {
    "duration": 80,
    "start_time": "2024-05-12T14:23:19.763Z"
   },
   {
    "duration": 252,
    "start_time": "2024-05-12T14:23:19.845Z"
   },
   {
    "duration": 275,
    "start_time": "2024-05-12T14:23:20.098Z"
   },
   {
    "duration": 4,
    "start_time": "2024-05-12T14:23:32.592Z"
   },
   {
    "duration": 4,
    "start_time": "2024-05-12T14:23:39.157Z"
   },
   {
    "duration": 4,
    "start_time": "2024-05-12T14:24:33.282Z"
   },
   {
    "duration": 2,
    "start_time": "2024-05-12T14:24:40.225Z"
   },
   {
    "duration": 3,
    "start_time": "2024-05-12T14:24:45.580Z"
   },
   {
    "duration": 3,
    "start_time": "2024-05-12T14:25:14.639Z"
   },
   {
    "duration": 3,
    "start_time": "2024-05-12T14:25:15.322Z"
   },
   {
    "duration": 3,
    "start_time": "2024-05-12T14:25:24.409Z"
   },
   {
    "duration": 3,
    "start_time": "2024-05-12T14:25:25.177Z"
   },
   {
    "duration": 166,
    "start_time": "2024-05-12T14:25:32.607Z"
   },
   {
    "duration": 2,
    "start_time": "2024-05-12T14:25:36.016Z"
   },
   {
    "duration": 4,
    "start_time": "2024-05-12T14:25:36.987Z"
   },
   {
    "duration": 3,
    "start_time": "2024-05-12T14:26:36.271Z"
   },
   {
    "duration": 3,
    "start_time": "2024-05-12T14:31:57.836Z"
   },
   {
    "duration": 3,
    "start_time": "2024-05-12T14:31:58.345Z"
   },
   {
    "duration": 912,
    "start_time": "2024-05-12T14:32:26.211Z"
   },
   {
    "duration": 1784,
    "start_time": "2024-05-12T14:33:30.269Z"
   },
   {
    "duration": 30,
    "start_time": "2024-05-12T14:33:42.552Z"
   },
   {
    "duration": 13,
    "start_time": "2024-05-12T14:33:47.729Z"
   },
   {
    "duration": 3025,
    "start_time": "2024-05-12T14:33:58.081Z"
   },
   {
    "duration": 3138,
    "start_time": "2024-05-12T14:34:01.108Z"
   },
   {
    "duration": 2848,
    "start_time": "2024-05-12T14:34:04.248Z"
   },
   {
    "duration": 2040,
    "start_time": "2024-05-12T14:34:07.099Z"
   },
   {
    "duration": 3,
    "start_time": "2024-05-12T14:34:09.141Z"
   },
   {
    "duration": 3,
    "start_time": "2024-05-12T14:34:09.146Z"
   },
   {
    "duration": 6,
    "start_time": "2024-05-12T14:34:09.150Z"
   },
   {
    "duration": 6,
    "start_time": "2024-05-12T14:34:09.157Z"
   },
   {
    "duration": 716,
    "start_time": "2024-05-12T14:34:09.165Z"
   },
   {
    "duration": 2,
    "start_time": "2024-05-12T14:34:09.885Z"
   },
   {
    "duration": 9,
    "start_time": "2024-05-12T14:34:09.889Z"
   },
   {
    "duration": 14,
    "start_time": "2024-05-12T14:34:09.899Z"
   },
   {
    "duration": 104,
    "start_time": "2024-05-12T14:34:09.915Z"
   },
   {
    "duration": 101,
    "start_time": "2024-05-12T14:34:10.021Z"
   },
   {
    "duration": 2,
    "start_time": "2024-05-12T14:34:10.124Z"
   },
   {
    "duration": 5045,
    "start_time": "2024-05-12T14:34:10.128Z"
   },
   {
    "duration": 2,
    "start_time": "2024-05-12T14:34:15.175Z"
   },
   {
    "duration": 378,
    "start_time": "2024-05-12T14:34:15.179Z"
   },
   {
    "duration": 389,
    "start_time": "2024-05-12T14:34:15.559Z"
   },
   {
    "duration": 343,
    "start_time": "2024-05-12T14:34:15.949Z"
   },
   {
    "duration": 2,
    "start_time": "2024-05-12T14:34:16.293Z"
   },
   {
    "duration": 199,
    "start_time": "2024-05-12T14:34:16.297Z"
   },
   {
    "duration": 4,
    "start_time": "2024-05-12T14:34:16.497Z"
   },
   {
    "duration": 46,
    "start_time": "2024-05-12T14:34:16.502Z"
   },
   {
    "duration": 42,
    "start_time": "2024-05-12T14:34:16.549Z"
   },
   {
    "duration": 16,
    "start_time": "2024-05-12T14:34:16.592Z"
   },
   {
    "duration": 17,
    "start_time": "2024-05-12T14:34:16.610Z"
   },
   {
    "duration": 413,
    "start_time": "2024-05-12T14:34:16.630Z"
   },
   {
    "duration": 22,
    "start_time": "2024-05-12T14:34:17.044Z"
   },
   {
    "duration": 29,
    "start_time": "2024-05-12T14:34:17.067Z"
   },
   {
    "duration": 17,
    "start_time": "2024-05-12T14:34:17.097Z"
   },
   {
    "duration": 404,
    "start_time": "2024-05-12T14:34:17.116Z"
   },
   {
    "duration": 21,
    "start_time": "2024-05-12T14:34:17.522Z"
   },
   {
    "duration": 21,
    "start_time": "2024-05-12T14:34:17.545Z"
   },
   {
    "duration": 49,
    "start_time": "2024-05-12T14:34:17.567Z"
   },
   {
    "duration": 10,
    "start_time": "2024-05-12T14:34:17.618Z"
   },
   {
    "duration": 20,
    "start_time": "2024-05-12T14:34:17.629Z"
   },
   {
    "duration": 1809,
    "start_time": "2024-05-12T14:34:17.650Z"
   },
   {
    "duration": 32,
    "start_time": "2024-05-12T14:34:19.460Z"
   },
   {
    "duration": 13,
    "start_time": "2024-05-12T14:34:19.493Z"
   },
   {
    "duration": 271,
    "start_time": "2024-05-12T14:34:19.507Z"
   },
   {
    "duration": 7,
    "start_time": "2024-05-12T14:34:19.779Z"
   },
   {
    "duration": 54,
    "start_time": "2024-05-12T14:34:19.787Z"
   },
   {
    "duration": 264,
    "start_time": "2024-05-12T14:34:19.843Z"
   },
   {
    "duration": 270,
    "start_time": "2024-05-12T14:34:20.108Z"
   },
   {
    "duration": 10,
    "start_time": "2024-05-12T14:34:20.379Z"
   },
   {
    "duration": 3,
    "start_time": "2024-05-12T14:34:20.390Z"
   },
   {
    "duration": 53,
    "start_time": "2024-05-12T14:34:20.394Z"
   },
   {
    "duration": 282,
    "start_time": "2024-05-12T14:34:20.449Z"
   },
   {
    "duration": 284,
    "start_time": "2024-05-12T14:34:20.733Z"
   },
   {
    "duration": 29,
    "start_time": "2024-05-12T14:51:24.394Z"
   },
   {
    "duration": 30,
    "start_time": "2024-05-12T14:51:31.838Z"
   },
   {
    "duration": 4,
    "start_time": "2024-05-12T14:58:12.411Z"
   },
   {
    "duration": 3,
    "start_time": "2024-05-12T14:58:20.620Z"
   },
   {
    "duration": 4,
    "start_time": "2024-05-12T14:58:25.207Z"
   },
   {
    "duration": 36,
    "start_time": "2024-05-12T14:58:37.576Z"
   },
   {
    "duration": 40,
    "start_time": "2024-05-12T14:59:00.316Z"
   },
   {
    "duration": 4,
    "start_time": "2024-05-12T14:59:03.041Z"
   },
   {
    "duration": 39,
    "start_time": "2024-05-12T14:59:06.022Z"
   },
   {
    "duration": 31,
    "start_time": "2024-05-12T15:02:45.473Z"
   },
   {
    "duration": 29,
    "start_time": "2024-05-12T15:02:46.260Z"
   },
   {
    "duration": 31,
    "start_time": "2024-05-12T15:02:52.440Z"
   },
   {
    "duration": 28,
    "start_time": "2024-05-12T15:02:53.451Z"
   },
   {
    "duration": 36,
    "start_time": "2024-05-12T15:03:03.131Z"
   },
   {
    "duration": 30,
    "start_time": "2024-05-12T15:03:03.794Z"
   },
   {
    "duration": 2790,
    "start_time": "2024-05-12T15:03:17.203Z"
   },
   {
    "duration": 2889,
    "start_time": "2024-05-12T15:03:19.995Z"
   },
   {
    "duration": 2673,
    "start_time": "2024-05-12T15:03:22.885Z"
   },
   {
    "duration": 1973,
    "start_time": "2024-05-12T15:03:25.559Z"
   },
   {
    "duration": 2,
    "start_time": "2024-05-12T15:03:27.533Z"
   },
   {
    "duration": 12,
    "start_time": "2024-05-12T15:03:27.537Z"
   },
   {
    "duration": 9,
    "start_time": "2024-05-12T15:03:27.550Z"
   },
   {
    "duration": 5,
    "start_time": "2024-05-12T15:03:27.560Z"
   },
   {
    "duration": 700,
    "start_time": "2024-05-12T15:03:27.566Z"
   },
   {
    "duration": 3,
    "start_time": "2024-05-12T15:03:28.267Z"
   },
   {
    "duration": 14,
    "start_time": "2024-05-12T15:03:28.271Z"
   },
   {
    "duration": 13,
    "start_time": "2024-05-12T15:03:28.286Z"
   },
   {
    "duration": 88,
    "start_time": "2024-05-12T15:03:28.300Z"
   },
   {
    "duration": 84,
    "start_time": "2024-05-12T15:03:28.390Z"
   },
   {
    "duration": 9,
    "start_time": "2024-05-12T15:03:28.475Z"
   },
   {
    "duration": 4724,
    "start_time": "2024-05-12T15:03:28.485Z"
   },
   {
    "duration": 3,
    "start_time": "2024-05-12T15:03:33.210Z"
   },
   {
    "duration": 323,
    "start_time": "2024-05-12T15:03:33.214Z"
   },
   {
    "duration": 375,
    "start_time": "2024-05-12T15:03:33.538Z"
   },
   {
    "duration": 322,
    "start_time": "2024-05-12T15:03:33.915Z"
   },
   {
    "duration": 2,
    "start_time": "2024-05-12T15:03:34.238Z"
   },
   {
    "duration": 184,
    "start_time": "2024-05-12T15:03:34.241Z"
   },
   {
    "duration": 3,
    "start_time": "2024-05-12T15:03:34.426Z"
   },
   {
    "duration": 23,
    "start_time": "2024-05-12T15:03:34.430Z"
   },
   {
    "duration": 17,
    "start_time": "2024-05-12T15:03:34.455Z"
   },
   {
    "duration": 23,
    "start_time": "2024-05-12T15:03:34.473Z"
   },
   {
    "duration": 15,
    "start_time": "2024-05-12T15:03:34.497Z"
   },
   {
    "duration": 397,
    "start_time": "2024-05-12T15:03:34.513Z"
   },
   {
    "duration": 21,
    "start_time": "2024-05-12T15:03:34.911Z"
   },
   {
    "duration": 18,
    "start_time": "2024-05-12T15:03:34.933Z"
   },
   {
    "duration": 35,
    "start_time": "2024-05-12T15:03:34.952Z"
   },
   {
    "duration": 377,
    "start_time": "2024-05-12T15:03:34.988Z"
   },
   {
    "duration": 28,
    "start_time": "2024-05-12T15:03:35.366Z"
   },
   {
    "duration": 19,
    "start_time": "2024-05-12T15:03:35.395Z"
   },
   {
    "duration": 28,
    "start_time": "2024-05-12T15:03:35.415Z"
   },
   {
    "duration": 40,
    "start_time": "2024-05-12T15:03:35.444Z"
   },
   {
    "duration": 29,
    "start_time": "2024-05-12T15:03:35.485Z"
   },
   {
    "duration": 39,
    "start_time": "2024-05-12T15:03:35.516Z"
   },
   {
    "duration": 12,
    "start_time": "2024-05-12T15:03:35.557Z"
   },
   {
    "duration": 246,
    "start_time": "2024-05-12T15:03:35.584Z"
   },
   {
    "duration": 4,
    "start_time": "2024-05-12T15:03:35.833Z"
   },
   {
    "duration": 67,
    "start_time": "2024-05-12T15:03:35.838Z"
   },
   {
    "duration": 238,
    "start_time": "2024-05-12T15:03:35.906Z"
   },
   {
    "duration": 259,
    "start_time": "2024-05-12T15:03:36.145Z"
   },
   {
    "duration": 9,
    "start_time": "2024-05-12T15:03:36.406Z"
   },
   {
    "duration": 18,
    "start_time": "2024-05-12T15:03:36.416Z"
   },
   {
    "duration": 53,
    "start_time": "2024-05-12T15:03:36.435Z"
   },
   {
    "duration": 246,
    "start_time": "2024-05-12T15:03:36.489Z"
   },
   {
    "duration": 284,
    "start_time": "2024-05-12T15:03:36.736Z"
   },
   {
    "duration": 30,
    "start_time": "2024-05-12T15:03:48.611Z"
   },
   {
    "duration": 31,
    "start_time": "2024-05-12T15:03:49.830Z"
   },
   {
    "duration": 180,
    "start_time": "2024-05-12T15:04:32.264Z"
   },
   {
    "duration": 29,
    "start_time": "2024-05-12T15:04:35.501Z"
   },
   {
    "duration": 34,
    "start_time": "2024-05-12T15:05:34.472Z"
   },
   {
    "duration": 28,
    "start_time": "2024-05-12T15:05:40.766Z"
   },
   {
    "duration": 299,
    "start_time": "2024-05-12T15:07:48.952Z"
   },
   {
    "duration": 33,
    "start_time": "2024-05-12T15:07:56.656Z"
   },
   {
    "duration": 30,
    "start_time": "2024-05-12T15:09:55.949Z"
   },
   {
    "duration": 29,
    "start_time": "2024-05-12T15:09:58.101Z"
   },
   {
    "duration": 881,
    "start_time": "2024-05-12T15:10:34.089Z"
   },
   {
    "duration": 1674,
    "start_time": "2024-05-12T15:10:43.616Z"
   },
   {
    "duration": 723,
    "start_time": "2024-05-12T15:11:46.426Z"
   },
   {
    "duration": 390,
    "start_time": "2024-05-12T15:12:33.453Z"
   },
   {
    "duration": 737,
    "start_time": "2024-05-12T15:12:51.842Z"
   },
   {
    "duration": 3006,
    "start_time": "2024-05-12T15:13:21.843Z"
   },
   {
    "duration": 3159,
    "start_time": "2024-05-12T15:13:24.851Z"
   },
   {
    "duration": 2860,
    "start_time": "2024-05-12T15:13:28.012Z"
   },
   {
    "duration": 2101,
    "start_time": "2024-05-12T15:13:30.874Z"
   },
   {
    "duration": 3,
    "start_time": "2024-05-12T15:13:32.976Z"
   },
   {
    "duration": 17,
    "start_time": "2024-05-12T15:13:32.980Z"
   },
   {
    "duration": 27,
    "start_time": "2024-05-12T15:13:32.999Z"
   },
   {
    "duration": 24,
    "start_time": "2024-05-12T15:13:33.028Z"
   },
   {
    "duration": 765,
    "start_time": "2024-05-12T15:13:33.054Z"
   },
   {
    "duration": 2,
    "start_time": "2024-05-12T15:13:33.821Z"
   },
   {
    "duration": 38,
    "start_time": "2024-05-12T15:13:33.824Z"
   },
   {
    "duration": 38,
    "start_time": "2024-05-12T15:13:33.863Z"
   },
   {
    "duration": 110,
    "start_time": "2024-05-12T15:13:33.902Z"
   },
   {
    "duration": 90,
    "start_time": "2024-05-12T15:13:34.015Z"
   },
   {
    "duration": 8,
    "start_time": "2024-05-12T15:13:34.107Z"
   },
   {
    "duration": 4937,
    "start_time": "2024-05-12T15:13:34.116Z"
   },
   {
    "duration": 2,
    "start_time": "2024-05-12T15:13:39.055Z"
   },
   {
    "duration": 343,
    "start_time": "2024-05-12T15:13:39.059Z"
   },
   {
    "duration": 422,
    "start_time": "2024-05-12T15:13:39.403Z"
   },
   {
    "duration": 361,
    "start_time": "2024-05-12T15:13:39.826Z"
   },
   {
    "duration": 2,
    "start_time": "2024-05-12T15:13:40.188Z"
   },
   {
    "duration": 218,
    "start_time": "2024-05-12T15:13:40.192Z"
   },
   {
    "duration": 4,
    "start_time": "2024-05-12T15:13:40.411Z"
   },
   {
    "duration": 23,
    "start_time": "2024-05-12T15:13:40.416Z"
   },
   {
    "duration": 21,
    "start_time": "2024-05-12T15:13:40.440Z"
   },
   {
    "duration": 35,
    "start_time": "2024-05-12T15:13:40.464Z"
   },
   {
    "duration": 14,
    "start_time": "2024-05-12T15:13:40.500Z"
   },
   {
    "duration": 440,
    "start_time": "2024-05-12T15:13:40.515Z"
   },
   {
    "duration": 41,
    "start_time": "2024-05-12T15:13:40.957Z"
   },
   {
    "duration": 26,
    "start_time": "2024-05-12T15:13:40.999Z"
   },
   {
    "duration": 18,
    "start_time": "2024-05-12T15:13:41.027Z"
   },
   {
    "duration": 415,
    "start_time": "2024-05-12T15:13:41.046Z"
   },
   {
    "duration": 32,
    "start_time": "2024-05-12T15:13:41.463Z"
   },
   {
    "duration": 20,
    "start_time": "2024-05-12T15:13:41.496Z"
   },
   {
    "duration": 828,
    "start_time": "2024-05-12T15:13:41.518Z"
   },
   {
    "duration": 17,
    "start_time": "2024-05-12T15:13:42.347Z"
   },
   {
    "duration": 276,
    "start_time": "2024-05-12T15:13:42.366Z"
   },
   {
    "duration": 4,
    "start_time": "2024-05-12T15:13:42.643Z"
   },
   {
    "duration": 77,
    "start_time": "2024-05-12T15:13:42.648Z"
   },
   {
    "duration": 264,
    "start_time": "2024-05-12T15:13:42.727Z"
   },
   {
    "duration": 265,
    "start_time": "2024-05-12T15:13:42.994Z"
   },
   {
    "duration": 11,
    "start_time": "2024-05-12T15:13:43.260Z"
   },
   {
    "duration": 12,
    "start_time": "2024-05-12T15:13:43.272Z"
   },
   {
    "duration": 51,
    "start_time": "2024-05-12T15:13:43.285Z"
   },
   {
    "duration": 270,
    "start_time": "2024-05-12T15:13:43.338Z"
   },
   {
    "duration": 282,
    "start_time": "2024-05-12T15:13:43.609Z"
   },
   {
    "duration": 721,
    "start_time": "2024-05-12T15:14:48.421Z"
   },
   {
    "duration": 779,
    "start_time": "2024-05-12T15:15:11.969Z"
   },
   {
    "duration": 33,
    "start_time": "2024-05-12T15:15:45.724Z"
   },
   {
    "duration": 63,
    "start_time": "2024-05-12T15:19:00.813Z"
   },
   {
    "duration": 1877,
    "start_time": "2024-05-12T15:19:48.198Z"
   },
   {
    "duration": 39,
    "start_time": "2024-05-12T15:19:50.972Z"
   },
   {
    "duration": 1881,
    "start_time": "2024-05-12T15:20:10.940Z"
   },
   {
    "duration": 33,
    "start_time": "2024-05-12T15:20:13.910Z"
   },
   {
    "duration": 2974,
    "start_time": "2024-05-12T15:20:54.090Z"
   },
   {
    "duration": 3163,
    "start_time": "2024-05-12T15:20:57.066Z"
   },
   {
    "duration": 2889,
    "start_time": "2024-05-12T15:21:00.230Z"
   },
   {
    "duration": 1959,
    "start_time": "2024-05-12T15:21:03.120Z"
   },
   {
    "duration": 2,
    "start_time": "2024-05-12T15:21:05.082Z"
   },
   {
    "duration": 9,
    "start_time": "2024-05-12T15:21:05.086Z"
   },
   {
    "duration": 6,
    "start_time": "2024-05-12T15:21:05.097Z"
   },
   {
    "duration": 14,
    "start_time": "2024-05-12T15:21:05.105Z"
   },
   {
    "duration": 746,
    "start_time": "2024-05-12T15:21:05.121Z"
   },
   {
    "duration": 2,
    "start_time": "2024-05-12T15:21:05.869Z"
   },
   {
    "duration": 19,
    "start_time": "2024-05-12T15:21:05.873Z"
   },
   {
    "duration": 15,
    "start_time": "2024-05-12T15:21:05.893Z"
   },
   {
    "duration": 103,
    "start_time": "2024-05-12T15:21:05.910Z"
   },
   {
    "duration": 91,
    "start_time": "2024-05-12T15:21:06.015Z"
   },
   {
    "duration": 5,
    "start_time": "2024-05-12T15:21:06.107Z"
   },
   {
    "duration": 5000,
    "start_time": "2024-05-12T15:21:06.113Z"
   },
   {
    "duration": 2,
    "start_time": "2024-05-12T15:21:11.115Z"
   },
   {
    "duration": 340,
    "start_time": "2024-05-12T15:21:11.118Z"
   },
   {
    "duration": 409,
    "start_time": "2024-05-12T15:21:11.460Z"
   },
   {
    "duration": 376,
    "start_time": "2024-05-12T15:21:11.871Z"
   },
   {
    "duration": 3,
    "start_time": "2024-05-12T15:21:12.248Z"
   },
   {
    "duration": 205,
    "start_time": "2024-05-12T15:21:12.252Z"
   },
   {
    "duration": 4,
    "start_time": "2024-05-12T15:21:12.459Z"
   },
   {
    "duration": 24,
    "start_time": "2024-05-12T15:21:12.464Z"
   },
   {
    "duration": 23,
    "start_time": "2024-05-12T15:21:12.489Z"
   },
   {
    "duration": 17,
    "start_time": "2024-05-12T15:21:12.513Z"
   },
   {
    "duration": 14,
    "start_time": "2024-05-12T15:21:12.531Z"
   },
   {
    "duration": 434,
    "start_time": "2024-05-12T15:21:12.546Z"
   },
   {
    "duration": 23,
    "start_time": "2024-05-12T15:21:12.984Z"
   },
   {
    "duration": 23,
    "start_time": "2024-05-12T15:21:13.009Z"
   },
   {
    "duration": 15,
    "start_time": "2024-05-12T15:21:13.033Z"
   },
   {
    "duration": 400,
    "start_time": "2024-05-12T15:21:13.049Z"
   },
   {
    "duration": 21,
    "start_time": "2024-05-12T15:21:13.450Z"
   },
   {
    "duration": 38,
    "start_time": "2024-05-12T15:21:13.472Z"
   },
   {
    "duration": 1860,
    "start_time": "2024-05-12T15:21:13.511Z"
   },
   {
    "duration": 40,
    "start_time": "2024-05-12T15:21:15.372Z"
   },
   {
    "duration": 13,
    "start_time": "2024-05-12T15:21:15.413Z"
   },
   {
    "duration": 300,
    "start_time": "2024-05-12T15:21:15.427Z"
   },
   {
    "duration": 4,
    "start_time": "2024-05-12T15:21:15.728Z"
   },
   {
    "duration": 59,
    "start_time": "2024-05-12T15:21:15.733Z"
   },
   {
    "duration": 249,
    "start_time": "2024-05-12T15:21:15.796Z"
   },
   {
    "duration": 274,
    "start_time": "2024-05-12T15:21:16.046Z"
   },
   {
    "duration": 11,
    "start_time": "2024-05-12T15:21:16.321Z"
   },
   {
    "duration": 3,
    "start_time": "2024-05-12T15:21:16.333Z"
   },
   {
    "duration": 73,
    "start_time": "2024-05-12T15:21:16.337Z"
   },
   {
    "duration": 277,
    "start_time": "2024-05-12T15:21:16.412Z"
   },
   {
    "duration": 308,
    "start_time": "2024-05-12T15:21:16.691Z"
   },
   {
    "duration": 1714,
    "start_time": "2024-05-12T15:22:13.363Z"
   },
   {
    "duration": 22,
    "start_time": "2024-05-12T15:58:31.356Z"
   },
   {
    "duration": 9213,
    "start_time": "2024-05-12T15:58:59.923Z"
   },
   {
    "duration": 13,
    "start_time": "2024-05-12T15:59:12.021Z"
   },
   {
    "duration": 16,
    "start_time": "2024-05-12T16:00:50.476Z"
   },
   {
    "duration": 9838,
    "start_time": "2024-05-12T16:00:55.973Z"
   },
   {
    "duration": 13,
    "start_time": "2024-05-12T16:01:07.000Z"
   },
   {
    "duration": 2,
    "start_time": "2024-05-12T16:01:44.315Z"
   },
   {
    "duration": 439,
    "start_time": "2024-05-12T16:01:52.840Z"
   },
   {
    "duration": 9969,
    "start_time": "2024-05-12T16:02:25.558Z"
   },
   {
    "duration": 12,
    "start_time": "2024-05-12T16:02:36.590Z"
   },
   {
    "duration": 12,
    "start_time": "2024-05-12T16:02:48.174Z"
   },
   {
    "duration": 10033,
    "start_time": "2024-05-12T16:02:50.161Z"
   },
   {
    "duration": 10274,
    "start_time": "2024-05-12T16:03:19.324Z"
   },
   {
    "duration": 12,
    "start_time": "2024-05-12T16:03:33.275Z"
   },
   {
    "duration": 10616,
    "start_time": "2024-05-12T16:04:42.817Z"
   },
   {
    "duration": 13,
    "start_time": "2024-05-12T16:04:54.266Z"
   },
   {
    "duration": 3010,
    "start_time": "2024-05-12T16:05:00.052Z"
   },
   {
    "duration": 3069,
    "start_time": "2024-05-12T16:05:03.064Z"
   },
   {
    "duration": 2836,
    "start_time": "2024-05-12T16:05:06.135Z"
   },
   {
    "duration": 2043,
    "start_time": "2024-05-12T16:05:08.973Z"
   },
   {
    "duration": 2,
    "start_time": "2024-05-12T16:05:11.018Z"
   },
   {
    "duration": 16,
    "start_time": "2024-05-12T16:05:11.021Z"
   },
   {
    "duration": 7,
    "start_time": "2024-05-12T16:05:11.038Z"
   },
   {
    "duration": 7,
    "start_time": "2024-05-12T16:05:11.046Z"
   },
   {
    "duration": 708,
    "start_time": "2024-05-12T16:05:11.054Z"
   },
   {
    "duration": 2,
    "start_time": "2024-05-12T16:05:11.763Z"
   },
   {
    "duration": 9,
    "start_time": "2024-05-12T16:05:11.766Z"
   },
   {
    "duration": 18,
    "start_time": "2024-05-12T16:05:11.776Z"
   },
   {
    "duration": 90,
    "start_time": "2024-05-12T16:05:11.795Z"
   },
   {
    "duration": 88,
    "start_time": "2024-05-12T16:05:11.888Z"
   },
   {
    "duration": 2,
    "start_time": "2024-05-12T16:05:11.984Z"
   },
   {
    "duration": 4885,
    "start_time": "2024-05-12T16:05:11.988Z"
   },
   {
    "duration": 2,
    "start_time": "2024-05-12T16:05:16.875Z"
   },
   {
    "duration": 339,
    "start_time": "2024-05-12T16:05:16.878Z"
   },
   {
    "duration": 390,
    "start_time": "2024-05-12T16:05:17.219Z"
   },
   {
    "duration": 340,
    "start_time": "2024-05-12T16:05:17.610Z"
   },
   {
    "duration": 2,
    "start_time": "2024-05-12T16:05:17.951Z"
   },
   {
    "duration": 184,
    "start_time": "2024-05-12T16:05:17.955Z"
   },
   {
    "duration": 3,
    "start_time": "2024-05-12T16:05:18.140Z"
   },
   {
    "duration": 30,
    "start_time": "2024-05-12T16:05:18.145Z"
   },
   {
    "duration": 27,
    "start_time": "2024-05-12T16:05:18.176Z"
   },
   {
    "duration": 27,
    "start_time": "2024-05-12T16:05:18.204Z"
   },
   {
    "duration": 19,
    "start_time": "2024-05-12T16:05:18.232Z"
   },
   {
    "duration": 426,
    "start_time": "2024-05-12T16:05:18.252Z"
   },
   {
    "duration": 22,
    "start_time": "2024-05-12T16:05:18.680Z"
   },
   {
    "duration": 18,
    "start_time": "2024-05-12T16:05:18.703Z"
   },
   {
    "duration": 29,
    "start_time": "2024-05-12T16:05:18.722Z"
   },
   {
    "duration": 393,
    "start_time": "2024-05-12T16:05:18.753Z"
   },
   {
    "duration": 16,
    "start_time": "2024-05-12T16:05:19.148Z"
   },
   {
    "duration": 36,
    "start_time": "2024-05-12T16:05:19.165Z"
   },
   {
    "duration": 1793,
    "start_time": "2024-05-12T16:05:19.202Z"
   },
   {
    "duration": 36,
    "start_time": "2024-05-12T16:05:20.996Z"
   },
   {
    "duration": 12,
    "start_time": "2024-05-12T16:05:21.033Z"
   },
   {
    "duration": 11028,
    "start_time": "2024-05-12T16:05:21.047Z"
   },
   {
    "duration": 16,
    "start_time": "2024-05-12T16:05:32.076Z"
   },
   {
    "duration": 259,
    "start_time": "2024-05-12T16:05:32.093Z"
   },
   {
    "duration": 3,
    "start_time": "2024-05-12T16:05:32.355Z"
   },
   {
    "duration": 59,
    "start_time": "2024-05-12T16:05:32.359Z"
   },
   {
    "duration": 248,
    "start_time": "2024-05-12T16:05:32.419Z"
   },
   {
    "duration": 280,
    "start_time": "2024-05-12T16:05:32.668Z"
   },
   {
    "duration": 10,
    "start_time": "2024-05-12T16:05:32.949Z"
   },
   {
    "duration": 2,
    "start_time": "2024-05-12T16:05:32.961Z"
   },
   {
    "duration": 61,
    "start_time": "2024-05-12T16:05:32.964Z"
   },
   {
    "duration": 252,
    "start_time": "2024-05-12T16:05:33.027Z"
   },
   {
    "duration": 277,
    "start_time": "2024-05-12T16:05:33.284Z"
   },
   {
    "duration": 13,
    "start_time": "2024-05-12T16:05:38.883Z"
   },
   {
    "duration": 12,
    "start_time": "2024-05-12T16:05:41.002Z"
   },
   {
    "duration": 12,
    "start_time": "2024-05-12T16:05:52.601Z"
   },
   {
    "duration": 27,
    "start_time": "2024-05-12T16:06:03.719Z"
   },
   {
    "duration": 19,
    "start_time": "2024-05-12T16:06:59.490Z"
   },
   {
    "duration": 10346,
    "start_time": "2024-05-12T16:07:01.021Z"
   },
   {
    "duration": 12,
    "start_time": "2024-05-12T16:07:12.732Z"
   },
   {
    "duration": 379,
    "start_time": "2024-05-12T16:09:24.996Z"
   },
   {
    "duration": 385,
    "start_time": "2024-05-12T16:09:43.003Z"
   },
   {
    "duration": 19,
    "start_time": "2024-05-12T16:10:01.753Z"
   },
   {
    "duration": 2830,
    "start_time": "2024-05-12T16:10:23.476Z"
   },
   {
    "duration": 2942,
    "start_time": "2024-05-12T16:10:26.307Z"
   },
   {
    "duration": 2684,
    "start_time": "2024-05-12T16:10:29.253Z"
   },
   {
    "duration": 1989,
    "start_time": "2024-05-12T16:10:31.940Z"
   },
   {
    "duration": 3,
    "start_time": "2024-05-12T16:10:33.930Z"
   },
   {
    "duration": 18,
    "start_time": "2024-05-12T16:10:33.934Z"
   },
   {
    "duration": 5,
    "start_time": "2024-05-12T16:10:33.954Z"
   },
   {
    "duration": 10,
    "start_time": "2024-05-12T16:10:33.961Z"
   },
   {
    "duration": 695,
    "start_time": "2024-05-12T16:10:33.972Z"
   },
   {
    "duration": 2,
    "start_time": "2024-05-12T16:10:34.669Z"
   },
   {
    "duration": 12,
    "start_time": "2024-05-12T16:10:34.673Z"
   },
   {
    "duration": 21,
    "start_time": "2024-05-12T16:10:34.686Z"
   },
   {
    "duration": 90,
    "start_time": "2024-05-12T16:10:34.710Z"
   },
   {
    "duration": 90,
    "start_time": "2024-05-12T16:10:34.802Z"
   },
   {
    "duration": 2,
    "start_time": "2024-05-12T16:10:34.893Z"
   },
   {
    "duration": 4773,
    "start_time": "2024-05-12T16:10:34.896Z"
   },
   {
    "duration": 2,
    "start_time": "2024-05-12T16:10:39.671Z"
   },
   {
    "duration": 332,
    "start_time": "2024-05-12T16:10:39.674Z"
   },
   {
    "duration": 374,
    "start_time": "2024-05-12T16:10:40.007Z"
   },
   {
    "duration": 349,
    "start_time": "2024-05-12T16:10:40.383Z"
   },
   {
    "duration": 2,
    "start_time": "2024-05-12T16:10:40.734Z"
   },
   {
    "duration": 177,
    "start_time": "2024-05-12T16:10:40.738Z"
   },
   {
    "duration": 3,
    "start_time": "2024-05-12T16:10:40.917Z"
   },
   {
    "duration": 18,
    "start_time": "2024-05-12T16:10:40.921Z"
   },
   {
    "duration": 18,
    "start_time": "2024-05-12T16:10:40.940Z"
   },
   {
    "duration": 30,
    "start_time": "2024-05-12T16:10:40.959Z"
   },
   {
    "duration": 12,
    "start_time": "2024-05-12T16:10:40.990Z"
   },
   {
    "duration": 374,
    "start_time": "2024-05-12T16:10:41.003Z"
   },
   {
    "duration": 20,
    "start_time": "2024-05-12T16:10:41.384Z"
   },
   {
    "duration": 16,
    "start_time": "2024-05-12T16:10:41.405Z"
   },
   {
    "duration": 32,
    "start_time": "2024-05-12T16:10:41.423Z"
   },
   {
    "duration": 19,
    "start_time": "2024-05-12T16:10:41.457Z"
   },
   {
    "duration": 1785,
    "start_time": "2024-05-12T16:10:41.478Z"
   },
   {
    "duration": 36,
    "start_time": "2024-05-12T16:10:43.264Z"
   },
   {
    "duration": 11,
    "start_time": "2024-05-12T16:10:43.301Z"
   },
   {
    "duration": 20,
    "start_time": "2024-05-12T16:10:43.314Z"
   },
   {
    "duration": 10655,
    "start_time": "2024-05-12T16:10:43.335Z"
   },
   {
    "duration": 19,
    "start_time": "2024-05-12T16:10:53.991Z"
   },
   {
    "duration": 410,
    "start_time": "2024-05-12T16:10:54.011Z"
   },
   {
    "duration": 308,
    "start_time": "2024-05-12T16:10:54.423Z"
   },
   {
    "duration": 3,
    "start_time": "2024-05-12T16:10:54.733Z"
   },
   {
    "duration": 55,
    "start_time": "2024-05-12T16:10:54.737Z"
   },
   {
    "duration": 258,
    "start_time": "2024-05-12T16:10:54.793Z"
   },
   {
    "duration": 267,
    "start_time": "2024-05-12T16:10:55.053Z"
   },
   {
    "duration": 10,
    "start_time": "2024-05-12T16:10:55.321Z"
   },
   {
    "duration": 3,
    "start_time": "2024-05-12T16:10:55.333Z"
   },
   {
    "duration": 64,
    "start_time": "2024-05-12T16:10:55.337Z"
   },
   {
    "duration": 269,
    "start_time": "2024-05-12T16:10:55.403Z"
   },
   {
    "duration": 303,
    "start_time": "2024-05-12T16:10:55.674Z"
   },
   {
    "duration": 21,
    "start_time": "2024-05-12T16:11:31.559Z"
   },
   {
    "duration": 22,
    "start_time": "2024-05-12T16:11:57.103Z"
   },
   {
    "duration": 21,
    "start_time": "2024-05-12T16:12:04.455Z"
   },
   {
    "duration": 16,
    "start_time": "2024-05-12T16:14:40.182Z"
   },
   {
    "duration": 355,
    "start_time": "2024-05-12T16:15:31.313Z"
   },
   {
    "duration": 10702,
    "start_time": "2024-05-12T16:17:46.021Z"
   },
   {
    "duration": 18,
    "start_time": "2024-05-12T16:18:08.184Z"
   },
   {
    "duration": 15,
    "start_time": "2024-05-12T16:19:36.308Z"
   },
   {
    "duration": 404,
    "start_time": "2024-05-12T16:19:50.284Z"
   },
   {
    "duration": 10441,
    "start_time": "2024-05-12T16:25:42.862Z"
   },
   {
    "duration": 13,
    "start_time": "2024-05-12T16:26:13.751Z"
   },
   {
    "duration": 11,
    "start_time": "2024-05-12T16:26:17.197Z"
   },
   {
    "duration": 1248,
    "start_time": "2024-05-12T16:30:31.572Z"
   },
   {
    "duration": 337,
    "start_time": "2024-05-12T16:30:34.661Z"
   },
   {
    "duration": 6,
    "start_time": "2024-05-12T16:33:33.261Z"
   },
   {
    "duration": 248,
    "start_time": "2024-05-12T16:33:46.840Z"
   },
   {
    "duration": 6,
    "start_time": "2024-05-12T16:34:58.584Z"
   },
   {
    "duration": 250,
    "start_time": "2024-05-12T16:35:19.822Z"
   },
   {
    "duration": 6,
    "start_time": "2024-05-12T16:55:38.133Z"
   },
   {
    "duration": 252,
    "start_time": "2024-05-12T16:55:43.176Z"
   },
   {
    "duration": 251,
    "start_time": "2024-05-12T16:55:48.050Z"
   },
   {
    "duration": 6,
    "start_time": "2024-05-12T16:57:29.173Z"
   },
   {
    "duration": 246,
    "start_time": "2024-05-12T16:57:36.638Z"
   },
   {
    "duration": 283,
    "start_time": "2024-05-12T16:57:49.543Z"
   },
   {
    "duration": 249,
    "start_time": "2024-05-12T16:58:36.100Z"
   },
   {
    "duration": 528,
    "start_time": "2024-05-12T17:00:28.576Z"
   },
   {
    "duration": 3,
    "start_time": "2024-05-12T17:01:46.082Z"
   },
   {
    "duration": 48,
    "start_time": "2024-05-12T17:01:53.030Z"
   },
   {
    "duration": 3,
    "start_time": "2024-05-12T17:03:46.478Z"
   },
   {
    "duration": 59,
    "start_time": "2024-05-12T17:03:48.057Z"
   },
   {
    "duration": 3,
    "start_time": "2024-05-12T17:03:51.571Z"
   },
   {
    "duration": 44,
    "start_time": "2024-05-12T17:03:53.021Z"
   },
   {
    "duration": 427,
    "start_time": "2024-05-12T17:04:02.741Z"
   },
   {
    "duration": 381,
    "start_time": "2024-05-12T17:07:00.976Z"
   },
   {
    "duration": 1118,
    "start_time": "2024-05-12T17:07:14.129Z"
   },
   {
    "duration": 1072,
    "start_time": "2024-05-12T17:07:23.691Z"
   },
   {
    "duration": 434,
    "start_time": "2024-05-12T17:08:33.841Z"
   },
   {
    "duration": 1267,
    "start_time": "2024-05-12T17:08:42.420Z"
   },
   {
    "duration": 391,
    "start_time": "2024-05-12T17:08:56.176Z"
   },
   {
    "duration": 1055,
    "start_time": "2024-05-12T17:08:59.238Z"
   },
   {
    "duration": 1039,
    "start_time": "2024-05-12T17:09:40.131Z"
   },
   {
    "duration": 2858,
    "start_time": "2024-05-12T17:09:52.098Z"
   },
   {
    "duration": 3044,
    "start_time": "2024-05-12T17:09:54.958Z"
   },
   {
    "duration": 2751,
    "start_time": "2024-05-12T17:09:58.003Z"
   },
   {
    "duration": 1986,
    "start_time": "2024-05-12T17:10:00.756Z"
   },
   {
    "duration": 3,
    "start_time": "2024-05-12T17:10:02.743Z"
   },
   {
    "duration": 32,
    "start_time": "2024-05-12T17:10:02.748Z"
   },
   {
    "duration": 23,
    "start_time": "2024-05-12T17:10:02.781Z"
   },
   {
    "duration": 22,
    "start_time": "2024-05-12T17:10:02.805Z"
   },
   {
    "duration": 732,
    "start_time": "2024-05-12T17:10:02.828Z"
   },
   {
    "duration": 2,
    "start_time": "2024-05-12T17:10:03.562Z"
   },
   {
    "duration": 11,
    "start_time": "2024-05-12T17:10:03.566Z"
   },
   {
    "duration": 31,
    "start_time": "2024-05-12T17:10:03.584Z"
   },
   {
    "duration": 83,
    "start_time": "2024-05-12T17:10:03.617Z"
   },
   {
    "duration": 90,
    "start_time": "2024-05-12T17:10:03.702Z"
   },
   {
    "duration": 2,
    "start_time": "2024-05-12T17:10:03.794Z"
   },
   {
    "duration": 4760,
    "start_time": "2024-05-12T17:10:03.797Z"
   },
   {
    "duration": 2,
    "start_time": "2024-05-12T17:10:08.559Z"
   },
   {
    "duration": 360,
    "start_time": "2024-05-12T17:10:08.562Z"
   },
   {
    "duration": 400,
    "start_time": "2024-05-12T17:10:08.923Z"
   },
   {
    "duration": 359,
    "start_time": "2024-05-12T17:10:09.325Z"
   },
   {
    "duration": 3,
    "start_time": "2024-05-12T17:10:09.685Z"
   },
   {
    "duration": 186,
    "start_time": "2024-05-12T17:10:09.689Z"
   },
   {
    "duration": 8,
    "start_time": "2024-05-12T17:10:09.877Z"
   },
   {
    "duration": 28,
    "start_time": "2024-05-12T17:10:09.886Z"
   },
   {
    "duration": 21,
    "start_time": "2024-05-12T17:10:09.916Z"
   },
   {
    "duration": 16,
    "start_time": "2024-05-12T17:10:09.939Z"
   },
   {
    "duration": 13,
    "start_time": "2024-05-12T17:10:09.956Z"
   },
   {
    "duration": 413,
    "start_time": "2024-05-12T17:10:09.972Z"
   },
   {
    "duration": 22,
    "start_time": "2024-05-12T17:10:10.386Z"
   },
   {
    "duration": 18,
    "start_time": "2024-05-12T17:10:10.409Z"
   },
   {
    "duration": 17,
    "start_time": "2024-05-12T17:10:10.428Z"
   },
   {
    "duration": 44,
    "start_time": "2024-05-12T17:10:10.446Z"
   },
   {
    "duration": 1756,
    "start_time": "2024-05-12T17:10:10.492Z"
   },
   {
    "duration": 12,
    "start_time": "2024-05-12T17:10:12.250Z"
   },
   {
    "duration": 49,
    "start_time": "2024-05-12T17:10:12.263Z"
   },
   {
    "duration": 10812,
    "start_time": "2024-05-12T17:10:12.314Z"
   },
   {
    "duration": 16,
    "start_time": "2024-05-12T17:10:23.128Z"
   },
   {
    "duration": 404,
    "start_time": "2024-05-12T17:10:23.145Z"
   },
   {
    "duration": 16,
    "start_time": "2024-05-12T17:10:23.550Z"
   },
   {
    "duration": 368,
    "start_time": "2024-05-12T17:10:23.567Z"
   },
   {
    "duration": 11513,
    "start_time": "2024-05-12T17:10:23.936Z"
   },
   {
    "duration": 12,
    "start_time": "2024-05-12T17:10:35.451Z"
   },
   {
    "duration": 31,
    "start_time": "2024-05-12T17:10:35.464Z"
   },
   {
    "duration": 407,
    "start_time": "2024-05-12T17:10:35.496Z"
   },
   {
    "duration": 10217,
    "start_time": "2024-05-12T17:10:35.904Z"
   },
   {
    "duration": 12,
    "start_time": "2024-05-12T17:10:46.122Z"
   },
   {
    "duration": 268,
    "start_time": "2024-05-12T17:10:46.136Z"
   },
   {
    "duration": 4,
    "start_time": "2024-05-12T17:10:46.406Z"
   },
   {
    "duration": 55,
    "start_time": "2024-05-12T17:10:46.411Z"
   },
   {
    "duration": 269,
    "start_time": "2024-05-12T17:10:46.467Z"
   },
   {
    "duration": 272,
    "start_time": "2024-05-12T17:10:46.738Z"
   },
   {
    "duration": 10311,
    "start_time": "2024-05-12T17:10:47.011Z"
   },
   {
    "duration": 3,
    "start_time": "2024-05-12T17:10:57.324Z"
   },
   {
    "duration": 57,
    "start_time": "2024-05-12T17:10:57.328Z"
   },
   {
    "duration": 3,
    "start_time": "2024-05-12T17:10:57.386Z"
   },
   {
    "duration": 56,
    "start_time": "2024-05-12T17:10:57.391Z"
   },
   {
    "duration": 366,
    "start_time": "2024-05-12T17:10:57.448Z"
   },
   {
    "duration": 1254,
    "start_time": "2024-05-12T17:10:57.815Z"
   },
   {
    "duration": 0,
    "start_time": "2024-05-12T17:10:59.071Z"
   },
   {
    "duration": 0,
    "start_time": "2024-05-12T17:10:59.072Z"
   },
   {
    "duration": 365,
    "start_time": "2024-05-12T17:12:48.803Z"
   },
   {
    "duration": 1449,
    "start_time": "2024-05-12T17:12:55.062Z"
   },
   {
    "duration": 1065,
    "start_time": "2024-05-12T17:13:11.397Z"
   },
   {
    "duration": 428,
    "start_time": "2024-05-12T17:13:20.908Z"
   },
   {
    "duration": 384,
    "start_time": "2024-05-12T17:13:35.067Z"
   },
   {
    "duration": 83,
    "start_time": "2024-05-12T17:15:50.859Z"
   },
   {
    "duration": 186,
    "start_time": "2024-05-12T17:16:08.930Z"
   },
   {
    "duration": 62,
    "start_time": "2024-05-12T17:16:17.643Z"
   },
   {
    "duration": 371,
    "start_time": "2024-05-12T17:16:21.516Z"
   },
   {
    "duration": 1112,
    "start_time": "2024-05-12T17:16:33.035Z"
   },
   {
    "duration": 1161,
    "start_time": "2024-05-12T17:16:42.711Z"
   },
   {
    "duration": 1053,
    "start_time": "2024-05-12T17:17:19.922Z"
   },
   {
    "duration": 8,
    "start_time": "2024-05-12T17:17:41.055Z"
   },
   {
    "duration": 13,
    "start_time": "2024-05-12T17:17:47.002Z"
   },
   {
    "duration": 18,
    "start_time": "2024-05-12T17:17:49.948Z"
   },
   {
    "duration": 12,
    "start_time": "2024-05-12T17:17:51.963Z"
   },
   {
    "duration": 1088,
    "start_time": "2024-05-12T17:19:05.463Z"
   },
   {
    "duration": 1130,
    "start_time": "2024-05-12T17:22:21.299Z"
   },
   {
    "duration": 9,
    "start_time": "2024-05-12T17:22:52.750Z"
   },
   {
    "duration": 9,
    "start_time": "2024-05-12T17:23:26.777Z"
   },
   {
    "duration": 151,
    "start_time": "2024-05-12T17:23:29.474Z"
   },
   {
    "duration": 169,
    "start_time": "2024-05-12T17:23:53.984Z"
   },
   {
    "duration": 154,
    "start_time": "2024-05-12T17:24:03.460Z"
   },
   {
    "duration": 169,
    "start_time": "2024-05-12T17:24:40.090Z"
   },
   {
    "duration": 80,
    "start_time": "2024-05-12T17:24:43.329Z"
   },
   {
    "duration": 153,
    "start_time": "2024-05-12T17:24:45.709Z"
   },
   {
    "duration": 162,
    "start_time": "2024-05-12T17:24:51.793Z"
   },
   {
    "duration": 3,
    "start_time": "2024-05-12T17:25:57.514Z"
   },
   {
    "duration": 42,
    "start_time": "2024-05-12T17:26:48.499Z"
   },
   {
    "duration": 15,
    "start_time": "2024-05-12T17:27:17.142Z"
   },
   {
    "duration": 118,
    "start_time": "2024-05-12T17:27:33.358Z"
   },
   {
    "duration": 10,
    "start_time": "2024-05-12T17:29:45.872Z"
   },
   {
    "duration": 4,
    "start_time": "2024-05-12T17:29:58.160Z"
   },
   {
    "duration": 58,
    "start_time": "2024-05-12T17:30:07.766Z"
   },
   {
    "duration": 198,
    "start_time": "2024-05-12T17:30:16.812Z"
   },
   {
    "duration": 2,
    "start_time": "2024-05-12T17:32:05.274Z"
   },
   {
    "duration": 3,
    "start_time": "2024-05-12T17:32:30.382Z"
   },
   {
    "duration": 2742,
    "start_time": "2024-05-12T17:32:47.909Z"
   },
   {
    "duration": 2972,
    "start_time": "2024-05-12T17:32:50.653Z"
   },
   {
    "duration": 2655,
    "start_time": "2024-05-12T17:32:53.627Z"
   },
   {
    "duration": 1910,
    "start_time": "2024-05-12T17:32:56.284Z"
   },
   {
    "duration": 2,
    "start_time": "2024-05-12T17:32:58.195Z"
   },
   {
    "duration": 34,
    "start_time": "2024-05-12T17:32:58.198Z"
   },
   {
    "duration": 16,
    "start_time": "2024-05-12T17:32:58.234Z"
   },
   {
    "duration": 27,
    "start_time": "2024-05-12T17:32:58.251Z"
   },
   {
    "duration": 714,
    "start_time": "2024-05-12T17:32:58.280Z"
   },
   {
    "duration": 2,
    "start_time": "2024-05-12T17:32:58.996Z"
   },
   {
    "duration": 31,
    "start_time": "2024-05-12T17:32:58.999Z"
   },
   {
    "duration": 30,
    "start_time": "2024-05-12T17:32:59.031Z"
   },
   {
    "duration": 78,
    "start_time": "2024-05-12T17:32:59.063Z"
   },
   {
    "duration": 85,
    "start_time": "2024-05-12T17:32:59.142Z"
   },
   {
    "duration": 25,
    "start_time": "2024-05-12T17:32:59.228Z"
   },
   {
    "duration": 4791,
    "start_time": "2024-05-12T17:32:59.254Z"
   },
   {
    "duration": 3,
    "start_time": "2024-05-12T17:33:04.046Z"
   },
   {
    "duration": 364,
    "start_time": "2024-05-12T17:33:04.050Z"
   },
   {
    "duration": 364,
    "start_time": "2024-05-12T17:33:04.415Z"
   },
   {
    "duration": 329,
    "start_time": "2024-05-12T17:33:04.780Z"
   },
   {
    "duration": 2,
    "start_time": "2024-05-12T17:33:05.111Z"
   },
   {
    "duration": 186,
    "start_time": "2024-05-12T17:33:05.114Z"
   },
   {
    "duration": 3,
    "start_time": "2024-05-12T17:33:05.301Z"
   },
   {
    "duration": 35,
    "start_time": "2024-05-12T17:33:05.306Z"
   },
   {
    "duration": 43,
    "start_time": "2024-05-12T17:33:05.342Z"
   },
   {
    "duration": 23,
    "start_time": "2024-05-12T17:33:05.386Z"
   },
   {
    "duration": 38,
    "start_time": "2024-05-12T17:33:05.410Z"
   },
   {
    "duration": 382,
    "start_time": "2024-05-12T17:33:05.451Z"
   },
   {
    "duration": 19,
    "start_time": "2024-05-12T17:33:05.835Z"
   },
   {
    "duration": 83,
    "start_time": "2024-05-12T17:33:05.856Z"
   },
   {
    "duration": 52,
    "start_time": "2024-05-12T17:33:05.941Z"
   },
   {
    "duration": 24,
    "start_time": "2024-05-12T17:33:05.995Z"
   },
   {
    "duration": 1665,
    "start_time": "2024-05-12T17:33:06.020Z"
   },
   {
    "duration": 12,
    "start_time": "2024-05-12T17:33:07.687Z"
   },
   {
    "duration": 52,
    "start_time": "2024-05-12T17:33:07.701Z"
   },
   {
    "duration": 10385,
    "start_time": "2024-05-12T17:33:07.755Z"
   },
   {
    "duration": 17,
    "start_time": "2024-05-12T17:33:18.141Z"
   },
   {
    "duration": 392,
    "start_time": "2024-05-12T17:33:18.159Z"
   },
   {
    "duration": 17,
    "start_time": "2024-05-12T17:33:18.553Z"
   },
   {
    "duration": 392,
    "start_time": "2024-05-12T17:33:18.571Z"
   },
   {
    "duration": 10682,
    "start_time": "2024-05-12T17:33:18.965Z"
   },
   {
    "duration": 11,
    "start_time": "2024-05-12T17:33:29.648Z"
   },
   {
    "duration": 25,
    "start_time": "2024-05-12T17:33:29.661Z"
   },
   {
    "duration": 412,
    "start_time": "2024-05-12T17:33:29.687Z"
   },
   {
    "duration": 10217,
    "start_time": "2024-05-12T17:33:30.101Z"
   },
   {
    "duration": 12,
    "start_time": "2024-05-12T17:33:40.319Z"
   },
   {
    "duration": 250,
    "start_time": "2024-05-12T17:33:40.332Z"
   },
   {
    "duration": 3,
    "start_time": "2024-05-12T17:33:40.583Z"
   },
   {
    "duration": 51,
    "start_time": "2024-05-12T17:33:40.587Z"
   },
   {
    "duration": 242,
    "start_time": "2024-05-12T17:33:40.639Z"
   },
   {
    "duration": 244,
    "start_time": "2024-05-12T17:33:40.884Z"
   },
   {
    "duration": 9103,
    "start_time": "2024-05-12T17:33:41.129Z"
   },
   {
    "duration": 3,
    "start_time": "2024-05-12T17:33:50.233Z"
   },
   {
    "duration": 63,
    "start_time": "2024-05-12T17:33:50.237Z"
   },
   {
    "duration": 3,
    "start_time": "2024-05-12T17:33:50.301Z"
   },
   {
    "duration": 54,
    "start_time": "2024-05-12T17:33:50.306Z"
   },
   {
    "duration": 1009,
    "start_time": "2024-05-12T17:33:50.361Z"
   },
   {
    "duration": 19,
    "start_time": "2024-05-12T17:33:51.372Z"
   },
   {
    "duration": 421,
    "start_time": "2024-05-12T17:33:51.392Z"
   },
   {
    "duration": 1212,
    "start_time": "2024-05-12T17:33:51.814Z"
   },
   {
    "duration": 168,
    "start_time": "2024-05-12T17:33:53.028Z"
   },
   {
    "duration": 3,
    "start_time": "2024-05-12T17:33:53.197Z"
   },
   {
    "duration": 64,
    "start_time": "2024-05-12T17:33:53.202Z"
   },
   {
    "duration": 18,
    "start_time": "2024-05-12T17:33:53.267Z"
   },
   {
    "duration": 124,
    "start_time": "2024-05-12T17:33:53.286Z"
   },
   {
    "duration": 4,
    "start_time": "2024-05-12T17:33:53.411Z"
   },
   {
    "duration": 58,
    "start_time": "2024-05-12T17:33:53.416Z"
   },
   {
    "duration": 2,
    "start_time": "2024-05-12T17:33:53.476Z"
   },
   {
    "duration": 7,
    "start_time": "2024-05-12T17:33:53.479Z"
   },
   {
    "duration": 2750,
    "start_time": "2024-05-12T17:37:36.532Z"
   },
   {
    "duration": 3012,
    "start_time": "2024-05-12T17:37:39.284Z"
   },
   {
    "duration": 2769,
    "start_time": "2024-05-12T17:37:42.299Z"
   },
   {
    "duration": 2013,
    "start_time": "2024-05-12T17:37:45.071Z"
   },
   {
    "duration": 2,
    "start_time": "2024-05-12T17:37:47.086Z"
   },
   {
    "duration": 6,
    "start_time": "2024-05-12T17:37:47.089Z"
   },
   {
    "duration": 17,
    "start_time": "2024-05-12T17:37:47.096Z"
   },
   {
    "duration": 12,
    "start_time": "2024-05-12T17:37:47.114Z"
   },
   {
    "duration": 693,
    "start_time": "2024-05-12T17:37:47.128Z"
   },
   {
    "duration": 2,
    "start_time": "2024-05-12T17:37:47.823Z"
   },
   {
    "duration": 8,
    "start_time": "2024-05-12T17:37:47.826Z"
   },
   {
    "duration": 17,
    "start_time": "2024-05-12T17:37:47.835Z"
   },
   {
    "duration": 92,
    "start_time": "2024-05-12T17:37:47.853Z"
   },
   {
    "duration": 96,
    "start_time": "2024-05-12T17:37:47.946Z"
   },
   {
    "duration": 3,
    "start_time": "2024-05-12T17:37:48.043Z"
   },
   {
    "duration": 4798,
    "start_time": "2024-05-12T17:37:48.047Z"
   },
   {
    "duration": 3,
    "start_time": "2024-05-12T17:37:52.846Z"
   },
   {
    "duration": 308,
    "start_time": "2024-05-12T17:37:52.851Z"
   },
   {
    "duration": 382,
    "start_time": "2024-05-12T17:37:53.161Z"
   },
   {
    "duration": 324,
    "start_time": "2024-05-12T17:37:53.544Z"
   },
   {
    "duration": 2,
    "start_time": "2024-05-12T17:37:53.869Z"
   },
   {
    "duration": 176,
    "start_time": "2024-05-12T17:37:53.873Z"
   },
   {
    "duration": 3,
    "start_time": "2024-05-12T17:37:54.051Z"
   },
   {
    "duration": 18,
    "start_time": "2024-05-12T17:37:54.055Z"
   },
   {
    "duration": 17,
    "start_time": "2024-05-12T17:37:54.084Z"
   },
   {
    "duration": 17,
    "start_time": "2024-05-12T17:37:54.102Z"
   },
   {
    "duration": 12,
    "start_time": "2024-05-12T17:37:54.120Z"
   },
   {
    "duration": 383,
    "start_time": "2024-05-12T17:37:54.136Z"
   },
   {
    "duration": 23,
    "start_time": "2024-05-12T17:37:54.520Z"
   },
   {
    "duration": 25,
    "start_time": "2024-05-12T17:37:54.544Z"
   },
   {
    "duration": 28,
    "start_time": "2024-05-12T17:37:54.570Z"
   },
   {
    "duration": 19,
    "start_time": "2024-05-12T17:37:54.599Z"
   },
   {
    "duration": 1715,
    "start_time": "2024-05-12T17:37:54.619Z"
   },
   {
    "duration": 12,
    "start_time": "2024-05-12T17:37:56.335Z"
   },
   {
    "duration": 50,
    "start_time": "2024-05-12T17:37:56.348Z"
   },
   {
    "duration": 10523,
    "start_time": "2024-05-12T17:37:56.400Z"
   },
   {
    "duration": 17,
    "start_time": "2024-05-12T17:38:06.924Z"
   },
   {
    "duration": 391,
    "start_time": "2024-05-12T17:38:06.942Z"
   },
   {
    "duration": 14,
    "start_time": "2024-05-12T17:38:07.334Z"
   },
   {
    "duration": 374,
    "start_time": "2024-05-12T17:38:07.349Z"
   },
   {
    "duration": 11101,
    "start_time": "2024-05-12T17:38:07.724Z"
   },
   {
    "duration": 13,
    "start_time": "2024-05-12T17:38:18.826Z"
   },
   {
    "duration": 17,
    "start_time": "2024-05-12T17:38:18.840Z"
   },
   {
    "duration": 438,
    "start_time": "2024-05-12T17:38:18.858Z"
   },
   {
    "duration": 10786,
    "start_time": "2024-05-12T17:38:19.297Z"
   },
   {
    "duration": 13,
    "start_time": "2024-05-12T17:38:30.085Z"
   },
   {
    "duration": 308,
    "start_time": "2024-05-12T17:38:30.099Z"
   },
   {
    "duration": 3,
    "start_time": "2024-05-12T17:38:30.408Z"
   },
   {
    "duration": 111,
    "start_time": "2024-05-12T17:38:30.413Z"
   },
   {
    "duration": 266,
    "start_time": "2024-05-12T17:38:30.526Z"
   },
   {
    "duration": 275,
    "start_time": "2024-05-12T17:38:30.793Z"
   },
   {
    "duration": 9509,
    "start_time": "2024-05-12T17:38:31.070Z"
   },
   {
    "duration": 5,
    "start_time": "2024-05-12T17:38:40.580Z"
   },
   {
    "duration": 66,
    "start_time": "2024-05-12T17:38:40.586Z"
   },
   {
    "duration": 3,
    "start_time": "2024-05-12T17:38:40.654Z"
   },
   {
    "duration": 59,
    "start_time": "2024-05-12T17:38:40.658Z"
   },
   {
    "duration": 1041,
    "start_time": "2024-05-12T17:38:40.718Z"
   },
   {
    "duration": 13,
    "start_time": "2024-05-12T17:38:41.761Z"
   },
   {
    "duration": 472,
    "start_time": "2024-05-12T17:38:41.775Z"
   },
   {
    "duration": 1321,
    "start_time": "2024-05-12T17:38:42.248Z"
   },
   {
    "duration": 174,
    "start_time": "2024-05-12T17:38:43.571Z"
   },
   {
    "duration": 14,
    "start_time": "2024-05-12T17:38:43.746Z"
   },
   {
    "duration": 131,
    "start_time": "2024-05-12T17:38:43.762Z"
   },
   {
    "duration": 3,
    "start_time": "2024-05-12T17:38:43.894Z"
   },
   {
    "duration": 52,
    "start_time": "2024-05-12T17:38:43.898Z"
   },
   {
    "duration": 3,
    "start_time": "2024-05-12T17:38:43.951Z"
   },
   {
    "duration": 29,
    "start_time": "2024-05-12T17:38:43.955Z"
   },
   {
    "duration": 3,
    "start_time": "2024-05-12T18:56:37.144Z"
   },
   {
    "duration": 3,
    "start_time": "2024-05-12T18:56:58.655Z"
   },
   {
    "duration": 3,
    "start_time": "2024-05-12T18:57:07.033Z"
   },
   {
    "duration": 179,
    "start_time": "2024-05-12T19:01:41.303Z"
   },
   {
    "duration": 49,
    "start_time": "2024-05-12T19:01:48.921Z"
   },
   {
    "duration": 62,
    "start_time": "2024-05-12T19:02:36.052Z"
   },
   {
    "duration": 9,
    "start_time": "2024-05-12T19:08:45.480Z"
   },
   {
    "duration": 4,
    "start_time": "2024-05-12T19:09:38.705Z"
   },
   {
    "duration": 4,
    "start_time": "2024-05-12T19:09:53.205Z"
   },
   {
    "duration": 90,
    "start_time": "2024-05-12T19:27:38.923Z"
   },
   {
    "duration": 62,
    "start_time": "2024-05-12T19:27:42.724Z"
   },
   {
    "duration": 18,
    "start_time": "2024-05-12T19:28:52.749Z"
   },
   {
    "duration": 84,
    "start_time": "2024-05-12T19:29:24.094Z"
   },
   {
    "duration": 44,
    "start_time": "2024-05-12T19:29:27.350Z"
   },
   {
    "duration": 3,
    "start_time": "2024-05-12T19:32:52.034Z"
   },
   {
    "duration": 2,
    "start_time": "2024-05-12T19:33:52.914Z"
   },
   {
    "duration": 2,
    "start_time": "2024-05-12T19:34:39.374Z"
   },
   {
    "duration": 3,
    "start_time": "2024-05-12T19:34:47.369Z"
   },
   {
    "duration": 4,
    "start_time": "2024-05-12T19:37:24.737Z"
   },
   {
    "duration": 2,
    "start_time": "2024-05-12T19:38:10.429Z"
   },
   {
    "duration": 34685,
    "start_time": "2024-05-12T19:38:17.112Z"
   },
   {
    "duration": 9,
    "start_time": "2024-05-12T19:39:59.042Z"
   },
   {
    "duration": 3,
    "start_time": "2024-05-12T19:41:03.876Z"
   },
   {
    "duration": 13,
    "start_time": "2024-05-12T19:41:06.156Z"
   },
   {
    "duration": 2,
    "start_time": "2024-05-12T19:41:44.280Z"
   },
   {
    "duration": 35095,
    "start_time": "2024-05-12T19:41:45.463Z"
   },
   {
    "duration": 5707,
    "start_time": "2024-05-12T19:43:14.937Z"
   },
   {
    "duration": 35829,
    "start_time": "2024-05-12T19:43:28.802Z"
   },
   {
    "duration": 2757,
    "start_time": "2024-05-12T19:44:28.945Z"
   },
   {
    "duration": 2945,
    "start_time": "2024-05-12T19:44:31.704Z"
   },
   {
    "duration": 2638,
    "start_time": "2024-05-12T19:44:34.651Z"
   },
   {
    "duration": 2769,
    "start_time": "2024-05-12T19:44:37.291Z"
   },
   {
    "duration": 1784,
    "start_time": "2024-05-12T19:44:40.061Z"
   },
   {
    "duration": 2,
    "start_time": "2024-05-12T19:44:41.846Z"
   },
   {
    "duration": 22,
    "start_time": "2024-05-12T19:44:41.850Z"
   },
   {
    "duration": 27,
    "start_time": "2024-05-12T19:44:41.874Z"
   },
   {
    "duration": 716,
    "start_time": "2024-05-12T19:44:41.902Z"
   },
   {
    "duration": 2,
    "start_time": "2024-05-12T19:44:42.620Z"
   },
   {
    "duration": 28,
    "start_time": "2024-05-12T19:44:42.623Z"
   },
   {
    "duration": 53,
    "start_time": "2024-05-12T19:44:42.652Z"
   },
   {
    "duration": 120,
    "start_time": "2024-05-12T19:44:42.706Z"
   },
   {
    "duration": 90,
    "start_time": "2024-05-12T19:44:42.827Z"
   },
   {
    "duration": 21,
    "start_time": "2024-05-12T19:44:42.919Z"
   },
   {
    "duration": 4687,
    "start_time": "2024-05-12T19:44:42.942Z"
   },
   {
    "duration": 3,
    "start_time": "2024-05-12T19:44:47.630Z"
   },
   {
    "duration": 321,
    "start_time": "2024-05-12T19:44:47.634Z"
   },
   {
    "duration": 411,
    "start_time": "2024-05-12T19:44:47.957Z"
   },
   {
    "duration": 406,
    "start_time": "2024-05-12T19:44:48.369Z"
   },
   {
    "duration": 2,
    "start_time": "2024-05-12T19:44:48.776Z"
   },
   {
    "duration": 174,
    "start_time": "2024-05-12T19:44:48.779Z"
   },
   {
    "duration": 3,
    "start_time": "2024-05-12T19:44:48.955Z"
   },
   {
    "duration": 28,
    "start_time": "2024-05-12T19:44:48.960Z"
   },
   {
    "duration": 27,
    "start_time": "2024-05-12T19:44:48.989Z"
   },
   {
    "duration": 16,
    "start_time": "2024-05-12T19:44:49.018Z"
   },
   {
    "duration": 18,
    "start_time": "2024-05-12T19:44:49.035Z"
   },
   {
    "duration": 356,
    "start_time": "2024-05-12T19:44:49.056Z"
   },
   {
    "duration": 20,
    "start_time": "2024-05-12T19:44:49.413Z"
   },
   {
    "duration": 40,
    "start_time": "2024-05-12T19:44:49.434Z"
   },
   {
    "duration": 30,
    "start_time": "2024-05-12T19:44:49.475Z"
   },
   {
    "duration": 25,
    "start_time": "2024-05-12T19:44:49.507Z"
   },
   {
    "duration": 1746,
    "start_time": "2024-05-12T19:44:49.534Z"
   },
   {
    "duration": 10,
    "start_time": "2024-05-12T19:44:51.284Z"
   },
   {
    "duration": 34,
    "start_time": "2024-05-12T19:44:51.295Z"
   },
   {
    "duration": 10319,
    "start_time": "2024-05-12T19:44:51.330Z"
   },
   {
    "duration": 19,
    "start_time": "2024-05-12T19:45:01.650Z"
   },
   {
    "duration": 418,
    "start_time": "2024-05-12T19:45:01.671Z"
   },
   {
    "duration": 16,
    "start_time": "2024-05-12T19:45:02.090Z"
   },
   {
    "duration": 393,
    "start_time": "2024-05-12T19:45:02.107Z"
   },
   {
    "duration": 10600,
    "start_time": "2024-05-12T19:45:02.501Z"
   },
   {
    "duration": 11,
    "start_time": "2024-05-12T19:45:13.104Z"
   },
   {
    "duration": 30,
    "start_time": "2024-05-12T19:45:13.116Z"
   },
   {
    "duration": 398,
    "start_time": "2024-05-12T19:45:13.147Z"
   },
   {
    "duration": 10060,
    "start_time": "2024-05-12T19:45:13.546Z"
   },
   {
    "duration": 11,
    "start_time": "2024-05-12T19:45:23.607Z"
   },
   {
    "duration": 324,
    "start_time": "2024-05-12T19:45:23.620Z"
   },
   {
    "duration": 3,
    "start_time": "2024-05-12T19:45:23.945Z"
   },
   {
    "duration": 62,
    "start_time": "2024-05-12T19:45:23.949Z"
   },
   {
    "duration": 230,
    "start_time": "2024-05-12T19:45:24.013Z"
   },
   {
    "duration": 260,
    "start_time": "2024-05-12T19:45:24.244Z"
   },
   {
    "duration": 9341,
    "start_time": "2024-05-12T19:45:24.506Z"
   },
   {
    "duration": 3,
    "start_time": "2024-05-12T19:45:33.849Z"
   },
   {
    "duration": 66,
    "start_time": "2024-05-12T19:45:33.853Z"
   },
   {
    "duration": 3,
    "start_time": "2024-05-12T19:45:33.920Z"
   },
   {
    "duration": 70,
    "start_time": "2024-05-12T19:45:33.924Z"
   },
   {
    "duration": 349,
    "start_time": "2024-05-12T19:45:33.995Z"
   },
   {
    "duration": 12,
    "start_time": "2024-05-12T19:45:34.346Z"
   },
   {
    "duration": 446,
    "start_time": "2024-05-12T19:45:34.359Z"
   },
   {
    "duration": 1857,
    "start_time": "2024-05-12T19:45:34.806Z"
   },
   {
    "duration": 166,
    "start_time": "2024-05-12T19:45:36.664Z"
   },
   {
    "duration": 14,
    "start_time": "2024-05-12T19:45:36.831Z"
   },
   {
    "duration": 121,
    "start_time": "2024-05-12T19:45:36.846Z"
   },
   {
    "duration": 3,
    "start_time": "2024-05-12T19:45:36.968Z"
   },
   {
    "duration": 63,
    "start_time": "2024-05-12T19:45:36.972Z"
   },
   {
    "duration": 2,
    "start_time": "2024-05-12T19:45:37.036Z"
   },
   {
    "duration": 6,
    "start_time": "2024-05-12T19:45:37.039Z"
   },
   {
    "duration": 62,
    "start_time": "2024-05-12T19:45:37.046Z"
   },
   {
    "duration": 89,
    "start_time": "2024-05-12T19:45:37.110Z"
   },
   {
    "duration": 90,
    "start_time": "2024-05-12T19:45:37.201Z"
   },
   {
    "duration": 2,
    "start_time": "2024-05-12T19:45:37.293Z"
   },
   {
    "duration": 57,
    "start_time": "2024-05-12T19:45:37.297Z"
   },
   {
    "duration": 3,
    "start_time": "2024-05-12T19:45:37.355Z"
   },
   {
    "duration": 8,
    "start_time": "2024-05-12T19:45:37.359Z"
   },
   {
    "duration": 8,
    "start_time": "2024-05-12T19:45:37.368Z"
   },
   {
    "duration": 16,
    "start_time": "2024-05-12T19:45:37.377Z"
   },
   {
    "duration": 19,
    "start_time": "2024-05-12T19:45:37.394Z"
   },
   {
    "duration": 356256,
    "start_time": "2024-05-12T19:45:37.415Z"
   },
   {
    "duration": 3,
    "start_time": "2024-05-12T19:51:44.512Z"
   },
   {
    "duration": 3,
    "start_time": "2024-05-12T19:51:47.235Z"
   },
   {
    "duration": 3204,
    "start_time": "2024-05-12T19:55:12.253Z"
   },
   {
    "duration": 3134,
    "start_time": "2024-05-12T19:55:15.459Z"
   },
   {
    "duration": 2758,
    "start_time": "2024-05-12T19:55:18.595Z"
   },
   {
    "duration": 2922,
    "start_time": "2024-05-12T19:55:21.355Z"
   },
   {
    "duration": 3200,
    "start_time": "2024-05-12T19:55:24.279Z"
   },
   {
    "duration": 2,
    "start_time": "2024-05-12T19:55:27.480Z"
   },
   {
    "duration": 5,
    "start_time": "2024-05-12T19:55:27.484Z"
   },
   {
    "duration": 8,
    "start_time": "2024-05-12T19:55:27.490Z"
   },
   {
    "duration": 933,
    "start_time": "2024-05-12T19:55:27.499Z"
   },
   {
    "duration": 3,
    "start_time": "2024-05-12T19:55:28.434Z"
   },
   {
    "duration": 13,
    "start_time": "2024-05-12T19:55:28.438Z"
   },
   {
    "duration": 17,
    "start_time": "2024-05-12T19:55:28.452Z"
   },
   {
    "duration": 83,
    "start_time": "2024-05-12T19:55:28.470Z"
   },
   {
    "duration": 86,
    "start_time": "2024-05-12T19:55:28.554Z"
   },
   {
    "duration": 2,
    "start_time": "2024-05-12T19:55:28.642Z"
   },
   {
    "duration": 4812,
    "start_time": "2024-05-12T19:55:28.645Z"
   },
   {
    "duration": 2,
    "start_time": "2024-05-12T19:55:33.459Z"
   },
   {
    "duration": 322,
    "start_time": "2024-05-12T19:55:33.462Z"
   },
   {
    "duration": 365,
    "start_time": "2024-05-12T19:55:33.785Z"
   },
   {
    "duration": 350,
    "start_time": "2024-05-12T19:55:34.152Z"
   },
   {
    "duration": 2,
    "start_time": "2024-05-12T19:55:34.503Z"
   },
   {
    "duration": 181,
    "start_time": "2024-05-12T19:55:34.507Z"
   },
   {
    "duration": 3,
    "start_time": "2024-05-12T19:55:34.689Z"
   },
   {
    "duration": 21,
    "start_time": "2024-05-12T19:55:34.694Z"
   },
   {
    "duration": 18,
    "start_time": "2024-05-12T19:55:34.716Z"
   },
   {
    "duration": 16,
    "start_time": "2024-05-12T19:55:34.735Z"
   },
   {
    "duration": 11,
    "start_time": "2024-05-12T19:55:34.752Z"
   },
   {
    "duration": 372,
    "start_time": "2024-05-12T19:55:34.785Z"
   },
   {
    "duration": 28,
    "start_time": "2024-05-12T19:55:35.158Z"
   },
   {
    "duration": 20,
    "start_time": "2024-05-12T19:55:35.187Z"
   },
   {
    "duration": 19,
    "start_time": "2024-05-12T19:55:35.209Z"
   },
   {
    "duration": 19,
    "start_time": "2024-05-12T19:55:35.229Z"
   },
   {
    "duration": 1731,
    "start_time": "2024-05-12T19:55:35.249Z"
   },
   {
    "duration": 12,
    "start_time": "2024-05-12T19:55:36.981Z"
   },
   {
    "duration": 21,
    "start_time": "2024-05-12T19:55:36.994Z"
   },
   {
    "duration": 10386,
    "start_time": "2024-05-12T19:55:37.016Z"
   },
   {
    "duration": 19,
    "start_time": "2024-05-12T19:55:47.403Z"
   },
   {
    "duration": 388,
    "start_time": "2024-05-12T19:55:47.424Z"
   },
   {
    "duration": 16,
    "start_time": "2024-05-12T19:55:47.813Z"
   },
   {
    "duration": 384,
    "start_time": "2024-05-12T19:55:47.831Z"
   },
   {
    "duration": 10592,
    "start_time": "2024-05-12T19:55:48.216Z"
   },
   {
    "duration": 12,
    "start_time": "2024-05-12T19:55:58.809Z"
   },
   {
    "duration": 17,
    "start_time": "2024-05-12T19:55:58.822Z"
   },
   {
    "duration": 431,
    "start_time": "2024-05-12T19:55:58.840Z"
   },
   {
    "duration": 10123,
    "start_time": "2024-05-12T19:55:59.272Z"
   },
   {
    "duration": 13,
    "start_time": "2024-05-12T19:56:09.396Z"
   },
   {
    "duration": 343,
    "start_time": "2024-05-12T19:56:09.410Z"
   },
   {
    "duration": 3,
    "start_time": "2024-05-12T19:56:09.755Z"
   },
   {
    "duration": 53,
    "start_time": "2024-05-12T19:56:09.759Z"
   },
   {
    "duration": 238,
    "start_time": "2024-05-12T19:56:09.813Z"
   },
   {
    "duration": 250,
    "start_time": "2024-05-12T19:56:10.052Z"
   },
   {
    "duration": 9262,
    "start_time": "2024-05-12T19:56:10.303Z"
   },
   {
    "duration": 3,
    "start_time": "2024-05-12T19:56:19.566Z"
   },
   {
    "duration": 72,
    "start_time": "2024-05-12T19:56:19.570Z"
   },
   {
    "duration": 3,
    "start_time": "2024-05-12T19:56:19.643Z"
   },
   {
    "duration": 77,
    "start_time": "2024-05-12T19:56:19.647Z"
   },
   {
    "duration": 354,
    "start_time": "2024-05-12T19:56:19.725Z"
   },
   {
    "duration": 12,
    "start_time": "2024-05-12T19:56:20.081Z"
   },
   {
    "duration": 452,
    "start_time": "2024-05-12T19:56:20.094Z"
   },
   {
    "duration": 1936,
    "start_time": "2024-05-12T19:56:20.548Z"
   },
   {
    "duration": 159,
    "start_time": "2024-05-12T19:56:22.486Z"
   },
   {
    "duration": 15,
    "start_time": "2024-05-12T19:56:22.646Z"
   },
   {
    "duration": 144,
    "start_time": "2024-05-12T19:56:22.663Z"
   },
   {
    "duration": 3,
    "start_time": "2024-05-12T19:56:22.809Z"
   },
   {
    "duration": 55,
    "start_time": "2024-05-12T19:56:22.814Z"
   },
   {
    "duration": 3,
    "start_time": "2024-05-12T19:56:22.883Z"
   },
   {
    "duration": 10,
    "start_time": "2024-05-12T19:56:22.887Z"
   },
   {
    "duration": 59,
    "start_time": "2024-05-12T19:56:22.898Z"
   },
   {
    "duration": 94,
    "start_time": "2024-05-12T19:56:22.958Z"
   },
   {
    "duration": 86,
    "start_time": "2024-05-12T19:56:23.053Z"
   },
   {
    "duration": 3,
    "start_time": "2024-05-12T19:56:23.140Z"
   },
   {
    "duration": 56,
    "start_time": "2024-05-12T19:56:23.144Z"
   },
   {
    "duration": 3,
    "start_time": "2024-05-12T19:56:23.201Z"
   },
   {
    "duration": 19,
    "start_time": "2024-05-12T19:56:23.205Z"
   },
   {
    "duration": 20,
    "start_time": "2024-05-12T19:56:23.225Z"
   },
   {
    "duration": 21,
    "start_time": "2024-05-12T19:56:23.246Z"
   },
   {
    "duration": 24,
    "start_time": "2024-05-12T19:56:23.268Z"
   },
   {
    "duration": 3398068,
    "start_time": "2024-05-12T19:56:23.293Z"
   },
   {
    "duration": 2,
    "start_time": "2024-05-12T20:53:25.761Z"
   },
   {
    "duration": 3,
    "start_time": "2024-05-12T20:53:26.749Z"
   },
   {
    "duration": 58832,
    "start_time": "2024-05-12T20:53:26.753Z"
   },
   {
    "duration": 2,
    "start_time": "2024-05-12T20:54:58.320Z"
   },
   {
    "duration": 3,
    "start_time": "2024-05-12T20:54:59.287Z"
   },
   {
    "duration": 9,
    "start_time": "2024-05-12T20:55:22.191Z"
   },
   {
    "duration": 9,
    "start_time": "2024-05-12T20:56:02.088Z"
   },
   {
    "duration": 9,
    "start_time": "2024-05-12T20:57:16.318Z"
   },
   {
    "duration": 9,
    "start_time": "2024-05-12T20:57:25.146Z"
   },
   {
    "duration": 2,
    "start_time": "2024-05-12T20:57:55.754Z"
   },
   {
    "duration": 3308,
    "start_time": "2024-05-12T20:59:15.829Z"
   },
   {
    "duration": 2980,
    "start_time": "2024-05-12T20:59:19.139Z"
   },
   {
    "duration": 2815,
    "start_time": "2024-05-12T20:59:22.120Z"
   },
   {
    "duration": 3019,
    "start_time": "2024-05-12T20:59:24.937Z"
   },
   {
    "duration": 4459,
    "start_time": "2024-05-12T20:59:27.958Z"
   },
   {
    "duration": 2,
    "start_time": "2024-05-12T20:59:32.418Z"
   },
   {
    "duration": 26,
    "start_time": "2024-05-12T20:59:32.421Z"
   },
   {
    "duration": 21,
    "start_time": "2024-05-12T20:59:32.448Z"
   },
   {
    "duration": 1005,
    "start_time": "2024-05-12T20:59:32.470Z"
   },
   {
    "duration": 2,
    "start_time": "2024-05-12T20:59:33.478Z"
   },
   {
    "duration": 15,
    "start_time": "2024-05-12T20:59:33.481Z"
   },
   {
    "duration": 33,
    "start_time": "2024-05-12T20:59:33.498Z"
   },
   {
    "duration": 105,
    "start_time": "2024-05-12T20:59:33.532Z"
   },
   {
    "duration": 95,
    "start_time": "2024-05-12T20:59:33.638Z"
   },
   {
    "duration": 2,
    "start_time": "2024-05-12T20:59:33.735Z"
   },
   {
    "duration": 4927,
    "start_time": "2024-05-12T20:59:33.738Z"
   },
   {
    "duration": 3,
    "start_time": "2024-05-12T20:59:38.666Z"
   },
   {
    "duration": 354,
    "start_time": "2024-05-12T20:59:38.670Z"
   },
   {
    "duration": 375,
    "start_time": "2024-05-12T20:59:39.025Z"
   },
   {
    "duration": 350,
    "start_time": "2024-05-12T20:59:39.401Z"
   },
   {
    "duration": 1,
    "start_time": "2024-05-12T20:59:39.753Z"
   },
   {
    "duration": 186,
    "start_time": "2024-05-12T20:59:39.755Z"
   },
   {
    "duration": 2,
    "start_time": "2024-05-12T20:59:39.943Z"
   },
   {
    "duration": 17,
    "start_time": "2024-05-12T20:59:39.946Z"
   },
   {
    "duration": 33,
    "start_time": "2024-05-12T20:59:39.964Z"
   },
   {
    "duration": 16,
    "start_time": "2024-05-12T20:59:39.998Z"
   },
   {
    "duration": 36,
    "start_time": "2024-05-12T20:59:40.015Z"
   },
   {
    "duration": 383,
    "start_time": "2024-05-12T20:59:40.054Z"
   },
   {
    "duration": 19,
    "start_time": "2024-05-12T20:59:40.438Z"
   },
   {
    "duration": 29,
    "start_time": "2024-05-12T20:59:40.458Z"
   },
   {
    "duration": 17,
    "start_time": "2024-05-12T20:59:40.488Z"
   },
   {
    "duration": 19,
    "start_time": "2024-05-12T20:59:40.507Z"
   },
   {
    "duration": 1889,
    "start_time": "2024-05-12T20:59:40.528Z"
   },
   {
    "duration": 12,
    "start_time": "2024-05-12T20:59:42.418Z"
   },
   {
    "duration": 20,
    "start_time": "2024-05-12T20:59:42.432Z"
   },
   {
    "duration": 11096,
    "start_time": "2024-05-12T20:59:42.453Z"
   },
   {
    "duration": 17,
    "start_time": "2024-05-12T20:59:53.550Z"
   },
   {
    "duration": 405,
    "start_time": "2024-05-12T20:59:53.569Z"
   },
   {
    "duration": 24,
    "start_time": "2024-05-12T20:59:53.975Z"
   },
   {
    "duration": 405,
    "start_time": "2024-05-12T20:59:54.001Z"
   },
   {
    "duration": 11117,
    "start_time": "2024-05-12T20:59:54.407Z"
   },
   {
    "duration": 12,
    "start_time": "2024-05-12T21:00:05.525Z"
   },
   {
    "duration": 39,
    "start_time": "2024-05-12T21:00:05.539Z"
   },
   {
    "duration": 443,
    "start_time": "2024-05-12T21:00:05.579Z"
   },
   {
    "duration": 11320,
    "start_time": "2024-05-12T21:00:06.023Z"
   },
   {
    "duration": 13,
    "start_time": "2024-05-12T21:00:17.344Z"
   },
   {
    "duration": 357,
    "start_time": "2024-05-12T21:00:17.359Z"
   },
   {
    "duration": 3,
    "start_time": "2024-05-12T21:00:17.718Z"
   },
   {
    "duration": 49,
    "start_time": "2024-05-12T21:00:17.722Z"
   },
   {
    "duration": 288,
    "start_time": "2024-05-12T21:00:17.772Z"
   },
   {
    "duration": 313,
    "start_time": "2024-05-12T21:00:18.061Z"
   },
   {
    "duration": 10081,
    "start_time": "2024-05-12T21:00:18.375Z"
   },
   {
    "duration": 3,
    "start_time": "2024-05-12T21:00:28.457Z"
   },
   {
    "duration": 79,
    "start_time": "2024-05-12T21:00:28.461Z"
   },
   {
    "duration": 3,
    "start_time": "2024-05-12T21:00:28.541Z"
   },
   {
    "duration": 79,
    "start_time": "2024-05-12T21:00:28.545Z"
   },
   {
    "duration": 372,
    "start_time": "2024-05-12T21:00:28.625Z"
   },
   {
    "duration": 13,
    "start_time": "2024-05-12T21:00:28.998Z"
   },
   {
    "duration": 491,
    "start_time": "2024-05-12T21:00:29.012Z"
   },
   {
    "duration": 2046,
    "start_time": "2024-05-12T21:00:29.504Z"
   },
   {
    "duration": 183,
    "start_time": "2024-05-12T21:00:31.551Z"
   },
   {
    "duration": 17,
    "start_time": "2024-05-12T21:00:31.736Z"
   },
   {
    "duration": 151,
    "start_time": "2024-05-12T21:00:31.754Z"
   },
   {
    "duration": 3,
    "start_time": "2024-05-12T21:00:31.907Z"
   },
   {
    "duration": 57,
    "start_time": "2024-05-12T21:00:31.911Z"
   },
   {
    "duration": 3,
    "start_time": "2024-05-12T21:00:31.969Z"
   },
   {
    "duration": 26,
    "start_time": "2024-05-12T21:00:31.973Z"
   },
   {
    "duration": 81,
    "start_time": "2024-05-12T21:00:32.001Z"
   },
   {
    "duration": 121,
    "start_time": "2024-05-12T21:00:32.084Z"
   },
   {
    "duration": 102,
    "start_time": "2024-05-12T21:00:32.206Z"
   },
   {
    "duration": 3,
    "start_time": "2024-05-12T21:00:32.310Z"
   },
   {
    "duration": 74,
    "start_time": "2024-05-12T21:00:32.315Z"
   },
   {
    "duration": 3,
    "start_time": "2024-05-12T21:00:32.391Z"
   },
   {
    "duration": 20,
    "start_time": "2024-05-12T21:00:32.395Z"
   },
   {
    "duration": 26,
    "start_time": "2024-05-12T21:00:32.416Z"
   },
   {
    "duration": 13,
    "start_time": "2024-05-12T21:00:32.443Z"
   },
   {
    "duration": 17,
    "start_time": "2024-05-12T21:00:32.457Z"
   },
   {
    "duration": 268758,
    "start_time": "2024-05-12T21:00:32.476Z"
   },
   {
    "duration": 0,
    "start_time": "2024-05-12T21:05:01.235Z"
   },
   {
    "duration": 3,
    "start_time": "2024-05-12T21:05:04.999Z"
   },
   {
    "duration": 2,
    "start_time": "2024-05-12T21:05:07.222Z"
   },
   {
    "duration": 59493,
    "start_time": "2024-05-12T21:05:09.401Z"
   },
   {
    "duration": 72,
    "start_time": "2024-05-12T21:07:11.481Z"
   },
   {
    "duration": 3,
    "start_time": "2024-05-12T21:07:40.799Z"
   },
   {
    "duration": 4,
    "start_time": "2024-05-12T21:10:38.120Z"
   },
   {
    "duration": 2,
    "start_time": "2024-05-12T21:10:51.622Z"
   },
   {
    "duration": 313941,
    "start_time": "2024-05-12T21:10:52.733Z"
   },
   {
    "duration": 3,
    "start_time": "2024-05-12T21:18:04.427Z"
   },
   {
    "duration": 79,
    "start_time": "2024-05-13T08:37:13.254Z"
   },
   {
    "duration": 2,
    "start_time": "2024-05-13T08:37:52.005Z"
   },
   {
    "duration": 5196,
    "start_time": "2024-05-13T08:38:43.980Z"
   },
   {
    "duration": 3944,
    "start_time": "2024-05-13T08:38:49.178Z"
   },
   {
    "duration": 22357,
    "start_time": "2024-05-13T08:38:53.124Z"
   },
   {
    "duration": 7141,
    "start_time": "2024-05-13T08:39:15.483Z"
   },
   {
    "duration": 2023,
    "start_time": "2024-05-13T08:39:22.627Z"
   },
   {
    "duration": 3,
    "start_time": "2024-05-13T08:39:24.652Z"
   },
   {
    "duration": 27,
    "start_time": "2024-05-13T08:39:24.656Z"
   },
   {
    "duration": 11,
    "start_time": "2024-05-13T08:39:24.685Z"
   },
   {
    "duration": 1015,
    "start_time": "2024-05-13T08:39:24.697Z"
   },
   {
    "duration": 2,
    "start_time": "2024-05-13T08:39:25.714Z"
   },
   {
    "duration": 7,
    "start_time": "2024-05-13T08:39:25.718Z"
   },
   {
    "duration": 14,
    "start_time": "2024-05-13T08:39:25.726Z"
   },
   {
    "duration": 104,
    "start_time": "2024-05-13T08:39:25.742Z"
   },
   {
    "duration": 102,
    "start_time": "2024-05-13T08:39:25.849Z"
   },
   {
    "duration": 11,
    "start_time": "2024-05-13T08:39:25.952Z"
   },
   {
    "duration": 5036,
    "start_time": "2024-05-13T08:39:25.965Z"
   },
   {
    "duration": 2,
    "start_time": "2024-05-13T08:39:31.003Z"
   },
   {
    "duration": 562,
    "start_time": "2024-05-13T08:39:31.006Z"
   },
   {
    "duration": 384,
    "start_time": "2024-05-13T08:39:31.570Z"
   },
   {
    "duration": 371,
    "start_time": "2024-05-13T08:39:31.955Z"
   },
   {
    "duration": 3,
    "start_time": "2024-05-13T08:39:32.327Z"
   },
   {
    "duration": 216,
    "start_time": "2024-05-13T08:39:32.331Z"
   },
   {
    "duration": 3,
    "start_time": "2024-05-13T08:39:32.549Z"
   },
   {
    "duration": 29,
    "start_time": "2024-05-13T08:39:32.554Z"
   },
   {
    "duration": 29,
    "start_time": "2024-05-13T08:39:32.585Z"
   },
   {
    "duration": 26,
    "start_time": "2024-05-13T08:39:32.615Z"
   },
   {
    "duration": 48,
    "start_time": "2024-05-13T08:39:32.643Z"
   },
   {
    "duration": 402,
    "start_time": "2024-05-13T08:39:32.693Z"
   },
   {
    "duration": 20,
    "start_time": "2024-05-13T08:39:33.096Z"
   },
   {
    "duration": 16,
    "start_time": "2024-05-13T08:39:33.117Z"
   },
   {
    "duration": 19,
    "start_time": "2024-05-13T08:39:33.134Z"
   },
   {
    "duration": 35,
    "start_time": "2024-05-13T08:39:33.154Z"
   },
   {
    "duration": 1826,
    "start_time": "2024-05-13T08:39:33.190Z"
   },
   {
    "duration": 13,
    "start_time": "2024-05-13T08:39:35.017Z"
   },
   {
    "duration": 38,
    "start_time": "2024-05-13T08:39:35.031Z"
   },
   {
    "duration": 11140,
    "start_time": "2024-05-13T08:39:35.071Z"
   },
   {
    "duration": 19,
    "start_time": "2024-05-13T08:39:46.212Z"
   },
   {
    "duration": 417,
    "start_time": "2024-05-13T08:39:46.232Z"
   },
   {
    "duration": 14,
    "start_time": "2024-05-13T08:39:46.651Z"
   },
   {
    "duration": 381,
    "start_time": "2024-05-13T08:39:46.667Z"
   },
   {
    "duration": 11533,
    "start_time": "2024-05-13T08:39:47.052Z"
   },
   {
    "duration": 14,
    "start_time": "2024-05-13T08:39:58.586Z"
   },
   {
    "duration": 28,
    "start_time": "2024-05-13T08:39:58.601Z"
   },
   {
    "duration": 534,
    "start_time": "2024-05-13T08:39:58.631Z"
   },
   {
    "duration": 11427,
    "start_time": "2024-05-13T08:39:59.167Z"
   },
   {
    "duration": 14,
    "start_time": "2024-05-13T08:40:10.595Z"
   },
   {
    "duration": 306,
    "start_time": "2024-05-13T08:40:10.610Z"
   },
   {
    "duration": 5,
    "start_time": "2024-05-13T08:40:10.917Z"
   },
   {
    "duration": 61,
    "start_time": "2024-05-13T08:40:10.923Z"
   },
   {
    "duration": 261,
    "start_time": "2024-05-13T08:40:10.986Z"
   },
   {
    "duration": 288,
    "start_time": "2024-05-13T08:40:11.248Z"
   },
   {
    "duration": 9729,
    "start_time": "2024-05-13T08:40:11.537Z"
   },
   {
    "duration": 3,
    "start_time": "2024-05-13T08:40:21.267Z"
   },
   {
    "duration": 63,
    "start_time": "2024-05-13T08:40:21.271Z"
   },
   {
    "duration": 3,
    "start_time": "2024-05-13T08:40:21.335Z"
   },
   {
    "duration": 80,
    "start_time": "2024-05-13T08:40:21.340Z"
   },
   {
    "duration": 1078,
    "start_time": "2024-05-13T08:40:21.421Z"
   },
   {
    "duration": 18,
    "start_time": "2024-05-13T08:40:22.500Z"
   },
   {
    "duration": 511,
    "start_time": "2024-05-13T08:40:22.520Z"
   },
   {
    "duration": 1291,
    "start_time": "2024-05-13T08:40:23.033Z"
   },
   {
    "duration": 172,
    "start_time": "2024-05-13T08:40:24.325Z"
   },
   {
    "duration": 15,
    "start_time": "2024-05-13T08:40:24.498Z"
   },
   {
    "duration": 126,
    "start_time": "2024-05-13T08:40:24.514Z"
   },
   {
    "duration": 3,
    "start_time": "2024-05-13T08:40:24.641Z"
   },
   {
    "duration": 64,
    "start_time": "2024-05-13T08:40:24.645Z"
   },
   {
    "duration": 3,
    "start_time": "2024-05-13T08:40:24.710Z"
   },
   {
    "duration": 14,
    "start_time": "2024-05-13T08:40:24.714Z"
   },
   {
    "duration": 56,
    "start_time": "2024-05-13T08:40:24.729Z"
   },
   {
    "duration": 83,
    "start_time": "2024-05-13T08:40:24.787Z"
   },
   {
    "duration": 92,
    "start_time": "2024-05-13T08:40:24.872Z"
   },
   {
    "duration": 2,
    "start_time": "2024-05-13T08:40:24.966Z"
   },
   {
    "duration": 72,
    "start_time": "2024-05-13T08:40:24.969Z"
   },
   {
    "duration": 2,
    "start_time": "2024-05-13T08:40:25.043Z"
   },
   {
    "duration": 178,
    "start_time": "2024-05-13T08:40:25.047Z"
   },
   {
    "duration": 0,
    "start_time": "2024-05-13T08:40:25.226Z"
   },
   {
    "duration": 0,
    "start_time": "2024-05-13T08:40:25.227Z"
   },
   {
    "duration": 0,
    "start_time": "2024-05-13T08:40:25.228Z"
   },
   {
    "duration": 0,
    "start_time": "2024-05-13T08:40:25.229Z"
   },
   {
    "duration": 0,
    "start_time": "2024-05-13T08:40:25.230Z"
   },
   {
    "duration": 0,
    "start_time": "2024-05-13T08:40:25.231Z"
   },
   {
    "duration": 11,
    "start_time": "2024-05-13T08:41:18.064Z"
   },
   {
    "duration": 3337,
    "start_time": "2024-05-13T08:46:54.870Z"
   },
   {
    "duration": 47,
    "start_time": "2024-05-13T08:47:26.373Z"
   },
   {
    "duration": 3,
    "start_time": "2024-05-13T08:47:46.479Z"
   },
   {
    "duration": 3,
    "start_time": "2024-05-13T08:48:08.018Z"
   },
   {
    "duration": 2,
    "start_time": "2024-05-13T08:48:08.813Z"
   },
   {
    "duration": 4,
    "start_time": "2024-05-13T08:48:17.944Z"
   },
   {
    "duration": 3,
    "start_time": "2024-05-13T08:48:19.700Z"
   },
   {
    "duration": 28087,
    "start_time": "2024-05-13T08:48:21.213Z"
   },
   {
    "duration": 3,
    "start_time": "2024-05-13T08:48:58.943Z"
   },
   {
    "duration": 4,
    "start_time": "2024-05-13T08:51:48.706Z"
   },
   {
    "duration": 2,
    "start_time": "2024-05-13T08:51:49.042Z"
   },
   {
    "duration": 3,
    "start_time": "2024-05-13T08:51:49.373Z"
   },
   {
    "duration": 4,
    "start_time": "2024-05-13T08:51:49.765Z"
   },
   {
    "duration": 3,
    "start_time": "2024-05-13T08:51:50.114Z"
   },
   {
    "duration": 28133,
    "start_time": "2024-05-13T08:51:50.889Z"
   },
   {
    "duration": 3,
    "start_time": "2024-05-13T08:57:57.906Z"
   },
   {
    "duration": 25357,
    "start_time": "2024-05-13T08:58:12.185Z"
   },
   {
    "duration": 3,
    "start_time": "2024-05-13T08:58:41.087Z"
   },
   {
    "duration": 3,
    "start_time": "2024-05-13T08:59:44.251Z"
   },
   {
    "duration": 5,
    "start_time": "2024-05-13T08:59:47.595Z"
   },
   {
    "duration": 26496,
    "start_time": "2024-05-13T08:59:48.076Z"
   },
   {
    "duration": 3,
    "start_time": "2024-05-13T09:00:23.689Z"
   },
   {
    "duration": 4,
    "start_time": "2024-05-13T09:12:59.617Z"
   },
   {
    "duration": 25681,
    "start_time": "2024-05-13T09:13:00.393Z"
   },
   {
    "duration": 71,
    "start_time": "2024-05-13T09:32:33.265Z"
   },
   {
    "duration": 3,
    "start_time": "2024-05-13T09:32:59.380Z"
   },
   {
    "duration": 13,
    "start_time": "2024-05-13T09:33:08.080Z"
   },
   {
    "duration": 8,
    "start_time": "2024-05-13T09:33:14.266Z"
   },
   {
    "duration": 2,
    "start_time": "2024-05-13T09:33:48.448Z"
   },
   {
    "duration": 3,
    "start_time": "2024-05-13T09:34:15.494Z"
   },
   {
    "duration": 3,
    "start_time": "2024-05-13T09:34:42.904Z"
   },
   {
    "duration": 3,
    "start_time": "2024-05-13T09:36:50.836Z"
   },
   {
    "duration": 47,
    "start_time": "2024-05-13T09:36:51.214Z"
   },
   {
    "duration": 3,
    "start_time": "2024-05-13T09:36:52.746Z"
   },
   {
    "duration": 2,
    "start_time": "2024-05-13T09:36:53.037Z"
   },
   {
    "duration": 3,
    "start_time": "2024-05-13T09:36:53.325Z"
   },
   {
    "duration": 2,
    "start_time": "2024-05-13T09:36:53.645Z"
   },
   {
    "duration": 3,
    "start_time": "2024-05-13T09:36:55.167Z"
   },
   {
    "duration": 2,
    "start_time": "2024-05-13T09:36:56.359Z"
   },
   {
    "duration": 24955,
    "start_time": "2024-05-13T09:36:57.344Z"
   },
   {
    "duration": 2,
    "start_time": "2024-05-13T09:37:24.973Z"
   },
   {
    "duration": 3,
    "start_time": "2024-05-13T09:37:26.004Z"
   },
   {
    "duration": 3,
    "start_time": "2024-05-13T10:02:05.577Z"
   },
   {
    "duration": 3,
    "start_time": "2024-05-13T10:02:06.052Z"
   },
   {
    "duration": 71376,
    "start_time": "2024-05-13T10:02:12.722Z"
   },
   {
    "duration": 2,
    "start_time": "2024-05-13T10:05:17.422Z"
   },
   {
    "duration": 3,
    "start_time": "2024-05-13T10:05:18.703Z"
   },
   {
    "duration": 3,
    "start_time": "2024-05-13T10:05:31.584Z"
   },
   {
    "duration": 3,
    "start_time": "2024-05-13T10:05:31.868Z"
   },
   {
    "duration": 25194,
    "start_time": "2024-05-13T10:05:32.201Z"
   },
   {
    "duration": 3,
    "start_time": "2024-05-13T10:06:02.018Z"
   },
   {
    "duration": 3,
    "start_time": "2024-05-13T10:06:02.350Z"
   },
   {
    "duration": 3,
    "start_time": "2024-05-13T10:15:15.535Z"
   },
   {
    "duration": 11,
    "start_time": "2024-05-13T10:18:02.700Z"
   },
   {
    "duration": 2,
    "start_time": "2024-05-13T10:18:15.498Z"
   },
   {
    "duration": 3,
    "start_time": "2024-05-13T10:18:44.355Z"
   },
   {
    "duration": 15,
    "start_time": "2024-05-13T10:58:47.207Z"
   },
   {
    "duration": 46,
    "start_time": "2024-05-13T10:58:51.732Z"
   },
   {
    "duration": 75,
    "start_time": "2024-05-13T10:59:27.402Z"
   },
   {
    "duration": 15,
    "start_time": "2024-05-13T10:59:32.858Z"
   },
   {
    "duration": 865,
    "start_time": "2024-05-13T10:59:51.107Z"
   },
   {
    "duration": 3197,
    "start_time": "2024-05-13T11:00:32.975Z"
   },
   {
    "duration": 2990,
    "start_time": "2024-05-13T11:00:36.174Z"
   },
   {
    "duration": 5602,
    "start_time": "2024-05-13T11:00:39.166Z"
   },
   {
    "duration": 2961,
    "start_time": "2024-05-13T11:00:44.770Z"
   },
   {
    "duration": 2641,
    "start_time": "2024-05-13T11:00:47.732Z"
   },
   {
    "duration": 1932,
    "start_time": "2024-05-13T11:00:50.374Z"
   },
   {
    "duration": 2,
    "start_time": "2024-05-13T11:00:52.308Z"
   },
   {
    "duration": 24,
    "start_time": "2024-05-13T11:00:52.311Z"
   },
   {
    "duration": 26,
    "start_time": "2024-05-13T11:00:52.336Z"
   },
   {
    "duration": 691,
    "start_time": "2024-05-13T11:00:52.363Z"
   },
   {
    "duration": 3,
    "start_time": "2024-05-13T11:00:53.055Z"
   },
   {
    "duration": 8,
    "start_time": "2024-05-13T11:00:53.059Z"
   },
   {
    "duration": 29,
    "start_time": "2024-05-13T11:00:53.068Z"
   },
   {
    "duration": 79,
    "start_time": "2024-05-13T11:00:53.099Z"
   },
   {
    "duration": 106,
    "start_time": "2024-05-13T11:00:53.179Z"
   },
   {
    "duration": 4,
    "start_time": "2024-05-13T11:00:53.286Z"
   },
   {
    "duration": 4910,
    "start_time": "2024-05-13T11:00:53.292Z"
   },
   {
    "duration": 2,
    "start_time": "2024-05-13T11:00:58.203Z"
   },
   {
    "duration": 342,
    "start_time": "2024-05-13T11:00:58.207Z"
   },
   {
    "duration": 373,
    "start_time": "2024-05-13T11:00:58.550Z"
   },
   {
    "duration": 339,
    "start_time": "2024-05-13T11:00:58.925Z"
   },
   {
    "duration": 2,
    "start_time": "2024-05-13T11:00:59.265Z"
   },
   {
    "duration": 221,
    "start_time": "2024-05-13T11:00:59.269Z"
   },
   {
    "duration": 3,
    "start_time": "2024-05-13T11:00:59.492Z"
   },
   {
    "duration": 34,
    "start_time": "2024-05-13T11:00:59.498Z"
   },
   {
    "duration": 27,
    "start_time": "2024-05-13T11:00:59.533Z"
   },
   {
    "duration": 24,
    "start_time": "2024-05-13T11:00:59.562Z"
   },
   {
    "duration": 18,
    "start_time": "2024-05-13T11:00:59.591Z"
   },
   {
    "duration": 390,
    "start_time": "2024-05-13T11:00:59.610Z"
   },
   {
    "duration": 20,
    "start_time": "2024-05-13T11:01:00.002Z"
   },
   {
    "duration": 15,
    "start_time": "2024-05-13T11:01:00.024Z"
   },
   {
    "duration": 64,
    "start_time": "2024-05-13T11:01:00.040Z"
   },
   {
    "duration": 50,
    "start_time": "2024-05-13T11:01:00.106Z"
   },
   {
    "duration": 1821,
    "start_time": "2024-05-13T11:01:00.157Z"
   },
   {
    "duration": 15,
    "start_time": "2024-05-13T11:01:01.980Z"
   },
   {
    "duration": 55,
    "start_time": "2024-05-13T11:01:01.997Z"
   },
   {
    "duration": 10918,
    "start_time": "2024-05-13T11:01:02.053Z"
   },
   {
    "duration": 25,
    "start_time": "2024-05-13T11:01:12.973Z"
   },
   {
    "duration": 410,
    "start_time": "2024-05-13T11:01:12.999Z"
   },
   {
    "duration": 14,
    "start_time": "2024-05-13T11:01:13.410Z"
   },
   {
    "duration": 397,
    "start_time": "2024-05-13T11:01:13.425Z"
   },
   {
    "duration": 11101,
    "start_time": "2024-05-13T11:01:13.824Z"
   },
   {
    "duration": 12,
    "start_time": "2024-05-13T11:01:24.926Z"
   },
   {
    "duration": 25,
    "start_time": "2024-05-13T11:01:24.939Z"
   },
   {
    "duration": 411,
    "start_time": "2024-05-13T11:01:24.965Z"
   },
   {
    "duration": 10674,
    "start_time": "2024-05-13T11:01:25.384Z"
   },
   {
    "duration": 12,
    "start_time": "2024-05-13T11:01:36.059Z"
   },
   {
    "duration": 259,
    "start_time": "2024-05-13T11:01:36.073Z"
   },
   {
    "duration": 4,
    "start_time": "2024-05-13T11:01:36.333Z"
   },
   {
    "duration": 109,
    "start_time": "2024-05-13T11:01:36.339Z"
   },
   {
    "duration": 261,
    "start_time": "2024-05-13T11:01:36.449Z"
   },
   {
    "duration": 274,
    "start_time": "2024-05-13T11:01:36.712Z"
   },
   {
    "duration": 9492,
    "start_time": "2024-05-13T11:01:36.988Z"
   },
   {
    "duration": 3,
    "start_time": "2024-05-13T11:01:46.485Z"
   },
   {
    "duration": 67,
    "start_time": "2024-05-13T11:01:46.490Z"
   },
   {
    "duration": 3,
    "start_time": "2024-05-13T11:01:46.559Z"
   },
   {
    "duration": 77,
    "start_time": "2024-05-13T11:01:46.563Z"
   },
   {
    "duration": 1054,
    "start_time": "2024-05-13T11:01:46.642Z"
   },
   {
    "duration": 15,
    "start_time": "2024-05-13T11:01:47.697Z"
   },
   {
    "duration": 460,
    "start_time": "2024-05-13T11:01:47.713Z"
   },
   {
    "duration": 1260,
    "start_time": "2024-05-13T11:01:48.175Z"
   },
   {
    "duration": 171,
    "start_time": "2024-05-13T11:01:49.436Z"
   },
   {
    "duration": 15,
    "start_time": "2024-05-13T11:01:49.609Z"
   },
   {
    "duration": 130,
    "start_time": "2024-05-13T11:01:49.625Z"
   },
   {
    "duration": 3,
    "start_time": "2024-05-13T11:01:49.756Z"
   },
   {
    "duration": 55,
    "start_time": "2024-05-13T11:01:49.760Z"
   },
   {
    "duration": 2,
    "start_time": "2024-05-13T11:01:49.816Z"
   },
   {
    "duration": 18,
    "start_time": "2024-05-13T11:01:49.819Z"
   },
   {
    "duration": 62,
    "start_time": "2024-05-13T11:01:49.838Z"
   },
   {
    "duration": 96,
    "start_time": "2024-05-13T11:01:49.902Z"
   },
   {
    "duration": 114,
    "start_time": "2024-05-13T11:01:49.999Z"
   },
   {
    "duration": 3,
    "start_time": "2024-05-13T11:01:50.114Z"
   },
   {
    "duration": 62,
    "start_time": "2024-05-13T11:01:50.118Z"
   },
   {
    "duration": 42,
    "start_time": "2024-05-13T11:01:50.181Z"
   },
   {
    "duration": 9,
    "start_time": "2024-05-13T11:01:50.224Z"
   },
   {
    "duration": 19,
    "start_time": "2024-05-13T11:01:50.234Z"
   },
   {
    "duration": 12,
    "start_time": "2024-05-13T11:01:50.254Z"
   },
   {
    "duration": 8,
    "start_time": "2024-05-13T11:01:50.268Z"
   },
   {
    "duration": 21,
    "start_time": "2024-05-13T11:01:50.277Z"
   },
   {
    "duration": 17,
    "start_time": "2024-05-13T11:01:50.300Z"
   },
   {
    "duration": 26023,
    "start_time": "2024-05-13T11:01:50.318Z"
   },
   {
    "duration": 3,
    "start_time": "2024-05-13T11:02:16.345Z"
   },
   {
    "duration": 8,
    "start_time": "2024-05-13T11:02:16.349Z"
   },
   {
    "duration": 18,
    "start_time": "2024-05-13T11:02:16.358Z"
   },
   {
    "duration": 4,
    "start_time": "2024-05-13T11:02:16.378Z"
   },
   {
    "duration": 10,
    "start_time": "2024-05-13T11:02:16.383Z"
   },
   {
    "duration": 52,
    "start_time": "2024-05-13T11:04:11.113Z"
   },
   {
    "duration": 11,
    "start_time": "2024-05-13T11:04:22.552Z"
   },
   {
    "duration": 15,
    "start_time": "2024-05-13T11:04:24.539Z"
   },
   {
    "duration": 6,
    "start_time": "2024-05-13T11:06:42.007Z"
   },
   {
    "duration": 160,
    "start_time": "2024-05-13T11:06:57.725Z"
   },
   {
    "duration": 21,
    "start_time": "2024-05-13T11:07:27.906Z"
   },
   {
    "duration": 2892,
    "start_time": "2024-05-13T11:07:31.967Z"
   },
   {
    "duration": 3087,
    "start_time": "2024-05-13T11:07:34.861Z"
   },
   {
    "duration": 2914,
    "start_time": "2024-05-13T11:07:37.951Z"
   },
   {
    "duration": 3062,
    "start_time": "2024-05-13T11:07:40.867Z"
   },
   {
    "duration": 2622,
    "start_time": "2024-05-13T11:07:43.931Z"
   },
   {
    "duration": 2575,
    "start_time": "2024-05-13T11:07:46.555Z"
   },
   {
    "duration": 3,
    "start_time": "2024-05-13T11:07:49.131Z"
   },
   {
    "duration": 12,
    "start_time": "2024-05-13T11:07:49.135Z"
   },
   {
    "duration": 9,
    "start_time": "2024-05-13T11:07:49.150Z"
   },
   {
    "duration": 719,
    "start_time": "2024-05-13T11:07:49.160Z"
   },
   {
    "duration": 3,
    "start_time": "2024-05-13T11:07:49.883Z"
   },
   {
    "duration": 7,
    "start_time": "2024-05-13T11:07:49.887Z"
   },
   {
    "duration": 13,
    "start_time": "2024-05-13T11:07:49.896Z"
   },
   {
    "duration": 93,
    "start_time": "2024-05-13T11:07:49.910Z"
   },
   {
    "duration": 90,
    "start_time": "2024-05-13T11:07:50.005Z"
   },
   {
    "duration": 2,
    "start_time": "2024-05-13T11:07:50.097Z"
   },
   {
    "duration": 4889,
    "start_time": "2024-05-13T11:07:50.100Z"
   },
   {
    "duration": 3,
    "start_time": "2024-05-13T11:07:54.990Z"
   },
   {
    "duration": 319,
    "start_time": "2024-05-13T11:07:54.994Z"
   },
   {
    "duration": 395,
    "start_time": "2024-05-13T11:07:55.314Z"
   },
   {
    "duration": 337,
    "start_time": "2024-05-13T11:07:55.710Z"
   },
   {
    "duration": 2,
    "start_time": "2024-05-13T11:07:56.049Z"
   },
   {
    "duration": 178,
    "start_time": "2024-05-13T11:07:56.052Z"
   },
   {
    "duration": 3,
    "start_time": "2024-05-13T11:07:56.232Z"
   },
   {
    "duration": 16,
    "start_time": "2024-05-13T11:07:56.236Z"
   },
   {
    "duration": 31,
    "start_time": "2024-05-13T11:07:56.253Z"
   },
   {
    "duration": 16,
    "start_time": "2024-05-13T11:07:56.286Z"
   },
   {
    "duration": 12,
    "start_time": "2024-05-13T11:07:56.303Z"
   },
   {
    "duration": 394,
    "start_time": "2024-05-13T11:07:56.317Z"
   },
   {
    "duration": 22,
    "start_time": "2024-05-13T11:07:56.712Z"
   },
   {
    "duration": 17,
    "start_time": "2024-05-13T11:07:56.736Z"
   },
   {
    "duration": 34,
    "start_time": "2024-05-13T11:07:56.754Z"
   },
   {
    "duration": 20,
    "start_time": "2024-05-13T11:07:56.789Z"
   },
   {
    "duration": 1770,
    "start_time": "2024-05-13T11:07:56.810Z"
   },
   {
    "duration": 11,
    "start_time": "2024-05-13T11:07:58.582Z"
   },
   {
    "duration": 26,
    "start_time": "2024-05-13T11:07:58.595Z"
   },
   {
    "duration": 10718,
    "start_time": "2024-05-13T11:07:58.622Z"
   },
   {
    "duration": 19,
    "start_time": "2024-05-13T11:08:09.342Z"
   },
   {
    "duration": 446,
    "start_time": "2024-05-13T11:08:09.362Z"
   },
   {
    "duration": 15,
    "start_time": "2024-05-13T11:08:09.812Z"
   },
   {
    "duration": 376,
    "start_time": "2024-05-13T11:08:09.828Z"
   },
   {
    "duration": 10874,
    "start_time": "2024-05-13T11:08:10.206Z"
   },
   {
    "duration": 11,
    "start_time": "2024-05-13T11:08:21.082Z"
   },
   {
    "duration": 22,
    "start_time": "2024-05-13T11:08:21.094Z"
   },
   {
    "duration": 425,
    "start_time": "2024-05-13T11:08:21.117Z"
   },
   {
    "duration": 10486,
    "start_time": "2024-05-13T11:08:21.543Z"
   },
   {
    "duration": 12,
    "start_time": "2024-05-13T11:08:32.031Z"
   },
   {
    "duration": 394,
    "start_time": "2024-05-13T11:08:32.044Z"
   },
   {
    "duration": 45,
    "start_time": "2024-05-13T11:08:32.439Z"
   },
   {
    "duration": 43,
    "start_time": "2024-05-13T11:08:32.486Z"
   },
   {
    "duration": 258,
    "start_time": "2024-05-13T11:08:32.531Z"
   },
   {
    "duration": 256,
    "start_time": "2024-05-13T11:08:32.790Z"
   },
   {
    "duration": 9153,
    "start_time": "2024-05-13T11:08:33.048Z"
   },
   {
    "duration": 3,
    "start_time": "2024-05-13T11:08:42.203Z"
   },
   {
    "duration": 56,
    "start_time": "2024-05-13T11:08:42.209Z"
   },
   {
    "duration": 18,
    "start_time": "2024-05-13T11:08:42.267Z"
   },
   {
    "duration": 56,
    "start_time": "2024-05-13T11:08:42.286Z"
   },
   {
    "duration": 993,
    "start_time": "2024-05-13T11:08:42.343Z"
   },
   {
    "duration": 11,
    "start_time": "2024-05-13T11:08:43.338Z"
   },
   {
    "duration": 433,
    "start_time": "2024-05-13T11:08:43.351Z"
   },
   {
    "duration": 1206,
    "start_time": "2024-05-13T11:08:43.786Z"
   },
   {
    "duration": 162,
    "start_time": "2024-05-13T11:08:44.993Z"
   },
   {
    "duration": 15,
    "start_time": "2024-05-13T11:08:45.156Z"
   },
   {
    "duration": 130,
    "start_time": "2024-05-13T11:08:45.172Z"
   },
   {
    "duration": 3,
    "start_time": "2024-05-13T11:08:45.303Z"
   },
   {
    "duration": 87,
    "start_time": "2024-05-13T11:08:45.307Z"
   },
   {
    "duration": 3,
    "start_time": "2024-05-13T11:08:45.395Z"
   },
   {
    "duration": 44,
    "start_time": "2024-05-13T11:08:45.399Z"
   },
   {
    "duration": 67,
    "start_time": "2024-05-13T11:08:45.444Z"
   },
   {
    "duration": 90,
    "start_time": "2024-05-13T11:08:45.512Z"
   },
   {
    "duration": 89,
    "start_time": "2024-05-13T11:08:45.604Z"
   },
   {
    "duration": 2,
    "start_time": "2024-05-13T11:08:45.695Z"
   },
   {
    "duration": 54,
    "start_time": "2024-05-13T11:08:45.698Z"
   },
   {
    "duration": 45,
    "start_time": "2024-05-13T11:08:45.753Z"
   },
   {
    "duration": 2,
    "start_time": "2024-05-13T11:08:45.800Z"
   },
   {
    "duration": 14,
    "start_time": "2024-05-13T11:08:45.803Z"
   },
   {
    "duration": 16,
    "start_time": "2024-05-13T11:08:45.818Z"
   },
   {
    "duration": 7,
    "start_time": "2024-05-13T11:08:45.836Z"
   },
   {
    "duration": 4,
    "start_time": "2024-05-13T11:08:45.844Z"
   },
   {
    "duration": 5,
    "start_time": "2024-05-13T11:08:45.849Z"
   },
   {
    "duration": 26094,
    "start_time": "2024-05-13T11:08:45.855Z"
   },
   {
    "duration": 2,
    "start_time": "2024-05-13T11:09:11.951Z"
   },
   {
    "duration": 10,
    "start_time": "2024-05-13T11:09:11.955Z"
   },
   {
    "duration": 5,
    "start_time": "2024-05-13T11:09:11.966Z"
   },
   {
    "duration": 21,
    "start_time": "2024-05-13T11:09:11.972Z"
   },
   {
    "duration": 3,
    "start_time": "2024-05-13T11:09:11.994Z"
   },
   {
    "duration": 6,
    "start_time": "2024-05-13T11:09:11.998Z"
   },
   {
    "duration": 48,
    "start_time": "2024-05-13T11:09:12.005Z"
   },
   {
    "duration": 19,
    "start_time": "2024-05-13T11:09:12.054Z"
   },
   {
    "duration": 2,
    "start_time": "2024-05-13T11:09:40.010Z"
   },
   {
    "duration": 587380,
    "start_time": "2024-05-13T11:09:52.314Z"
   },
   {
    "duration": 2,
    "start_time": "2024-05-13T11:22:04.370Z"
   },
   {
    "duration": 2,
    "start_time": "2024-05-13T11:22:25.065Z"
   },
   {
    "duration": 3,
    "start_time": "2024-05-13T11:23:27.939Z"
   },
   {
    "duration": 455026,
    "start_time": "2024-05-13T11:23:32.063Z"
   },
   {
    "duration": 2,
    "start_time": "2024-05-13T11:31:12.448Z"
   },
   {
    "duration": 3,
    "start_time": "2024-05-13T11:31:12.767Z"
   },
   {
    "duration": 3,
    "start_time": "2024-05-13T11:31:16.354Z"
   },
   {
    "duration": 2,
    "start_time": "2024-05-13T11:31:16.703Z"
   },
   {
    "duration": 3,
    "start_time": "2024-05-13T11:31:17.087Z"
   },
   {
    "duration": 2,
    "start_time": "2024-05-13T11:31:18.647Z"
   },
   {
    "duration": 6,
    "start_time": "2024-05-13T11:31:19.170Z"
   },
   {
    "duration": 6,
    "start_time": "2024-05-13T11:31:19.645Z"
   },
   {
    "duration": 5,
    "start_time": "2024-05-13T11:31:23.310Z"
   },
   {
    "duration": 852634,
    "start_time": "2024-05-13T11:31:24.263Z"
   },
   {
    "duration": 2,
    "start_time": "2024-05-13T11:48:40.801Z"
   },
   {
    "duration": 3,
    "start_time": "2024-05-13T11:48:41.395Z"
   },
   {
    "duration": 4,
    "start_time": "2024-05-13T11:52:48.602Z"
   },
   {
    "duration": 2,
    "start_time": "2024-05-13T11:54:36.279Z"
   },
   {
    "duration": 2,
    "start_time": "2024-05-13T11:54:37.666Z"
   },
   {
    "duration": 2,
    "start_time": "2024-05-13T11:54:37.950Z"
   },
   {
    "duration": 2,
    "start_time": "2024-05-13T11:54:38.825Z"
   },
   {
    "duration": 5,
    "start_time": "2024-05-13T11:54:39.196Z"
   },
   {
    "duration": 6,
    "start_time": "2024-05-13T11:54:39.536Z"
   },
   {
    "duration": 197723,
    "start_time": "2024-05-13T11:54:41.102Z"
   },
   {
    "duration": 3,
    "start_time": "2024-05-13T11:58:03.502Z"
   },
   {
    "duration": 2,
    "start_time": "2024-05-13T11:58:10.268Z"
   },
   {
    "duration": 2,
    "start_time": "2024-05-13T11:58:10.835Z"
   },
   {
    "duration": 2,
    "start_time": "2024-05-13T11:58:11.131Z"
   },
   {
    "duration": 2,
    "start_time": "2024-05-13T11:58:12.298Z"
   },
   {
    "duration": 58375,
    "start_time": "2024-05-13T11:58:14.427Z"
   },
   {
    "duration": 3,
    "start_time": "2024-05-13T11:59:27.366Z"
   },
   {
    "duration": 3,
    "start_time": "2024-05-13T12:12:20.372Z"
   },
   {
    "duration": 3,
    "start_time": "2024-05-13T12:12:32.648Z"
   },
   {
    "duration": 9,
    "start_time": "2024-05-13T12:12:32.653Z"
   },
   {
    "duration": 914145,
    "start_time": "2024-05-13T12:12:35.154Z"
   },
   {
    "duration": 3,
    "start_time": "2024-05-13T12:27:56.572Z"
   },
   {
    "duration": 2,
    "start_time": "2024-05-13T12:27:57.495Z"
   },
   {
    "duration": 3,
    "start_time": "2024-05-13T12:27:58.693Z"
   },
   {
    "duration": 3,
    "start_time": "2024-05-13T12:31:05.277Z"
   },
   {
    "duration": 2,
    "start_time": "2024-05-13T12:31:10.357Z"
   },
   {
    "duration": 2,
    "start_time": "2024-05-13T12:31:14.354Z"
   },
   {
    "duration": 72,
    "start_time": "2024-05-13T12:31:21.840Z"
   },
   {
    "duration": 61,
    "start_time": "2024-05-13T12:31:22.627Z"
   },
   {
    "duration": 2885,
    "start_time": "2024-05-13T12:31:36.289Z"
   },
   {
    "duration": 3192,
    "start_time": "2024-05-13T12:31:39.176Z"
   },
   {
    "duration": 2740,
    "start_time": "2024-05-13T12:31:42.369Z"
   },
   {
    "duration": 2886,
    "start_time": "2024-05-13T12:31:45.111Z"
   },
   {
    "duration": 2817,
    "start_time": "2024-05-13T12:31:47.999Z"
   },
   {
    "duration": 1983,
    "start_time": "2024-05-13T12:31:50.818Z"
   },
   {
    "duration": 2,
    "start_time": "2024-05-13T12:31:52.803Z"
   },
   {
    "duration": 33,
    "start_time": "2024-05-13T12:31:52.806Z"
   },
   {
    "duration": 16,
    "start_time": "2024-05-13T12:31:52.841Z"
   },
   {
    "duration": 717,
    "start_time": "2024-05-13T12:31:52.859Z"
   },
   {
    "duration": 6,
    "start_time": "2024-05-13T12:31:53.578Z"
   },
   {
    "duration": 17,
    "start_time": "2024-05-13T12:31:53.585Z"
   },
   {
    "duration": 23,
    "start_time": "2024-05-13T12:31:53.603Z"
   },
   {
    "duration": 98,
    "start_time": "2024-05-13T12:31:53.627Z"
   },
   {
    "duration": 95,
    "start_time": "2024-05-13T12:31:53.726Z"
   },
   {
    "duration": 3,
    "start_time": "2024-05-13T12:31:53.822Z"
   },
   {
    "duration": 5111,
    "start_time": "2024-05-13T12:31:53.826Z"
   },
   {
    "duration": 3,
    "start_time": "2024-05-13T12:31:58.940Z"
   },
   {
    "duration": 352,
    "start_time": "2024-05-13T12:31:58.944Z"
   },
   {
    "duration": 394,
    "start_time": "2024-05-13T12:31:59.297Z"
   },
   {
    "duration": 370,
    "start_time": "2024-05-13T12:31:59.692Z"
   },
   {
    "duration": 2,
    "start_time": "2024-05-13T12:32:00.064Z"
   },
   {
    "duration": 273,
    "start_time": "2024-05-13T12:32:00.067Z"
   },
   {
    "duration": 4,
    "start_time": "2024-05-13T12:32:00.342Z"
   },
   {
    "duration": 45,
    "start_time": "2024-05-13T12:32:00.347Z"
   },
   {
    "duration": 73,
    "start_time": "2024-05-13T12:32:00.393Z"
   },
   {
    "duration": 99,
    "start_time": "2024-05-13T12:32:00.468Z"
   },
   {
    "duration": 89,
    "start_time": "2024-05-13T12:32:00.571Z"
   },
   {
    "duration": 561,
    "start_time": "2024-05-13T12:32:00.661Z"
   },
   {
    "duration": 22,
    "start_time": "2024-05-13T12:32:01.224Z"
   },
   {
    "duration": 99,
    "start_time": "2024-05-13T12:32:01.247Z"
   },
   {
    "duration": 72,
    "start_time": "2024-05-13T12:32:01.348Z"
   },
   {
    "duration": 42,
    "start_time": "2024-05-13T12:32:01.421Z"
   },
   {
    "duration": 1909,
    "start_time": "2024-05-13T12:32:01.465Z"
   },
   {
    "duration": 17,
    "start_time": "2024-05-13T12:32:03.375Z"
   },
   {
    "duration": 59,
    "start_time": "2024-05-13T12:32:03.393Z"
   },
   {
    "duration": 11198,
    "start_time": "2024-05-13T12:32:03.453Z"
   },
   {
    "duration": 19,
    "start_time": "2024-05-13T12:32:14.652Z"
   },
   {
    "duration": 426,
    "start_time": "2024-05-13T12:32:14.673Z"
   },
   {
    "duration": 16,
    "start_time": "2024-05-13T12:32:15.101Z"
   },
   {
    "duration": 409,
    "start_time": "2024-05-13T12:32:15.119Z"
   },
   {
    "duration": 11875,
    "start_time": "2024-05-13T12:32:15.529Z"
   },
   {
    "duration": 14,
    "start_time": "2024-05-13T12:32:27.406Z"
   },
   {
    "duration": 36,
    "start_time": "2024-05-13T12:32:27.421Z"
   },
   {
    "duration": 470,
    "start_time": "2024-05-13T12:32:27.459Z"
   },
   {
    "duration": 11069,
    "start_time": "2024-05-13T12:32:27.931Z"
   },
   {
    "duration": 13,
    "start_time": "2024-05-13T12:32:39.002Z"
   },
   {
    "duration": 268,
    "start_time": "2024-05-13T12:32:39.016Z"
   },
   {
    "duration": 4,
    "start_time": "2024-05-13T12:32:39.285Z"
   },
   {
    "duration": 49,
    "start_time": "2024-05-13T12:32:39.291Z"
   },
   {
    "duration": 254,
    "start_time": "2024-05-13T12:32:39.341Z"
   },
   {
    "duration": 263,
    "start_time": "2024-05-13T12:32:39.597Z"
   },
   {
    "duration": 9617,
    "start_time": "2024-05-13T12:32:39.861Z"
   },
   {
    "duration": 6,
    "start_time": "2024-05-13T12:32:49.479Z"
   },
   {
    "duration": 62,
    "start_time": "2024-05-13T12:32:49.486Z"
   },
   {
    "duration": 3,
    "start_time": "2024-05-13T12:32:49.550Z"
   },
   {
    "duration": 83,
    "start_time": "2024-05-13T12:32:49.554Z"
   },
   {
    "duration": 1055,
    "start_time": "2024-05-13T12:32:49.638Z"
   },
   {
    "duration": 18,
    "start_time": "2024-05-13T12:32:50.695Z"
   },
   {
    "duration": 481,
    "start_time": "2024-05-13T12:32:50.714Z"
   },
   {
    "duration": 1297,
    "start_time": "2024-05-13T12:32:51.197Z"
   },
   {
    "duration": 190,
    "start_time": "2024-05-13T12:32:52.496Z"
   },
   {
    "duration": 19,
    "start_time": "2024-05-13T12:32:52.688Z"
   },
   {
    "duration": 150,
    "start_time": "2024-05-13T12:32:52.708Z"
   },
   {
    "duration": 3,
    "start_time": "2024-05-13T12:32:52.860Z"
   },
   {
    "duration": 54,
    "start_time": "2024-05-13T12:32:52.864Z"
   },
   {
    "duration": 2,
    "start_time": "2024-05-13T12:32:52.920Z"
   },
   {
    "duration": 26,
    "start_time": "2024-05-13T12:32:52.924Z"
   },
   {
    "duration": 63,
    "start_time": "2024-05-13T12:32:52.951Z"
   },
   {
    "duration": 99,
    "start_time": "2024-05-13T12:32:53.016Z"
   },
   {
    "duration": 102,
    "start_time": "2024-05-13T12:32:53.116Z"
   },
   {
    "duration": 3,
    "start_time": "2024-05-13T12:32:53.220Z"
   },
   {
    "duration": 10,
    "start_time": "2024-05-13T12:32:53.224Z"
   },
   {
    "duration": 77,
    "start_time": "2024-05-13T12:32:53.235Z"
   },
   {
    "duration": 51,
    "start_time": "2024-05-13T12:32:53.314Z"
   },
   {
    "duration": 4,
    "start_time": "2024-05-13T12:32:53.366Z"
   },
   {
    "duration": 16,
    "start_time": "2024-05-13T12:32:53.371Z"
   },
   {
    "duration": 12,
    "start_time": "2024-05-13T12:32:53.388Z"
   },
   {
    "duration": 13,
    "start_time": "2024-05-13T12:32:53.402Z"
   },
   {
    "duration": 5,
    "start_time": "2024-05-13T12:32:53.416Z"
   },
   {
    "duration": 10,
    "start_time": "2024-05-13T12:32:53.422Z"
   },
   {
    "duration": 33906,
    "start_time": "2024-05-13T12:32:53.437Z"
   },
   {
    "duration": 3,
    "start_time": "2024-05-13T12:33:27.344Z"
   },
   {
    "duration": 35,
    "start_time": "2024-05-13T12:33:27.348Z"
   },
   {
    "duration": 5,
    "start_time": "2024-05-13T12:33:27.385Z"
   },
   {
    "duration": 18,
    "start_time": "2024-05-13T12:33:27.392Z"
   },
   {
    "duration": 14,
    "start_time": "2024-05-13T12:33:27.411Z"
   },
   {
    "duration": 15,
    "start_time": "2024-05-13T12:33:27.426Z"
   },
   {
    "duration": 80,
    "start_time": "2024-05-13T12:33:27.443Z"
   },
   {
    "duration": 28,
    "start_time": "2024-05-13T12:33:27.524Z"
   },
   {
    "duration": 412361,
    "start_time": "2024-05-13T12:33:27.553Z"
   },
   {
    "duration": 0,
    "start_time": "2024-05-13T12:40:19.915Z"
   },
   {
    "duration": 0,
    "start_time": "2024-05-13T12:40:19.917Z"
   },
   {
    "duration": 0,
    "start_time": "2024-05-13T12:40:19.917Z"
   },
   {
    "duration": 4476,
    "start_time": "2024-05-13T12:50:34.262Z"
   },
   {
    "duration": 1071,
    "start_time": "2024-05-13T12:51:50.974Z"
   },
   {
    "duration": 304,
    "start_time": "2024-05-13T12:52:01.202Z"
   },
   {
    "duration": 3,
    "start_time": "2024-05-13T12:53:25.953Z"
   },
   {
    "duration": 32,
    "start_time": "2024-05-13T12:53:40.270Z"
   },
   {
    "duration": 3,
    "start_time": "2024-05-13T12:54:51.217Z"
   },
   {
    "duration": 9,
    "start_time": "2024-05-13T12:55:37.870Z"
   },
   {
    "duration": 2,
    "start_time": "2024-05-13T12:55:42.498Z"
   },
   {
    "duration": 51,
    "start_time": "2024-05-13T12:55:44.878Z"
   },
   {
    "duration": 2977,
    "start_time": "2024-05-13T12:56:01.889Z"
   },
   {
    "duration": 3073,
    "start_time": "2024-05-13T12:56:04.868Z"
   },
   {
    "duration": 2780,
    "start_time": "2024-05-13T12:56:07.942Z"
   },
   {
    "duration": 2969,
    "start_time": "2024-05-13T12:56:10.724Z"
   },
   {
    "duration": 2683,
    "start_time": "2024-05-13T12:56:13.695Z"
   },
   {
    "duration": 1953,
    "start_time": "2024-05-13T12:56:16.380Z"
   },
   {
    "duration": 2,
    "start_time": "2024-05-13T12:56:18.334Z"
   },
   {
    "duration": 5,
    "start_time": "2024-05-13T12:56:18.338Z"
   },
   {
    "duration": 6,
    "start_time": "2024-05-13T12:56:18.344Z"
   },
   {
    "duration": 699,
    "start_time": "2024-05-13T12:56:18.352Z"
   },
   {
    "duration": 2,
    "start_time": "2024-05-13T12:56:19.052Z"
   },
   {
    "duration": 7,
    "start_time": "2024-05-13T12:56:19.055Z"
   },
   {
    "duration": 26,
    "start_time": "2024-05-13T12:56:19.064Z"
   },
   {
    "duration": 95,
    "start_time": "2024-05-13T12:56:19.092Z"
   },
   {
    "duration": 100,
    "start_time": "2024-05-13T12:56:19.188Z"
   },
   {
    "duration": 3,
    "start_time": "2024-05-13T12:56:19.289Z"
   },
   {
    "duration": 5448,
    "start_time": "2024-05-13T12:56:19.293Z"
   },
   {
    "duration": 3,
    "start_time": "2024-05-13T12:56:24.742Z"
   },
   {
    "duration": 339,
    "start_time": "2024-05-13T12:56:24.746Z"
   },
   {
    "duration": 387,
    "start_time": "2024-05-13T12:56:25.087Z"
   },
   {
    "duration": 337,
    "start_time": "2024-05-13T12:56:25.475Z"
   },
   {
    "duration": 2,
    "start_time": "2024-05-13T12:56:25.813Z"
   },
   {
    "duration": 182,
    "start_time": "2024-05-13T12:56:25.816Z"
   },
   {
    "duration": 3,
    "start_time": "2024-05-13T12:56:25.999Z"
   },
   {
    "duration": 22,
    "start_time": "2024-05-13T12:56:26.003Z"
   },
   {
    "duration": 21,
    "start_time": "2024-05-13T12:56:26.026Z"
   },
   {
    "duration": 20,
    "start_time": "2024-05-13T12:56:26.048Z"
   },
   {
    "duration": 20,
    "start_time": "2024-05-13T12:56:26.072Z"
   },
   {
    "duration": 406,
    "start_time": "2024-05-13T12:56:26.093Z"
   },
   {
    "duration": 21,
    "start_time": "2024-05-13T12:56:26.501Z"
   },
   {
    "duration": 18,
    "start_time": "2024-05-13T12:56:26.523Z"
   },
   {
    "duration": 26,
    "start_time": "2024-05-13T12:56:26.542Z"
   },
   {
    "duration": 27,
    "start_time": "2024-05-13T12:56:26.569Z"
   },
   {
    "duration": 1784,
    "start_time": "2024-05-13T12:56:26.598Z"
   },
   {
    "duration": 13,
    "start_time": "2024-05-13T12:56:28.384Z"
   },
   {
    "duration": 25,
    "start_time": "2024-05-13T12:56:28.398Z"
   },
   {
    "duration": 11215,
    "start_time": "2024-05-13T12:56:28.424Z"
   },
   {
    "duration": 19,
    "start_time": "2024-05-13T12:56:39.640Z"
   },
   {
    "duration": 404,
    "start_time": "2024-05-13T12:56:39.660Z"
   },
   {
    "duration": 30,
    "start_time": "2024-05-13T12:56:40.066Z"
   },
   {
    "duration": 388,
    "start_time": "2024-05-13T12:56:40.098Z"
   },
   {
    "duration": 12221,
    "start_time": "2024-05-13T12:56:40.488Z"
   },
   {
    "duration": 20,
    "start_time": "2024-05-13T12:56:52.711Z"
   },
   {
    "duration": 31,
    "start_time": "2024-05-13T12:56:52.732Z"
   },
   {
    "duration": 429,
    "start_time": "2024-05-13T12:56:52.765Z"
   },
   {
    "duration": 11711,
    "start_time": "2024-05-13T12:56:53.196Z"
   },
   {
    "duration": 11,
    "start_time": "2024-05-13T12:57:04.909Z"
   },
   {
    "duration": 357,
    "start_time": "2024-05-13T12:57:04.921Z"
   },
   {
    "duration": 6,
    "start_time": "2024-05-13T12:57:05.280Z"
   },
   {
    "duration": 68,
    "start_time": "2024-05-13T12:57:05.287Z"
   },
   {
    "duration": 240,
    "start_time": "2024-05-13T12:57:05.357Z"
   },
   {
    "duration": 362,
    "start_time": "2024-05-13T12:57:05.599Z"
   },
   {
    "duration": 3,
    "start_time": "2024-05-13T12:57:05.962Z"
   },
   {
    "duration": 60,
    "start_time": "2024-05-13T12:57:05.966Z"
   },
   {
    "duration": 1323,
    "start_time": "2024-05-13T12:57:06.028Z"
   },
   {
    "duration": 0,
    "start_time": "2024-05-13T12:57:07.353Z"
   },
   {
    "duration": 0,
    "start_time": "2024-05-13T12:57:07.354Z"
   },
   {
    "duration": 0,
    "start_time": "2024-05-13T12:57:07.355Z"
   },
   {
    "duration": 0,
    "start_time": "2024-05-13T12:57:07.356Z"
   },
   {
    "duration": 0,
    "start_time": "2024-05-13T12:57:07.357Z"
   },
   {
    "duration": 0,
    "start_time": "2024-05-13T12:57:07.358Z"
   },
   {
    "duration": 0,
    "start_time": "2024-05-13T12:57:07.359Z"
   },
   {
    "duration": 0,
    "start_time": "2024-05-13T12:57:07.360Z"
   },
   {
    "duration": 0,
    "start_time": "2024-05-13T12:57:07.361Z"
   },
   {
    "duration": 0,
    "start_time": "2024-05-13T12:57:07.362Z"
   },
   {
    "duration": 0,
    "start_time": "2024-05-13T12:57:07.362Z"
   },
   {
    "duration": 0,
    "start_time": "2024-05-13T12:57:07.363Z"
   },
   {
    "duration": 0,
    "start_time": "2024-05-13T12:57:07.384Z"
   },
   {
    "duration": 1,
    "start_time": "2024-05-13T12:57:07.384Z"
   },
   {
    "duration": 0,
    "start_time": "2024-05-13T12:57:07.385Z"
   },
   {
    "duration": 0,
    "start_time": "2024-05-13T12:57:07.386Z"
   },
   {
    "duration": 0,
    "start_time": "2024-05-13T12:57:07.387Z"
   },
   {
    "duration": 0,
    "start_time": "2024-05-13T12:57:07.388Z"
   },
   {
    "duration": 0,
    "start_time": "2024-05-13T12:57:07.389Z"
   },
   {
    "duration": 0,
    "start_time": "2024-05-13T12:57:07.390Z"
   },
   {
    "duration": 0,
    "start_time": "2024-05-13T12:57:07.391Z"
   },
   {
    "duration": 0,
    "start_time": "2024-05-13T12:57:07.392Z"
   },
   {
    "duration": 0,
    "start_time": "2024-05-13T12:57:07.393Z"
   },
   {
    "duration": 0,
    "start_time": "2024-05-13T12:57:07.394Z"
   },
   {
    "duration": 0,
    "start_time": "2024-05-13T12:57:07.395Z"
   },
   {
    "duration": 0,
    "start_time": "2024-05-13T12:57:07.396Z"
   },
   {
    "duration": 0,
    "start_time": "2024-05-13T12:57:07.397Z"
   },
   {
    "duration": 0,
    "start_time": "2024-05-13T12:57:07.398Z"
   },
   {
    "duration": 0,
    "start_time": "2024-05-13T12:57:07.399Z"
   },
   {
    "duration": 0,
    "start_time": "2024-05-13T12:57:07.399Z"
   },
   {
    "duration": 0,
    "start_time": "2024-05-13T12:57:07.401Z"
   },
   {
    "duration": 0,
    "start_time": "2024-05-13T12:57:07.401Z"
   },
   {
    "duration": 0,
    "start_time": "2024-05-13T12:57:07.402Z"
   },
   {
    "duration": 0,
    "start_time": "2024-05-13T12:57:07.403Z"
   },
   {
    "duration": 0,
    "start_time": "2024-05-13T12:57:07.404Z"
   },
   {
    "duration": 0,
    "start_time": "2024-05-13T12:57:07.404Z"
   },
   {
    "duration": 0,
    "start_time": "2024-05-13T12:57:07.405Z"
   },
   {
    "duration": 0,
    "start_time": "2024-05-13T12:57:07.406Z"
   },
   {
    "duration": 0,
    "start_time": "2024-05-13T12:57:07.407Z"
   },
   {
    "duration": 0,
    "start_time": "2024-05-13T12:57:07.408Z"
   },
   {
    "duration": 0,
    "start_time": "2024-05-13T12:57:07.408Z"
   },
   {
    "duration": 0,
    "start_time": "2024-05-13T12:57:07.409Z"
   },
   {
    "duration": 0,
    "start_time": "2024-05-13T12:57:07.410Z"
   },
   {
    "duration": 2810,
    "start_time": "2024-05-13T12:59:47.106Z"
   },
   {
    "duration": 2991,
    "start_time": "2024-05-13T12:59:49.918Z"
   },
   {
    "duration": 3396,
    "start_time": "2024-05-13T12:59:52.914Z"
   },
   {
    "duration": 2881,
    "start_time": "2024-05-13T12:59:56.312Z"
   },
   {
    "duration": 2702,
    "start_time": "2024-05-13T12:59:59.195Z"
   },
   {
    "duration": 1987,
    "start_time": "2024-05-13T13:00:01.899Z"
   },
   {
    "duration": 3,
    "start_time": "2024-05-13T13:00:03.887Z"
   },
   {
    "duration": 41,
    "start_time": "2024-05-13T13:00:03.891Z"
   },
   {
    "duration": 42,
    "start_time": "2024-05-13T13:00:03.935Z"
   },
   {
    "duration": 785,
    "start_time": "2024-05-13T13:00:03.978Z"
   },
   {
    "duration": 2,
    "start_time": "2024-05-13T13:00:04.765Z"
   },
   {
    "duration": 43,
    "start_time": "2024-05-13T13:00:04.768Z"
   },
   {
    "duration": 52,
    "start_time": "2024-05-13T13:00:04.813Z"
   },
   {
    "duration": 120,
    "start_time": "2024-05-13T13:00:04.866Z"
   },
   {
    "duration": 99,
    "start_time": "2024-05-13T13:00:04.987Z"
   },
   {
    "duration": 6,
    "start_time": "2024-05-13T13:00:05.087Z"
   },
   {
    "duration": 5608,
    "start_time": "2024-05-13T13:00:05.094Z"
   },
   {
    "duration": 3,
    "start_time": "2024-05-13T13:00:10.703Z"
   },
   {
    "duration": 327,
    "start_time": "2024-05-13T13:00:10.707Z"
   },
   {
    "duration": 370,
    "start_time": "2024-05-13T13:00:11.035Z"
   },
   {
    "duration": 333,
    "start_time": "2024-05-13T13:00:11.407Z"
   },
   {
    "duration": 2,
    "start_time": "2024-05-13T13:00:11.742Z"
   },
   {
    "duration": 186,
    "start_time": "2024-05-13T13:00:11.745Z"
   },
   {
    "duration": 3,
    "start_time": "2024-05-13T13:00:11.933Z"
   },
   {
    "duration": 20,
    "start_time": "2024-05-13T13:00:11.937Z"
   },
   {
    "duration": 26,
    "start_time": "2024-05-13T13:00:11.958Z"
   },
   {
    "duration": 17,
    "start_time": "2024-05-13T13:00:11.988Z"
   },
   {
    "duration": 11,
    "start_time": "2024-05-13T13:00:12.006Z"
   },
   {
    "duration": 385,
    "start_time": "2024-05-13T13:00:12.018Z"
   },
   {
    "duration": 22,
    "start_time": "2024-05-13T13:00:12.404Z"
   },
   {
    "duration": 18,
    "start_time": "2024-05-13T13:00:12.427Z"
   },
   {
    "duration": 17,
    "start_time": "2024-05-13T13:00:12.446Z"
   },
   {
    "duration": 36,
    "start_time": "2024-05-13T13:00:12.464Z"
   },
   {
    "duration": 1711,
    "start_time": "2024-05-13T13:00:12.501Z"
   },
   {
    "duration": 12,
    "start_time": "2024-05-13T13:00:14.213Z"
   },
   {
    "duration": 27,
    "start_time": "2024-05-13T13:00:14.226Z"
   },
   {
    "duration": 10666,
    "start_time": "2024-05-13T13:00:14.254Z"
   },
   {
    "duration": 16,
    "start_time": "2024-05-13T13:00:24.922Z"
   },
   {
    "duration": 397,
    "start_time": "2024-05-13T13:00:24.939Z"
   },
   {
    "duration": 15,
    "start_time": "2024-05-13T13:00:25.338Z"
   },
   {
    "duration": 376,
    "start_time": "2024-05-13T13:00:25.355Z"
   },
   {
    "duration": 10890,
    "start_time": "2024-05-13T13:00:25.733Z"
   },
   {
    "duration": 13,
    "start_time": "2024-05-13T13:00:36.624Z"
   },
   {
    "duration": 21,
    "start_time": "2024-05-13T13:00:36.638Z"
   },
   {
    "duration": 416,
    "start_time": "2024-05-13T13:00:36.661Z"
   },
   {
    "duration": 10302,
    "start_time": "2024-05-13T13:00:37.078Z"
   },
   {
    "duration": 12,
    "start_time": "2024-05-13T13:00:47.384Z"
   },
   {
    "duration": 264,
    "start_time": "2024-05-13T13:00:47.398Z"
   },
   {
    "duration": 3,
    "start_time": "2024-05-13T13:00:47.663Z"
   },
   {
    "duration": 71,
    "start_time": "2024-05-13T13:00:47.667Z"
   },
   {
    "duration": 237,
    "start_time": "2024-05-13T13:00:47.739Z"
   },
   {
    "duration": 351,
    "start_time": "2024-05-13T13:00:47.977Z"
   },
   {
    "duration": 3,
    "start_time": "2024-05-13T13:00:48.329Z"
   },
   {
    "duration": 91,
    "start_time": "2024-05-13T13:00:48.333Z"
   },
   {
    "duration": 1293,
    "start_time": "2024-05-13T13:00:48.425Z"
   },
   {
    "duration": 0,
    "start_time": "2024-05-13T13:00:49.720Z"
   },
   {
    "duration": 1,
    "start_time": "2024-05-13T13:00:49.721Z"
   },
   {
    "duration": 0,
    "start_time": "2024-05-13T13:00:49.722Z"
   },
   {
    "duration": 0,
    "start_time": "2024-05-13T13:00:49.724Z"
   },
   {
    "duration": 0,
    "start_time": "2024-05-13T13:00:49.725Z"
   },
   {
    "duration": 0,
    "start_time": "2024-05-13T13:00:49.726Z"
   },
   {
    "duration": 0,
    "start_time": "2024-05-13T13:00:49.727Z"
   },
   {
    "duration": 0,
    "start_time": "2024-05-13T13:00:49.727Z"
   },
   {
    "duration": 0,
    "start_time": "2024-05-13T13:00:49.728Z"
   },
   {
    "duration": 0,
    "start_time": "2024-05-13T13:00:49.729Z"
   },
   {
    "duration": 0,
    "start_time": "2024-05-13T13:00:49.730Z"
   },
   {
    "duration": 0,
    "start_time": "2024-05-13T13:00:49.731Z"
   },
   {
    "duration": 0,
    "start_time": "2024-05-13T13:00:49.732Z"
   },
   {
    "duration": 0,
    "start_time": "2024-05-13T13:00:49.733Z"
   },
   {
    "duration": 0,
    "start_time": "2024-05-13T13:00:49.734Z"
   },
   {
    "duration": 0,
    "start_time": "2024-05-13T13:00:49.734Z"
   },
   {
    "duration": 0,
    "start_time": "2024-05-13T13:00:49.735Z"
   },
   {
    "duration": 0,
    "start_time": "2024-05-13T13:00:49.736Z"
   },
   {
    "duration": 0,
    "start_time": "2024-05-13T13:00:49.737Z"
   },
   {
    "duration": 0,
    "start_time": "2024-05-13T13:00:49.738Z"
   },
   {
    "duration": 0,
    "start_time": "2024-05-13T13:00:49.739Z"
   },
   {
    "duration": 0,
    "start_time": "2024-05-13T13:00:49.740Z"
   },
   {
    "duration": 0,
    "start_time": "2024-05-13T13:00:49.741Z"
   },
   {
    "duration": 0,
    "start_time": "2024-05-13T13:00:49.741Z"
   },
   {
    "duration": 0,
    "start_time": "2024-05-13T13:00:49.742Z"
   },
   {
    "duration": 0,
    "start_time": "2024-05-13T13:00:49.785Z"
   },
   {
    "duration": 0,
    "start_time": "2024-05-13T13:00:49.786Z"
   },
   {
    "duration": 0,
    "start_time": "2024-05-13T13:00:49.786Z"
   },
   {
    "duration": 0,
    "start_time": "2024-05-13T13:00:49.787Z"
   },
   {
    "duration": 0,
    "start_time": "2024-05-13T13:00:49.788Z"
   },
   {
    "duration": 0,
    "start_time": "2024-05-13T13:00:49.789Z"
   },
   {
    "duration": 0,
    "start_time": "2024-05-13T13:00:49.790Z"
   },
   {
    "duration": 0,
    "start_time": "2024-05-13T13:00:49.790Z"
   },
   {
    "duration": 0,
    "start_time": "2024-05-13T13:00:49.791Z"
   },
   {
    "duration": 0,
    "start_time": "2024-05-13T13:00:49.792Z"
   },
   {
    "duration": 0,
    "start_time": "2024-05-13T13:00:49.793Z"
   },
   {
    "duration": 0,
    "start_time": "2024-05-13T13:00:49.794Z"
   },
   {
    "duration": 0,
    "start_time": "2024-05-13T13:00:49.795Z"
   },
   {
    "duration": 0,
    "start_time": "2024-05-13T13:00:49.796Z"
   },
   {
    "duration": 0,
    "start_time": "2024-05-13T13:00:49.797Z"
   },
   {
    "duration": 0,
    "start_time": "2024-05-13T13:00:49.797Z"
   },
   {
    "duration": 0,
    "start_time": "2024-05-13T13:00:49.798Z"
   },
   {
    "duration": 0,
    "start_time": "2024-05-13T13:00:49.799Z"
   },
   {
    "duration": 10464,
    "start_time": "2024-05-13T13:01:50.033Z"
   },
   {
    "duration": 1156,
    "start_time": "2024-05-13T13:02:26.323Z"
   },
   {
    "duration": 315,
    "start_time": "2024-05-13T13:02:30.511Z"
   },
   {
    "duration": 1041,
    "start_time": "2024-05-13T13:02:35.735Z"
   },
   {
    "duration": 1247,
    "start_time": "2024-05-13T13:03:29.101Z"
   },
   {
    "duration": 10538,
    "start_time": "2024-05-13T13:04:44.986Z"
   },
   {
    "duration": 2806,
    "start_time": "2024-05-13T13:05:06.576Z"
   },
   {
    "duration": 3165,
    "start_time": "2024-05-13T13:05:09.384Z"
   },
   {
    "duration": 2836,
    "start_time": "2024-05-13T13:05:12.553Z"
   },
   {
    "duration": 3021,
    "start_time": "2024-05-13T13:05:15.392Z"
   },
   {
    "duration": 2750,
    "start_time": "2024-05-13T13:05:18.415Z"
   },
   {
    "duration": 2006,
    "start_time": "2024-05-13T13:05:21.166Z"
   },
   {
    "duration": 3,
    "start_time": "2024-05-13T13:05:23.173Z"
   },
   {
    "duration": 5,
    "start_time": "2024-05-13T13:05:23.177Z"
   },
   {
    "duration": 6,
    "start_time": "2024-05-13T13:05:23.184Z"
   },
   {
    "duration": 720,
    "start_time": "2024-05-13T13:05:23.191Z"
   },
   {
    "duration": 2,
    "start_time": "2024-05-13T13:05:23.913Z"
   },
   {
    "duration": 12,
    "start_time": "2024-05-13T13:05:23.917Z"
   },
   {
    "duration": 25,
    "start_time": "2024-05-13T13:05:23.932Z"
   },
   {
    "duration": 85,
    "start_time": "2024-05-13T13:05:23.958Z"
   },
   {
    "duration": 93,
    "start_time": "2024-05-13T13:05:24.044Z"
   },
   {
    "duration": 2,
    "start_time": "2024-05-13T13:05:24.139Z"
   },
   {
    "duration": 5626,
    "start_time": "2024-05-13T13:05:24.143Z"
   },
   {
    "duration": 3,
    "start_time": "2024-05-13T13:05:29.771Z"
   },
   {
    "duration": 345,
    "start_time": "2024-05-13T13:05:29.775Z"
   },
   {
    "duration": 407,
    "start_time": "2024-05-13T13:05:30.122Z"
   },
   {
    "duration": 364,
    "start_time": "2024-05-13T13:05:30.530Z"
   },
   {
    "duration": 2,
    "start_time": "2024-05-13T13:05:30.896Z"
   },
   {
    "duration": 251,
    "start_time": "2024-05-13T13:05:30.900Z"
   },
   {
    "duration": 2,
    "start_time": "2024-05-13T13:05:31.153Z"
   },
   {
    "duration": 124,
    "start_time": "2024-05-13T13:05:31.157Z"
   },
   {
    "duration": 97,
    "start_time": "2024-05-13T13:05:31.282Z"
   },
   {
    "duration": 106,
    "start_time": "2024-05-13T13:05:31.380Z"
   },
   {
    "duration": 122,
    "start_time": "2024-05-13T13:05:31.488Z"
   },
   {
    "duration": 441,
    "start_time": "2024-05-13T13:05:31.612Z"
   },
   {
    "duration": 20,
    "start_time": "2024-05-13T13:05:32.054Z"
   },
   {
    "duration": 72,
    "start_time": "2024-05-13T13:05:32.084Z"
   },
   {
    "duration": 20,
    "start_time": "2024-05-13T13:05:32.158Z"
   },
   {
    "duration": 23,
    "start_time": "2024-05-13T13:05:32.180Z"
   },
   {
    "duration": 1832,
    "start_time": "2024-05-13T13:05:32.204Z"
   },
   {
    "duration": 13,
    "start_time": "2024-05-13T13:05:34.038Z"
   },
   {
    "duration": 32,
    "start_time": "2024-05-13T13:05:34.052Z"
   },
   {
    "duration": 10953,
    "start_time": "2024-05-13T13:05:34.086Z"
   },
   {
    "duration": 17,
    "start_time": "2024-05-13T13:05:45.041Z"
   },
   {
    "duration": 406,
    "start_time": "2024-05-13T13:05:45.059Z"
   },
   {
    "duration": 24,
    "start_time": "2024-05-13T13:05:45.470Z"
   },
   {
    "duration": 405,
    "start_time": "2024-05-13T13:05:45.495Z"
   },
   {
    "duration": 11530,
    "start_time": "2024-05-13T13:05:45.901Z"
   },
   {
    "duration": 14,
    "start_time": "2024-05-13T13:05:57.432Z"
   },
   {
    "duration": 42,
    "start_time": "2024-05-13T13:05:57.447Z"
   },
   {
    "duration": 488,
    "start_time": "2024-05-13T13:05:57.490Z"
   },
   {
    "duration": 12964,
    "start_time": "2024-05-13T13:05:57.984Z"
   },
   {
    "duration": 12,
    "start_time": "2024-05-13T13:06:10.949Z"
   },
   {
    "duration": 350,
    "start_time": "2024-05-13T13:06:10.963Z"
   },
   {
    "duration": 3,
    "start_time": "2024-05-13T13:06:11.314Z"
   },
   {
    "duration": 52,
    "start_time": "2024-05-13T13:06:11.318Z"
   },
   {
    "duration": 254,
    "start_time": "2024-05-13T13:06:11.371Z"
   },
   {
    "duration": 367,
    "start_time": "2024-05-13T13:06:11.626Z"
   },
   {
    "duration": 3,
    "start_time": "2024-05-13T13:06:11.994Z"
   },
   {
    "duration": 54,
    "start_time": "2024-05-13T13:06:11.998Z"
   },
   {
    "duration": 2,
    "start_time": "2024-05-13T13:06:12.054Z"
   },
   {
    "duration": 10732,
    "start_time": "2024-05-13T13:06:12.057Z"
   },
   {
    "duration": 2,
    "start_time": "2024-05-13T13:06:22.791Z"
   },
   {
    "duration": 64,
    "start_time": "2024-05-13T13:06:22.794Z"
   },
   {
    "duration": 3,
    "start_time": "2024-05-13T13:06:22.859Z"
   },
   {
    "duration": 73,
    "start_time": "2024-05-13T13:06:22.863Z"
   },
   {
    "duration": 1080,
    "start_time": "2024-05-13T13:06:22.937Z"
   },
   {
    "duration": 13,
    "start_time": "2024-05-13T13:06:24.019Z"
   },
   {
    "duration": 462,
    "start_time": "2024-05-13T13:06:24.033Z"
   },
   {
    "duration": 1227,
    "start_time": "2024-05-13T13:06:24.497Z"
   },
   {
    "duration": 176,
    "start_time": "2024-05-13T13:06:25.726Z"
   },
   {
    "duration": 15,
    "start_time": "2024-05-13T13:06:25.904Z"
   },
   {
    "duration": 139,
    "start_time": "2024-05-13T13:06:25.921Z"
   },
   {
    "duration": 3,
    "start_time": "2024-05-13T13:06:26.062Z"
   },
   {
    "duration": 54,
    "start_time": "2024-05-13T13:06:26.067Z"
   },
   {
    "duration": 3,
    "start_time": "2024-05-13T13:06:26.122Z"
   },
   {
    "duration": 5,
    "start_time": "2024-05-13T13:06:26.126Z"
   },
   {
    "duration": 72,
    "start_time": "2024-05-13T13:06:26.132Z"
   },
   {
    "duration": 91,
    "start_time": "2024-05-13T13:06:26.205Z"
   },
   {
    "duration": 91,
    "start_time": "2024-05-13T13:06:26.297Z"
   },
   {
    "duration": 3,
    "start_time": "2024-05-13T13:06:26.389Z"
   },
   {
    "duration": 7,
    "start_time": "2024-05-13T13:06:26.393Z"
   },
   {
    "duration": 8,
    "start_time": "2024-05-13T13:06:26.401Z"
   },
   {
    "duration": 65,
    "start_time": "2024-05-13T13:06:26.410Z"
   },
   {
    "duration": 50,
    "start_time": "2024-05-13T13:06:26.477Z"
   },
   {
    "duration": 3,
    "start_time": "2024-05-13T13:06:26.528Z"
   },
   {
    "duration": 7,
    "start_time": "2024-05-13T13:06:26.532Z"
   },
   {
    "duration": 11,
    "start_time": "2024-05-13T13:06:26.541Z"
   },
   {
    "duration": 4,
    "start_time": "2024-05-13T13:06:26.553Z"
   },
   {
    "duration": 6,
    "start_time": "2024-05-13T13:06:26.559Z"
   },
   {
    "duration": 10,
    "start_time": "2024-05-13T13:06:26.567Z"
   },
   {
    "duration": 37488,
    "start_time": "2024-05-13T13:06:26.578Z"
   },
   {
    "duration": 3,
    "start_time": "2024-05-13T13:07:04.068Z"
   },
   {
    "duration": 18,
    "start_time": "2024-05-13T13:07:04.072Z"
   },
   {
    "duration": 26,
    "start_time": "2024-05-13T13:07:04.091Z"
   },
   {
    "duration": 6,
    "start_time": "2024-05-13T13:07:04.119Z"
   },
   {
    "duration": 4,
    "start_time": "2024-05-13T13:07:04.126Z"
   },
   {
    "duration": 3,
    "start_time": "2024-05-13T13:07:04.132Z"
   },
   {
    "duration": 69,
    "start_time": "2024-05-13T13:07:04.136Z"
   },
   {
    "duration": 32,
    "start_time": "2024-05-13T13:07:04.206Z"
   },
   {
    "duration": 665646,
    "start_time": "2024-05-13T13:07:04.239Z"
   },
   {
    "duration": 2,
    "start_time": "2024-05-13T13:18:09.886Z"
   },
   {
    "duration": 15,
    "start_time": "2024-05-13T13:18:09.890Z"
   },
   {
    "duration": 4,
    "start_time": "2024-05-13T13:18:09.907Z"
   },
   {
    "duration": 3,
    "start_time": "2024-05-13T13:20:35.313Z"
   },
   {
    "duration": 6,
    "start_time": "2024-05-13T13:20:35.317Z"
   },
   {
    "duration": 9,
    "start_time": "2024-05-13T13:20:35.324Z"
   },
   {
    "duration": 20,
    "start_time": "2024-05-13T13:20:35.335Z"
   },
   {
    "duration": 24,
    "start_time": "2024-05-13T13:20:35.356Z"
   },
   {
    "duration": 1932,
    "start_time": "2024-05-13T13:20:35.381Z"
   },
   {
    "duration": 2,
    "start_time": "2024-05-13T13:20:37.315Z"
   },
   {
    "duration": 15,
    "start_time": "2024-05-13T13:20:37.318Z"
   },
   {
    "duration": 43,
    "start_time": "2024-05-13T13:20:37.334Z"
   },
   {
    "duration": 687,
    "start_time": "2024-05-13T13:20:37.379Z"
   },
   {
    "duration": 3,
    "start_time": "2024-05-13T13:20:38.067Z"
   },
   {
    "duration": 23,
    "start_time": "2024-05-13T13:20:38.071Z"
   },
   {
    "duration": 14,
    "start_time": "2024-05-13T13:20:38.095Z"
   },
   {
    "duration": 81,
    "start_time": "2024-05-13T13:20:38.110Z"
   },
   {
    "duration": 91,
    "start_time": "2024-05-13T13:20:38.193Z"
   },
   {
    "duration": 3,
    "start_time": "2024-05-13T13:20:38.285Z"
   },
   {
    "duration": 5320,
    "start_time": "2024-05-13T13:20:38.289Z"
   },
   {
    "duration": 3,
    "start_time": "2024-05-13T13:20:43.610Z"
   },
   {
    "duration": 326,
    "start_time": "2024-05-13T13:20:43.614Z"
   },
   {
    "duration": 364,
    "start_time": "2024-05-13T13:20:43.941Z"
   },
   {
    "duration": 342,
    "start_time": "2024-05-13T13:20:44.307Z"
   },
   {
    "duration": 3,
    "start_time": "2024-05-13T13:20:44.650Z"
   },
   {
    "duration": 185,
    "start_time": "2024-05-13T13:20:44.654Z"
   },
   {
    "duration": 3,
    "start_time": "2024-05-13T13:20:44.840Z"
   },
   {
    "duration": 49,
    "start_time": "2024-05-13T13:20:44.844Z"
   },
   {
    "duration": 24,
    "start_time": "2024-05-13T13:20:44.894Z"
   },
   {
    "duration": 29,
    "start_time": "2024-05-13T13:20:44.919Z"
   },
   {
    "duration": 16,
    "start_time": "2024-05-13T13:20:44.951Z"
   },
   {
    "duration": 372,
    "start_time": "2024-05-13T13:20:44.968Z"
   },
   {
    "duration": 21,
    "start_time": "2024-05-13T13:20:45.341Z"
   },
   {
    "duration": 60,
    "start_time": "2024-05-13T13:20:45.364Z"
   },
   {
    "duration": 16,
    "start_time": "2024-05-13T13:20:45.426Z"
   },
   {
    "duration": 22,
    "start_time": "2024-05-13T13:20:45.444Z"
   },
   {
    "duration": 1725,
    "start_time": "2024-05-13T13:20:45.467Z"
   },
   {
    "duration": 12,
    "start_time": "2024-05-13T13:20:47.193Z"
   },
   {
    "duration": 31,
    "start_time": "2024-05-13T13:20:47.206Z"
   },
   {
    "duration": 10562,
    "start_time": "2024-05-13T13:20:47.238Z"
   },
   {
    "duration": 16,
    "start_time": "2024-05-13T13:20:57.802Z"
   },
   {
    "duration": 420,
    "start_time": "2024-05-13T13:20:57.820Z"
   },
   {
    "duration": 15,
    "start_time": "2024-05-13T13:20:58.241Z"
   },
   {
    "duration": 376,
    "start_time": "2024-05-13T13:20:58.257Z"
   },
   {
    "duration": 10679,
    "start_time": "2024-05-13T13:20:58.634Z"
   },
   {
    "duration": 13,
    "start_time": "2024-05-13T13:21:09.314Z"
   },
   {
    "duration": 25,
    "start_time": "2024-05-13T13:21:09.328Z"
   },
   {
    "duration": 396,
    "start_time": "2024-05-13T13:21:09.355Z"
   },
   {
    "duration": 10137,
    "start_time": "2024-05-13T13:21:09.752Z"
   },
   {
    "duration": 11,
    "start_time": "2024-05-13T13:21:19.890Z"
   },
   {
    "duration": 336,
    "start_time": "2024-05-13T13:21:19.903Z"
   },
   {
    "duration": 4,
    "start_time": "2024-05-13T13:21:20.240Z"
   },
   {
    "duration": 55,
    "start_time": "2024-05-13T13:21:20.245Z"
   },
   {
    "duration": 243,
    "start_time": "2024-05-13T13:21:20.301Z"
   },
   {
    "duration": 339,
    "start_time": "2024-05-13T13:21:20.546Z"
   },
   {
    "duration": 3,
    "start_time": "2024-05-13T13:21:20.886Z"
   },
   {
    "duration": 53,
    "start_time": "2024-05-13T13:21:20.890Z"
   },
   {
    "duration": 2,
    "start_time": "2024-05-13T13:21:20.944Z"
   },
   {
    "duration": 9449,
    "start_time": "2024-05-13T13:21:20.948Z"
   },
   {
    "duration": 3,
    "start_time": "2024-05-13T13:21:30.398Z"
   },
   {
    "duration": 182,
    "start_time": "2024-05-13T13:21:30.402Z"
   },
   {
    "duration": 48,
    "start_time": "2024-05-13T13:21:30.585Z"
   },
   {
    "duration": 129,
    "start_time": "2024-05-13T13:21:30.634Z"
   },
   {
    "duration": 1027,
    "start_time": "2024-05-13T13:21:30.764Z"
   },
   {
    "duration": 11,
    "start_time": "2024-05-13T13:21:31.793Z"
   },
   {
    "duration": 505,
    "start_time": "2024-05-13T13:21:31.805Z"
   },
   {
    "duration": 1138,
    "start_time": "2024-05-13T13:21:32.312Z"
   },
   {
    "duration": 180,
    "start_time": "2024-05-13T13:21:33.451Z"
   },
   {
    "duration": 15,
    "start_time": "2024-05-13T13:21:33.633Z"
   },
   {
    "duration": 129,
    "start_time": "2024-05-13T13:21:33.649Z"
   },
   {
    "duration": 7,
    "start_time": "2024-05-13T13:21:33.780Z"
   },
   {
    "duration": 62,
    "start_time": "2024-05-13T13:21:33.788Z"
   },
   {
    "duration": 2,
    "start_time": "2024-05-13T13:21:33.852Z"
   },
   {
    "duration": 12,
    "start_time": "2024-05-13T13:21:33.856Z"
   },
   {
    "duration": 70,
    "start_time": "2024-05-13T13:21:33.870Z"
   },
   {
    "duration": 82,
    "start_time": "2024-05-13T13:21:33.941Z"
   },
   {
    "duration": 82,
    "start_time": "2024-05-13T13:21:34.025Z"
   },
   {
    "duration": 3,
    "start_time": "2024-05-13T13:21:34.109Z"
   },
   {
    "duration": 22,
    "start_time": "2024-05-13T13:21:34.113Z"
   },
   {
    "duration": 29,
    "start_time": "2024-05-13T13:21:34.137Z"
   },
   {
    "duration": 73,
    "start_time": "2024-05-13T13:21:34.167Z"
   },
   {
    "duration": 36,
    "start_time": "2024-05-13T13:21:34.241Z"
   },
   {
    "duration": 11,
    "start_time": "2024-05-13T13:21:34.278Z"
   },
   {
    "duration": 31,
    "start_time": "2024-05-13T13:21:34.290Z"
   },
   {
    "duration": 29,
    "start_time": "2024-05-13T13:21:34.326Z"
   },
   {
    "duration": 19,
    "start_time": "2024-05-13T13:21:34.356Z"
   },
   {
    "duration": 19,
    "start_time": "2024-05-13T13:21:34.376Z"
   },
   {
    "duration": 18,
    "start_time": "2024-05-13T13:21:34.396Z"
   },
   {
    "duration": 4525,
    "start_time": "2024-05-13T13:21:34.415Z"
   },
   {
    "duration": 0,
    "start_time": "2024-05-13T13:21:38.941Z"
   },
   {
    "duration": 0,
    "start_time": "2024-05-13T13:21:38.942Z"
   },
   {
    "duration": 0,
    "start_time": "2024-05-13T13:21:38.943Z"
   },
   {
    "duration": 0,
    "start_time": "2024-05-13T13:21:38.944Z"
   },
   {
    "duration": 0,
    "start_time": "2024-05-13T13:21:38.944Z"
   },
   {
    "duration": 0,
    "start_time": "2024-05-13T13:21:38.945Z"
   },
   {
    "duration": 0,
    "start_time": "2024-05-13T13:21:38.946Z"
   },
   {
    "duration": 0,
    "start_time": "2024-05-13T13:21:38.947Z"
   },
   {
    "duration": 0,
    "start_time": "2024-05-13T13:21:38.948Z"
   },
   {
    "duration": 0,
    "start_time": "2024-05-13T13:21:38.948Z"
   },
   {
    "duration": 0,
    "start_time": "2024-05-13T13:21:38.949Z"
   },
   {
    "duration": 0,
    "start_time": "2024-05-13T13:21:38.950Z"
   },
   {
    "duration": 3,
    "start_time": "2024-05-13T13:23:47.972Z"
   },
   {
    "duration": 2,
    "start_time": "2024-05-13T13:23:48.650Z"
   },
   {
    "duration": 2,
    "start_time": "2024-05-13T13:23:50.073Z"
   },
   {
    "duration": 47,
    "start_time": "2024-05-13T13:23:50.484Z"
   },
   {
    "duration": 37,
    "start_time": "2024-05-13T13:23:50.848Z"
   },
   {
    "duration": 3,
    "start_time": "2024-05-13T13:23:54.516Z"
   },
   {
    "duration": 2,
    "start_time": "2024-05-13T13:23:54.808Z"
   },
   {
    "duration": 2,
    "start_time": "2024-05-13T13:23:55.837Z"
   },
   {
    "duration": 2,
    "start_time": "2024-05-13T13:23:56.179Z"
   },
   {
    "duration": 2,
    "start_time": "2024-05-13T13:23:56.560Z"
   },
   {
    "duration": 3,
    "start_time": "2024-05-13T13:23:57.722Z"
   },
   {
    "duration": 364,
    "start_time": "2024-05-13T13:23:58.311Z"
   },
   {
    "duration": 37,
    "start_time": "2024-05-13T13:24:13.170Z"
   },
   {
    "duration": 3,
    "start_time": "2024-05-13T13:24:23.906Z"
   },
   {
    "duration": 5,
    "start_time": "2024-05-13T13:24:23.910Z"
   },
   {
    "duration": 3,
    "start_time": "2024-05-13T13:24:23.916Z"
   },
   {
    "duration": 5,
    "start_time": "2024-05-13T13:24:23.920Z"
   },
   {
    "duration": 3,
    "start_time": "2024-05-13T13:24:23.927Z"
   },
   {
    "duration": 1879,
    "start_time": "2024-05-13T13:24:23.931Z"
   },
   {
    "duration": 2,
    "start_time": "2024-05-13T13:24:25.812Z"
   },
   {
    "duration": 33,
    "start_time": "2024-05-13T13:24:25.815Z"
   },
   {
    "duration": 9,
    "start_time": "2024-05-13T13:24:25.850Z"
   },
   {
    "duration": 678,
    "start_time": "2024-05-13T13:24:25.861Z"
   },
   {
    "duration": 2,
    "start_time": "2024-05-13T13:24:26.540Z"
   },
   {
    "duration": 7,
    "start_time": "2024-05-13T13:24:26.543Z"
   },
   {
    "duration": 19,
    "start_time": "2024-05-13T13:24:26.551Z"
   },
   {
    "duration": 90,
    "start_time": "2024-05-13T13:24:26.572Z"
   },
   {
    "duration": 100,
    "start_time": "2024-05-13T13:24:26.663Z"
   },
   {
    "duration": 26,
    "start_time": "2024-05-13T13:24:26.765Z"
   },
   {
    "duration": 5285,
    "start_time": "2024-05-13T13:24:26.792Z"
   },
   {
    "duration": 3,
    "start_time": "2024-05-13T13:24:32.078Z"
   },
   {
    "duration": 349,
    "start_time": "2024-05-13T13:24:32.082Z"
   },
   {
    "duration": 471,
    "start_time": "2024-05-13T13:24:32.432Z"
   },
   {
    "duration": 330,
    "start_time": "2024-05-13T13:24:32.904Z"
   },
   {
    "duration": 2,
    "start_time": "2024-05-13T13:24:33.235Z"
   },
   {
    "duration": 181,
    "start_time": "2024-05-13T13:24:33.238Z"
   },
   {
    "duration": 3,
    "start_time": "2024-05-13T13:24:33.421Z"
   },
   {
    "duration": 23,
    "start_time": "2024-05-13T13:24:33.426Z"
   },
   {
    "duration": 24,
    "start_time": "2024-05-13T13:24:33.450Z"
   },
   {
    "duration": 16,
    "start_time": "2024-05-13T13:24:33.475Z"
   },
   {
    "duration": 12,
    "start_time": "2024-05-13T13:24:33.492Z"
   },
   {
    "duration": 369,
    "start_time": "2024-05-13T13:24:33.506Z"
   },
   {
    "duration": 25,
    "start_time": "2024-05-13T13:24:33.877Z"
   },
   {
    "duration": 17,
    "start_time": "2024-05-13T13:24:33.903Z"
   },
   {
    "duration": 16,
    "start_time": "2024-05-13T13:24:33.922Z"
   },
   {
    "duration": 19,
    "start_time": "2024-05-13T13:24:33.939Z"
   },
   {
    "duration": 1736,
    "start_time": "2024-05-13T13:24:33.960Z"
   },
   {
    "duration": 12,
    "start_time": "2024-05-13T13:24:35.697Z"
   },
   {
    "duration": 42,
    "start_time": "2024-05-13T13:24:35.710Z"
   },
   {
    "duration": 10442,
    "start_time": "2024-05-13T13:24:35.753Z"
   },
   {
    "duration": 18,
    "start_time": "2024-05-13T13:24:46.196Z"
   },
   {
    "duration": 390,
    "start_time": "2024-05-13T13:24:46.215Z"
   },
   {
    "duration": 15,
    "start_time": "2024-05-13T13:24:46.607Z"
   },
   {
    "duration": 371,
    "start_time": "2024-05-13T13:24:46.627Z"
   },
   {
    "duration": 11268,
    "start_time": "2024-05-13T13:24:47.000Z"
   },
   {
    "duration": 17,
    "start_time": "2024-05-13T13:24:58.269Z"
   },
   {
    "duration": 21,
    "start_time": "2024-05-13T13:24:58.288Z"
   },
   {
    "duration": 419,
    "start_time": "2024-05-13T13:24:58.310Z"
   },
   {
    "duration": 10183,
    "start_time": "2024-05-13T13:24:58.730Z"
   },
   {
    "duration": 11,
    "start_time": "2024-05-13T13:25:08.914Z"
   },
   {
    "duration": 344,
    "start_time": "2024-05-13T13:25:08.926Z"
   },
   {
    "duration": 2,
    "start_time": "2024-05-13T13:25:09.272Z"
   },
   {
    "duration": 51,
    "start_time": "2024-05-13T13:25:09.275Z"
   },
   {
    "duration": 244,
    "start_time": "2024-05-13T13:25:09.327Z"
   },
   {
    "duration": 350,
    "start_time": "2024-05-13T13:25:09.573Z"
   },
   {
    "duration": 3,
    "start_time": "2024-05-13T13:25:09.924Z"
   },
   {
    "duration": 64,
    "start_time": "2024-05-13T13:25:09.928Z"
   },
   {
    "duration": 2,
    "start_time": "2024-05-13T13:25:09.993Z"
   },
   {
    "duration": 10183,
    "start_time": "2024-05-13T13:25:09.996Z"
   },
   {
    "duration": 3,
    "start_time": "2024-05-13T13:25:20.184Z"
   },
   {
    "duration": 75,
    "start_time": "2024-05-13T13:25:20.189Z"
   },
   {
    "duration": 3,
    "start_time": "2024-05-13T13:25:20.265Z"
   },
   {
    "duration": 52,
    "start_time": "2024-05-13T13:25:20.269Z"
   },
   {
    "duration": 1042,
    "start_time": "2024-05-13T13:25:20.322Z"
   },
   {
    "duration": 11,
    "start_time": "2024-05-13T13:25:21.365Z"
   },
   {
    "duration": 409,
    "start_time": "2024-05-13T13:25:21.384Z"
   },
   {
    "duration": 1175,
    "start_time": "2024-05-13T13:25:21.794Z"
   },
   {
    "duration": 170,
    "start_time": "2024-05-13T13:25:22.971Z"
   },
   {
    "duration": 14,
    "start_time": "2024-05-13T13:25:23.143Z"
   },
   {
    "duration": 121,
    "start_time": "2024-05-13T13:25:23.158Z"
   },
   {
    "duration": 2,
    "start_time": "2024-05-13T13:25:23.285Z"
   },
   {
    "duration": 53,
    "start_time": "2024-05-13T13:25:23.288Z"
   },
   {
    "duration": 3,
    "start_time": "2024-05-13T13:25:23.342Z"
   },
   {
    "duration": 5,
    "start_time": "2024-05-13T13:25:23.346Z"
   },
   {
    "duration": 60,
    "start_time": "2024-05-13T13:25:23.352Z"
   },
   {
    "duration": 81,
    "start_time": "2024-05-13T13:25:23.414Z"
   },
   {
    "duration": 78,
    "start_time": "2024-05-13T13:25:23.497Z"
   },
   {
    "duration": 2,
    "start_time": "2024-05-13T13:25:23.576Z"
   },
   {
    "duration": 7,
    "start_time": "2024-05-13T13:25:23.584Z"
   },
   {
    "duration": 21,
    "start_time": "2024-05-13T13:25:23.592Z"
   },
   {
    "duration": 66,
    "start_time": "2024-05-13T13:25:23.614Z"
   },
   {
    "duration": 37,
    "start_time": "2024-05-13T13:25:23.681Z"
   },
   {
    "duration": 3,
    "start_time": "2024-05-13T13:25:23.719Z"
   },
   {
    "duration": 19,
    "start_time": "2024-05-13T13:25:23.723Z"
   },
   {
    "duration": 20,
    "start_time": "2024-05-13T13:25:23.743Z"
   },
   {
    "duration": 19,
    "start_time": "2024-05-13T13:25:23.765Z"
   },
   {
    "duration": 11,
    "start_time": "2024-05-13T13:25:23.786Z"
   },
   {
    "duration": 16,
    "start_time": "2024-05-13T13:25:23.798Z"
   },
   {
    "duration": 28414,
    "start_time": "2024-05-13T13:25:23.815Z"
   },
   {
    "duration": 2,
    "start_time": "2024-05-13T13:25:52.231Z"
   },
   {
    "duration": 22,
    "start_time": "2024-05-13T13:25:52.234Z"
   },
   {
    "duration": 26,
    "start_time": "2024-05-13T13:25:52.258Z"
   },
   {
    "duration": 32,
    "start_time": "2024-05-13T13:25:52.285Z"
   },
   {
    "duration": 21,
    "start_time": "2024-05-13T13:25:52.319Z"
   },
   {
    "duration": 9,
    "start_time": "2024-05-13T13:25:52.341Z"
   },
   {
    "duration": 48,
    "start_time": "2024-05-13T13:25:52.352Z"
   },
   {
    "duration": 18,
    "start_time": "2024-05-13T13:25:52.401Z"
   },
   {
    "duration": 35032,
    "start_time": "2024-05-13T13:25:52.420Z"
   },
   {
    "duration": 0,
    "start_time": "2024-05-13T13:26:27.454Z"
   },
   {
    "duration": 0,
    "start_time": "2024-05-13T13:26:27.455Z"
   },
   {
    "duration": 0,
    "start_time": "2024-05-13T13:26:27.456Z"
   },
   {
    "duration": 2,
    "start_time": "2024-05-13T13:26:44.477Z"
   },
   {
    "duration": 3776026,
    "start_time": "2024-05-13T13:26:47.678Z"
   },
   {
    "duration": 3,
    "start_time": "2024-05-13T16:00:48.879Z"
   },
   {
    "duration": 4,
    "start_time": "2024-05-13T16:00:49.325Z"
   },
   {
    "duration": 2,
    "start_time": "2024-05-13T16:14:21.482Z"
   },
   {
    "duration": 3,
    "start_time": "2024-05-13T16:14:22.368Z"
   },
   {
    "duration": 2,
    "start_time": "2024-05-13T16:14:23.239Z"
   },
   {
    "duration": 3,
    "start_time": "2024-05-13T16:14:25.377Z"
   },
   {
    "duration": 3,
    "start_time": "2024-05-13T16:14:33.782Z"
   },
   {
    "duration": 3,
    "start_time": "2024-05-13T16:14:34.625Z"
   },
   {
    "duration": 3,
    "start_time": "2024-05-13T16:14:34.873Z"
   },
   {
    "duration": 3,
    "start_time": "2024-05-13T16:14:35.476Z"
   },
   {
    "duration": 26435,
    "start_time": "2024-05-13T16:14:36.867Z"
   },
   {
    "duration": 2,
    "start_time": "2024-05-13T16:15:06.888Z"
   },
   {
    "duration": 2,
    "start_time": "2024-05-13T16:15:07.815Z"
   },
   {
    "duration": 2,
    "start_time": "2024-05-13T16:15:08.087Z"
   },
   {
    "duration": 2,
    "start_time": "2024-05-13T16:15:08.802Z"
   },
   {
    "duration": 2906559,
    "start_time": "2024-05-13T16:15:09.840Z"
   },
   {
    "duration": 5,
    "start_time": "2024-05-13T17:13:22.168Z"
   },
   {
    "duration": 2,
    "start_time": "2024-05-13T17:14:29.465Z"
   },
   {
    "duration": 3,
    "start_time": "2024-05-13T17:14:43.281Z"
   },
   {
    "duration": 12,
    "start_time": "2024-05-13T17:14:43.285Z"
   },
   {
    "duration": 21,
    "start_time": "2024-05-13T17:14:43.298Z"
   },
   {
    "duration": 20,
    "start_time": "2024-05-13T17:14:43.320Z"
   },
   {
    "duration": 24,
    "start_time": "2024-05-13T17:14:43.341Z"
   },
   {
    "duration": 2356,
    "start_time": "2024-05-13T17:14:43.366Z"
   },
   {
    "duration": 2,
    "start_time": "2024-05-13T17:14:45.723Z"
   },
   {
    "duration": 58,
    "start_time": "2024-05-13T17:14:45.726Z"
   },
   {
    "duration": 5,
    "start_time": "2024-05-13T17:14:45.787Z"
   },
   {
    "duration": 868,
    "start_time": "2024-05-13T17:14:45.794Z"
   },
   {
    "duration": 2,
    "start_time": "2024-05-13T17:14:46.664Z"
   },
   {
    "duration": 8,
    "start_time": "2024-05-13T17:14:46.667Z"
   },
   {
    "duration": 21,
    "start_time": "2024-05-13T17:14:46.676Z"
   },
   {
    "duration": 95,
    "start_time": "2024-05-13T17:14:46.698Z"
   },
   {
    "duration": 95,
    "start_time": "2024-05-13T17:14:46.794Z"
   },
   {
    "duration": 2,
    "start_time": "2024-05-13T17:14:46.891Z"
   },
   {
    "duration": 5531,
    "start_time": "2024-05-13T17:14:46.894Z"
   },
   {
    "duration": 2,
    "start_time": "2024-05-13T17:14:52.427Z"
   },
   {
    "duration": 383,
    "start_time": "2024-05-13T17:14:52.430Z"
   },
   {
    "duration": 383,
    "start_time": "2024-05-13T17:14:52.814Z"
   },
   {
    "duration": 346,
    "start_time": "2024-05-13T17:14:53.198Z"
   },
   {
    "duration": 2,
    "start_time": "2024-05-13T17:14:53.545Z"
   },
   {
    "duration": 210,
    "start_time": "2024-05-13T17:14:53.549Z"
   },
   {
    "duration": 4,
    "start_time": "2024-05-13T17:14:53.762Z"
   },
   {
    "duration": 38,
    "start_time": "2024-05-13T17:14:53.767Z"
   },
   {
    "duration": 45,
    "start_time": "2024-05-13T17:14:53.806Z"
   },
   {
    "duration": 34,
    "start_time": "2024-05-13T17:14:53.853Z"
   },
   {
    "duration": 40,
    "start_time": "2024-05-13T17:14:53.888Z"
   },
   {
    "duration": 391,
    "start_time": "2024-05-13T17:14:53.930Z"
   },
   {
    "duration": 21,
    "start_time": "2024-05-13T17:14:54.323Z"
   },
   {
    "duration": 68,
    "start_time": "2024-05-13T17:14:54.346Z"
   },
   {
    "duration": 74,
    "start_time": "2024-05-13T17:14:54.415Z"
   },
   {
    "duration": 57,
    "start_time": "2024-05-13T17:14:54.491Z"
   },
   {
    "duration": 1802,
    "start_time": "2024-05-13T17:14:54.549Z"
   },
   {
    "duration": 12,
    "start_time": "2024-05-13T17:14:56.352Z"
   },
   {
    "duration": 62,
    "start_time": "2024-05-13T17:14:56.365Z"
   },
   {
    "duration": 11087,
    "start_time": "2024-05-13T17:14:56.428Z"
   },
   {
    "duration": 19,
    "start_time": "2024-05-13T17:15:07.516Z"
   },
   {
    "duration": 407,
    "start_time": "2024-05-13T17:15:07.536Z"
   },
   {
    "duration": 16,
    "start_time": "2024-05-13T17:15:07.944Z"
   },
   {
    "duration": 396,
    "start_time": "2024-05-13T17:15:07.961Z"
   },
   {
    "duration": 11082,
    "start_time": "2024-05-13T17:15:08.358Z"
   },
   {
    "duration": 12,
    "start_time": "2024-05-13T17:15:19.441Z"
   },
   {
    "duration": 30,
    "start_time": "2024-05-13T17:15:19.455Z"
   },
   {
    "duration": 424,
    "start_time": "2024-05-13T17:15:19.486Z"
   },
   {
    "duration": 10401,
    "start_time": "2024-05-13T17:15:19.912Z"
   },
   {
    "duration": 12,
    "start_time": "2024-05-13T17:15:30.315Z"
   },
   {
    "duration": 331,
    "start_time": "2024-05-13T17:15:30.328Z"
   },
   {
    "duration": 4,
    "start_time": "2024-05-13T17:15:30.660Z"
   },
   {
    "duration": 88,
    "start_time": "2024-05-13T17:15:30.665Z"
   },
   {
    "duration": 233,
    "start_time": "2024-05-13T17:15:30.754Z"
   },
   {
    "duration": 337,
    "start_time": "2024-05-13T17:15:30.988Z"
   },
   {
    "duration": 2,
    "start_time": "2024-05-13T17:15:31.326Z"
   },
   {
    "duration": 60,
    "start_time": "2024-05-13T17:15:31.330Z"
   },
   {
    "duration": 2,
    "start_time": "2024-05-13T17:15:31.391Z"
   },
   {
    "duration": 9283,
    "start_time": "2024-05-13T17:15:31.394Z"
   },
   {
    "duration": 7,
    "start_time": "2024-05-13T17:15:40.679Z"
   },
   {
    "duration": 52,
    "start_time": "2024-05-13T17:15:40.688Z"
   },
   {
    "duration": 4,
    "start_time": "2024-05-13T17:15:40.741Z"
   },
   {
    "duration": 65,
    "start_time": "2024-05-13T17:15:40.747Z"
   },
   {
    "duration": 1048,
    "start_time": "2024-05-13T17:15:40.813Z"
   },
   {
    "duration": 12,
    "start_time": "2024-05-13T17:15:41.862Z"
   },
   {
    "duration": 426,
    "start_time": "2024-05-13T17:15:41.884Z"
   },
   {
    "duration": 1142,
    "start_time": "2024-05-13T17:15:42.311Z"
   },
   {
    "duration": 175,
    "start_time": "2024-05-13T17:15:43.455Z"
   },
   {
    "duration": 16,
    "start_time": "2024-05-13T17:15:43.632Z"
   },
   {
    "duration": 125,
    "start_time": "2024-05-13T17:15:43.649Z"
   },
   {
    "duration": 3,
    "start_time": "2024-05-13T17:15:43.775Z"
   },
   {
    "duration": 41,
    "start_time": "2024-05-13T17:15:43.787Z"
   },
   {
    "duration": 2,
    "start_time": "2024-05-13T17:15:43.830Z"
   },
   {
    "duration": 7,
    "start_time": "2024-05-13T17:15:43.833Z"
   },
   {
    "duration": 65,
    "start_time": "2024-05-13T17:15:43.841Z"
   },
   {
    "duration": 81,
    "start_time": "2024-05-13T17:15:43.908Z"
   },
   {
    "duration": 76,
    "start_time": "2024-05-13T17:15:43.990Z"
   },
   {
    "duration": 2,
    "start_time": "2024-05-13T17:15:44.068Z"
   },
   {
    "duration": 14,
    "start_time": "2024-05-13T17:15:44.071Z"
   },
   {
    "duration": 4,
    "start_time": "2024-05-13T17:15:44.086Z"
   },
   {
    "duration": 51,
    "start_time": "2024-05-13T17:15:44.091Z"
   },
   {
    "duration": 44,
    "start_time": "2024-05-13T17:15:44.144Z"
   },
   {
    "duration": 3,
    "start_time": "2024-05-13T17:15:44.189Z"
   },
   {
    "duration": 12,
    "start_time": "2024-05-13T17:15:44.193Z"
   },
   {
    "duration": 3,
    "start_time": "2024-05-13T17:15:44.206Z"
   },
   {
    "duration": 3,
    "start_time": "2024-05-13T17:15:44.210Z"
   },
   {
    "duration": 12,
    "start_time": "2024-05-13T17:15:44.214Z"
   },
   {
    "duration": 4,
    "start_time": "2024-05-13T17:15:44.227Z"
   },
   {
    "duration": 27859,
    "start_time": "2024-05-13T17:15:44.231Z"
   },
   {
    "duration": 2,
    "start_time": "2024-05-13T17:16:12.092Z"
   },
   {
    "duration": 24,
    "start_time": "2024-05-13T17:16:12.095Z"
   },
   {
    "duration": 4,
    "start_time": "2024-05-13T17:16:12.121Z"
   },
   {
    "duration": 5,
    "start_time": "2024-05-13T17:16:12.127Z"
   },
   {
    "duration": 9,
    "start_time": "2024-05-13T17:16:12.133Z"
   },
   {
    "duration": 12,
    "start_time": "2024-05-13T17:16:12.144Z"
   },
   {
    "duration": 65,
    "start_time": "2024-05-13T17:16:12.157Z"
   },
   {
    "duration": 18,
    "start_time": "2024-05-13T17:16:12.223Z"
   },
   {
    "duration": 2,
    "start_time": "2024-05-13T17:16:12.242Z"
   },
   {
    "duration": 11,
    "start_time": "2024-05-13T17:16:12.246Z"
   },
   {
    "duration": 18,
    "start_time": "2024-05-13T17:16:12.259Z"
   },
   {
    "duration": 16,
    "start_time": "2024-05-13T17:16:12.278Z"
   },
   {
    "duration": 58,
    "start_time": "2024-05-13T17:22:06.479Z"
   },
   {
    "duration": 17,
    "start_time": "2024-05-13T17:25:42.256Z"
   },
   {
    "duration": 99,
    "start_time": "2024-05-13T17:26:00.853Z"
   },
   {
    "duration": 167,
    "start_time": "2024-05-13T17:26:26.869Z"
   },
   {
    "duration": 92,
    "start_time": "2024-05-13T17:26:38.452Z"
   },
   {
    "duration": 33,
    "start_time": "2024-05-13T17:26:45.084Z"
   },
   {
    "duration": 3,
    "start_time": "2024-05-13T17:27:03.614Z"
   },
   {
    "duration": 3,
    "start_time": "2024-05-13T17:27:03.619Z"
   },
   {
    "duration": 5,
    "start_time": "2024-05-13T17:27:03.623Z"
   },
   {
    "duration": 10,
    "start_time": "2024-05-13T17:27:03.629Z"
   },
   {
    "duration": 3,
    "start_time": "2024-05-13T17:27:03.641Z"
   },
   {
    "duration": 2083,
    "start_time": "2024-05-13T17:27:03.646Z"
   },
   {
    "duration": 2,
    "start_time": "2024-05-13T17:27:05.731Z"
   },
   {
    "duration": 5,
    "start_time": "2024-05-13T17:27:05.735Z"
   },
   {
    "duration": 9,
    "start_time": "2024-05-13T17:27:05.742Z"
   },
   {
    "duration": 731,
    "start_time": "2024-05-13T17:27:05.754Z"
   },
   {
    "duration": 3,
    "start_time": "2024-05-13T17:27:06.486Z"
   },
   {
    "duration": 8,
    "start_time": "2024-05-13T17:27:06.490Z"
   },
   {
    "duration": 21,
    "start_time": "2024-05-13T17:27:06.499Z"
   },
   {
    "duration": 95,
    "start_time": "2024-05-13T17:27:06.521Z"
   },
   {
    "duration": 97,
    "start_time": "2024-05-13T17:27:06.618Z"
   },
   {
    "duration": 2,
    "start_time": "2024-05-13T17:27:06.717Z"
   },
   {
    "duration": 5573,
    "start_time": "2024-05-13T17:27:06.720Z"
   },
   {
    "duration": 2,
    "start_time": "2024-05-13T17:27:12.295Z"
   },
   {
    "duration": 354,
    "start_time": "2024-05-13T17:27:12.298Z"
   },
   {
    "duration": 408,
    "start_time": "2024-05-13T17:27:12.654Z"
   },
   {
    "duration": 358,
    "start_time": "2024-05-13T17:27:13.063Z"
   },
   {
    "duration": 2,
    "start_time": "2024-05-13T17:27:13.422Z"
   },
   {
    "duration": 189,
    "start_time": "2024-05-13T17:27:13.426Z"
   },
   {
    "duration": 4,
    "start_time": "2024-05-13T17:27:13.616Z"
   },
   {
    "duration": 16,
    "start_time": "2024-05-13T17:27:13.621Z"
   },
   {
    "duration": 19,
    "start_time": "2024-05-13T17:27:13.639Z"
   },
   {
    "duration": 30,
    "start_time": "2024-05-13T17:27:13.659Z"
   },
   {
    "duration": 19,
    "start_time": "2024-05-13T17:27:13.693Z"
   },
   {
    "duration": 373,
    "start_time": "2024-05-13T17:27:13.713Z"
   },
   {
    "duration": 21,
    "start_time": "2024-05-13T17:27:14.087Z"
   },
   {
    "duration": 18,
    "start_time": "2024-05-13T17:27:14.109Z"
   },
   {
    "duration": 22,
    "start_time": "2024-05-13T17:27:14.128Z"
   },
   {
    "duration": 34,
    "start_time": "2024-05-13T17:27:14.151Z"
   },
   {
    "duration": 1783,
    "start_time": "2024-05-13T17:27:14.186Z"
   },
   {
    "duration": 15,
    "start_time": "2024-05-13T17:27:15.971Z"
   },
   {
    "duration": 21,
    "start_time": "2024-05-13T17:27:15.987Z"
   },
   {
    "duration": 10899,
    "start_time": "2024-05-13T17:27:16.010Z"
   },
   {
    "duration": 17,
    "start_time": "2024-05-13T17:27:26.911Z"
   },
   {
    "duration": 409,
    "start_time": "2024-05-13T17:27:26.929Z"
   },
   {
    "duration": 15,
    "start_time": "2024-05-13T17:27:27.339Z"
   },
   {
    "duration": 409,
    "start_time": "2024-05-13T17:27:27.355Z"
   },
   {
    "duration": 11000,
    "start_time": "2024-05-13T17:27:27.765Z"
   },
   {
    "duration": 20,
    "start_time": "2024-05-13T17:27:38.766Z"
   },
   {
    "duration": 17,
    "start_time": "2024-05-13T17:27:38.787Z"
   },
   {
    "duration": 424,
    "start_time": "2024-05-13T17:27:38.805Z"
   },
   {
    "duration": 10453,
    "start_time": "2024-05-13T17:27:39.231Z"
   },
   {
    "duration": 11,
    "start_time": "2024-05-13T17:27:49.686Z"
   },
   {
    "duration": 345,
    "start_time": "2024-05-13T17:27:49.698Z"
   },
   {
    "duration": 5,
    "start_time": "2024-05-13T17:27:50.045Z"
   },
   {
    "duration": 59,
    "start_time": "2024-05-13T17:27:50.051Z"
   },
   {
    "duration": 245,
    "start_time": "2024-05-13T17:27:50.111Z"
   },
   {
    "duration": 341,
    "start_time": "2024-05-13T17:27:50.358Z"
   },
   {
    "duration": 3,
    "start_time": "2024-05-13T17:27:50.701Z"
   },
   {
    "duration": 84,
    "start_time": "2024-05-13T17:27:50.706Z"
   },
   {
    "duration": 2,
    "start_time": "2024-05-13T17:27:50.792Z"
   },
   {
    "duration": 9366,
    "start_time": "2024-05-13T17:27:50.795Z"
   },
   {
    "duration": 3,
    "start_time": "2024-05-13T17:28:00.162Z"
   },
   {
    "duration": 96,
    "start_time": "2024-05-13T17:28:00.166Z"
   },
   {
    "duration": 4,
    "start_time": "2024-05-13T17:28:00.264Z"
   },
   {
    "duration": 113,
    "start_time": "2024-05-13T17:28:00.269Z"
   },
   {
    "duration": 380,
    "start_time": "2024-05-13T17:28:00.383Z"
   },
   {
    "duration": 11,
    "start_time": "2024-05-13T17:28:00.765Z"
   },
   {
    "duration": 1180,
    "start_time": "2024-05-13T17:28:00.777Z"
   },
   {
    "duration": 1223,
    "start_time": "2024-05-13T17:28:01.959Z"
   },
   {
    "duration": 169,
    "start_time": "2024-05-13T17:28:03.184Z"
   },
   {
    "duration": 14,
    "start_time": "2024-05-13T17:28:03.354Z"
   },
   {
    "duration": 128,
    "start_time": "2024-05-13T17:28:03.370Z"
   },
   {
    "duration": 3,
    "start_time": "2024-05-13T17:28:03.499Z"
   },
   {
    "duration": 43,
    "start_time": "2024-05-13T17:28:03.503Z"
   },
   {
    "duration": 2,
    "start_time": "2024-05-13T17:28:03.547Z"
   },
   {
    "duration": 7,
    "start_time": "2024-05-13T17:28:03.551Z"
   },
   {
    "duration": 83,
    "start_time": "2024-05-13T17:28:03.559Z"
   },
   {
    "duration": 21,
    "start_time": "2024-05-13T17:28:03.643Z"
   },
   {
    "duration": 125,
    "start_time": "2024-05-13T17:28:03.665Z"
   },
   {
    "duration": 45,
    "start_time": "2024-05-13T17:28:03.791Z"
   },
   {
    "duration": 73,
    "start_time": "2024-05-13T17:28:03.837Z"
   },
   {
    "duration": 64,
    "start_time": "2024-05-13T17:28:03.911Z"
   },
   {
    "duration": 9,
    "start_time": "2024-05-13T17:28:03.976Z"
   },
   {
    "duration": 10,
    "start_time": "2024-05-13T17:28:03.986Z"
   },
   {
    "duration": 10,
    "start_time": "2024-05-13T17:28:03.997Z"
   },
   {
    "duration": 43,
    "start_time": "2024-05-13T17:28:04.008Z"
   },
   {
    "duration": 32,
    "start_time": "2024-05-13T17:28:04.056Z"
   },
   {
    "duration": 2,
    "start_time": "2024-05-13T17:28:04.090Z"
   },
   {
    "duration": 5,
    "start_time": "2024-05-13T17:28:04.093Z"
   },
   {
    "duration": 11,
    "start_time": "2024-05-13T17:28:04.099Z"
   },
   {
    "duration": 13,
    "start_time": "2024-05-13T17:28:04.111Z"
   },
   {
    "duration": 5,
    "start_time": "2024-05-13T17:28:04.125Z"
   },
   {
    "duration": 20,
    "start_time": "2024-05-13T17:28:04.132Z"
   },
   {
    "duration": 26313,
    "start_time": "2024-05-13T17:28:04.153Z"
   },
   {
    "duration": 2,
    "start_time": "2024-05-13T17:28:30.468Z"
   },
   {
    "duration": 68,
    "start_time": "2024-05-13T17:28:30.471Z"
   },
   {
    "duration": 62,
    "start_time": "2024-05-13T17:28:30.540Z"
   },
   {
    "duration": 123,
    "start_time": "2024-05-13T17:28:30.603Z"
   },
   {
    "duration": 126,
    "start_time": "2024-05-13T17:28:30.728Z"
   },
   {
    "duration": 53,
    "start_time": "2024-05-13T17:28:30.855Z"
   },
   {
    "duration": 96,
    "start_time": "2024-05-13T17:28:30.910Z"
   },
   {
    "duration": 17,
    "start_time": "2024-05-13T17:28:31.007Z"
   },
   {
    "duration": 21,
    "start_time": "2024-05-13T17:28:31.026Z"
   },
   {
    "duration": 65,
    "start_time": "2024-05-13T17:28:31.048Z"
   },
   {
    "duration": 45,
    "start_time": "2024-05-13T17:28:31.114Z"
   },
   {
    "duration": 56,
    "start_time": "2024-05-13T17:28:31.161Z"
   },
   {
    "duration": 10,
    "start_time": "2024-05-13T17:29:14.883Z"
   },
   {
    "duration": 75,
    "start_time": "2024-05-13T17:29:23.245Z"
   },
   {
    "duration": 29,
    "start_time": "2024-05-13T17:29:24.535Z"
   },
   {
    "duration": 2,
    "start_time": "2024-05-13T17:29:34.092Z"
   },
   {
    "duration": 38,
    "start_time": "2024-05-13T17:29:38.032Z"
   },
   {
    "duration": 34,
    "start_time": "2024-05-13T17:29:39.775Z"
   },
   {
    "duration": 3,
    "start_time": "2024-05-13T17:29:46.691Z"
   },
   {
    "duration": 3,
    "start_time": "2024-05-13T17:29:46.969Z"
   },
   {
    "duration": 3,
    "start_time": "2024-05-13T17:29:47.681Z"
   },
   {
    "duration": 2,
    "start_time": "2024-05-13T17:29:48.013Z"
   },
   {
    "duration": 3,
    "start_time": "2024-05-13T17:29:50.430Z"
   },
   {
    "duration": 3,
    "start_time": "2024-05-13T17:29:51.237Z"
   },
   {
    "duration": 25147,
    "start_time": "2024-05-13T17:29:52.812Z"
   },
   {
    "duration": 3,
    "start_time": "2024-05-13T17:31:47.532Z"
   },
   {
    "duration": 10,
    "start_time": "2024-05-13T17:32:07.806Z"
   },
   {
    "duration": 72,
    "start_time": "2024-05-13T17:32:11.457Z"
   },
   {
    "duration": 25,
    "start_time": "2024-05-13T17:32:12.779Z"
   },
   {
    "duration": 159,
    "start_time": "2024-05-13T17:32:27.428Z"
   },
   {
    "duration": 3,
    "start_time": "2024-05-13T17:32:41.969Z"
   },
   {
    "duration": 6,
    "start_time": "2024-05-13T17:32:41.973Z"
   },
   {
    "duration": 4,
    "start_time": "2024-05-13T17:32:41.980Z"
   },
   {
    "duration": 3,
    "start_time": "2024-05-13T17:32:41.985Z"
   },
   {
    "duration": 3,
    "start_time": "2024-05-13T17:32:41.989Z"
   },
   {
    "duration": 1918,
    "start_time": "2024-05-13T17:32:41.993Z"
   },
   {
    "duration": 2,
    "start_time": "2024-05-13T17:32:43.913Z"
   },
   {
    "duration": 28,
    "start_time": "2024-05-13T17:32:43.916Z"
   },
   {
    "duration": 8,
    "start_time": "2024-05-13T17:32:43.945Z"
   },
   {
    "duration": 692,
    "start_time": "2024-05-13T17:32:43.955Z"
   },
   {
    "duration": 2,
    "start_time": "2024-05-13T17:32:44.649Z"
   },
   {
    "duration": 6,
    "start_time": "2024-05-13T17:32:44.652Z"
   },
   {
    "duration": 25,
    "start_time": "2024-05-13T17:32:44.659Z"
   },
   {
    "duration": 81,
    "start_time": "2024-05-13T17:32:44.686Z"
   },
   {
    "duration": 93,
    "start_time": "2024-05-13T17:32:44.769Z"
   },
   {
    "duration": 2,
    "start_time": "2024-05-13T17:32:44.863Z"
   },
   {
    "duration": 5406,
    "start_time": "2024-05-13T17:32:44.867Z"
   },
   {
    "duration": 3,
    "start_time": "2024-05-13T17:32:50.274Z"
   },
   {
    "duration": 344,
    "start_time": "2024-05-13T17:32:50.278Z"
   },
   {
    "duration": 402,
    "start_time": "2024-05-13T17:32:50.624Z"
   },
   {
    "duration": 365,
    "start_time": "2024-05-13T17:32:51.027Z"
   },
   {
    "duration": 2,
    "start_time": "2024-05-13T17:32:51.393Z"
   },
   {
    "duration": 186,
    "start_time": "2024-05-13T17:32:51.396Z"
   },
   {
    "duration": 2,
    "start_time": "2024-05-13T17:32:51.584Z"
   },
   {
    "duration": 33,
    "start_time": "2024-05-13T17:32:51.588Z"
   },
   {
    "duration": 29,
    "start_time": "2024-05-13T17:32:51.622Z"
   },
   {
    "duration": 25,
    "start_time": "2024-05-13T17:32:51.653Z"
   },
   {
    "duration": 19,
    "start_time": "2024-05-13T17:32:51.682Z"
   },
   {
    "duration": 369,
    "start_time": "2024-05-13T17:32:51.702Z"
   },
   {
    "duration": 28,
    "start_time": "2024-05-13T17:32:52.073Z"
   },
   {
    "duration": 19,
    "start_time": "2024-05-13T17:32:52.102Z"
   },
   {
    "duration": 17,
    "start_time": "2024-05-13T17:32:52.122Z"
   },
   {
    "duration": 28,
    "start_time": "2024-05-13T17:32:52.141Z"
   },
   {
    "duration": 1790,
    "start_time": "2024-05-13T17:32:52.171Z"
   },
   {
    "duration": 13,
    "start_time": "2024-05-13T17:32:53.963Z"
   },
   {
    "duration": 20,
    "start_time": "2024-05-13T17:32:53.985Z"
   },
   {
    "duration": 11002,
    "start_time": "2024-05-13T17:32:54.007Z"
   },
   {
    "duration": 18,
    "start_time": "2024-05-13T17:33:05.010Z"
   },
   {
    "duration": 430,
    "start_time": "2024-05-13T17:33:05.029Z"
   },
   {
    "duration": 24,
    "start_time": "2024-05-13T17:33:05.460Z"
   },
   {
    "duration": 375,
    "start_time": "2024-05-13T17:33:05.485Z"
   },
   {
    "duration": 11184,
    "start_time": "2024-05-13T17:33:05.861Z"
   },
   {
    "duration": 13,
    "start_time": "2024-05-13T17:33:17.046Z"
   },
   {
    "duration": 29,
    "start_time": "2024-05-13T17:33:17.061Z"
   },
   {
    "duration": 425,
    "start_time": "2024-05-13T17:33:17.092Z"
   },
   {
    "duration": 10604,
    "start_time": "2024-05-13T17:33:17.519Z"
   },
   {
    "duration": 12,
    "start_time": "2024-05-13T17:33:28.125Z"
   },
   {
    "duration": 342,
    "start_time": "2024-05-13T17:33:28.139Z"
   },
   {
    "duration": 3,
    "start_time": "2024-05-13T17:33:28.484Z"
   },
   {
    "duration": 66,
    "start_time": "2024-05-13T17:33:28.488Z"
   },
   {
    "duration": 247,
    "start_time": "2024-05-13T17:33:28.555Z"
   },
   {
    "duration": 347,
    "start_time": "2024-05-13T17:33:28.803Z"
   },
   {
    "duration": 3,
    "start_time": "2024-05-13T17:33:29.151Z"
   },
   {
    "duration": 85,
    "start_time": "2024-05-13T17:33:29.155Z"
   },
   {
    "duration": 3,
    "start_time": "2024-05-13T17:33:29.241Z"
   },
   {
    "duration": 9276,
    "start_time": "2024-05-13T17:33:29.245Z"
   },
   {
    "duration": 3,
    "start_time": "2024-05-13T17:33:38.522Z"
   },
   {
    "duration": 73,
    "start_time": "2024-05-13T17:33:38.527Z"
   },
   {
    "duration": 3,
    "start_time": "2024-05-13T17:33:38.601Z"
   },
   {
    "duration": 56,
    "start_time": "2024-05-13T17:33:38.606Z"
   },
   {
    "duration": 367,
    "start_time": "2024-05-13T17:33:38.664Z"
   },
   {
    "duration": 11,
    "start_time": "2024-05-13T17:33:39.033Z"
   },
   {
    "duration": 1131,
    "start_time": "2024-05-13T17:33:39.045Z"
   },
   {
    "duration": 1175,
    "start_time": "2024-05-13T17:33:40.177Z"
   },
   {
    "duration": 163,
    "start_time": "2024-05-13T17:33:41.354Z"
   },
   {
    "duration": 14,
    "start_time": "2024-05-13T17:33:41.519Z"
   },
   {
    "duration": 129,
    "start_time": "2024-05-13T17:33:41.535Z"
   },
   {
    "duration": 3,
    "start_time": "2024-05-13T17:33:41.665Z"
   },
   {
    "duration": 54,
    "start_time": "2024-05-13T17:33:41.669Z"
   },
   {
    "duration": 2,
    "start_time": "2024-05-13T17:33:41.725Z"
   },
   {
    "duration": 12,
    "start_time": "2024-05-13T17:33:41.729Z"
   },
   {
    "duration": 71,
    "start_time": "2024-05-13T17:33:41.742Z"
   },
   {
    "duration": 23,
    "start_time": "2024-05-13T17:33:41.815Z"
   },
   {
    "duration": 121,
    "start_time": "2024-05-13T17:33:41.840Z"
   },
   {
    "duration": 12,
    "start_time": "2024-05-13T17:33:41.963Z"
   },
   {
    "duration": 100,
    "start_time": "2024-05-13T17:33:41.984Z"
   },
   {
    "duration": 12,
    "start_time": "2024-05-13T17:33:42.085Z"
   },
   {
    "duration": 105,
    "start_time": "2024-05-13T17:33:42.099Z"
   },
   {
    "duration": 41,
    "start_time": "2024-05-13T17:33:42.205Z"
   },
   {
    "duration": 70,
    "start_time": "2024-05-13T17:33:42.247Z"
   },
   {
    "duration": 56,
    "start_time": "2024-05-13T17:33:42.318Z"
   },
   {
    "duration": 2,
    "start_time": "2024-05-13T17:33:42.384Z"
   },
   {
    "duration": 6,
    "start_time": "2024-05-13T17:33:42.388Z"
   },
   {
    "duration": 6,
    "start_time": "2024-05-13T17:33:42.395Z"
   },
   {
    "duration": 38,
    "start_time": "2024-05-13T17:33:42.402Z"
   },
   {
    "duration": 30,
    "start_time": "2024-05-13T17:33:42.442Z"
   },
   {
    "duration": 3,
    "start_time": "2024-05-13T17:33:42.483Z"
   },
   {
    "duration": 4,
    "start_time": "2024-05-13T17:33:42.487Z"
   },
   {
    "duration": 6,
    "start_time": "2024-05-13T17:33:42.492Z"
   },
   {
    "duration": 5,
    "start_time": "2024-05-13T17:33:42.499Z"
   },
   {
    "duration": 4,
    "start_time": "2024-05-13T17:33:42.505Z"
   },
   {
    "duration": 3,
    "start_time": "2024-05-13T17:33:42.510Z"
   },
   {
    "duration": 20739,
    "start_time": "2024-05-13T17:33:42.514Z"
   },
   {
    "duration": 3,
    "start_time": "2024-05-13T17:34:03.254Z"
   },
   {
    "duration": 14,
    "start_time": "2024-05-13T17:34:03.258Z"
   },
   {
    "duration": 14,
    "start_time": "2024-05-13T17:34:03.273Z"
   },
   {
    "duration": 10,
    "start_time": "2024-05-13T17:34:03.288Z"
   },
   {
    "duration": 4,
    "start_time": "2024-05-13T17:34:03.299Z"
   },
   {
    "duration": 34,
    "start_time": "2024-05-13T17:34:03.304Z"
   },
   {
    "duration": 62,
    "start_time": "2024-05-13T17:34:03.339Z"
   },
   {
    "duration": 15,
    "start_time": "2024-05-13T17:34:03.403Z"
   },
   {
    "duration": 4,
    "start_time": "2024-05-13T17:34:03.420Z"
   },
   {
    "duration": 5,
    "start_time": "2024-05-13T17:34:03.425Z"
   },
   {
    "duration": 7,
    "start_time": "2024-05-13T17:34:03.431Z"
   },
   {
    "duration": 4,
    "start_time": "2024-05-13T17:34:03.439Z"
   },
   {
    "duration": 3,
    "start_time": "2024-05-13T17:35:31.068Z"
   },
   {
    "duration": 3,
    "start_time": "2024-05-13T17:35:32.719Z"
   },
   {
    "duration": 3,
    "start_time": "2024-05-13T17:35:33.302Z"
   },
   {
    "duration": 2,
    "start_time": "2024-05-13T17:35:36.060Z"
   },
   {
    "duration": 5,
    "start_time": "2024-05-13T17:35:37.655Z"
   },
   {
    "duration": 6,
    "start_time": "2024-05-13T17:35:38.058Z"
   },
   {
    "duration": 286138,
    "start_time": "2024-05-13T17:35:43.363Z"
   },
   {
    "duration": 3,
    "start_time": "2024-05-13T17:42:04.139Z"
   },
   {
    "duration": 3,
    "start_time": "2024-05-13T17:42:07.285Z"
   },
   {
    "duration": 2,
    "start_time": "2024-05-13T17:43:11.899Z"
   },
   {
    "duration": 2,
    "start_time": "2024-05-13T17:43:12.874Z"
   },
   {
    "duration": 2,
    "start_time": "2024-05-13T17:43:13.413Z"
   },
   {
    "duration": 3,
    "start_time": "2024-05-13T17:43:15.283Z"
   },
   {
    "duration": 3,
    "start_time": "2024-05-13T17:43:16.607Z"
   },
   {
    "duration": 222194,
    "start_time": "2024-05-13T17:44:28.991Z"
   },
   {
    "duration": 2,
    "start_time": "2024-05-13T17:48:17.107Z"
   },
   {
    "duration": 3,
    "start_time": "2024-05-13T17:48:17.425Z"
   },
   {
    "duration": 3,
    "start_time": "2024-05-13T17:48:53.043Z"
   },
   {
    "duration": 2,
    "start_time": "2024-05-13T17:48:57.352Z"
   },
   {
    "duration": 2,
    "start_time": "2024-05-13T17:48:57.626Z"
   },
   {
    "duration": 3,
    "start_time": "2024-05-13T17:48:57.987Z"
   },
   {
    "duration": 2,
    "start_time": "2024-05-13T17:48:59.014Z"
   },
   {
    "duration": 19785,
    "start_time": "2024-05-13T17:49:00.821Z"
   },
   {
    "duration": 2,
    "start_time": "2024-05-13T17:49:30.728Z"
   },
   {
    "duration": 3,
    "start_time": "2024-05-13T17:49:31.568Z"
   },
   {
    "duration": 2,
    "start_time": "2024-05-13T17:49:37.176Z"
   },
   {
    "duration": 2,
    "start_time": "2024-05-13T17:49:39.130Z"
   },
   {
    "duration": 2,
    "start_time": "2024-05-13T17:49:39.333Z"
   },
   {
    "duration": 3,
    "start_time": "2024-05-13T17:49:39.585Z"
   },
   {
    "duration": 4,
    "start_time": "2024-05-13T17:49:39.909Z"
   },
   {
    "duration": 19782,
    "start_time": "2024-05-13T17:49:40.374Z"
   },
   {
    "duration": 3,
    "start_time": "2024-05-13T17:50:11.139Z"
   },
   {
    "duration": 3,
    "start_time": "2024-05-13T17:50:11.475Z"
   },
   {
    "duration": 3,
    "start_time": "2024-05-13T17:51:14.206Z"
   },
   {
    "duration": 3,
    "start_time": "2024-05-13T17:52:05.885Z"
   },
   {
    "duration": 4,
    "start_time": "2024-05-13T17:52:05.889Z"
   },
   {
    "duration": 4,
    "start_time": "2024-05-13T17:52:05.895Z"
   },
   {
    "duration": 5,
    "start_time": "2024-05-13T17:52:05.901Z"
   },
   {
    "duration": 3,
    "start_time": "2024-05-13T17:52:05.908Z"
   },
   {
    "duration": 1932,
    "start_time": "2024-05-13T17:52:05.912Z"
   },
   {
    "duration": 2,
    "start_time": "2024-05-13T17:52:07.846Z"
   },
   {
    "duration": 12,
    "start_time": "2024-05-13T17:52:07.850Z"
   },
   {
    "duration": 6,
    "start_time": "2024-05-13T17:52:07.863Z"
   },
   {
    "duration": 701,
    "start_time": "2024-05-13T17:52:07.871Z"
   },
   {
    "duration": 2,
    "start_time": "2024-05-13T17:52:08.573Z"
   },
   {
    "duration": 10,
    "start_time": "2024-05-13T17:52:08.576Z"
   },
   {
    "duration": 14,
    "start_time": "2024-05-13T17:52:08.587Z"
   },
   {
    "duration": 91,
    "start_time": "2024-05-13T17:52:08.602Z"
   },
   {
    "duration": 93,
    "start_time": "2024-05-13T17:52:08.695Z"
   },
   {
    "duration": 2,
    "start_time": "2024-05-13T17:52:08.789Z"
   },
   {
    "duration": 5517,
    "start_time": "2024-05-13T17:52:08.792Z"
   },
   {
    "duration": 2,
    "start_time": "2024-05-13T17:52:14.311Z"
   },
   {
    "duration": 371,
    "start_time": "2024-05-13T17:52:14.314Z"
   },
   {
    "duration": 415,
    "start_time": "2024-05-13T17:52:14.686Z"
   },
   {
    "duration": 360,
    "start_time": "2024-05-13T17:52:15.102Z"
   },
   {
    "duration": 3,
    "start_time": "2024-05-13T17:52:15.463Z"
   },
   {
    "duration": 190,
    "start_time": "2024-05-13T17:52:15.467Z"
   },
   {
    "duration": 4,
    "start_time": "2024-05-13T17:52:15.658Z"
   },
   {
    "duration": 24,
    "start_time": "2024-05-13T17:52:15.663Z"
   },
   {
    "duration": 38,
    "start_time": "2024-05-13T17:52:15.688Z"
   },
   {
    "duration": 17,
    "start_time": "2024-05-13T17:52:15.727Z"
   },
   {
    "duration": 20,
    "start_time": "2024-05-13T17:52:15.747Z"
   },
   {
    "duration": 393,
    "start_time": "2024-05-13T17:52:15.768Z"
   },
   {
    "duration": 29,
    "start_time": "2024-05-13T17:52:16.163Z"
   },
   {
    "duration": 17,
    "start_time": "2024-05-13T17:52:16.194Z"
   },
   {
    "duration": 18,
    "start_time": "2024-05-13T17:52:16.212Z"
   },
   {
    "duration": 25,
    "start_time": "2024-05-13T17:52:16.232Z"
   },
   {
    "duration": 1800,
    "start_time": "2024-05-13T17:52:16.258Z"
   },
   {
    "duration": 13,
    "start_time": "2024-05-13T17:52:18.059Z"
   },
   {
    "duration": 30,
    "start_time": "2024-05-13T17:52:18.073Z"
   },
   {
    "duration": 11046,
    "start_time": "2024-05-13T17:52:18.104Z"
   },
   {
    "duration": 17,
    "start_time": "2024-05-13T17:52:29.151Z"
   },
   {
    "duration": 431,
    "start_time": "2024-05-13T17:52:29.170Z"
   },
   {
    "duration": 16,
    "start_time": "2024-05-13T17:52:29.602Z"
   },
   {
    "duration": 387,
    "start_time": "2024-05-13T17:52:29.619Z"
   },
   {
    "duration": 11454,
    "start_time": "2024-05-13T17:52:30.007Z"
   },
   {
    "duration": 12,
    "start_time": "2024-05-13T17:52:41.463Z"
   },
   {
    "duration": 23,
    "start_time": "2024-05-13T17:52:41.476Z"
   },
   {
    "duration": 418,
    "start_time": "2024-05-13T17:52:41.500Z"
   },
   {
    "duration": 11544,
    "start_time": "2024-05-13T17:52:41.920Z"
   },
   {
    "duration": 12,
    "start_time": "2024-05-13T17:52:53.465Z"
   },
   {
    "duration": 346,
    "start_time": "2024-05-13T17:52:53.478Z"
   },
   {
    "duration": 3,
    "start_time": "2024-05-13T17:52:53.826Z"
   },
   {
    "duration": 63,
    "start_time": "2024-05-13T17:52:53.830Z"
   },
   {
    "duration": 253,
    "start_time": "2024-05-13T17:52:53.894Z"
   },
   {
    "duration": 362,
    "start_time": "2024-05-13T17:52:54.149Z"
   },
   {
    "duration": 3,
    "start_time": "2024-05-13T17:52:54.513Z"
   },
   {
    "duration": 67,
    "start_time": "2024-05-13T17:52:54.517Z"
   },
   {
    "duration": 2,
    "start_time": "2024-05-13T17:52:54.586Z"
   },
   {
    "duration": 9729,
    "start_time": "2024-05-13T17:52:54.589Z"
   },
   {
    "duration": 3,
    "start_time": "2024-05-13T17:53:04.320Z"
   },
   {
    "duration": 70,
    "start_time": "2024-05-13T17:53:04.324Z"
   },
   {
    "duration": 3,
    "start_time": "2024-05-13T17:53:04.395Z"
   },
   {
    "duration": 57,
    "start_time": "2024-05-13T17:53:04.399Z"
   },
   {
    "duration": 367,
    "start_time": "2024-05-13T17:53:04.457Z"
   },
   {
    "duration": 13,
    "start_time": "2024-05-13T17:53:04.825Z"
   },
   {
    "duration": 1169,
    "start_time": "2024-05-13T17:53:04.840Z"
   },
   {
    "duration": 1157,
    "start_time": "2024-05-13T17:53:06.010Z"
   },
   {
    "duration": 171,
    "start_time": "2024-05-13T17:53:07.169Z"
   },
   {
    "duration": 15,
    "start_time": "2024-05-13T17:53:07.342Z"
   },
   {
    "duration": 130,
    "start_time": "2024-05-13T17:53:07.359Z"
   },
   {
    "duration": 3,
    "start_time": "2024-05-13T17:53:07.491Z"
   },
   {
    "duration": 51,
    "start_time": "2024-05-13T17:53:07.496Z"
   },
   {
    "duration": 3,
    "start_time": "2024-05-13T17:53:07.548Z"
   },
   {
    "duration": 5,
    "start_time": "2024-05-13T17:53:07.552Z"
   },
   {
    "duration": 106,
    "start_time": "2024-05-13T17:53:07.558Z"
   },
   {
    "duration": 27,
    "start_time": "2024-05-13T17:53:07.666Z"
   },
   {
    "duration": 128,
    "start_time": "2024-05-13T17:53:07.694Z"
   },
   {
    "duration": 13,
    "start_time": "2024-05-13T17:53:07.823Z"
   },
   {
    "duration": 110,
    "start_time": "2024-05-13T17:53:07.838Z"
   },
   {
    "duration": 15,
    "start_time": "2024-05-13T17:53:07.949Z"
   },
   {
    "duration": 113,
    "start_time": "2024-05-13T17:53:07.965Z"
   },
   {
    "duration": 40,
    "start_time": "2024-05-13T17:53:08.079Z"
   },
   {
    "duration": 63,
    "start_time": "2024-05-13T17:53:08.121Z"
   },
   {
    "duration": 53,
    "start_time": "2024-05-13T17:53:08.186Z"
   },
   {
    "duration": 3,
    "start_time": "2024-05-13T17:53:08.244Z"
   },
   {
    "duration": 6,
    "start_time": "2024-05-13T17:53:08.248Z"
   },
   {
    "duration": 5,
    "start_time": "2024-05-13T17:53:08.255Z"
   },
   {
    "duration": 50,
    "start_time": "2024-05-13T17:53:08.261Z"
   },
   {
    "duration": 32,
    "start_time": "2024-05-13T17:53:08.312Z"
   },
   {
    "duration": 3,
    "start_time": "2024-05-13T17:53:08.345Z"
   },
   {
    "duration": 12,
    "start_time": "2024-05-13T17:53:08.349Z"
   },
   {
    "duration": 6,
    "start_time": "2024-05-13T17:53:08.362Z"
   },
   {
    "duration": 7,
    "start_time": "2024-05-13T17:53:08.369Z"
   },
   {
    "duration": 11,
    "start_time": "2024-05-13T17:53:08.377Z"
   },
   {
    "duration": 7,
    "start_time": "2024-05-13T17:53:08.389Z"
   },
   {
    "duration": 24441,
    "start_time": "2024-05-13T17:53:08.397Z"
   },
   {
    "duration": 2,
    "start_time": "2024-05-13T17:53:32.839Z"
   },
   {
    "duration": 32,
    "start_time": "2024-05-13T17:53:32.843Z"
   },
   {
    "duration": 8,
    "start_time": "2024-05-13T17:53:32.876Z"
   },
   {
    "duration": 27,
    "start_time": "2024-05-13T17:53:32.885Z"
   },
   {
    "duration": 9,
    "start_time": "2024-05-13T17:53:32.914Z"
   },
   {
    "duration": 6,
    "start_time": "2024-05-13T17:53:32.924Z"
   },
   {
    "duration": 47,
    "start_time": "2024-05-13T17:53:32.931Z"
   },
   {
    "duration": 16,
    "start_time": "2024-05-13T17:53:32.980Z"
   },
   {
    "duration": 2,
    "start_time": "2024-05-13T17:53:32.998Z"
   },
   {
    "duration": 174,
    "start_time": "2024-05-13T17:53:33.001Z"
   },
   {
    "duration": 0,
    "start_time": "2024-05-13T17:53:33.176Z"
   },
   {
    "duration": 0,
    "start_time": "2024-05-13T17:53:33.177Z"
   },
   {
    "duration": 3,
    "start_time": "2024-05-13T17:54:56.361Z"
   },
   {
    "duration": 12,
    "start_time": "2024-05-13T17:54:56.365Z"
   },
   {
    "duration": 3,
    "start_time": "2024-05-13T17:54:56.379Z"
   },
   {
    "duration": 4,
    "start_time": "2024-05-13T17:54:56.383Z"
   },
   {
    "duration": 3,
    "start_time": "2024-05-13T17:54:56.388Z"
   },
   {
    "duration": 1944,
    "start_time": "2024-05-13T17:54:56.392Z"
   },
   {
    "duration": 3,
    "start_time": "2024-05-13T17:54:58.337Z"
   },
   {
    "duration": 11,
    "start_time": "2024-05-13T17:54:58.341Z"
   },
   {
    "duration": 8,
    "start_time": "2024-05-13T17:54:58.353Z"
   },
   {
    "duration": 722,
    "start_time": "2024-05-13T17:54:58.363Z"
   },
   {
    "duration": 3,
    "start_time": "2024-05-13T17:54:59.086Z"
   },
   {
    "duration": 13,
    "start_time": "2024-05-13T17:54:59.091Z"
   },
   {
    "duration": 18,
    "start_time": "2024-05-13T17:54:59.105Z"
   },
   {
    "duration": 94,
    "start_time": "2024-05-13T17:54:59.124Z"
   },
   {
    "duration": 94,
    "start_time": "2024-05-13T17:54:59.219Z"
   },
   {
    "duration": 4,
    "start_time": "2024-05-13T17:54:59.314Z"
   },
   {
    "duration": 5638,
    "start_time": "2024-05-13T17:54:59.319Z"
   },
   {
    "duration": 2,
    "start_time": "2024-05-13T17:55:04.959Z"
   },
   {
    "duration": 374,
    "start_time": "2024-05-13T17:55:04.963Z"
   },
   {
    "duration": 402,
    "start_time": "2024-05-13T17:55:05.339Z"
   },
   {
    "duration": 360,
    "start_time": "2024-05-13T17:55:05.743Z"
   },
   {
    "duration": 2,
    "start_time": "2024-05-13T17:55:06.105Z"
   },
   {
    "duration": 230,
    "start_time": "2024-05-13T17:55:06.108Z"
   },
   {
    "duration": 3,
    "start_time": "2024-05-13T17:55:06.339Z"
   },
   {
    "duration": 48,
    "start_time": "2024-05-13T17:55:06.343Z"
   },
   {
    "duration": 57,
    "start_time": "2024-05-13T17:55:06.392Z"
   },
   {
    "duration": 23,
    "start_time": "2024-05-13T17:55:06.450Z"
   },
   {
    "duration": 39,
    "start_time": "2024-05-13T17:55:06.476Z"
   },
   {
    "duration": 396,
    "start_time": "2024-05-13T17:55:06.516Z"
   },
   {
    "duration": 21,
    "start_time": "2024-05-13T17:55:06.914Z"
   },
   {
    "duration": 23,
    "start_time": "2024-05-13T17:55:06.937Z"
   },
   {
    "duration": 27,
    "start_time": "2024-05-13T17:55:06.962Z"
   },
   {
    "duration": 21,
    "start_time": "2024-05-13T17:55:06.990Z"
   },
   {
    "duration": 1838,
    "start_time": "2024-05-13T17:55:07.012Z"
   },
   {
    "duration": 13,
    "start_time": "2024-05-13T17:55:08.852Z"
   },
   {
    "duration": 35,
    "start_time": "2024-05-13T17:55:08.866Z"
   },
   {
    "duration": 11011,
    "start_time": "2024-05-13T17:55:08.903Z"
   },
   {
    "duration": 18,
    "start_time": "2024-05-13T17:55:19.916Z"
   },
   {
    "duration": 418,
    "start_time": "2024-05-13T17:55:19.935Z"
   },
   {
    "duration": 15,
    "start_time": "2024-05-13T17:55:20.355Z"
   },
   {
    "duration": 413,
    "start_time": "2024-05-13T17:55:20.372Z"
   },
   {
    "duration": 11424,
    "start_time": "2024-05-13T17:55:20.787Z"
   },
   {
    "duration": 15,
    "start_time": "2024-05-13T17:55:32.212Z"
   },
   {
    "duration": 30,
    "start_time": "2024-05-13T17:55:32.229Z"
   },
   {
    "duration": 449,
    "start_time": "2024-05-13T17:55:32.261Z"
   },
   {
    "duration": 10675,
    "start_time": "2024-05-13T17:55:32.712Z"
   },
   {
    "duration": 12,
    "start_time": "2024-05-13T17:55:43.389Z"
   },
   {
    "duration": 348,
    "start_time": "2024-05-13T17:55:43.403Z"
   },
   {
    "duration": 4,
    "start_time": "2024-05-13T17:55:43.752Z"
   },
   {
    "duration": 59,
    "start_time": "2024-05-13T17:55:43.757Z"
   },
   {
    "duration": 242,
    "start_time": "2024-05-13T17:55:43.817Z"
   },
   {
    "duration": 356,
    "start_time": "2024-05-13T17:55:44.061Z"
   },
   {
    "duration": 3,
    "start_time": "2024-05-13T17:55:44.418Z"
   },
   {
    "duration": 73,
    "start_time": "2024-05-13T17:55:44.422Z"
   },
   {
    "duration": 2,
    "start_time": "2024-05-13T17:55:44.497Z"
   },
   {
    "duration": 9389,
    "start_time": "2024-05-13T17:55:44.500Z"
   },
   {
    "duration": 3,
    "start_time": "2024-05-13T17:55:53.890Z"
   },
   {
    "duration": 55,
    "start_time": "2024-05-13T17:55:53.894Z"
   },
   {
    "duration": 3,
    "start_time": "2024-05-13T17:55:53.950Z"
   },
   {
    "duration": 57,
    "start_time": "2024-05-13T17:55:53.954Z"
   },
   {
    "duration": 359,
    "start_time": "2024-05-13T17:55:54.013Z"
   },
   {
    "duration": 16,
    "start_time": "2024-05-13T17:55:54.374Z"
   },
   {
    "duration": 1150,
    "start_time": "2024-05-13T17:55:54.392Z"
   },
   {
    "duration": 1186,
    "start_time": "2024-05-13T17:55:55.544Z"
   },
   {
    "duration": 166,
    "start_time": "2024-05-13T17:55:56.732Z"
   },
   {
    "duration": 15,
    "start_time": "2024-05-13T17:55:56.900Z"
   },
   {
    "duration": 137,
    "start_time": "2024-05-13T17:55:56.917Z"
   },
   {
    "duration": 4,
    "start_time": "2024-05-13T17:55:57.055Z"
   },
   {
    "duration": 54,
    "start_time": "2024-05-13T17:55:57.060Z"
   },
   {
    "duration": 2,
    "start_time": "2024-05-13T17:55:57.116Z"
   },
   {
    "duration": 12,
    "start_time": "2024-05-13T17:55:57.120Z"
   },
   {
    "duration": 76,
    "start_time": "2024-05-13T17:55:57.133Z"
   },
   {
    "duration": 21,
    "start_time": "2024-05-13T17:55:57.211Z"
   },
   {
    "duration": 132,
    "start_time": "2024-05-13T17:55:57.234Z"
   },
   {
    "duration": 2,
    "start_time": "2024-05-13T17:55:57.368Z"
   },
   {
    "duration": 3,
    "start_time": "2024-05-13T17:55:57.372Z"
   },
   {
    "duration": 21,
    "start_time": "2024-05-13T17:55:57.376Z"
   },
   {
    "duration": 117,
    "start_time": "2024-05-13T17:55:57.398Z"
   },
   {
    "duration": 43,
    "start_time": "2024-05-13T17:55:57.517Z"
   },
   {
    "duration": 75,
    "start_time": "2024-05-13T17:55:57.561Z"
   },
   {
    "duration": 67,
    "start_time": "2024-05-13T17:55:57.637Z"
   },
   {
    "duration": 2,
    "start_time": "2024-05-13T17:55:57.709Z"
   },
   {
    "duration": 56,
    "start_time": "2024-05-13T17:55:57.712Z"
   },
   {
    "duration": 31,
    "start_time": "2024-05-13T17:55:57.769Z"
   },
   {
    "duration": 87,
    "start_time": "2024-05-13T17:55:57.802Z"
   },
   {
    "duration": 37,
    "start_time": "2024-05-13T17:55:57.890Z"
   },
   {
    "duration": 3,
    "start_time": "2024-05-13T17:55:57.928Z"
   },
   {
    "duration": 33,
    "start_time": "2024-05-13T17:55:57.932Z"
   },
   {
    "duration": 12,
    "start_time": "2024-05-13T17:55:57.967Z"
   },
   {
    "duration": 36,
    "start_time": "2024-05-13T17:55:57.980Z"
   },
   {
    "duration": 11,
    "start_time": "2024-05-13T17:55:58.018Z"
   },
   {
    "duration": 6,
    "start_time": "2024-05-13T17:55:58.030Z"
   },
   {
    "duration": 12452,
    "start_time": "2024-05-13T17:55:58.037Z"
   },
   {
    "duration": 0,
    "start_time": "2024-05-13T17:56:10.490Z"
   },
   {
    "duration": 0,
    "start_time": "2024-05-13T17:56:10.491Z"
   },
   {
    "duration": 0,
    "start_time": "2024-05-13T17:56:10.492Z"
   },
   {
    "duration": 0,
    "start_time": "2024-05-13T17:56:10.493Z"
   },
   {
    "duration": 1,
    "start_time": "2024-05-13T17:56:10.493Z"
   },
   {
    "duration": 0,
    "start_time": "2024-05-13T17:56:10.494Z"
   },
   {
    "duration": 0,
    "start_time": "2024-05-13T17:56:10.495Z"
   },
   {
    "duration": 0,
    "start_time": "2024-05-13T17:56:10.496Z"
   },
   {
    "duration": 0,
    "start_time": "2024-05-13T17:56:10.498Z"
   },
   {
    "duration": 0,
    "start_time": "2024-05-13T17:56:10.499Z"
   },
   {
    "duration": 0,
    "start_time": "2024-05-13T17:56:10.499Z"
   },
   {
    "duration": 0,
    "start_time": "2024-05-13T17:56:10.500Z"
   },
   {
    "duration": 2,
    "start_time": "2024-05-13T17:56:41.491Z"
   },
   {
    "duration": 53,
    "start_time": "2024-05-13T17:56:44.697Z"
   },
   {
    "duration": 40,
    "start_time": "2024-05-13T17:56:45.219Z"
   },
   {
    "duration": 3,
    "start_time": "2024-05-13T17:56:47.978Z"
   },
   {
    "duration": 3,
    "start_time": "2024-05-13T17:56:48.661Z"
   },
   {
    "duration": 3,
    "start_time": "2024-05-13T17:56:50.055Z"
   },
   {
    "duration": 2,
    "start_time": "2024-05-13T17:56:50.331Z"
   },
   {
    "duration": 3,
    "start_time": "2024-05-13T17:56:50.647Z"
   },
   {
    "duration": 3,
    "start_time": "2024-05-13T17:56:51.042Z"
   },
   {
    "duration": 29204,
    "start_time": "2024-05-13T17:56:52.046Z"
   },
   {
    "duration": 2,
    "start_time": "2024-05-13T17:57:24.806Z"
   },
   {
    "duration": 2,
    "start_time": "2024-05-13T17:57:25.318Z"
   },
   {
    "duration": 2,
    "start_time": "2024-05-13T17:58:16.320Z"
   },
   {
    "duration": 3,
    "start_time": "2024-05-13T17:58:16.696Z"
   },
   {
    "duration": 3,
    "start_time": "2024-05-13T17:58:17.034Z"
   },
   {
    "duration": 3,
    "start_time": "2024-05-13T17:58:37.179Z"
   },
   {
    "duration": 52,
    "start_time": "2024-05-13T17:58:39.033Z"
   },
   {
    "duration": 22,
    "start_time": "2024-05-13T17:58:39.393Z"
   },
   {
    "duration": 355075,
    "start_time": "2024-05-13T17:58:43.917Z"
   },
   {
    "duration": 2,
    "start_time": "2024-05-13T18:04:56.918Z"
   },
   {
    "duration": 3,
    "start_time": "2024-05-13T18:04:57.497Z"
   },
   {
    "duration": 4,
    "start_time": "2024-05-13T21:40:14.776Z"
   },
   {
    "duration": 2,
    "start_time": "2024-05-13T21:43:38.452Z"
   },
   {
    "duration": 11,
    "start_time": "2024-05-13T21:43:47.505Z"
   },
   {
    "duration": 8,
    "start_time": "2024-05-13T21:44:38.183Z"
   },
   {
    "duration": 7,
    "start_time": "2024-05-13T21:45:07.400Z"
   },
   {
    "duration": 3,
    "start_time": "2024-05-13T21:47:49.085Z"
   },
   {
    "duration": 3,
    "start_time": "2024-05-13T21:47:59.393Z"
   },
   {
    "duration": 2,
    "start_time": "2024-05-13T21:49:32.049Z"
   },
   {
    "duration": 3,
    "start_time": "2024-05-13T21:49:36.438Z"
   },
   {
    "duration": 46,
    "start_time": "2024-05-13T21:49:46.899Z"
   },
   {
    "duration": 24,
    "start_time": "2024-05-13T21:50:05.369Z"
   },
   {
    "duration": 23,
    "start_time": "2024-05-13T21:50:22.103Z"
   },
   {
    "duration": 2,
    "start_time": "2024-05-13T21:51:33.854Z"
   },
   {
    "duration": 3,
    "start_time": "2024-05-13T21:51:46.807Z"
   },
   {
    "duration": 3,
    "start_time": "2024-05-13T21:57:35.630Z"
   },
   {
    "duration": 2,
    "start_time": "2024-05-13T21:57:54.550Z"
   },
   {
    "duration": 3,
    "start_time": "2024-05-13T21:57:58.015Z"
   },
   {
    "duration": 2,
    "start_time": "2024-05-13T21:58:03.063Z"
   },
   {
    "duration": 3,
    "start_time": "2024-05-13T21:58:03.763Z"
   },
   {
    "duration": 3,
    "start_time": "2024-05-13T21:58:11.641Z"
   },
   {
    "duration": 2,
    "start_time": "2024-05-13T21:58:58.344Z"
   },
   {
    "duration": 9,
    "start_time": "2024-05-13T22:01:11.638Z"
   },
   {
    "duration": 3,
    "start_time": "2024-05-13T22:01:19.449Z"
   },
   {
    "duration": 3,
    "start_time": "2024-05-13T22:01:32.096Z"
   },
   {
    "duration": 5,
    "start_time": "2024-05-13T22:01:50.910Z"
   },
   {
    "duration": 3,
    "start_time": "2024-05-13T22:02:27.868Z"
   },
   {
    "duration": 3,
    "start_time": "2024-05-13T22:02:35.319Z"
   },
   {
    "duration": 4,
    "start_time": "2024-05-13T22:03:05.306Z"
   },
   {
    "duration": 4,
    "start_time": "2024-05-14T07:37:24.567Z"
   },
   {
    "duration": 14,
    "start_time": "2024-05-14T07:37:24.574Z"
   },
   {
    "duration": 7,
    "start_time": "2024-05-14T07:37:24.590Z"
   },
   {
    "duration": 11,
    "start_time": "2024-05-14T07:37:24.599Z"
   },
   {
    "duration": 8,
    "start_time": "2024-05-14T07:37:24.612Z"
   },
   {
    "duration": 1715,
    "start_time": "2024-05-14T07:37:24.622Z"
   },
   {
    "duration": 0,
    "start_time": "2024-05-14T07:37:26.343Z"
   },
   {
    "duration": 0,
    "start_time": "2024-05-14T07:37:26.344Z"
   },
   {
    "duration": 0,
    "start_time": "2024-05-14T07:37:26.344Z"
   },
   {
    "duration": 0,
    "start_time": "2024-05-14T07:37:26.345Z"
   },
   {
    "duration": 0,
    "start_time": "2024-05-14T07:37:26.346Z"
   },
   {
    "duration": 0,
    "start_time": "2024-05-14T07:37:26.347Z"
   },
   {
    "duration": 0,
    "start_time": "2024-05-14T07:37:26.349Z"
   },
   {
    "duration": 0,
    "start_time": "2024-05-14T07:37:26.350Z"
   },
   {
    "duration": 0,
    "start_time": "2024-05-14T07:37:26.351Z"
   },
   {
    "duration": 0,
    "start_time": "2024-05-14T07:37:26.352Z"
   },
   {
    "duration": 0,
    "start_time": "2024-05-14T07:37:26.353Z"
   },
   {
    "duration": 0,
    "start_time": "2024-05-14T07:37:26.354Z"
   },
   {
    "duration": 0,
    "start_time": "2024-05-14T07:37:26.355Z"
   },
   {
    "duration": 0,
    "start_time": "2024-05-14T07:37:26.356Z"
   },
   {
    "duration": 0,
    "start_time": "2024-05-14T07:37:26.357Z"
   },
   {
    "duration": 0,
    "start_time": "2024-05-14T07:37:26.358Z"
   },
   {
    "duration": 0,
    "start_time": "2024-05-14T07:37:26.359Z"
   },
   {
    "duration": 0,
    "start_time": "2024-05-14T07:37:26.360Z"
   },
   {
    "duration": 0,
    "start_time": "2024-05-14T07:37:26.361Z"
   },
   {
    "duration": 0,
    "start_time": "2024-05-14T07:37:26.362Z"
   },
   {
    "duration": 0,
    "start_time": "2024-05-14T07:37:26.363Z"
   },
   {
    "duration": 0,
    "start_time": "2024-05-14T07:37:26.364Z"
   },
   {
    "duration": 0,
    "start_time": "2024-05-14T07:37:26.365Z"
   },
   {
    "duration": 0,
    "start_time": "2024-05-14T07:37:26.366Z"
   },
   {
    "duration": 0,
    "start_time": "2024-05-14T07:37:26.367Z"
   },
   {
    "duration": 0,
    "start_time": "2024-05-14T07:37:26.368Z"
   },
   {
    "duration": 0,
    "start_time": "2024-05-14T07:37:26.369Z"
   },
   {
    "duration": 0,
    "start_time": "2024-05-14T07:37:26.418Z"
   },
   {
    "duration": 0,
    "start_time": "2024-05-14T07:37:26.419Z"
   },
   {
    "duration": 0,
    "start_time": "2024-05-14T07:37:26.420Z"
   },
   {
    "duration": 0,
    "start_time": "2024-05-14T07:37:26.421Z"
   },
   {
    "duration": 0,
    "start_time": "2024-05-14T07:37:26.423Z"
   },
   {
    "duration": 0,
    "start_time": "2024-05-14T07:37:26.423Z"
   },
   {
    "duration": 0,
    "start_time": "2024-05-14T07:37:26.424Z"
   },
   {
    "duration": 0,
    "start_time": "2024-05-14T07:37:26.426Z"
   },
   {
    "duration": 0,
    "start_time": "2024-05-14T07:37:26.427Z"
   },
   {
    "duration": 0,
    "start_time": "2024-05-14T07:37:26.428Z"
   },
   {
    "duration": 0,
    "start_time": "2024-05-14T07:37:26.429Z"
   },
   {
    "duration": 0,
    "start_time": "2024-05-14T07:37:26.430Z"
   },
   {
    "duration": 0,
    "start_time": "2024-05-14T07:37:26.431Z"
   },
   {
    "duration": 0,
    "start_time": "2024-05-14T07:37:26.432Z"
   },
   {
    "duration": 0,
    "start_time": "2024-05-14T07:37:26.433Z"
   },
   {
    "duration": 0,
    "start_time": "2024-05-14T07:37:26.435Z"
   },
   {
    "duration": 0,
    "start_time": "2024-05-14T07:37:26.436Z"
   },
   {
    "duration": 0,
    "start_time": "2024-05-14T07:37:26.437Z"
   },
   {
    "duration": 0,
    "start_time": "2024-05-14T07:37:26.438Z"
   },
   {
    "duration": 0,
    "start_time": "2024-05-14T07:37:26.439Z"
   },
   {
    "duration": 0,
    "start_time": "2024-05-14T07:37:26.440Z"
   },
   {
    "duration": 0,
    "start_time": "2024-05-14T07:37:26.441Z"
   },
   {
    "duration": 0,
    "start_time": "2024-05-14T07:37:26.442Z"
   },
   {
    "duration": 0,
    "start_time": "2024-05-14T07:37:26.443Z"
   },
   {
    "duration": 0,
    "start_time": "2024-05-14T07:37:26.444Z"
   },
   {
    "duration": 0,
    "start_time": "2024-05-14T07:37:26.445Z"
   },
   {
    "duration": 0,
    "start_time": "2024-05-14T07:37:26.446Z"
   },
   {
    "duration": 0,
    "start_time": "2024-05-14T07:37:26.447Z"
   },
   {
    "duration": 0,
    "start_time": "2024-05-14T07:37:26.449Z"
   },
   {
    "duration": 0,
    "start_time": "2024-05-14T07:37:26.450Z"
   },
   {
    "duration": 0,
    "start_time": "2024-05-14T07:37:26.451Z"
   },
   {
    "duration": 0,
    "start_time": "2024-05-14T07:37:26.452Z"
   },
   {
    "duration": 0,
    "start_time": "2024-05-14T07:37:26.453Z"
   },
   {
    "duration": 0,
    "start_time": "2024-05-14T07:37:26.454Z"
   },
   {
    "duration": 0,
    "start_time": "2024-05-14T07:37:26.518Z"
   },
   {
    "duration": 0,
    "start_time": "2024-05-14T07:37:26.519Z"
   },
   {
    "duration": 0,
    "start_time": "2024-05-14T07:37:26.520Z"
   },
   {
    "duration": 0,
    "start_time": "2024-05-14T07:37:26.521Z"
   },
   {
    "duration": 0,
    "start_time": "2024-05-14T07:37:26.522Z"
   },
   {
    "duration": 0,
    "start_time": "2024-05-14T07:37:26.523Z"
   },
   {
    "duration": 0,
    "start_time": "2024-05-14T07:37:26.524Z"
   },
   {
    "duration": 0,
    "start_time": "2024-05-14T07:37:26.526Z"
   },
   {
    "duration": 0,
    "start_time": "2024-05-14T07:37:26.527Z"
   },
   {
    "duration": 0,
    "start_time": "2024-05-14T07:37:26.528Z"
   },
   {
    "duration": 0,
    "start_time": "2024-05-14T07:37:26.529Z"
   },
   {
    "duration": 0,
    "start_time": "2024-05-14T07:37:26.530Z"
   },
   {
    "duration": 0,
    "start_time": "2024-05-14T07:37:26.531Z"
   },
   {
    "duration": 0,
    "start_time": "2024-05-14T07:37:26.532Z"
   },
   {
    "duration": 0,
    "start_time": "2024-05-14T07:37:26.533Z"
   },
   {
    "duration": 0,
    "start_time": "2024-05-14T07:37:26.534Z"
   },
   {
    "duration": 0,
    "start_time": "2024-05-14T07:37:26.535Z"
   },
   {
    "duration": 0,
    "start_time": "2024-05-14T07:37:26.536Z"
   },
   {
    "duration": 0,
    "start_time": "2024-05-14T07:37:26.537Z"
   },
   {
    "duration": 0,
    "start_time": "2024-05-14T07:37:26.538Z"
   },
   {
    "duration": 0,
    "start_time": "2024-05-14T07:37:26.539Z"
   },
   {
    "duration": 0,
    "start_time": "2024-05-14T07:37:26.540Z"
   },
   {
    "duration": 0,
    "start_time": "2024-05-14T07:37:26.541Z"
   },
   {
    "duration": 0,
    "start_time": "2024-05-14T07:37:26.542Z"
   },
   {
    "duration": 0,
    "start_time": "2024-05-14T07:37:26.543Z"
   },
   {
    "duration": 0,
    "start_time": "2024-05-14T07:37:26.544Z"
   },
   {
    "duration": 0,
    "start_time": "2024-05-14T07:37:26.545Z"
   },
   {
    "duration": 0,
    "start_time": "2024-05-14T07:37:26.547Z"
   },
   {
    "duration": 0,
    "start_time": "2024-05-14T07:37:26.548Z"
   },
   {
    "duration": 0,
    "start_time": "2024-05-14T07:37:26.549Z"
   },
   {
    "duration": 0,
    "start_time": "2024-05-14T07:37:26.550Z"
   },
   {
    "duration": 0,
    "start_time": "2024-05-14T07:37:26.551Z"
   },
   {
    "duration": 0,
    "start_time": "2024-05-14T07:37:26.552Z"
   },
   {
    "duration": 0,
    "start_time": "2024-05-14T07:37:26.553Z"
   },
   {
    "duration": 0,
    "start_time": "2024-05-14T07:37:26.618Z"
   },
   {
    "duration": 0,
    "start_time": "2024-05-14T07:37:26.619Z"
   },
   {
    "duration": 0,
    "start_time": "2024-05-14T07:37:26.620Z"
   },
   {
    "duration": 0,
    "start_time": "2024-05-14T07:37:26.622Z"
   },
   {
    "duration": 0,
    "start_time": "2024-05-14T07:37:26.623Z"
   },
   {
    "duration": 0,
    "start_time": "2024-05-14T07:37:26.624Z"
   },
   {
    "duration": 0,
    "start_time": "2024-05-14T07:37:26.626Z"
   },
   {
    "duration": 0,
    "start_time": "2024-05-14T07:37:26.627Z"
   },
   {
    "duration": 4,
    "start_time": "2024-05-14T11:11:59.726Z"
   },
   {
    "duration": 3,
    "start_time": "2024-05-14T11:11:59.732Z"
   },
   {
    "duration": 5,
    "start_time": "2024-05-14T11:11:59.736Z"
   },
   {
    "duration": 5,
    "start_time": "2024-05-14T11:11:59.743Z"
   },
   {
    "duration": 4,
    "start_time": "2024-05-14T11:11:59.749Z"
   },
   {
    "duration": 1477,
    "start_time": "2024-05-14T11:11:59.755Z"
   },
   {
    "duration": 0,
    "start_time": "2024-05-14T11:12:01.238Z"
   },
   {
    "duration": 0,
    "start_time": "2024-05-14T11:12:01.240Z"
   },
   {
    "duration": 0,
    "start_time": "2024-05-14T11:12:01.242Z"
   },
   {
    "duration": 0,
    "start_time": "2024-05-14T11:12:01.243Z"
   },
   {
    "duration": 0,
    "start_time": "2024-05-14T11:12:01.245Z"
   },
   {
    "duration": 0,
    "start_time": "2024-05-14T11:12:01.246Z"
   },
   {
    "duration": 0,
    "start_time": "2024-05-14T11:12:01.248Z"
   },
   {
    "duration": 0,
    "start_time": "2024-05-14T11:12:01.249Z"
   },
   {
    "duration": 0,
    "start_time": "2024-05-14T11:12:01.251Z"
   },
   {
    "duration": 0,
    "start_time": "2024-05-14T11:12:01.252Z"
   },
   {
    "duration": 0,
    "start_time": "2024-05-14T11:12:01.254Z"
   },
   {
    "duration": 0,
    "start_time": "2024-05-14T11:12:01.255Z"
   },
   {
    "duration": 0,
    "start_time": "2024-05-14T11:12:01.256Z"
   },
   {
    "duration": 0,
    "start_time": "2024-05-14T11:12:01.258Z"
   },
   {
    "duration": 0,
    "start_time": "2024-05-14T11:12:01.259Z"
   },
   {
    "duration": 0,
    "start_time": "2024-05-14T11:12:01.260Z"
   },
   {
    "duration": 0,
    "start_time": "2024-05-14T11:12:01.262Z"
   },
   {
    "duration": 0,
    "start_time": "2024-05-14T11:12:01.263Z"
   },
   {
    "duration": 0,
    "start_time": "2024-05-14T11:12:01.265Z"
   },
   {
    "duration": 0,
    "start_time": "2024-05-14T11:12:01.266Z"
   },
   {
    "duration": 0,
    "start_time": "2024-05-14T11:12:01.267Z"
   },
   {
    "duration": 0,
    "start_time": "2024-05-14T11:12:01.268Z"
   },
   {
    "duration": 0,
    "start_time": "2024-05-14T11:12:01.269Z"
   },
   {
    "duration": 0,
    "start_time": "2024-05-14T11:12:01.271Z"
   },
   {
    "duration": 0,
    "start_time": "2024-05-14T11:12:01.318Z"
   },
   {
    "duration": 0,
    "start_time": "2024-05-14T11:12:01.320Z"
   },
   {
    "duration": 1,
    "start_time": "2024-05-14T11:12:01.320Z"
   },
   {
    "duration": 0,
    "start_time": "2024-05-14T11:12:01.322Z"
   },
   {
    "duration": 0,
    "start_time": "2024-05-14T11:12:01.323Z"
   },
   {
    "duration": 0,
    "start_time": "2024-05-14T11:12:01.324Z"
   },
   {
    "duration": 0,
    "start_time": "2024-05-14T11:12:01.325Z"
   },
   {
    "duration": 0,
    "start_time": "2024-05-14T11:12:01.326Z"
   },
   {
    "duration": 0,
    "start_time": "2024-05-14T11:12:01.327Z"
   },
   {
    "duration": 0,
    "start_time": "2024-05-14T11:12:01.328Z"
   },
   {
    "duration": 0,
    "start_time": "2024-05-14T11:12:01.329Z"
   },
   {
    "duration": 0,
    "start_time": "2024-05-14T11:12:01.330Z"
   },
   {
    "duration": 0,
    "start_time": "2024-05-14T11:12:01.331Z"
   },
   {
    "duration": 0,
    "start_time": "2024-05-14T11:12:01.332Z"
   },
   {
    "duration": 0,
    "start_time": "2024-05-14T11:12:01.333Z"
   },
   {
    "duration": 0,
    "start_time": "2024-05-14T11:12:01.334Z"
   },
   {
    "duration": 0,
    "start_time": "2024-05-14T11:12:01.335Z"
   },
   {
    "duration": 0,
    "start_time": "2024-05-14T11:12:01.336Z"
   },
   {
    "duration": 0,
    "start_time": "2024-05-14T11:12:01.337Z"
   },
   {
    "duration": 0,
    "start_time": "2024-05-14T11:12:01.338Z"
   },
   {
    "duration": 0,
    "start_time": "2024-05-14T11:12:01.339Z"
   },
   {
    "duration": 0,
    "start_time": "2024-05-14T11:12:01.340Z"
   },
   {
    "duration": 0,
    "start_time": "2024-05-14T11:12:01.341Z"
   },
   {
    "duration": 0,
    "start_time": "2024-05-14T11:12:01.342Z"
   },
   {
    "duration": 0,
    "start_time": "2024-05-14T11:12:01.344Z"
   },
   {
    "duration": 0,
    "start_time": "2024-05-14T11:12:01.345Z"
   },
   {
    "duration": 0,
    "start_time": "2024-05-14T11:12:01.346Z"
   },
   {
    "duration": 0,
    "start_time": "2024-05-14T11:12:01.347Z"
   },
   {
    "duration": 0,
    "start_time": "2024-05-14T11:12:01.348Z"
   },
   {
    "duration": 0,
    "start_time": "2024-05-14T11:12:01.349Z"
   },
   {
    "duration": 0,
    "start_time": "2024-05-14T11:12:01.350Z"
   },
   {
    "duration": 0,
    "start_time": "2024-05-14T11:12:01.352Z"
   },
   {
    "duration": 0,
    "start_time": "2024-05-14T11:12:01.353Z"
   },
   {
    "duration": 0,
    "start_time": "2024-05-14T11:12:01.354Z"
   },
   {
    "duration": 0,
    "start_time": "2024-05-14T11:12:01.354Z"
   },
   {
    "duration": 0,
    "start_time": "2024-05-14T11:12:01.418Z"
   },
   {
    "duration": 0,
    "start_time": "2024-05-14T11:12:01.419Z"
   },
   {
    "duration": 0,
    "start_time": "2024-05-14T11:12:01.420Z"
   },
   {
    "duration": 0,
    "start_time": "2024-05-14T11:12:01.421Z"
   },
   {
    "duration": 0,
    "start_time": "2024-05-14T11:12:01.422Z"
   },
   {
    "duration": 0,
    "start_time": "2024-05-14T11:12:01.424Z"
   },
   {
    "duration": 0,
    "start_time": "2024-05-14T11:12:01.425Z"
   },
   {
    "duration": 0,
    "start_time": "2024-05-14T11:12:01.425Z"
   },
   {
    "duration": 0,
    "start_time": "2024-05-14T11:12:01.426Z"
   },
   {
    "duration": 0,
    "start_time": "2024-05-14T11:12:01.428Z"
   },
   {
    "duration": 0,
    "start_time": "2024-05-14T11:12:01.429Z"
   },
   {
    "duration": 0,
    "start_time": "2024-05-14T11:12:01.430Z"
   },
   {
    "duration": 0,
    "start_time": "2024-05-14T11:12:01.431Z"
   },
   {
    "duration": 0,
    "start_time": "2024-05-14T11:12:01.432Z"
   },
   {
    "duration": 0,
    "start_time": "2024-05-14T11:12:01.433Z"
   },
   {
    "duration": 0,
    "start_time": "2024-05-14T11:12:01.434Z"
   },
   {
    "duration": 0,
    "start_time": "2024-05-14T11:12:01.435Z"
   },
   {
    "duration": 0,
    "start_time": "2024-05-14T11:12:01.436Z"
   },
   {
    "duration": 0,
    "start_time": "2024-05-14T11:12:01.437Z"
   },
   {
    "duration": 0,
    "start_time": "2024-05-14T11:12:01.438Z"
   },
   {
    "duration": 0,
    "start_time": "2024-05-14T11:12:01.439Z"
   },
   {
    "duration": 0,
    "start_time": "2024-05-14T11:12:01.440Z"
   },
   {
    "duration": 0,
    "start_time": "2024-05-14T11:12:01.442Z"
   },
   {
    "duration": 0,
    "start_time": "2024-05-14T11:12:01.443Z"
   },
   {
    "duration": 0,
    "start_time": "2024-05-14T11:12:01.444Z"
   },
   {
    "duration": 0,
    "start_time": "2024-05-14T11:12:01.446Z"
   },
   {
    "duration": 0,
    "start_time": "2024-05-14T11:12:01.447Z"
   },
   {
    "duration": 0,
    "start_time": "2024-05-14T11:12:01.448Z"
   },
   {
    "duration": 0,
    "start_time": "2024-05-14T11:12:01.449Z"
   },
   {
    "duration": 0,
    "start_time": "2024-05-14T11:12:01.450Z"
   },
   {
    "duration": 0,
    "start_time": "2024-05-14T11:12:01.451Z"
   },
   {
    "duration": 0,
    "start_time": "2024-05-14T11:12:01.452Z"
   },
   {
    "duration": 0,
    "start_time": "2024-05-14T11:12:01.453Z"
   },
   {
    "duration": 0,
    "start_time": "2024-05-14T11:12:01.455Z"
   },
   {
    "duration": 0,
    "start_time": "2024-05-14T11:12:01.518Z"
   },
   {
    "duration": 0,
    "start_time": "2024-05-14T11:12:01.519Z"
   },
   {
    "duration": 0,
    "start_time": "2024-05-14T11:12:01.520Z"
   },
   {
    "duration": 0,
    "start_time": "2024-05-14T11:12:01.521Z"
   },
   {
    "duration": 0,
    "start_time": "2024-05-14T11:12:01.522Z"
   },
   {
    "duration": 0,
    "start_time": "2024-05-14T11:12:01.523Z"
   },
   {
    "duration": 0,
    "start_time": "2024-05-14T11:12:01.524Z"
   },
   {
    "duration": 0,
    "start_time": "2024-05-14T11:12:01.525Z"
   },
   {
    "duration": 0,
    "start_time": "2024-05-14T11:12:01.526Z"
   },
   {
    "duration": 0,
    "start_time": "2024-05-14T11:12:01.528Z"
   },
   {
    "duration": 3,
    "start_time": "2024-05-14T11:19:31.334Z"
   },
   {
    "duration": 147,
    "start_time": "2024-05-14T11:19:31.339Z"
   },
   {
    "duration": 86,
    "start_time": "2024-05-14T11:19:31.487Z"
   },
   {
    "duration": 52,
    "start_time": "2024-05-14T11:19:31.574Z"
   },
   {
    "duration": 41,
    "start_time": "2024-05-14T11:19:31.628Z"
   },
   {
    "duration": 1435,
    "start_time": "2024-05-14T11:19:31.671Z"
   },
   {
    "duration": 0,
    "start_time": "2024-05-14T11:19:33.111Z"
   },
   {
    "duration": 1,
    "start_time": "2024-05-14T11:19:33.112Z"
   },
   {
    "duration": 1,
    "start_time": "2024-05-14T11:19:33.117Z"
   },
   {
    "duration": 0,
    "start_time": "2024-05-14T11:19:33.118Z"
   },
   {
    "duration": 0,
    "start_time": "2024-05-14T11:19:33.120Z"
   },
   {
    "duration": 0,
    "start_time": "2024-05-14T11:19:33.121Z"
   },
   {
    "duration": 0,
    "start_time": "2024-05-14T11:19:33.122Z"
   },
   {
    "duration": 0,
    "start_time": "2024-05-14T11:19:33.123Z"
   },
   {
    "duration": 0,
    "start_time": "2024-05-14T11:19:33.124Z"
   },
   {
    "duration": 0,
    "start_time": "2024-05-14T11:19:33.125Z"
   },
   {
    "duration": 0,
    "start_time": "2024-05-14T11:19:33.125Z"
   },
   {
    "duration": 1,
    "start_time": "2024-05-14T11:19:33.126Z"
   },
   {
    "duration": 0,
    "start_time": "2024-05-14T11:19:33.127Z"
   },
   {
    "duration": 0,
    "start_time": "2024-05-14T11:19:33.128Z"
   },
   {
    "duration": 0,
    "start_time": "2024-05-14T11:19:33.129Z"
   },
   {
    "duration": 0,
    "start_time": "2024-05-14T11:19:33.130Z"
   },
   {
    "duration": 0,
    "start_time": "2024-05-14T11:19:33.132Z"
   },
   {
    "duration": 0,
    "start_time": "2024-05-14T11:19:33.132Z"
   },
   {
    "duration": 0,
    "start_time": "2024-05-14T11:19:33.133Z"
   },
   {
    "duration": 0,
    "start_time": "2024-05-14T11:19:33.134Z"
   },
   {
    "duration": 0,
    "start_time": "2024-05-14T11:19:33.135Z"
   },
   {
    "duration": 0,
    "start_time": "2024-05-14T11:19:33.136Z"
   },
   {
    "duration": 0,
    "start_time": "2024-05-14T11:19:33.137Z"
   },
   {
    "duration": 0,
    "start_time": "2024-05-14T11:19:33.138Z"
   },
   {
    "duration": 0,
    "start_time": "2024-05-14T11:19:33.139Z"
   },
   {
    "duration": 0,
    "start_time": "2024-05-14T11:19:33.140Z"
   },
   {
    "duration": 0,
    "start_time": "2024-05-14T11:19:33.141Z"
   },
   {
    "duration": 0,
    "start_time": "2024-05-14T11:19:33.142Z"
   },
   {
    "duration": 0,
    "start_time": "2024-05-14T11:19:33.143Z"
   },
   {
    "duration": 0,
    "start_time": "2024-05-14T11:19:33.144Z"
   },
   {
    "duration": 0,
    "start_time": "2024-05-14T11:19:33.145Z"
   },
   {
    "duration": 0,
    "start_time": "2024-05-14T11:19:33.146Z"
   },
   {
    "duration": 0,
    "start_time": "2024-05-14T11:19:33.147Z"
   },
   {
    "duration": 0,
    "start_time": "2024-05-14T11:19:33.147Z"
   },
   {
    "duration": 0,
    "start_time": "2024-05-14T11:19:33.149Z"
   },
   {
    "duration": 0,
    "start_time": "2024-05-14T11:19:33.149Z"
   },
   {
    "duration": 0,
    "start_time": "2024-05-14T11:19:33.150Z"
   },
   {
    "duration": 0,
    "start_time": "2024-05-14T11:19:33.151Z"
   },
   {
    "duration": 0,
    "start_time": "2024-05-14T11:19:33.152Z"
   },
   {
    "duration": 0,
    "start_time": "2024-05-14T11:19:33.153Z"
   },
   {
    "duration": 0,
    "start_time": "2024-05-14T11:19:33.154Z"
   },
   {
    "duration": 0,
    "start_time": "2024-05-14T11:19:33.155Z"
   },
   {
    "duration": 0,
    "start_time": "2024-05-14T11:19:33.156Z"
   },
   {
    "duration": 0,
    "start_time": "2024-05-14T11:19:33.157Z"
   },
   {
    "duration": 0,
    "start_time": "2024-05-14T11:19:33.218Z"
   },
   {
    "duration": 0,
    "start_time": "2024-05-14T11:19:33.219Z"
   },
   {
    "duration": 0,
    "start_time": "2024-05-14T11:19:33.220Z"
   },
   {
    "duration": 0,
    "start_time": "2024-05-14T11:19:33.221Z"
   },
   {
    "duration": 0,
    "start_time": "2024-05-14T11:19:33.222Z"
   },
   {
    "duration": 0,
    "start_time": "2024-05-14T11:19:33.223Z"
   },
   {
    "duration": 0,
    "start_time": "2024-05-14T11:19:33.224Z"
   },
   {
    "duration": 0,
    "start_time": "2024-05-14T11:19:33.225Z"
   },
   {
    "duration": 0,
    "start_time": "2024-05-14T11:19:33.226Z"
   },
   {
    "duration": 0,
    "start_time": "2024-05-14T11:19:33.227Z"
   },
   {
    "duration": 0,
    "start_time": "2024-05-14T11:19:33.228Z"
   },
   {
    "duration": 0,
    "start_time": "2024-05-14T11:19:33.230Z"
   },
   {
    "duration": 0,
    "start_time": "2024-05-14T11:19:33.231Z"
   },
   {
    "duration": 0,
    "start_time": "2024-05-14T11:19:33.231Z"
   },
   {
    "duration": 0,
    "start_time": "2024-05-14T11:19:33.232Z"
   },
   {
    "duration": 0,
    "start_time": "2024-05-14T11:19:33.233Z"
   },
   {
    "duration": 0,
    "start_time": "2024-05-14T11:19:33.234Z"
   },
   {
    "duration": 0,
    "start_time": "2024-05-14T11:19:33.234Z"
   },
   {
    "duration": 0,
    "start_time": "2024-05-14T11:19:33.235Z"
   },
   {
    "duration": 0,
    "start_time": "2024-05-14T11:19:33.237Z"
   },
   {
    "duration": 0,
    "start_time": "2024-05-14T11:19:33.237Z"
   },
   {
    "duration": 0,
    "start_time": "2024-05-14T11:19:33.238Z"
   },
   {
    "duration": 0,
    "start_time": "2024-05-14T11:19:33.239Z"
   },
   {
    "duration": 0,
    "start_time": "2024-05-14T11:19:33.240Z"
   },
   {
    "duration": 0,
    "start_time": "2024-05-14T11:19:33.241Z"
   },
   {
    "duration": 0,
    "start_time": "2024-05-14T11:19:33.242Z"
   },
   {
    "duration": 0,
    "start_time": "2024-05-14T11:19:33.243Z"
   },
   {
    "duration": 0,
    "start_time": "2024-05-14T11:19:33.244Z"
   },
   {
    "duration": 0,
    "start_time": "2024-05-14T11:19:33.245Z"
   },
   {
    "duration": 0,
    "start_time": "2024-05-14T11:19:33.246Z"
   },
   {
    "duration": 0,
    "start_time": "2024-05-14T11:19:33.246Z"
   },
   {
    "duration": 0,
    "start_time": "2024-05-14T11:19:33.248Z"
   },
   {
    "duration": 0,
    "start_time": "2024-05-14T11:19:33.248Z"
   },
   {
    "duration": 0,
    "start_time": "2024-05-14T11:19:33.249Z"
   },
   {
    "duration": 0,
    "start_time": "2024-05-14T11:19:33.250Z"
   },
   {
    "duration": 0,
    "start_time": "2024-05-14T11:19:33.251Z"
   },
   {
    "duration": 0,
    "start_time": "2024-05-14T11:19:33.252Z"
   },
   {
    "duration": 0,
    "start_time": "2024-05-14T11:19:33.253Z"
   },
   {
    "duration": 0,
    "start_time": "2024-05-14T11:19:33.254Z"
   },
   {
    "duration": 0,
    "start_time": "2024-05-14T11:19:33.318Z"
   },
   {
    "duration": 0,
    "start_time": "2024-05-14T11:19:33.319Z"
   },
   {
    "duration": 0,
    "start_time": "2024-05-14T11:19:33.320Z"
   },
   {
    "duration": 0,
    "start_time": "2024-05-14T11:19:33.321Z"
   },
   {
    "duration": 0,
    "start_time": "2024-05-14T11:19:33.322Z"
   },
   {
    "duration": 0,
    "start_time": "2024-05-14T11:19:33.323Z"
   },
   {
    "duration": 0,
    "start_time": "2024-05-14T11:19:33.324Z"
   },
   {
    "duration": 0,
    "start_time": "2024-05-14T11:19:33.325Z"
   },
   {
    "duration": 0,
    "start_time": "2024-05-14T11:19:33.326Z"
   },
   {
    "duration": 0,
    "start_time": "2024-05-14T11:19:33.327Z"
   },
   {
    "duration": 0,
    "start_time": "2024-05-14T11:19:33.328Z"
   },
   {
    "duration": 0,
    "start_time": "2024-05-14T11:19:33.328Z"
   },
   {
    "duration": 0,
    "start_time": "2024-05-14T11:19:33.329Z"
   },
   {
    "duration": 0,
    "start_time": "2024-05-14T11:19:33.330Z"
   },
   {
    "duration": 0,
    "start_time": "2024-05-14T11:19:33.331Z"
   },
   {
    "duration": 0,
    "start_time": "2024-05-14T11:19:33.332Z"
   },
   {
    "duration": 0,
    "start_time": "2024-05-14T11:19:33.333Z"
   },
   {
    "duration": 0,
    "start_time": "2024-05-14T11:19:33.334Z"
   },
   {
    "duration": 0,
    "start_time": "2024-05-14T11:19:33.335Z"
   },
   {
    "duration": 0,
    "start_time": "2024-05-14T11:19:33.336Z"
   },
   {
    "duration": 5140,
    "start_time": "2024-05-14T11:19:47.447Z"
   },
   {
    "duration": 3816,
    "start_time": "2024-05-14T11:19:52.590Z"
   },
   {
    "duration": 23983,
    "start_time": "2024-05-14T11:19:56.408Z"
   },
   {
    "duration": 6135,
    "start_time": "2024-05-14T11:20:20.393Z"
   },
   {
    "duration": 3009,
    "start_time": "2024-05-14T11:20:26.530Z"
   },
   {
    "duration": 2226,
    "start_time": "2024-05-14T11:20:29.542Z"
   },
   {
    "duration": 3,
    "start_time": "2024-05-14T11:20:31.769Z"
   },
   {
    "duration": 41,
    "start_time": "2024-05-14T11:20:31.773Z"
   },
   {
    "duration": 42,
    "start_time": "2024-05-14T11:20:31.816Z"
   },
   {
    "duration": 2818,
    "start_time": "2024-05-14T11:20:31.860Z"
   },
   {
    "duration": 3,
    "start_time": "2024-05-14T11:20:34.679Z"
   },
   {
    "duration": 7,
    "start_time": "2024-05-14T11:20:34.684Z"
   },
   {
    "duration": 16,
    "start_time": "2024-05-14T11:20:34.693Z"
   },
   {
    "duration": 88,
    "start_time": "2024-05-14T11:20:34.710Z"
   },
   {
    "duration": 132,
    "start_time": "2024-05-14T11:20:34.800Z"
   },
   {
    "duration": 2,
    "start_time": "2024-05-14T11:20:34.934Z"
   },
   {
    "duration": 6333,
    "start_time": "2024-05-14T11:20:34.938Z"
   },
   {
    "duration": 4,
    "start_time": "2024-05-14T11:20:41.272Z"
   },
   {
    "duration": 406,
    "start_time": "2024-05-14T11:20:41.277Z"
   },
   {
    "duration": 489,
    "start_time": "2024-05-14T11:20:41.684Z"
   },
   {
    "duration": 391,
    "start_time": "2024-05-14T11:20:42.175Z"
   },
   {
    "duration": 2,
    "start_time": "2024-05-14T11:20:42.568Z"
   },
   {
    "duration": 231,
    "start_time": "2024-05-14T11:20:42.571Z"
   },
   {
    "duration": 3,
    "start_time": "2024-05-14T11:20:42.804Z"
   },
   {
    "duration": 24,
    "start_time": "2024-05-14T11:20:42.808Z"
   },
   {
    "duration": 21,
    "start_time": "2024-05-14T11:20:42.834Z"
   },
   {
    "duration": 22,
    "start_time": "2024-05-14T11:20:42.857Z"
   },
   {
    "duration": 38,
    "start_time": "2024-05-14T11:20:42.883Z"
   },
   {
    "duration": 516,
    "start_time": "2024-05-14T11:20:42.923Z"
   },
   {
    "duration": 23,
    "start_time": "2024-05-14T11:20:43.440Z"
   },
   {
    "duration": 20,
    "start_time": "2024-05-14T11:20:43.464Z"
   },
   {
    "duration": 34,
    "start_time": "2024-05-14T11:20:43.486Z"
   },
   {
    "duration": 20,
    "start_time": "2024-05-14T11:20:43.521Z"
   },
   {
    "duration": 2335,
    "start_time": "2024-05-14T11:20:43.543Z"
   },
   {
    "duration": 17,
    "start_time": "2024-05-14T11:20:45.880Z"
   },
   {
    "duration": 36,
    "start_time": "2024-05-14T11:20:45.898Z"
   },
   {
    "duration": 14282,
    "start_time": "2024-05-14T11:20:45.936Z"
   },
   {
    "duration": 19,
    "start_time": "2024-05-14T11:21:00.219Z"
   },
   {
    "duration": 643,
    "start_time": "2024-05-14T11:21:00.239Z"
   },
   {
    "duration": 19,
    "start_time": "2024-05-14T11:21:00.884Z"
   },
   {
    "duration": 594,
    "start_time": "2024-05-14T11:21:00.905Z"
   },
   {
    "duration": 13773,
    "start_time": "2024-05-14T11:21:01.501Z"
   },
   {
    "duration": 18,
    "start_time": "2024-05-14T11:21:15.276Z"
   },
   {
    "duration": 54,
    "start_time": "2024-05-14T11:21:15.296Z"
   },
   {
    "duration": 558,
    "start_time": "2024-05-14T11:21:15.352Z"
   },
   {
    "duration": 13600,
    "start_time": "2024-05-14T11:21:15.918Z"
   },
   {
    "duration": 17,
    "start_time": "2024-05-14T11:21:29.520Z"
   },
   {
    "duration": 411,
    "start_time": "2024-05-14T11:21:29.538Z"
   },
   {
    "duration": 4,
    "start_time": "2024-05-14T11:21:29.950Z"
   },
   {
    "duration": 64,
    "start_time": "2024-05-14T11:21:29.956Z"
   },
   {
    "duration": 286,
    "start_time": "2024-05-14T11:21:30.022Z"
   },
   {
    "duration": 415,
    "start_time": "2024-05-14T11:21:30.310Z"
   },
   {
    "duration": 3,
    "start_time": "2024-05-14T11:21:30.726Z"
   },
   {
    "duration": 148,
    "start_time": "2024-05-14T11:21:30.730Z"
   },
   {
    "duration": 2,
    "start_time": "2024-05-14T11:21:30.879Z"
   },
   {
    "duration": 11490,
    "start_time": "2024-05-14T11:21:30.883Z"
   },
   {
    "duration": 4,
    "start_time": "2024-05-14T11:21:42.375Z"
   },
   {
    "duration": 72,
    "start_time": "2024-05-14T11:21:42.381Z"
   },
   {
    "duration": 3,
    "start_time": "2024-05-14T11:21:42.454Z"
   },
   {
    "duration": 76,
    "start_time": "2024-05-14T11:21:42.459Z"
   },
   {
    "duration": 398,
    "start_time": "2024-05-14T11:21:42.537Z"
   },
   {
    "duration": 12,
    "start_time": "2024-05-14T11:21:42.936Z"
   },
   {
    "duration": 1370,
    "start_time": "2024-05-14T11:21:42.950Z"
   },
   {
    "duration": 1223,
    "start_time": "2024-05-14T11:21:44.321Z"
   },
   {
    "duration": 184,
    "start_time": "2024-05-14T11:21:45.545Z"
   },
   {
    "duration": 14,
    "start_time": "2024-05-14T11:21:45.730Z"
   },
   {
    "duration": 147,
    "start_time": "2024-05-14T11:21:45.746Z"
   },
   {
    "duration": 3,
    "start_time": "2024-05-14T11:21:45.895Z"
   },
   {
    "duration": 56,
    "start_time": "2024-05-14T11:21:45.900Z"
   },
   {
    "duration": 3,
    "start_time": "2024-05-14T11:21:45.957Z"
   },
   {
    "duration": 4,
    "start_time": "2024-05-14T11:21:45.961Z"
   },
   {
    "duration": 115,
    "start_time": "2024-05-14T11:21:45.967Z"
   },
   {
    "duration": 20,
    "start_time": "2024-05-14T11:21:46.083Z"
   },
   {
    "duration": 135,
    "start_time": "2024-05-14T11:21:46.105Z"
   },
   {
    "duration": 2,
    "start_time": "2024-05-14T11:21:46.242Z"
   },
   {
    "duration": 5,
    "start_time": "2024-05-14T11:21:46.246Z"
   },
   {
    "duration": 19,
    "start_time": "2024-05-14T11:21:46.252Z"
   },
   {
    "duration": 153,
    "start_time": "2024-05-14T11:21:46.273Z"
   },
   {
    "duration": 63,
    "start_time": "2024-05-14T11:21:46.427Z"
   },
   {
    "duration": 92,
    "start_time": "2024-05-14T11:21:46.492Z"
   },
   {
    "duration": 81,
    "start_time": "2024-05-14T11:21:46.586Z"
   },
   {
    "duration": 2,
    "start_time": "2024-05-14T11:21:46.674Z"
   },
   {
    "duration": 3,
    "start_time": "2024-05-14T11:21:46.678Z"
   },
   {
    "duration": 4,
    "start_time": "2024-05-14T11:21:46.683Z"
   },
   {
    "duration": 76,
    "start_time": "2024-05-14T11:21:46.689Z"
   },
   {
    "duration": 55,
    "start_time": "2024-05-14T11:21:46.767Z"
   },
   {
    "duration": 3,
    "start_time": "2024-05-14T11:21:46.823Z"
   },
   {
    "duration": 8,
    "start_time": "2024-05-14T11:21:46.827Z"
   },
   {
    "duration": 4,
    "start_time": "2024-05-14T11:21:46.836Z"
   },
   {
    "duration": 4,
    "start_time": "2024-05-14T11:21:46.841Z"
   },
   {
    "duration": 21,
    "start_time": "2024-05-14T11:21:46.847Z"
   },
   {
    "duration": 5,
    "start_time": "2024-05-14T11:21:46.870Z"
   },
   {
    "duration": 31629,
    "start_time": "2024-05-14T11:21:46.876Z"
   },
   {
    "duration": 3,
    "start_time": "2024-05-14T11:22:18.506Z"
   },
   {
    "duration": 20,
    "start_time": "2024-05-14T11:22:18.511Z"
   },
   {
    "duration": 4,
    "start_time": "2024-05-14T11:22:18.533Z"
   },
   {
    "duration": 5,
    "start_time": "2024-05-14T11:22:18.538Z"
   },
   {
    "duration": 7,
    "start_time": "2024-05-14T11:22:18.545Z"
   },
   {
    "duration": 5,
    "start_time": "2024-05-14T11:22:18.554Z"
   },
   {
    "duration": 4,
    "start_time": "2024-05-14T11:22:18.560Z"
   },
   {
    "duration": 10,
    "start_time": "2024-05-14T11:22:18.566Z"
   },
   {
    "duration": 60,
    "start_time": "2024-05-14T11:22:18.577Z"
   },
   {
    "duration": 22,
    "start_time": "2024-05-14T11:22:18.639Z"
   },
   {
    "duration": 405463,
    "start_time": "2024-05-14T11:22:18.662Z"
   },
   {
    "duration": 2,
    "start_time": "2024-05-14T11:29:04.127Z"
   },
   {
    "duration": 19,
    "start_time": "2024-05-14T11:29:04.131Z"
   },
   {
    "duration": 5,
    "start_time": "2024-05-14T11:29:04.151Z"
   },
   {
    "duration": 3,
    "start_time": "2024-05-14T11:29:04.158Z"
   },
   {
    "duration": 55,
    "start_time": "2024-05-14T11:29:04.163Z"
   },
   {
    "duration": 44,
    "start_time": "2024-05-14T11:31:09.706Z"
   },
   {
    "duration": 3,
    "start_time": "2024-05-14T11:31:14.211Z"
   },
   {
    "duration": 6,
    "start_time": "2024-05-14T11:31:15.702Z"
   },
   {
    "duration": 13631,
    "start_time": "2024-05-14T11:31:16.550Z"
   },
   {
    "duration": 41,
    "start_time": "2024-05-14T11:32:39.532Z"
   },
   {
    "duration": 3,
    "start_time": "2024-05-14T11:32:50.269Z"
   },
   {
    "duration": 3,
    "start_time": "2024-05-14T11:32:50.969Z"
   },
   {
    "duration": 19870,
    "start_time": "2024-05-14T11:32:51.557Z"
   },
   {
    "duration": 3,
    "start_time": "2024-05-14T11:33:17.229Z"
   },
   {
    "duration": 3,
    "start_time": "2024-05-14T11:33:17.836Z"
   },
   {
    "duration": 61889,
    "start_time": "2024-05-14T11:33:18.280Z"
   },
   {
    "duration": 3,
    "start_time": "2024-05-14T11:34:56.068Z"
   },
   {
    "duration": 2,
    "start_time": "2024-05-14T11:34:56.756Z"
   },
   {
    "duration": 3,
    "start_time": "2024-05-14T11:34:57.354Z"
   },
   {
    "duration": 3,
    "start_time": "2024-05-14T11:34:59.586Z"
   },
   {
    "duration": 3,
    "start_time": "2024-05-14T11:35:13.673Z"
   },
   {
    "duration": 2,
    "start_time": "2024-05-14T11:35:14.072Z"
   },
   {
    "duration": 31456,
    "start_time": "2024-05-14T11:35:14.492Z"
   },
   {
    "duration": 3,
    "start_time": "2024-05-14T11:36:33.124Z"
   },
   {
    "duration": 3,
    "start_time": "2024-05-14T11:36:33.428Z"
   },
   {
    "duration": 4,
    "start_time": "2024-05-14T11:36:33.691Z"
   },
   {
    "duration": 3,
    "start_time": "2024-05-14T11:36:34.487Z"
   },
   {
    "duration": 1478,
    "start_time": "2024-05-14T11:37:52.060Z"
   },
   {
    "duration": 112,
    "start_time": "2024-05-14T11:38:39.041Z"
   },
   {
    "duration": 105,
    "start_time": "2024-05-14T11:38:47.392Z"
   },
   {
    "duration": 4,
    "start_time": "2024-05-14T11:39:04.001Z"
   },
   {
    "duration": 59,
    "start_time": "2024-05-14T11:47:49.862Z"
   },
   {
    "duration": 11,
    "start_time": "2024-05-14T11:48:02.921Z"
   },
   {
    "duration": 15,
    "start_time": "2024-05-14T11:48:12.528Z"
   },
   {
    "duration": 55,
    "start_time": "2024-05-14T11:48:23.400Z"
   },
   {
    "duration": 25,
    "start_time": "2024-05-14T11:48:46.553Z"
   },
   {
    "duration": 4,
    "start_time": "2024-05-14T11:49:15.232Z"
   },
   {
    "duration": 10,
    "start_time": "2024-05-14T11:49:23.410Z"
   },
   {
    "duration": 4,
    "start_time": "2024-05-14T11:49:38.231Z"
   },
   {
    "duration": 7,
    "start_time": "2024-05-14T11:49:46.119Z"
   },
   {
    "duration": 24,
    "start_time": "2024-05-14T11:49:53.671Z"
   },
   {
    "duration": 10,
    "start_time": "2024-05-14T12:00:52.749Z"
   },
   {
    "duration": 122,
    "start_time": "2024-05-14T12:01:04.428Z"
   },
   {
    "duration": 10,
    "start_time": "2024-05-14T12:01:29.878Z"
   },
   {
    "duration": 5,
    "start_time": "2024-05-14T12:01:43.879Z"
   },
   {
    "duration": 4,
    "start_time": "2024-05-14T12:01:47.452Z"
   },
   {
    "duration": 3,
    "start_time": "2024-05-14T12:01:52.192Z"
   },
   {
    "duration": 443,
    "start_time": "2024-05-14T12:03:22.301Z"
   },
   {
    "duration": 4,
    "start_time": "2024-05-14T12:03:31.308Z"
   },
   {
    "duration": 3,
    "start_time": "2024-05-14T12:03:34.505Z"
   },
   {
    "duration": 6,
    "start_time": "2024-05-14T13:13:11.889Z"
   },
   {
    "duration": 3,
    "start_time": "2024-05-14T13:13:37.956Z"
   },
   {
    "duration": 3,
    "start_time": "2024-05-14T13:13:48.358Z"
   },
   {
    "duration": 2,
    "start_time": "2024-05-14T13:14:28.690Z"
   },
   {
    "duration": 4,
    "start_time": "2024-05-14T13:15:00.140Z"
   },
   {
    "duration": 3,
    "start_time": "2024-05-14T13:15:00.911Z"
   },
   {
    "duration": 5,
    "start_time": "2024-05-14T13:15:17.412Z"
   },
   {
    "duration": 4,
    "start_time": "2024-05-14T13:15:21.365Z"
   },
   {
    "duration": 3,
    "start_time": "2024-05-14T13:16:54.349Z"
   },
   {
    "duration": 2,
    "start_time": "2024-05-14T13:17:01.321Z"
   },
   {
    "duration": 2,
    "start_time": "2024-05-14T13:17:12.737Z"
   },
   {
    "duration": 4,
    "start_time": "2024-05-14T13:17:30.137Z"
   },
   {
    "duration": 2,
    "start_time": "2024-05-14T13:17:40.363Z"
   },
   {
    "duration": 2833,
    "start_time": "2024-05-14T13:18:15.656Z"
   },
   {
    "duration": 2832,
    "start_time": "2024-05-14T13:18:18.491Z"
   },
   {
    "duration": 5508,
    "start_time": "2024-05-14T13:18:21.325Z"
   },
   {
    "duration": 2760,
    "start_time": "2024-05-14T13:18:26.835Z"
   },
   {
    "duration": 2539,
    "start_time": "2024-05-14T13:18:29.596Z"
   },
   {
    "duration": 2074,
    "start_time": "2024-05-14T13:18:32.137Z"
   },
   {
    "duration": 3,
    "start_time": "2024-05-14T13:18:34.212Z"
   },
   {
    "duration": 8,
    "start_time": "2024-05-14T13:18:34.216Z"
   },
   {
    "duration": 6,
    "start_time": "2024-05-14T13:18:34.226Z"
   },
   {
    "duration": 815,
    "start_time": "2024-05-14T13:18:34.234Z"
   },
   {
    "duration": 3,
    "start_time": "2024-05-14T13:18:35.050Z"
   },
   {
    "duration": 25,
    "start_time": "2024-05-14T13:18:35.055Z"
   },
   {
    "duration": 42,
    "start_time": "2024-05-14T13:18:35.083Z"
   },
   {
    "duration": 119,
    "start_time": "2024-05-14T13:18:35.126Z"
   },
   {
    "duration": 130,
    "start_time": "2024-05-14T13:18:35.247Z"
   },
   {
    "duration": 13,
    "start_time": "2024-05-14T13:18:35.379Z"
   },
   {
    "duration": 6505,
    "start_time": "2024-05-14T13:18:35.394Z"
   },
   {
    "duration": 3,
    "start_time": "2024-05-14T13:18:41.900Z"
   },
   {
    "duration": 425,
    "start_time": "2024-05-14T13:18:41.904Z"
   },
   {
    "duration": 462,
    "start_time": "2024-05-14T13:18:42.330Z"
   },
   {
    "duration": 421,
    "start_time": "2024-05-14T13:18:42.793Z"
   },
   {
    "duration": 3,
    "start_time": "2024-05-14T13:18:43.215Z"
   },
   {
    "duration": 248,
    "start_time": "2024-05-14T13:18:43.219Z"
   },
   {
    "duration": 3,
    "start_time": "2024-05-14T13:18:43.468Z"
   },
   {
    "duration": 22,
    "start_time": "2024-05-14T13:18:43.473Z"
   },
   {
    "duration": 36,
    "start_time": "2024-05-14T13:18:43.497Z"
   },
   {
    "duration": 20,
    "start_time": "2024-05-14T13:18:43.534Z"
   },
   {
    "duration": 17,
    "start_time": "2024-05-14T13:18:43.558Z"
   },
   {
    "duration": 500,
    "start_time": "2024-05-14T13:18:43.577Z"
   },
   {
    "duration": 22,
    "start_time": "2024-05-14T13:18:44.078Z"
   },
   {
    "duration": 32,
    "start_time": "2024-05-14T13:18:44.102Z"
   },
   {
    "duration": 17,
    "start_time": "2024-05-14T13:18:44.136Z"
   },
   {
    "duration": 21,
    "start_time": "2024-05-14T13:18:44.154Z"
   },
   {
    "duration": 2403,
    "start_time": "2024-05-14T13:18:44.176Z"
   },
   {
    "duration": 17,
    "start_time": "2024-05-14T13:18:46.581Z"
   },
   {
    "duration": 41,
    "start_time": "2024-05-14T13:18:46.599Z"
   },
   {
    "duration": 14125,
    "start_time": "2024-05-14T13:18:46.641Z"
   },
   {
    "duration": 19,
    "start_time": "2024-05-14T13:19:00.768Z"
   },
   {
    "duration": 578,
    "start_time": "2024-05-14T13:19:00.789Z"
   },
   {
    "duration": 20,
    "start_time": "2024-05-14T13:19:01.368Z"
   },
   {
    "duration": 532,
    "start_time": "2024-05-14T13:19:01.390Z"
   },
   {
    "duration": 13980,
    "start_time": "2024-05-14T13:19:01.923Z"
   },
   {
    "duration": 17,
    "start_time": "2024-05-14T13:19:15.905Z"
   },
   {
    "duration": 24,
    "start_time": "2024-05-14T13:19:15.923Z"
   },
   {
    "duration": 526,
    "start_time": "2024-05-14T13:19:15.948Z"
   },
   {
    "duration": 13623,
    "start_time": "2024-05-14T13:19:16.475Z"
   },
   {
    "duration": 28,
    "start_time": "2024-05-14T13:19:30.099Z"
   },
   {
    "duration": 450,
    "start_time": "2024-05-14T13:19:30.129Z"
   },
   {
    "duration": 3,
    "start_time": "2024-05-14T13:19:30.581Z"
   },
   {
    "duration": 205,
    "start_time": "2024-05-14T13:19:30.586Z"
   },
   {
    "duration": 350,
    "start_time": "2024-05-14T13:19:30.793Z"
   },
   {
    "duration": 418,
    "start_time": "2024-05-14T13:19:31.144Z"
   },
   {
    "duration": 3,
    "start_time": "2024-05-14T13:19:31.564Z"
   },
   {
    "duration": 113,
    "start_time": "2024-05-14T13:19:31.569Z"
   },
   {
    "duration": 205,
    "start_time": "2024-05-14T13:19:31.684Z"
   },
   {
    "duration": 3,
    "start_time": "2024-05-14T13:19:31.890Z"
   },
   {
    "duration": 11466,
    "start_time": "2024-05-14T13:19:31.894Z"
   },
   {
    "duration": 9,
    "start_time": "2024-05-14T13:19:43.364Z"
   },
   {
    "duration": 63,
    "start_time": "2024-05-14T13:19:43.375Z"
   },
   {
    "duration": 3,
    "start_time": "2024-05-14T13:19:43.440Z"
   },
   {
    "duration": 76,
    "start_time": "2024-05-14T13:19:43.445Z"
   },
   {
    "duration": 422,
    "start_time": "2024-05-14T13:19:43.522Z"
   },
   {
    "duration": 11,
    "start_time": "2024-05-14T13:19:43.946Z"
   },
   {
    "duration": 1402,
    "start_time": "2024-05-14T13:19:43.959Z"
   },
   {
    "duration": 1287,
    "start_time": "2024-05-14T13:19:45.363Z"
   },
   {
    "duration": 169,
    "start_time": "2024-05-14T13:19:46.651Z"
   },
   {
    "duration": 14,
    "start_time": "2024-05-14T13:19:46.821Z"
   },
   {
    "duration": 131,
    "start_time": "2024-05-14T13:19:46.836Z"
   },
   {
    "duration": 3,
    "start_time": "2024-05-14T13:19:46.968Z"
   },
   {
    "duration": 61,
    "start_time": "2024-05-14T13:19:46.972Z"
   },
   {
    "duration": 2,
    "start_time": "2024-05-14T13:19:47.035Z"
   },
   {
    "duration": 13,
    "start_time": "2024-05-14T13:19:47.038Z"
   },
   {
    "duration": 113,
    "start_time": "2024-05-14T13:19:47.053Z"
   },
   {
    "duration": 22,
    "start_time": "2024-05-14T13:19:47.167Z"
   },
   {
    "duration": 158,
    "start_time": "2024-05-14T13:19:47.191Z"
   },
   {
    "duration": 2,
    "start_time": "2024-05-14T13:19:47.351Z"
   },
   {
    "duration": 8,
    "start_time": "2024-05-14T13:19:47.354Z"
   },
   {
    "duration": 30,
    "start_time": "2024-05-14T13:19:47.364Z"
   },
   {
    "duration": 124,
    "start_time": "2024-05-14T13:19:47.396Z"
   },
   {
    "duration": 62,
    "start_time": "2024-05-14T13:19:47.522Z"
   },
   {
    "duration": 115,
    "start_time": "2024-05-14T13:19:47.586Z"
   },
   {
    "duration": 80,
    "start_time": "2024-05-14T13:19:47.707Z"
   },
   {
    "duration": 3,
    "start_time": "2024-05-14T13:19:47.789Z"
   },
   {
    "duration": 5,
    "start_time": "2024-05-14T13:19:47.793Z"
   },
   {
    "duration": 17,
    "start_time": "2024-05-14T13:19:47.800Z"
   },
   {
    "duration": 59,
    "start_time": "2024-05-14T13:19:47.819Z"
   },
   {
    "duration": 57,
    "start_time": "2024-05-14T13:19:47.880Z"
   },
   {
    "duration": 2,
    "start_time": "2024-05-14T13:19:47.939Z"
   },
   {
    "duration": 5,
    "start_time": "2024-05-14T13:19:47.942Z"
   },
   {
    "duration": 4,
    "start_time": "2024-05-14T13:19:47.948Z"
   },
   {
    "duration": 4,
    "start_time": "2024-05-14T13:19:47.954Z"
   },
   {
    "duration": 13,
    "start_time": "2024-05-14T13:19:47.959Z"
   },
   {
    "duration": 4,
    "start_time": "2024-05-14T13:19:47.974Z"
   },
   {
    "duration": 31653,
    "start_time": "2024-05-14T13:19:47.979Z"
   },
   {
    "duration": 3,
    "start_time": "2024-05-14T13:20:19.633Z"
   },
   {
    "duration": 14,
    "start_time": "2024-05-14T13:20:19.638Z"
   },
   {
    "duration": 4,
    "start_time": "2024-05-14T13:20:19.654Z"
   },
   {
    "duration": 6,
    "start_time": "2024-05-14T13:20:19.659Z"
   },
   {
    "duration": 4,
    "start_time": "2024-05-14T13:20:19.667Z"
   },
   {
    "duration": 5,
    "start_time": "2024-05-14T13:20:19.672Z"
   },
   {
    "duration": 3,
    "start_time": "2024-05-14T13:20:19.679Z"
   },
   {
    "duration": 6,
    "start_time": "2024-05-14T13:20:19.684Z"
   },
   {
    "duration": 70,
    "start_time": "2024-05-14T13:20:19.691Z"
   },
   {
    "duration": 23,
    "start_time": "2024-05-14T13:20:19.763Z"
   },
   {
    "duration": 470837,
    "start_time": "2024-05-14T13:20:19.787Z"
   },
   {
    "duration": 3,
    "start_time": "2024-05-14T13:28:10.626Z"
   },
   {
    "duration": 6,
    "start_time": "2024-05-14T13:28:10.630Z"
   },
   {
    "duration": 11,
    "start_time": "2024-05-14T13:28:10.638Z"
   },
   {
    "duration": 4,
    "start_time": "2024-05-14T13:28:10.650Z"
   },
   {
    "duration": 7,
    "start_time": "2024-05-14T13:28:10.655Z"
   },
   {
    "duration": 6,
    "start_time": "2024-05-14T13:28:10.663Z"
   },
   {
    "duration": 161,
    "start_time": "2024-05-14T13:28:10.670Z"
   },
   {
    "duration": 3,
    "start_time": "2024-05-14T13:28:10.833Z"
   },
   {
    "duration": 11,
    "start_time": "2024-05-14T13:28:10.837Z"
   },
   {
    "duration": 7,
    "start_time": "2024-05-14T13:28:10.850Z"
   },
   {
    "duration": 9,
    "start_time": "2024-05-14T13:28:10.858Z"
   },
   {
    "duration": 5,
    "start_time": "2024-05-14T13:28:10.869Z"
   },
   {
    "duration": 4,
    "start_time": "2024-05-14T13:28:10.875Z"
   },
   {
    "duration": 452,
    "start_time": "2024-05-14T13:28:10.881Z"
   },
   {
    "duration": 2,
    "start_time": "2024-05-14T13:28:11.341Z"
   },
   {
    "duration": 74,
    "start_time": "2024-05-14T13:28:11.345Z"
   },
   {
    "duration": 9,
    "start_time": "2024-05-14T13:28:11.420Z"
   },
   {
    "duration": 25,
    "start_time": "2024-05-14T13:28:11.430Z"
   },
   {
    "duration": 7,
    "start_time": "2024-05-14T13:28:11.456Z"
   },
   {
    "duration": 2749,
    "start_time": "2024-05-14T13:38:26.608Z"
   },
   {
    "duration": 2870,
    "start_time": "2024-05-14T13:38:29.359Z"
   },
   {
    "duration": 2550,
    "start_time": "2024-05-14T13:38:32.231Z"
   },
   {
    "duration": 2674,
    "start_time": "2024-05-14T13:38:34.784Z"
   },
   {
    "duration": 2508,
    "start_time": "2024-05-14T13:38:37.460Z"
   },
   {
    "duration": 2132,
    "start_time": "2024-05-14T13:38:39.969Z"
   },
   {
    "duration": 2,
    "start_time": "2024-05-14T13:38:42.103Z"
   },
   {
    "duration": 21,
    "start_time": "2024-05-14T13:38:42.107Z"
   },
   {
    "duration": 8,
    "start_time": "2024-05-14T13:38:42.129Z"
   },
   {
    "duration": 819,
    "start_time": "2024-05-14T13:38:42.140Z"
   },
   {
    "duration": 3,
    "start_time": "2024-05-14T13:38:42.961Z"
   },
   {
    "duration": 12,
    "start_time": "2024-05-14T13:38:42.965Z"
   },
   {
    "duration": 19,
    "start_time": "2024-05-14T13:38:42.978Z"
   },
   {
    "duration": 90,
    "start_time": "2024-05-14T13:38:42.998Z"
   },
   {
    "duration": 137,
    "start_time": "2024-05-14T13:38:43.090Z"
   },
   {
    "duration": 2,
    "start_time": "2024-05-14T13:38:43.229Z"
   },
   {
    "duration": 6354,
    "start_time": "2024-05-14T13:38:43.233Z"
   },
   {
    "duration": 3,
    "start_time": "2024-05-14T13:38:49.589Z"
   },
   {
    "duration": 432,
    "start_time": "2024-05-14T13:38:49.594Z"
   },
   {
    "duration": 441,
    "start_time": "2024-05-14T13:38:50.028Z"
   },
   {
    "duration": 453,
    "start_time": "2024-05-14T13:38:50.471Z"
   },
   {
    "duration": 2,
    "start_time": "2024-05-14T13:38:50.926Z"
   },
   {
    "duration": 439,
    "start_time": "2024-05-14T13:38:50.930Z"
   },
   {
    "duration": 4,
    "start_time": "2024-05-14T13:38:51.417Z"
   },
   {
    "duration": 33,
    "start_time": "2024-05-14T13:38:51.423Z"
   },
   {
    "duration": 29,
    "start_time": "2024-05-14T13:38:51.458Z"
   },
   {
    "duration": 25,
    "start_time": "2024-05-14T13:38:51.489Z"
   },
   {
    "duration": 22,
    "start_time": "2024-05-14T13:38:51.518Z"
   },
   {
    "duration": 527,
    "start_time": "2024-05-14T13:38:51.542Z"
   },
   {
    "duration": 21,
    "start_time": "2024-05-14T13:38:52.071Z"
   },
   {
    "duration": 36,
    "start_time": "2024-05-14T13:38:52.093Z"
   },
   {
    "duration": 16,
    "start_time": "2024-05-14T13:38:52.131Z"
   },
   {
    "duration": 21,
    "start_time": "2024-05-14T13:38:52.149Z"
   },
   {
    "duration": 2324,
    "start_time": "2024-05-14T13:38:52.171Z"
   },
   {
    "duration": 25,
    "start_time": "2024-05-14T13:38:54.496Z"
   },
   {
    "duration": 27,
    "start_time": "2024-05-14T13:38:54.522Z"
   },
   {
    "duration": 14414,
    "start_time": "2024-05-14T13:38:54.550Z"
   },
   {
    "duration": 17,
    "start_time": "2024-05-14T13:39:08.966Z"
   },
   {
    "duration": 515,
    "start_time": "2024-05-14T13:39:08.985Z"
   },
   {
    "duration": 22,
    "start_time": "2024-05-14T13:39:09.502Z"
   },
   {
    "duration": 479,
    "start_time": "2024-05-14T13:39:09.526Z"
   },
   {
    "duration": 14336,
    "start_time": "2024-05-14T13:39:10.007Z"
   },
   {
    "duration": 17,
    "start_time": "2024-05-14T13:39:24.345Z"
   },
   {
    "duration": 28,
    "start_time": "2024-05-14T13:39:24.364Z"
   },
   {
    "duration": 573,
    "start_time": "2024-05-14T13:39:24.393Z"
   },
   {
    "duration": 13977,
    "start_time": "2024-05-14T13:39:24.967Z"
   },
   {
    "duration": 17,
    "start_time": "2024-05-14T13:39:38.946Z"
   },
   {
    "duration": 409,
    "start_time": "2024-05-14T13:39:38.964Z"
   },
   {
    "duration": 4,
    "start_time": "2024-05-14T13:39:39.375Z"
   },
   {
    "duration": 70,
    "start_time": "2024-05-14T13:39:39.380Z"
   },
   {
    "duration": 291,
    "start_time": "2024-05-14T13:39:39.451Z"
   },
   {
    "duration": 402,
    "start_time": "2024-05-14T13:39:39.743Z"
   },
   {
    "duration": 3,
    "start_time": "2024-05-14T13:39:40.146Z"
   },
   {
    "duration": 68,
    "start_time": "2024-05-14T13:39:40.150Z"
   },
   {
    "duration": 121,
    "start_time": "2024-05-14T13:39:40.220Z"
   },
   {
    "duration": 2,
    "start_time": "2024-05-14T13:39:40.342Z"
   },
   {
    "duration": 11645,
    "start_time": "2024-05-14T13:39:40.345Z"
   },
   {
    "duration": 4,
    "start_time": "2024-05-14T13:39:51.991Z"
   },
   {
    "duration": 76,
    "start_time": "2024-05-14T13:39:51.996Z"
   },
   {
    "duration": 4,
    "start_time": "2024-05-14T13:39:52.073Z"
   },
   {
    "duration": 74,
    "start_time": "2024-05-14T13:39:52.078Z"
   },
   {
    "duration": 482,
    "start_time": "2024-05-14T13:39:52.154Z"
   },
   {
    "duration": 13,
    "start_time": "2024-05-14T13:39:52.637Z"
   },
   {
    "duration": 1451,
    "start_time": "2024-05-14T13:39:52.651Z"
   },
   {
    "duration": 1322,
    "start_time": "2024-05-14T13:39:54.103Z"
   },
   {
    "duration": 177,
    "start_time": "2024-05-14T13:39:55.428Z"
   },
   {
    "duration": 22,
    "start_time": "2024-05-14T13:39:55.610Z"
   },
   {
    "duration": 159,
    "start_time": "2024-05-14T13:39:55.634Z"
   },
   {
    "duration": 3,
    "start_time": "2024-05-14T13:39:55.795Z"
   },
   {
    "duration": 71,
    "start_time": "2024-05-14T13:39:55.800Z"
   },
   {
    "duration": 3,
    "start_time": "2024-05-14T13:39:55.872Z"
   },
   {
    "duration": 21,
    "start_time": "2024-05-14T13:39:55.876Z"
   },
   {
    "duration": 136,
    "start_time": "2024-05-14T13:39:55.898Z"
   },
   {
    "duration": 40,
    "start_time": "2024-05-14T13:39:56.036Z"
   },
   {
    "duration": 176,
    "start_time": "2024-05-14T13:39:56.078Z"
   },
   {
    "duration": 2,
    "start_time": "2024-05-14T13:39:56.255Z"
   },
   {
    "duration": 11,
    "start_time": "2024-05-14T13:39:56.259Z"
   },
   {
    "duration": 22,
    "start_time": "2024-05-14T13:39:56.272Z"
   },
   {
    "duration": 124,
    "start_time": "2024-05-14T13:39:56.296Z"
   },
   {
    "duration": 61,
    "start_time": "2024-05-14T13:39:56.425Z"
   },
   {
    "duration": 87,
    "start_time": "2024-05-14T13:39:56.487Z"
   },
   {
    "duration": 86,
    "start_time": "2024-05-14T13:39:56.580Z"
   },
   {
    "duration": 2,
    "start_time": "2024-05-14T13:39:56.668Z"
   },
   {
    "duration": 7,
    "start_time": "2024-05-14T13:39:56.672Z"
   },
   {
    "duration": 7,
    "start_time": "2024-05-14T13:39:56.681Z"
   },
   {
    "duration": 72,
    "start_time": "2024-05-14T13:39:56.689Z"
   },
   {
    "duration": 51,
    "start_time": "2024-05-14T13:39:56.763Z"
   },
   {
    "duration": 8,
    "start_time": "2024-05-14T13:39:56.817Z"
   },
   {
    "duration": 4,
    "start_time": "2024-05-14T13:39:56.827Z"
   },
   {
    "duration": 14,
    "start_time": "2024-05-14T13:39:56.833Z"
   },
   {
    "duration": 7,
    "start_time": "2024-05-14T13:39:56.848Z"
   },
   {
    "duration": 5,
    "start_time": "2024-05-14T13:39:56.856Z"
   },
   {
    "duration": 9,
    "start_time": "2024-05-14T13:39:56.862Z"
   },
   {
    "duration": 31208,
    "start_time": "2024-05-14T13:39:56.872Z"
   },
   {
    "duration": 3,
    "start_time": "2024-05-14T13:40:28.082Z"
   },
   {
    "duration": 22,
    "start_time": "2024-05-14T13:40:28.087Z"
   },
   {
    "duration": 14,
    "start_time": "2024-05-14T13:40:28.110Z"
   },
   {
    "duration": 25,
    "start_time": "2024-05-14T13:40:28.126Z"
   },
   {
    "duration": 9,
    "start_time": "2024-05-14T13:40:28.152Z"
   },
   {
    "duration": 29,
    "start_time": "2024-05-14T13:40:28.163Z"
   },
   {
    "duration": 17,
    "start_time": "2024-05-14T13:40:28.195Z"
   },
   {
    "duration": 22,
    "start_time": "2024-05-14T13:40:28.213Z"
   },
   {
    "duration": 54,
    "start_time": "2024-05-14T13:40:28.236Z"
   },
   {
    "duration": 33,
    "start_time": "2024-05-14T13:40:28.291Z"
   },
   {
    "duration": 450803,
    "start_time": "2024-05-14T13:40:28.326Z"
   },
   {
    "duration": 3,
    "start_time": "2024-05-14T13:47:59.131Z"
   },
   {
    "duration": 86,
    "start_time": "2024-05-14T13:47:59.135Z"
   },
   {
    "duration": 2,
    "start_time": "2024-05-14T13:47:59.222Z"
   },
   {
    "duration": 5,
    "start_time": "2024-05-14T13:47:59.226Z"
   },
   {
    "duration": 4,
    "start_time": "2024-05-14T13:47:59.232Z"
   },
   {
    "duration": 3,
    "start_time": "2024-05-14T13:47:59.237Z"
   },
   {
    "duration": 138,
    "start_time": "2024-05-14T13:47:59.241Z"
   },
   {
    "duration": 3,
    "start_time": "2024-05-14T13:47:59.380Z"
   },
   {
    "duration": 4,
    "start_time": "2024-05-14T13:47:59.384Z"
   },
   {
    "duration": 5,
    "start_time": "2024-05-14T13:47:59.389Z"
   },
   {
    "duration": 13,
    "start_time": "2024-05-14T13:47:59.396Z"
   },
   {
    "duration": 9,
    "start_time": "2024-05-14T13:47:59.410Z"
   },
   {
    "duration": 5,
    "start_time": "2024-05-14T13:47:59.420Z"
   },
   {
    "duration": 408,
    "start_time": "2024-05-14T13:47:59.426Z"
   },
   {
    "duration": 77,
    "start_time": "2024-05-14T13:47:59.841Z"
   },
   {
    "duration": 3,
    "start_time": "2024-05-14T13:47:59.919Z"
   },
   {
    "duration": 5,
    "start_time": "2024-05-14T13:47:59.923Z"
   },
   {
    "duration": 5,
    "start_time": "2024-05-14T13:47:59.929Z"
   },
   {
    "duration": 6,
    "start_time": "2024-05-14T13:47:59.935Z"
   },
   {
    "duration": 3,
    "start_time": "2024-05-14T14:05:03.208Z"
   },
   {
    "duration": 4,
    "start_time": "2024-05-14T14:05:09.403Z"
   },
   {
    "duration": 3,
    "start_time": "2024-05-14T14:05:43.676Z"
   },
   {
    "duration": 4,
    "start_time": "2024-05-14T14:05:48.592Z"
   },
   {
    "duration": 3,
    "start_time": "2024-05-14T14:05:56.694Z"
   },
   {
    "duration": 3,
    "start_time": "2024-05-14T14:06:05.313Z"
   },
   {
    "duration": 175,
    "start_time": "2024-05-14T14:06:15.798Z"
   },
   {
    "duration": 82,
    "start_time": "2024-05-14T14:06:20.737Z"
   },
   {
    "duration": 90,
    "start_time": "2024-05-14T14:08:00.250Z"
   },
   {
    "duration": 96,
    "start_time": "2024-05-14T14:08:07.035Z"
   },
   {
    "duration": 122,
    "start_time": "2024-05-14T14:08:31.686Z"
   },
   {
    "duration": 90,
    "start_time": "2024-05-14T14:08:37.780Z"
   },
   {
    "duration": 98,
    "start_time": "2024-05-14T14:09:16.952Z"
   },
   {
    "duration": 3,
    "start_time": "2024-05-14T14:10:41.286Z"
   },
   {
    "duration": 2,
    "start_time": "2024-05-14T14:10:47.986Z"
   },
   {
    "duration": 3,
    "start_time": "2024-05-14T14:11:16.709Z"
   },
   {
    "duration": 3,
    "start_time": "2024-05-14T14:11:20.962Z"
   },
   {
    "duration": 108,
    "start_time": "2024-05-14T14:11:41.303Z"
   },
   {
    "duration": 3,
    "start_time": "2024-05-14T14:11:44.068Z"
   },
   {
    "duration": 85,
    "start_time": "2024-05-14T14:11:45.459Z"
   },
   {
    "duration": 104,
    "start_time": "2024-05-14T14:14:50.521Z"
   },
   {
    "duration": 240,
    "start_time": "2024-05-14T14:14:55.052Z"
   },
   {
    "duration": 97,
    "start_time": "2024-05-14T14:14:57.675Z"
   },
   {
    "duration": 97,
    "start_time": "2024-05-14T14:15:03.251Z"
   },
   {
    "duration": 111,
    "start_time": "2024-05-14T14:16:07.597Z"
   },
   {
    "duration": 210,
    "start_time": "2024-05-14T14:16:14.129Z"
   },
   {
    "duration": 233,
    "start_time": "2024-05-14T14:16:21.988Z"
   },
   {
    "duration": 208,
    "start_time": "2024-05-14T14:16:36.341Z"
   },
   {
    "duration": 74,
    "start_time": "2024-05-14T14:16:49.265Z"
   },
   {
    "duration": 188,
    "start_time": "2024-05-14T14:16:55.857Z"
   },
   {
    "duration": 148,
    "start_time": "2024-05-14T14:17:03.580Z"
   },
   {
    "duration": 206,
    "start_time": "2024-05-14T14:17:11.430Z"
   },
   {
    "duration": 382,
    "start_time": "2024-05-14T14:17:15.352Z"
   },
   {
    "duration": 231,
    "start_time": "2024-05-14T14:17:23.105Z"
   },
   {
    "duration": 178,
    "start_time": "2024-05-14T14:17:27.063Z"
   },
   {
    "duration": 172,
    "start_time": "2024-05-14T14:17:31.172Z"
   },
   {
    "duration": 235,
    "start_time": "2024-05-14T14:17:34.698Z"
   },
   {
    "duration": 232,
    "start_time": "2024-05-14T14:17:39.303Z"
   },
   {
    "duration": 265,
    "start_time": "2024-05-14T14:17:42.388Z"
   },
   {
    "duration": 242,
    "start_time": "2024-05-14T14:17:45.586Z"
   },
   {
    "duration": 202,
    "start_time": "2024-05-14T14:17:51.054Z"
   },
   {
    "duration": 199,
    "start_time": "2024-05-14T14:17:54.136Z"
   },
   {
    "duration": 323,
    "start_time": "2024-05-14T14:17:56.847Z"
   },
   {
    "duration": 192,
    "start_time": "2024-05-14T14:18:00.663Z"
   },
   {
    "duration": 252,
    "start_time": "2024-05-14T14:18:04.293Z"
   },
   {
    "duration": 202,
    "start_time": "2024-05-14T14:18:43.665Z"
   },
   {
    "duration": 113,
    "start_time": "2024-05-14T14:18:48.620Z"
   },
   {
    "duration": 255,
    "start_time": "2024-05-14T14:18:51.299Z"
   },
   {
    "duration": 3,
    "start_time": "2024-05-14T14:19:56.991Z"
   },
   {
    "duration": 3,
    "start_time": "2024-05-14T14:20:27.534Z"
   },
   {
    "duration": 131,
    "start_time": "2024-05-14T14:20:52.226Z"
   },
   {
    "duration": 211,
    "start_time": "2024-05-14T14:21:18.944Z"
   },
   {
    "duration": 195,
    "start_time": "2024-05-14T14:21:52.157Z"
   },
   {
    "duration": 241,
    "start_time": "2024-05-14T14:22:14.108Z"
   },
   {
    "duration": 255,
    "start_time": "2024-05-14T14:22:19.080Z"
   },
   {
    "duration": 777,
    "start_time": "2024-05-14T14:30:48.089Z"
   },
   {
    "duration": 50,
    "start_time": "2024-05-14T16:38:19.132Z"
   },
   {
    "duration": 2,
    "start_time": "2024-05-14T16:38:29.672Z"
   },
   {
    "duration": 5551,
    "start_time": "2024-05-14T16:39:52.395Z"
   },
   {
    "duration": 4360,
    "start_time": "2024-05-14T16:39:57.949Z"
   },
   {
    "duration": 25156,
    "start_time": "2024-05-14T16:40:02.312Z"
   },
   {
    "duration": 4607,
    "start_time": "2024-05-14T16:40:27.471Z"
   },
   {
    "duration": 3978,
    "start_time": "2024-05-14T16:40:40.403Z"
   },
   {
    "duration": 3272,
    "start_time": "2024-05-14T16:40:44.383Z"
   },
   {
    "duration": 6334,
    "start_time": "2024-05-14T16:40:47.658Z"
   },
   {
    "duration": 3167,
    "start_time": "2024-05-14T16:40:53.996Z"
   },
   {
    "duration": 3118,
    "start_time": "2024-05-14T16:40:57.167Z"
   },
   {
    "duration": 1621,
    "start_time": "2024-05-14T16:41:00.287Z"
   },
   {
    "duration": 3,
    "start_time": "2024-05-14T16:41:01.910Z"
   },
   {
    "duration": 49,
    "start_time": "2024-05-14T16:41:01.915Z"
   },
   {
    "duration": 54,
    "start_time": "2024-05-14T16:41:01.966Z"
   },
   {
    "duration": 3051,
    "start_time": "2024-05-14T16:41:02.022Z"
   },
   {
    "duration": 3,
    "start_time": "2024-05-14T16:41:05.075Z"
   },
   {
    "duration": 30,
    "start_time": "2024-05-14T16:41:05.080Z"
   },
   {
    "duration": 20,
    "start_time": "2024-05-14T16:41:05.114Z"
   },
   {
    "duration": 166,
    "start_time": "2024-05-14T16:41:05.136Z"
   },
   {
    "duration": 177,
    "start_time": "2024-05-14T16:41:05.305Z"
   },
   {
    "duration": 3,
    "start_time": "2024-05-14T16:41:05.484Z"
   },
   {
    "duration": 321,
    "start_time": "2024-05-14T16:41:05.489Z"
   },
   {
    "duration": 0,
    "start_time": "2024-05-14T16:41:05.815Z"
   },
   {
    "duration": 0,
    "start_time": "2024-05-14T16:41:05.817Z"
   },
   {
    "duration": 0,
    "start_time": "2024-05-14T16:41:05.819Z"
   },
   {
    "duration": 0,
    "start_time": "2024-05-14T16:41:05.830Z"
   },
   {
    "duration": 0,
    "start_time": "2024-05-14T16:41:05.831Z"
   },
   {
    "duration": 0,
    "start_time": "2024-05-14T16:41:05.832Z"
   },
   {
    "duration": 0,
    "start_time": "2024-05-14T16:41:05.834Z"
   },
   {
    "duration": 0,
    "start_time": "2024-05-14T16:41:05.835Z"
   },
   {
    "duration": 0,
    "start_time": "2024-05-14T16:41:05.837Z"
   },
   {
    "duration": 0,
    "start_time": "2024-05-14T16:41:05.838Z"
   },
   {
    "duration": 0,
    "start_time": "2024-05-14T16:41:05.840Z"
   },
   {
    "duration": 0,
    "start_time": "2024-05-14T16:41:05.841Z"
   },
   {
    "duration": 0,
    "start_time": "2024-05-14T16:41:05.843Z"
   },
   {
    "duration": 0,
    "start_time": "2024-05-14T16:41:05.845Z"
   },
   {
    "duration": 0,
    "start_time": "2024-05-14T16:41:05.846Z"
   },
   {
    "duration": 0,
    "start_time": "2024-05-14T16:41:05.847Z"
   },
   {
    "duration": 0,
    "start_time": "2024-05-14T16:41:05.849Z"
   },
   {
    "duration": 0,
    "start_time": "2024-05-14T16:41:05.850Z"
   },
   {
    "duration": 0,
    "start_time": "2024-05-14T16:41:05.852Z"
   },
   {
    "duration": 0,
    "start_time": "2024-05-14T16:41:05.854Z"
   },
   {
    "duration": 0,
    "start_time": "2024-05-14T16:41:05.855Z"
   },
   {
    "duration": 0,
    "start_time": "2024-05-14T16:41:05.857Z"
   },
   {
    "duration": 0,
    "start_time": "2024-05-14T16:41:05.858Z"
   },
   {
    "duration": 0,
    "start_time": "2024-05-14T16:41:05.860Z"
   },
   {
    "duration": 0,
    "start_time": "2024-05-14T16:41:05.862Z"
   },
   {
    "duration": 0,
    "start_time": "2024-05-14T16:41:05.863Z"
   },
   {
    "duration": 0,
    "start_time": "2024-05-14T16:41:05.865Z"
   },
   {
    "duration": 0,
    "start_time": "2024-05-14T16:41:05.866Z"
   },
   {
    "duration": 0,
    "start_time": "2024-05-14T16:41:05.868Z"
   },
   {
    "duration": 0,
    "start_time": "2024-05-14T16:41:05.869Z"
   },
   {
    "duration": 0,
    "start_time": "2024-05-14T16:41:05.930Z"
   },
   {
    "duration": 0,
    "start_time": "2024-05-14T16:41:05.932Z"
   },
   {
    "duration": 0,
    "start_time": "2024-05-14T16:41:05.934Z"
   },
   {
    "duration": 0,
    "start_time": "2024-05-14T16:41:05.936Z"
   },
   {
    "duration": 0,
    "start_time": "2024-05-14T16:41:05.937Z"
   },
   {
    "duration": 0,
    "start_time": "2024-05-14T16:41:05.939Z"
   },
   {
    "duration": 0,
    "start_time": "2024-05-14T16:41:05.940Z"
   },
   {
    "duration": 0,
    "start_time": "2024-05-14T16:41:05.942Z"
   },
   {
    "duration": 0,
    "start_time": "2024-05-14T16:41:05.944Z"
   },
   {
    "duration": 0,
    "start_time": "2024-05-14T16:41:05.945Z"
   },
   {
    "duration": 0,
    "start_time": "2024-05-14T16:41:05.947Z"
   },
   {
    "duration": 0,
    "start_time": "2024-05-14T16:41:05.948Z"
   },
   {
    "duration": 0,
    "start_time": "2024-05-14T16:41:05.950Z"
   },
   {
    "duration": 0,
    "start_time": "2024-05-14T16:41:05.951Z"
   },
   {
    "duration": 0,
    "start_time": "2024-05-14T16:41:05.953Z"
   },
   {
    "duration": 0,
    "start_time": "2024-05-14T16:41:05.954Z"
   },
   {
    "duration": 0,
    "start_time": "2024-05-14T16:41:05.956Z"
   },
   {
    "duration": 0,
    "start_time": "2024-05-14T16:41:05.957Z"
   },
   {
    "duration": 0,
    "start_time": "2024-05-14T16:41:05.958Z"
   },
   {
    "duration": 0,
    "start_time": "2024-05-14T16:41:05.959Z"
   },
   {
    "duration": 0,
    "start_time": "2024-05-14T16:41:05.961Z"
   },
   {
    "duration": 0,
    "start_time": "2024-05-14T16:41:05.962Z"
   },
   {
    "duration": 0,
    "start_time": "2024-05-14T16:41:05.963Z"
   },
   {
    "duration": 0,
    "start_time": "2024-05-14T16:41:05.964Z"
   },
   {
    "duration": 0,
    "start_time": "2024-05-14T16:41:05.965Z"
   },
   {
    "duration": 0,
    "start_time": "2024-05-14T16:41:06.029Z"
   },
   {
    "duration": 0,
    "start_time": "2024-05-14T16:41:06.031Z"
   },
   {
    "duration": 0,
    "start_time": "2024-05-14T16:41:06.032Z"
   },
   {
    "duration": 0,
    "start_time": "2024-05-14T16:41:06.033Z"
   },
   {
    "duration": 0,
    "start_time": "2024-05-14T16:41:06.034Z"
   },
   {
    "duration": 0,
    "start_time": "2024-05-14T16:41:06.035Z"
   },
   {
    "duration": 0,
    "start_time": "2024-05-14T16:41:06.037Z"
   },
   {
    "duration": 0,
    "start_time": "2024-05-14T16:41:06.038Z"
   },
   {
    "duration": 0,
    "start_time": "2024-05-14T16:41:06.039Z"
   },
   {
    "duration": 0,
    "start_time": "2024-05-14T16:41:06.040Z"
   },
   {
    "duration": 0,
    "start_time": "2024-05-14T16:41:06.041Z"
   },
   {
    "duration": 0,
    "start_time": "2024-05-14T16:41:06.042Z"
   },
   {
    "duration": 0,
    "start_time": "2024-05-14T16:41:06.044Z"
   },
   {
    "duration": 0,
    "start_time": "2024-05-14T16:41:06.045Z"
   },
   {
    "duration": 0,
    "start_time": "2024-05-14T16:41:06.046Z"
   },
   {
    "duration": 0,
    "start_time": "2024-05-14T16:41:06.047Z"
   },
   {
    "duration": 0,
    "start_time": "2024-05-14T16:41:06.048Z"
   },
   {
    "duration": 0,
    "start_time": "2024-05-14T16:41:06.049Z"
   },
   {
    "duration": 0,
    "start_time": "2024-05-14T16:41:06.051Z"
   },
   {
    "duration": 0,
    "start_time": "2024-05-14T16:41:06.052Z"
   },
   {
    "duration": 0,
    "start_time": "2024-05-14T16:41:06.053Z"
   },
   {
    "duration": 0,
    "start_time": "2024-05-14T16:41:06.054Z"
   },
   {
    "duration": 0,
    "start_time": "2024-05-14T16:41:06.055Z"
   },
   {
    "duration": 0,
    "start_time": "2024-05-14T16:41:06.056Z"
   },
   {
    "duration": 0,
    "start_time": "2024-05-14T16:41:06.057Z"
   },
   {
    "duration": 0,
    "start_time": "2024-05-14T16:41:06.058Z"
   },
   {
    "duration": 0,
    "start_time": "2024-05-14T16:41:06.059Z"
   },
   {
    "duration": 0,
    "start_time": "2024-05-14T16:41:06.060Z"
   },
   {
    "duration": 0,
    "start_time": "2024-05-14T16:41:06.061Z"
   },
   {
    "duration": 0,
    "start_time": "2024-05-14T16:41:06.063Z"
   },
   {
    "duration": 0,
    "start_time": "2024-05-14T16:41:06.064Z"
   },
   {
    "duration": 0,
    "start_time": "2024-05-14T16:41:06.065Z"
   },
   {
    "duration": 0,
    "start_time": "2024-05-14T16:41:06.130Z"
   },
   {
    "duration": 0,
    "start_time": "2024-05-14T16:41:06.131Z"
   },
   {
    "duration": 0,
    "start_time": "2024-05-14T16:41:06.132Z"
   },
   {
    "duration": 0,
    "start_time": "2024-05-14T16:41:06.133Z"
   },
   {
    "duration": 0,
    "start_time": "2024-05-14T16:41:06.134Z"
   },
   {
    "duration": 0,
    "start_time": "2024-05-14T16:41:06.135Z"
   },
   {
    "duration": 0,
    "start_time": "2024-05-14T16:41:06.137Z"
   },
   {
    "duration": 0,
    "start_time": "2024-05-14T16:41:06.138Z"
   },
   {
    "duration": 0,
    "start_time": "2024-05-14T16:41:06.139Z"
   },
   {
    "duration": 0,
    "start_time": "2024-05-14T16:41:06.140Z"
   },
   {
    "duration": 0,
    "start_time": "2024-05-14T16:41:06.141Z"
   },
   {
    "duration": 0,
    "start_time": "2024-05-14T16:41:06.142Z"
   },
   {
    "duration": 0,
    "start_time": "2024-05-14T16:41:06.143Z"
   },
   {
    "duration": 0,
    "start_time": "2024-05-14T16:41:06.144Z"
   },
   {
    "duration": 0,
    "start_time": "2024-05-14T16:41:06.146Z"
   },
   {
    "duration": 0,
    "start_time": "2024-05-14T16:41:06.147Z"
   },
   {
    "duration": 0,
    "start_time": "2024-05-14T16:41:06.148Z"
   },
   {
    "duration": 0,
    "start_time": "2024-05-14T16:41:06.149Z"
   },
   {
    "duration": 0,
    "start_time": "2024-05-14T16:41:06.151Z"
   },
   {
    "duration": 0,
    "start_time": "2024-05-14T16:41:06.152Z"
   },
   {
    "duration": 0,
    "start_time": "2024-05-14T16:41:06.153Z"
   },
   {
    "duration": 0,
    "start_time": "2024-05-14T16:41:06.155Z"
   },
   {
    "duration": 0,
    "start_time": "2024-05-14T16:41:06.155Z"
   },
   {
    "duration": 0,
    "start_time": "2024-05-14T16:41:06.157Z"
   },
   {
    "duration": 0,
    "start_time": "2024-05-14T16:41:06.158Z"
   },
   {
    "duration": 32,
    "start_time": "2024-05-14T16:41:22.681Z"
   },
   {
    "duration": 4122,
    "start_time": "2024-05-14T16:41:26.322Z"
   },
   {
    "duration": 1470,
    "start_time": "2024-05-14T16:41:30.447Z"
   },
   {
    "duration": 2985,
    "start_time": "2024-05-14T16:41:31.919Z"
   },
   {
    "duration": 457,
    "start_time": "2024-05-14T16:41:34.906Z"
   },
   {
    "duration": 0,
    "start_time": "2024-05-14T16:41:35.369Z"
   },
   {
    "duration": 0,
    "start_time": "2024-05-14T16:41:35.371Z"
   },
   {
    "duration": 0,
    "start_time": "2024-05-14T16:41:35.372Z"
   },
   {
    "duration": 0,
    "start_time": "2024-05-14T16:41:35.374Z"
   },
   {
    "duration": 0,
    "start_time": "2024-05-14T16:41:35.430Z"
   },
   {
    "duration": 0,
    "start_time": "2024-05-14T16:41:35.431Z"
   },
   {
    "duration": 0,
    "start_time": "2024-05-14T16:41:35.432Z"
   },
   {
    "duration": 0,
    "start_time": "2024-05-14T16:41:35.434Z"
   },
   {
    "duration": 0,
    "start_time": "2024-05-14T16:41:35.435Z"
   },
   {
    "duration": 0,
    "start_time": "2024-05-14T16:41:35.436Z"
   },
   {
    "duration": 0,
    "start_time": "2024-05-14T16:41:35.437Z"
   },
   {
    "duration": 0,
    "start_time": "2024-05-14T16:41:35.439Z"
   },
   {
    "duration": 0,
    "start_time": "2024-05-14T16:41:35.440Z"
   },
   {
    "duration": 0,
    "start_time": "2024-05-14T16:41:35.442Z"
   },
   {
    "duration": 0,
    "start_time": "2024-05-14T16:41:35.444Z"
   },
   {
    "duration": 0,
    "start_time": "2024-05-14T16:41:35.445Z"
   },
   {
    "duration": 0,
    "start_time": "2024-05-14T16:41:35.447Z"
   },
   {
    "duration": 0,
    "start_time": "2024-05-14T16:41:35.449Z"
   },
   {
    "duration": 0,
    "start_time": "2024-05-14T16:41:35.450Z"
   },
   {
    "duration": 0,
    "start_time": "2024-05-14T16:41:35.451Z"
   },
   {
    "duration": 0,
    "start_time": "2024-05-14T16:41:35.453Z"
   },
   {
    "duration": 0,
    "start_time": "2024-05-14T16:41:35.454Z"
   },
   {
    "duration": 0,
    "start_time": "2024-05-14T16:41:35.530Z"
   },
   {
    "duration": 0,
    "start_time": "2024-05-14T16:41:35.532Z"
   },
   {
    "duration": 0,
    "start_time": "2024-05-14T16:41:35.533Z"
   },
   {
    "duration": 0,
    "start_time": "2024-05-14T16:41:35.534Z"
   },
   {
    "duration": 0,
    "start_time": "2024-05-14T16:41:35.536Z"
   },
   {
    "duration": 0,
    "start_time": "2024-05-14T16:41:35.537Z"
   },
   {
    "duration": 0,
    "start_time": "2024-05-14T16:41:35.538Z"
   },
   {
    "duration": 0,
    "start_time": "2024-05-14T16:41:35.540Z"
   },
   {
    "duration": 0,
    "start_time": "2024-05-14T16:41:35.541Z"
   },
   {
    "duration": 0,
    "start_time": "2024-05-14T16:41:35.543Z"
   },
   {
    "duration": 0,
    "start_time": "2024-05-14T16:41:35.544Z"
   },
   {
    "duration": 0,
    "start_time": "2024-05-14T16:41:35.545Z"
   },
   {
    "duration": 0,
    "start_time": "2024-05-14T16:41:35.546Z"
   },
   {
    "duration": 0,
    "start_time": "2024-05-14T16:41:35.548Z"
   },
   {
    "duration": 0,
    "start_time": "2024-05-14T16:41:35.549Z"
   },
   {
    "duration": 0,
    "start_time": "2024-05-14T16:41:35.551Z"
   },
   {
    "duration": 0,
    "start_time": "2024-05-14T16:41:35.552Z"
   },
   {
    "duration": 0,
    "start_time": "2024-05-14T16:41:35.553Z"
   },
   {
    "duration": 1,
    "start_time": "2024-05-14T16:41:35.554Z"
   },
   {
    "duration": 0,
    "start_time": "2024-05-14T16:41:35.632Z"
   },
   {
    "duration": 0,
    "start_time": "2024-05-14T16:41:35.633Z"
   },
   {
    "duration": 0,
    "start_time": "2024-05-14T16:41:35.635Z"
   },
   {
    "duration": 0,
    "start_time": "2024-05-14T16:41:35.636Z"
   },
   {
    "duration": 0,
    "start_time": "2024-05-14T16:41:35.637Z"
   },
   {
    "duration": 0,
    "start_time": "2024-05-14T16:41:35.638Z"
   },
   {
    "duration": 0,
    "start_time": "2024-05-14T16:41:35.639Z"
   },
   {
    "duration": 0,
    "start_time": "2024-05-14T16:41:35.641Z"
   },
   {
    "duration": 0,
    "start_time": "2024-05-14T16:41:35.642Z"
   },
   {
    "duration": 0,
    "start_time": "2024-05-14T16:41:35.643Z"
   },
   {
    "duration": 0,
    "start_time": "2024-05-14T16:41:35.644Z"
   },
   {
    "duration": 0,
    "start_time": "2024-05-14T16:41:35.646Z"
   },
   {
    "duration": 0,
    "start_time": "2024-05-14T16:41:35.647Z"
   },
   {
    "duration": 0,
    "start_time": "2024-05-14T16:41:35.648Z"
   },
   {
    "duration": 0,
    "start_time": "2024-05-14T16:41:35.649Z"
   },
   {
    "duration": 0,
    "start_time": "2024-05-14T16:41:35.650Z"
   },
   {
    "duration": 0,
    "start_time": "2024-05-14T16:41:35.651Z"
   },
   {
    "duration": 0,
    "start_time": "2024-05-14T16:41:35.652Z"
   },
   {
    "duration": 0,
    "start_time": "2024-05-14T16:41:35.653Z"
   },
   {
    "duration": 0,
    "start_time": "2024-05-14T16:41:35.654Z"
   },
   {
    "duration": 0,
    "start_time": "2024-05-14T16:41:35.656Z"
   },
   {
    "duration": 0,
    "start_time": "2024-05-14T16:41:35.657Z"
   },
   {
    "duration": 0,
    "start_time": "2024-05-14T16:41:35.658Z"
   },
   {
    "duration": 0,
    "start_time": "2024-05-14T16:41:35.730Z"
   },
   {
    "duration": 0,
    "start_time": "2024-05-14T16:41:35.731Z"
   },
   {
    "duration": 0,
    "start_time": "2024-05-14T16:41:35.733Z"
   },
   {
    "duration": 0,
    "start_time": "2024-05-14T16:41:35.735Z"
   },
   {
    "duration": 0,
    "start_time": "2024-05-14T16:41:35.736Z"
   },
   {
    "duration": 0,
    "start_time": "2024-05-14T16:41:35.737Z"
   },
   {
    "duration": 0,
    "start_time": "2024-05-14T16:41:35.738Z"
   },
   {
    "duration": 0,
    "start_time": "2024-05-14T16:41:35.740Z"
   },
   {
    "duration": 0,
    "start_time": "2024-05-14T16:41:35.741Z"
   },
   {
    "duration": 0,
    "start_time": "2024-05-14T16:41:35.742Z"
   },
   {
    "duration": 0,
    "start_time": "2024-05-14T16:41:35.744Z"
   },
   {
    "duration": 0,
    "start_time": "2024-05-14T16:41:35.745Z"
   },
   {
    "duration": 0,
    "start_time": "2024-05-14T16:41:35.747Z"
   },
   {
    "duration": 0,
    "start_time": "2024-05-14T16:41:35.749Z"
   },
   {
    "duration": 0,
    "start_time": "2024-05-14T16:41:35.750Z"
   },
   {
    "duration": 0,
    "start_time": "2024-05-14T16:41:35.751Z"
   },
   {
    "duration": 0,
    "start_time": "2024-05-14T16:41:35.752Z"
   },
   {
    "duration": 0,
    "start_time": "2024-05-14T16:41:35.754Z"
   },
   {
    "duration": 0,
    "start_time": "2024-05-14T16:41:35.755Z"
   },
   {
    "duration": 0,
    "start_time": "2024-05-14T16:41:35.829Z"
   },
   {
    "duration": 0,
    "start_time": "2024-05-14T16:41:35.831Z"
   },
   {
    "duration": 0,
    "start_time": "2024-05-14T16:41:35.832Z"
   },
   {
    "duration": 0,
    "start_time": "2024-05-14T16:41:35.834Z"
   },
   {
    "duration": 0,
    "start_time": "2024-05-14T16:41:35.834Z"
   },
   {
    "duration": 0,
    "start_time": "2024-05-14T16:41:35.835Z"
   },
   {
    "duration": 0,
    "start_time": "2024-05-14T16:41:35.837Z"
   },
   {
    "duration": 0,
    "start_time": "2024-05-14T16:41:35.838Z"
   },
   {
    "duration": 0,
    "start_time": "2024-05-14T16:41:35.840Z"
   },
   {
    "duration": 0,
    "start_time": "2024-05-14T16:41:35.841Z"
   },
   {
    "duration": 0,
    "start_time": "2024-05-14T16:41:35.842Z"
   },
   {
    "duration": 0,
    "start_time": "2024-05-14T16:41:35.843Z"
   },
   {
    "duration": 0,
    "start_time": "2024-05-14T16:41:35.845Z"
   },
   {
    "duration": 0,
    "start_time": "2024-05-14T16:41:35.846Z"
   },
   {
    "duration": 0,
    "start_time": "2024-05-14T16:41:35.847Z"
   },
   {
    "duration": 0,
    "start_time": "2024-05-14T16:41:35.849Z"
   },
   {
    "duration": 0,
    "start_time": "2024-05-14T16:41:35.850Z"
   },
   {
    "duration": 0,
    "start_time": "2024-05-14T16:41:35.851Z"
   },
   {
    "duration": 0,
    "start_time": "2024-05-14T16:41:35.852Z"
   },
   {
    "duration": 0,
    "start_time": "2024-05-14T16:41:35.854Z"
   },
   {
    "duration": 0,
    "start_time": "2024-05-14T16:41:35.929Z"
   },
   {
    "duration": 0,
    "start_time": "2024-05-14T16:41:35.930Z"
   },
   {
    "duration": 0,
    "start_time": "2024-05-14T16:41:35.932Z"
   },
   {
    "duration": 0,
    "start_time": "2024-05-14T16:41:35.933Z"
   },
   {
    "duration": 0,
    "start_time": "2024-05-14T16:41:35.934Z"
   },
   {
    "duration": 0,
    "start_time": "2024-05-14T16:41:35.936Z"
   },
   {
    "duration": 0,
    "start_time": "2024-05-14T16:41:35.940Z"
   },
   {
    "duration": 0,
    "start_time": "2024-05-14T16:41:35.941Z"
   },
   {
    "duration": 0,
    "start_time": "2024-05-14T16:41:35.942Z"
   },
   {
    "duration": 1,
    "start_time": "2024-05-14T16:41:35.943Z"
   },
   {
    "duration": 0,
    "start_time": "2024-05-14T16:41:35.945Z"
   },
   {
    "duration": 0,
    "start_time": "2024-05-14T16:41:35.946Z"
   },
   {
    "duration": 0,
    "start_time": "2024-05-14T16:41:35.947Z"
   },
   {
    "duration": 0,
    "start_time": "2024-05-14T16:41:35.949Z"
   },
   {
    "duration": 0,
    "start_time": "2024-05-14T16:41:35.951Z"
   },
   {
    "duration": 0,
    "start_time": "2024-05-14T16:41:35.953Z"
   },
   {
    "duration": 0,
    "start_time": "2024-05-14T16:41:35.954Z"
   },
   {
    "duration": 0,
    "start_time": "2024-05-14T16:41:36.028Z"
   },
   {
    "duration": 0,
    "start_time": "2024-05-14T16:41:36.030Z"
   },
   {
    "duration": 0,
    "start_time": "2024-05-14T16:41:36.031Z"
   },
   {
    "duration": 0,
    "start_time": "2024-05-14T16:41:36.033Z"
   },
   {
    "duration": 0,
    "start_time": "2024-05-14T16:41:36.035Z"
   },
   {
    "duration": 3983,
    "start_time": "2024-05-14T16:41:44.991Z"
   },
   {
    "duration": 3215,
    "start_time": "2024-05-14T16:41:48.977Z"
   },
   {
    "duration": 3048,
    "start_time": "2024-05-14T16:41:52.194Z"
   },
   {
    "duration": 3188,
    "start_time": "2024-05-14T16:41:55.245Z"
   },
   {
    "duration": 2872,
    "start_time": "2024-05-14T16:41:58.436Z"
   },
   {
    "duration": 1501,
    "start_time": "2024-05-14T16:42:01.311Z"
   },
   {
    "duration": 2,
    "start_time": "2024-05-14T16:42:02.814Z"
   },
   {
    "duration": 45,
    "start_time": "2024-05-14T16:42:02.818Z"
   },
   {
    "duration": 33,
    "start_time": "2024-05-14T16:42:02.865Z"
   },
   {
    "duration": 1004,
    "start_time": "2024-05-14T16:42:02.900Z"
   },
   {
    "duration": 2,
    "start_time": "2024-05-14T16:42:03.906Z"
   },
   {
    "duration": 26,
    "start_time": "2024-05-14T16:42:03.910Z"
   },
   {
    "duration": 16,
    "start_time": "2024-05-14T16:42:03.938Z"
   },
   {
    "duration": 162,
    "start_time": "2024-05-14T16:42:03.958Z"
   },
   {
    "duration": 154,
    "start_time": "2024-05-14T16:42:04.122Z"
   },
   {
    "duration": 3,
    "start_time": "2024-05-14T16:42:04.278Z"
   },
   {
    "duration": 7370,
    "start_time": "2024-05-14T16:42:04.282Z"
   },
   {
    "duration": 3,
    "start_time": "2024-05-14T16:42:11.654Z"
   },
   {
    "duration": 480,
    "start_time": "2024-05-14T16:42:11.658Z"
   },
   {
    "duration": 452,
    "start_time": "2024-05-14T16:42:12.140Z"
   },
   {
    "duration": 504,
    "start_time": "2024-05-14T16:42:12.594Z"
   },
   {
    "duration": 3,
    "start_time": "2024-05-14T16:42:13.099Z"
   },
   {
    "duration": 273,
    "start_time": "2024-05-14T16:42:13.104Z"
   },
   {
    "duration": 3,
    "start_time": "2024-05-14T16:42:13.380Z"
   },
   {
    "duration": 32,
    "start_time": "2024-05-14T16:42:13.385Z"
   },
   {
    "duration": 23,
    "start_time": "2024-05-14T16:42:13.428Z"
   },
   {
    "duration": 23,
    "start_time": "2024-05-14T16:42:13.453Z"
   },
   {
    "duration": 22,
    "start_time": "2024-05-14T16:42:13.478Z"
   },
   {
    "duration": 648,
    "start_time": "2024-05-14T16:42:13.501Z"
   },
   {
    "duration": 25,
    "start_time": "2024-05-14T16:42:14.151Z"
   },
   {
    "duration": 31,
    "start_time": "2024-05-14T16:42:14.178Z"
   },
   {
    "duration": 28,
    "start_time": "2024-05-14T16:42:14.211Z"
   },
   {
    "duration": 23,
    "start_time": "2024-05-14T16:42:14.240Z"
   },
   {
    "duration": 2708,
    "start_time": "2024-05-14T16:42:14.265Z"
   },
   {
    "duration": 19,
    "start_time": "2024-05-14T16:42:16.975Z"
   },
   {
    "duration": 38,
    "start_time": "2024-05-14T16:42:16.996Z"
   },
   {
    "duration": 15802,
    "start_time": "2024-05-14T16:42:17.036Z"
   },
   {
    "duration": 21,
    "start_time": "2024-05-14T16:42:32.840Z"
   },
   {
    "duration": 653,
    "start_time": "2024-05-14T16:42:32.863Z"
   },
   {
    "duration": 30,
    "start_time": "2024-05-14T16:42:33.519Z"
   },
   {
    "duration": 539,
    "start_time": "2024-05-14T16:42:33.557Z"
   },
   {
    "duration": 15726,
    "start_time": "2024-05-14T16:42:34.098Z"
   },
   {
    "duration": 21,
    "start_time": "2024-05-14T16:42:49.826Z"
   },
   {
    "duration": 33,
    "start_time": "2024-05-14T16:42:49.848Z"
   },
   {
    "duration": 624,
    "start_time": "2024-05-14T16:42:49.883Z"
   },
   {
    "duration": 15661,
    "start_time": "2024-05-14T16:42:50.509Z"
   },
   {
    "duration": 19,
    "start_time": "2024-05-14T16:43:06.172Z"
   },
   {
    "duration": 393,
    "start_time": "2024-05-14T16:43:06.192Z"
   },
   {
    "duration": 5,
    "start_time": "2024-05-14T16:43:06.586Z"
   },
   {
    "duration": 72,
    "start_time": "2024-05-14T16:43:06.592Z"
   },
   {
    "duration": 319,
    "start_time": "2024-05-14T16:43:06.666Z"
   },
   {
    "duration": 472,
    "start_time": "2024-05-14T16:43:06.987Z"
   },
   {
    "duration": 4,
    "start_time": "2024-05-14T16:43:07.461Z"
   },
   {
    "duration": 83,
    "start_time": "2024-05-14T16:43:07.466Z"
   },
   {
    "duration": 137,
    "start_time": "2024-05-14T16:43:07.554Z"
   },
   {
    "duration": 13468,
    "start_time": "2024-05-14T16:43:07.693Z"
   },
   {
    "duration": 3,
    "start_time": "2024-05-14T16:43:21.163Z"
   },
   {
    "duration": 74,
    "start_time": "2024-05-14T16:43:21.168Z"
   },
   {
    "duration": 4,
    "start_time": "2024-05-14T16:43:21.244Z"
   },
   {
    "duration": 66,
    "start_time": "2024-05-14T16:43:21.249Z"
   },
   {
    "duration": 523,
    "start_time": "2024-05-14T16:43:21.317Z"
   },
   {
    "duration": 14,
    "start_time": "2024-05-14T16:43:21.842Z"
   },
   {
    "duration": 615,
    "start_time": "2024-05-14T16:43:21.858Z"
   },
   {
    "duration": 2281,
    "start_time": "2024-05-14T16:43:22.475Z"
   },
   {
    "duration": 236,
    "start_time": "2024-05-14T16:43:24.758Z"
   },
   {
    "duration": 18,
    "start_time": "2024-05-14T16:43:24.995Z"
   },
   {
    "duration": 174,
    "start_time": "2024-05-14T16:43:25.015Z"
   },
   {
    "duration": 4,
    "start_time": "2024-05-14T16:43:25.191Z"
   },
   {
    "duration": 75,
    "start_time": "2024-05-14T16:43:25.196Z"
   },
   {
    "duration": 3,
    "start_time": "2024-05-14T16:43:25.273Z"
   },
   {
    "duration": 16,
    "start_time": "2024-05-14T16:43:25.278Z"
   },
   {
    "duration": 137,
    "start_time": "2024-05-14T16:43:25.296Z"
   },
   {
    "duration": 24,
    "start_time": "2024-05-14T16:43:25.435Z"
   },
   {
    "duration": 169,
    "start_time": "2024-05-14T16:43:25.460Z"
   },
   {
    "duration": 2,
    "start_time": "2024-05-14T16:43:25.631Z"
   },
   {
    "duration": 26,
    "start_time": "2024-05-14T16:43:25.634Z"
   },
   {
    "duration": 25,
    "start_time": "2024-05-14T16:43:25.662Z"
   },
   {
    "duration": 135,
    "start_time": "2024-05-14T16:43:25.689Z"
   },
   {
    "duration": 67,
    "start_time": "2024-05-14T16:43:25.826Z"
   },
   {
    "duration": 89,
    "start_time": "2024-05-14T16:43:25.894Z"
   },
   {
    "duration": 86,
    "start_time": "2024-05-14T16:43:25.984Z"
   },
   {
    "duration": 3,
    "start_time": "2024-05-14T16:43:26.071Z"
   },
   {
    "duration": 28,
    "start_time": "2024-05-14T16:43:26.076Z"
   },
   {
    "duration": 85,
    "start_time": "2024-05-14T16:43:26.106Z"
   },
   {
    "duration": 61,
    "start_time": "2024-05-14T16:43:26.193Z"
   },
   {
    "duration": 4,
    "start_time": "2024-05-14T16:43:26.256Z"
   },
   {
    "duration": 22,
    "start_time": "2024-05-14T16:43:26.262Z"
   },
   {
    "duration": 18,
    "start_time": "2024-05-14T16:43:26.286Z"
   },
   {
    "duration": 15,
    "start_time": "2024-05-14T16:43:26.305Z"
   },
   {
    "duration": 28,
    "start_time": "2024-05-14T16:43:26.322Z"
   },
   {
    "duration": 42,
    "start_time": "2024-05-14T16:43:26.352Z"
   },
   {
    "duration": 37565,
    "start_time": "2024-05-14T16:43:26.395Z"
   },
   {
    "duration": 3,
    "start_time": "2024-05-14T16:44:03.962Z"
   },
   {
    "duration": 32,
    "start_time": "2024-05-14T16:44:03.967Z"
   },
   {
    "duration": 5,
    "start_time": "2024-05-14T16:44:04.001Z"
   },
   {
    "duration": 8,
    "start_time": "2024-05-14T16:44:04.008Z"
   },
   {
    "duration": 11,
    "start_time": "2024-05-14T16:44:04.017Z"
   },
   {
    "duration": 8,
    "start_time": "2024-05-14T16:44:04.030Z"
   },
   {
    "duration": 12,
    "start_time": "2024-05-14T16:44:04.040Z"
   },
   {
    "duration": 23,
    "start_time": "2024-05-14T16:44:04.054Z"
   },
   {
    "duration": 7,
    "start_time": "2024-05-14T16:44:04.079Z"
   },
   {
    "duration": 66,
    "start_time": "2024-05-14T16:44:04.087Z"
   },
   {
    "duration": 128,
    "start_time": "2024-05-14T16:44:04.155Z"
   },
   {
    "duration": 0,
    "start_time": "2024-05-14T16:44:04.286Z"
   },
   {
    "duration": 0,
    "start_time": "2024-05-14T16:44:04.288Z"
   },
   {
    "duration": 0,
    "start_time": "2024-05-14T16:44:04.289Z"
   },
   {
    "duration": 0,
    "start_time": "2024-05-14T16:44:04.291Z"
   },
   {
    "duration": 1,
    "start_time": "2024-05-14T16:44:04.292Z"
   },
   {
    "duration": 0,
    "start_time": "2024-05-14T16:44:04.294Z"
   },
   {
    "duration": 0,
    "start_time": "2024-05-14T16:44:04.295Z"
   },
   {
    "duration": 0,
    "start_time": "2024-05-14T16:44:04.297Z"
   },
   {
    "duration": 0,
    "start_time": "2024-05-14T16:44:04.298Z"
   },
   {
    "duration": 0,
    "start_time": "2024-05-14T16:44:04.299Z"
   },
   {
    "duration": 0,
    "start_time": "2024-05-14T16:44:04.301Z"
   },
   {
    "duration": 0,
    "start_time": "2024-05-14T16:44:04.330Z"
   },
   {
    "duration": 0,
    "start_time": "2024-05-14T16:44:04.331Z"
   },
   {
    "duration": 0,
    "start_time": "2024-05-14T16:44:04.333Z"
   },
   {
    "duration": 0,
    "start_time": "2024-05-14T16:44:04.334Z"
   },
   {
    "duration": 0,
    "start_time": "2024-05-14T16:44:04.336Z"
   },
   {
    "duration": 0,
    "start_time": "2024-05-14T16:44:04.337Z"
   },
   {
    "duration": 0,
    "start_time": "2024-05-14T16:44:04.339Z"
   },
   {
    "duration": 0,
    "start_time": "2024-05-14T16:44:04.340Z"
   },
   {
    "duration": 0,
    "start_time": "2024-05-14T16:44:04.341Z"
   },
   {
    "duration": 0,
    "start_time": "2024-05-14T16:44:04.342Z"
   },
   {
    "duration": 0,
    "start_time": "2024-05-14T16:44:04.344Z"
   },
   {
    "duration": 0,
    "start_time": "2024-05-14T16:44:04.345Z"
   },
   {
    "duration": 0,
    "start_time": "2024-05-14T16:44:04.347Z"
   },
   {
    "duration": 0,
    "start_time": "2024-05-14T16:44:04.348Z"
   },
   {
    "duration": 0,
    "start_time": "2024-05-14T16:44:04.350Z"
   },
   {
    "duration": 27,
    "start_time": "2024-05-14T16:45:02.257Z"
   },
   {
    "duration": 17184,
    "start_time": "2024-05-14T16:45:04.567Z"
   },
   {
    "duration": 3217,
    "start_time": "2024-05-14T16:45:24.459Z"
   },
   {
    "duration": 3400,
    "start_time": "2024-05-14T16:45:27.679Z"
   },
   {
    "duration": 3016,
    "start_time": "2024-05-14T16:45:31.081Z"
   },
   {
    "duration": 3198,
    "start_time": "2024-05-14T16:45:34.099Z"
   },
   {
    "duration": 2875,
    "start_time": "2024-05-14T16:45:37.300Z"
   },
   {
    "duration": 1466,
    "start_time": "2024-05-14T16:45:40.177Z"
   },
   {
    "duration": 3,
    "start_time": "2024-05-14T16:45:41.645Z"
   },
   {
    "duration": 7,
    "start_time": "2024-05-14T16:45:41.650Z"
   },
   {
    "duration": 8,
    "start_time": "2024-05-14T16:45:41.658Z"
   },
   {
    "duration": 972,
    "start_time": "2024-05-14T16:45:41.668Z"
   },
   {
    "duration": 3,
    "start_time": "2024-05-14T16:45:42.641Z"
   },
   {
    "duration": 8,
    "start_time": "2024-05-14T16:45:42.646Z"
   },
   {
    "duration": 18,
    "start_time": "2024-05-14T16:45:42.656Z"
   },
   {
    "duration": 123,
    "start_time": "2024-05-14T16:45:42.677Z"
   },
   {
    "duration": 147,
    "start_time": "2024-05-14T16:45:42.802Z"
   },
   {
    "duration": 2,
    "start_time": "2024-05-14T16:45:42.952Z"
   },
   {
    "duration": 7404,
    "start_time": "2024-05-14T16:45:42.956Z"
   },
   {
    "duration": 4,
    "start_time": "2024-05-14T16:45:50.363Z"
   },
   {
    "duration": 600,
    "start_time": "2024-05-14T16:45:50.369Z"
   },
   {
    "duration": 576,
    "start_time": "2024-05-14T16:45:50.971Z"
   },
   {
    "duration": 505,
    "start_time": "2024-05-14T16:45:51.549Z"
   },
   {
    "duration": 3,
    "start_time": "2024-05-14T16:45:52.056Z"
   },
   {
    "duration": 321,
    "start_time": "2024-05-14T16:45:52.061Z"
   },
   {
    "duration": 4,
    "start_time": "2024-05-14T16:45:52.384Z"
   },
   {
    "duration": 43,
    "start_time": "2024-05-14T16:45:52.390Z"
   },
   {
    "duration": 35,
    "start_time": "2024-05-14T16:45:52.435Z"
   },
   {
    "duration": 23,
    "start_time": "2024-05-14T16:45:52.472Z"
   },
   {
    "duration": 32,
    "start_time": "2024-05-14T16:45:52.497Z"
   },
   {
    "duration": 653,
    "start_time": "2024-05-14T16:45:52.531Z"
   },
   {
    "duration": 24,
    "start_time": "2024-05-14T16:45:53.186Z"
   },
   {
    "duration": 34,
    "start_time": "2024-05-14T16:45:53.213Z"
   },
   {
    "duration": 31,
    "start_time": "2024-05-14T16:45:53.249Z"
   },
   {
    "duration": 25,
    "start_time": "2024-05-14T16:45:53.282Z"
   },
   {
    "duration": 2843,
    "start_time": "2024-05-14T16:45:53.309Z"
   },
   {
    "duration": 19,
    "start_time": "2024-05-14T16:45:56.154Z"
   },
   {
    "duration": 36,
    "start_time": "2024-05-14T16:45:56.174Z"
   },
   {
    "duration": 16182,
    "start_time": "2024-05-14T16:45:56.211Z"
   },
   {
    "duration": 22,
    "start_time": "2024-05-14T16:46:12.394Z"
   },
   {
    "duration": 589,
    "start_time": "2024-05-14T16:46:12.417Z"
   },
   {
    "duration": 31,
    "start_time": "2024-05-14T16:46:13.008Z"
   },
   {
    "duration": 609,
    "start_time": "2024-05-14T16:46:13.045Z"
   },
   {
    "duration": 16030,
    "start_time": "2024-05-14T16:46:13.656Z"
   },
   {
    "duration": 19,
    "start_time": "2024-05-14T16:46:29.688Z"
   },
   {
    "duration": 53,
    "start_time": "2024-05-14T16:46:29.709Z"
   },
   {
    "duration": 608,
    "start_time": "2024-05-14T16:46:29.764Z"
   },
   {
    "duration": 16075,
    "start_time": "2024-05-14T16:46:30.374Z"
   },
   {
    "duration": 20,
    "start_time": "2024-05-14T16:46:46.451Z"
   },
   {
    "duration": 339,
    "start_time": "2024-05-14T16:46:46.472Z"
   },
   {
    "duration": 5,
    "start_time": "2024-05-14T16:46:46.812Z"
   },
   {
    "duration": 74,
    "start_time": "2024-05-14T16:46:46.828Z"
   },
   {
    "duration": 323,
    "start_time": "2024-05-14T16:46:46.904Z"
   },
   {
    "duration": 490,
    "start_time": "2024-05-14T16:46:47.229Z"
   },
   {
    "duration": 13,
    "start_time": "2024-05-14T16:46:47.721Z"
   },
   {
    "duration": 74,
    "start_time": "2024-05-14T16:46:47.736Z"
   },
   {
    "duration": 150,
    "start_time": "2024-05-14T16:46:47.812Z"
   },
   {
    "duration": 13487,
    "start_time": "2024-05-14T16:46:47.964Z"
   },
   {
    "duration": 4,
    "start_time": "2024-05-14T16:47:01.453Z"
   },
   {
    "duration": 147,
    "start_time": "2024-05-14T16:47:01.458Z"
   },
   {
    "duration": 37,
    "start_time": "2024-05-14T16:47:01.607Z"
   },
   {
    "duration": 118,
    "start_time": "2024-05-14T16:47:01.646Z"
   },
   {
    "duration": 498,
    "start_time": "2024-05-14T16:47:01.766Z"
   },
   {
    "duration": 14,
    "start_time": "2024-05-14T16:47:02.266Z"
   },
   {
    "duration": 629,
    "start_time": "2024-05-14T16:47:02.282Z"
   },
   {
    "duration": 2433,
    "start_time": "2024-05-14T16:47:02.913Z"
   },
   {
    "duration": 201,
    "start_time": "2024-05-14T16:47:05.347Z"
   },
   {
    "duration": 21,
    "start_time": "2024-05-14T16:47:05.551Z"
   },
   {
    "duration": 172,
    "start_time": "2024-05-14T16:47:05.574Z"
   },
   {
    "duration": 4,
    "start_time": "2024-05-14T16:47:05.748Z"
   },
   {
    "duration": 68,
    "start_time": "2024-05-14T16:47:05.753Z"
   },
   {
    "duration": 3,
    "start_time": "2024-05-14T16:47:05.823Z"
   },
   {
    "duration": 54,
    "start_time": "2024-05-14T16:47:05.829Z"
   },
   {
    "duration": 128,
    "start_time": "2024-05-14T16:47:05.885Z"
   },
   {
    "duration": 27,
    "start_time": "2024-05-14T16:47:06.014Z"
   },
   {
    "duration": 184,
    "start_time": "2024-05-14T16:47:06.043Z"
   },
   {
    "duration": 3,
    "start_time": "2024-05-14T16:47:06.229Z"
   },
   {
    "duration": 175,
    "start_time": "2024-05-14T16:47:06.233Z"
   },
   {
    "duration": 98,
    "start_time": "2024-05-14T16:47:06.410Z"
   },
   {
    "duration": 185,
    "start_time": "2024-05-14T16:47:06.510Z"
   },
   {
    "duration": 65,
    "start_time": "2024-05-14T16:47:06.697Z"
   },
   {
    "duration": 102,
    "start_time": "2024-05-14T16:47:06.763Z"
   },
   {
    "duration": 84,
    "start_time": "2024-05-14T16:47:06.866Z"
   },
   {
    "duration": 3,
    "start_time": "2024-05-14T16:47:06.951Z"
   },
   {
    "duration": 19,
    "start_time": "2024-05-14T16:47:06.956Z"
   },
   {
    "duration": 115,
    "start_time": "2024-05-14T16:47:06.977Z"
   },
   {
    "duration": 64,
    "start_time": "2024-05-14T16:47:07.094Z"
   },
   {
    "duration": 3,
    "start_time": "2024-05-14T16:47:07.160Z"
   },
   {
    "duration": 19,
    "start_time": "2024-05-14T16:47:07.165Z"
   },
   {
    "duration": 16,
    "start_time": "2024-05-14T16:47:07.185Z"
   },
   {
    "duration": 44,
    "start_time": "2024-05-14T16:47:07.203Z"
   },
   {
    "duration": 18,
    "start_time": "2024-05-14T16:47:07.249Z"
   },
   {
    "duration": 11,
    "start_time": "2024-05-14T16:47:07.269Z"
   },
   {
    "duration": 37265,
    "start_time": "2024-05-14T16:47:07.282Z"
   },
   {
    "duration": 3,
    "start_time": "2024-05-14T16:47:44.549Z"
   },
   {
    "duration": 16,
    "start_time": "2024-05-14T16:47:44.553Z"
   },
   {
    "duration": 9,
    "start_time": "2024-05-14T16:47:44.571Z"
   },
   {
    "duration": 22,
    "start_time": "2024-05-14T16:47:44.581Z"
   },
   {
    "duration": 7,
    "start_time": "2024-05-14T16:47:44.605Z"
   },
   {
    "duration": 14,
    "start_time": "2024-05-14T16:47:44.615Z"
   },
   {
    "duration": 9,
    "start_time": "2024-05-14T16:47:44.631Z"
   },
   {
    "duration": 4,
    "start_time": "2024-05-14T16:47:44.642Z"
   },
   {
    "duration": 26,
    "start_time": "2024-05-14T16:47:44.648Z"
   },
   {
    "duration": 71,
    "start_time": "2024-05-14T16:47:44.676Z"
   },
   {
    "duration": 26,
    "start_time": "2024-05-14T16:47:44.749Z"
   },
   {
    "duration": 479362,
    "start_time": "2024-05-14T16:47:44.777Z"
   },
   {
    "duration": 3,
    "start_time": "2024-05-14T16:55:44.141Z"
   },
   {
    "duration": 25,
    "start_time": "2024-05-14T16:55:44.147Z"
   },
   {
    "duration": 13,
    "start_time": "2024-05-14T16:55:44.175Z"
   },
   {
    "duration": 40,
    "start_time": "2024-05-14T16:55:44.190Z"
   },
   {
    "duration": 16,
    "start_time": "2024-05-14T16:55:44.232Z"
   },
   {
    "duration": 8,
    "start_time": "2024-05-14T16:55:44.250Z"
   },
   {
    "duration": 3,
    "start_time": "2024-05-14T16:55:44.260Z"
   },
   {
    "duration": 165,
    "start_time": "2024-05-14T16:55:44.265Z"
   },
   {
    "duration": 4,
    "start_time": "2024-05-14T16:55:44.431Z"
   },
   {
    "duration": 10,
    "start_time": "2024-05-14T16:55:44.437Z"
   },
   {
    "duration": 19,
    "start_time": "2024-05-14T16:55:44.449Z"
   },
   {
    "duration": 6,
    "start_time": "2024-05-14T16:55:44.469Z"
   },
   {
    "duration": 7,
    "start_time": "2024-05-14T16:55:44.477Z"
   },
   {
    "duration": 7,
    "start_time": "2024-05-14T16:55:44.486Z"
   },
   {
    "duration": 544,
    "start_time": "2024-05-14T16:55:44.494Z"
   },
   {
    "duration": 2,
    "start_time": "2024-05-14T16:55:45.040Z"
   },
   {
    "duration": 51,
    "start_time": "2024-05-14T16:55:45.044Z"
   },
   {
    "duration": 39,
    "start_time": "2024-05-14T16:55:45.128Z"
   },
   {
    "duration": 79,
    "start_time": "2024-05-14T16:55:45.169Z"
   },
   {
    "duration": 38,
    "start_time": "2024-05-14T16:55:45.250Z"
   },
   {
    "duration": 34,
    "start_time": "2024-05-14T16:55:45.290Z"
   },
   {
    "duration": 350,
    "start_time": "2024-05-14T16:55:45.326Z"
   },
   {
    "duration": 119,
    "start_time": "2024-05-14T16:55:45.678Z"
   },
   {
    "duration": 130,
    "start_time": "2024-05-14T16:55:45.799Z"
   },
   {
    "duration": 246,
    "start_time": "2024-05-14T16:55:45.931Z"
   },
   {
    "duration": 241,
    "start_time": "2024-05-14T16:58:01.357Z"
   },
   {
    "duration": 264,
    "start_time": "2024-05-14T16:58:06.029Z"
   },
   {
    "duration": 11,
    "start_time": "2024-05-15T04:59:26.291Z"
   },
   {
    "duration": 5168,
    "start_time": "2024-05-15T05:01:21.836Z"
   },
   {
    "duration": 3878,
    "start_time": "2024-05-15T05:01:27.007Z"
   },
   {
    "duration": 22353,
    "start_time": "2024-05-15T05:01:30.887Z"
   },
   {
    "duration": 5637,
    "start_time": "2024-05-15T05:01:53.242Z"
   },
   {
    "duration": 3332,
    "start_time": "2024-05-15T05:01:58.881Z"
   },
   {
    "duration": 1480,
    "start_time": "2024-05-15T05:02:02.215Z"
   },
   {
    "duration": 2,
    "start_time": "2024-05-15T05:02:03.697Z"
   },
   {
    "duration": 43,
    "start_time": "2024-05-15T05:02:03.701Z"
   },
   {
    "duration": 79,
    "start_time": "2024-05-15T05:02:03.746Z"
   },
   {
    "duration": 2865,
    "start_time": "2024-05-15T05:02:03.828Z"
   },
   {
    "duration": 3,
    "start_time": "2024-05-15T05:02:06.695Z"
   },
   {
    "duration": 16,
    "start_time": "2024-05-15T05:02:06.699Z"
   },
   {
    "duration": 21,
    "start_time": "2024-05-15T05:02:06.716Z"
   },
   {
    "duration": 139,
    "start_time": "2024-05-15T05:02:06.738Z"
   },
   {
    "duration": 136,
    "start_time": "2024-05-15T05:02:06.878Z"
   },
   {
    "duration": 2,
    "start_time": "2024-05-15T05:02:07.016Z"
   },
   {
    "duration": 6437,
    "start_time": "2024-05-15T05:02:07.019Z"
   },
   {
    "duration": 3,
    "start_time": "2024-05-15T05:02:13.457Z"
   },
   {
    "duration": 404,
    "start_time": "2024-05-15T05:02:13.461Z"
   },
   {
    "duration": 392,
    "start_time": "2024-05-15T05:02:13.867Z"
   },
   {
    "duration": 409,
    "start_time": "2024-05-15T05:02:14.261Z"
   },
   {
    "duration": 2,
    "start_time": "2024-05-15T05:02:14.672Z"
   },
   {
    "duration": 251,
    "start_time": "2024-05-15T05:02:14.675Z"
   },
   {
    "duration": 4,
    "start_time": "2024-05-15T05:02:14.927Z"
   },
   {
    "duration": 19,
    "start_time": "2024-05-15T05:02:14.932Z"
   },
   {
    "duration": 21,
    "start_time": "2024-05-15T05:02:14.965Z"
   },
   {
    "duration": 25,
    "start_time": "2024-05-15T05:02:14.988Z"
   },
   {
    "duration": 16,
    "start_time": "2024-05-15T05:02:15.098Z"
   },
   {
    "duration": 497,
    "start_time": "2024-05-15T05:02:15.116Z"
   },
   {
    "duration": 21,
    "start_time": "2024-05-15T05:02:15.615Z"
   },
   {
    "duration": 31,
    "start_time": "2024-05-15T05:02:15.637Z"
   },
   {
    "duration": 18,
    "start_time": "2024-05-15T05:02:15.670Z"
   },
   {
    "duration": 20,
    "start_time": "2024-05-15T05:02:15.690Z"
   },
   {
    "duration": 2419,
    "start_time": "2024-05-15T05:02:15.712Z"
   },
   {
    "duration": 17,
    "start_time": "2024-05-15T05:02:18.132Z"
   },
   {
    "duration": 27,
    "start_time": "2024-05-15T05:02:18.150Z"
   },
   {
    "duration": 13691,
    "start_time": "2024-05-15T05:02:18.179Z"
   },
   {
    "duration": 19,
    "start_time": "2024-05-15T05:02:31.872Z"
   },
   {
    "duration": 559,
    "start_time": "2024-05-15T05:02:31.893Z"
   },
   {
    "duration": 23,
    "start_time": "2024-05-15T05:02:32.454Z"
   },
   {
    "duration": 512,
    "start_time": "2024-05-15T05:02:32.478Z"
   },
   {
    "duration": 13754,
    "start_time": "2024-05-15T05:02:32.991Z"
   },
   {
    "duration": 19,
    "start_time": "2024-05-15T05:02:46.746Z"
   },
   {
    "duration": 35,
    "start_time": "2024-05-15T05:02:46.766Z"
   },
   {
    "duration": 509,
    "start_time": "2024-05-15T05:02:46.803Z"
   },
   {
    "duration": 14219,
    "start_time": "2024-05-15T05:02:47.313Z"
   },
   {
    "duration": 16,
    "start_time": "2024-05-15T05:03:01.533Z"
   },
   {
    "duration": 341,
    "start_time": "2024-05-15T05:03:01.551Z"
   },
   {
    "duration": 4,
    "start_time": "2024-05-15T05:03:01.894Z"
   },
   {
    "duration": 154,
    "start_time": "2024-05-15T05:03:01.899Z"
   },
   {
    "duration": 283,
    "start_time": "2024-05-15T05:03:02.055Z"
   },
   {
    "duration": 446,
    "start_time": "2024-05-15T05:03:02.340Z"
   },
   {
    "duration": 3,
    "start_time": "2024-05-15T05:03:02.788Z"
   },
   {
    "duration": 88,
    "start_time": "2024-05-15T05:03:02.793Z"
   },
   {
    "duration": 136,
    "start_time": "2024-05-15T05:03:02.883Z"
   },
   {
    "duration": 11661,
    "start_time": "2024-05-15T05:03:03.021Z"
   },
   {
    "duration": 4,
    "start_time": "2024-05-15T05:03:14.684Z"
   },
   {
    "duration": 78,
    "start_time": "2024-05-15T05:03:14.690Z"
   },
   {
    "duration": 3,
    "start_time": "2024-05-15T05:03:14.770Z"
   },
   {
    "duration": 66,
    "start_time": "2024-05-15T05:03:14.774Z"
   },
   {
    "duration": 435,
    "start_time": "2024-05-15T05:03:14.842Z"
   },
   {
    "duration": 13,
    "start_time": "2024-05-15T05:03:15.279Z"
   },
   {
    "duration": 531,
    "start_time": "2024-05-15T05:03:15.293Z"
   },
   {
    "duration": 2173,
    "start_time": "2024-05-15T05:03:15.825Z"
   },
   {
    "duration": 185,
    "start_time": "2024-05-15T05:03:18.000Z"
   },
   {
    "duration": 15,
    "start_time": "2024-05-15T05:03:18.187Z"
   },
   {
    "duration": 145,
    "start_time": "2024-05-15T05:03:18.204Z"
   },
   {
    "duration": 4,
    "start_time": "2024-05-15T05:03:18.351Z"
   },
   {
    "duration": 53,
    "start_time": "2024-05-15T05:03:18.364Z"
   },
   {
    "duration": 4,
    "start_time": "2024-05-15T05:03:18.419Z"
   },
   {
    "duration": 7,
    "start_time": "2024-05-15T05:03:18.424Z"
   },
   {
    "duration": 120,
    "start_time": "2024-05-15T05:03:18.433Z"
   },
   {
    "duration": 28,
    "start_time": "2024-05-15T05:03:18.555Z"
   },
   {
    "duration": 139,
    "start_time": "2024-05-15T05:03:18.585Z"
   },
   {
    "duration": 2,
    "start_time": "2024-05-15T05:03:18.726Z"
   },
   {
    "duration": 9,
    "start_time": "2024-05-15T05:03:18.730Z"
   },
   {
    "duration": 23,
    "start_time": "2024-05-15T05:03:18.740Z"
   },
   {
    "duration": 117,
    "start_time": "2024-05-15T05:03:18.765Z"
   },
   {
    "duration": 92,
    "start_time": "2024-05-15T05:03:18.883Z"
   },
   {
    "duration": 93,
    "start_time": "2024-05-15T05:03:18.976Z"
   },
   {
    "duration": 67,
    "start_time": "2024-05-15T05:03:19.071Z"
   },
   {
    "duration": 3,
    "start_time": "2024-05-15T05:03:19.143Z"
   },
   {
    "duration": 5,
    "start_time": "2024-05-15T05:03:19.147Z"
   },
   {
    "duration": 60,
    "start_time": "2024-05-15T05:03:19.153Z"
   },
   {
    "duration": 59,
    "start_time": "2024-05-15T05:03:19.215Z"
   },
   {
    "duration": 3,
    "start_time": "2024-05-15T05:03:19.276Z"
   },
   {
    "duration": 4,
    "start_time": "2024-05-15T05:03:19.281Z"
   },
   {
    "duration": 6,
    "start_time": "2024-05-15T05:03:19.286Z"
   },
   {
    "duration": 4,
    "start_time": "2024-05-15T05:03:19.293Z"
   },
   {
    "duration": 5,
    "start_time": "2024-05-15T05:03:19.298Z"
   },
   {
    "duration": 6,
    "start_time": "2024-05-15T05:03:19.305Z"
   },
   {
    "duration": 32418,
    "start_time": "2024-05-15T05:03:19.312Z"
   },
   {
    "duration": 3,
    "start_time": "2024-05-15T05:03:51.731Z"
   },
   {
    "duration": 9,
    "start_time": "2024-05-15T05:03:51.736Z"
   },
   {
    "duration": 8,
    "start_time": "2024-05-15T05:03:51.747Z"
   },
   {
    "duration": 22,
    "start_time": "2024-05-15T05:03:51.756Z"
   },
   {
    "duration": 14,
    "start_time": "2024-05-15T05:03:51.780Z"
   },
   {
    "duration": 5,
    "start_time": "2024-05-15T05:03:51.796Z"
   },
   {
    "duration": 9,
    "start_time": "2024-05-15T05:03:51.803Z"
   },
   {
    "duration": 7,
    "start_time": "2024-05-15T05:03:51.814Z"
   },
   {
    "duration": 6,
    "start_time": "2024-05-15T05:03:51.822Z"
   },
   {
    "duration": 77,
    "start_time": "2024-05-15T05:03:51.829Z"
   },
   {
    "duration": 116,
    "start_time": "2024-05-15T05:03:51.908Z"
   },
   {
    "duration": 0,
    "start_time": "2024-05-15T05:03:52.025Z"
   },
   {
    "duration": 0,
    "start_time": "2024-05-15T05:03:52.026Z"
   },
   {
    "duration": 0,
    "start_time": "2024-05-15T05:03:52.027Z"
   },
   {
    "duration": 0,
    "start_time": "2024-05-15T05:03:52.029Z"
   },
   {
    "duration": 0,
    "start_time": "2024-05-15T05:03:52.030Z"
   },
   {
    "duration": 0,
    "start_time": "2024-05-15T05:03:52.031Z"
   },
   {
    "duration": 0,
    "start_time": "2024-05-15T05:03:52.032Z"
   },
   {
    "duration": 0,
    "start_time": "2024-05-15T05:03:52.033Z"
   },
   {
    "duration": 0,
    "start_time": "2024-05-15T05:03:52.034Z"
   },
   {
    "duration": 0,
    "start_time": "2024-05-15T05:03:52.035Z"
   },
   {
    "duration": 0,
    "start_time": "2024-05-15T05:03:52.036Z"
   },
   {
    "duration": 0,
    "start_time": "2024-05-15T05:03:52.037Z"
   },
   {
    "duration": 0,
    "start_time": "2024-05-15T05:03:52.039Z"
   },
   {
    "duration": 0,
    "start_time": "2024-05-15T05:03:52.065Z"
   },
   {
    "duration": 0,
    "start_time": "2024-05-15T05:03:52.067Z"
   },
   {
    "duration": 0,
    "start_time": "2024-05-15T05:03:52.068Z"
   },
   {
    "duration": 0,
    "start_time": "2024-05-15T05:03:52.070Z"
   },
   {
    "duration": 0,
    "start_time": "2024-05-15T05:03:52.071Z"
   },
   {
    "duration": 0,
    "start_time": "2024-05-15T05:03:52.072Z"
   },
   {
    "duration": 0,
    "start_time": "2024-05-15T05:03:52.074Z"
   },
   {
    "duration": 0,
    "start_time": "2024-05-15T05:03:52.075Z"
   },
   {
    "duration": 0,
    "start_time": "2024-05-15T05:03:52.076Z"
   },
   {
    "duration": 0,
    "start_time": "2024-05-15T05:03:52.077Z"
   },
   {
    "duration": 0,
    "start_time": "2024-05-15T05:03:52.079Z"
   },
   {
    "duration": 0,
    "start_time": "2024-05-15T05:03:52.079Z"
   },
   {
    "duration": 0,
    "start_time": "2024-05-15T05:03:52.081Z"
   },
   {
    "duration": 57,
    "start_time": "2024-05-15T07:13:39.191Z"
   },
   {
    "duration": 2824,
    "start_time": "2024-05-15T07:13:43.334Z"
   },
   {
    "duration": 3001,
    "start_time": "2024-05-15T07:13:46.160Z"
   },
   {
    "duration": 5823,
    "start_time": "2024-05-15T07:13:49.163Z"
   },
   {
    "duration": 2764,
    "start_time": "2024-05-15T07:13:54.989Z"
   },
   {
    "duration": 2563,
    "start_time": "2024-05-15T07:13:57.755Z"
   },
   {
    "duration": 1341,
    "start_time": "2024-05-15T07:14:00.320Z"
   },
   {
    "duration": 3,
    "start_time": "2024-05-15T07:14:01.662Z"
   },
   {
    "duration": 85,
    "start_time": "2024-05-15T07:14:01.666Z"
   },
   {
    "duration": 58,
    "start_time": "2024-05-15T07:14:01.753Z"
   },
   {
    "duration": 934,
    "start_time": "2024-05-15T07:14:01.814Z"
   },
   {
    "duration": 3,
    "start_time": "2024-05-15T07:14:02.750Z"
   },
   {
    "duration": 71,
    "start_time": "2024-05-15T07:14:02.755Z"
   },
   {
    "duration": 34,
    "start_time": "2024-05-15T07:14:02.828Z"
   },
   {
    "duration": 132,
    "start_time": "2024-05-15T07:14:02.864Z"
   },
   {
    "duration": 149,
    "start_time": "2024-05-15T07:14:02.998Z"
   },
   {
    "duration": 22,
    "start_time": "2024-05-15T07:14:03.149Z"
   },
   {
    "duration": 6544,
    "start_time": "2024-05-15T07:14:03.172Z"
   },
   {
    "duration": 4,
    "start_time": "2024-05-15T07:14:09.718Z"
   },
   {
    "duration": 495,
    "start_time": "2024-05-15T07:14:09.723Z"
   },
   {
    "duration": 433,
    "start_time": "2024-05-15T07:14:10.219Z"
   },
   {
    "duration": 450,
    "start_time": "2024-05-15T07:14:10.654Z"
   },
   {
    "duration": 2,
    "start_time": "2024-05-15T07:14:11.106Z"
   },
   {
    "duration": 242,
    "start_time": "2024-05-15T07:14:11.109Z"
   },
   {
    "duration": 12,
    "start_time": "2024-05-15T07:14:11.353Z"
   },
   {
    "duration": 21,
    "start_time": "2024-05-15T07:14:11.366Z"
   },
   {
    "duration": 23,
    "start_time": "2024-05-15T07:14:11.388Z"
   },
   {
    "duration": 18,
    "start_time": "2024-05-15T07:14:11.412Z"
   },
   {
    "duration": 16,
    "start_time": "2024-05-15T07:14:11.527Z"
   },
   {
    "duration": 505,
    "start_time": "2024-05-15T07:14:11.544Z"
   },
   {
    "duration": 33,
    "start_time": "2024-05-15T07:14:12.051Z"
   },
   {
    "duration": 21,
    "start_time": "2024-05-15T07:14:12.085Z"
   },
   {
    "duration": 22,
    "start_time": "2024-05-15T07:14:12.108Z"
   },
   {
    "duration": 51,
    "start_time": "2024-05-15T07:14:12.134Z"
   },
   {
    "duration": 2509,
    "start_time": "2024-05-15T07:14:12.186Z"
   },
   {
    "duration": 17,
    "start_time": "2024-05-15T07:14:14.697Z"
   },
   {
    "duration": 29,
    "start_time": "2024-05-15T07:14:14.716Z"
   },
   {
    "duration": 13771,
    "start_time": "2024-05-15T07:14:14.747Z"
   },
   {
    "duration": 20,
    "start_time": "2024-05-15T07:14:28.519Z"
   },
   {
    "duration": 539,
    "start_time": "2024-05-15T07:14:28.540Z"
   },
   {
    "duration": 21,
    "start_time": "2024-05-15T07:14:29.081Z"
   },
   {
    "duration": 526,
    "start_time": "2024-05-15T07:14:29.104Z"
   },
   {
    "duration": 13854,
    "start_time": "2024-05-15T07:14:29.632Z"
   },
   {
    "duration": 17,
    "start_time": "2024-05-15T07:14:43.488Z"
   },
   {
    "duration": 20,
    "start_time": "2024-05-15T07:14:43.506Z"
   },
   {
    "duration": 511,
    "start_time": "2024-05-15T07:14:43.527Z"
   },
   {
    "duration": 14065,
    "start_time": "2024-05-15T07:14:44.040Z"
   },
   {
    "duration": 16,
    "start_time": "2024-05-15T07:14:58.107Z"
   },
   {
    "duration": 333,
    "start_time": "2024-05-15T07:14:58.125Z"
   },
   {
    "duration": 4,
    "start_time": "2024-05-15T07:14:58.465Z"
   },
   {
    "duration": 79,
    "start_time": "2024-05-15T07:14:58.471Z"
   },
   {
    "duration": 293,
    "start_time": "2024-05-15T07:14:58.552Z"
   },
   {
    "duration": 444,
    "start_time": "2024-05-15T07:14:58.847Z"
   },
   {
    "duration": 4,
    "start_time": "2024-05-15T07:14:59.292Z"
   },
   {
    "duration": 72,
    "start_time": "2024-05-15T07:14:59.297Z"
   },
   {
    "duration": 121,
    "start_time": "2024-05-15T07:14:59.371Z"
   },
   {
    "duration": 11782,
    "start_time": "2024-05-15T07:14:59.493Z"
   },
   {
    "duration": 3,
    "start_time": "2024-05-15T07:15:11.277Z"
   },
   {
    "duration": 69,
    "start_time": "2024-05-15T07:15:11.282Z"
   },
   {
    "duration": 3,
    "start_time": "2024-05-15T07:15:11.353Z"
   },
   {
    "duration": 67,
    "start_time": "2024-05-15T07:15:11.364Z"
   },
   {
    "duration": 441,
    "start_time": "2024-05-15T07:15:11.432Z"
   },
   {
    "duration": 13,
    "start_time": "2024-05-15T07:15:11.874Z"
   },
   {
    "duration": 557,
    "start_time": "2024-05-15T07:15:11.889Z"
   },
   {
    "duration": 2210,
    "start_time": "2024-05-15T07:15:12.448Z"
   },
   {
    "duration": 167,
    "start_time": "2024-05-15T07:15:14.664Z"
   },
   {
    "duration": 15,
    "start_time": "2024-05-15T07:15:14.832Z"
   },
   {
    "duration": 142,
    "start_time": "2024-05-15T07:15:14.849Z"
   },
   {
    "duration": 4,
    "start_time": "2024-05-15T07:15:14.992Z"
   },
   {
    "duration": 68,
    "start_time": "2024-05-15T07:15:14.997Z"
   },
   {
    "duration": 45,
    "start_time": "2024-05-15T07:15:15.066Z"
   },
   {
    "duration": 64,
    "start_time": "2024-05-15T07:15:15.113Z"
   },
   {
    "duration": 126,
    "start_time": "2024-05-15T07:15:15.179Z"
   },
   {
    "duration": 25,
    "start_time": "2024-05-15T07:15:15.307Z"
   },
   {
    "duration": 199,
    "start_time": "2024-05-15T07:15:15.333Z"
   },
   {
    "duration": 3,
    "start_time": "2024-05-15T07:15:15.533Z"
   },
   {
    "duration": 18,
    "start_time": "2024-05-15T07:15:15.537Z"
   },
   {
    "duration": 31,
    "start_time": "2024-05-15T07:15:15.557Z"
   },
   {
    "duration": 125,
    "start_time": "2024-05-15T07:15:15.590Z"
   },
   {
    "duration": 64,
    "start_time": "2024-05-15T07:15:15.716Z"
   },
   {
    "duration": 95,
    "start_time": "2024-05-15T07:15:15.781Z"
   },
   {
    "duration": 71,
    "start_time": "2024-05-15T07:15:15.878Z"
   },
   {
    "duration": 3,
    "start_time": "2024-05-15T07:15:15.955Z"
   },
   {
    "duration": 13,
    "start_time": "2024-05-15T07:15:15.964Z"
   },
   {
    "duration": 76,
    "start_time": "2024-05-15T07:15:15.978Z"
   },
   {
    "duration": 53,
    "start_time": "2024-05-15T07:15:16.056Z"
   },
   {
    "duration": 3,
    "start_time": "2024-05-15T07:15:16.110Z"
   },
   {
    "duration": 14,
    "start_time": "2024-05-15T07:15:16.115Z"
   },
   {
    "duration": 19,
    "start_time": "2024-05-15T07:15:16.130Z"
   },
   {
    "duration": 5,
    "start_time": "2024-05-15T07:15:16.150Z"
   },
   {
    "duration": 5,
    "start_time": "2024-05-15T07:15:16.156Z"
   },
   {
    "duration": 7,
    "start_time": "2024-05-15T07:15:16.163Z"
   },
   {
    "duration": 32439,
    "start_time": "2024-05-15T07:15:16.171Z"
   },
   {
    "duration": 3,
    "start_time": "2024-05-15T07:15:48.612Z"
   },
   {
    "duration": 18,
    "start_time": "2024-05-15T07:15:48.616Z"
   },
   {
    "duration": 9,
    "start_time": "2024-05-15T07:15:48.636Z"
   },
   {
    "duration": 6,
    "start_time": "2024-05-15T07:15:48.646Z"
   },
   {
    "duration": 5,
    "start_time": "2024-05-15T07:15:48.653Z"
   },
   {
    "duration": 8,
    "start_time": "2024-05-15T07:15:48.660Z"
   },
   {
    "duration": 3,
    "start_time": "2024-05-15T07:15:48.670Z"
   },
   {
    "duration": 15,
    "start_time": "2024-05-15T07:15:48.675Z"
   },
   {
    "duration": 6,
    "start_time": "2024-05-15T07:15:48.691Z"
   },
   {
    "duration": 67,
    "start_time": "2024-05-15T07:15:48.698Z"
   },
   {
    "duration": 22,
    "start_time": "2024-05-15T07:15:48.766Z"
   },
   {
    "duration": 700398,
    "start_time": "2024-05-15T07:15:48.790Z"
   },
   {
    "duration": 3,
    "start_time": "2024-05-15T07:27:29.190Z"
   },
   {
    "duration": 16,
    "start_time": "2024-05-15T07:27:29.194Z"
   },
   {
    "duration": 12,
    "start_time": "2024-05-15T07:27:29.212Z"
   },
   {
    "duration": 14,
    "start_time": "2024-05-15T07:27:29.226Z"
   },
   {
    "duration": 11,
    "start_time": "2024-05-15T07:27:29.267Z"
   },
   {
    "duration": 5,
    "start_time": "2024-05-15T07:27:29.280Z"
   },
   {
    "duration": 20,
    "start_time": "2024-05-15T07:27:29.286Z"
   },
   {
    "duration": 144,
    "start_time": "2024-05-15T07:27:29.308Z"
   },
   {
    "duration": 3,
    "start_time": "2024-05-15T07:27:29.453Z"
   },
   {
    "duration": 5,
    "start_time": "2024-05-15T07:27:29.457Z"
   },
   {
    "duration": 9,
    "start_time": "2024-05-15T07:27:29.469Z"
   },
   {
    "duration": 3,
    "start_time": "2024-05-15T07:27:29.480Z"
   },
   {
    "duration": 3,
    "start_time": "2024-05-15T07:27:29.485Z"
   },
   {
    "duration": 3,
    "start_time": "2024-05-15T07:27:29.490Z"
   },
   {
    "duration": 481,
    "start_time": "2024-05-15T07:27:29.495Z"
   },
   {
    "duration": 3,
    "start_time": "2024-05-15T07:27:29.981Z"
   },
   {
    "duration": 16,
    "start_time": "2024-05-15T07:27:29.986Z"
   },
   {
    "duration": 59,
    "start_time": "2024-05-15T07:27:30.003Z"
   },
   {
    "duration": 65,
    "start_time": "2024-05-15T07:27:30.064Z"
   },
   {
    "duration": 24,
    "start_time": "2024-05-15T07:27:30.131Z"
   },
   {
    "duration": 29,
    "start_time": "2024-05-15T07:27:30.157Z"
   },
   {
    "duration": 217,
    "start_time": "2024-05-15T07:27:30.188Z"
   },
   {
    "duration": 138,
    "start_time": "2024-05-15T07:27:30.407Z"
   },
   {
    "duration": 101,
    "start_time": "2024-05-15T07:27:30.547Z"
   },
   {
    "duration": 252,
    "start_time": "2024-05-15T07:27:30.650Z"
   },
   {
    "duration": 5618,
    "start_time": "2024-05-15T14:21:08.786Z"
   },
   {
    "duration": 4066,
    "start_time": "2024-05-15T14:21:14.406Z"
   },
   {
    "duration": 22846,
    "start_time": "2024-05-15T14:21:18.474Z"
   },
   {
    "duration": 6474,
    "start_time": "2024-05-15T14:21:41.323Z"
   },
   {
    "duration": 3275,
    "start_time": "2024-05-15T14:21:47.799Z"
   },
   {
    "duration": 1697,
    "start_time": "2024-05-15T14:21:51.076Z"
   },
   {
    "duration": 3,
    "start_time": "2024-05-15T14:21:52.775Z"
   },
   {
    "duration": 17,
    "start_time": "2024-05-15T14:21:52.782Z"
   },
   {
    "duration": 24,
    "start_time": "2024-05-15T14:21:52.801Z"
   },
   {
    "duration": 3000,
    "start_time": "2024-05-15T14:21:52.827Z"
   },
   {
    "duration": 2,
    "start_time": "2024-05-15T14:21:55.829Z"
   },
   {
    "duration": 17,
    "start_time": "2024-05-15T14:21:55.833Z"
   },
   {
    "duration": 16,
    "start_time": "2024-05-15T14:21:55.851Z"
   },
   {
    "duration": 159,
    "start_time": "2024-05-15T14:21:55.869Z"
   },
   {
    "duration": 159,
    "start_time": "2024-05-15T14:21:56.030Z"
   },
   {
    "duration": 3,
    "start_time": "2024-05-15T14:21:56.191Z"
   },
   {
    "duration": 7417,
    "start_time": "2024-05-15T14:21:56.196Z"
   },
   {
    "duration": 3,
    "start_time": "2024-05-15T14:22:03.614Z"
   },
   {
    "duration": 464,
    "start_time": "2024-05-15T14:22:03.619Z"
   },
   {
    "duration": 536,
    "start_time": "2024-05-15T14:22:04.085Z"
   },
   {
    "duration": 490,
    "start_time": "2024-05-15T14:22:04.623Z"
   },
   {
    "duration": 3,
    "start_time": "2024-05-15T14:22:05.114Z"
   },
   {
    "duration": 271,
    "start_time": "2024-05-15T14:22:05.118Z"
   },
   {
    "duration": 4,
    "start_time": "2024-05-15T14:22:05.391Z"
   },
   {
    "duration": 27,
    "start_time": "2024-05-15T14:22:05.396Z"
   },
   {
    "duration": 42,
    "start_time": "2024-05-15T14:22:05.424Z"
   },
   {
    "duration": 21,
    "start_time": "2024-05-15T14:22:05.468Z"
   },
   {
    "duration": 25,
    "start_time": "2024-05-15T14:22:05.570Z"
   },
   {
    "duration": 553,
    "start_time": "2024-05-15T14:22:05.597Z"
   },
   {
    "duration": 36,
    "start_time": "2024-05-15T14:22:06.152Z"
   },
   {
    "duration": 23,
    "start_time": "2024-05-15T14:22:06.190Z"
   },
   {
    "duration": 21,
    "start_time": "2024-05-15T14:22:06.215Z"
   },
   {
    "duration": 55,
    "start_time": "2024-05-15T14:22:06.239Z"
   },
   {
    "duration": 2690,
    "start_time": "2024-05-15T14:22:06.296Z"
   },
   {
    "duration": 19,
    "start_time": "2024-05-15T14:22:08.987Z"
   },
   {
    "duration": 35,
    "start_time": "2024-05-15T14:22:09.007Z"
   },
   {
    "duration": 15981,
    "start_time": "2024-05-15T14:22:09.044Z"
   },
   {
    "duration": 21,
    "start_time": "2024-05-15T14:22:25.027Z"
   },
   {
    "duration": 607,
    "start_time": "2024-05-15T14:22:25.049Z"
   },
   {
    "duration": 38,
    "start_time": "2024-05-15T14:22:25.658Z"
   },
   {
    "duration": 572,
    "start_time": "2024-05-15T14:22:25.697Z"
   },
   {
    "duration": 15973,
    "start_time": "2024-05-15T14:22:26.271Z"
   },
   {
    "duration": 18,
    "start_time": "2024-05-15T14:22:42.246Z"
   },
   {
    "duration": 33,
    "start_time": "2024-05-15T14:22:42.265Z"
   },
   {
    "duration": 588,
    "start_time": "2024-05-15T14:22:42.299Z"
   },
   {
    "duration": 15740,
    "start_time": "2024-05-15T14:22:42.888Z"
   },
   {
    "duration": 19,
    "start_time": "2024-05-15T14:22:58.629Z"
   },
   {
    "duration": 356,
    "start_time": "2024-05-15T14:22:58.649Z"
   },
   {
    "duration": 4,
    "start_time": "2024-05-15T14:22:59.007Z"
   },
   {
    "duration": 87,
    "start_time": "2024-05-15T14:22:59.013Z"
   },
   {
    "duration": 327,
    "start_time": "2024-05-15T14:22:59.102Z"
   },
   {
    "duration": 500,
    "start_time": "2024-05-15T14:22:59.431Z"
   },
   {
    "duration": 4,
    "start_time": "2024-05-15T14:22:59.933Z"
   },
   {
    "duration": 92,
    "start_time": "2024-05-15T14:22:59.939Z"
   },
   {
    "duration": 150,
    "start_time": "2024-05-15T14:23:00.034Z"
   },
   {
    "duration": 13134,
    "start_time": "2024-05-15T14:23:00.185Z"
   },
   {
    "duration": 3,
    "start_time": "2024-05-15T14:23:13.321Z"
   },
   {
    "duration": 76,
    "start_time": "2024-05-15T14:23:13.325Z"
   },
   {
    "duration": 3,
    "start_time": "2024-05-15T14:23:13.403Z"
   },
   {
    "duration": 63,
    "start_time": "2024-05-15T14:23:13.408Z"
   },
   {
    "duration": 469,
    "start_time": "2024-05-15T14:23:13.473Z"
   },
   {
    "duration": 13,
    "start_time": "2024-05-15T14:23:13.944Z"
   },
   {
    "duration": 591,
    "start_time": "2024-05-15T14:23:13.959Z"
   },
   {
    "duration": 2377,
    "start_time": "2024-05-15T14:23:14.551Z"
   },
   {
    "duration": 196,
    "start_time": "2024-05-15T14:23:16.929Z"
   },
   {
    "duration": 16,
    "start_time": "2024-05-15T14:23:17.127Z"
   },
   {
    "duration": 162,
    "start_time": "2024-05-15T14:23:17.144Z"
   },
   {
    "duration": 4,
    "start_time": "2024-05-15T14:23:17.307Z"
   },
   {
    "duration": 61,
    "start_time": "2024-05-15T14:23:17.312Z"
   },
   {
    "duration": 3,
    "start_time": "2024-05-15T14:23:17.375Z"
   },
   {
    "duration": 9,
    "start_time": "2024-05-15T14:23:17.382Z"
   },
   {
    "duration": 119,
    "start_time": "2024-05-15T14:23:17.393Z"
   },
   {
    "duration": 23,
    "start_time": "2024-05-15T14:23:17.514Z"
   },
   {
    "duration": 175,
    "start_time": "2024-05-15T14:23:17.539Z"
   },
   {
    "duration": 3,
    "start_time": "2024-05-15T14:23:17.716Z"
   },
   {
    "duration": 17,
    "start_time": "2024-05-15T14:23:17.720Z"
   },
   {
    "duration": 29,
    "start_time": "2024-05-15T14:23:17.739Z"
   },
   {
    "duration": 138,
    "start_time": "2024-05-15T14:23:17.770Z"
   },
   {
    "duration": 75,
    "start_time": "2024-05-15T14:23:17.910Z"
   },
   {
    "duration": 81,
    "start_time": "2024-05-15T14:23:17.987Z"
   },
   {
    "duration": 88,
    "start_time": "2024-05-15T14:23:18.070Z"
   },
   {
    "duration": 3,
    "start_time": "2024-05-15T14:23:18.164Z"
   },
   {
    "duration": 13,
    "start_time": "2024-05-15T14:23:18.169Z"
   },
   {
    "duration": 76,
    "start_time": "2024-05-15T14:23:18.184Z"
   },
   {
    "duration": 56,
    "start_time": "2024-05-15T14:23:18.262Z"
   },
   {
    "duration": 3,
    "start_time": "2024-05-15T14:23:18.320Z"
   },
   {
    "duration": 19,
    "start_time": "2024-05-15T14:23:18.325Z"
   },
   {
    "duration": 16,
    "start_time": "2024-05-15T14:23:18.346Z"
   },
   {
    "duration": 7,
    "start_time": "2024-05-15T14:23:18.364Z"
   },
   {
    "duration": 16,
    "start_time": "2024-05-15T14:23:18.373Z"
   },
   {
    "duration": 34,
    "start_time": "2024-05-15T14:23:18.391Z"
   },
   {
    "duration": 36169,
    "start_time": "2024-05-15T14:23:18.426Z"
   },
   {
    "duration": 3,
    "start_time": "2024-05-15T14:23:54.597Z"
   },
   {
    "duration": 12,
    "start_time": "2024-05-15T14:23:54.602Z"
   },
   {
    "duration": 8,
    "start_time": "2024-05-15T14:23:54.615Z"
   },
   {
    "duration": 7,
    "start_time": "2024-05-15T14:23:54.625Z"
   },
   {
    "duration": 3,
    "start_time": "2024-05-15T14:23:54.634Z"
   },
   {
    "duration": 4,
    "start_time": "2024-05-15T14:23:54.639Z"
   },
   {
    "duration": 9,
    "start_time": "2024-05-15T14:23:54.644Z"
   },
   {
    "duration": 20,
    "start_time": "2024-05-15T14:23:54.655Z"
   },
   {
    "duration": 4,
    "start_time": "2024-05-15T14:23:54.681Z"
   },
   {
    "duration": 62,
    "start_time": "2024-05-15T14:23:54.686Z"
   },
   {
    "duration": 40,
    "start_time": "2024-05-15T14:23:54.750Z"
   },
   {
    "duration": 528194,
    "start_time": "2024-05-15T14:23:54.792Z"
   },
   {
    "duration": 3,
    "start_time": "2024-05-15T14:32:42.988Z"
   },
   {
    "duration": 34,
    "start_time": "2024-05-15T14:32:42.992Z"
   },
   {
    "duration": 6,
    "start_time": "2024-05-15T14:32:43.027Z"
   },
   {
    "duration": 4,
    "start_time": "2024-05-15T14:32:43.035Z"
   },
   {
    "duration": 5,
    "start_time": "2024-05-15T14:32:43.040Z"
   },
   {
    "duration": 8,
    "start_time": "2024-05-15T14:32:43.046Z"
   },
   {
    "duration": 3,
    "start_time": "2024-05-15T14:32:43.056Z"
   },
   {
    "duration": 166,
    "start_time": "2024-05-15T14:32:43.061Z"
   },
   {
    "duration": 2,
    "start_time": "2024-05-15T14:32:43.229Z"
   },
   {
    "duration": 11,
    "start_time": "2024-05-15T14:32:43.233Z"
   },
   {
    "duration": 10,
    "start_time": "2024-05-15T14:32:43.246Z"
   },
   {
    "duration": 27,
    "start_time": "2024-05-15T14:32:43.257Z"
   },
   {
    "duration": 13,
    "start_time": "2024-05-15T14:32:43.285Z"
   },
   {
    "duration": 5,
    "start_time": "2024-05-15T14:32:43.300Z"
   },
   {
    "duration": 485,
    "start_time": "2024-05-15T14:32:43.307Z"
   },
   {
    "duration": 3,
    "start_time": "2024-05-15T14:32:43.794Z"
   },
   {
    "duration": 20,
    "start_time": "2024-05-15T14:32:43.798Z"
   },
   {
    "duration": 62,
    "start_time": "2024-05-15T14:32:43.820Z"
   },
   {
    "duration": 4,
    "start_time": "2024-05-15T14:32:43.884Z"
   },
   {
    "duration": 6,
    "start_time": "2024-05-15T14:32:43.890Z"
   },
   {
    "duration": 12,
    "start_time": "2024-05-15T14:32:43.898Z"
   },
   {
    "duration": 248,
    "start_time": "2024-05-15T14:32:43.912Z"
   },
   {
    "duration": 149,
    "start_time": "2024-05-15T14:32:44.163Z"
   },
   {
    "duration": 134,
    "start_time": "2024-05-15T14:32:44.313Z"
   },
   {
    "duration": 148,
    "start_time": "2024-05-15T14:32:44.449Z"
   },
   {
    "duration": 282,
    "start_time": "2024-05-15T16:31:01.192Z"
   },
   {
    "duration": 144,
    "start_time": "2024-05-15T16:31:05.842Z"
   },
   {
    "duration": 3,
    "start_time": "2024-05-15T16:32:12.088Z"
   },
   {
    "duration": 109,
    "start_time": "2024-05-15T16:32:18.101Z"
   },
   {
    "duration": 106,
    "start_time": "2024-05-15T16:32:37.665Z"
   },
   {
    "duration": 115,
    "start_time": "2024-05-15T16:33:56.660Z"
   },
   {
    "duration": 108,
    "start_time": "2024-05-15T16:34:07.241Z"
   },
   {
    "duration": 238,
    "start_time": "2024-05-15T16:34:53.908Z"
   },
   {
    "duration": 122,
    "start_time": "2024-05-15T16:35:01.483Z"
   },
   {
    "duration": 5906,
    "start_time": "2024-08-28T15:18:12.242Z"
   },
   {
    "duration": 3541,
    "start_time": "2024-08-28T15:18:18.150Z"
   },
   {
    "duration": 25390,
    "start_time": "2024-08-28T15:18:21.693Z"
   },
   {
    "duration": 2308,
    "start_time": "2024-08-28T15:18:47.086Z"
   },
   {
    "duration": 2560,
    "start_time": "2024-08-28T15:18:49.396Z"
   },
   {
    "duration": 1896,
    "start_time": "2024-08-28T15:18:51.958Z"
   },
   {
    "duration": 3,
    "start_time": "2024-08-28T15:18:53.856Z"
   },
   {
    "duration": 70,
    "start_time": "2024-08-28T15:18:53.861Z"
   },
   {
    "duration": 18,
    "start_time": "2024-08-28T15:18:53.933Z"
   },
   {
    "duration": 3141,
    "start_time": "2024-08-28T15:18:53.954Z"
   },
   {
    "duration": 3,
    "start_time": "2024-08-28T15:18:57.096Z"
   },
   {
    "duration": 49,
    "start_time": "2024-08-28T15:18:57.101Z"
   },
   {
    "duration": 16,
    "start_time": "2024-08-28T15:18:57.152Z"
   },
   {
    "duration": 106,
    "start_time": "2024-08-28T15:18:57.169Z"
   },
   {
    "duration": 157,
    "start_time": "2024-08-28T15:18:57.277Z"
   },
   {
    "duration": 3,
    "start_time": "2024-08-28T15:18:57.436Z"
   },
   {
    "duration": 7148,
    "start_time": "2024-08-28T15:18:57.441Z"
   },
   {
    "duration": 3,
    "start_time": "2024-08-28T15:19:04.591Z"
   },
   {
    "duration": 483,
    "start_time": "2024-08-28T15:19:04.596Z"
   },
   {
    "duration": 524,
    "start_time": "2024-08-28T15:19:05.081Z"
   },
   {
    "duration": 580,
    "start_time": "2024-08-28T15:19:05.607Z"
   },
   {
    "duration": 5,
    "start_time": "2024-08-28T15:19:06.189Z"
   },
   {
    "duration": 367,
    "start_time": "2024-08-28T15:19:06.196Z"
   },
   {
    "duration": 4,
    "start_time": "2024-08-28T15:19:06.565Z"
   },
   {
    "duration": 85,
    "start_time": "2024-08-28T15:19:06.571Z"
   },
   {
    "duration": 23,
    "start_time": "2024-08-28T15:19:06.658Z"
   },
   {
    "duration": 23,
    "start_time": "2024-08-28T15:19:06.683Z"
   },
   {
    "duration": 18,
    "start_time": "2024-08-28T15:19:06.711Z"
   },
   {
    "duration": 696,
    "start_time": "2024-08-28T15:19:06.731Z"
   },
   {
    "duration": 25,
    "start_time": "2024-08-28T15:19:07.430Z"
   },
   {
    "duration": 25,
    "start_time": "2024-08-28T15:19:07.457Z"
   },
   {
    "duration": 39,
    "start_time": "2024-08-28T15:19:07.483Z"
   },
   {
    "duration": 43,
    "start_time": "2024-08-28T15:19:07.523Z"
   },
   {
    "duration": 2768,
    "start_time": "2024-08-28T15:19:07.569Z"
   },
   {
    "duration": 20,
    "start_time": "2024-08-28T15:19:10.339Z"
   },
   {
    "duration": 62,
    "start_time": "2024-08-28T15:19:10.361Z"
   },
   {
    "duration": 15656,
    "start_time": "2024-08-28T15:19:10.425Z"
   },
   {
    "duration": 27,
    "start_time": "2024-08-28T15:19:26.083Z"
   },
   {
    "duration": 744,
    "start_time": "2024-08-28T15:19:26.112Z"
   },
   {
    "duration": 50,
    "start_time": "2024-08-28T15:19:26.858Z"
   },
   {
    "duration": 813,
    "start_time": "2024-08-28T15:19:26.910Z"
   },
   {
    "duration": 15905,
    "start_time": "2024-08-28T15:19:27.725Z"
   },
   {
    "duration": 19,
    "start_time": "2024-08-28T15:19:43.632Z"
   },
   {
    "duration": 39,
    "start_time": "2024-08-28T15:19:43.653Z"
   },
   {
    "duration": 664,
    "start_time": "2024-08-28T15:19:43.694Z"
   },
   {
    "duration": 15725,
    "start_time": "2024-08-28T15:19:44.359Z"
   },
   {
    "duration": 22,
    "start_time": "2024-08-28T15:20:00.086Z"
   },
   {
    "duration": 487,
    "start_time": "2024-08-28T15:20:00.110Z"
   },
   {
    "duration": 7,
    "start_time": "2024-08-28T15:20:00.599Z"
   },
   {
    "duration": 110,
    "start_time": "2024-08-28T15:20:00.608Z"
   },
   {
    "duration": 429,
    "start_time": "2024-08-28T15:20:00.719Z"
   },
   {
    "duration": 593,
    "start_time": "2024-08-28T15:20:01.150Z"
   },
   {
    "duration": 3,
    "start_time": "2024-08-28T15:20:01.744Z"
   },
   {
    "duration": 94,
    "start_time": "2024-08-28T15:20:01.749Z"
   },
   {
    "duration": 213,
    "start_time": "2024-08-28T15:20:01.845Z"
   },
   {
    "duration": 14242,
    "start_time": "2024-08-28T15:20:02.059Z"
   },
   {
    "duration": 3,
    "start_time": "2024-08-28T15:20:16.304Z"
   },
   {
    "duration": 104,
    "start_time": "2024-08-28T15:20:16.309Z"
   },
   {
    "duration": 4,
    "start_time": "2024-08-28T15:20:16.414Z"
   },
   {
    "duration": 74,
    "start_time": "2024-08-28T15:20:16.419Z"
   },
   {
    "duration": 627,
    "start_time": "2024-08-28T15:20:16.495Z"
   },
   {
    "duration": 15,
    "start_time": "2024-08-28T15:20:17.124Z"
   },
   {
    "duration": 740,
    "start_time": "2024-08-28T15:20:17.140Z"
   },
   {
    "duration": 1535,
    "start_time": "2024-08-28T15:20:17.882Z"
   },
   {
    "duration": 291,
    "start_time": "2024-08-28T15:20:19.420Z"
   },
   {
    "duration": 18,
    "start_time": "2024-08-28T15:20:19.713Z"
   },
   {
    "duration": 239,
    "start_time": "2024-08-28T15:20:19.733Z"
   },
   {
    "duration": 4,
    "start_time": "2024-08-28T15:20:19.973Z"
   },
   {
    "duration": 81,
    "start_time": "2024-08-28T15:20:19.979Z"
   },
   {
    "duration": 4,
    "start_time": "2024-08-28T15:20:20.061Z"
   },
   {
    "duration": 24,
    "start_time": "2024-08-28T15:20:20.067Z"
   },
   {
    "duration": 123,
    "start_time": "2024-08-28T15:20:20.093Z"
   },
   {
    "duration": 23,
    "start_time": "2024-08-28T15:20:20.218Z"
   },
   {
    "duration": 162,
    "start_time": "2024-08-28T15:20:20.243Z"
   },
   {
    "duration": 2,
    "start_time": "2024-08-28T15:20:20.408Z"
   },
   {
    "duration": 9,
    "start_time": "2024-08-28T15:20:20.411Z"
   },
   {
    "duration": 22,
    "start_time": "2024-08-28T15:20:20.422Z"
   },
   {
    "duration": 147,
    "start_time": "2024-08-28T15:20:20.446Z"
   },
   {
    "duration": 71,
    "start_time": "2024-08-28T15:20:20.595Z"
   },
   {
    "duration": 88,
    "start_time": "2024-08-28T15:20:20.667Z"
   },
   {
    "duration": 94,
    "start_time": "2024-08-28T15:20:20.758Z"
   },
   {
    "duration": 4,
    "start_time": "2024-08-28T15:20:20.858Z"
   },
   {
    "duration": 12,
    "start_time": "2024-08-28T15:20:20.865Z"
   },
   {
    "duration": 93,
    "start_time": "2024-08-28T15:20:20.879Z"
   },
   {
    "duration": 68,
    "start_time": "2024-08-28T15:20:20.974Z"
   },
   {
    "duration": 22,
    "start_time": "2024-08-28T15:20:21.044Z"
   },
   {
    "duration": 17,
    "start_time": "2024-08-28T15:20:21.068Z"
   },
   {
    "duration": 12,
    "start_time": "2024-08-28T15:20:21.088Z"
   },
   {
    "duration": 4,
    "start_time": "2024-08-28T15:20:21.103Z"
   },
   {
    "duration": 10,
    "start_time": "2024-08-28T15:20:21.109Z"
   },
   {
    "duration": 25,
    "start_time": "2024-08-28T15:20:21.121Z"
   },
   {
    "duration": 44178,
    "start_time": "2024-08-28T15:20:21.149Z"
   },
   {
    "duration": 3,
    "start_time": "2024-08-28T15:21:05.328Z"
   },
   {
    "duration": 13,
    "start_time": "2024-08-28T15:21:05.333Z"
   },
   {
    "duration": 18,
    "start_time": "2024-08-28T15:21:05.348Z"
   },
   {
    "duration": 8,
    "start_time": "2024-08-28T15:21:05.368Z"
   },
   {
    "duration": 5,
    "start_time": "2024-08-28T15:21:05.377Z"
   },
   {
    "duration": 6,
    "start_time": "2024-08-28T15:21:05.383Z"
   },
   {
    "duration": 9,
    "start_time": "2024-08-28T15:21:05.391Z"
   },
   {
    "duration": 3,
    "start_time": "2024-08-28T15:21:05.401Z"
   },
   {
    "duration": 19,
    "start_time": "2024-08-28T15:21:05.407Z"
   },
   {
    "duration": 102,
    "start_time": "2024-08-28T15:21:05.428Z"
   },
   {
    "duration": 14,
    "start_time": "2024-08-28T15:21:05.532Z"
   },
   {
    "duration": 5732,
    "start_time": "2024-08-28T17:05:56.335Z"
   },
   {
    "duration": 3359,
    "start_time": "2024-08-28T17:06:02.069Z"
   },
   {
    "duration": 22397,
    "start_time": "2024-08-28T17:06:05.430Z"
   },
   {
    "duration": 5754,
    "start_time": "2024-08-28T17:06:27.829Z"
   },
   {
    "duration": 2428,
    "start_time": "2024-08-28T17:06:33.585Z"
   },
   {
    "duration": 1712,
    "start_time": "2024-08-28T17:06:36.015Z"
   },
   {
    "duration": 3,
    "start_time": "2024-08-28T17:06:37.729Z"
   },
   {
    "duration": 21,
    "start_time": "2024-08-28T17:06:37.734Z"
   },
   {
    "duration": 18,
    "start_time": "2024-08-28T17:06:37.757Z"
   },
   {
    "duration": 1353,
    "start_time": "2024-08-28T17:06:37.778Z"
   },
   {
    "duration": 3,
    "start_time": "2024-08-28T17:06:39.132Z"
   },
   {
    "duration": 12,
    "start_time": "2024-08-28T17:06:39.136Z"
   },
   {
    "duration": 20,
    "start_time": "2024-08-28T17:06:39.150Z"
   },
   {
    "duration": 205,
    "start_time": "2024-08-28T17:06:39.171Z"
   },
   {
    "duration": 142,
    "start_time": "2024-08-28T17:06:39.378Z"
   },
   {
    "duration": 3,
    "start_time": "2024-08-28T17:06:39.522Z"
   },
   {
    "duration": 6892,
    "start_time": "2024-08-28T17:06:39.526Z"
   },
   {
    "duration": 4,
    "start_time": "2024-08-28T17:06:46.420Z"
   },
   {
    "duration": 494,
    "start_time": "2024-08-28T17:06:46.426Z"
   },
   {
    "duration": 497,
    "start_time": "2024-08-28T17:06:46.921Z"
   },
   {
    "duration": 496,
    "start_time": "2024-08-28T17:06:47.419Z"
   },
   {
    "duration": 3,
    "start_time": "2024-08-28T17:06:47.917Z"
   },
   {
    "duration": 282,
    "start_time": "2024-08-28T17:06:47.921Z"
   },
   {
    "duration": 3,
    "start_time": "2024-08-28T17:06:48.205Z"
   },
   {
    "duration": 21,
    "start_time": "2024-08-28T17:06:48.210Z"
   },
   {
    "duration": 29,
    "start_time": "2024-08-28T17:06:48.233Z"
   },
   {
    "duration": 36,
    "start_time": "2024-08-28T17:06:48.264Z"
   },
   {
    "duration": 19,
    "start_time": "2024-08-28T17:06:48.304Z"
   },
   {
    "duration": 577,
    "start_time": "2024-08-28T17:06:48.325Z"
   },
   {
    "duration": 29,
    "start_time": "2024-08-28T17:06:48.903Z"
   },
   {
    "duration": 23,
    "start_time": "2024-08-28T17:06:48.933Z"
   },
   {
    "duration": 78,
    "start_time": "2024-08-28T17:06:48.957Z"
   },
   {
    "duration": 22,
    "start_time": "2024-08-28T17:06:49.036Z"
   },
   {
    "duration": 2538,
    "start_time": "2024-08-28T17:06:49.059Z"
   },
   {
    "duration": 17,
    "start_time": "2024-08-28T17:06:51.599Z"
   },
   {
    "duration": 29,
    "start_time": "2024-08-28T17:06:51.618Z"
   },
   {
    "duration": 14842,
    "start_time": "2024-08-28T17:06:51.649Z"
   },
   {
    "duration": 19,
    "start_time": "2024-08-28T17:07:06.493Z"
   },
   {
    "duration": 558,
    "start_time": "2024-08-28T17:07:06.513Z"
   },
   {
    "duration": 26,
    "start_time": "2024-08-28T17:07:07.073Z"
   },
   {
    "duration": 526,
    "start_time": "2024-08-28T17:07:07.101Z"
   },
   {
    "duration": 15362,
    "start_time": "2024-08-28T17:07:07.628Z"
   },
   {
    "duration": 24,
    "start_time": "2024-08-28T17:07:22.991Z"
   },
   {
    "duration": 57,
    "start_time": "2024-08-28T17:07:23.017Z"
   },
   {
    "duration": 687,
    "start_time": "2024-08-28T17:07:23.076Z"
   },
   {
    "duration": 14902,
    "start_time": "2024-08-28T17:07:23.765Z"
   },
   {
    "duration": 18,
    "start_time": "2024-08-28T17:07:38.669Z"
   },
   {
    "duration": 311,
    "start_time": "2024-08-28T17:07:38.698Z"
   },
   {
    "duration": 4,
    "start_time": "2024-08-28T17:07:39.010Z"
   },
   {
    "duration": 83,
    "start_time": "2024-08-28T17:07:39.016Z"
   },
   {
    "duration": 338,
    "start_time": "2024-08-28T17:07:39.101Z"
   },
   {
    "duration": 456,
    "start_time": "2024-08-28T17:07:39.441Z"
   },
   {
    "duration": 3,
    "start_time": "2024-08-28T17:07:39.899Z"
   },
   {
    "duration": 84,
    "start_time": "2024-08-28T17:07:39.904Z"
   },
   {
    "duration": 132,
    "start_time": "2024-08-28T17:07:39.990Z"
   },
   {
    "duration": 12335,
    "start_time": "2024-08-28T17:07:40.123Z"
   },
   {
    "duration": 3,
    "start_time": "2024-08-28T17:07:52.460Z"
   },
   {
    "duration": 114,
    "start_time": "2024-08-28T17:07:52.464Z"
   },
   {
    "duration": 4,
    "start_time": "2024-08-28T17:07:52.579Z"
   },
   {
    "duration": 108,
    "start_time": "2024-08-28T17:07:52.584Z"
   },
   {
    "duration": 1374,
    "start_time": "2024-08-28T17:07:52.694Z"
   },
   {
    "duration": 14,
    "start_time": "2024-08-28T17:07:54.070Z"
   },
   {
    "duration": 581,
    "start_time": "2024-08-28T17:07:54.098Z"
   },
   {
    "duration": 1286,
    "start_time": "2024-08-28T17:07:54.681Z"
   },
   {
    "duration": 187,
    "start_time": "2024-08-28T17:07:55.969Z"
   },
   {
    "duration": 16,
    "start_time": "2024-08-28T17:07:56.158Z"
   },
   {
    "duration": 152,
    "start_time": "2024-08-28T17:07:56.176Z"
   },
   {
    "duration": 4,
    "start_time": "2024-08-28T17:07:56.330Z"
   },
   {
    "duration": 64,
    "start_time": "2024-08-28T17:07:56.336Z"
   },
   {
    "duration": 3,
    "start_time": "2024-08-28T17:07:56.402Z"
   },
   {
    "duration": 77,
    "start_time": "2024-08-28T17:07:56.406Z"
   },
   {
    "duration": 105,
    "start_time": "2024-08-28T17:07:56.485Z"
   },
   {
    "duration": 22,
    "start_time": "2024-08-28T17:07:56.591Z"
   },
   {
    "duration": 145,
    "start_time": "2024-08-28T17:07:56.615Z"
   },
   {
    "duration": 3,
    "start_time": "2024-08-28T17:07:56.762Z"
   },
   {
    "duration": 4,
    "start_time": "2024-08-28T17:07:56.767Z"
   },
   {
    "duration": 39,
    "start_time": "2024-08-28T17:07:56.773Z"
   },
   {
    "duration": 158,
    "start_time": "2024-08-28T17:07:56.813Z"
   },
   {
    "duration": 68,
    "start_time": "2024-08-28T17:07:56.973Z"
   },
   {
    "duration": 86,
    "start_time": "2024-08-28T17:07:57.043Z"
   },
   {
    "duration": 79,
    "start_time": "2024-08-28T17:07:57.131Z"
   },
   {
    "duration": 3,
    "start_time": "2024-08-28T17:07:57.218Z"
   },
   {
    "duration": 5,
    "start_time": "2024-08-28T17:07:57.222Z"
   },
   {
    "duration": 73,
    "start_time": "2024-08-28T17:07:57.229Z"
   },
   {
    "duration": 55,
    "start_time": "2024-08-28T17:07:57.303Z"
   },
   {
    "duration": 3,
    "start_time": "2024-08-28T17:07:57.359Z"
   },
   {
    "duration": 49,
    "start_time": "2024-08-28T17:07:57.364Z"
   },
   {
    "duration": 3,
    "start_time": "2024-08-28T17:07:57.415Z"
   },
   {
    "duration": 12,
    "start_time": "2024-08-28T17:07:57.420Z"
   },
   {
    "duration": 5,
    "start_time": "2024-08-28T17:07:57.433Z"
   },
   {
    "duration": 8,
    "start_time": "2024-08-28T17:07:57.440Z"
   },
   {
    "duration": 40849,
    "start_time": "2024-08-28T17:07:57.450Z"
   },
   {
    "duration": 3,
    "start_time": "2024-08-28T17:08:38.300Z"
   },
   {
    "duration": 12,
    "start_time": "2024-08-28T17:08:38.304Z"
   },
   {
    "duration": 4,
    "start_time": "2024-08-28T17:08:38.317Z"
   },
   {
    "duration": 5,
    "start_time": "2024-08-28T17:08:38.322Z"
   },
   {
    "duration": 4,
    "start_time": "2024-08-28T17:08:38.328Z"
   },
   {
    "duration": 4,
    "start_time": "2024-08-28T17:08:38.334Z"
   },
   {
    "duration": 9,
    "start_time": "2024-08-28T17:08:38.339Z"
   },
   {
    "duration": 3,
    "start_time": "2024-08-28T17:08:38.350Z"
   },
   {
    "duration": 4,
    "start_time": "2024-08-28T17:08:38.354Z"
   },
   {
    "duration": 108,
    "start_time": "2024-08-28T17:08:38.359Z"
   },
   {
    "duration": 13,
    "start_time": "2024-08-28T17:08:38.469Z"
   },
   {
    "duration": 880124,
    "start_time": "2024-08-28T17:08:38.484Z"
   },
   {
    "duration": 3,
    "start_time": "2024-08-28T17:23:18.610Z"
   },
   {
    "duration": 84,
    "start_time": "2024-08-28T17:23:18.614Z"
   },
   {
    "duration": 3,
    "start_time": "2024-08-28T17:23:18.699Z"
   },
   {
    "duration": 10,
    "start_time": "2024-08-28T17:23:18.703Z"
   },
   {
    "duration": 4,
    "start_time": "2024-08-28T17:23:18.714Z"
   },
   {
    "duration": 3,
    "start_time": "2024-08-28T17:23:18.720Z"
   },
   {
    "duration": 3,
    "start_time": "2024-08-28T17:23:18.725Z"
   },
   {
    "duration": 83,
    "start_time": "2024-08-28T17:23:18.729Z"
   },
   {
    "duration": 3,
    "start_time": "2024-08-28T17:23:18.813Z"
   },
   {
    "duration": 5,
    "start_time": "2024-08-28T17:23:18.818Z"
   },
   {
    "duration": 6,
    "start_time": "2024-08-28T17:23:18.824Z"
   },
   {
    "duration": 4,
    "start_time": "2024-08-28T17:23:18.831Z"
   },
   {
    "duration": 12,
    "start_time": "2024-08-28T17:23:18.836Z"
   },
   {
    "duration": 5,
    "start_time": "2024-08-28T17:23:18.850Z"
   },
   {
    "duration": 153,
    "start_time": "2024-08-28T17:23:18.856Z"
   },
   {
    "duration": 3,
    "start_time": "2024-08-28T17:23:19.097Z"
   },
   {
    "duration": 21,
    "start_time": "2024-08-28T17:23:19.101Z"
   },
   {
    "duration": 7,
    "start_time": "2024-08-28T17:23:19.124Z"
   },
   {
    "duration": 14,
    "start_time": "2024-08-28T17:23:19.132Z"
   },
   {
    "duration": 31,
    "start_time": "2024-08-28T17:23:19.148Z"
   },
   {
    "duration": 120,
    "start_time": "2024-08-28T17:23:19.181Z"
   },
   {
    "duration": 224,
    "start_time": "2024-08-28T17:23:19.302Z"
   },
   {
    "duration": 127,
    "start_time": "2024-08-28T17:23:19.528Z"
   },
   {
    "duration": 117,
    "start_time": "2024-08-28T17:23:19.657Z"
   },
   {
    "duration": 114,
    "start_time": "2024-08-28T17:23:19.776Z"
   }
  ],
  "kernelspec": {
   "display_name": "Python 3 (ipykernel)",
   "language": "python",
   "name": "python3"
  },
  "language_info": {
   "codemirror_mode": {
    "name": "ipython",
    "version": 3
   },
   "file_extension": ".py",
   "mimetype": "text/x-python",
   "name": "python",
   "nbconvert_exporter": "python",
   "pygments_lexer": "ipython3",
   "version": "3.9.5"
  },
  "toc": {
   "base_numbering": 1,
   "nav_menu": {},
   "number_sections": false,
   "sideBar": true,
   "skip_h1_title": true,
   "title_cell": "Table of Contents",
   "title_sidebar": "Contents",
   "toc_cell": false,
   "toc_position": {
    "height": "calc(100% - 180px)",
    "left": "10px",
    "top": "150px",
    "width": "212.594px"
   },
   "toc_section_display": true,
   "toc_window_display": true
  }
 },
 "nbformat": 4,
 "nbformat_minor": 2
}
