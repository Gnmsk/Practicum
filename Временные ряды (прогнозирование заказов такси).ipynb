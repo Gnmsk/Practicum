{
 "cells": [
  {
   "cell_type": "markdown",
   "metadata": {
    "toc": true
   },
   "source": [
    "<h1>Содержание<span class=\"tocSkip\"></span></h1>\n",
    "<div class=\"toc\"><ul class=\"toc-item\"><li><span><a href=\"#Подготовка\" data-toc-modified-id=\"Подготовка-1\"><span class=\"toc-item-num\">1&nbsp;&nbsp;</span>Подготовка</a></span></li><li><span><a href=\"#Анализ\" data-toc-modified-id=\"Анализ-2\"><span class=\"toc-item-num\">2&nbsp;&nbsp;</span>Анализ</a></span></li><li><span><a href=\"#Обучение\" data-toc-modified-id=\"Обучение-3\"><span class=\"toc-item-num\">3&nbsp;&nbsp;</span>Обучение</a></span></li><li><span><a href=\"#Тестирование\" data-toc-modified-id=\"Тестирование-4\"><span class=\"toc-item-num\">4&nbsp;&nbsp;</span>Тестирование</a></span><ul class=\"toc-item\"><li><span><a href=\"#Вывод:\" data-toc-modified-id=\"Вывод:-4.1\"><span class=\"toc-item-num\">4.1&nbsp;&nbsp;</span>Вывод:</a></span></li></ul></li><li><span><a href=\"#Чек-лист-проверки\" data-toc-modified-id=\"Чек-лист-проверки-5\"><span class=\"toc-item-num\">5&nbsp;&nbsp;</span>Чек-лист проверки</a></span></li></ul></div>"
   ]
  },
  {
   "cell_type": "markdown",
   "metadata": {},
   "source": [
    "#  Прогнозирование заказов такси"
   ]
  },
  {
   "cell_type": "markdown",
   "metadata": {},
   "source": [
    "Компания «Чётенькое такси» собрала исторические данные о заказах такси в аэропортах. Чтобы привлекать больше водителей в период пиковой нагрузки, нужно спрогнозировать количество заказов такси на следующий час. Постройте модель для такого предсказания.\n",
    "\n",
    "Значение метрики *RMSE* на тестовой выборке должно быть не больше 48.\n",
    "\n",
    "Вам нужно:\n",
    "\n",
    "1. Загрузить данные и выполнить их ресемплирование по одному часу.\n",
    "2. Проанализировать данные.\n",
    "3. Обучить разные модели с различными гиперпараметрами. Сделать тестовую выборку размером 10% от исходных данных.\n",
    "4. Проверить данные на тестовой выборке и сделать выводы.\n",
    "\n",
    "\n",
    "Данные лежат в файле `taxi.csv`. Количество заказов находится в столбце `num_orders` (от англ. *number of orders*, «число заказов»)."
   ]
  },
  {
   "cell_type": "code",
   "execution_count": 1,
   "metadata": {},
   "outputs": [
    {
     "name": "stdout",
     "output_type": "stream",
     "text": [
      "\u001b[33mWARNING: Error parsing dependencies of ipykernel: Expected matching RIGHT_PARENTHESIS for LEFT_PARENTHESIS, after version specifier\r\n",
      "    matplotlib-inline (<0.2.0appnope,>=0.1.0) ; platform_system == \"Darwin\"\r\n",
      "                      ~~~~~~~~^\u001b[0m\u001b[33m\r\n",
      "\u001b[0m"
     ]
    }
   ],
   "source": [
    "!pip install -U scikit-learn -q"
   ]
  },
  {
   "cell_type": "code",
   "execution_count": 2,
   "metadata": {},
   "outputs": [],
   "source": [
    "import pandas as pd\n",
    "import numpy as np\n",
    "from numpy import sqrt\n",
    "import seaborn as sns\n",
    "import matplotlib.pyplot as plt\n",
    "from statsmodels.tsa.seasonal import seasonal_decompose\n",
    "from statsmodels.graphics.tsaplots import plot_acf\n",
    "\n",
    "import lightgbm as lgm\n",
    "\n",
    "from sklearn.model_selection import train_test_split, GridSearchCV, TimeSeriesSplit\n",
    "from sklearn.linear_model import LinearRegression\n",
    "from sklearn.tree import DecisionTreeClassifier, DecisionTreeRegressor\n",
    "from sklearn.neighbors import KNeighborsClassifier\n",
    "from sklearn.svm import SVC\n",
    "from sklearn.compose import ColumnTransformer\n",
    "from sklearn.preprocessing import (\n",
    "    StandardScaler,\n",
    "    MinMaxScaler,\n",
    "    RobustScaler,\n",
    "    OneHotEncoder,\n",
    "    OrdinalEncoder\n",
    ")\n",
    "\n",
    "from sklearn.metrics import mean_absolute_error, mean_squared_error\n",
    "from sklearn.pipeline import Pipeline\n",
    "from sklearn.impute import SimpleImputer"
   ]
  },
  {
   "cell_type": "markdown",
   "metadata": {},
   "source": [
    "<font color='blue'><b>Комментарий ревьюера: </b></font> ✔️\\\n",
    "<font color='green'> Хорошее оформление импортов! \\\n",
    "Импорты собраны в одной ячейке, разделены на функциональные группы пустой строкой.</font>"
   ]
  },
  {
   "cell_type": "code",
   "execution_count": 3,
   "metadata": {},
   "outputs": [
    {
     "name": "stdout",
     "output_type": "stream",
     "text": [
      "\u001b[33mWARNING: Error parsing dependencies of ipykernel: Expected matching RIGHT_PARENTHESIS for LEFT_PARENTHESIS, after version specifier\n",
      "    matplotlib-inline (<0.2.0appnope,>=0.1.0) ; platform_system == \"Darwin\"\n",
      "                      ~~~~~~~~^\u001b[0m\u001b[33m\n",
      "\u001b[0mNote: you may need to restart the kernel to use updated packages.\n"
     ]
    }
   ],
   "source": [
    "pip install category_encoders -q"
   ]
  },
  {
   "cell_type": "code",
   "execution_count": 4,
   "metadata": {},
   "outputs": [],
   "source": [
    "RANDOM_STATE = 42\n",
    "VALID_SIZE = 0.1"
   ]
  },
  {
   "cell_type": "code",
   "execution_count": 5,
   "metadata": {},
   "outputs": [],
   "source": [
    "def make_features(data, max_lag, rolling_mean_size):\n",
    "    \n",
    "    data['hour'] = data.index.hour\n",
    "    data['dayofweek'] = data.index.dayofweek\n",
    "    \n",
    "    for lag in range(1, max_lag + 1):\n",
    "        data['lag_{}'.format(lag)] = data['num_orders'].shift(lag)\n",
    "\n",
    "    data['rolling_mean'] = data['num_orders'].shift().rolling(rolling_mean_size).mean()"
   ]
  },
  {
   "cell_type": "markdown",
   "metadata": {},
   "source": [
    "## Подготовка"
   ]
  },
  {
   "cell_type": "code",
   "execution_count": 6,
   "metadata": {},
   "outputs": [],
   "source": [
    "data = pd.read_csv('/datasets/taxi.csv', index_col=[0], parse_dates=[0])"
   ]
  },
  {
   "cell_type": "code",
   "execution_count": 7,
   "metadata": {},
   "outputs": [],
   "source": [
    "data.sort_index(inplace=True)"
   ]
  },
  {
   "cell_type": "code",
   "execution_count": 8,
   "metadata": {},
   "outputs": [
    {
     "data": {
      "text/html": [
       "<div>\n",
       "<style scoped>\n",
       "    .dataframe tbody tr th:only-of-type {\n",
       "        vertical-align: middle;\n",
       "    }\n",
       "\n",
       "    .dataframe tbody tr th {\n",
       "        vertical-align: top;\n",
       "    }\n",
       "\n",
       "    .dataframe thead th {\n",
       "        text-align: right;\n",
       "    }\n",
       "</style>\n",
       "<table border=\"1\" class=\"dataframe\">\n",
       "  <thead>\n",
       "    <tr style=\"text-align: right;\">\n",
       "      <th></th>\n",
       "      <th>num_orders</th>\n",
       "    </tr>\n",
       "    <tr>\n",
       "      <th>datetime</th>\n",
       "      <th></th>\n",
       "    </tr>\n",
       "  </thead>\n",
       "  <tbody>\n",
       "    <tr>\n",
       "      <th>2018-03-01 00:00:00</th>\n",
       "      <td>9</td>\n",
       "    </tr>\n",
       "    <tr>\n",
       "      <th>2018-03-01 00:10:00</th>\n",
       "      <td>14</td>\n",
       "    </tr>\n",
       "    <tr>\n",
       "      <th>2018-03-01 00:20:00</th>\n",
       "      <td>28</td>\n",
       "    </tr>\n",
       "    <tr>\n",
       "      <th>2018-03-01 00:30:00</th>\n",
       "      <td>20</td>\n",
       "    </tr>\n",
       "    <tr>\n",
       "      <th>2018-03-01 00:40:00</th>\n",
       "      <td>32</td>\n",
       "    </tr>\n",
       "  </tbody>\n",
       "</table>\n",
       "</div>"
      ],
      "text/plain": [
       "                     num_orders\n",
       "datetime                       \n",
       "2018-03-01 00:00:00           9\n",
       "2018-03-01 00:10:00          14\n",
       "2018-03-01 00:20:00          28\n",
       "2018-03-01 00:30:00          20\n",
       "2018-03-01 00:40:00          32"
      ]
     },
     "execution_count": 8,
     "metadata": {},
     "output_type": "execute_result"
    }
   ],
   "source": [
    "data.head()"
   ]
  },
  {
   "cell_type": "code",
   "execution_count": 9,
   "metadata": {},
   "outputs": [
    {
     "data": {
      "text/html": [
       "<div>\n",
       "<style scoped>\n",
       "    .dataframe tbody tr th:only-of-type {\n",
       "        vertical-align: middle;\n",
       "    }\n",
       "\n",
       "    .dataframe tbody tr th {\n",
       "        vertical-align: top;\n",
       "    }\n",
       "\n",
       "    .dataframe thead th {\n",
       "        text-align: right;\n",
       "    }\n",
       "</style>\n",
       "<table border=\"1\" class=\"dataframe\">\n",
       "  <thead>\n",
       "    <tr style=\"text-align: right;\">\n",
       "      <th></th>\n",
       "      <th>num_orders</th>\n",
       "    </tr>\n",
       "  </thead>\n",
       "  <tbody>\n",
       "    <tr>\n",
       "      <th>count</th>\n",
       "      <td>26496.000000</td>\n",
       "    </tr>\n",
       "    <tr>\n",
       "      <th>mean</th>\n",
       "      <td>14.070463</td>\n",
       "    </tr>\n",
       "    <tr>\n",
       "      <th>std</th>\n",
       "      <td>9.211330</td>\n",
       "    </tr>\n",
       "    <tr>\n",
       "      <th>min</th>\n",
       "      <td>0.000000</td>\n",
       "    </tr>\n",
       "    <tr>\n",
       "      <th>25%</th>\n",
       "      <td>8.000000</td>\n",
       "    </tr>\n",
       "    <tr>\n",
       "      <th>50%</th>\n",
       "      <td>13.000000</td>\n",
       "    </tr>\n",
       "    <tr>\n",
       "      <th>75%</th>\n",
       "      <td>19.000000</td>\n",
       "    </tr>\n",
       "    <tr>\n",
       "      <th>max</th>\n",
       "      <td>119.000000</td>\n",
       "    </tr>\n",
       "  </tbody>\n",
       "</table>\n",
       "</div>"
      ],
      "text/plain": [
       "         num_orders\n",
       "count  26496.000000\n",
       "mean      14.070463\n",
       "std        9.211330\n",
       "min        0.000000\n",
       "25%        8.000000\n",
       "50%       13.000000\n",
       "75%       19.000000\n",
       "max      119.000000"
      ]
     },
     "execution_count": 9,
     "metadata": {},
     "output_type": "execute_result"
    }
   ],
   "source": [
    "data.describe()"
   ]
  },
  {
   "cell_type": "code",
   "execution_count": 10,
   "metadata": {},
   "outputs": [],
   "source": [
    "data = data.resample('1H').sum()"
   ]
  },
  {
   "cell_type": "code",
   "execution_count": 11,
   "metadata": {},
   "outputs": [
    {
     "data": {
      "text/html": [
       "<div>\n",
       "<style scoped>\n",
       "    .dataframe tbody tr th:only-of-type {\n",
       "        vertical-align: middle;\n",
       "    }\n",
       "\n",
       "    .dataframe tbody tr th {\n",
       "        vertical-align: top;\n",
       "    }\n",
       "\n",
       "    .dataframe thead th {\n",
       "        text-align: right;\n",
       "    }\n",
       "</style>\n",
       "<table border=\"1\" class=\"dataframe\">\n",
       "  <thead>\n",
       "    <tr style=\"text-align: right;\">\n",
       "      <th></th>\n",
       "      <th>num_orders</th>\n",
       "    </tr>\n",
       "  </thead>\n",
       "  <tbody>\n",
       "    <tr>\n",
       "      <th>count</th>\n",
       "      <td>4416.000000</td>\n",
       "    </tr>\n",
       "    <tr>\n",
       "      <th>mean</th>\n",
       "      <td>84.422781</td>\n",
       "    </tr>\n",
       "    <tr>\n",
       "      <th>std</th>\n",
       "      <td>45.023853</td>\n",
       "    </tr>\n",
       "    <tr>\n",
       "      <th>min</th>\n",
       "      <td>0.000000</td>\n",
       "    </tr>\n",
       "    <tr>\n",
       "      <th>25%</th>\n",
       "      <td>54.000000</td>\n",
       "    </tr>\n",
       "    <tr>\n",
       "      <th>50%</th>\n",
       "      <td>78.000000</td>\n",
       "    </tr>\n",
       "    <tr>\n",
       "      <th>75%</th>\n",
       "      <td>107.000000</td>\n",
       "    </tr>\n",
       "    <tr>\n",
       "      <th>max</th>\n",
       "      <td>462.000000</td>\n",
       "    </tr>\n",
       "  </tbody>\n",
       "</table>\n",
       "</div>"
      ],
      "text/plain": [
       "        num_orders\n",
       "count  4416.000000\n",
       "mean     84.422781\n",
       "std      45.023853\n",
       "min       0.000000\n",
       "25%      54.000000\n",
       "50%      78.000000\n",
       "75%     107.000000\n",
       "max     462.000000"
      ]
     },
     "execution_count": 11,
     "metadata": {},
     "output_type": "execute_result"
    }
   ],
   "source": [
    "data.describe()"
   ]
  },
  {
   "cell_type": "markdown",
   "metadata": {},
   "source": [
    "## Анализ"
   ]
  },
  {
   "cell_type": "code",
   "execution_count": 12,
   "metadata": {},
   "outputs": [],
   "source": [
    "decomposed = seasonal_decompose(data)"
   ]
  },
  {
   "cell_type": "code",
   "execution_count": 13,
   "metadata": {},
   "outputs": [
    {
     "data": {
      "image/png": "[encoded data removed]",
      "text/plain": [
       "<Figure size 864x1152 with 3 Axes>"
      ]
     },
     "metadata": {
      "needs_background": "light"
     },
     "output_type": "display_data"
    }
   ],
   "source": [
    "plt.figure(figsize=(12, 16))\n",
    "plt.subplot(311)\n",
    "decomposed.trend.plot(ax=plt.gca())\n",
    "plt.title('Trend')\n",
    "plt.subplot(312)\n",
    "decomposed.seasonal.plot(ax=plt.gca()) \n",
    "plt.title('Seasonality')\n",
    "plt.subplot(313)\n",
    "decomposed.resid.plot(ax=plt.gca()) \n",
    "plt.title('Residuals')\n",
    "plt.tight_layout()"
   ]
  },
  {
   "cell_type": "markdown",
   "metadata": {},
   "source": [
    "**Общая тенденция по месяцам -** количество заказов такси увеличивается. Особенно это заметно в летние месяцы"
   ]
  },
  {
   "cell_type": "code",
   "execution_count": 14,
   "metadata": {},
   "outputs": [],
   "source": [
    "seasonal = decomposed.seasonal"
   ]
  },
  {
   "cell_type": "code",
   "execution_count": 15,
   "metadata": {},
   "outputs": [],
   "source": [
    "start_day = seasonal.index[0]\n",
    "end_day = seasonal.index[47]"
   ]
  },
  {
   "cell_type": "code",
   "execution_count": 16,
   "metadata": {},
   "outputs": [],
   "source": [
    "seasonal_cut = seasonal.loc[start_day:end_day]"
   ]
  },
  {
   "cell_type": "code",
   "execution_count": 17,
   "metadata": {},
   "outputs": [
    {
     "data": {
      "image/png": "[encoded data removed]",
      "text/plain": [
       "<Figure size 864x432 with 1 Axes>"
      ]
     },
     "metadata": {
      "needs_background": "light"
     },
     "output_type": "display_data"
    }
   ],
   "source": [
    "plt.figure(figsize=(12, 6))\n",
    "seasonal_cut.plot(label='Количество заказов такси в час')\n",
    "plt.legend()\n",
    "plt.title('График сезонности за 2 суток')\n",
    "plt.show()"
   ]
  },
  {
   "cell_type": "markdown",
   "metadata": {},
   "source": [
    "**Сезонный график демонстрирует,** что ночное время это пик заказов такси. Падает к 6 утра, возрастает до средних значений к обеду и снова расте к полуночи "
   ]
  },
  {
   "cell_type": "markdown",
   "metadata": {},
   "source": [
    "## Обучение"
   ]
  },
  {
   "cell_type": "code",
   "execution_count": 18,
   "metadata": {},
   "outputs": [],
   "source": [
    "make_features(data, 24, 24)"
   ]
  },
  {
   "cell_type": "code",
   "execution_count": 19,
   "metadata": {},
   "outputs": [
    {
     "data": {
      "image/png": "[encoded data removed]",
      "text/plain": [
       "<Figure size 432x288 with 1 Axes>"
      ]
     },
     "metadata": {
      "needs_background": "light"
     },
     "output_type": "display_data"
    }
   ],
   "source": [
    "fig = plot_acf(data['num_orders'], lags=48)\n",
    "plt.show()"
   ]
  },
  {
   "cell_type": "code",
   "execution_count": 20,
   "metadata": {},
   "outputs": [],
   "source": [
    "train, test = train_test_split(data, shuffle=False, test_size=0.1)"
   ]
  },
  {
   "cell_type": "code",
   "execution_count": 21,
   "metadata": {},
   "outputs": [],
   "source": [
    "train = train.dropna()"
   ]
  },
  {
   "cell_type": "code",
   "execution_count": 22,
   "metadata": {},
   "outputs": [],
   "source": [
    "X_train = train.drop('num_orders', axis=1)\n",
    "y_train = train['num_orders']"
   ]
  },
  {
   "cell_type": "code",
   "execution_count": 23,
   "metadata": {},
   "outputs": [],
   "source": [
    "X_test = test.drop('num_orders', axis=1)"
   ]
  },
  {
   "cell_type": "code",
   "execution_count": 24,
   "metadata": {},
   "outputs": [],
   "source": [
    "y_test = test['num_orders']"
   ]
  },
  {
   "cell_type": "markdown",
   "metadata": {},
   "source": [
    "**--------------------------------------------------------**"
   ]
  },
  {
   "cell_type": "markdown",
   "metadata": {},
   "source": [
    "**Собираем пайп без бустинга**"
   ]
  },
  {
   "cell_type": "code",
   "execution_count": 25,
   "metadata": {},
   "outputs": [],
   "source": [
    "num_col = X_train.drop('dayofweek', axis=1).columns"
   ]
  },
  {
   "cell_type": "code",
   "execution_count": 26,
   "metadata": {},
   "outputs": [
    {
     "data": {
      "text/plain": [
       "Index(['hour', 'lag_1', 'lag_2', 'lag_3', 'lag_4', 'lag_5', 'lag_6', 'lag_7',\n",
       "       'lag_8', 'lag_9', 'lag_10', 'lag_11', 'lag_12', 'lag_13', 'lag_14',\n",
       "       'lag_15', 'lag_16', 'lag_17', 'lag_18', 'lag_19', 'lag_20', 'lag_21',\n",
       "       'lag_22', 'lag_23', 'lag_24', 'rolling_mean'],\n",
       "      dtype='object')"
      ]
     },
     "execution_count": 26,
     "metadata": {},
     "output_type": "execute_result"
    }
   ],
   "source": [
    "num_col"
   ]
  },
  {
   "cell_type": "code",
   "execution_count": 27,
   "metadata": {},
   "outputs": [],
   "source": [
    "ohe_col = ['dayofweek']"
   ]
  },
  {
   "cell_type": "code",
   "execution_count": 28,
   "metadata": {},
   "outputs": [],
   "source": [
    "tscv = TimeSeriesSplit(n_splits=2)"
   ]
  },
  {
   "cell_type": "code",
   "execution_count": 29,
   "metadata": {},
   "outputs": [],
   "source": [
    "ohe_pipe = Pipeline(\n",
    "    [\n",
    "        (\n",
    "            'simpleImputer_ohe', SimpleImputer(missing_values=np.nan, strategy='most_frequent')\n",
    "        ),\n",
    "        (\n",
    "            'ohe', OneHotEncoder(handle_unknown='ignore', drop='first')\n",
    "        )\n",
    "    ]\n",
    ")"
   ]
  },
  {
   "cell_type": "code",
   "execution_count": 30,
   "metadata": {},
   "outputs": [],
   "source": [
    "num_pipe = Pipeline(\n",
    "    [\n",
    "        (\n",
    "            'simpleImputer_ohe', SimpleImputer(missing_values=np.nan, strategy='most_frequent')\n",
    "        ),\n",
    "        (\n",
    "            'num', StandardScaler()\n",
    "        )\n",
    "    ]\n",
    ")"
   ]
  },
  {
   "cell_type": "code",
   "execution_count": 31,
   "metadata": {},
   "outputs": [],
   "source": [
    "data_preprocessor = ColumnTransformer(\n",
    "    [\n",
    "        ('ohe', ohe_pipe, ohe_col),\n",
    "        ('num', StandardScaler(), num_col)\n",
    "    ],\n",
    "    remainder='passthrough'\n",
    ")"
   ]
  },
  {
   "cell_type": "code",
   "execution_count": 32,
   "metadata": {},
   "outputs": [],
   "source": [
    "pipe_final = Pipeline(\n",
    "    [\n",
    "        ('preprocessor', data_preprocessor),\n",
    "        ('models', None)\n",
    "    ]\n",
    ") "
   ]
  },
  {
   "cell_type": "code",
   "execution_count": 33,
   "metadata": {},
   "outputs": [],
   "source": [
    "param_grid = [\n",
    "    {\n",
    "        'models': [LinearRegression()],\n",
    "        'preprocessor__num': [StandardScaler(), MinMaxScaler(), 'passthrough']\n",
    "    },\n",
    "     {\n",
    "        'models': [DecisionTreeRegressor()],\n",
    "        'preprocessor__num': [StandardScaler(), MinMaxScaler(), 'passthrough']\n",
    "    }\n",
    "]"
   ]
  },
  {
   "cell_type": "code",
   "execution_count": 34,
   "metadata": {},
   "outputs": [],
   "source": [
    "grid_search = GridSearchCV(\n",
    "    pipe_final, \n",
    "    param_grid,\n",
    "    cv=tscv,\n",
    "    scoring = 'neg_root_mean_squared_error',  \n",
    "    n_jobs=-1,\n",
    "    verbose=0\n",
    ")"
   ]
  },
  {
   "cell_type": "code",
   "execution_count": 35,
   "metadata": {},
   "outputs": [],
   "source": [
    "grid_search.fit(X_train,y_train);"
   ]
  },
  {
   "cell_type": "code",
   "execution_count": 36,
   "metadata": {},
   "outputs": [],
   "source": [
    "score = grid_search.cv_results_['mean_test_score'].min()"
   ]
  },
  {
   "cell_type": "code",
   "execution_count": 37,
   "metadata": {},
   "outputs": [],
   "source": [
    "score_no_boost = abs(score)"
   ]
  },
  {
   "cell_type": "code",
   "execution_count": 38,
   "metadata": {},
   "outputs": [
    {
     "name": "stdout",
     "output_type": "stream",
     "text": [
      "Метрика RMSE для лучшей модели без градиентного бустинга на кроссвалидации равна 37.00461323626009\n"
     ]
    }
   ],
   "source": [
    "print(f'Метрика RMSE для лучшей модели без градиентного бустинга на кроссвалидации равна {score_no_boost}')"
   ]
  },
  {
   "cell_type": "markdown",
   "metadata": {},
   "source": [
    "**Собираем пайп с бустингом**"
   ]
  },
  {
   "cell_type": "code",
   "execution_count": 39,
   "metadata": {},
   "outputs": [],
   "source": [
    "X_train['dayofweek'] = X_train['dayofweek'].astype('category')\n",
    "X_test['dayofweek'] = X_test['dayofweek'].astype('category')"
   ]
  },
  {
   "cell_type": "code",
   "execution_count": 40,
   "metadata": {},
   "outputs": [],
   "source": [
    "param_grid_gbm = {\n",
    " 'learning_rate': [0.1, 0.05],\n",
    " 'n_estimators': [150 ,100],\n",
    " 'max_depth': [5,7],\n",
    " 'num_leaves':[3,5,7]\n",
    "}"
   ]
  },
  {
   "cell_type": "code",
   "execution_count": 41,
   "metadata": {},
   "outputs": [],
   "source": [
    "model_gbm = lgm.LGBMRegressor(objective='regression', random_state=RANDOM_STATE)"
   ]
  },
  {
   "cell_type": "code",
   "execution_count": 42,
   "metadata": {},
   "outputs": [],
   "source": [
    "grid_search_gbm = GridSearchCV(\n",
    "    model_gbm, \n",
    "    param_grid_gbm,\n",
    "    cv=tscv,\n",
    "    scoring = 'neg_root_mean_squared_error',  \n",
    "    n_jobs=-1,\n",
    "    verbose=2\n",
    ")"
   ]
  },
  {
   "cell_type": "code",
   "execution_count": 43,
   "metadata": {
    "scrolled": false
   },
   "outputs": [
    {
     "name": "stdout",
     "output_type": "stream",
     "text": [
      "Fitting 2 folds for each of 24 candidates, totalling 48 fits\n",
      "[CV] END learning_rate=0.1, max_depth=5, n_estimators=150, num_leaves=3; total time=   0.2s\n",
      "[CV] END learning_rate=0.1, max_depth=5, n_estimators=150, num_leaves=3; total time=   0.4s\n",
      "[CV] END learning_rate=0.1, max_depth=5, n_estimators=150, num_leaves=5; total time=   0.4s\n",
      "[CV] END learning_rate=0.1, max_depth=5, n_estimators=150, num_leaves=5; total time=   0.4s\n",
      "[CV] END learning_rate=0.1, max_depth=5, n_estimators=150, num_leaves=7; total time=   0.6s\n",
      "[CV] END learning_rate=0.1, max_depth=5, n_estimators=150, num_leaves=7; total time=   0.7s\n",
      "[CV] END learning_rate=0.1, max_depth=5, n_estimators=100, num_leaves=3; total time=   0.2s\n",
      "[CV] END learning_rate=0.1, max_depth=5, n_estimators=100, num_leaves=3; total time=   0.3s\n",
      "[CV] END learning_rate=0.1, max_depth=5, n_estimators=100, num_leaves=5; total time=   0.2s\n",
      "[CV] END learning_rate=0.1, max_depth=5, n_estimators=100, num_leaves=5; total time=   0.4s\n",
      "[CV] END learning_rate=0.1, max_depth=5, n_estimators=100, num_leaves=7; total time=   8.5s\n",
      "[CV] END learning_rate=0.1, max_depth=5, n_estimators=100, num_leaves=7; total time=   0.4s\n",
      "[CV] END learning_rate=0.1, max_depth=7, n_estimators=150, num_leaves=3; total time=   0.3s\n",
      "[CV] END learning_rate=0.1, max_depth=7, n_estimators=150, num_leaves=3; total time=   0.4s\n",
      "[CV] END learning_rate=0.1, max_depth=7, n_estimators=150, num_leaves=5; total time=   0.5s\n",
      "[CV] END learning_rate=0.1, max_depth=7, n_estimators=150, num_leaves=5; total time=   0.5s\n",
      "[CV] END learning_rate=0.1, max_depth=7, n_estimators=150, num_leaves=7; total time=   0.6s\n",
      "[CV] END learning_rate=0.1, max_depth=7, n_estimators=150, num_leaves=7; total time=   0.9s\n",
      "[CV] END learning_rate=0.1, max_depth=7, n_estimators=100, num_leaves=3; total time=   0.2s\n",
      "[CV] END learning_rate=0.1, max_depth=7, n_estimators=100, num_leaves=3; total time=   0.3s\n",
      "[CV] END learning_rate=0.1, max_depth=7, n_estimators=100, num_leaves=5; total time=   1.4s\n",
      "[CV] END learning_rate=0.1, max_depth=7, n_estimators=100, num_leaves=5; total time=   0.3s\n",
      "[CV] END learning_rate=0.1, max_depth=7, n_estimators=100, num_leaves=7; total time=   0.4s\n",
      "[CV] END learning_rate=0.1, max_depth=7, n_estimators=100, num_leaves=7; total time=   0.4s\n",
      "[CV] END learning_rate=0.05, max_depth=5, n_estimators=150, num_leaves=3; total time=   0.3s\n",
      "[CV] END learning_rate=0.05, max_depth=5, n_estimators=150, num_leaves=3; total time=   0.3s\n",
      "[CV] END learning_rate=0.05, max_depth=5, n_estimators=150, num_leaves=5; total time=   0.4s\n",
      "[CV] END learning_rate=0.05, max_depth=5, n_estimators=150, num_leaves=5; total time=   0.5s\n",
      "[CV] END learning_rate=0.05, max_depth=5, n_estimators=150, num_leaves=7; total time=   0.6s\n",
      "[CV] END learning_rate=0.05, max_depth=5, n_estimators=150, num_leaves=7; total time=   0.6s\n",
      "[CV] END learning_rate=0.05, max_depth=5, n_estimators=100, num_leaves=3; total time=   0.2s\n",
      "[CV] END learning_rate=0.05, max_depth=5, n_estimators=100, num_leaves=3; total time=   0.3s\n",
      "[CV] END learning_rate=0.05, max_depth=5, n_estimators=100, num_leaves=5; total time=   0.4s\n",
      "[CV] END learning_rate=0.05, max_depth=5, n_estimators=100, num_leaves=5; total time=   0.4s\n",
      "[CV] END learning_rate=0.05, max_depth=5, n_estimators=100, num_leaves=7; total time=   0.4s\n",
      "[CV] END learning_rate=0.05, max_depth=5, n_estimators=100, num_leaves=7; total time=   0.4s\n",
      "[CV] END learning_rate=0.05, max_depth=7, n_estimators=150, num_leaves=3; total time=   0.3s\n",
      "[CV] END learning_rate=0.05, max_depth=7, n_estimators=150, num_leaves=3; total time=   0.3s\n",
      "[CV] END learning_rate=0.05, max_depth=7, n_estimators=150, num_leaves=5; total time=   0.5s\n",
      "[CV] END learning_rate=0.05, max_depth=7, n_estimators=150, num_leaves=5; total time=   0.5s\n",
      "[CV] END learning_rate=0.05, max_depth=7, n_estimators=150, num_leaves=7; total time=   0.6s\n",
      "[CV] END learning_rate=0.05, max_depth=7, n_estimators=150, num_leaves=7; total time=   0.7s\n",
      "[CV] END learning_rate=0.05, max_depth=7, n_estimators=100, num_leaves=3; total time=   0.2s\n",
      "[CV] END learning_rate=0.05, max_depth=7, n_estimators=100, num_leaves=3; total time=   0.3s\n",
      "[CV] END learning_rate=0.05, max_depth=7, n_estimators=100, num_leaves=5; total time=   0.4s\n",
      "[CV] END learning_rate=0.05, max_depth=7, n_estimators=100, num_leaves=5; total time=   0.4s\n",
      "[CV] END learning_rate=0.05, max_depth=7, n_estimators=100, num_leaves=7; total time=   0.5s\n",
      "[CV] END learning_rate=0.05, max_depth=7, n_estimators=100, num_leaves=7; total time=   0.4s\n"
     ]
    },
    {
     "data": {
      "text/html": [
       "<style>#sk-container-id-1 {\n",
       "  /* Definition of color scheme common for light and dark mode */\n",
       "  --sklearn-color-text: black;\n",
       "  --sklearn-color-line: gray;\n",
       "  /* Definition of color scheme for unfitted estimators */\n",
       "  --sklearn-color-unfitted-level-0: #fff5e6;\n",
       "  --sklearn-color-unfitted-level-1: #f6e4d2;\n",
       "  --sklearn-color-unfitted-level-2: #ffe0b3;\n",
       "  --sklearn-color-unfitted-level-3: chocolate;\n",
       "  /* Definition of color scheme for fitted estimators */\n",
       "  --sklearn-color-fitted-level-0: #f0f8ff;\n",
       "  --sklearn-color-fitted-level-1: #d4ebff;\n",
       "  --sklearn-color-fitted-level-2: #b3dbfd;\n",
       "  --sklearn-color-fitted-level-3: cornflowerblue;\n",
       "\n",
       "  /* Specific color for light theme */\n",
       "  --sklearn-color-text-on-default-background: var(--sg-text-color, var(--theme-code-foreground, var(--jp-content-font-color1, black)));\n",
       "  --sklearn-color-background: var(--sg-background-color, var(--theme-background, var(--jp-layout-color0, white)));\n",
       "  --sklearn-color-border-box: var(--sg-text-color, var(--theme-code-foreground, var(--jp-content-font-color1, black)));\n",
       "  --sklearn-color-icon: #696969;\n",
       "\n",
       "  @media (prefers-color-scheme: dark) {\n",
       "    /* Redefinition of color scheme for dark theme */\n",
       "    --sklearn-color-text-on-default-background: var(--sg-text-color, var(--theme-code-foreground, var(--jp-content-font-color1, white)));\n",
       "    --sklearn-color-background: var(--sg-background-color, var(--theme-background, var(--jp-layout-color0, #111)));\n",
       "    --sklearn-color-border-box: var(--sg-text-color, var(--theme-code-foreground, var(--jp-content-font-color1, white)));\n",
       "    --sklearn-color-icon: #878787;\n",
       "  }\n",
       "}\n",
       "\n",
       "#sk-container-id-1 {\n",
       "  color: var(--sklearn-color-text);\n",
       "}\n",
       "\n",
       "#sk-container-id-1 pre {\n",
       "  padding: 0;\n",
       "}\n",
       "\n",
       "#sk-container-id-1 input.sk-hidden--visually {\n",
       "  border: 0;\n",
       "  clip: rect(1px 1px 1px 1px);\n",
       "  clip: rect(1px, 1px, 1px, 1px);\n",
       "  height: 1px;\n",
       "  margin: -1px;\n",
       "  overflow: hidden;\n",
       "  padding: 0;\n",
       "  position: absolute;\n",
       "  width: 1px;\n",
       "}\n",
       "\n",
       "#sk-container-id-1 div.sk-dashed-wrapped {\n",
       "  border: 1px dashed var(--sklearn-color-line);\n",
       "  margin: 0 0.4em 0.5em 0.4em;\n",
       "  box-sizing: border-box;\n",
       "  padding-bottom: 0.4em;\n",
       "  background-color: var(--sklearn-color-background);\n",
       "}\n",
       "\n",
       "#sk-container-id-1 div.sk-container {\n",
       "  /* jupyter's `normalize.less` sets `[hidden] { display: none; }`\n",
       "     but bootstrap.min.css set `[hidden] { display: none !important; }`\n",
       "     so we also need the `!important` here to be able to override the\n",
       "     default hidden behavior on the sphinx rendered scikit-learn.org.\n",
       "     See: https://github.com/scikit-learn/scikit-learn/issues/21755 */\n",
       "  display: inline-block !important;\n",
       "  position: relative;\n",
       "}\n",
       "\n",
       "#sk-container-id-1 div.sk-text-repr-fallback {\n",
       "  display: none;\n",
       "}\n",
       "\n",
       "div.sk-parallel-item,\n",
       "div.sk-serial,\n",
       "div.sk-item {\n",
       "  /* draw centered vertical line to link estimators */\n",
       "  background-image: linear-gradient(var(--sklearn-color-text-on-default-background), var(--sklearn-color-text-on-default-background));\n",
       "  background-size: 2px 100%;\n",
       "  background-repeat: no-repeat;\n",
       "  background-position: center center;\n",
       "}\n",
       "\n",
       "/* Parallel-specific style estimator block */\n",
       "\n",
       "#sk-container-id-1 div.sk-parallel-item::after {\n",
       "  content: \"\";\n",
       "  width: 100%;\n",
       "  border-bottom: 2px solid var(--sklearn-color-text-on-default-background);\n",
       "  flex-grow: 1;\n",
       "}\n",
       "\n",
       "#sk-container-id-1 div.sk-parallel {\n",
       "  display: flex;\n",
       "  align-items: stretch;\n",
       "  justify-content: center;\n",
       "  background-color: var(--sklearn-color-background);\n",
       "  position: relative;\n",
       "}\n",
       "\n",
       "#sk-container-id-1 div.sk-parallel-item {\n",
       "  display: flex;\n",
       "  flex-direction: column;\n",
       "}\n",
       "\n",
       "#sk-container-id-1 div.sk-parallel-item:first-child::after {\n",
       "  align-self: flex-end;\n",
       "  width: 50%;\n",
       "}\n",
       "\n",
       "#sk-container-id-1 div.sk-parallel-item:last-child::after {\n",
       "  align-self: flex-start;\n",
       "  width: 50%;\n",
       "}\n",
       "\n",
       "#sk-container-id-1 div.sk-parallel-item:only-child::after {\n",
       "  width: 0;\n",
       "}\n",
       "\n",
       "/* Serial-specific style estimator block */\n",
       "\n",
       "#sk-container-id-1 div.sk-serial {\n",
       "  display: flex;\n",
       "  flex-direction: column;\n",
       "  align-items: center;\n",
       "  background-color: var(--sklearn-color-background);\n",
       "  padding-right: 1em;\n",
       "  padding-left: 1em;\n",
       "}\n",
       "\n",
       "\n",
       "/* Toggleable style: style used for estimator/Pipeline/ColumnTransformer box that is\n",
       "clickable and can be expanded/collapsed.\n",
       "- Pipeline and ColumnTransformer use this feature and define the default style\n",
       "- Estimators will overwrite some part of the style using the `sk-estimator` class\n",
       "*/\n",
       "\n",
       "/* Pipeline and ColumnTransformer style (default) */\n",
       "\n",
       "#sk-container-id-1 div.sk-toggleable {\n",
       "  /* Default theme specific background. It is overwritten whether we have a\n",
       "  specific estimator or a Pipeline/ColumnTransformer */\n",
       "  background-color: var(--sklearn-color-background);\n",
       "}\n",
       "\n",
       "/* Toggleable label */\n",
       "#sk-container-id-1 label.sk-toggleable__label {\n",
       "  cursor: pointer;\n",
       "  display: block;\n",
       "  width: 100%;\n",
       "  margin-bottom: 0;\n",
       "  padding: 0.5em;\n",
       "  box-sizing: border-box;\n",
       "  text-align: center;\n",
       "}\n",
       "\n",
       "#sk-container-id-1 label.sk-toggleable__label-arrow:before {\n",
       "  /* Arrow on the left of the label */\n",
       "  content: \"▸\";\n",
       "  float: left;\n",
       "  margin-right: 0.25em;\n",
       "  color: var(--sklearn-color-icon);\n",
       "}\n",
       "\n",
       "#sk-container-id-1 label.sk-toggleable__label-arrow:hover:before {\n",
       "  color: var(--sklearn-color-text);\n",
       "}\n",
       "\n",
       "/* Toggleable content - dropdown */\n",
       "\n",
       "#sk-container-id-1 div.sk-toggleable__content {\n",
       "  max-height: 0;\n",
       "  max-width: 0;\n",
       "  overflow: hidden;\n",
       "  text-align: left;\n",
       "  /* unfitted */\n",
       "  background-color: var(--sklearn-color-unfitted-level-0);\n",
       "}\n",
       "\n",
       "#sk-container-id-1 div.sk-toggleable__content.fitted {\n",
       "  /* fitted */\n",
       "  background-color: var(--sklearn-color-fitted-level-0);\n",
       "}\n",
       "\n",
       "#sk-container-id-1 div.sk-toggleable__content pre {\n",
       "  margin: 0.2em;\n",
       "  border-radius: 0.25em;\n",
       "  color: var(--sklearn-color-text);\n",
       "  /* unfitted */\n",
       "  background-color: var(--sklearn-color-unfitted-level-0);\n",
       "}\n",
       "\n",
       "#sk-container-id-1 div.sk-toggleable__content.fitted pre {\n",
       "  /* unfitted */\n",
       "  background-color: var(--sklearn-color-fitted-level-0);\n",
       "}\n",
       "\n",
       "#sk-container-id-1 input.sk-toggleable__control:checked~div.sk-toggleable__content {\n",
       "  /* Expand drop-down */\n",
       "  max-height: 200px;\n",
       "  max-width: 100%;\n",
       "  overflow: auto;\n",
       "}\n",
       "\n",
       "#sk-container-id-1 input.sk-toggleable__control:checked~label.sk-toggleable__label-arrow:before {\n",
       "  content: \"▾\";\n",
       "}\n",
       "\n",
       "/* Pipeline/ColumnTransformer-specific style */\n",
       "\n",
       "#sk-container-id-1 div.sk-label input.sk-toggleable__control:checked~label.sk-toggleable__label {\n",
       "  color: var(--sklearn-color-text);\n",
       "  background-color: var(--sklearn-color-unfitted-level-2);\n",
       "}\n",
       "\n",
       "#sk-container-id-1 div.sk-label.fitted input.sk-toggleable__control:checked~label.sk-toggleable__label {\n",
       "  background-color: var(--sklearn-color-fitted-level-2);\n",
       "}\n",
       "\n",
       "/* Estimator-specific style */\n",
       "\n",
       "/* Colorize estimator box */\n",
       "#sk-container-id-1 div.sk-estimator input.sk-toggleable__control:checked~label.sk-toggleable__label {\n",
       "  /* unfitted */\n",
       "  background-color: var(--sklearn-color-unfitted-level-2);\n",
       "}\n",
       "\n",
       "#sk-container-id-1 div.sk-estimator.fitted input.sk-toggleable__control:checked~label.sk-toggleable__label {\n",
       "  /* fitted */\n",
       "  background-color: var(--sklearn-color-fitted-level-2);\n",
       "}\n",
       "\n",
       "#sk-container-id-1 div.sk-label label.sk-toggleable__label,\n",
       "#sk-container-id-1 div.sk-label label {\n",
       "  /* The background is the default theme color */\n",
       "  color: var(--sklearn-color-text-on-default-background);\n",
       "}\n",
       "\n",
       "/* On hover, darken the color of the background */\n",
       "#sk-container-id-1 div.sk-label:hover label.sk-toggleable__label {\n",
       "  color: var(--sklearn-color-text);\n",
       "  background-color: var(--sklearn-color-unfitted-level-2);\n",
       "}\n",
       "\n",
       "/* Label box, darken color on hover, fitted */\n",
       "#sk-container-id-1 div.sk-label.fitted:hover label.sk-toggleable__label.fitted {\n",
       "  color: var(--sklearn-color-text);\n",
       "  background-color: var(--sklearn-color-fitted-level-2);\n",
       "}\n",
       "\n",
       "/* Estimator label */\n",
       "\n",
       "#sk-container-id-1 div.sk-label label {\n",
       "  font-family: monospace;\n",
       "  font-weight: bold;\n",
       "  display: inline-block;\n",
       "  line-height: 1.2em;\n",
       "}\n",
       "\n",
       "#sk-container-id-1 div.sk-label-container {\n",
       "  text-align: center;\n",
       "}\n",
       "\n",
       "/* Estimator-specific */\n",
       "#sk-container-id-1 div.sk-estimator {\n",
       "  font-family: monospace;\n",
       "  border: 1px dotted var(--sklearn-color-border-box);\n",
       "  border-radius: 0.25em;\n",
       "  box-sizing: border-box;\n",
       "  margin-bottom: 0.5em;\n",
       "  /* unfitted */\n",
       "  background-color: var(--sklearn-color-unfitted-level-0);\n",
       "}\n",
       "\n",
       "#sk-container-id-1 div.sk-estimator.fitted {\n",
       "  /* fitted */\n",
       "  background-color: var(--sklearn-color-fitted-level-0);\n",
       "}\n",
       "\n",
       "/* on hover */\n",
       "#sk-container-id-1 div.sk-estimator:hover {\n",
       "  /* unfitted */\n",
       "  background-color: var(--sklearn-color-unfitted-level-2);\n",
       "}\n",
       "\n",
       "#sk-container-id-1 div.sk-estimator.fitted:hover {\n",
       "  /* fitted */\n",
       "  background-color: var(--sklearn-color-fitted-level-2);\n",
       "}\n",
       "\n",
       "/* Specification for estimator info (e.g. \"i\" and \"?\") */\n",
       "\n",
       "/* Common style for \"i\" and \"?\" */\n",
       "\n",
       ".sk-estimator-doc-link,\n",
       "a:link.sk-estimator-doc-link,\n",
       "a:visited.sk-estimator-doc-link {\n",
       "  float: right;\n",
       "  font-size: smaller;\n",
       "  line-height: 1em;\n",
       "  font-family: monospace;\n",
       "  background-color: var(--sklearn-color-background);\n",
       "  border-radius: 1em;\n",
       "  height: 1em;\n",
       "  width: 1em;\n",
       "  text-decoration: none !important;\n",
       "  margin-left: 1ex;\n",
       "  /* unfitted */\n",
       "  border: var(--sklearn-color-unfitted-level-1) 1pt solid;\n",
       "  color: var(--sklearn-color-unfitted-level-1);\n",
       "}\n",
       "\n",
       ".sk-estimator-doc-link.fitted,\n",
       "a:link.sk-estimator-doc-link.fitted,\n",
       "a:visited.sk-estimator-doc-link.fitted {\n",
       "  /* fitted */\n",
       "  border: var(--sklearn-color-fitted-level-1) 1pt solid;\n",
       "  color: var(--sklearn-color-fitted-level-1);\n",
       "}\n",
       "\n",
       "/* On hover */\n",
       "div.sk-estimator:hover .sk-estimator-doc-link:hover,\n",
       ".sk-estimator-doc-link:hover,\n",
       "div.sk-label-container:hover .sk-estimator-doc-link:hover,\n",
       ".sk-estimator-doc-link:hover {\n",
       "  /* unfitted */\n",
       "  background-color: var(--sklearn-color-unfitted-level-3);\n",
       "  color: var(--sklearn-color-background);\n",
       "  text-decoration: none;\n",
       "}\n",
       "\n",
       "div.sk-estimator.fitted:hover .sk-estimator-doc-link.fitted:hover,\n",
       ".sk-estimator-doc-link.fitted:hover,\n",
       "div.sk-label-container:hover .sk-estimator-doc-link.fitted:hover,\n",
       ".sk-estimator-doc-link.fitted:hover {\n",
       "  /* fitted */\n",
       "  background-color: var(--sklearn-color-fitted-level-3);\n",
       "  color: var(--sklearn-color-background);\n",
       "  text-decoration: none;\n",
       "}\n",
       "\n",
       "/* Span, style for the box shown on hovering the info icon */\n",
       ".sk-estimator-doc-link span {\n",
       "  display: none;\n",
       "  z-index: 9999;\n",
       "  position: relative;\n",
       "  font-weight: normal;\n",
       "  right: .2ex;\n",
       "  padding: .5ex;\n",
       "  margin: .5ex;\n",
       "  width: min-content;\n",
       "  min-width: 20ex;\n",
       "  max-width: 50ex;\n",
       "  color: var(--sklearn-color-text);\n",
       "  box-shadow: 2pt 2pt 4pt #999;\n",
       "  /* unfitted */\n",
       "  background: var(--sklearn-color-unfitted-level-0);\n",
       "  border: .5pt solid var(--sklearn-color-unfitted-level-3);\n",
       "}\n",
       "\n",
       ".sk-estimator-doc-link.fitted span {\n",
       "  /* fitted */\n",
       "  background: var(--sklearn-color-fitted-level-0);\n",
       "  border: var(--sklearn-color-fitted-level-3);\n",
       "}\n",
       "\n",
       ".sk-estimator-doc-link:hover span {\n",
       "  display: block;\n",
       "}\n",
       "\n",
       "/* \"?\"-specific style due to the `<a>` HTML tag */\n",
       "\n",
       "#sk-container-id-1 a.estimator_doc_link {\n",
       "  float: right;\n",
       "  font-size: 1rem;\n",
       "  line-height: 1em;\n",
       "  font-family: monospace;\n",
       "  background-color: var(--sklearn-color-background);\n",
       "  border-radius: 1rem;\n",
       "  height: 1rem;\n",
       "  width: 1rem;\n",
       "  text-decoration: none;\n",
       "  /* unfitted */\n",
       "  color: var(--sklearn-color-unfitted-level-1);\n",
       "  border: var(--sklearn-color-unfitted-level-1) 1pt solid;\n",
       "}\n",
       "\n",
       "#sk-container-id-1 a.estimator_doc_link.fitted {\n",
       "  /* fitted */\n",
       "  border: var(--sklearn-color-fitted-level-1) 1pt solid;\n",
       "  color: var(--sklearn-color-fitted-level-1);\n",
       "}\n",
       "\n",
       "/* On hover */\n",
       "#sk-container-id-1 a.estimator_doc_link:hover {\n",
       "  /* unfitted */\n",
       "  background-color: var(--sklearn-color-unfitted-level-3);\n",
       "  color: var(--sklearn-color-background);\n",
       "  text-decoration: none;\n",
       "}\n",
       "\n",
       "#sk-container-id-1 a.estimator_doc_link.fitted:hover {\n",
       "  /* fitted */\n",
       "  background-color: var(--sklearn-color-fitted-level-3);\n",
       "}\n",
       "</style><div id=\"sk-container-id-1\" class=\"sk-top-container\"><div class=\"sk-text-repr-fallback\"><pre>GridSearchCV(cv=TimeSeriesSplit(gap=0, max_train_size=None, n_splits=2, test_size=None),\n",
       "             estimator=LGBMRegressor(objective=&#x27;regression&#x27;, random_state=42),\n",
       "             n_jobs=-1,\n",
       "             param_grid={&#x27;learning_rate&#x27;: [0.1, 0.05], &#x27;max_depth&#x27;: [5, 7],\n",
       "                         &#x27;n_estimators&#x27;: [150, 100], &#x27;num_leaves&#x27;: [3, 5, 7]},\n",
       "             scoring=&#x27;neg_root_mean_squared_error&#x27;, verbose=2)</pre><b>In a Jupyter environment, please rerun this cell to show the HTML representation or trust the notebook. <br />On GitHub, the HTML representation is unable to render, please try loading this page with nbviewer.org.</b></div><div class=\"sk-container\" hidden><div class=\"sk-item sk-dashed-wrapped\"><div class=\"sk-label-container\"><div class=\"sk-label fitted sk-toggleable\"><input class=\"sk-toggleable__control sk-hidden--visually\" id=\"sk-estimator-id-1\" type=\"checkbox\" ><label for=\"sk-estimator-id-1\" class=\"sk-toggleable__label fitted sk-toggleable__label-arrow fitted\">&nbsp;&nbsp;GridSearchCV<a class=\"sk-estimator-doc-link fitted\" rel=\"noreferrer\" target=\"_blank\" href=\"https://scikit-learn.org/1.5/modules/generated/sklearn.model_selection.GridSearchCV.html\">?<span>Documentation for GridSearchCV</span></a><span class=\"sk-estimator-doc-link fitted\">i<span>Fitted</span></span></label><div class=\"sk-toggleable__content fitted\"><pre>GridSearchCV(cv=TimeSeriesSplit(gap=0, max_train_size=None, n_splits=2, test_size=None),\n",
       "             estimator=LGBMRegressor(objective=&#x27;regression&#x27;, random_state=42),\n",
       "             n_jobs=-1,\n",
       "             param_grid={&#x27;learning_rate&#x27;: [0.1, 0.05], &#x27;max_depth&#x27;: [5, 7],\n",
       "                         &#x27;n_estimators&#x27;: [150, 100], &#x27;num_leaves&#x27;: [3, 5, 7]},\n",
       "             scoring=&#x27;neg_root_mean_squared_error&#x27;, verbose=2)</pre></div> </div></div><div class=\"sk-parallel\"><div class=\"sk-parallel-item\"><div class=\"sk-item\"><div class=\"sk-label-container\"><div class=\"sk-label fitted sk-toggleable\"><input class=\"sk-toggleable__control sk-hidden--visually\" id=\"sk-estimator-id-2\" type=\"checkbox\" ><label for=\"sk-estimator-id-2\" class=\"sk-toggleable__label fitted sk-toggleable__label-arrow fitted\">best_estimator_: LGBMRegressor</label><div class=\"sk-toggleable__content fitted\"><pre>LGBMRegressor(max_depth=5, n_estimators=150, num_leaves=5,\n",
       "              objective=&#x27;regression&#x27;, random_state=42)</pre></div> </div></div><div class=\"sk-serial\"><div class=\"sk-item\"><div class=\"sk-estimator fitted sk-toggleable\"><input class=\"sk-toggleable__control sk-hidden--visually\" id=\"sk-estimator-id-3\" type=\"checkbox\" ><label for=\"sk-estimator-id-3\" class=\"sk-toggleable__label fitted sk-toggleable__label-arrow fitted\">LGBMRegressor</label><div class=\"sk-toggleable__content fitted\"><pre>LGBMRegressor(max_depth=5, n_estimators=150, num_leaves=5,\n",
       "              objective=&#x27;regression&#x27;, random_state=42)</pre></div> </div></div></div></div></div></div></div></div></div>"
      ],
      "text/plain": [
       "GridSearchCV(cv=TimeSeriesSplit(gap=0, max_train_size=None, n_splits=2, test_size=None),\n",
       "             estimator=LGBMRegressor(objective='regression', random_state=42),\n",
       "             n_jobs=-1,\n",
       "             param_grid={'learning_rate': [0.1, 0.05], 'max_depth': [5, 7],\n",
       "                         'n_estimators': [150, 100], 'num_leaves': [3, 5, 7]},\n",
       "             scoring='neg_root_mean_squared_error', verbose=2)"
      ]
     },
     "execution_count": 43,
     "metadata": {},
     "output_type": "execute_result"
    }
   ],
   "source": [
    "grid_search_gbm.fit(X_train, y_train)"
   ]
  },
  {
   "cell_type": "code",
   "execution_count": 44,
   "metadata": {},
   "outputs": [],
   "source": [
    "score_gbm = grid_search_gbm.cv_results_['mean_test_score'].min()"
   ]
  },
  {
   "cell_type": "code",
   "execution_count": 45,
   "metadata": {},
   "outputs": [],
   "source": [
    "score_boost = abs(score_gbm)"
   ]
  },
  {
   "cell_type": "code",
   "execution_count": 46,
   "metadata": {
    "scrolled": true
   },
   "outputs": [
    {
     "name": "stdout",
     "output_type": "stream",
     "text": [
      "Метрика RMSE для лучшей модели c градиентным бустингом на кроссвалидации равна 29.821016556393893\n"
     ]
    }
   ],
   "source": [
    "print(f'Метрика RMSE для лучшей модели c градиентным бустингом на кроссвалидации равна {score_boost}')"
   ]
  },
  {
   "cell_type": "markdown",
   "metadata": {},
   "source": [
    "**Модель с бустингом показала лучшие результаты на кросс валидации, выбираем ее для тестирования**"
   ]
  },
  {
   "cell_type": "markdown",
   "metadata": {},
   "source": [
    "## Тестирование"
   ]
  },
  {
   "cell_type": "code",
   "execution_count": 47,
   "metadata": {},
   "outputs": [],
   "source": [
    "pred_median = np.ones(y_test.shape) * train['num_orders'].median()"
   ]
  },
  {
   "cell_type": "code",
   "execution_count": 48,
   "metadata": {
    "scrolled": true
   },
   "outputs": [
    {
     "name": "stdout",
     "output_type": "stream",
     "text": [
      "RMSE при прогнозе константой: 87.15277582981295\n"
     ]
    }
   ],
   "source": [
    "print(f'RMSE при прогнозе константой: {sqrt(mean_squared_error(y_test, pred_median))}')"
   ]
  },
  {
   "cell_type": "code",
   "execution_count": 49,
   "metadata": {},
   "outputs": [],
   "source": [
    "pred_previous = y_test.shift()\n",
    "pred_previous.iloc[0] = train['num_orders'].iloc[-1]"
   ]
  },
  {
   "cell_type": "code",
   "execution_count": 50,
   "metadata": {},
   "outputs": [
    {
     "name": "stdout",
     "output_type": "stream",
     "text": [
      "RMSE при прогнозе сдвигом: 58.856486242815066\n"
     ]
    }
   ],
   "source": [
    "print(f'RMSE при прогнозе сдвигом: {sqrt(mean_squared_error(y_test, pred_previous))}')"
   ]
  },
  {
   "cell_type": "code",
   "execution_count": 51,
   "metadata": {},
   "outputs": [],
   "source": [
    "pred_boost = grid_search_gbm.best_estimator_.predict(X_test)"
   ]
  },
  {
   "cell_type": "code",
   "execution_count": 52,
   "metadata": {},
   "outputs": [],
   "source": [
    "rmse_boost = sqrt(mean_squared_error(y_test, pred_boost))"
   ]
  },
  {
   "cell_type": "code",
   "execution_count": 53,
   "metadata": {},
   "outputs": [
    {
     "name": "stdout",
     "output_type": "stream",
     "text": [
      "RMSE при прогнозе моделью линейной регрессии: 42.24746502847167\n"
     ]
    }
   ],
   "source": [
    "print(f'RMSE при прогнозе моделью линейной регрессии: {rmse_boost}')"
   ]
  },
  {
   "cell_type": "markdown",
   "metadata": {},
   "source": [
    "### Вывод:"
   ]
  },
  {
   "cell_type": "markdown",
   "metadata": {},
   "source": [
    "**Модель градиентного бустинга оказалась более точной, чем предсказание константой или сдвигом, следовательно затраты на анализ данных и разработку модели имели смысл**"
   ]
  },
  {
   "cell_type": "markdown",
   "metadata": {},
   "source": [
    "## Чек-лист проверки"
   ]
  },
  {
   "cell_type": "markdown",
   "metadata": {},
   "source": [
    "- [x]  Jupyter Notebook открыт\n",
    "- [X]  Весь код выполняется без ошибок\n",
    "- [X]  Ячейки с кодом расположены в порядке исполнения\n",
    "- [X]  Данные загружены и подготовлены\n",
    "- [X]  Данные проанализированы\n",
    "- [X]  Модель обучена, гиперпараметры подобраны\n",
    "- [X]  Качество моделей проверено, выводы сделаны\n",
    "- [X]  Значение *RMSE* на тестовой выборке не больше 48"
   ]
  }
 ],
 "metadata": {
  "ExecuteTimeLog": [
   {
    "duration": 1126,
    "start_time": "2024-05-17T09:42:27.808Z"
   },
   {
    "duration": 157,
    "start_time": "2024-05-17T09:43:00.655Z"
   },
   {
    "duration": 9,
    "start_time": "2024-05-17T09:43:07.766Z"
   },
   {
    "duration": 100,
    "start_time": "2024-05-17T09:44:42.070Z"
   },
   {
    "duration": 4,
    "start_time": "2024-05-17T09:45:03.188Z"
   },
   {
    "duration": 10,
    "start_time": "2024-05-17T09:45:04.056Z"
   },
   {
    "duration": 44,
    "start_time": "2024-05-17T09:45:53.571Z"
   },
   {
    "duration": 6,
    "start_time": "2024-05-17T09:45:54.537Z"
   },
   {
    "duration": 9,
    "start_time": "2024-05-17T09:45:56.123Z"
   },
   {
    "duration": 4,
    "start_time": "2024-05-17T09:46:01.055Z"
   },
   {
    "duration": 2,
    "start_time": "2024-05-17T09:46:06.138Z"
   },
   {
    "duration": 7,
    "start_time": "2024-05-17T09:46:13.974Z"
   },
   {
    "duration": 8,
    "start_time": "2024-05-17T09:46:59.792Z"
   },
   {
    "duration": 1129,
    "start_time": "2024-05-17T09:47:04.172Z"
   },
   {
    "duration": 48,
    "start_time": "2024-05-17T09:47:05.303Z"
   },
   {
    "duration": 10,
    "start_time": "2024-05-17T09:47:05.353Z"
   },
   {
    "duration": 31,
    "start_time": "2024-05-17T09:47:05.365Z"
   },
   {
    "duration": 5,
    "start_time": "2024-05-17T09:47:43.343Z"
   },
   {
    "duration": 234,
    "start_time": "2024-05-17T09:47:59.591Z"
   },
   {
    "duration": 231,
    "start_time": "2024-05-17T09:48:04.937Z"
   },
   {
    "duration": 20,
    "start_time": "2024-05-17T09:48:44.342Z"
   },
   {
    "duration": 97,
    "start_time": "2024-05-17T09:48:59.013Z"
   },
   {
    "duration": 1066,
    "start_time": "2024-05-17T09:49:28.625Z"
   },
   {
    "duration": 47,
    "start_time": "2024-05-17T09:49:29.692Z"
   },
   {
    "duration": 2,
    "start_time": "2024-05-17T09:49:29.741Z"
   },
   {
    "duration": 15,
    "start_time": "2024-05-17T09:49:29.745Z"
   },
   {
    "duration": 13,
    "start_time": "2024-05-17T09:49:29.762Z"
   },
   {
    "duration": 14,
    "start_time": "2024-05-17T09:49:29.776Z"
   },
   {
    "duration": 246,
    "start_time": "2024-05-17T09:49:29.791Z"
   },
   {
    "duration": 105,
    "start_time": "2024-05-17T09:49:30.038Z"
   },
   {
    "duration": 7,
    "start_time": "2024-05-17T09:52:09.189Z"
   },
   {
    "duration": 8,
    "start_time": "2024-05-17T09:52:35.717Z"
   },
   {
    "duration": 2,
    "start_time": "2024-05-17T09:53:47.277Z"
   },
   {
    "duration": 496,
    "start_time": "2024-05-17T09:53:50.275Z"
   },
   {
    "duration": 665,
    "start_time": "2024-05-17T09:54:20.095Z"
   },
   {
    "duration": 801,
    "start_time": "2024-05-17T09:54:33.224Z"
   },
   {
    "duration": 220,
    "start_time": "2024-05-17T09:54:43.828Z"
   },
   {
    "duration": 225,
    "start_time": "2024-05-17T09:54:46.953Z"
   },
   {
    "duration": 272,
    "start_time": "2024-05-17T09:54:59.729Z"
   },
   {
    "duration": 67,
    "start_time": "2024-05-17T09:59:01.469Z"
   },
   {
    "duration": 204,
    "start_time": "2024-05-17T09:59:03.967Z"
   },
   {
    "duration": 4,
    "start_time": "2024-05-17T09:59:26.332Z"
   },
   {
    "duration": 3,
    "start_time": "2024-05-17T10:09:22.037Z"
   },
   {
    "duration": 15,
    "start_time": "2024-05-17T10:09:47.592Z"
   },
   {
    "duration": 3,
    "start_time": "2024-05-17T10:09:58.833Z"
   },
   {
    "duration": 5,
    "start_time": "2024-05-17T10:10:01.518Z"
   },
   {
    "duration": 3,
    "start_time": "2024-05-17T10:11:55.492Z"
   },
   {
    "duration": 3,
    "start_time": "2024-05-17T10:13:00.911Z"
   },
   {
    "duration": 5,
    "start_time": "2024-05-17T10:14:07.766Z"
   },
   {
    "duration": 3,
    "start_time": "2024-05-17T10:18:52.516Z"
   },
   {
    "duration": 5,
    "start_time": "2024-05-17T10:19:22.718Z"
   },
   {
    "duration": 14,
    "start_time": "2024-05-17T12:20:33.117Z"
   },
   {
    "duration": 747,
    "start_time": "2024-05-17T12:20:36.095Z"
   },
   {
    "duration": 13,
    "start_time": "2024-05-17T12:20:44.422Z"
   },
   {
    "duration": 809,
    "start_time": "2024-05-17T12:20:52.814Z"
   },
   {
    "duration": 3,
    "start_time": "2024-05-17T12:21:35.348Z"
   },
   {
    "duration": 7,
    "start_time": "2024-05-17T12:21:45.435Z"
   },
   {
    "duration": 19,
    "start_time": "2024-05-17T12:22:00.205Z"
   },
   {
    "duration": 2,
    "start_time": "2024-05-17T12:22:04.829Z"
   },
   {
    "duration": 3,
    "start_time": "2024-05-17T12:23:18.392Z"
   },
   {
    "duration": 10,
    "start_time": "2024-05-17T12:25:17.217Z"
   },
   {
    "duration": 6,
    "start_time": "2024-05-17T12:30:00.600Z"
   },
   {
    "duration": 3,
    "start_time": "2024-05-17T14:44:35.731Z"
   },
   {
    "duration": 7,
    "start_time": "2024-05-17T14:44:45.893Z"
   },
   {
    "duration": 6,
    "start_time": "2024-05-17T14:44:56.076Z"
   },
   {
    "duration": 1191,
    "start_time": "2024-05-17T14:46:37.556Z"
   },
   {
    "duration": 3,
    "start_time": "2024-05-17T14:46:38.749Z"
   },
   {
    "duration": 48,
    "start_time": "2024-05-17T14:46:38.753Z"
   },
   {
    "duration": 3,
    "start_time": "2024-05-17T14:46:38.803Z"
   },
   {
    "duration": 9,
    "start_time": "2024-05-17T14:46:38.808Z"
   },
   {
    "duration": 11,
    "start_time": "2024-05-17T14:46:38.818Z"
   },
   {
    "duration": 4,
    "start_time": "2024-05-17T14:46:38.831Z"
   },
   {
    "duration": 225,
    "start_time": "2024-05-17T14:46:38.837Z"
   },
   {
    "duration": 7,
    "start_time": "2024-05-17T14:46:39.063Z"
   },
   {
    "duration": 806,
    "start_time": "2024-05-17T14:46:39.071Z"
   },
   {
    "duration": 4,
    "start_time": "2024-05-17T14:46:39.878Z"
   },
   {
    "duration": 10,
    "start_time": "2024-05-17T14:46:39.883Z"
   },
   {
    "duration": 11,
    "start_time": "2024-05-17T14:46:39.894Z"
   },
   {
    "duration": 77,
    "start_time": "2024-05-17T14:46:39.906Z"
   },
   {
    "duration": 17,
    "start_time": "2024-05-17T14:46:39.984Z"
   },
   {
    "duration": 174,
    "start_time": "2024-05-17T14:46:40.002Z"
   },
   {
    "duration": 15,
    "start_time": "2024-05-17T14:46:40.178Z"
   },
   {
    "duration": 10,
    "start_time": "2024-05-17T14:46:40.195Z"
   },
   {
    "duration": 12,
    "start_time": "2024-05-17T14:46:40.207Z"
   },
   {
    "duration": 1253,
    "start_time": "2024-05-17T14:46:51.778Z"
   },
   {
    "duration": 3,
    "start_time": "2024-05-17T14:46:53.033Z"
   },
   {
    "duration": 61,
    "start_time": "2024-05-17T14:46:53.037Z"
   },
   {
    "duration": 2,
    "start_time": "2024-05-17T14:46:53.100Z"
   },
   {
    "duration": 10,
    "start_time": "2024-05-17T14:46:53.103Z"
   },
   {
    "duration": 6,
    "start_time": "2024-05-17T14:46:53.115Z"
   },
   {
    "duration": 9,
    "start_time": "2024-05-17T14:46:53.122Z"
   },
   {
    "duration": 226,
    "start_time": "2024-05-17T14:46:53.132Z"
   },
   {
    "duration": 6,
    "start_time": "2024-05-17T14:46:53.360Z"
   },
   {
    "duration": 809,
    "start_time": "2024-05-17T14:46:53.368Z"
   },
   {
    "duration": 9,
    "start_time": "2024-05-17T14:46:54.179Z"
   },
   {
    "duration": 8,
    "start_time": "2024-05-17T14:46:54.189Z"
   },
   {
    "duration": 10,
    "start_time": "2024-05-17T14:46:54.198Z"
   },
   {
    "duration": 10,
    "start_time": "2024-05-17T14:46:54.209Z"
   },
   {
    "duration": 2,
    "start_time": "2024-05-17T14:46:54.221Z"
   },
   {
    "duration": 5,
    "start_time": "2024-05-17T14:46:54.224Z"
   },
   {
    "duration": 6,
    "start_time": "2024-05-17T14:46:54.231Z"
   },
   {
    "duration": 8,
    "start_time": "2024-05-17T14:46:54.238Z"
   },
   {
    "duration": 9,
    "start_time": "2024-05-17T14:46:54.247Z"
   },
   {
    "duration": 1110,
    "start_time": "2024-05-17T14:47:14.826Z"
   },
   {
    "duration": 3,
    "start_time": "2024-05-17T14:47:15.937Z"
   },
   {
    "duration": 90,
    "start_time": "2024-05-17T14:47:15.941Z"
   },
   {
    "duration": 3,
    "start_time": "2024-05-17T14:47:16.032Z"
   },
   {
    "duration": 64,
    "start_time": "2024-05-17T14:47:16.037Z"
   },
   {
    "duration": 6,
    "start_time": "2024-05-17T14:47:16.103Z"
   },
   {
    "duration": 60,
    "start_time": "2024-05-17T14:47:16.110Z"
   },
   {
    "duration": 216,
    "start_time": "2024-05-17T14:47:16.171Z"
   },
   {
    "duration": 6,
    "start_time": "2024-05-17T14:47:16.389Z"
   },
   {
    "duration": 781,
    "start_time": "2024-05-17T14:47:16.396Z"
   },
   {
    "duration": 3,
    "start_time": "2024-05-17T14:47:17.178Z"
   },
   {
    "duration": 8,
    "start_time": "2024-05-17T14:47:17.182Z"
   },
   {
    "duration": 14,
    "start_time": "2024-05-17T14:47:17.191Z"
   },
   {
    "duration": 67,
    "start_time": "2024-05-17T14:47:17.207Z"
   },
   {
    "duration": 17,
    "start_time": "2024-05-17T14:47:17.275Z"
   },
   {
    "duration": 4,
    "start_time": "2024-05-17T14:47:17.293Z"
   },
   {
    "duration": 5,
    "start_time": "2024-05-17T14:47:17.298Z"
   },
   {
    "duration": 3,
    "start_time": "2024-05-17T14:47:17.304Z"
   },
   {
    "duration": 7,
    "start_time": "2024-05-17T14:47:17.309Z"
   },
   {
    "duration": 8,
    "start_time": "2024-05-17T14:47:56.967Z"
   },
   {
    "duration": 7,
    "start_time": "2024-05-17T14:48:03.069Z"
   },
   {
    "duration": 9,
    "start_time": "2024-05-17T14:48:04.845Z"
   },
   {
    "duration": 8,
    "start_time": "2024-05-17T14:48:34.669Z"
   },
   {
    "duration": 3,
    "start_time": "2024-05-17T14:49:01.374Z"
   },
   {
    "duration": 4,
    "start_time": "2024-05-17T14:49:01.682Z"
   },
   {
    "duration": 3,
    "start_time": "2024-05-17T14:49:02.857Z"
   },
   {
    "duration": 5,
    "start_time": "2024-05-17T14:49:03.244Z"
   },
   {
    "duration": 5,
    "start_time": "2024-05-17T14:49:09.850Z"
   },
   {
    "duration": 10,
    "start_time": "2024-05-17T14:49:11.549Z"
   },
   {
    "duration": 12,
    "start_time": "2024-05-17T14:49:12.928Z"
   },
   {
    "duration": 3,
    "start_time": "2024-05-17T14:49:16.348Z"
   },
   {
    "duration": 4,
    "start_time": "2024-05-17T14:49:16.841Z"
   },
   {
    "duration": 3,
    "start_time": "2024-05-17T14:49:17.284Z"
   },
   {
    "duration": 5,
    "start_time": "2024-05-17T14:49:17.599Z"
   },
   {
    "duration": 1191,
    "start_time": "2024-05-17T14:49:27.140Z"
   },
   {
    "duration": 3,
    "start_time": "2024-05-17T14:49:28.332Z"
   },
   {
    "duration": 60,
    "start_time": "2024-05-17T14:49:28.336Z"
   },
   {
    "duration": 2,
    "start_time": "2024-05-17T14:49:28.397Z"
   },
   {
    "duration": 24,
    "start_time": "2024-05-17T14:49:28.401Z"
   },
   {
    "duration": 26,
    "start_time": "2024-05-17T14:49:28.427Z"
   },
   {
    "duration": 13,
    "start_time": "2024-05-17T14:49:28.454Z"
   },
   {
    "duration": 207,
    "start_time": "2024-05-17T14:49:28.468Z"
   },
   {
    "duration": 13,
    "start_time": "2024-05-17T14:49:28.676Z"
   },
   {
    "duration": 783,
    "start_time": "2024-05-17T14:49:28.690Z"
   },
   {
    "duration": 8,
    "start_time": "2024-05-17T14:49:29.475Z"
   },
   {
    "duration": 20,
    "start_time": "2024-05-17T14:49:29.485Z"
   },
   {
    "duration": 14,
    "start_time": "2024-05-17T14:49:29.506Z"
   },
   {
    "duration": 7,
    "start_time": "2024-05-17T14:49:29.522Z"
   },
   {
    "duration": 5,
    "start_time": "2024-05-17T14:49:29.530Z"
   },
   {
    "duration": 12,
    "start_time": "2024-05-17T14:49:29.536Z"
   },
   {
    "duration": 13,
    "start_time": "2024-05-17T14:49:29.550Z"
   },
   {
    "duration": 12,
    "start_time": "2024-05-17T14:49:29.564Z"
   },
   {
    "duration": 19,
    "start_time": "2024-05-17T14:49:29.577Z"
   },
   {
    "duration": 15,
    "start_time": "2024-05-17T14:49:29.597Z"
   },
   {
    "duration": 13,
    "start_time": "2024-05-17T14:49:29.613Z"
   },
   {
    "duration": 3,
    "start_time": "2024-05-17T14:49:38.045Z"
   },
   {
    "duration": 4,
    "start_time": "2024-05-17T14:49:38.469Z"
   },
   {
    "duration": 3,
    "start_time": "2024-05-17T14:49:39.043Z"
   },
   {
    "duration": 6,
    "start_time": "2024-05-17T14:49:39.323Z"
   },
   {
    "duration": 1191,
    "start_time": "2024-05-17T14:49:48.268Z"
   },
   {
    "duration": 3,
    "start_time": "2024-05-17T14:49:49.461Z"
   },
   {
    "duration": 78,
    "start_time": "2024-05-17T14:49:49.466Z"
   },
   {
    "duration": 3,
    "start_time": "2024-05-17T14:49:49.546Z"
   },
   {
    "duration": 10,
    "start_time": "2024-05-17T14:49:49.550Z"
   },
   {
    "duration": 8,
    "start_time": "2024-05-17T14:49:49.561Z"
   },
   {
    "duration": 5,
    "start_time": "2024-05-17T14:49:49.570Z"
   },
   {
    "duration": 223,
    "start_time": "2024-05-17T14:49:49.576Z"
   },
   {
    "duration": 7,
    "start_time": "2024-05-17T14:49:49.800Z"
   },
   {
    "duration": 780,
    "start_time": "2024-05-17T14:49:49.809Z"
   },
   {
    "duration": 2,
    "start_time": "2024-05-17T14:49:50.590Z"
   },
   {
    "duration": 19,
    "start_time": "2024-05-17T14:49:50.594Z"
   },
   {
    "duration": 4,
    "start_time": "2024-05-17T14:49:50.614Z"
   },
   {
    "duration": 6,
    "start_time": "2024-05-17T14:49:50.621Z"
   },
   {
    "duration": 5,
    "start_time": "2024-05-17T14:49:50.628Z"
   },
   {
    "duration": 19,
    "start_time": "2024-05-17T14:49:50.634Z"
   },
   {
    "duration": 8,
    "start_time": "2024-05-17T14:49:50.654Z"
   },
   {
    "duration": 81,
    "start_time": "2024-05-17T14:49:50.663Z"
   },
   {
    "duration": 42,
    "start_time": "2024-05-17T14:49:50.746Z"
   },
   {
    "duration": 13,
    "start_time": "2024-05-17T14:49:50.789Z"
   },
   {
    "duration": 8,
    "start_time": "2024-05-17T14:49:50.803Z"
   },
   {
    "duration": 4,
    "start_time": "2024-05-17T14:50:24.478Z"
   },
   {
    "duration": 5,
    "start_time": "2024-05-17T14:50:30.685Z"
   },
   {
    "duration": 6,
    "start_time": "2024-05-17T14:50:31.295Z"
   },
   {
    "duration": 4,
    "start_time": "2024-05-17T14:50:41.789Z"
   },
   {
    "duration": 1252,
    "start_time": "2024-05-17T14:50:51.732Z"
   },
   {
    "duration": 3,
    "start_time": "2024-05-17T14:50:52.986Z"
   },
   {
    "duration": 47,
    "start_time": "2024-05-17T14:50:52.990Z"
   },
   {
    "duration": 3,
    "start_time": "2024-05-17T14:50:53.038Z"
   },
   {
    "duration": 8,
    "start_time": "2024-05-17T14:50:53.042Z"
   },
   {
    "duration": 10,
    "start_time": "2024-05-17T14:50:53.051Z"
   },
   {
    "duration": 5,
    "start_time": "2024-05-17T14:50:53.062Z"
   },
   {
    "duration": 240,
    "start_time": "2024-05-17T14:50:53.068Z"
   },
   {
    "duration": 8,
    "start_time": "2024-05-17T14:50:53.309Z"
   },
   {
    "duration": 795,
    "start_time": "2024-05-17T14:50:53.318Z"
   },
   {
    "duration": 4,
    "start_time": "2024-05-17T14:50:54.115Z"
   },
   {
    "duration": 75,
    "start_time": "2024-05-17T14:50:54.121Z"
   },
   {
    "duration": 13,
    "start_time": "2024-05-17T14:50:54.197Z"
   },
   {
    "duration": 8,
    "start_time": "2024-05-17T14:50:54.212Z"
   },
   {
    "duration": 4,
    "start_time": "2024-05-17T14:50:54.221Z"
   },
   {
    "duration": 4,
    "start_time": "2024-05-17T14:50:54.226Z"
   },
   {
    "duration": 10,
    "start_time": "2024-05-17T14:50:54.231Z"
   },
   {
    "duration": 14,
    "start_time": "2024-05-17T14:50:54.242Z"
   },
   {
    "duration": 9,
    "start_time": "2024-05-17T14:50:54.257Z"
   },
   {
    "duration": 17,
    "start_time": "2024-05-17T14:50:54.266Z"
   },
   {
    "duration": 6,
    "start_time": "2024-05-17T14:50:54.284Z"
   },
   {
    "duration": 3,
    "start_time": "2024-05-17T14:50:54.292Z"
   },
   {
    "duration": 8,
    "start_time": "2024-05-17T14:50:54.297Z"
   },
   {
    "duration": 5,
    "start_time": "2024-05-17T14:51:13.108Z"
   },
   {
    "duration": 5,
    "start_time": "2024-05-17T14:51:14.680Z"
   },
   {
    "duration": 4,
    "start_time": "2024-05-17T14:51:14.928Z"
   },
   {
    "duration": 5,
    "start_time": "2024-05-17T14:51:15.156Z"
   },
   {
    "duration": 8,
    "start_time": "2024-05-17T14:51:15.389Z"
   },
   {
    "duration": 2,
    "start_time": "2024-05-17T14:51:15.644Z"
   },
   {
    "duration": 9,
    "start_time": "2024-05-17T14:51:16.239Z"
   },
   {
    "duration": 10,
    "start_time": "2024-05-17T14:51:17.553Z"
   },
   {
    "duration": 5,
    "start_time": "2024-05-17T14:51:17.882Z"
   },
   {
    "duration": 1165,
    "start_time": "2024-05-17T14:51:32.692Z"
   },
   {
    "duration": 3,
    "start_time": "2024-05-17T14:51:33.859Z"
   },
   {
    "duration": 53,
    "start_time": "2024-05-17T14:51:33.863Z"
   },
   {
    "duration": 3,
    "start_time": "2024-05-17T14:51:33.917Z"
   },
   {
    "duration": 91,
    "start_time": "2024-05-17T14:51:33.921Z"
   },
   {
    "duration": 185,
    "start_time": "2024-05-17T14:51:34.013Z"
   },
   {
    "duration": 8,
    "start_time": "2024-05-17T14:51:34.199Z"
   },
   {
    "duration": 210,
    "start_time": "2024-05-17T14:51:34.208Z"
   },
   {
    "duration": 7,
    "start_time": "2024-05-17T14:51:34.420Z"
   },
   {
    "duration": 844,
    "start_time": "2024-05-17T14:51:34.429Z"
   },
   {
    "duration": 4,
    "start_time": "2024-05-17T14:51:35.275Z"
   },
   {
    "duration": 30,
    "start_time": "2024-05-17T14:51:35.280Z"
   },
   {
    "duration": 13,
    "start_time": "2024-05-17T14:51:35.312Z"
   },
   {
    "duration": 10,
    "start_time": "2024-05-17T14:51:35.328Z"
   },
   {
    "duration": 6,
    "start_time": "2024-05-17T14:51:35.340Z"
   },
   {
    "duration": 22,
    "start_time": "2024-05-17T14:51:35.347Z"
   },
   {
    "duration": 14,
    "start_time": "2024-05-17T14:51:35.370Z"
   },
   {
    "duration": 20,
    "start_time": "2024-05-17T14:51:35.386Z"
   },
   {
    "duration": 20,
    "start_time": "2024-05-17T14:51:35.408Z"
   },
   {
    "duration": 71,
    "start_time": "2024-05-17T14:51:35.430Z"
   },
   {
    "duration": 14,
    "start_time": "2024-05-17T14:51:35.502Z"
   },
   {
    "duration": 25,
    "start_time": "2024-05-17T14:51:35.517Z"
   },
   {
    "duration": 28,
    "start_time": "2024-05-17T14:51:35.544Z"
   },
   {
    "duration": 4,
    "start_time": "2024-05-17T14:52:12.073Z"
   },
   {
    "duration": 6,
    "start_time": "2024-05-17T14:52:17.081Z"
   },
   {
    "duration": 3,
    "start_time": "2024-05-17T14:52:21.370Z"
   },
   {
    "duration": 5,
    "start_time": "2024-05-17T14:53:04.414Z"
   },
   {
    "duration": 1223,
    "start_time": "2024-05-17T14:53:08.853Z"
   },
   {
    "duration": 3,
    "start_time": "2024-05-17T14:53:10.078Z"
   },
   {
    "duration": 164,
    "start_time": "2024-05-17T14:53:10.082Z"
   },
   {
    "duration": 2,
    "start_time": "2024-05-17T14:53:10.247Z"
   },
   {
    "duration": 12,
    "start_time": "2024-05-17T14:53:10.251Z"
   },
   {
    "duration": 6,
    "start_time": "2024-05-17T14:53:10.264Z"
   },
   {
    "duration": 4,
    "start_time": "2024-05-17T14:53:10.271Z"
   },
   {
    "duration": 210,
    "start_time": "2024-05-17T14:53:10.276Z"
   },
   {
    "duration": 6,
    "start_time": "2024-05-17T14:53:10.487Z"
   },
   {
    "duration": 795,
    "start_time": "2024-05-17T14:53:10.494Z"
   },
   {
    "duration": 3,
    "start_time": "2024-05-17T14:53:11.290Z"
   },
   {
    "duration": 10,
    "start_time": "2024-05-17T14:53:11.294Z"
   },
   {
    "duration": 32,
    "start_time": "2024-05-17T14:53:11.305Z"
   },
   {
    "duration": 16,
    "start_time": "2024-05-17T14:53:11.339Z"
   },
   {
    "duration": 42,
    "start_time": "2024-05-17T14:53:11.356Z"
   },
   {
    "duration": 21,
    "start_time": "2024-05-17T14:53:11.400Z"
   },
   {
    "duration": 7,
    "start_time": "2024-05-17T14:53:11.423Z"
   },
   {
    "duration": 60,
    "start_time": "2024-05-17T14:53:11.431Z"
   },
   {
    "duration": 16,
    "start_time": "2024-05-17T14:53:11.493Z"
   },
   {
    "duration": 11,
    "start_time": "2024-05-17T14:53:11.510Z"
   },
   {
    "duration": 7,
    "start_time": "2024-05-17T14:53:11.522Z"
   },
   {
    "duration": 8,
    "start_time": "2024-05-17T14:53:11.530Z"
   },
   {
    "duration": 9,
    "start_time": "2024-05-17T14:53:11.540Z"
   },
   {
    "duration": 6,
    "start_time": "2024-05-17T14:53:11.550Z"
   },
   {
    "duration": 1158,
    "start_time": "2024-05-17T14:53:28.813Z"
   },
   {
    "duration": 3,
    "start_time": "2024-05-17T14:53:29.972Z"
   },
   {
    "duration": 59,
    "start_time": "2024-05-17T14:53:29.976Z"
   },
   {
    "duration": 2,
    "start_time": "2024-05-17T14:53:30.036Z"
   },
   {
    "duration": 199,
    "start_time": "2024-05-17T14:53:30.040Z"
   },
   {
    "duration": 88,
    "start_time": "2024-05-17T14:53:30.240Z"
   },
   {
    "duration": 66,
    "start_time": "2024-05-17T14:53:30.329Z"
   },
   {
    "duration": 261,
    "start_time": "2024-05-17T14:53:30.397Z"
   },
   {
    "duration": 6,
    "start_time": "2024-05-17T14:53:30.660Z"
   },
   {
    "duration": 1014,
    "start_time": "2024-05-17T14:53:30.667Z"
   },
   {
    "duration": 3,
    "start_time": "2024-05-17T14:53:31.683Z"
   },
   {
    "duration": 8,
    "start_time": "2024-05-17T14:53:31.688Z"
   },
   {
    "duration": 11,
    "start_time": "2024-05-17T14:53:31.698Z"
   },
   {
    "duration": 10,
    "start_time": "2024-05-17T14:53:31.711Z"
   },
   {
    "duration": 26,
    "start_time": "2024-05-17T14:53:31.723Z"
   },
   {
    "duration": 24,
    "start_time": "2024-05-17T14:53:31.750Z"
   },
   {
    "duration": 32,
    "start_time": "2024-05-17T14:53:31.776Z"
   },
   {
    "duration": 23,
    "start_time": "2024-05-17T14:53:31.809Z"
   },
   {
    "duration": 13,
    "start_time": "2024-05-17T14:53:31.833Z"
   },
   {
    "duration": 20,
    "start_time": "2024-05-17T14:53:31.847Z"
   },
   {
    "duration": 5,
    "start_time": "2024-05-17T14:53:31.868Z"
   },
   {
    "duration": 7,
    "start_time": "2024-05-17T14:53:31.875Z"
   },
   {
    "duration": 9,
    "start_time": "2024-05-17T14:53:31.883Z"
   },
   {
    "duration": 8,
    "start_time": "2024-05-17T14:53:31.893Z"
   },
   {
    "duration": 4,
    "start_time": "2024-05-17T14:54:14.557Z"
   },
   {
    "duration": 4,
    "start_time": "2024-05-17T14:54:16.655Z"
   },
   {
    "duration": 5,
    "start_time": "2024-05-17T14:54:16.907Z"
   },
   {
    "duration": 4,
    "start_time": "2024-05-17T14:54:17.570Z"
   },
   {
    "duration": 7,
    "start_time": "2024-05-17T14:54:17.814Z"
   },
   {
    "duration": 1206,
    "start_time": "2024-05-17T14:54:37.126Z"
   },
   {
    "duration": 3,
    "start_time": "2024-05-17T14:54:38.334Z"
   },
   {
    "duration": 57,
    "start_time": "2024-05-17T14:54:38.338Z"
   },
   {
    "duration": 2,
    "start_time": "2024-05-17T14:54:38.397Z"
   },
   {
    "duration": 22,
    "start_time": "2024-05-17T14:54:38.401Z"
   },
   {
    "duration": 11,
    "start_time": "2024-05-17T14:54:38.424Z"
   },
   {
    "duration": 5,
    "start_time": "2024-05-17T14:54:38.436Z"
   },
   {
    "duration": 211,
    "start_time": "2024-05-17T14:54:38.442Z"
   },
   {
    "duration": 8,
    "start_time": "2024-05-17T14:54:38.655Z"
   },
   {
    "duration": 805,
    "start_time": "2024-05-17T14:54:38.664Z"
   },
   {
    "duration": 3,
    "start_time": "2024-05-17T14:54:39.471Z"
   },
   {
    "duration": 37,
    "start_time": "2024-05-17T14:54:39.475Z"
   },
   {
    "duration": 7,
    "start_time": "2024-05-17T14:54:39.514Z"
   },
   {
    "duration": 16,
    "start_time": "2024-05-17T14:54:39.524Z"
   },
   {
    "duration": 17,
    "start_time": "2024-05-17T14:54:39.542Z"
   },
   {
    "duration": 9,
    "start_time": "2024-05-17T14:54:39.560Z"
   },
   {
    "duration": 6,
    "start_time": "2024-05-17T14:54:39.570Z"
   },
   {
    "duration": 4,
    "start_time": "2024-05-17T14:54:39.578Z"
   },
   {
    "duration": 15,
    "start_time": "2024-05-17T14:54:39.583Z"
   },
   {
    "duration": 10,
    "start_time": "2024-05-17T14:54:39.599Z"
   },
   {
    "duration": 7,
    "start_time": "2024-05-17T14:54:39.610Z"
   },
   {
    "duration": 6,
    "start_time": "2024-05-17T14:54:39.618Z"
   },
   {
    "duration": 8,
    "start_time": "2024-05-17T14:54:39.625Z"
   },
   {
    "duration": 12,
    "start_time": "2024-05-17T14:54:39.634Z"
   },
   {
    "duration": 1257,
    "start_time": "2024-05-17T14:54:47.514Z"
   },
   {
    "duration": 3,
    "start_time": "2024-05-17T14:54:48.773Z"
   },
   {
    "duration": 76,
    "start_time": "2024-05-17T14:54:48.777Z"
   },
   {
    "duration": 3,
    "start_time": "2024-05-17T14:54:48.854Z"
   },
   {
    "duration": 25,
    "start_time": "2024-05-17T14:54:48.858Z"
   },
   {
    "duration": 6,
    "start_time": "2024-05-17T14:54:48.885Z"
   },
   {
    "duration": 5,
    "start_time": "2024-05-17T14:54:48.892Z"
   },
   {
    "duration": 213,
    "start_time": "2024-05-17T14:54:48.898Z"
   },
   {
    "duration": 7,
    "start_time": "2024-05-17T14:54:49.112Z"
   },
   {
    "duration": 789,
    "start_time": "2024-05-17T14:54:49.120Z"
   },
   {
    "duration": 3,
    "start_time": "2024-05-17T14:54:49.910Z"
   },
   {
    "duration": 6,
    "start_time": "2024-05-17T14:54:49.914Z"
   },
   {
    "duration": 6,
    "start_time": "2024-05-17T14:54:49.921Z"
   },
   {
    "duration": 4,
    "start_time": "2024-05-17T14:54:49.929Z"
   },
   {
    "duration": 75,
    "start_time": "2024-05-17T14:54:49.935Z"
   },
   {
    "duration": 14,
    "start_time": "2024-05-17T14:54:50.011Z"
   },
   {
    "duration": 104,
    "start_time": "2024-05-17T14:54:50.026Z"
   },
   {
    "duration": 105,
    "start_time": "2024-05-17T14:54:50.132Z"
   },
   {
    "duration": 17,
    "start_time": "2024-05-17T14:54:50.238Z"
   },
   {
    "duration": 14,
    "start_time": "2024-05-17T14:54:50.256Z"
   },
   {
    "duration": 8,
    "start_time": "2024-05-17T14:54:50.271Z"
   },
   {
    "duration": 10,
    "start_time": "2024-05-17T14:54:50.280Z"
   },
   {
    "duration": 5,
    "start_time": "2024-05-17T14:54:50.291Z"
   },
   {
    "duration": 14,
    "start_time": "2024-05-17T14:54:50.297Z"
   },
   {
    "duration": 1156,
    "start_time": "2024-05-17T14:57:18.027Z"
   },
   {
    "duration": 3,
    "start_time": "2024-05-17T14:57:19.185Z"
   },
   {
    "duration": 48,
    "start_time": "2024-05-17T14:57:19.190Z"
   },
   {
    "duration": 2,
    "start_time": "2024-05-17T14:57:19.239Z"
   },
   {
    "duration": 9,
    "start_time": "2024-05-17T14:57:19.243Z"
   },
   {
    "duration": 60,
    "start_time": "2024-05-17T14:57:19.253Z"
   },
   {
    "duration": 6,
    "start_time": "2024-05-17T14:57:19.314Z"
   },
   {
    "duration": 237,
    "start_time": "2024-05-17T14:57:19.321Z"
   },
   {
    "duration": 7,
    "start_time": "2024-05-17T14:57:19.559Z"
   },
   {
    "duration": 818,
    "start_time": "2024-05-17T14:57:19.567Z"
   },
   {
    "duration": 4,
    "start_time": "2024-05-17T14:57:20.386Z"
   },
   {
    "duration": 4,
    "start_time": "2024-05-17T14:57:20.391Z"
   },
   {
    "duration": 11,
    "start_time": "2024-05-17T14:57:20.396Z"
   },
   {
    "duration": 9,
    "start_time": "2024-05-17T14:57:20.409Z"
   },
   {
    "duration": 7,
    "start_time": "2024-05-17T14:57:20.419Z"
   },
   {
    "duration": 11,
    "start_time": "2024-05-17T14:57:20.427Z"
   },
   {
    "duration": 12,
    "start_time": "2024-05-17T14:57:20.439Z"
   },
   {
    "duration": 3,
    "start_time": "2024-05-17T14:57:20.452Z"
   },
   {
    "duration": 10,
    "start_time": "2024-05-17T14:57:20.456Z"
   },
   {
    "duration": 18,
    "start_time": "2024-05-17T14:57:20.468Z"
   },
   {
    "duration": 7,
    "start_time": "2024-05-17T14:57:20.487Z"
   },
   {
    "duration": 6,
    "start_time": "2024-05-17T14:57:20.495Z"
   },
   {
    "duration": 7,
    "start_time": "2024-05-17T14:57:20.502Z"
   },
   {
    "duration": 18,
    "start_time": "2024-05-17T14:57:20.511Z"
   },
   {
    "duration": 4,
    "start_time": "2024-05-17T14:58:20.898Z"
   },
   {
    "duration": 3,
    "start_time": "2024-05-17T14:58:21.702Z"
   },
   {
    "duration": 4,
    "start_time": "2024-05-17T14:58:23.320Z"
   },
   {
    "duration": 5,
    "start_time": "2024-05-17T14:58:23.592Z"
   },
   {
    "duration": 4,
    "start_time": "2024-05-17T14:58:24.492Z"
   },
   {
    "duration": 3,
    "start_time": "2024-05-17T14:58:26.218Z"
   },
   {
    "duration": 3,
    "start_time": "2024-05-17T14:58:29.047Z"
   },
   {
    "duration": 5,
    "start_time": "2024-05-17T14:58:29.434Z"
   },
   {
    "duration": 3,
    "start_time": "2024-05-17T14:58:30.036Z"
   },
   {
    "duration": 49,
    "start_time": "2024-05-17T14:58:30.242Z"
   },
   {
    "duration": 1202,
    "start_time": "2024-05-17T14:58:58.449Z"
   },
   {
    "duration": 3,
    "start_time": "2024-05-17T14:58:59.652Z"
   },
   {
    "duration": 47,
    "start_time": "2024-05-17T14:58:59.656Z"
   },
   {
    "duration": 3,
    "start_time": "2024-05-17T14:58:59.704Z"
   },
   {
    "duration": 11,
    "start_time": "2024-05-17T14:58:59.708Z"
   },
   {
    "duration": 8,
    "start_time": "2024-05-17T14:58:59.720Z"
   },
   {
    "duration": 6,
    "start_time": "2024-05-17T14:58:59.729Z"
   },
   {
    "duration": 222,
    "start_time": "2024-05-17T14:58:59.736Z"
   },
   {
    "duration": 6,
    "start_time": "2024-05-17T14:58:59.959Z"
   },
   {
    "duration": 827,
    "start_time": "2024-05-17T14:58:59.966Z"
   },
   {
    "duration": 3,
    "start_time": "2024-05-17T14:59:00.794Z"
   },
   {
    "duration": 98,
    "start_time": "2024-05-17T14:59:00.798Z"
   },
   {
    "duration": 29,
    "start_time": "2024-05-17T14:59:00.897Z"
   },
   {
    "duration": 36,
    "start_time": "2024-05-17T14:59:00.928Z"
   },
   {
    "duration": 44,
    "start_time": "2024-05-17T14:59:00.965Z"
   },
   {
    "duration": 53,
    "start_time": "2024-05-17T14:59:01.010Z"
   },
   {
    "duration": 122,
    "start_time": "2024-05-17T14:59:01.064Z"
   },
   {
    "duration": 74,
    "start_time": "2024-05-17T14:59:01.187Z"
   },
   {
    "duration": 103,
    "start_time": "2024-05-17T14:59:01.263Z"
   },
   {
    "duration": 56,
    "start_time": "2024-05-17T14:59:01.367Z"
   },
   {
    "duration": 91,
    "start_time": "2024-05-17T14:59:01.424Z"
   },
   {
    "duration": 35,
    "start_time": "2024-05-17T14:59:01.516Z"
   },
   {
    "duration": 23,
    "start_time": "2024-05-17T14:59:01.553Z"
   },
   {
    "duration": 44,
    "start_time": "2024-05-17T14:59:01.577Z"
   },
   {
    "duration": 1139,
    "start_time": "2024-05-17T15:00:12.724Z"
   },
   {
    "duration": 3,
    "start_time": "2024-05-17T15:00:13.865Z"
   },
   {
    "duration": 56,
    "start_time": "2024-05-17T15:00:13.869Z"
   },
   {
    "duration": 2,
    "start_time": "2024-05-17T15:00:13.927Z"
   },
   {
    "duration": 107,
    "start_time": "2024-05-17T15:00:13.931Z"
   },
   {
    "duration": 6,
    "start_time": "2024-05-17T15:00:14.040Z"
   },
   {
    "duration": 4,
    "start_time": "2024-05-17T15:00:14.047Z"
   },
   {
    "duration": 346,
    "start_time": "2024-05-17T15:00:14.052Z"
   },
   {
    "duration": 6,
    "start_time": "2024-05-17T15:00:14.400Z"
   },
   {
    "duration": 782,
    "start_time": "2024-05-17T15:00:14.407Z"
   },
   {
    "duration": 3,
    "start_time": "2024-05-17T15:00:15.191Z"
   },
   {
    "duration": 36,
    "start_time": "2024-05-17T15:00:15.195Z"
   },
   {
    "duration": 70,
    "start_time": "2024-05-17T15:00:15.233Z"
   },
   {
    "duration": 45,
    "start_time": "2024-05-17T15:00:15.306Z"
   },
   {
    "duration": 37,
    "start_time": "2024-05-17T15:00:15.352Z"
   },
   {
    "duration": 19,
    "start_time": "2024-05-17T15:00:15.391Z"
   },
   {
    "duration": 29,
    "start_time": "2024-05-17T15:00:15.411Z"
   },
   {
    "duration": 68,
    "start_time": "2024-05-17T15:00:15.441Z"
   },
   {
    "duration": 30,
    "start_time": "2024-05-17T15:00:15.510Z"
   },
   {
    "duration": 4,
    "start_time": "2024-05-17T15:00:15.541Z"
   },
   {
    "duration": 6,
    "start_time": "2024-05-17T15:00:15.546Z"
   },
   {
    "duration": 6,
    "start_time": "2024-05-17T15:00:15.553Z"
   },
   {
    "duration": 12,
    "start_time": "2024-05-17T15:00:15.560Z"
   },
   {
    "duration": 8,
    "start_time": "2024-05-17T15:00:15.573Z"
   },
   {
    "duration": 7,
    "start_time": "2024-05-17T15:01:02.129Z"
   },
   {
    "duration": 4,
    "start_time": "2024-05-17T15:01:03.268Z"
   },
   {
    "duration": 1213,
    "start_time": "2024-05-17T15:01:07.870Z"
   },
   {
    "duration": 3,
    "start_time": "2024-05-17T15:01:09.086Z"
   },
   {
    "duration": 62,
    "start_time": "2024-05-17T15:01:09.090Z"
   },
   {
    "duration": 3,
    "start_time": "2024-05-17T15:01:09.153Z"
   },
   {
    "duration": 9,
    "start_time": "2024-05-17T15:01:09.158Z"
   },
   {
    "duration": 46,
    "start_time": "2024-05-17T15:01:09.168Z"
   },
   {
    "duration": 8,
    "start_time": "2024-05-17T15:01:09.216Z"
   },
   {
    "duration": 210,
    "start_time": "2024-05-17T15:01:09.225Z"
   },
   {
    "duration": 8,
    "start_time": "2024-05-17T15:01:09.436Z"
   },
   {
    "duration": 883,
    "start_time": "2024-05-17T15:01:09.446Z"
   },
   {
    "duration": 3,
    "start_time": "2024-05-17T15:01:10.331Z"
   },
   {
    "duration": 5,
    "start_time": "2024-05-17T15:01:10.336Z"
   },
   {
    "duration": 5,
    "start_time": "2024-05-17T15:01:10.343Z"
   },
   {
    "duration": 3,
    "start_time": "2024-05-17T15:01:10.351Z"
   },
   {
    "duration": 12,
    "start_time": "2024-05-17T15:01:10.355Z"
   },
   {
    "duration": 5,
    "start_time": "2024-05-17T15:01:10.368Z"
   },
   {
    "duration": 6,
    "start_time": "2024-05-17T15:01:10.374Z"
   },
   {
    "duration": 5,
    "start_time": "2024-05-17T15:01:10.383Z"
   },
   {
    "duration": 4,
    "start_time": "2024-05-17T15:01:10.389Z"
   },
   {
    "duration": 9,
    "start_time": "2024-05-17T15:01:10.394Z"
   },
   {
    "duration": 28,
    "start_time": "2024-05-17T15:01:10.405Z"
   },
   {
    "duration": 11,
    "start_time": "2024-05-17T15:01:10.435Z"
   },
   {
    "duration": 6,
    "start_time": "2024-05-17T15:01:10.447Z"
   },
   {
    "duration": 6,
    "start_time": "2024-05-17T15:01:10.454Z"
   },
   {
    "duration": 4,
    "start_time": "2024-05-17T15:01:53.431Z"
   },
   {
    "duration": 3,
    "start_time": "2024-05-17T15:01:58.754Z"
   },
   {
    "duration": 4,
    "start_time": "2024-05-17T15:02:07.751Z"
   },
   {
    "duration": 101,
    "start_time": "2024-05-17T15:02:08.802Z"
   },
   {
    "duration": 3,
    "start_time": "2024-05-17T15:02:14.436Z"
   },
   {
    "duration": 4,
    "start_time": "2024-05-17T15:02:20.949Z"
   },
   {
    "duration": 11,
    "start_time": "2024-05-17T15:04:50.965Z"
   },
   {
    "duration": 3,
    "start_time": "2024-05-17T15:06:39.341Z"
   },
   {
    "duration": 5,
    "start_time": "2024-05-17T15:06:43.045Z"
   },
   {
    "duration": 3,
    "start_time": "2024-05-17T15:06:50.733Z"
   },
   {
    "duration": 1255,
    "start_time": "2024-05-17T15:08:23.539Z"
   },
   {
    "duration": 3,
    "start_time": "2024-05-17T15:08:24.795Z"
   },
   {
    "duration": 140,
    "start_time": "2024-05-17T15:08:24.799Z"
   },
   {
    "duration": 3,
    "start_time": "2024-05-17T15:08:24.940Z"
   },
   {
    "duration": 26,
    "start_time": "2024-05-17T15:08:24.944Z"
   },
   {
    "duration": 9,
    "start_time": "2024-05-17T15:08:24.971Z"
   },
   {
    "duration": 33,
    "start_time": "2024-05-17T15:08:24.981Z"
   },
   {
    "duration": 250,
    "start_time": "2024-05-17T15:08:25.015Z"
   },
   {
    "duration": 7,
    "start_time": "2024-05-17T15:08:25.266Z"
   },
   {
    "duration": 838,
    "start_time": "2024-05-17T15:08:25.275Z"
   },
   {
    "duration": 4,
    "start_time": "2024-05-17T15:08:26.114Z"
   },
   {
    "duration": 170,
    "start_time": "2024-05-17T15:08:26.119Z"
   },
   {
    "duration": 0,
    "start_time": "2024-05-17T15:08:26.291Z"
   },
   {
    "duration": 0,
    "start_time": "2024-05-17T15:08:26.292Z"
   },
   {
    "duration": 0,
    "start_time": "2024-05-17T15:08:26.293Z"
   },
   {
    "duration": 0,
    "start_time": "2024-05-17T15:08:26.294Z"
   },
   {
    "duration": 0,
    "start_time": "2024-05-17T15:08:26.295Z"
   },
   {
    "duration": 0,
    "start_time": "2024-05-17T15:08:26.296Z"
   },
   {
    "duration": 0,
    "start_time": "2024-05-17T15:08:26.297Z"
   },
   {
    "duration": 0,
    "start_time": "2024-05-17T15:08:26.298Z"
   },
   {
    "duration": 0,
    "start_time": "2024-05-17T15:08:26.299Z"
   },
   {
    "duration": 0,
    "start_time": "2024-05-17T15:08:26.299Z"
   },
   {
    "duration": 0,
    "start_time": "2024-05-17T15:08:26.300Z"
   },
   {
    "duration": 0,
    "start_time": "2024-05-17T15:08:26.301Z"
   },
   {
    "duration": 0,
    "start_time": "2024-05-17T15:08:26.302Z"
   },
   {
    "duration": 0,
    "start_time": "2024-05-17T15:08:26.303Z"
   },
   {
    "duration": 0,
    "start_time": "2024-05-17T15:08:26.303Z"
   },
   {
    "duration": 1250,
    "start_time": "2024-05-17T15:08:51.343Z"
   },
   {
    "duration": 4,
    "start_time": "2024-05-17T15:08:52.594Z"
   },
   {
    "duration": 79,
    "start_time": "2024-05-17T15:08:52.600Z"
   },
   {
    "duration": 3,
    "start_time": "2024-05-17T15:08:52.680Z"
   },
   {
    "duration": 9,
    "start_time": "2024-05-17T15:08:52.684Z"
   },
   {
    "duration": 6,
    "start_time": "2024-05-17T15:08:52.695Z"
   },
   {
    "duration": 6,
    "start_time": "2024-05-17T15:08:52.703Z"
   },
   {
    "duration": 273,
    "start_time": "2024-05-17T15:08:52.711Z"
   },
   {
    "duration": 9,
    "start_time": "2024-05-17T15:08:52.986Z"
   },
   {
    "duration": 887,
    "start_time": "2024-05-17T15:08:52.997Z"
   },
   {
    "duration": 2,
    "start_time": "2024-05-17T15:08:53.885Z"
   },
   {
    "duration": 12,
    "start_time": "2024-05-17T15:08:53.889Z"
   },
   {
    "duration": 20,
    "start_time": "2024-05-17T15:08:53.902Z"
   },
   {
    "duration": 7,
    "start_time": "2024-05-17T15:08:53.924Z"
   },
   {
    "duration": 19,
    "start_time": "2024-05-17T15:08:53.932Z"
   },
   {
    "duration": 17,
    "start_time": "2024-05-17T15:08:53.952Z"
   },
   {
    "duration": 78,
    "start_time": "2024-05-17T15:08:53.970Z"
   },
   {
    "duration": 13,
    "start_time": "2024-05-17T15:08:54.049Z"
   },
   {
    "duration": 15,
    "start_time": "2024-05-17T15:08:54.063Z"
   },
   {
    "duration": 20,
    "start_time": "2024-05-17T15:08:54.080Z"
   },
   {
    "duration": 158,
    "start_time": "2024-05-17T15:08:54.101Z"
   },
   {
    "duration": 112,
    "start_time": "2024-05-17T15:09:47.085Z"
   },
   {
    "duration": 3,
    "start_time": "2024-05-17T15:10:10.760Z"
   },
   {
    "duration": 11,
    "start_time": "2024-05-17T15:10:12.018Z"
   },
   {
    "duration": 4,
    "start_time": "2024-05-17T15:10:18.085Z"
   },
   {
    "duration": 1318,
    "start_time": "2024-05-17T15:11:15.563Z"
   },
   {
    "duration": 3,
    "start_time": "2024-05-17T15:11:16.883Z"
   },
   {
    "duration": 77,
    "start_time": "2024-05-17T15:11:16.887Z"
   },
   {
    "duration": 2,
    "start_time": "2024-05-17T15:11:16.965Z"
   },
   {
    "duration": 13,
    "start_time": "2024-05-17T15:11:16.969Z"
   },
   {
    "duration": 6,
    "start_time": "2024-05-17T15:11:16.984Z"
   },
   {
    "duration": 13,
    "start_time": "2024-05-17T15:11:16.991Z"
   },
   {
    "duration": 225,
    "start_time": "2024-05-17T15:11:17.006Z"
   },
   {
    "duration": 7,
    "start_time": "2024-05-17T15:11:17.232Z"
   },
   {
    "duration": 845,
    "start_time": "2024-05-17T15:11:17.240Z"
   },
   {
    "duration": 6,
    "start_time": "2024-05-17T15:11:18.086Z"
   },
   {
    "duration": 91,
    "start_time": "2024-05-17T15:11:18.094Z"
   },
   {
    "duration": 9,
    "start_time": "2024-05-17T15:11:18.186Z"
   },
   {
    "duration": 82,
    "start_time": "2024-05-17T15:11:18.197Z"
   },
   {
    "duration": 21,
    "start_time": "2024-05-17T15:11:18.280Z"
   },
   {
    "duration": 31,
    "start_time": "2024-05-17T15:11:18.303Z"
   },
   {
    "duration": 24,
    "start_time": "2024-05-17T15:11:18.335Z"
   },
   {
    "duration": 13,
    "start_time": "2024-05-17T15:11:18.360Z"
   },
   {
    "duration": 21,
    "start_time": "2024-05-17T15:11:18.374Z"
   },
   {
    "duration": 37,
    "start_time": "2024-05-17T15:11:18.396Z"
   },
   {
    "duration": 1273,
    "start_time": "2024-05-17T15:11:45.422Z"
   },
   {
    "duration": 4,
    "start_time": "2024-05-17T15:11:46.697Z"
   },
   {
    "duration": 57,
    "start_time": "2024-05-17T15:11:46.702Z"
   },
   {
    "duration": 3,
    "start_time": "2024-05-17T15:11:46.761Z"
   },
   {
    "duration": 12,
    "start_time": "2024-05-17T15:11:46.765Z"
   },
   {
    "duration": 9,
    "start_time": "2024-05-17T15:11:46.779Z"
   },
   {
    "duration": 93,
    "start_time": "2024-05-17T15:11:46.789Z"
   },
   {
    "duration": 266,
    "start_time": "2024-05-17T15:11:46.883Z"
   },
   {
    "duration": 7,
    "start_time": "2024-05-17T15:11:47.150Z"
   },
   {
    "duration": 839,
    "start_time": "2024-05-17T15:11:47.158Z"
   },
   {
    "duration": 10,
    "start_time": "2024-05-17T15:11:47.998Z"
   },
   {
    "duration": 48,
    "start_time": "2024-05-17T15:11:48.009Z"
   },
   {
    "duration": 11,
    "start_time": "2024-05-17T15:11:48.058Z"
   },
   {
    "duration": 4,
    "start_time": "2024-05-17T15:11:48.071Z"
   },
   {
    "duration": 6,
    "start_time": "2024-05-17T15:11:48.076Z"
   },
   {
    "duration": 11,
    "start_time": "2024-05-17T15:11:48.083Z"
   },
   {
    "duration": 5,
    "start_time": "2024-05-17T15:11:48.095Z"
   },
   {
    "duration": 5,
    "start_time": "2024-05-17T15:11:48.101Z"
   },
   {
    "duration": 91,
    "start_time": "2024-05-17T15:11:48.107Z"
   },
   {
    "duration": 84,
    "start_time": "2024-05-17T15:11:48.199Z"
   },
   {
    "duration": 1276,
    "start_time": "2024-05-17T15:12:16.776Z"
   },
   {
    "duration": 2,
    "start_time": "2024-05-17T15:12:18.054Z"
   },
   {
    "duration": 65,
    "start_time": "2024-05-17T15:12:18.059Z"
   },
   {
    "duration": 2,
    "start_time": "2024-05-17T15:12:18.125Z"
   },
   {
    "duration": 151,
    "start_time": "2024-05-17T15:12:18.128Z"
   },
   {
    "duration": 7,
    "start_time": "2024-05-17T15:12:18.280Z"
   },
   {
    "duration": 31,
    "start_time": "2024-05-17T15:12:18.288Z"
   },
   {
    "duration": 224,
    "start_time": "2024-05-17T15:12:18.320Z"
   },
   {
    "duration": 6,
    "start_time": "2024-05-17T15:12:18.546Z"
   },
   {
    "duration": 803,
    "start_time": "2024-05-17T15:12:18.554Z"
   },
   {
    "duration": 7,
    "start_time": "2024-05-17T15:12:19.358Z"
   },
   {
    "duration": 8,
    "start_time": "2024-05-17T15:12:19.367Z"
   },
   {
    "duration": 16,
    "start_time": "2024-05-17T15:12:19.376Z"
   },
   {
    "duration": 14,
    "start_time": "2024-05-17T15:12:19.393Z"
   },
   {
    "duration": 12,
    "start_time": "2024-05-17T15:12:19.408Z"
   },
   {
    "duration": 9,
    "start_time": "2024-05-17T15:12:19.421Z"
   },
   {
    "duration": 20,
    "start_time": "2024-05-17T15:12:19.431Z"
   },
   {
    "duration": 9,
    "start_time": "2024-05-17T15:12:19.452Z"
   },
   {
    "duration": 10,
    "start_time": "2024-05-17T15:12:19.462Z"
   },
   {
    "duration": 48,
    "start_time": "2024-05-17T15:12:19.473Z"
   },
   {
    "duration": 157,
    "start_time": "2024-05-17T15:13:53.375Z"
   },
   {
    "duration": 151,
    "start_time": "2024-05-17T15:13:57.692Z"
   },
   {
    "duration": 96,
    "start_time": "2024-05-17T15:14:07.311Z"
   },
   {
    "duration": 3,
    "start_time": "2024-05-17T15:14:14.954Z"
   },
   {
    "duration": 10,
    "start_time": "2024-05-17T15:15:13.142Z"
   },
   {
    "duration": 9,
    "start_time": "2024-05-17T15:15:13.846Z"
   },
   {
    "duration": 17,
    "start_time": "2024-05-17T15:21:38.841Z"
   },
   {
    "duration": 1227,
    "start_time": "2024-05-17T15:21:47.837Z"
   },
   {
    "duration": 3,
    "start_time": "2024-05-17T15:21:49.065Z"
   },
   {
    "duration": 54,
    "start_time": "2024-05-17T15:21:49.069Z"
   },
   {
    "duration": 3,
    "start_time": "2024-05-17T15:21:49.124Z"
   },
   {
    "duration": 11,
    "start_time": "2024-05-17T15:21:49.128Z"
   },
   {
    "duration": 6,
    "start_time": "2024-05-17T15:21:49.140Z"
   },
   {
    "duration": 4,
    "start_time": "2024-05-17T15:21:49.147Z"
   },
   {
    "duration": 243,
    "start_time": "2024-05-17T15:21:49.152Z"
   },
   {
    "duration": 6,
    "start_time": "2024-05-17T15:21:49.397Z"
   },
   {
    "duration": 805,
    "start_time": "2024-05-17T15:21:49.404Z"
   },
   {
    "duration": 2,
    "start_time": "2024-05-17T15:21:50.211Z"
   },
   {
    "duration": 27,
    "start_time": "2024-05-17T15:21:50.214Z"
   },
   {
    "duration": 64,
    "start_time": "2024-05-17T15:21:50.242Z"
   },
   {
    "duration": 16,
    "start_time": "2024-05-17T15:21:50.308Z"
   },
   {
    "duration": 19,
    "start_time": "2024-05-17T15:21:50.326Z"
   },
   {
    "duration": 6,
    "start_time": "2024-05-17T15:21:50.347Z"
   },
   {
    "duration": 17,
    "start_time": "2024-05-17T15:21:50.354Z"
   },
   {
    "duration": 4,
    "start_time": "2024-05-17T15:21:50.372Z"
   },
   {
    "duration": 24,
    "start_time": "2024-05-17T15:21:50.377Z"
   },
   {
    "duration": 38,
    "start_time": "2024-05-17T15:21:50.402Z"
   },
   {
    "duration": 3,
    "start_time": "2024-05-17T15:22:16.825Z"
   },
   {
    "duration": 3,
    "start_time": "2024-05-17T15:22:31.723Z"
   },
   {
    "duration": 3,
    "start_time": "2024-05-17T15:22:42.636Z"
   },
   {
    "duration": 3,
    "start_time": "2024-05-17T15:24:51.146Z"
   },
   {
    "duration": 4,
    "start_time": "2024-05-17T15:24:54.866Z"
   },
   {
    "duration": 1278,
    "start_time": "2024-05-17T15:26:04.474Z"
   },
   {
    "duration": 3,
    "start_time": "2024-05-17T15:26:05.754Z"
   },
   {
    "duration": 73,
    "start_time": "2024-05-17T15:26:05.758Z"
   },
   {
    "duration": 2,
    "start_time": "2024-05-17T15:26:05.832Z"
   },
   {
    "duration": 10,
    "start_time": "2024-05-17T15:26:05.836Z"
   },
   {
    "duration": 34,
    "start_time": "2024-05-17T15:26:05.847Z"
   },
   {
    "duration": 9,
    "start_time": "2024-05-17T15:26:05.882Z"
   },
   {
    "duration": 212,
    "start_time": "2024-05-17T15:26:05.892Z"
   },
   {
    "duration": 6,
    "start_time": "2024-05-17T15:26:06.105Z"
   },
   {
    "duration": 813,
    "start_time": "2024-05-17T15:26:06.112Z"
   },
   {
    "duration": 9,
    "start_time": "2024-05-17T15:26:06.927Z"
   },
   {
    "duration": 42,
    "start_time": "2024-05-17T15:26:06.937Z"
   },
   {
    "duration": 29,
    "start_time": "2024-05-17T15:26:06.980Z"
   },
   {
    "duration": 10,
    "start_time": "2024-05-17T15:26:07.012Z"
   },
   {
    "duration": 6,
    "start_time": "2024-05-17T15:26:07.024Z"
   },
   {
    "duration": 10,
    "start_time": "2024-05-17T15:26:07.031Z"
   },
   {
    "duration": 5,
    "start_time": "2024-05-17T15:26:07.042Z"
   },
   {
    "duration": 12,
    "start_time": "2024-05-17T15:26:07.048Z"
   },
   {
    "duration": 4,
    "start_time": "2024-05-17T15:26:07.061Z"
   },
   {
    "duration": 9,
    "start_time": "2024-05-17T15:26:07.066Z"
   },
   {
    "duration": 447,
    "start_time": "2024-05-17T15:27:08.493Z"
   },
   {
    "duration": 1236,
    "start_time": "2024-05-17T15:27:15.036Z"
   },
   {
    "duration": 3,
    "start_time": "2024-05-17T15:27:16.274Z"
   },
   {
    "duration": 72,
    "start_time": "2024-05-17T15:27:16.278Z"
   },
   {
    "duration": 3,
    "start_time": "2024-05-17T15:27:16.351Z"
   },
   {
    "duration": 10,
    "start_time": "2024-05-17T15:27:16.355Z"
   },
   {
    "duration": 8,
    "start_time": "2024-05-17T15:27:16.366Z"
   },
   {
    "duration": 196,
    "start_time": "2024-05-17T15:27:16.375Z"
   },
   {
    "duration": 114,
    "start_time": "2024-05-17T15:27:16.572Z"
   },
   {
    "duration": 0,
    "start_time": "2024-05-17T15:27:16.688Z"
   },
   {
    "duration": 0,
    "start_time": "2024-05-17T15:27:16.689Z"
   },
   {
    "duration": 0,
    "start_time": "2024-05-17T15:27:16.690Z"
   },
   {
    "duration": 0,
    "start_time": "2024-05-17T15:27:16.691Z"
   },
   {
    "duration": 0,
    "start_time": "2024-05-17T15:27:16.692Z"
   },
   {
    "duration": 0,
    "start_time": "2024-05-17T15:27:16.693Z"
   },
   {
    "duration": 0,
    "start_time": "2024-05-17T15:27:16.694Z"
   },
   {
    "duration": 0,
    "start_time": "2024-05-17T15:27:16.695Z"
   },
   {
    "duration": 0,
    "start_time": "2024-05-17T15:27:16.696Z"
   },
   {
    "duration": 0,
    "start_time": "2024-05-17T15:27:16.697Z"
   },
   {
    "duration": 0,
    "start_time": "2024-05-17T15:27:16.698Z"
   },
   {
    "duration": 5,
    "start_time": "2024-05-17T15:27:29.818Z"
   },
   {
    "duration": 1199,
    "start_time": "2024-05-17T15:27:35.247Z"
   },
   {
    "duration": 3,
    "start_time": "2024-05-17T15:27:36.447Z"
   },
   {
    "duration": 48,
    "start_time": "2024-05-17T15:27:36.451Z"
   },
   {
    "duration": 3,
    "start_time": "2024-05-17T15:27:36.500Z"
   },
   {
    "duration": 21,
    "start_time": "2024-05-17T15:27:36.505Z"
   },
   {
    "duration": 13,
    "start_time": "2024-05-17T15:27:36.528Z"
   },
   {
    "duration": 229,
    "start_time": "2024-05-17T15:27:36.542Z"
   },
   {
    "duration": 13,
    "start_time": "2024-05-17T15:27:36.773Z"
   },
   {
    "duration": 813,
    "start_time": "2024-05-17T15:27:36.788Z"
   },
   {
    "duration": 8,
    "start_time": "2024-05-17T15:27:37.602Z"
   },
   {
    "duration": 5,
    "start_time": "2024-05-17T15:27:37.611Z"
   },
   {
    "duration": 5,
    "start_time": "2024-05-17T15:27:37.617Z"
   },
   {
    "duration": 5,
    "start_time": "2024-05-17T15:27:37.623Z"
   },
   {
    "duration": 4,
    "start_time": "2024-05-17T15:27:37.630Z"
   },
   {
    "duration": 4,
    "start_time": "2024-05-17T15:27:37.636Z"
   },
   {
    "duration": 4,
    "start_time": "2024-05-17T15:27:37.642Z"
   },
   {
    "duration": 9,
    "start_time": "2024-05-17T15:27:37.647Z"
   },
   {
    "duration": 5,
    "start_time": "2024-05-17T15:27:37.658Z"
   },
   {
    "duration": 8,
    "start_time": "2024-05-17T15:27:37.664Z"
   },
   {
    "duration": 8,
    "start_time": "2024-05-17T15:28:28.763Z"
   },
   {
    "duration": 4,
    "start_time": "2024-05-17T15:29:07.952Z"
   },
   {
    "duration": 4,
    "start_time": "2024-05-17T15:29:53.693Z"
   },
   {
    "duration": 1176,
    "start_time": "2024-05-17T15:34:03.275Z"
   },
   {
    "duration": 3,
    "start_time": "2024-05-17T15:34:04.453Z"
   },
   {
    "duration": 68,
    "start_time": "2024-05-17T15:34:04.458Z"
   },
   {
    "duration": 2,
    "start_time": "2024-05-17T15:34:04.528Z"
   },
   {
    "duration": 11,
    "start_time": "2024-05-17T15:34:04.531Z"
   },
   {
    "duration": 6,
    "start_time": "2024-05-17T15:34:04.543Z"
   },
   {
    "duration": 193,
    "start_time": "2024-05-17T15:34:04.550Z"
   },
   {
    "duration": 6,
    "start_time": "2024-05-17T15:34:04.744Z"
   },
   {
    "duration": 818,
    "start_time": "2024-05-17T15:34:04.751Z"
   },
   {
    "duration": 8,
    "start_time": "2024-05-17T15:34:05.570Z"
   },
   {
    "duration": 35,
    "start_time": "2024-05-17T15:34:05.580Z"
   },
   {
    "duration": 6,
    "start_time": "2024-05-17T15:34:05.616Z"
   },
   {
    "duration": 7,
    "start_time": "2024-05-17T15:34:05.625Z"
   },
   {
    "duration": 8,
    "start_time": "2024-05-17T15:34:05.633Z"
   },
   {
    "duration": 30,
    "start_time": "2024-05-17T15:34:05.642Z"
   },
   {
    "duration": 19,
    "start_time": "2024-05-17T15:34:05.674Z"
   },
   {
    "duration": 19,
    "start_time": "2024-05-17T15:34:05.694Z"
   },
   {
    "duration": 30,
    "start_time": "2024-05-17T15:34:05.714Z"
   },
   {
    "duration": 5,
    "start_time": "2024-05-17T15:34:05.745Z"
   },
   {
    "duration": 3,
    "start_time": "2024-05-17T15:34:05.784Z"
   },
   {
    "duration": 11,
    "start_time": "2024-05-17T15:34:05.790Z"
   },
   {
    "duration": 13,
    "start_time": "2024-05-17T15:34:05.802Z"
   },
   {
    "duration": 1234,
    "start_time": "2024-05-17T15:34:16.717Z"
   },
   {
    "duration": 3,
    "start_time": "2024-05-17T15:34:17.952Z"
   },
   {
    "duration": 61,
    "start_time": "2024-05-17T15:34:17.957Z"
   },
   {
    "duration": 2,
    "start_time": "2024-05-17T15:34:18.020Z"
   },
   {
    "duration": 21,
    "start_time": "2024-05-17T15:34:18.024Z"
   },
   {
    "duration": 39,
    "start_time": "2024-05-17T15:34:18.046Z"
   },
   {
    "duration": 237,
    "start_time": "2024-05-17T15:34:18.086Z"
   },
   {
    "duration": 6,
    "start_time": "2024-05-17T15:34:18.324Z"
   },
   {
    "duration": 834,
    "start_time": "2024-05-17T15:34:18.331Z"
   },
   {
    "duration": 10,
    "start_time": "2024-05-17T15:34:19.167Z"
   },
   {
    "duration": 38,
    "start_time": "2024-05-17T15:34:19.178Z"
   },
   {
    "duration": 23,
    "start_time": "2024-05-17T15:34:19.217Z"
   },
   {
    "duration": 14,
    "start_time": "2024-05-17T15:34:19.241Z"
   },
   {
    "duration": 24,
    "start_time": "2024-05-17T15:34:19.257Z"
   },
   {
    "duration": 36,
    "start_time": "2024-05-17T15:34:19.283Z"
   },
   {
    "duration": 19,
    "start_time": "2024-05-17T15:34:19.320Z"
   },
   {
    "duration": 5,
    "start_time": "2024-05-17T15:34:19.341Z"
   },
   {
    "duration": 26,
    "start_time": "2024-05-17T15:34:19.348Z"
   },
   {
    "duration": 53,
    "start_time": "2024-05-17T15:34:19.375Z"
   },
   {
    "duration": 12,
    "start_time": "2024-05-17T15:34:19.430Z"
   },
   {
    "duration": 6,
    "start_time": "2024-05-17T15:34:19.443Z"
   },
   {
    "duration": 35,
    "start_time": "2024-05-17T15:34:19.450Z"
   },
   {
    "duration": 1270,
    "start_time": "2024-05-17T15:34:27.574Z"
   },
   {
    "duration": 3,
    "start_time": "2024-05-17T15:34:28.846Z"
   },
   {
    "duration": 56,
    "start_time": "2024-05-17T15:34:28.850Z"
   },
   {
    "duration": 3,
    "start_time": "2024-05-17T15:34:28.908Z"
   },
   {
    "duration": 9,
    "start_time": "2024-05-17T15:34:28.913Z"
   },
   {
    "duration": 6,
    "start_time": "2024-05-17T15:34:28.923Z"
   },
   {
    "duration": 279,
    "start_time": "2024-05-17T15:34:28.930Z"
   },
   {
    "duration": 6,
    "start_time": "2024-05-17T15:34:29.210Z"
   },
   {
    "duration": 888,
    "start_time": "2024-05-17T15:34:29.217Z"
   },
   {
    "duration": 6,
    "start_time": "2024-05-17T15:34:30.107Z"
   },
   {
    "duration": 64,
    "start_time": "2024-05-17T15:34:30.114Z"
   },
   {
    "duration": 178,
    "start_time": "2024-05-17T15:34:30.180Z"
   },
   {
    "duration": 349,
    "start_time": "2024-05-17T15:34:30.359Z"
   },
   {
    "duration": 459,
    "start_time": "2024-05-17T15:34:30.711Z"
   },
   {
    "duration": 186,
    "start_time": "2024-05-17T15:34:31.171Z"
   },
   {
    "duration": 117,
    "start_time": "2024-05-17T15:34:31.358Z"
   },
   {
    "duration": 71,
    "start_time": "2024-05-17T15:34:31.476Z"
   },
   {
    "duration": 146,
    "start_time": "2024-05-17T15:34:31.548Z"
   },
   {
    "duration": 158,
    "start_time": "2024-05-17T15:34:31.695Z"
   },
   {
    "duration": 77,
    "start_time": "2024-05-17T15:34:31.855Z"
   },
   {
    "duration": 21,
    "start_time": "2024-05-17T15:34:31.933Z"
   },
   {
    "duration": 28,
    "start_time": "2024-05-17T15:34:31.955Z"
   },
   {
    "duration": 1167,
    "start_time": "2024-05-17T15:34:40.887Z"
   },
   {
    "duration": 3,
    "start_time": "2024-05-17T15:34:42.055Z"
   },
   {
    "duration": 134,
    "start_time": "2024-05-17T15:34:42.059Z"
   },
   {
    "duration": 3,
    "start_time": "2024-05-17T15:34:42.195Z"
   },
   {
    "duration": 11,
    "start_time": "2024-05-17T15:34:42.201Z"
   },
   {
    "duration": 146,
    "start_time": "2024-05-17T15:34:42.213Z"
   },
   {
    "duration": 199,
    "start_time": "2024-05-17T15:34:42.360Z"
   },
   {
    "duration": 6,
    "start_time": "2024-05-17T15:34:42.560Z"
   },
   {
    "duration": 834,
    "start_time": "2024-05-17T15:34:42.567Z"
   },
   {
    "duration": 9,
    "start_time": "2024-05-17T15:34:43.403Z"
   },
   {
    "duration": 10,
    "start_time": "2024-05-17T15:34:43.413Z"
   },
   {
    "duration": 10,
    "start_time": "2024-05-17T15:34:43.424Z"
   },
   {
    "duration": 11,
    "start_time": "2024-05-17T15:34:43.435Z"
   },
   {
    "duration": 3,
    "start_time": "2024-05-17T15:34:43.448Z"
   },
   {
    "duration": 4,
    "start_time": "2024-05-17T15:34:43.452Z"
   },
   {
    "duration": 9,
    "start_time": "2024-05-17T15:34:43.457Z"
   },
   {
    "duration": 23,
    "start_time": "2024-05-17T15:34:43.467Z"
   },
   {
    "duration": 6,
    "start_time": "2024-05-17T15:34:43.491Z"
   },
   {
    "duration": 6,
    "start_time": "2024-05-17T15:34:43.498Z"
   },
   {
    "duration": 4,
    "start_time": "2024-05-17T15:34:43.505Z"
   },
   {
    "duration": 4,
    "start_time": "2024-05-17T15:34:43.511Z"
   },
   {
    "duration": 69,
    "start_time": "2024-05-17T15:34:43.516Z"
   },
   {
    "duration": 4,
    "start_time": "2024-05-17T15:35:47.523Z"
   },
   {
    "duration": 96,
    "start_time": "2024-05-17T15:36:00.513Z"
   },
   {
    "duration": 4,
    "start_time": "2024-05-17T15:36:05.894Z"
   },
   {
    "duration": 4,
    "start_time": "2024-05-17T15:36:13.419Z"
   },
   {
    "duration": 1210,
    "start_time": "2024-05-17T15:36:27.577Z"
   },
   {
    "duration": 3,
    "start_time": "2024-05-17T15:36:28.789Z"
   },
   {
    "duration": 50,
    "start_time": "2024-05-17T15:36:28.793Z"
   },
   {
    "duration": 3,
    "start_time": "2024-05-17T15:36:28.844Z"
   },
   {
    "duration": 25,
    "start_time": "2024-05-17T15:36:28.849Z"
   },
   {
    "duration": 13,
    "start_time": "2024-05-17T15:36:28.875Z"
   },
   {
    "duration": 196,
    "start_time": "2024-05-17T15:36:28.889Z"
   },
   {
    "duration": 5,
    "start_time": "2024-05-17T15:36:29.087Z"
   },
   {
    "duration": 804,
    "start_time": "2024-05-17T15:36:29.093Z"
   },
   {
    "duration": 9,
    "start_time": "2024-05-17T15:36:29.898Z"
   },
   {
    "duration": 13,
    "start_time": "2024-05-17T15:36:29.908Z"
   },
   {
    "duration": 11,
    "start_time": "2024-05-17T15:36:29.922Z"
   },
   {
    "duration": 13,
    "start_time": "2024-05-17T15:36:29.934Z"
   },
   {
    "duration": 6,
    "start_time": "2024-05-17T15:36:29.949Z"
   },
   {
    "duration": 7,
    "start_time": "2024-05-17T15:36:29.956Z"
   },
   {
    "duration": 4,
    "start_time": "2024-05-17T15:36:29.964Z"
   },
   {
    "duration": 9,
    "start_time": "2024-05-17T15:36:29.969Z"
   },
   {
    "duration": 4,
    "start_time": "2024-05-17T15:36:29.980Z"
   },
   {
    "duration": 14,
    "start_time": "2024-05-17T15:36:29.985Z"
   },
   {
    "duration": 4,
    "start_time": "2024-05-17T15:36:30.000Z"
   },
   {
    "duration": 4,
    "start_time": "2024-05-17T15:36:30.005Z"
   },
   {
    "duration": 27,
    "start_time": "2024-05-17T15:36:30.011Z"
   },
   {
    "duration": 110,
    "start_time": "2024-05-17T15:36:30.039Z"
   },
   {
    "duration": 71,
    "start_time": "2024-05-17T15:36:30.150Z"
   },
   {
    "duration": 335,
    "start_time": "2024-05-17T15:36:30.222Z"
   },
   {
    "duration": 1207,
    "start_time": "2024-05-17T15:36:50.937Z"
   },
   {
    "duration": 4,
    "start_time": "2024-05-17T15:36:52.147Z"
   },
   {
    "duration": 56,
    "start_time": "2024-05-17T15:36:52.153Z"
   },
   {
    "duration": 2,
    "start_time": "2024-05-17T15:36:52.211Z"
   },
   {
    "duration": 131,
    "start_time": "2024-05-17T15:36:52.216Z"
   },
   {
    "duration": 9,
    "start_time": "2024-05-17T15:36:52.348Z"
   },
   {
    "duration": 203,
    "start_time": "2024-05-17T15:36:52.358Z"
   },
   {
    "duration": 6,
    "start_time": "2024-05-17T15:36:52.563Z"
   },
   {
    "duration": 839,
    "start_time": "2024-05-17T15:36:52.570Z"
   },
   {
    "duration": 9,
    "start_time": "2024-05-17T15:36:53.411Z"
   },
   {
    "duration": 4,
    "start_time": "2024-05-17T15:36:53.421Z"
   },
   {
    "duration": 7,
    "start_time": "2024-05-17T15:36:53.426Z"
   },
   {
    "duration": 6,
    "start_time": "2024-05-17T15:36:53.434Z"
   },
   {
    "duration": 4,
    "start_time": "2024-05-17T15:36:53.442Z"
   },
   {
    "duration": 3,
    "start_time": "2024-05-17T15:36:53.447Z"
   },
   {
    "duration": 4,
    "start_time": "2024-05-17T15:36:53.452Z"
   },
   {
    "duration": 5,
    "start_time": "2024-05-17T15:36:53.458Z"
   },
   {
    "duration": 3,
    "start_time": "2024-05-17T15:36:53.465Z"
   },
   {
    "duration": 111,
    "start_time": "2024-05-17T15:36:53.469Z"
   },
   {
    "duration": 0,
    "start_time": "2024-05-17T15:36:53.584Z"
   },
   {
    "duration": 0,
    "start_time": "2024-05-17T15:36:53.585Z"
   },
   {
    "duration": 0,
    "start_time": "2024-05-17T15:36:53.586Z"
   },
   {
    "duration": 0,
    "start_time": "2024-05-17T15:36:53.587Z"
   },
   {
    "duration": 0,
    "start_time": "2024-05-17T15:36:53.587Z"
   },
   {
    "duration": 0,
    "start_time": "2024-05-17T15:36:53.588Z"
   },
   {
    "duration": 1207,
    "start_time": "2024-05-17T15:37:00.036Z"
   },
   {
    "duration": 2,
    "start_time": "2024-05-17T15:37:01.245Z"
   },
   {
    "duration": 215,
    "start_time": "2024-05-17T15:37:01.248Z"
   },
   {
    "duration": 2,
    "start_time": "2024-05-17T15:37:01.465Z"
   },
   {
    "duration": 27,
    "start_time": "2024-05-17T15:37:01.469Z"
   },
   {
    "duration": 41,
    "start_time": "2024-05-17T15:37:01.497Z"
   },
   {
    "duration": 271,
    "start_time": "2024-05-17T15:37:01.539Z"
   },
   {
    "duration": 8,
    "start_time": "2024-05-17T15:37:01.811Z"
   },
   {
    "duration": 832,
    "start_time": "2024-05-17T15:37:01.821Z"
   },
   {
    "duration": 10,
    "start_time": "2024-05-17T15:37:02.654Z"
   },
   {
    "duration": 5,
    "start_time": "2024-05-17T15:37:02.665Z"
   },
   {
    "duration": 14,
    "start_time": "2024-05-17T15:37:02.673Z"
   },
   {
    "duration": 6,
    "start_time": "2024-05-17T15:37:02.689Z"
   },
   {
    "duration": 4,
    "start_time": "2024-05-17T15:37:02.698Z"
   },
   {
    "duration": 7,
    "start_time": "2024-05-17T15:37:02.703Z"
   },
   {
    "duration": 18,
    "start_time": "2024-05-17T15:37:02.711Z"
   },
   {
    "duration": 11,
    "start_time": "2024-05-17T15:37:02.731Z"
   },
   {
    "duration": 9,
    "start_time": "2024-05-17T15:37:02.743Z"
   },
   {
    "duration": 10,
    "start_time": "2024-05-17T15:37:02.753Z"
   },
   {
    "duration": 5,
    "start_time": "2024-05-17T15:37:02.764Z"
   },
   {
    "duration": 14,
    "start_time": "2024-05-17T15:37:02.770Z"
   },
   {
    "duration": 9,
    "start_time": "2024-05-17T15:37:02.786Z"
   },
   {
    "duration": 10,
    "start_time": "2024-05-17T15:37:02.796Z"
   },
   {
    "duration": 14,
    "start_time": "2024-05-17T15:37:02.807Z"
   },
   {
    "duration": 8,
    "start_time": "2024-05-17T15:37:02.822Z"
   },
   {
    "duration": 1225,
    "start_time": "2024-05-17T15:38:57.154Z"
   },
   {
    "duration": 3,
    "start_time": "2024-05-17T15:38:58.381Z"
   },
   {
    "duration": 47,
    "start_time": "2024-05-17T15:38:58.385Z"
   },
   {
    "duration": 2,
    "start_time": "2024-05-17T15:38:58.433Z"
   },
   {
    "duration": 9,
    "start_time": "2024-05-17T15:38:58.437Z"
   },
   {
    "duration": 24,
    "start_time": "2024-05-17T15:38:58.448Z"
   },
   {
    "duration": 190,
    "start_time": "2024-05-17T15:38:58.473Z"
   },
   {
    "duration": 7,
    "start_time": "2024-05-17T15:38:58.664Z"
   },
   {
    "duration": 825,
    "start_time": "2024-05-17T15:38:58.672Z"
   },
   {
    "duration": 9,
    "start_time": "2024-05-17T15:38:59.498Z"
   },
   {
    "duration": 5,
    "start_time": "2024-05-17T15:38:59.508Z"
   },
   {
    "duration": 7,
    "start_time": "2024-05-17T15:38:59.514Z"
   },
   {
    "duration": 7,
    "start_time": "2024-05-17T15:38:59.522Z"
   },
   {
    "duration": 105,
    "start_time": "2024-05-17T15:38:59.531Z"
   },
   {
    "duration": 0,
    "start_time": "2024-05-17T15:38:59.638Z"
   },
   {
    "duration": 0,
    "start_time": "2024-05-17T15:38:59.639Z"
   },
   {
    "duration": 0,
    "start_time": "2024-05-17T15:38:59.639Z"
   },
   {
    "duration": 0,
    "start_time": "2024-05-17T15:38:59.640Z"
   },
   {
    "duration": 0,
    "start_time": "2024-05-17T15:38:59.641Z"
   },
   {
    "duration": 0,
    "start_time": "2024-05-17T15:38:59.641Z"
   },
   {
    "duration": 0,
    "start_time": "2024-05-17T15:38:59.642Z"
   },
   {
    "duration": 0,
    "start_time": "2024-05-17T15:38:59.643Z"
   },
   {
    "duration": 0,
    "start_time": "2024-05-17T15:38:59.643Z"
   },
   {
    "duration": 1162,
    "start_time": "2024-05-17T15:39:08.426Z"
   },
   {
    "duration": 3,
    "start_time": "2024-05-17T15:39:09.590Z"
   },
   {
    "duration": 90,
    "start_time": "2024-05-17T15:39:09.594Z"
   },
   {
    "duration": 3,
    "start_time": "2024-05-17T15:39:09.685Z"
   },
   {
    "duration": 44,
    "start_time": "2024-05-17T15:39:09.690Z"
   },
   {
    "duration": 16,
    "start_time": "2024-05-17T15:39:09.736Z"
   },
   {
    "duration": 203,
    "start_time": "2024-05-17T15:39:09.753Z"
   },
   {
    "duration": 6,
    "start_time": "2024-05-17T15:39:09.957Z"
   },
   {
    "duration": 808,
    "start_time": "2024-05-17T15:39:09.965Z"
   },
   {
    "duration": 9,
    "start_time": "2024-05-17T15:39:10.774Z"
   },
   {
    "duration": 24,
    "start_time": "2024-05-17T15:39:10.784Z"
   },
   {
    "duration": 9,
    "start_time": "2024-05-17T15:39:10.809Z"
   },
   {
    "duration": 13,
    "start_time": "2024-05-17T15:39:10.819Z"
   },
   {
    "duration": 3,
    "start_time": "2024-05-17T15:39:10.834Z"
   },
   {
    "duration": 19,
    "start_time": "2024-05-17T15:39:10.838Z"
   },
   {
    "duration": 12,
    "start_time": "2024-05-17T15:39:10.858Z"
   },
   {
    "duration": 12,
    "start_time": "2024-05-17T15:39:10.871Z"
   },
   {
    "duration": 3,
    "start_time": "2024-05-17T15:39:10.884Z"
   },
   {
    "duration": 0,
    "start_time": "2024-05-17T15:39:10.888Z"
   },
   {
    "duration": 0,
    "start_time": "2024-05-17T15:39:10.889Z"
   },
   {
    "duration": 0,
    "start_time": "2024-05-17T15:39:10.890Z"
   },
   {
    "duration": 1,
    "start_time": "2024-05-17T15:39:10.891Z"
   },
   {
    "duration": 0,
    "start_time": "2024-05-17T15:39:10.893Z"
   },
   {
    "duration": 1231,
    "start_time": "2024-05-17T15:39:19.850Z"
   },
   {
    "duration": 3,
    "start_time": "2024-05-17T15:39:21.082Z"
   },
   {
    "duration": 48,
    "start_time": "2024-05-17T15:39:21.086Z"
   },
   {
    "duration": 3,
    "start_time": "2024-05-17T15:39:21.135Z"
   },
   {
    "duration": 9,
    "start_time": "2024-05-17T15:39:21.139Z"
   },
   {
    "duration": 6,
    "start_time": "2024-05-17T15:39:21.149Z"
   },
   {
    "duration": 193,
    "start_time": "2024-05-17T15:39:21.156Z"
   },
   {
    "duration": 6,
    "start_time": "2024-05-17T15:39:21.351Z"
   },
   {
    "duration": 843,
    "start_time": "2024-05-17T15:39:21.359Z"
   },
   {
    "duration": 11,
    "start_time": "2024-05-17T15:39:22.204Z"
   },
   {
    "duration": 4,
    "start_time": "2024-05-17T15:39:22.216Z"
   },
   {
    "duration": 53,
    "start_time": "2024-05-17T15:39:22.222Z"
   },
   {
    "duration": 117,
    "start_time": "2024-05-17T15:39:22.276Z"
   },
   {
    "duration": 4,
    "start_time": "2024-05-17T15:39:22.395Z"
   },
   {
    "duration": 4,
    "start_time": "2024-05-17T15:39:22.400Z"
   },
   {
    "duration": 46,
    "start_time": "2024-05-17T15:39:22.405Z"
   },
   {
    "duration": 27,
    "start_time": "2024-05-17T15:39:22.452Z"
   },
   {
    "duration": 4,
    "start_time": "2024-05-17T15:39:22.481Z"
   },
   {
    "duration": 5,
    "start_time": "2024-05-17T15:39:22.486Z"
   },
   {
    "duration": 6,
    "start_time": "2024-05-17T15:39:22.492Z"
   },
   {
    "duration": 23,
    "start_time": "2024-05-17T15:39:22.499Z"
   },
   {
    "duration": 6,
    "start_time": "2024-05-17T15:39:22.523Z"
   },
   {
    "duration": 54,
    "start_time": "2024-05-17T15:39:22.531Z"
   },
   {
    "duration": 1323,
    "start_time": "2024-05-17T15:43:28.052Z"
   },
   {
    "duration": 3,
    "start_time": "2024-05-17T15:43:29.376Z"
   },
   {
    "duration": 94,
    "start_time": "2024-05-17T15:43:29.381Z"
   },
   {
    "duration": 3,
    "start_time": "2024-05-17T15:43:29.476Z"
   },
   {
    "duration": 10,
    "start_time": "2024-05-17T15:43:29.480Z"
   },
   {
    "duration": 6,
    "start_time": "2024-05-17T15:43:29.491Z"
   },
   {
    "duration": 5,
    "start_time": "2024-05-17T15:43:29.499Z"
   },
   {
    "duration": 220,
    "start_time": "2024-05-17T15:43:29.505Z"
   },
   {
    "duration": 6,
    "start_time": "2024-05-17T15:43:29.726Z"
   },
   {
    "duration": 852,
    "start_time": "2024-05-17T15:43:29.733Z"
   },
   {
    "duration": 9,
    "start_time": "2024-05-17T15:43:30.587Z"
   },
   {
    "duration": 165,
    "start_time": "2024-05-17T15:43:30.597Z"
   },
   {
    "duration": 69,
    "start_time": "2024-05-17T15:43:30.764Z"
   },
   {
    "duration": 39,
    "start_time": "2024-05-17T15:43:30.835Z"
   },
   {
    "duration": 71,
    "start_time": "2024-05-17T15:43:30.875Z"
   },
   {
    "duration": 41,
    "start_time": "2024-05-17T15:43:30.947Z"
   },
   {
    "duration": 54,
    "start_time": "2024-05-17T15:43:30.989Z"
   },
   {
    "duration": 37,
    "start_time": "2024-05-17T15:43:31.044Z"
   },
   {
    "duration": 36,
    "start_time": "2024-05-17T15:43:31.082Z"
   },
   {
    "duration": 18,
    "start_time": "2024-05-17T15:43:31.120Z"
   },
   {
    "duration": 45,
    "start_time": "2024-05-17T15:43:31.140Z"
   },
   {
    "duration": 13,
    "start_time": "2024-05-17T15:43:31.187Z"
   },
   {
    "duration": 50,
    "start_time": "2024-05-17T15:43:31.201Z"
   },
   {
    "duration": 31,
    "start_time": "2024-05-17T15:43:31.252Z"
   },
   {
    "duration": 101,
    "start_time": "2024-05-17T15:48:09.193Z"
   },
   {
    "duration": 3,
    "start_time": "2024-05-17T15:48:11.367Z"
   },
   {
    "duration": 1241,
    "start_time": "2024-05-17T15:48:15.005Z"
   },
   {
    "duration": 3,
    "start_time": "2024-05-17T15:48:16.248Z"
   },
   {
    "duration": 105,
    "start_time": "2024-05-17T15:48:16.252Z"
   },
   {
    "duration": 130,
    "start_time": "2024-05-17T15:48:16.359Z"
   },
   {
    "duration": 17,
    "start_time": "2024-05-17T15:48:16.491Z"
   },
   {
    "duration": 8,
    "start_time": "2024-05-17T15:48:16.510Z"
   },
   {
    "duration": 13,
    "start_time": "2024-05-17T15:48:16.519Z"
   },
   {
    "duration": 3,
    "start_time": "2024-05-17T15:48:16.533Z"
   },
   {
    "duration": 207,
    "start_time": "2024-05-17T15:48:16.537Z"
   },
   {
    "duration": 6,
    "start_time": "2024-05-17T15:48:16.745Z"
   },
   {
    "duration": 853,
    "start_time": "2024-05-17T15:48:16.752Z"
   },
   {
    "duration": 9,
    "start_time": "2024-05-17T15:48:17.606Z"
   },
   {
    "duration": 31,
    "start_time": "2024-05-17T15:48:17.616Z"
   },
   {
    "duration": 22,
    "start_time": "2024-05-17T15:48:17.650Z"
   },
   {
    "duration": 5,
    "start_time": "2024-05-17T15:48:17.674Z"
   },
   {
    "duration": 6,
    "start_time": "2024-05-17T15:48:17.680Z"
   },
   {
    "duration": 36,
    "start_time": "2024-05-17T15:48:17.687Z"
   },
   {
    "duration": 7,
    "start_time": "2024-05-17T15:48:17.725Z"
   },
   {
    "duration": 26,
    "start_time": "2024-05-17T15:48:17.734Z"
   },
   {
    "duration": 15,
    "start_time": "2024-05-17T15:48:17.762Z"
   },
   {
    "duration": 27,
    "start_time": "2024-05-17T15:48:17.778Z"
   },
   {
    "duration": 12,
    "start_time": "2024-05-17T15:48:17.807Z"
   },
   {
    "duration": 34,
    "start_time": "2024-05-17T15:48:17.820Z"
   },
   {
    "duration": 29,
    "start_time": "2024-05-17T15:48:17.856Z"
   },
   {
    "duration": 11,
    "start_time": "2024-05-17T15:48:17.886Z"
   },
   {
    "duration": 1224,
    "start_time": "2024-05-17T15:49:19.333Z"
   },
   {
    "duration": 3,
    "start_time": "2024-05-17T15:49:20.558Z"
   },
   {
    "duration": 68,
    "start_time": "2024-05-17T15:49:20.562Z"
   },
   {
    "duration": 3,
    "start_time": "2024-05-17T15:49:20.631Z"
   },
   {
    "duration": 51,
    "start_time": "2024-05-17T15:49:20.635Z"
   },
   {
    "duration": 18,
    "start_time": "2024-05-17T15:49:20.687Z"
   },
   {
    "duration": 36,
    "start_time": "2024-05-17T15:49:20.706Z"
   },
   {
    "duration": 17,
    "start_time": "2024-05-17T15:49:20.744Z"
   },
   {
    "duration": 9,
    "start_time": "2024-05-17T15:49:20.762Z"
   },
   {
    "duration": 220,
    "start_time": "2024-05-17T15:49:20.773Z"
   },
   {
    "duration": 5,
    "start_time": "2024-05-17T15:49:20.994Z"
   },
   {
    "duration": 825,
    "start_time": "2024-05-17T15:49:21.000Z"
   },
   {
    "duration": 9,
    "start_time": "2024-05-17T15:49:21.826Z"
   },
   {
    "duration": 41,
    "start_time": "2024-05-17T15:49:21.836Z"
   },
   {
    "duration": 39,
    "start_time": "2024-05-17T15:49:21.878Z"
   },
   {
    "duration": 23,
    "start_time": "2024-05-17T15:49:21.918Z"
   },
   {
    "duration": 37,
    "start_time": "2024-05-17T15:49:21.942Z"
   },
   {
    "duration": 13,
    "start_time": "2024-05-17T15:49:21.981Z"
   },
   {
    "duration": 32,
    "start_time": "2024-05-17T15:49:21.995Z"
   },
   {
    "duration": 26,
    "start_time": "2024-05-17T15:49:22.028Z"
   },
   {
    "duration": 10,
    "start_time": "2024-05-17T15:49:22.055Z"
   },
   {
    "duration": 31,
    "start_time": "2024-05-17T15:49:22.066Z"
   },
   {
    "duration": 72,
    "start_time": "2024-05-17T15:49:22.099Z"
   },
   {
    "duration": 25,
    "start_time": "2024-05-17T15:49:22.173Z"
   },
   {
    "duration": 12,
    "start_time": "2024-05-17T15:49:22.199Z"
   },
   {
    "duration": 8,
    "start_time": "2024-05-17T15:49:22.212Z"
   },
   {
    "duration": 10,
    "start_time": "2024-05-17T15:49:59.487Z"
   },
   {
    "duration": 10,
    "start_time": "2024-05-17T15:50:07.182Z"
   },
   {
    "duration": 41,
    "start_time": "2024-05-17T15:51:22.706Z"
   },
   {
    "duration": 10,
    "start_time": "2024-05-17T15:51:30.595Z"
   },
   {
    "duration": 6,
    "start_time": "2024-05-17T15:51:37.962Z"
   },
   {
    "duration": 163,
    "start_time": "2024-05-17T16:00:52.810Z"
   },
   {
    "duration": 152,
    "start_time": "2024-05-17T16:01:07.119Z"
   },
   {
    "duration": 151,
    "start_time": "2024-05-17T16:01:11.235Z"
   },
   {
    "duration": 160,
    "start_time": "2024-05-17T16:01:22.000Z"
   },
   {
    "duration": 157,
    "start_time": "2024-05-17T16:01:25.789Z"
   },
   {
    "duration": 102,
    "start_time": "2024-05-17T16:01:41.860Z"
   },
   {
    "duration": 7,
    "start_time": "2024-05-17T16:02:55.797Z"
   },
   {
    "duration": 3,
    "start_time": "2024-05-17T16:03:03.428Z"
   },
   {
    "duration": 2,
    "start_time": "2024-05-17T16:03:22.540Z"
   },
   {
    "duration": 4,
    "start_time": "2024-05-17T16:03:31.306Z"
   },
   {
    "duration": 187,
    "start_time": "2024-05-17T16:03:37.979Z"
   },
   {
    "duration": 132,
    "start_time": "2024-05-17T16:04:08.069Z"
   },
   {
    "duration": 127,
    "start_time": "2024-05-17T16:04:16.560Z"
   },
   {
    "duration": 154,
    "start_time": "2024-05-17T16:04:29.783Z"
   },
   {
    "duration": 153,
    "start_time": "2024-05-17T16:04:34.115Z"
   },
   {
    "duration": 9,
    "start_time": "2024-05-17T16:08:59.491Z"
   },
   {
    "duration": 1228,
    "start_time": "2024-05-17T16:09:17.407Z"
   },
   {
    "duration": 3,
    "start_time": "2024-05-17T16:09:18.637Z"
   },
   {
    "duration": 63,
    "start_time": "2024-05-17T16:09:18.641Z"
   },
   {
    "duration": 3,
    "start_time": "2024-05-17T16:09:18.706Z"
   },
   {
    "duration": 24,
    "start_time": "2024-05-17T16:09:18.711Z"
   },
   {
    "duration": 25,
    "start_time": "2024-05-17T16:09:18.737Z"
   },
   {
    "duration": 9,
    "start_time": "2024-05-17T16:09:18.763Z"
   },
   {
    "duration": 7,
    "start_time": "2024-05-17T16:09:18.773Z"
   },
   {
    "duration": 748,
    "start_time": "2024-05-17T16:09:18.781Z"
   },
   {
    "duration": 2,
    "start_time": "2024-05-17T16:09:19.531Z"
   },
   {
    "duration": 9,
    "start_time": "2024-05-17T16:09:19.534Z"
   },
   {
    "duration": 6,
    "start_time": "2024-05-17T16:09:19.545Z"
   },
   {
    "duration": 210,
    "start_time": "2024-05-17T16:09:19.552Z"
   },
   {
    "duration": 9,
    "start_time": "2024-05-17T16:09:19.764Z"
   },
   {
    "duration": 18,
    "start_time": "2024-05-17T16:09:19.774Z"
   },
   {
    "duration": 4,
    "start_time": "2024-05-17T16:09:19.793Z"
   },
   {
    "duration": 13,
    "start_time": "2024-05-17T16:09:19.798Z"
   },
   {
    "duration": 17,
    "start_time": "2024-05-17T16:09:19.812Z"
   },
   {
    "duration": 12,
    "start_time": "2024-05-17T16:09:19.830Z"
   },
   {
    "duration": 7,
    "start_time": "2024-05-17T16:09:19.843Z"
   },
   {
    "duration": 14,
    "start_time": "2024-05-17T16:09:19.851Z"
   },
   {
    "duration": 8,
    "start_time": "2024-05-17T16:09:19.866Z"
   },
   {
    "duration": 7,
    "start_time": "2024-05-17T16:09:19.875Z"
   },
   {
    "duration": 5,
    "start_time": "2024-05-17T16:09:19.883Z"
   },
   {
    "duration": 21,
    "start_time": "2024-05-17T16:09:19.890Z"
   },
   {
    "duration": 7,
    "start_time": "2024-05-17T16:09:19.912Z"
   },
   {
    "duration": 32,
    "start_time": "2024-05-17T16:09:19.920Z"
   },
   {
    "duration": 1228,
    "start_time": "2024-05-17T16:12:21.598Z"
   },
   {
    "duration": 3,
    "start_time": "2024-05-17T16:12:22.827Z"
   },
   {
    "duration": 62,
    "start_time": "2024-05-17T16:12:22.831Z"
   },
   {
    "duration": 2,
    "start_time": "2024-05-17T16:12:22.895Z"
   },
   {
    "duration": 19,
    "start_time": "2024-05-17T16:12:22.898Z"
   },
   {
    "duration": 28,
    "start_time": "2024-05-17T16:12:22.919Z"
   },
   {
    "duration": 7,
    "start_time": "2024-05-17T16:12:22.948Z"
   },
   {
    "duration": 12,
    "start_time": "2024-05-17T16:12:22.957Z"
   },
   {
    "duration": 763,
    "start_time": "2024-05-17T16:12:22.970Z"
   },
   {
    "duration": 2,
    "start_time": "2024-05-17T16:12:23.735Z"
   },
   {
    "duration": 22,
    "start_time": "2024-05-17T16:12:23.738Z"
   },
   {
    "duration": 11,
    "start_time": "2024-05-17T16:12:23.761Z"
   },
   {
    "duration": 195,
    "start_time": "2024-05-17T16:12:23.774Z"
   },
   {
    "duration": 15,
    "start_time": "2024-05-17T16:12:23.972Z"
   },
   {
    "duration": 11,
    "start_time": "2024-05-17T16:12:23.988Z"
   },
   {
    "duration": 6,
    "start_time": "2024-05-17T16:12:24.001Z"
   },
   {
    "duration": 7,
    "start_time": "2024-05-17T16:12:24.008Z"
   },
   {
    "duration": 23,
    "start_time": "2024-05-17T16:12:24.016Z"
   },
   {
    "duration": 16,
    "start_time": "2024-05-17T16:12:24.041Z"
   },
   {
    "duration": 5,
    "start_time": "2024-05-17T16:12:24.058Z"
   },
   {
    "duration": 12,
    "start_time": "2024-05-17T16:12:24.064Z"
   },
   {
    "duration": 4,
    "start_time": "2024-05-17T16:12:24.077Z"
   },
   {
    "duration": 10,
    "start_time": "2024-05-17T16:12:24.082Z"
   },
   {
    "duration": 35,
    "start_time": "2024-05-17T16:12:24.093Z"
   },
   {
    "duration": 16,
    "start_time": "2024-05-17T16:12:24.129Z"
   },
   {
    "duration": 7,
    "start_time": "2024-05-17T16:12:24.147Z"
   },
   {
    "duration": 3,
    "start_time": "2024-05-17T16:12:24.185Z"
   },
   {
    "duration": 3,
    "start_time": "2024-05-17T16:14:55.896Z"
   },
   {
    "duration": 2,
    "start_time": "2024-05-17T16:14:56.260Z"
   },
   {
    "duration": 149,
    "start_time": "2024-05-17T16:14:56.624Z"
   },
   {
    "duration": 147,
    "start_time": "2024-05-17T16:15:20.417Z"
   },
   {
    "duration": 148,
    "start_time": "2024-05-17T16:15:46.140Z"
   },
   {
    "duration": 1188,
    "start_time": "2024-05-17T16:16:08.941Z"
   },
   {
    "duration": 3,
    "start_time": "2024-05-17T16:16:10.130Z"
   },
   {
    "duration": 50,
    "start_time": "2024-05-17T16:16:10.134Z"
   },
   {
    "duration": 2,
    "start_time": "2024-05-17T16:16:10.185Z"
   },
   {
    "duration": 10,
    "start_time": "2024-05-17T16:16:10.189Z"
   },
   {
    "duration": 9,
    "start_time": "2024-05-17T16:16:10.200Z"
   },
   {
    "duration": 9,
    "start_time": "2024-05-17T16:16:10.210Z"
   },
   {
    "duration": 22,
    "start_time": "2024-05-17T16:16:10.220Z"
   },
   {
    "duration": 765,
    "start_time": "2024-05-17T16:16:10.244Z"
   },
   {
    "duration": 2,
    "start_time": "2024-05-17T16:16:11.011Z"
   },
   {
    "duration": 7,
    "start_time": "2024-05-17T16:16:11.014Z"
   },
   {
    "duration": 5,
    "start_time": "2024-05-17T16:16:11.022Z"
   },
   {
    "duration": 221,
    "start_time": "2024-05-17T16:16:11.028Z"
   },
   {
    "duration": 8,
    "start_time": "2024-05-17T16:16:11.252Z"
   },
   {
    "duration": 11,
    "start_time": "2024-05-17T16:16:11.261Z"
   },
   {
    "duration": 10,
    "start_time": "2024-05-17T16:16:11.274Z"
   },
   {
    "duration": 3,
    "start_time": "2024-05-17T16:16:11.285Z"
   },
   {
    "duration": 13,
    "start_time": "2024-05-17T16:16:11.289Z"
   },
   {
    "duration": 4,
    "start_time": "2024-05-17T16:16:11.303Z"
   },
   {
    "duration": 5,
    "start_time": "2024-05-17T16:16:11.308Z"
   },
   {
    "duration": 22,
    "start_time": "2024-05-17T16:16:11.314Z"
   },
   {
    "duration": 13,
    "start_time": "2024-05-17T16:16:11.337Z"
   },
   {
    "duration": 6,
    "start_time": "2024-05-17T16:16:11.351Z"
   },
   {
    "duration": 26,
    "start_time": "2024-05-17T16:16:11.358Z"
   },
   {
    "duration": 3,
    "start_time": "2024-05-17T16:16:11.386Z"
   },
   {
    "duration": 15,
    "start_time": "2024-05-17T16:16:11.390Z"
   },
   {
    "duration": 7,
    "start_time": "2024-05-17T16:16:11.406Z"
   },
   {
    "duration": 1131,
    "start_time": "2024-05-17T16:16:19.028Z"
   },
   {
    "duration": 3,
    "start_time": "2024-05-17T16:16:20.161Z"
   },
   {
    "duration": 73,
    "start_time": "2024-05-17T16:16:20.165Z"
   },
   {
    "duration": 3,
    "start_time": "2024-05-17T16:16:20.239Z"
   },
   {
    "duration": 27,
    "start_time": "2024-05-17T16:16:20.244Z"
   },
   {
    "duration": 40,
    "start_time": "2024-05-17T16:16:20.273Z"
   },
   {
    "duration": 54,
    "start_time": "2024-05-17T16:16:20.314Z"
   },
   {
    "duration": 85,
    "start_time": "2024-05-17T16:16:20.369Z"
   },
   {
    "duration": 834,
    "start_time": "2024-05-17T16:16:20.455Z"
   },
   {
    "duration": 2,
    "start_time": "2024-05-17T16:16:21.291Z"
   },
   {
    "duration": 32,
    "start_time": "2024-05-17T16:16:21.294Z"
   },
   {
    "duration": 49,
    "start_time": "2024-05-17T16:16:21.327Z"
   },
   {
    "duration": 241,
    "start_time": "2024-05-17T16:16:21.377Z"
   },
   {
    "duration": 8,
    "start_time": "2024-05-17T16:16:21.621Z"
   },
   {
    "duration": 15,
    "start_time": "2024-05-17T16:16:21.630Z"
   },
   {
    "duration": 81,
    "start_time": "2024-05-17T16:16:21.646Z"
   },
   {
    "duration": 28,
    "start_time": "2024-05-17T16:16:21.728Z"
   },
   {
    "duration": 19,
    "start_time": "2024-05-17T16:16:21.758Z"
   },
   {
    "duration": 27,
    "start_time": "2024-05-17T16:16:21.779Z"
   },
   {
    "duration": 17,
    "start_time": "2024-05-17T16:16:21.807Z"
   },
   {
    "duration": 28,
    "start_time": "2024-05-17T16:16:21.825Z"
   },
   {
    "duration": 23,
    "start_time": "2024-05-17T16:16:21.854Z"
   },
   {
    "duration": 27,
    "start_time": "2024-05-17T16:16:21.879Z"
   },
   {
    "duration": 40,
    "start_time": "2024-05-17T16:16:21.908Z"
   },
   {
    "duration": 36,
    "start_time": "2024-05-17T16:16:21.949Z"
   },
   {
    "duration": 8,
    "start_time": "2024-05-17T16:16:21.987Z"
   },
   {
    "duration": 46,
    "start_time": "2024-05-17T16:16:21.996Z"
   },
   {
    "duration": 101,
    "start_time": "2024-05-17T16:24:02.891Z"
   },
   {
    "duration": 1230,
    "start_time": "2024-05-17T16:24:14.056Z"
   },
   {
    "duration": 3,
    "start_time": "2024-05-17T16:24:15.288Z"
   },
   {
    "duration": 61,
    "start_time": "2024-05-17T16:24:15.294Z"
   },
   {
    "duration": 2,
    "start_time": "2024-05-17T16:24:15.357Z"
   },
   {
    "duration": 11,
    "start_time": "2024-05-17T16:24:15.361Z"
   },
   {
    "duration": 16,
    "start_time": "2024-05-17T16:24:15.373Z"
   },
   {
    "duration": 37,
    "start_time": "2024-05-17T16:24:15.390Z"
   },
   {
    "duration": 30,
    "start_time": "2024-05-17T16:24:15.428Z"
   },
   {
    "duration": 858,
    "start_time": "2024-05-17T16:24:15.459Z"
   },
   {
    "duration": 3,
    "start_time": "2024-05-17T16:24:16.318Z"
   },
   {
    "duration": 6,
    "start_time": "2024-05-17T16:24:16.322Z"
   },
   {
    "duration": 16,
    "start_time": "2024-05-17T16:24:16.329Z"
   },
   {
    "duration": 211,
    "start_time": "2024-05-17T16:24:16.347Z"
   },
   {
    "duration": 9,
    "start_time": "2024-05-17T16:24:16.561Z"
   },
   {
    "duration": 15,
    "start_time": "2024-05-17T16:24:16.571Z"
   },
   {
    "duration": 5,
    "start_time": "2024-05-17T16:24:16.587Z"
   },
   {
    "duration": 5,
    "start_time": "2024-05-17T16:24:16.593Z"
   },
   {
    "duration": 18,
    "start_time": "2024-05-17T16:24:16.599Z"
   },
   {
    "duration": 10,
    "start_time": "2024-05-17T16:24:16.619Z"
   },
   {
    "duration": 4,
    "start_time": "2024-05-17T16:24:16.630Z"
   },
   {
    "duration": 8,
    "start_time": "2024-05-17T16:24:16.635Z"
   },
   {
    "duration": 4,
    "start_time": "2024-05-17T16:24:16.644Z"
   },
   {
    "duration": 7,
    "start_time": "2024-05-17T16:24:16.649Z"
   },
   {
    "duration": 29,
    "start_time": "2024-05-17T16:24:16.657Z"
   },
   {
    "duration": 7,
    "start_time": "2024-05-17T16:24:16.687Z"
   },
   {
    "duration": 8,
    "start_time": "2024-05-17T16:24:16.696Z"
   },
   {
    "duration": 5,
    "start_time": "2024-05-17T16:24:16.706Z"
   },
   {
    "duration": 1268,
    "start_time": "2024-05-17T16:24:51.397Z"
   },
   {
    "duration": 3,
    "start_time": "2024-05-17T16:24:52.666Z"
   },
   {
    "duration": 77,
    "start_time": "2024-05-17T16:24:52.670Z"
   },
   {
    "duration": 3,
    "start_time": "2024-05-17T16:24:52.749Z"
   },
   {
    "duration": 25,
    "start_time": "2024-05-17T16:24:52.754Z"
   },
   {
    "duration": 14,
    "start_time": "2024-05-17T16:24:52.780Z"
   },
   {
    "duration": 7,
    "start_time": "2024-05-17T16:24:52.795Z"
   },
   {
    "duration": 105,
    "start_time": "2024-05-17T16:24:52.803Z"
   },
   {
    "duration": 0,
    "start_time": "2024-05-17T16:24:52.909Z"
   },
   {
    "duration": 0,
    "start_time": "2024-05-17T16:24:52.910Z"
   },
   {
    "duration": 0,
    "start_time": "2024-05-17T16:24:52.911Z"
   },
   {
    "duration": 0,
    "start_time": "2024-05-17T16:24:52.912Z"
   },
   {
    "duration": 0,
    "start_time": "2024-05-17T16:24:52.913Z"
   },
   {
    "duration": 0,
    "start_time": "2024-05-17T16:24:52.914Z"
   },
   {
    "duration": 0,
    "start_time": "2024-05-17T16:24:52.915Z"
   },
   {
    "duration": 0,
    "start_time": "2024-05-17T16:24:52.916Z"
   },
   {
    "duration": 0,
    "start_time": "2024-05-17T16:24:52.916Z"
   },
   {
    "duration": 0,
    "start_time": "2024-05-17T16:24:52.917Z"
   },
   {
    "duration": 0,
    "start_time": "2024-05-17T16:24:52.918Z"
   },
   {
    "duration": 0,
    "start_time": "2024-05-17T16:24:52.919Z"
   },
   {
    "duration": 0,
    "start_time": "2024-05-17T16:24:52.919Z"
   },
   {
    "duration": 0,
    "start_time": "2024-05-17T16:24:52.920Z"
   },
   {
    "duration": 0,
    "start_time": "2024-05-17T16:24:52.921Z"
   },
   {
    "duration": 0,
    "start_time": "2024-05-17T16:24:52.922Z"
   },
   {
    "duration": 0,
    "start_time": "2024-05-17T16:24:52.922Z"
   },
   {
    "duration": 0,
    "start_time": "2024-05-17T16:24:52.923Z"
   },
   {
    "duration": 0,
    "start_time": "2024-05-17T16:24:52.924Z"
   },
   {
    "duration": 1242,
    "start_time": "2024-05-17T16:25:01.849Z"
   },
   {
    "duration": 2,
    "start_time": "2024-05-17T16:25:03.093Z"
   },
   {
    "duration": 46,
    "start_time": "2024-05-17T16:25:03.099Z"
   },
   {
    "duration": 3,
    "start_time": "2024-05-17T16:25:03.147Z"
   },
   {
    "duration": 10,
    "start_time": "2024-05-17T16:25:03.152Z"
   },
   {
    "duration": 10,
    "start_time": "2024-05-17T16:25:03.164Z"
   },
   {
    "duration": 10,
    "start_time": "2024-05-17T16:25:03.176Z"
   },
   {
    "duration": 100,
    "start_time": "2024-05-17T16:25:03.187Z"
   },
   {
    "duration": 0,
    "start_time": "2024-05-17T16:25:03.289Z"
   },
   {
    "duration": 0,
    "start_time": "2024-05-17T16:25:03.289Z"
   },
   {
    "duration": 0,
    "start_time": "2024-05-17T16:25:03.290Z"
   },
   {
    "duration": 0,
    "start_time": "2024-05-17T16:25:03.291Z"
   },
   {
    "duration": 0,
    "start_time": "2024-05-17T16:25:03.292Z"
   },
   {
    "duration": 0,
    "start_time": "2024-05-17T16:25:03.293Z"
   },
   {
    "duration": 0,
    "start_time": "2024-05-17T16:25:03.293Z"
   },
   {
    "duration": 0,
    "start_time": "2024-05-17T16:25:03.294Z"
   },
   {
    "duration": 0,
    "start_time": "2024-05-17T16:25:03.295Z"
   },
   {
    "duration": 0,
    "start_time": "2024-05-17T16:25:03.295Z"
   },
   {
    "duration": 0,
    "start_time": "2024-05-17T16:25:03.296Z"
   },
   {
    "duration": 0,
    "start_time": "2024-05-17T16:25:03.297Z"
   },
   {
    "duration": 0,
    "start_time": "2024-05-17T16:25:03.298Z"
   },
   {
    "duration": 0,
    "start_time": "2024-05-17T16:25:03.298Z"
   },
   {
    "duration": 0,
    "start_time": "2024-05-17T16:25:03.299Z"
   },
   {
    "duration": 0,
    "start_time": "2024-05-17T16:25:03.300Z"
   },
   {
    "duration": 0,
    "start_time": "2024-05-17T16:25:03.301Z"
   },
   {
    "duration": 0,
    "start_time": "2024-05-17T16:25:03.302Z"
   },
   {
    "duration": 0,
    "start_time": "2024-05-17T16:25:03.302Z"
   },
   {
    "duration": 10,
    "start_time": "2024-05-17T16:25:24.472Z"
   },
   {
    "duration": 1275,
    "start_time": "2024-05-17T16:25:48.837Z"
   },
   {
    "duration": 3,
    "start_time": "2024-05-17T16:25:50.114Z"
   },
   {
    "duration": 50,
    "start_time": "2024-05-17T16:25:50.118Z"
   },
   {
    "duration": 3,
    "start_time": "2024-05-17T16:25:50.169Z"
   },
   {
    "duration": 9,
    "start_time": "2024-05-17T16:25:50.173Z"
   },
   {
    "duration": 11,
    "start_time": "2024-05-17T16:25:50.183Z"
   },
   {
    "duration": 5,
    "start_time": "2024-05-17T16:25:50.195Z"
   },
   {
    "duration": 8,
    "start_time": "2024-05-17T16:25:50.202Z"
   },
   {
    "duration": 5,
    "start_time": "2024-05-17T16:25:50.211Z"
   },
   {
    "duration": 784,
    "start_time": "2024-05-17T16:25:50.217Z"
   },
   {
    "duration": 2,
    "start_time": "2024-05-17T16:25:51.002Z"
   },
   {
    "duration": 4,
    "start_time": "2024-05-17T16:25:51.005Z"
   },
   {
    "duration": 3,
    "start_time": "2024-05-17T16:25:51.011Z"
   },
   {
    "duration": 199,
    "start_time": "2024-05-17T16:25:51.016Z"
   },
   {
    "duration": 9,
    "start_time": "2024-05-17T16:25:51.216Z"
   },
   {
    "duration": 6,
    "start_time": "2024-05-17T16:25:51.226Z"
   },
   {
    "duration": 18,
    "start_time": "2024-05-17T16:25:51.233Z"
   },
   {
    "duration": 5,
    "start_time": "2024-05-17T16:25:51.253Z"
   },
   {
    "duration": 15,
    "start_time": "2024-05-17T16:25:51.260Z"
   },
   {
    "duration": 6,
    "start_time": "2024-05-17T16:25:51.276Z"
   },
   {
    "duration": 8,
    "start_time": "2024-05-17T16:25:51.283Z"
   },
   {
    "duration": 8,
    "start_time": "2024-05-17T16:25:51.292Z"
   },
   {
    "duration": 7,
    "start_time": "2024-05-17T16:25:51.301Z"
   },
   {
    "duration": 14,
    "start_time": "2024-05-17T16:25:51.310Z"
   },
   {
    "duration": 3,
    "start_time": "2024-05-17T16:25:51.325Z"
   },
   {
    "duration": 13,
    "start_time": "2024-05-17T16:25:51.329Z"
   },
   {
    "duration": 42,
    "start_time": "2024-05-17T16:25:51.343Z"
   },
   {
    "duration": 5,
    "start_time": "2024-05-17T16:25:51.386Z"
   },
   {
    "duration": 3310,
    "start_time": "2024-05-17T23:13:07.056Z"
   },
   {
    "duration": 26,
    "start_time": "2024-05-17T23:13:22.958Z"
   },
   {
    "duration": 6,
    "start_time": "2024-05-17T23:13:41.285Z"
   },
   {
    "duration": 4,
    "start_time": "2024-05-17T23:13:59.260Z"
   },
   {
    "duration": 19,
    "start_time": "2024-05-17T23:14:14.929Z"
   },
   {
    "duration": 5,
    "start_time": "2024-05-17T23:14:45.396Z"
   },
   {
    "duration": 3,
    "start_time": "2024-05-17T23:15:11.059Z"
   },
   {
    "duration": 1395,
    "start_time": "2024-05-18T14:45:01.496Z"
   },
   {
    "duration": 3248,
    "start_time": "2024-05-18T14:45:02.892Z"
   },
   {
    "duration": 3,
    "start_time": "2024-05-18T14:45:06.141Z"
   },
   {
    "duration": 6,
    "start_time": "2024-05-18T14:45:06.145Z"
   },
   {
    "duration": 182,
    "start_time": "2024-05-18T14:45:06.153Z"
   },
   {
    "duration": 3,
    "start_time": "2024-05-18T14:45:06.336Z"
   },
   {
    "duration": 15,
    "start_time": "2024-05-18T14:45:06.340Z"
   },
   {
    "duration": 11,
    "start_time": "2024-05-18T14:45:06.357Z"
   },
   {
    "duration": 8,
    "start_time": "2024-05-18T14:45:06.370Z"
   },
   {
    "duration": 9,
    "start_time": "2024-05-18T14:45:06.379Z"
   },
   {
    "duration": 6,
    "start_time": "2024-05-18T14:45:06.389Z"
   },
   {
    "duration": 881,
    "start_time": "2024-05-18T14:45:06.396Z"
   },
   {
    "duration": 2,
    "start_time": "2024-05-18T14:45:07.279Z"
   },
   {
    "duration": 15,
    "start_time": "2024-05-18T14:45:07.283Z"
   },
   {
    "duration": 6,
    "start_time": "2024-05-18T14:45:07.300Z"
   },
   {
    "duration": 164,
    "start_time": "2024-05-18T14:45:07.307Z"
   },
   {
    "duration": 13,
    "start_time": "2024-05-18T14:45:07.473Z"
   },
   {
    "duration": 46,
    "start_time": "2024-05-18T14:45:07.487Z"
   },
   {
    "duration": 8,
    "start_time": "2024-05-18T14:45:07.534Z"
   },
   {
    "duration": 14,
    "start_time": "2024-05-18T14:45:07.544Z"
   },
   {
    "duration": 12,
    "start_time": "2024-05-18T14:45:07.559Z"
   },
   {
    "duration": 14,
    "start_time": "2024-05-18T14:45:07.572Z"
   },
   {
    "duration": 9,
    "start_time": "2024-05-18T14:45:07.588Z"
   },
   {
    "duration": 87,
    "start_time": "2024-05-18T14:45:07.598Z"
   },
   {
    "duration": 4,
    "start_time": "2024-05-18T14:45:07.687Z"
   },
   {
    "duration": 97,
    "start_time": "2024-05-18T14:45:07.693Z"
   },
   {
    "duration": 57,
    "start_time": "2024-05-18T14:45:07.792Z"
   },
   {
    "duration": 70,
    "start_time": "2024-05-18T14:45:07.850Z"
   },
   {
    "duration": 9,
    "start_time": "2024-05-18T14:45:07.921Z"
   },
   {
    "duration": 5,
    "start_time": "2024-05-18T14:45:07.931Z"
   },
   {
    "duration": 1268,
    "start_time": "2024-05-18T14:45:20.292Z"
   },
   {
    "duration": 2428,
    "start_time": "2024-05-18T14:45:21.562Z"
   },
   {
    "duration": 3,
    "start_time": "2024-05-18T14:45:23.993Z"
   },
   {
    "duration": 36,
    "start_time": "2024-05-18T14:45:23.997Z"
   },
   {
    "duration": 75,
    "start_time": "2024-05-18T14:45:24.034Z"
   },
   {
    "duration": 3,
    "start_time": "2024-05-18T14:45:24.110Z"
   },
   {
    "duration": 10,
    "start_time": "2024-05-18T14:45:24.114Z"
   },
   {
    "duration": 10,
    "start_time": "2024-05-18T14:45:24.125Z"
   },
   {
    "duration": 8,
    "start_time": "2024-05-18T14:45:24.136Z"
   },
   {
    "duration": 9,
    "start_time": "2024-05-18T14:45:24.145Z"
   },
   {
    "duration": 8,
    "start_time": "2024-05-18T14:45:24.155Z"
   },
   {
    "duration": 917,
    "start_time": "2024-05-18T14:45:24.164Z"
   },
   {
    "duration": 2,
    "start_time": "2024-05-18T14:45:25.085Z"
   },
   {
    "duration": 6,
    "start_time": "2024-05-18T14:45:25.089Z"
   },
   {
    "duration": 13,
    "start_time": "2024-05-18T14:45:25.096Z"
   },
   {
    "duration": 161,
    "start_time": "2024-05-18T14:45:25.110Z"
   },
   {
    "duration": 17,
    "start_time": "2024-05-18T14:45:25.272Z"
   },
   {
    "duration": 5,
    "start_time": "2024-05-18T14:45:25.290Z"
   },
   {
    "duration": 7,
    "start_time": "2024-05-18T14:45:25.296Z"
   },
   {
    "duration": 3,
    "start_time": "2024-05-18T14:45:25.304Z"
   },
   {
    "duration": 9,
    "start_time": "2024-05-18T14:45:25.308Z"
   },
   {
    "duration": 46,
    "start_time": "2024-05-18T14:45:25.318Z"
   },
   {
    "duration": 7,
    "start_time": "2024-05-18T14:45:25.365Z"
   },
   {
    "duration": 37,
    "start_time": "2024-05-18T14:45:25.373Z"
   },
   {
    "duration": 5,
    "start_time": "2024-05-18T14:45:25.485Z"
   },
   {
    "duration": 108,
    "start_time": "2024-05-18T14:45:25.491Z"
   },
   {
    "duration": 4,
    "start_time": "2024-05-18T14:45:25.600Z"
   },
   {
    "duration": 4,
    "start_time": "2024-05-18T14:45:25.605Z"
   },
   {
    "duration": 4,
    "start_time": "2024-05-18T14:45:25.610Z"
   },
   {
    "duration": 5,
    "start_time": "2024-05-18T14:45:25.615Z"
   },
   {
    "duration": 1272,
    "start_time": "2024-05-18T14:45:36.953Z"
   },
   {
    "duration": 2367,
    "start_time": "2024-05-18T14:45:38.227Z"
   },
   {
    "duration": 3,
    "start_time": "2024-05-18T14:45:40.597Z"
   },
   {
    "duration": 4,
    "start_time": "2024-05-18T14:45:40.602Z"
   },
   {
    "duration": 47,
    "start_time": "2024-05-18T14:45:40.608Z"
   },
   {
    "duration": 2,
    "start_time": "2024-05-18T14:45:40.656Z"
   },
   {
    "duration": 10,
    "start_time": "2024-05-18T14:45:40.660Z"
   },
   {
    "duration": 10,
    "start_time": "2024-05-18T14:45:40.671Z"
   },
   {
    "duration": 7,
    "start_time": "2024-05-18T14:45:40.682Z"
   },
   {
    "duration": 13,
    "start_time": "2024-05-18T14:45:40.690Z"
   },
   {
    "duration": 13,
    "start_time": "2024-05-18T14:45:40.705Z"
   },
   {
    "duration": 866,
    "start_time": "2024-05-18T14:45:40.719Z"
   },
   {
    "duration": 3,
    "start_time": "2024-05-18T14:45:41.587Z"
   },
   {
    "duration": 13,
    "start_time": "2024-05-18T14:45:41.591Z"
   },
   {
    "duration": 3,
    "start_time": "2024-05-18T14:45:41.605Z"
   },
   {
    "duration": 152,
    "start_time": "2024-05-18T14:45:41.610Z"
   },
   {
    "duration": 8,
    "start_time": "2024-05-18T14:45:41.763Z"
   },
   {
    "duration": 18,
    "start_time": "2024-05-18T14:45:41.773Z"
   },
   {
    "duration": 4,
    "start_time": "2024-05-18T14:45:41.793Z"
   },
   {
    "duration": 8,
    "start_time": "2024-05-18T14:45:41.798Z"
   },
   {
    "duration": 35,
    "start_time": "2024-05-18T14:45:41.807Z"
   },
   {
    "duration": 60,
    "start_time": "2024-05-18T14:45:41.843Z"
   },
   {
    "duration": 10,
    "start_time": "2024-05-18T14:45:41.904Z"
   },
   {
    "duration": 12,
    "start_time": "2024-05-18T14:45:41.916Z"
   },
   {
    "duration": 7,
    "start_time": "2024-05-18T14:45:41.928Z"
   },
   {
    "duration": 4,
    "start_time": "2024-05-18T14:45:41.985Z"
   },
   {
    "duration": 4,
    "start_time": "2024-05-18T14:45:41.990Z"
   },
   {
    "duration": 3,
    "start_time": "2024-05-18T14:45:42.085Z"
   },
   {
    "duration": 5,
    "start_time": "2024-05-18T14:45:42.090Z"
   },
   {
    "duration": 7,
    "start_time": "2024-05-18T14:45:42.096Z"
   },
   {
    "duration": 1249,
    "start_time": "2024-05-18T14:45:53.778Z"
   },
   {
    "duration": 2377,
    "start_time": "2024-05-18T14:45:55.029Z"
   },
   {
    "duration": 2,
    "start_time": "2024-05-18T14:45:57.408Z"
   },
   {
    "duration": 49,
    "start_time": "2024-05-18T14:45:57.411Z"
   },
   {
    "duration": 89,
    "start_time": "2024-05-18T14:45:57.462Z"
   },
   {
    "duration": 3,
    "start_time": "2024-05-18T14:45:57.552Z"
   },
   {
    "duration": 10,
    "start_time": "2024-05-18T14:45:57.556Z"
   },
   {
    "duration": 11,
    "start_time": "2024-05-18T14:45:57.567Z"
   },
   {
    "duration": 7,
    "start_time": "2024-05-18T14:45:57.579Z"
   },
   {
    "duration": 9,
    "start_time": "2024-05-18T14:45:57.587Z"
   },
   {
    "duration": 6,
    "start_time": "2024-05-18T14:45:57.597Z"
   },
   {
    "duration": 889,
    "start_time": "2024-05-18T14:45:57.604Z"
   },
   {
    "duration": 2,
    "start_time": "2024-05-18T14:45:58.495Z"
   },
   {
    "duration": 6,
    "start_time": "2024-05-18T14:45:58.499Z"
   },
   {
    "duration": 4,
    "start_time": "2024-05-18T14:45:58.506Z"
   },
   {
    "duration": 149,
    "start_time": "2024-05-18T14:45:58.511Z"
   },
   {
    "duration": 7,
    "start_time": "2024-05-18T14:45:58.661Z"
   },
   {
    "duration": 8,
    "start_time": "2024-05-18T14:45:58.669Z"
   },
   {
    "duration": 8,
    "start_time": "2024-05-18T14:45:58.678Z"
   },
   {
    "duration": 4,
    "start_time": "2024-05-18T14:45:58.687Z"
   },
   {
    "duration": 8,
    "start_time": "2024-05-18T14:45:58.692Z"
   },
   {
    "duration": 10,
    "start_time": "2024-05-18T14:45:58.701Z"
   },
   {
    "duration": 3,
    "start_time": "2024-05-18T14:45:58.712Z"
   },
   {
    "duration": 7,
    "start_time": "2024-05-18T14:45:58.717Z"
   },
   {
    "duration": 58,
    "start_time": "2024-05-18T14:45:58.726Z"
   },
   {
    "duration": 6,
    "start_time": "2024-05-18T14:45:58.786Z"
   },
   {
    "duration": 101,
    "start_time": "2024-05-18T14:45:58.793Z"
   },
   {
    "duration": 6,
    "start_time": "2024-05-18T14:45:58.896Z"
   },
   {
    "duration": 4,
    "start_time": "2024-05-18T14:45:58.903Z"
   },
   {
    "duration": 6,
    "start_time": "2024-05-18T14:45:58.909Z"
   },
   {
    "duration": 1217,
    "start_time": "2024-05-18T14:46:06.777Z"
   },
   {
    "duration": 2375,
    "start_time": "2024-05-18T14:46:07.995Z"
   },
   {
    "duration": 2,
    "start_time": "2024-05-18T14:46:10.372Z"
   },
   {
    "duration": 22,
    "start_time": "2024-05-18T14:46:10.375Z"
   },
   {
    "duration": 52,
    "start_time": "2024-05-18T14:46:10.399Z"
   },
   {
    "duration": 2,
    "start_time": "2024-05-18T14:46:10.452Z"
   },
   {
    "duration": 18,
    "start_time": "2024-05-18T14:46:10.455Z"
   },
   {
    "duration": 14,
    "start_time": "2024-05-18T14:46:10.474Z"
   },
   {
    "duration": 16,
    "start_time": "2024-05-18T14:46:10.489Z"
   },
   {
    "duration": 9,
    "start_time": "2024-05-18T14:46:10.506Z"
   },
   {
    "duration": 12,
    "start_time": "2024-05-18T14:46:10.516Z"
   },
   {
    "duration": 856,
    "start_time": "2024-05-18T14:46:10.529Z"
   },
   {
    "duration": 2,
    "start_time": "2024-05-18T14:46:11.386Z"
   },
   {
    "duration": 4,
    "start_time": "2024-05-18T14:46:11.390Z"
   },
   {
    "duration": 5,
    "start_time": "2024-05-18T14:46:11.395Z"
   },
   {
    "duration": 157,
    "start_time": "2024-05-18T14:46:11.401Z"
   },
   {
    "duration": 5,
    "start_time": "2024-05-18T14:46:11.559Z"
   },
   {
    "duration": 4,
    "start_time": "2024-05-18T14:46:11.565Z"
   },
   {
    "duration": 16,
    "start_time": "2024-05-18T14:46:11.570Z"
   },
   {
    "duration": 4,
    "start_time": "2024-05-18T14:46:11.587Z"
   },
   {
    "duration": 10,
    "start_time": "2024-05-18T14:46:11.592Z"
   },
   {
    "duration": 8,
    "start_time": "2024-05-18T14:46:11.603Z"
   },
   {
    "duration": 4,
    "start_time": "2024-05-18T14:46:11.612Z"
   },
   {
    "duration": 7,
    "start_time": "2024-05-18T14:46:11.617Z"
   },
   {
    "duration": 6,
    "start_time": "2024-05-18T14:46:11.625Z"
   },
   {
    "duration": 11,
    "start_time": "2024-05-18T14:46:11.632Z"
   },
   {
    "duration": 8,
    "start_time": "2024-05-18T14:46:11.644Z"
   },
   {
    "duration": 4,
    "start_time": "2024-05-18T14:46:11.653Z"
   },
   {
    "duration": 11,
    "start_time": "2024-05-18T14:46:11.658Z"
   },
   {
    "duration": 3,
    "start_time": "2024-05-18T14:46:11.670Z"
   },
   {
    "duration": 1213,
    "start_time": "2024-05-18T14:46:50.681Z"
   },
   {
    "duration": 2383,
    "start_time": "2024-05-18T14:46:51.896Z"
   },
   {
    "duration": 3,
    "start_time": "2024-05-18T14:46:54.281Z"
   },
   {
    "duration": 20,
    "start_time": "2024-05-18T14:46:54.285Z"
   },
   {
    "duration": 50,
    "start_time": "2024-05-18T14:46:54.308Z"
   },
   {
    "duration": 2,
    "start_time": "2024-05-18T14:46:54.360Z"
   },
   {
    "duration": 26,
    "start_time": "2024-05-18T14:46:54.364Z"
   },
   {
    "duration": 22,
    "start_time": "2024-05-18T14:46:54.392Z"
   },
   {
    "duration": 35,
    "start_time": "2024-05-18T14:46:54.415Z"
   },
   {
    "duration": 8,
    "start_time": "2024-05-18T14:46:54.451Z"
   },
   {
    "duration": 14,
    "start_time": "2024-05-18T14:46:54.460Z"
   },
   {
    "duration": 898,
    "start_time": "2024-05-18T14:46:54.475Z"
   },
   {
    "duration": 2,
    "start_time": "2024-05-18T14:46:55.375Z"
   },
   {
    "duration": 4,
    "start_time": "2024-05-18T14:46:55.379Z"
   },
   {
    "duration": 7,
    "start_time": "2024-05-18T14:46:55.384Z"
   },
   {
    "duration": 151,
    "start_time": "2024-05-18T14:46:55.392Z"
   },
   {
    "duration": 7,
    "start_time": "2024-05-18T14:46:55.544Z"
   },
   {
    "duration": 9,
    "start_time": "2024-05-18T14:46:55.552Z"
   },
   {
    "duration": 5,
    "start_time": "2024-05-18T14:46:55.562Z"
   },
   {
    "duration": 16,
    "start_time": "2024-05-18T14:46:55.568Z"
   },
   {
    "duration": 3,
    "start_time": "2024-05-18T14:46:55.585Z"
   },
   {
    "duration": 10,
    "start_time": "2024-05-18T14:46:55.589Z"
   },
   {
    "duration": 17,
    "start_time": "2024-05-18T14:46:55.600Z"
   },
   {
    "duration": 21,
    "start_time": "2024-05-18T14:46:55.618Z"
   },
   {
    "duration": 49,
    "start_time": "2024-05-18T14:46:55.641Z"
   },
   {
    "duration": 91,
    "start_time": "2024-05-18T14:46:55.694Z"
   },
   {
    "duration": 19,
    "start_time": "2024-05-18T14:46:55.786Z"
   },
   {
    "duration": 8,
    "start_time": "2024-05-18T14:46:55.806Z"
   },
   {
    "duration": 88,
    "start_time": "2024-05-18T14:46:55.815Z"
   },
   {
    "duration": 24,
    "start_time": "2024-05-18T14:46:55.904Z"
   },
   {
    "duration": 1223,
    "start_time": "2024-05-18T14:49:40.423Z"
   },
   {
    "duration": 2407,
    "start_time": "2024-05-18T14:49:41.647Z"
   },
   {
    "duration": 2,
    "start_time": "2024-05-18T14:49:44.056Z"
   },
   {
    "duration": 57,
    "start_time": "2024-05-18T14:49:44.059Z"
   },
   {
    "duration": 48,
    "start_time": "2024-05-18T14:49:44.118Z"
   },
   {
    "duration": 2,
    "start_time": "2024-05-18T14:49:44.167Z"
   },
   {
    "duration": 41,
    "start_time": "2024-05-18T14:49:44.170Z"
   },
   {
    "duration": 254,
    "start_time": "2024-05-18T14:49:44.212Z"
   },
   {
    "duration": 33,
    "start_time": "2024-05-18T14:49:44.467Z"
   },
   {
    "duration": 13,
    "start_time": "2024-05-18T14:49:44.501Z"
   },
   {
    "duration": 8,
    "start_time": "2024-05-18T14:49:44.516Z"
   },
   {
    "duration": 912,
    "start_time": "2024-05-18T14:49:44.525Z"
   },
   {
    "duration": 2,
    "start_time": "2024-05-18T14:49:45.439Z"
   },
   {
    "duration": 89,
    "start_time": "2024-05-18T14:49:45.443Z"
   },
   {
    "duration": 10,
    "start_time": "2024-05-18T14:49:45.533Z"
   },
   {
    "duration": 156,
    "start_time": "2024-05-18T14:49:45.544Z"
   },
   {
    "duration": 8,
    "start_time": "2024-05-18T14:49:45.701Z"
   },
   {
    "duration": 4,
    "start_time": "2024-05-18T14:49:45.710Z"
   },
   {
    "duration": 4,
    "start_time": "2024-05-18T14:49:45.715Z"
   },
   {
    "duration": 69,
    "start_time": "2024-05-18T14:49:45.720Z"
   },
   {
    "duration": 4,
    "start_time": "2024-05-18T14:49:45.791Z"
   },
   {
    "duration": 3,
    "start_time": "2024-05-18T14:49:45.797Z"
   },
   {
    "duration": 5,
    "start_time": "2024-05-18T14:49:45.801Z"
   },
   {
    "duration": 16,
    "start_time": "2024-05-18T14:49:45.807Z"
   },
   {
    "duration": 61,
    "start_time": "2024-05-18T14:49:45.824Z"
   },
   {
    "duration": 99,
    "start_time": "2024-05-18T14:49:45.887Z"
   },
   {
    "duration": 4,
    "start_time": "2024-05-18T14:49:45.987Z"
   },
   {
    "duration": 4,
    "start_time": "2024-05-18T14:49:45.992Z"
   },
   {
    "duration": 5,
    "start_time": "2024-05-18T14:49:45.997Z"
   },
   {
    "duration": 3,
    "start_time": "2024-05-18T14:49:46.003Z"
   },
   {
    "duration": 63,
    "start_time": "2024-05-19T13:54:47.649Z"
   },
   {
    "duration": 1440,
    "start_time": "2024-05-19T13:54:52.130Z"
   },
   {
    "duration": 3,
    "start_time": "2024-05-19T13:54:58.192Z"
   },
   {
    "duration": 4,
    "start_time": "2024-05-19T13:55:07.761Z"
   },
   {
    "duration": 75,
    "start_time": "2024-05-19T13:55:17.819Z"
   },
   {
    "duration": 5,
    "start_time": "2024-05-19T13:55:44.731Z"
   },
   {
    "duration": 8,
    "start_time": "2024-05-19T13:55:48.283Z"
   },
   {
    "duration": 10,
    "start_time": "2024-05-19T13:56:02.985Z"
   },
   {
    "duration": 8,
    "start_time": "2024-05-19T13:56:07.050Z"
   },
   {
    "duration": 8,
    "start_time": "2024-05-19T13:56:18.977Z"
   },
   {
    "duration": 7,
    "start_time": "2024-05-19T13:56:26.451Z"
   },
   {
    "duration": 8,
    "start_time": "2024-05-19T13:57:07.494Z"
   },
   {
    "duration": 3,
    "start_time": "2024-05-19T13:57:23.391Z"
   },
   {
    "duration": 11,
    "start_time": "2024-05-19T13:57:30.837Z"
   },
   {
    "duration": 3,
    "start_time": "2024-05-19T13:57:59.823Z"
   },
   {
    "duration": 10,
    "start_time": "2024-05-19T13:58:00.131Z"
   },
   {
    "duration": 1613,
    "start_time": "2024-05-20T10:25:26.189Z"
   },
   {
    "duration": 122,
    "start_time": "2024-05-20T10:25:51.309Z"
   },
   {
    "duration": 2,
    "start_time": "2024-05-20T10:26:08.112Z"
   },
   {
    "duration": 9,
    "start_time": "2024-05-20T10:26:46.267Z"
   },
   {
    "duration": 1414,
    "start_time": "2024-05-20T10:27:05.720Z"
   },
   {
    "duration": 3674,
    "start_time": "2024-05-20T10:27:07.136Z"
   },
   {
    "duration": 3,
    "start_time": "2024-05-20T10:27:10.812Z"
   },
   {
    "duration": 105,
    "start_time": "2024-05-20T10:27:10.817Z"
   },
   {
    "duration": 186,
    "start_time": "2024-05-20T10:27:10.923Z"
   },
   {
    "duration": 3,
    "start_time": "2024-05-20T10:27:11.111Z"
   },
   {
    "duration": 19,
    "start_time": "2024-05-20T10:27:11.115Z"
   },
   {
    "duration": 14,
    "start_time": "2024-05-20T10:27:11.135Z"
   },
   {
    "duration": 10,
    "start_time": "2024-05-20T10:27:11.150Z"
   },
   {
    "duration": 12,
    "start_time": "2024-05-20T10:27:11.169Z"
   },
   {
    "duration": 12,
    "start_time": "2024-05-20T10:27:11.183Z"
   },
   {
    "duration": 1092,
    "start_time": "2024-05-20T10:27:11.197Z"
   },
   {
    "duration": 3,
    "start_time": "2024-05-20T10:27:12.290Z"
   },
   {
    "duration": 68,
    "start_time": "2024-05-20T10:27:12.294Z"
   },
   {
    "duration": 47,
    "start_time": "2024-05-20T10:27:12.364Z"
   },
   {
    "duration": 184,
    "start_time": "2024-05-20T10:27:12.413Z"
   },
   {
    "duration": 9,
    "start_time": "2024-05-20T10:27:12.599Z"
   },
   {
    "duration": 5,
    "start_time": "2024-05-20T10:27:12.609Z"
   },
   {
    "duration": 8,
    "start_time": "2024-05-20T10:27:12.616Z"
   },
   {
    "duration": 17,
    "start_time": "2024-05-20T10:27:12.625Z"
   },
   {
    "duration": 13,
    "start_time": "2024-05-20T10:27:12.644Z"
   },
   {
    "duration": 5,
    "start_time": "2024-05-20T10:27:12.658Z"
   },
   {
    "duration": 7,
    "start_time": "2024-05-20T10:27:12.665Z"
   },
   {
    "duration": 58,
    "start_time": "2024-05-20T10:27:12.673Z"
   },
   {
    "duration": 22,
    "start_time": "2024-05-20T10:27:12.733Z"
   },
   {
    "duration": 15,
    "start_time": "2024-05-20T10:27:12.757Z"
   },
   {
    "duration": 5,
    "start_time": "2024-05-20T10:27:12.774Z"
   },
   {
    "duration": 10,
    "start_time": "2024-05-20T10:27:12.783Z"
   },
   {
    "duration": 8,
    "start_time": "2024-05-20T10:27:12.795Z"
   },
   {
    "duration": 7,
    "start_time": "2024-05-20T10:27:12.805Z"
   },
   {
    "duration": 84,
    "start_time": "2024-05-20T10:27:12.814Z"
   },
   {
    "duration": 171,
    "start_time": "2024-05-20T10:27:12.902Z"
   },
   {
    "duration": 7,
    "start_time": "2024-05-20T10:27:13.074Z"
   },
   {
    "duration": 33,
    "start_time": "2024-05-20T10:27:13.082Z"
   },
   {
    "duration": 24,
    "start_time": "2024-05-20T10:27:13.116Z"
   },
   {
    "duration": 20,
    "start_time": "2024-05-20T10:27:13.142Z"
   },
   {
    "duration": 11,
    "start_time": "2024-05-20T10:27:13.164Z"
   },
   {
    "duration": 333,
    "start_time": "2024-05-20T10:27:51.380Z"
   },
   {
    "duration": 4,
    "start_time": "2024-05-20T10:28:02.664Z"
   },
   {
    "duration": 314,
    "start_time": "2024-05-20T10:28:03.015Z"
   },
   {
    "duration": 2,
    "start_time": "2024-05-20T10:28:08.005Z"
   },
   {
    "duration": 271,
    "start_time": "2024-05-20T10:28:08.307Z"
   },
   {
    "duration": 4,
    "start_time": "2024-05-20T10:29:25.520Z"
   },
   {
    "duration": 1519,
    "start_time": "2024-05-20T10:29:33.038Z"
   },
   {
    "duration": 2443,
    "start_time": "2024-05-20T10:29:34.559Z"
   },
   {
    "duration": 3,
    "start_time": "2024-05-20T10:29:37.005Z"
   },
   {
    "duration": 30,
    "start_time": "2024-05-20T10:29:37.010Z"
   },
   {
    "duration": 119,
    "start_time": "2024-05-20T10:29:37.044Z"
   },
   {
    "duration": 3,
    "start_time": "2024-05-20T10:29:37.165Z"
   },
   {
    "duration": 35,
    "start_time": "2024-05-20T10:29:37.170Z"
   },
   {
    "duration": 15,
    "start_time": "2024-05-20T10:29:37.207Z"
   },
   {
    "duration": 8,
    "start_time": "2024-05-20T10:29:37.224Z"
   },
   {
    "duration": 11,
    "start_time": "2024-05-20T10:29:37.234Z"
   },
   {
    "duration": 15,
    "start_time": "2024-05-20T10:29:37.247Z"
   },
   {
    "duration": 1048,
    "start_time": "2024-05-20T10:29:37.264Z"
   },
   {
    "duration": 3,
    "start_time": "2024-05-20T10:29:38.313Z"
   },
   {
    "duration": 48,
    "start_time": "2024-05-20T10:29:38.319Z"
   },
   {
    "duration": 8,
    "start_time": "2024-05-20T10:29:38.369Z"
   },
   {
    "duration": 202,
    "start_time": "2024-05-20T10:29:38.378Z"
   },
   {
    "duration": 10,
    "start_time": "2024-05-20T10:29:38.581Z"
   },
   {
    "duration": 25,
    "start_time": "2024-05-20T10:29:38.593Z"
   },
   {
    "duration": 7,
    "start_time": "2024-05-20T10:29:38.620Z"
   },
   {
    "duration": 26,
    "start_time": "2024-05-20T10:29:38.629Z"
   },
   {
    "duration": 85,
    "start_time": "2024-05-20T10:29:38.657Z"
   },
   {
    "duration": 31,
    "start_time": "2024-05-20T10:29:38.744Z"
   },
   {
    "duration": 5,
    "start_time": "2024-05-20T10:29:38.776Z"
   },
   {
    "duration": 5,
    "start_time": "2024-05-20T10:29:38.783Z"
   },
   {
    "duration": 15,
    "start_time": "2024-05-20T10:29:38.790Z"
   },
   {
    "duration": 8,
    "start_time": "2024-05-20T10:29:38.807Z"
   },
   {
    "duration": 6,
    "start_time": "2024-05-20T10:29:38.816Z"
   },
   {
    "duration": 5,
    "start_time": "2024-05-20T10:29:38.824Z"
   },
   {
    "duration": 53,
    "start_time": "2024-05-20T10:29:38.831Z"
   },
   {
    "duration": 930,
    "start_time": "2024-05-20T10:29:38.885Z"
   },
   {
    "duration": 3,
    "start_time": "2024-05-20T10:29:39.817Z"
   },
   {
    "duration": 59,
    "start_time": "2024-05-20T10:29:39.822Z"
   },
   {
    "duration": 23,
    "start_time": "2024-05-20T10:29:39.883Z"
   },
   {
    "duration": 18,
    "start_time": "2024-05-20T10:29:39.908Z"
   },
   {
    "duration": 116,
    "start_time": "2024-05-20T10:29:39.928Z"
   },
   {
    "duration": 91,
    "start_time": "2024-05-20T10:29:40.046Z"
   },
   {
    "duration": 40,
    "start_time": "2024-05-20T10:29:40.138Z"
   },
   {
    "duration": 25,
    "start_time": "2024-05-20T10:29:40.180Z"
   },
   {
    "duration": 3,
    "start_time": "2024-05-20T10:30:32.530Z"
   },
   {
    "duration": 2,
    "start_time": "2024-05-20T10:30:45.025Z"
   },
   {
    "duration": 3,
    "start_time": "2024-05-20T10:30:58.303Z"
   },
   {
    "duration": 677,
    "start_time": "2024-05-20T10:32:02.623Z"
   },
   {
    "duration": 3,
    "start_time": "2024-05-20T10:32:05.077Z"
   },
   {
    "duration": 3,
    "start_time": "2024-05-20T10:32:05.803Z"
   },
   {
    "duration": 3,
    "start_time": "2024-05-20T10:32:06.539Z"
   },
   {
    "duration": 6,
    "start_time": "2024-05-20T10:32:52.556Z"
   },
   {
    "duration": 3,
    "start_time": "2024-05-20T10:33:25.588Z"
   },
   {
    "duration": 3,
    "start_time": "2024-05-20T10:33:35.717Z"
   },
   {
    "duration": 3,
    "start_time": "2024-05-20T10:33:40.120Z"
   },
   {
    "duration": 4,
    "start_time": "2024-05-20T10:33:40.459Z"
   },
   {
    "duration": 1586,
    "start_time": "2024-05-20T10:33:49.586Z"
   },
   {
    "duration": 2559,
    "start_time": "2024-05-20T10:33:51.174Z"
   },
   {
    "duration": 3,
    "start_time": "2024-05-20T10:33:53.735Z"
   },
   {
    "duration": 40,
    "start_time": "2024-05-20T10:33:53.739Z"
   },
   {
    "duration": 59,
    "start_time": "2024-05-20T10:33:53.782Z"
   },
   {
    "duration": 3,
    "start_time": "2024-05-20T10:33:53.843Z"
   },
   {
    "duration": 32,
    "start_time": "2024-05-20T10:33:53.848Z"
   },
   {
    "duration": 16,
    "start_time": "2024-05-20T10:33:53.881Z"
   },
   {
    "duration": 10,
    "start_time": "2024-05-20T10:33:53.898Z"
   },
   {
    "duration": 29,
    "start_time": "2024-05-20T10:33:53.909Z"
   },
   {
    "duration": 13,
    "start_time": "2024-05-20T10:33:53.940Z"
   },
   {
    "duration": 1098,
    "start_time": "2024-05-20T10:33:53.955Z"
   },
   {
    "duration": 2,
    "start_time": "2024-05-20T10:33:55.055Z"
   },
   {
    "duration": 32,
    "start_time": "2024-05-20T10:33:55.060Z"
   },
   {
    "duration": 41,
    "start_time": "2024-05-20T10:33:55.093Z"
   },
   {
    "duration": 209,
    "start_time": "2024-05-20T10:33:55.136Z"
   },
   {
    "duration": 10,
    "start_time": "2024-05-20T10:33:55.346Z"
   },
   {
    "duration": 21,
    "start_time": "2024-05-20T10:33:55.358Z"
   },
   {
    "duration": 18,
    "start_time": "2024-05-20T10:33:55.381Z"
   },
   {
    "duration": 10,
    "start_time": "2024-05-20T10:33:55.401Z"
   },
   {
    "duration": 104,
    "start_time": "2024-05-20T10:33:55.413Z"
   },
   {
    "duration": 20,
    "start_time": "2024-05-20T10:33:55.518Z"
   },
   {
    "duration": 18,
    "start_time": "2024-05-20T10:33:55.540Z"
   },
   {
    "duration": 20,
    "start_time": "2024-05-20T10:33:55.559Z"
   },
   {
    "duration": 34,
    "start_time": "2024-05-20T10:33:55.581Z"
   },
   {
    "duration": 23,
    "start_time": "2024-05-20T10:33:55.617Z"
   },
   {
    "duration": 22,
    "start_time": "2024-05-20T10:33:55.641Z"
   },
   {
    "duration": 21,
    "start_time": "2024-05-20T10:33:55.665Z"
   },
   {
    "duration": 21,
    "start_time": "2024-05-20T10:33:55.688Z"
   },
   {
    "duration": 885,
    "start_time": "2024-05-20T10:33:55.710Z"
   },
   {
    "duration": 3,
    "start_time": "2024-05-20T10:33:56.597Z"
   },
   {
    "duration": 11,
    "start_time": "2024-05-20T10:33:56.601Z"
   },
   {
    "duration": 10,
    "start_time": "2024-05-20T10:33:56.613Z"
   },
   {
    "duration": 46,
    "start_time": "2024-05-20T10:33:56.625Z"
   },
   {
    "duration": 14,
    "start_time": "2024-05-20T10:33:56.673Z"
   },
   {
    "duration": 81,
    "start_time": "2024-05-20T10:33:56.688Z"
   },
   {
    "duration": 11,
    "start_time": "2024-05-20T10:33:56.771Z"
   },
   {
    "duration": 9,
    "start_time": "2024-05-20T10:33:56.784Z"
   },
   {
    "duration": 7,
    "start_time": "2024-05-20T10:33:56.794Z"
   },
   {
    "duration": 5,
    "start_time": "2024-05-20T10:33:56.802Z"
   },
   {
    "duration": 1553,
    "start_time": "2024-05-20T10:34:19.923Z"
   },
   {
    "duration": 2516,
    "start_time": "2024-05-20T10:34:21.478Z"
   },
   {
    "duration": 3,
    "start_time": "2024-05-20T10:34:23.996Z"
   },
   {
    "duration": 61,
    "start_time": "2024-05-20T10:34:24.001Z"
   },
   {
    "duration": 151,
    "start_time": "2024-05-20T10:34:24.065Z"
   },
   {
    "duration": 3,
    "start_time": "2024-05-20T10:34:24.217Z"
   },
   {
    "duration": 20,
    "start_time": "2024-05-20T10:34:24.222Z"
   },
   {
    "duration": 21,
    "start_time": "2024-05-20T10:34:24.244Z"
   },
   {
    "duration": 48,
    "start_time": "2024-05-20T10:34:24.266Z"
   },
   {
    "duration": 85,
    "start_time": "2024-05-20T10:34:24.316Z"
   },
   {
    "duration": 29,
    "start_time": "2024-05-20T10:34:24.403Z"
   },
   {
    "duration": 1099,
    "start_time": "2024-05-20T10:34:24.434Z"
   },
   {
    "duration": 2,
    "start_time": "2024-05-20T10:34:25.535Z"
   },
   {
    "duration": 8,
    "start_time": "2024-05-20T10:34:25.542Z"
   },
   {
    "duration": 10,
    "start_time": "2024-05-20T10:34:25.552Z"
   },
   {
    "duration": 192,
    "start_time": "2024-05-20T10:34:25.564Z"
   },
   {
    "duration": 14,
    "start_time": "2024-05-20T10:34:25.758Z"
   },
   {
    "duration": 4,
    "start_time": "2024-05-20T10:34:25.774Z"
   },
   {
    "duration": 9,
    "start_time": "2024-05-20T10:34:25.780Z"
   },
   {
    "duration": 4,
    "start_time": "2024-05-20T10:34:25.791Z"
   },
   {
    "duration": 11,
    "start_time": "2024-05-20T10:34:25.796Z"
   },
   {
    "duration": 13,
    "start_time": "2024-05-20T10:34:25.808Z"
   },
   {
    "duration": 21,
    "start_time": "2024-05-20T10:34:25.823Z"
   },
   {
    "duration": 5,
    "start_time": "2024-05-20T10:34:25.845Z"
   },
   {
    "duration": 5,
    "start_time": "2024-05-20T10:34:25.852Z"
   },
   {
    "duration": 8,
    "start_time": "2024-05-20T10:34:25.858Z"
   },
   {
    "duration": 15,
    "start_time": "2024-05-20T10:34:25.868Z"
   },
   {
    "duration": 9,
    "start_time": "2024-05-20T10:34:25.885Z"
   },
   {
    "duration": 16,
    "start_time": "2024-05-20T10:34:25.895Z"
   },
   {
    "duration": 1012,
    "start_time": "2024-05-20T10:34:25.913Z"
   },
   {
    "duration": 3,
    "start_time": "2024-05-20T10:34:26.926Z"
   },
   {
    "duration": 40,
    "start_time": "2024-05-20T10:34:26.931Z"
   },
   {
    "duration": 34,
    "start_time": "2024-05-20T10:34:26.973Z"
   },
   {
    "duration": 7,
    "start_time": "2024-05-20T10:34:27.069Z"
   },
   {
    "duration": 22,
    "start_time": "2024-05-20T10:34:27.077Z"
   },
   {
    "duration": 24,
    "start_time": "2024-05-20T10:34:27.100Z"
   },
   {
    "duration": 13,
    "start_time": "2024-05-20T10:34:27.126Z"
   },
   {
    "duration": 24,
    "start_time": "2024-05-20T10:34:27.141Z"
   },
   {
    "duration": 15,
    "start_time": "2024-05-20T10:34:27.167Z"
   },
   {
    "duration": 28,
    "start_time": "2024-05-20T10:34:27.184Z"
   },
   {
    "duration": 1433,
    "start_time": "2024-05-20T10:34:52.482Z"
   },
   {
    "duration": 2429,
    "start_time": "2024-05-20T10:34:53.917Z"
   },
   {
    "duration": 3,
    "start_time": "2024-05-20T10:34:56.348Z"
   },
   {
    "duration": 68,
    "start_time": "2024-05-20T10:34:56.352Z"
   },
   {
    "duration": 63,
    "start_time": "2024-05-20T10:34:56.422Z"
   },
   {
    "duration": 3,
    "start_time": "2024-05-20T10:34:56.487Z"
   },
   {
    "duration": 99,
    "start_time": "2024-05-20T10:34:56.491Z"
   },
   {
    "duration": 22,
    "start_time": "2024-05-20T10:34:56.592Z"
   },
   {
    "duration": 10,
    "start_time": "2024-05-20T10:34:56.616Z"
   },
   {
    "duration": 13,
    "start_time": "2024-05-20T10:34:56.627Z"
   },
   {
    "duration": 8,
    "start_time": "2024-05-20T10:34:56.641Z"
   },
   {
    "duration": 1055,
    "start_time": "2024-05-20T10:34:56.650Z"
   },
   {
    "duration": 2,
    "start_time": "2024-05-20T10:34:57.707Z"
   },
   {
    "duration": 8,
    "start_time": "2024-05-20T10:34:57.712Z"
   },
   {
    "duration": 15,
    "start_time": "2024-05-20T10:34:57.721Z"
   },
   {
    "duration": 203,
    "start_time": "2024-05-20T10:34:57.738Z"
   },
   {
    "duration": 27,
    "start_time": "2024-05-20T10:34:57.942Z"
   },
   {
    "duration": 5,
    "start_time": "2024-05-20T10:34:57.971Z"
   },
   {
    "duration": 5,
    "start_time": "2024-05-20T10:34:57.978Z"
   },
   {
    "duration": 10,
    "start_time": "2024-05-20T10:34:57.984Z"
   },
   {
    "duration": 197,
    "start_time": "2024-05-20T10:34:57.995Z"
   },
   {
    "duration": 7,
    "start_time": "2024-05-20T10:34:58.194Z"
   },
   {
    "duration": 7,
    "start_time": "2024-05-20T10:34:58.203Z"
   },
   {
    "duration": 14,
    "start_time": "2024-05-20T10:34:58.212Z"
   },
   {
    "duration": 9,
    "start_time": "2024-05-20T10:34:58.228Z"
   },
   {
    "duration": 6,
    "start_time": "2024-05-20T10:34:58.239Z"
   },
   {
    "duration": 4,
    "start_time": "2024-05-20T10:34:58.247Z"
   },
   {
    "duration": 10,
    "start_time": "2024-05-20T10:34:58.253Z"
   },
   {
    "duration": 6,
    "start_time": "2024-05-20T10:34:58.264Z"
   },
   {
    "duration": 1326,
    "start_time": "2024-05-20T10:34:58.272Z"
   },
   {
    "duration": 4,
    "start_time": "2024-05-20T10:34:59.600Z"
   },
   {
    "duration": 6,
    "start_time": "2024-05-20T10:34:59.670Z"
   },
   {
    "duration": 99,
    "start_time": "2024-05-20T10:34:59.679Z"
   },
   {
    "duration": 3,
    "start_time": "2024-05-20T10:34:59.780Z"
   },
   {
    "duration": 5,
    "start_time": "2024-05-20T10:34:59.785Z"
   },
   {
    "duration": 17,
    "start_time": "2024-05-20T10:34:59.792Z"
   },
   {
    "duration": 13,
    "start_time": "2024-05-20T10:34:59.810Z"
   },
   {
    "duration": 47,
    "start_time": "2024-05-20T10:34:59.824Z"
   },
   {
    "duration": 5,
    "start_time": "2024-05-20T10:34:59.874Z"
   },
   {
    "duration": 4,
    "start_time": "2024-05-20T10:34:59.970Z"
   },
   {
    "duration": 1609,
    "start_time": "2024-05-20T10:35:14.332Z"
   },
   {
    "duration": 2706,
    "start_time": "2024-05-20T10:35:15.943Z"
   },
   {
    "duration": 4,
    "start_time": "2024-05-20T10:35:18.651Z"
   },
   {
    "duration": 10,
    "start_time": "2024-05-20T10:35:18.656Z"
   },
   {
    "duration": 86,
    "start_time": "2024-05-20T10:35:18.668Z"
   },
   {
    "duration": 19,
    "start_time": "2024-05-20T10:35:18.756Z"
   },
   {
    "duration": 23,
    "start_time": "2024-05-20T10:35:18.777Z"
   },
   {
    "duration": 13,
    "start_time": "2024-05-20T10:35:18.802Z"
   },
   {
    "duration": 29,
    "start_time": "2024-05-20T10:35:18.818Z"
   },
   {
    "duration": 11,
    "start_time": "2024-05-20T10:35:18.849Z"
   },
   {
    "duration": 89,
    "start_time": "2024-05-20T10:35:18.861Z"
   },
   {
    "duration": 1141,
    "start_time": "2024-05-20T10:35:18.952Z"
   },
   {
    "duration": 4,
    "start_time": "2024-05-20T10:35:20.094Z"
   },
   {
    "duration": 93,
    "start_time": "2024-05-20T10:35:20.103Z"
   },
   {
    "duration": 28,
    "start_time": "2024-05-20T10:35:20.198Z"
   },
   {
    "duration": 229,
    "start_time": "2024-05-20T10:35:20.228Z"
   },
   {
    "duration": 25,
    "start_time": "2024-05-20T10:35:20.459Z"
   },
   {
    "duration": 98,
    "start_time": "2024-05-20T10:35:20.488Z"
   },
   {
    "duration": 28,
    "start_time": "2024-05-20T10:35:20.588Z"
   },
   {
    "duration": 65,
    "start_time": "2024-05-20T10:35:20.618Z"
   },
   {
    "duration": 48,
    "start_time": "2024-05-20T10:35:20.685Z"
   },
   {
    "duration": 39,
    "start_time": "2024-05-20T10:35:20.735Z"
   },
   {
    "duration": 23,
    "start_time": "2024-05-20T10:35:20.776Z"
   },
   {
    "duration": 22,
    "start_time": "2024-05-20T10:35:20.801Z"
   },
   {
    "duration": 8,
    "start_time": "2024-05-20T10:35:20.826Z"
   },
   {
    "duration": 9,
    "start_time": "2024-05-20T10:35:20.836Z"
   },
   {
    "duration": 8,
    "start_time": "2024-05-20T10:35:20.847Z"
   },
   {
    "duration": 118,
    "start_time": "2024-05-20T10:35:20.857Z"
   },
   {
    "duration": 17,
    "start_time": "2024-05-20T10:35:20.977Z"
   },
   {
    "duration": 1424,
    "start_time": "2024-05-20T10:35:20.996Z"
   },
   {
    "duration": 49,
    "start_time": "2024-05-20T10:35:22.423Z"
   },
   {
    "duration": 105,
    "start_time": "2024-05-20T10:35:22.474Z"
   },
   {
    "duration": 11,
    "start_time": "2024-05-20T10:35:22.580Z"
   },
   {
    "duration": 14,
    "start_time": "2024-05-20T10:35:22.593Z"
   },
   {
    "duration": 7,
    "start_time": "2024-05-20T10:35:22.609Z"
   },
   {
    "duration": 11,
    "start_time": "2024-05-20T10:35:22.618Z"
   },
   {
    "duration": 12,
    "start_time": "2024-05-20T10:35:22.631Z"
   },
   {
    "duration": 30,
    "start_time": "2024-05-20T10:35:22.645Z"
   },
   {
    "duration": 95,
    "start_time": "2024-05-20T10:35:22.678Z"
   },
   {
    "duration": 27,
    "start_time": "2024-05-20T10:35:22.775Z"
   },
   {
    "duration": 3,
    "start_time": "2024-05-20T10:36:22.009Z"
   },
   {
    "duration": 3,
    "start_time": "2024-05-20T10:36:27.698Z"
   },
   {
    "duration": 3,
    "start_time": "2024-05-20T10:36:34.867Z"
   },
   {
    "duration": 3,
    "start_time": "2024-05-20T10:36:43.967Z"
   },
   {
    "duration": 24249,
    "start_time": "2024-05-20T10:37:34.629Z"
   },
   {
    "duration": 3,
    "start_time": "2024-05-20T10:38:06.845Z"
   },
   {
    "duration": 2,
    "start_time": "2024-05-20T10:38:25.846Z"
   },
   {
    "duration": 3,
    "start_time": "2024-05-20T10:39:08.189Z"
   },
   {
    "duration": 12,
    "start_time": "2024-05-20T10:39:54.699Z"
   },
   {
    "duration": 3,
    "start_time": "2024-05-20T10:40:01.181Z"
   },
   {
    "duration": 3,
    "start_time": "2024-05-20T10:40:01.972Z"
   },
   {
    "duration": 4,
    "start_time": "2024-05-20T10:40:05.557Z"
   },
   {
    "duration": 1390,
    "start_time": "2024-05-20T10:40:28.625Z"
   },
   {
    "duration": 2494,
    "start_time": "2024-05-20T10:40:30.017Z"
   },
   {
    "duration": 3,
    "start_time": "2024-05-20T10:40:32.513Z"
   },
   {
    "duration": 77,
    "start_time": "2024-05-20T10:40:32.517Z"
   },
   {
    "duration": 70,
    "start_time": "2024-05-20T10:40:32.597Z"
   },
   {
    "duration": 3,
    "start_time": "2024-05-20T10:40:32.668Z"
   },
   {
    "duration": 19,
    "start_time": "2024-05-20T10:40:32.673Z"
   },
   {
    "duration": 29,
    "start_time": "2024-05-20T10:40:32.694Z"
   },
   {
    "duration": 75,
    "start_time": "2024-05-20T10:40:32.725Z"
   },
   {
    "duration": 54,
    "start_time": "2024-05-20T10:40:32.802Z"
   },
   {
    "duration": 17,
    "start_time": "2024-05-20T10:40:32.858Z"
   },
   {
    "duration": 1117,
    "start_time": "2024-05-20T10:40:32.876Z"
   },
   {
    "duration": 3,
    "start_time": "2024-05-20T10:40:33.995Z"
   },
   {
    "duration": 3,
    "start_time": "2024-05-20T10:40:34.001Z"
   },
   {
    "duration": 8,
    "start_time": "2024-05-20T10:40:34.005Z"
   },
   {
    "duration": 205,
    "start_time": "2024-05-20T10:40:34.014Z"
   },
   {
    "duration": 21,
    "start_time": "2024-05-20T10:40:34.221Z"
   },
   {
    "duration": 5,
    "start_time": "2024-05-20T10:40:34.244Z"
   },
   {
    "duration": 20,
    "start_time": "2024-05-20T10:40:34.251Z"
   },
   {
    "duration": 4,
    "start_time": "2024-05-20T10:40:34.273Z"
   },
   {
    "duration": 13,
    "start_time": "2024-05-20T10:40:34.278Z"
   },
   {
    "duration": 5,
    "start_time": "2024-05-20T10:40:34.292Z"
   },
   {
    "duration": 9,
    "start_time": "2024-05-20T10:40:34.299Z"
   },
   {
    "duration": 5,
    "start_time": "2024-05-20T10:40:34.309Z"
   },
   {
    "duration": 24,
    "start_time": "2024-05-20T10:40:34.315Z"
   },
   {
    "duration": 95,
    "start_time": "2024-05-20T10:40:34.340Z"
   },
   {
    "duration": 3,
    "start_time": "2024-05-20T10:40:34.437Z"
   },
   {
    "duration": 7,
    "start_time": "2024-05-20T10:40:34.442Z"
   },
   {
    "duration": 8,
    "start_time": "2024-05-20T10:40:34.451Z"
   },
   {
    "duration": 1645,
    "start_time": "2024-05-20T10:40:34.461Z"
   },
   {
    "duration": 4,
    "start_time": "2024-05-20T10:40:36.169Z"
   },
   {
    "duration": 101,
    "start_time": "2024-05-20T10:40:36.175Z"
   },
   {
    "duration": 24,
    "start_time": "2024-05-20T10:40:36.278Z"
   },
   {
    "duration": 13,
    "start_time": "2024-05-20T10:40:36.304Z"
   },
   {
    "duration": 59,
    "start_time": "2024-05-20T10:40:36.318Z"
   },
   {
    "duration": 75,
    "start_time": "2024-05-20T10:40:36.379Z"
   },
   {
    "duration": 24427,
    "start_time": "2024-05-20T10:40:36.456Z"
   },
   {
    "duration": 2,
    "start_time": "2024-05-20T10:41:00.885Z"
   },
   {
    "duration": 195,
    "start_time": "2024-05-20T10:41:00.970Z"
   },
   {
    "duration": 66,
    "start_time": "2024-05-20T10:41:01.166Z"
   },
   {
    "duration": 69,
    "start_time": "2024-05-20T10:41:01.236Z"
   },
   {
    "duration": 82,
    "start_time": "2024-05-20T10:41:01.307Z"
   },
   {
    "duration": 193,
    "start_time": "2024-05-20T10:41:01.391Z"
   },
   {
    "duration": 368,
    "start_time": "2024-05-20T10:41:01.586Z"
   },
   {
    "duration": 57,
    "start_time": "2024-05-20T10:41:01.956Z"
   },
   {
    "duration": 260,
    "start_time": "2024-05-20T10:41:02.015Z"
   },
   {
    "duration": 181,
    "start_time": "2024-05-20T10:41:02.277Z"
   },
   {
    "duration": 1487,
    "start_time": "2024-05-20T14:00:28.352Z"
   },
   {
    "duration": 2639,
    "start_time": "2024-05-20T14:00:29.841Z"
   },
   {
    "duration": 3,
    "start_time": "2024-05-20T14:00:32.482Z"
   },
   {
    "duration": 62,
    "start_time": "2024-05-20T14:00:32.487Z"
   },
   {
    "duration": 56,
    "start_time": "2024-05-20T14:00:32.551Z"
   },
   {
    "duration": 2,
    "start_time": "2024-05-20T14:00:32.609Z"
   },
   {
    "duration": 51,
    "start_time": "2024-05-20T14:00:32.613Z"
   },
   {
    "duration": 52,
    "start_time": "2024-05-20T14:00:32.665Z"
   },
   {
    "duration": 36,
    "start_time": "2024-05-20T14:00:32.719Z"
   },
   {
    "duration": 31,
    "start_time": "2024-05-20T14:00:32.757Z"
   },
   {
    "duration": 68,
    "start_time": "2024-05-20T14:00:32.789Z"
   },
   {
    "duration": 1094,
    "start_time": "2024-05-20T14:00:32.859Z"
   },
   {
    "duration": 3,
    "start_time": "2024-05-20T14:00:33.955Z"
   },
   {
    "duration": 20,
    "start_time": "2024-05-20T14:00:33.962Z"
   },
   {
    "duration": 21,
    "start_time": "2024-05-20T14:00:33.984Z"
   },
   {
    "duration": 206,
    "start_time": "2024-05-20T14:00:34.006Z"
   },
   {
    "duration": 22,
    "start_time": "2024-05-20T14:00:34.213Z"
   },
   {
    "duration": 6,
    "start_time": "2024-05-20T14:00:34.236Z"
   },
   {
    "duration": 7,
    "start_time": "2024-05-20T14:00:34.243Z"
   },
   {
    "duration": 17,
    "start_time": "2024-05-20T14:00:34.252Z"
   },
   {
    "duration": 4,
    "start_time": "2024-05-20T14:00:34.271Z"
   },
   {
    "duration": 12,
    "start_time": "2024-05-20T14:00:34.276Z"
   },
   {
    "duration": 9,
    "start_time": "2024-05-20T14:00:34.289Z"
   },
   {
    "duration": 5,
    "start_time": "2024-05-20T14:00:34.300Z"
   },
   {
    "duration": 11,
    "start_time": "2024-05-20T14:00:34.307Z"
   },
   {
    "duration": 5,
    "start_time": "2024-05-20T14:00:34.320Z"
   },
   {
    "duration": 5,
    "start_time": "2024-05-20T14:00:34.326Z"
   },
   {
    "duration": 5,
    "start_time": "2024-05-20T14:00:34.333Z"
   },
   {
    "duration": 29,
    "start_time": "2024-05-20T14:00:34.339Z"
   },
   {
    "duration": 1704,
    "start_time": "2024-05-20T14:00:34.369Z"
   },
   {
    "duration": 3,
    "start_time": "2024-05-20T14:00:36.077Z"
   },
   {
    "duration": 93,
    "start_time": "2024-05-20T14:00:36.176Z"
   },
   {
    "duration": 3,
    "start_time": "2024-05-20T14:00:36.271Z"
   },
   {
    "duration": 11,
    "start_time": "2024-05-20T14:00:36.275Z"
   },
   {
    "duration": 34,
    "start_time": "2024-05-20T14:00:36.288Z"
   },
   {
    "duration": 31,
    "start_time": "2024-05-20T14:00:36.324Z"
   },
   {
    "duration": 27720,
    "start_time": "2024-05-20T14:00:36.357Z"
   },
   {
    "duration": 3,
    "start_time": "2024-05-20T14:01:04.078Z"
   },
   {
    "duration": 23,
    "start_time": "2024-05-20T14:01:04.082Z"
   },
   {
    "duration": 28,
    "start_time": "2024-05-20T14:01:04.107Z"
   },
   {
    "duration": 7,
    "start_time": "2024-05-20T14:01:04.138Z"
   },
   {
    "duration": 13,
    "start_time": "2024-05-20T14:01:04.146Z"
   },
   {
    "duration": 27,
    "start_time": "2024-05-20T14:01:04.161Z"
   },
   {
    "duration": 15,
    "start_time": "2024-05-20T14:01:04.190Z"
   },
   {
    "duration": 13,
    "start_time": "2024-05-20T14:01:04.206Z"
   },
   {
    "duration": 15,
    "start_time": "2024-05-20T14:01:04.221Z"
   },
   {
    "duration": 13,
    "start_time": "2024-05-20T14:01:04.237Z"
   },
   {
    "duration": 1502,
    "start_time": "2024-05-20T16:26:21.128Z"
   },
   {
    "duration": 2698,
    "start_time": "2024-05-20T16:26:22.632Z"
   },
   {
    "duration": 2,
    "start_time": "2024-05-20T16:26:25.332Z"
   },
   {
    "duration": 62,
    "start_time": "2024-05-20T16:26:25.336Z"
   },
   {
    "duration": 64,
    "start_time": "2024-05-20T16:26:25.400Z"
   },
   {
    "duration": 3,
    "start_time": "2024-05-20T16:26:25.466Z"
   },
   {
    "duration": 25,
    "start_time": "2024-05-20T16:26:25.471Z"
   },
   {
    "duration": 52,
    "start_time": "2024-05-20T16:26:25.498Z"
   },
   {
    "duration": 134,
    "start_time": "2024-05-20T16:26:25.552Z"
   },
   {
    "duration": 12,
    "start_time": "2024-05-20T16:26:25.688Z"
   },
   {
    "duration": 12,
    "start_time": "2024-05-20T16:26:25.702Z"
   },
   {
    "duration": 1109,
    "start_time": "2024-05-20T16:26:25.716Z"
   },
   {
    "duration": 2,
    "start_time": "2024-05-20T16:26:26.827Z"
   },
   {
    "duration": 21,
    "start_time": "2024-05-20T16:26:26.834Z"
   },
   {
    "duration": 32,
    "start_time": "2024-05-20T16:26:26.857Z"
   },
   {
    "duration": 188,
    "start_time": "2024-05-20T16:26:26.891Z"
   },
   {
    "duration": 22,
    "start_time": "2024-05-20T16:26:27.081Z"
   },
   {
    "duration": 11,
    "start_time": "2024-05-20T16:26:27.105Z"
   },
   {
    "duration": 90,
    "start_time": "2024-05-20T16:26:27.118Z"
   },
   {
    "duration": 15,
    "start_time": "2024-05-20T16:26:27.210Z"
   },
   {
    "duration": 21,
    "start_time": "2024-05-20T16:26:27.227Z"
   },
   {
    "duration": 5,
    "start_time": "2024-05-20T16:26:27.249Z"
   },
   {
    "duration": 11,
    "start_time": "2024-05-20T16:26:27.255Z"
   },
   {
    "duration": 8,
    "start_time": "2024-05-20T16:26:27.268Z"
   },
   {
    "duration": 36,
    "start_time": "2024-05-20T16:26:27.277Z"
   },
   {
    "duration": 28,
    "start_time": "2024-05-20T16:26:27.315Z"
   },
   {
    "duration": 25,
    "start_time": "2024-05-20T16:26:27.345Z"
   },
   {
    "duration": 20,
    "start_time": "2024-05-20T16:26:27.372Z"
   },
   {
    "duration": 28,
    "start_time": "2024-05-20T16:26:27.394Z"
   },
   {
    "duration": 1748,
    "start_time": "2024-05-20T16:26:27.423Z"
   },
   {
    "duration": 3,
    "start_time": "2024-05-20T16:26:29.174Z"
   },
   {
    "duration": 95,
    "start_time": "2024-05-20T16:26:29.179Z"
   },
   {
    "duration": 4,
    "start_time": "2024-05-20T16:26:29.276Z"
   },
   {
    "duration": 11,
    "start_time": "2024-05-20T16:26:29.282Z"
   },
   {
    "duration": 9,
    "start_time": "2024-05-20T16:26:29.295Z"
   },
   {
    "duration": 6,
    "start_time": "2024-05-20T16:26:29.305Z"
   },
   {
    "duration": 30668,
    "start_time": "2024-05-20T16:26:29.312Z"
   },
   {
    "duration": 2,
    "start_time": "2024-05-20T16:26:59.982Z"
   },
   {
    "duration": 85,
    "start_time": "2024-05-20T16:26:59.986Z"
   },
   {
    "duration": 105,
    "start_time": "2024-05-20T16:27:00.072Z"
   },
   {
    "duration": 115,
    "start_time": "2024-05-20T16:27:00.182Z"
   },
   {
    "duration": 47,
    "start_time": "2024-05-20T16:27:00.299Z"
   },
   {
    "duration": 36,
    "start_time": "2024-05-20T16:27:00.347Z"
   },
   {
    "duration": 182,
    "start_time": "2024-05-20T16:27:00.384Z"
   },
   {
    "duration": 434,
    "start_time": "2024-05-20T16:27:00.567Z"
   },
   {
    "duration": 55,
    "start_time": "2024-05-20T16:27:01.003Z"
   },
   {
    "duration": 46,
    "start_time": "2024-05-20T16:27:01.060Z"
   },
   {
    "duration": 5,
    "start_time": "2024-05-20T16:30:03.943Z"
   },
   {
    "duration": 4,
    "start_time": "2024-05-20T16:30:41.212Z"
   },
   {
    "duration": 5,
    "start_time": "2024-05-20T16:30:42.198Z"
   },
   {
    "duration": 3,
    "start_time": "2024-05-20T16:30:51.556Z"
   },
   {
    "duration": 3,
    "start_time": "2024-05-20T16:30:58.688Z"
   },
   {
    "duration": 4,
    "start_time": "2024-05-20T16:31:01.007Z"
   },
   {
    "duration": 3,
    "start_time": "2024-05-20T16:31:01.385Z"
   },
   {
    "duration": 3,
    "start_time": "2024-05-20T16:31:01.945Z"
   },
   {
    "duration": 3,
    "start_time": "2024-05-20T16:31:27.049Z"
   },
   {
    "duration": 3,
    "start_time": "2024-05-20T16:31:51.115Z"
   },
   {
    "duration": 1528,
    "start_time": "2024-05-20T16:34:52.952Z"
   },
   {
    "duration": 2511,
    "start_time": "2024-05-20T16:34:54.482Z"
   },
   {
    "duration": 2,
    "start_time": "2024-05-20T16:34:56.997Z"
   },
   {
    "duration": 29,
    "start_time": "2024-05-20T16:34:57.002Z"
   },
   {
    "duration": 56,
    "start_time": "2024-05-20T16:34:57.032Z"
   },
   {
    "duration": 4,
    "start_time": "2024-05-20T16:34:57.089Z"
   },
   {
    "duration": 30,
    "start_time": "2024-05-20T16:34:57.094Z"
   },
   {
    "duration": 13,
    "start_time": "2024-05-20T16:34:57.126Z"
   },
   {
    "duration": 84,
    "start_time": "2024-05-20T16:34:57.140Z"
   },
   {
    "duration": 12,
    "start_time": "2024-05-20T16:34:57.226Z"
   },
   {
    "duration": 15,
    "start_time": "2024-05-20T16:34:57.240Z"
   },
   {
    "duration": 1043,
    "start_time": "2024-05-20T16:34:57.256Z"
   },
   {
    "duration": 2,
    "start_time": "2024-05-20T16:34:58.302Z"
   },
   {
    "duration": 9,
    "start_time": "2024-05-20T16:34:58.306Z"
   },
   {
    "duration": 7,
    "start_time": "2024-05-20T16:34:58.316Z"
   },
   {
    "duration": 193,
    "start_time": "2024-05-20T16:34:58.325Z"
   },
   {
    "duration": 20,
    "start_time": "2024-05-20T16:34:58.520Z"
   },
   {
    "duration": 18,
    "start_time": "2024-05-20T16:34:58.542Z"
   },
   {
    "duration": 10,
    "start_time": "2024-05-20T16:34:58.561Z"
   },
   {
    "duration": 3,
    "start_time": "2024-05-20T16:34:58.573Z"
   },
   {
    "duration": 10,
    "start_time": "2024-05-20T16:34:58.578Z"
   },
   {
    "duration": 12,
    "start_time": "2024-05-20T16:34:58.589Z"
   },
   {
    "duration": 6,
    "start_time": "2024-05-20T16:34:58.602Z"
   },
   {
    "duration": 8,
    "start_time": "2024-05-20T16:34:58.609Z"
   },
   {
    "duration": 8,
    "start_time": "2024-05-20T16:34:58.619Z"
   },
   {
    "duration": 6,
    "start_time": "2024-05-20T16:34:58.628Z"
   },
   {
    "duration": 59,
    "start_time": "2024-05-20T16:34:58.636Z"
   },
   {
    "duration": 92,
    "start_time": "2024-05-20T16:34:58.697Z"
   },
   {
    "duration": 8,
    "start_time": "2024-05-20T16:34:58.791Z"
   },
   {
    "duration": 4,
    "start_time": "2024-05-20T16:34:58.800Z"
   },
   {
    "duration": 4,
    "start_time": "2024-05-20T16:34:58.805Z"
   },
   {
    "duration": 19,
    "start_time": "2024-05-20T16:34:58.810Z"
   },
   {
    "duration": 255,
    "start_time": "2024-05-20T16:34:58.830Z"
   },
   {
    "duration": 0,
    "start_time": "2024-05-20T16:34:59.086Z"
   },
   {
    "duration": 0,
    "start_time": "2024-05-20T16:34:59.088Z"
   },
   {
    "duration": 0,
    "start_time": "2024-05-20T16:34:59.089Z"
   },
   {
    "duration": 0,
    "start_time": "2024-05-20T16:34:59.090Z"
   },
   {
    "duration": 0,
    "start_time": "2024-05-20T16:34:59.091Z"
   },
   {
    "duration": 0,
    "start_time": "2024-05-20T16:34:59.092Z"
   },
   {
    "duration": 0,
    "start_time": "2024-05-20T16:34:59.093Z"
   },
   {
    "duration": 0,
    "start_time": "2024-05-20T16:34:59.094Z"
   },
   {
    "duration": 0,
    "start_time": "2024-05-20T16:34:59.096Z"
   },
   {
    "duration": 0,
    "start_time": "2024-05-20T16:34:59.097Z"
   },
   {
    "duration": 0,
    "start_time": "2024-05-20T16:34:59.098Z"
   },
   {
    "duration": 0,
    "start_time": "2024-05-20T16:34:59.099Z"
   },
   {
    "duration": 0,
    "start_time": "2024-05-20T16:34:59.101Z"
   },
   {
    "duration": 0,
    "start_time": "2024-05-20T16:34:59.102Z"
   },
   {
    "duration": 0,
    "start_time": "2024-05-20T16:34:59.103Z"
   },
   {
    "duration": 0,
    "start_time": "2024-05-20T16:34:59.104Z"
   },
   {
    "duration": 0,
    "start_time": "2024-05-20T16:34:59.105Z"
   },
   {
    "duration": 6585,
    "start_time": "2024-05-20T16:35:44.978Z"
   },
   {
    "duration": 3012,
    "start_time": "2024-05-20T16:38:39.882Z"
   },
   {
    "duration": 1268,
    "start_time": "2024-05-20T16:38:42.896Z"
   },
   {
    "duration": 2509,
    "start_time": "2024-05-20T16:38:44.165Z"
   },
   {
    "duration": 2,
    "start_time": "2024-05-20T16:38:46.677Z"
   },
   {
    "duration": 121,
    "start_time": "2024-05-20T16:38:46.681Z"
   },
   {
    "duration": 58,
    "start_time": "2024-05-20T16:38:46.804Z"
   },
   {
    "duration": 3,
    "start_time": "2024-05-20T16:38:46.864Z"
   },
   {
    "duration": 51,
    "start_time": "2024-05-20T16:38:46.868Z"
   },
   {
    "duration": 16,
    "start_time": "2024-05-20T16:38:46.921Z"
   },
   {
    "duration": 8,
    "start_time": "2024-05-20T16:38:46.938Z"
   },
   {
    "duration": 26,
    "start_time": "2024-05-20T16:38:46.948Z"
   },
   {
    "duration": 13,
    "start_time": "2024-05-20T16:38:46.975Z"
   },
   {
    "duration": 887,
    "start_time": "2024-05-20T16:38:46.989Z"
   },
   {
    "duration": 2,
    "start_time": "2024-05-20T16:38:47.879Z"
   },
   {
    "duration": 89,
    "start_time": "2024-05-20T16:38:47.883Z"
   },
   {
    "duration": 7,
    "start_time": "2024-05-20T16:38:47.974Z"
   },
   {
    "duration": 275,
    "start_time": "2024-05-20T16:38:47.982Z"
   },
   {
    "duration": 27,
    "start_time": "2024-05-20T16:38:48.259Z"
   },
   {
    "duration": 5,
    "start_time": "2024-05-20T16:38:48.288Z"
   },
   {
    "duration": 14,
    "start_time": "2024-05-20T16:38:48.294Z"
   },
   {
    "duration": 8,
    "start_time": "2024-05-20T16:38:48.310Z"
   },
   {
    "duration": 20,
    "start_time": "2024-05-20T16:38:48.319Z"
   },
   {
    "duration": 32,
    "start_time": "2024-05-20T16:38:48.340Z"
   },
   {
    "duration": 32,
    "start_time": "2024-05-20T16:38:48.373Z"
   },
   {
    "duration": 26,
    "start_time": "2024-05-20T16:38:48.407Z"
   },
   {
    "duration": 55,
    "start_time": "2024-05-20T16:38:48.434Z"
   },
   {
    "duration": 21,
    "start_time": "2024-05-20T16:38:48.491Z"
   },
   {
    "duration": 59,
    "start_time": "2024-05-20T16:38:48.514Z"
   },
   {
    "duration": 57,
    "start_time": "2024-05-20T16:38:48.575Z"
   },
   {
    "duration": 63,
    "start_time": "2024-05-20T16:38:48.634Z"
   },
   {
    "duration": 101,
    "start_time": "2024-05-20T16:38:48.698Z"
   },
   {
    "duration": 8,
    "start_time": "2024-05-20T16:38:48.801Z"
   },
   {
    "duration": 4,
    "start_time": "2024-05-20T16:38:48.810Z"
   },
   {
    "duration": 2216,
    "start_time": "2024-05-20T16:38:48.816Z"
   },
   {
    "duration": 40,
    "start_time": "2024-05-20T16:38:51.034Z"
   },
   {
    "duration": 155,
    "start_time": "2024-05-20T16:38:51.076Z"
   },
   {
    "duration": 30,
    "start_time": "2024-05-20T16:38:51.232Z"
   },
   {
    "duration": 10,
    "start_time": "2024-05-20T16:38:51.263Z"
   },
   {
    "duration": 12,
    "start_time": "2024-05-20T16:38:51.274Z"
   },
   {
    "duration": 17,
    "start_time": "2024-05-20T16:38:51.288Z"
   },
   {
    "duration": 24863,
    "start_time": "2024-05-20T16:38:51.308Z"
   },
   {
    "duration": 3,
    "start_time": "2024-05-20T16:39:16.172Z"
   },
   {
    "duration": 62,
    "start_time": "2024-05-20T16:39:16.177Z"
   },
   {
    "duration": 15,
    "start_time": "2024-05-20T16:39:16.241Z"
   },
   {
    "duration": 7,
    "start_time": "2024-05-20T16:39:16.258Z"
   },
   {
    "duration": 23,
    "start_time": "2024-05-20T16:39:16.266Z"
   },
   {
    "duration": 25,
    "start_time": "2024-05-20T16:39:16.291Z"
   },
   {
    "duration": 26,
    "start_time": "2024-05-20T16:39:16.318Z"
   },
   {
    "duration": 42,
    "start_time": "2024-05-20T16:39:16.346Z"
   },
   {
    "duration": 34,
    "start_time": "2024-05-20T16:39:16.390Z"
   },
   {
    "duration": 5,
    "start_time": "2024-05-20T16:39:16.426Z"
   },
   {
    "duration": 49,
    "start_time": "2024-05-20T16:42:42.109Z"
   },
   {
    "duration": 3167,
    "start_time": "2024-05-20T16:45:00.610Z"
   },
   {
    "duration": 1410,
    "start_time": "2024-05-20T16:45:03.779Z"
   },
   {
    "duration": 2593,
    "start_time": "2024-05-20T16:45:05.191Z"
   },
   {
    "duration": 2,
    "start_time": "2024-05-20T16:45:07.787Z"
   },
   {
    "duration": 11,
    "start_time": "2024-05-20T16:45:07.791Z"
   },
   {
    "duration": 63,
    "start_time": "2024-05-20T16:45:07.803Z"
   },
   {
    "duration": 2,
    "start_time": "2024-05-20T16:45:07.868Z"
   },
   {
    "duration": 23,
    "start_time": "2024-05-20T16:45:07.872Z"
   },
   {
    "duration": 27,
    "start_time": "2024-05-20T16:45:07.897Z"
   },
   {
    "duration": 9,
    "start_time": "2024-05-20T16:45:07.927Z"
   },
   {
    "duration": 91,
    "start_time": "2024-05-20T16:45:07.937Z"
   },
   {
    "duration": 8,
    "start_time": "2024-05-20T16:45:08.030Z"
   },
   {
    "duration": 1044,
    "start_time": "2024-05-20T16:45:08.039Z"
   },
   {
    "duration": 2,
    "start_time": "2024-05-20T16:45:09.085Z"
   },
   {
    "duration": 22,
    "start_time": "2024-05-20T16:45:09.088Z"
   },
   {
    "duration": 11,
    "start_time": "2024-05-20T16:45:09.111Z"
   },
   {
    "duration": 277,
    "start_time": "2024-05-20T16:45:09.124Z"
   },
   {
    "duration": 21,
    "start_time": "2024-05-20T16:45:09.402Z"
   },
   {
    "duration": 5,
    "start_time": "2024-05-20T16:45:09.425Z"
   },
   {
    "duration": 12,
    "start_time": "2024-05-20T16:45:09.432Z"
   },
   {
    "duration": 12,
    "start_time": "2024-05-20T16:45:09.445Z"
   },
   {
    "duration": 36,
    "start_time": "2024-05-20T16:45:09.459Z"
   },
   {
    "duration": 37,
    "start_time": "2024-05-20T16:45:09.498Z"
   },
   {
    "duration": 24,
    "start_time": "2024-05-20T16:45:09.537Z"
   },
   {
    "duration": 29,
    "start_time": "2024-05-20T16:45:09.563Z"
   },
   {
    "duration": 131,
    "start_time": "2024-05-20T16:45:09.594Z"
   },
   {
    "duration": 103,
    "start_time": "2024-05-20T16:45:09.726Z"
   },
   {
    "duration": 15,
    "start_time": "2024-05-20T16:45:09.833Z"
   },
   {
    "duration": 24,
    "start_time": "2024-05-20T16:45:09.849Z"
   },
   {
    "duration": 25,
    "start_time": "2024-05-20T16:45:09.875Z"
   },
   {
    "duration": 17,
    "start_time": "2024-05-20T16:45:09.902Z"
   },
   {
    "duration": 68,
    "start_time": "2024-05-20T16:45:09.921Z"
   },
   {
    "duration": 13,
    "start_time": "2024-05-20T16:45:09.991Z"
   },
   {
    "duration": 2017,
    "start_time": "2024-05-20T16:45:10.005Z"
   },
   {
    "duration": 4,
    "start_time": "2024-05-20T16:45:12.069Z"
   },
   {
    "duration": 208,
    "start_time": "2024-05-20T16:45:12.075Z"
   },
   {
    "duration": 5,
    "start_time": "2024-05-20T16:45:12.285Z"
   },
   {
    "duration": 19,
    "start_time": "2024-05-20T16:45:12.291Z"
   },
   {
    "duration": 3,
    "start_time": "2024-05-20T16:45:12.312Z"
   },
   {
    "duration": 5,
    "start_time": "2024-05-20T16:45:12.316Z"
   },
   {
    "duration": 4,
    "start_time": "2024-05-20T16:45:12.322Z"
   },
   {
    "duration": 24343,
    "start_time": "2024-05-20T16:45:12.328Z"
   },
   {
    "duration": 3,
    "start_time": "2024-05-20T16:45:36.672Z"
   },
   {
    "duration": 37,
    "start_time": "2024-05-20T16:45:36.677Z"
   },
   {
    "duration": 7,
    "start_time": "2024-05-20T16:45:36.715Z"
   },
   {
    "duration": 10,
    "start_time": "2024-05-20T16:45:36.724Z"
   },
   {
    "duration": 98,
    "start_time": "2024-05-20T16:45:36.735Z"
   },
   {
    "duration": 26,
    "start_time": "2024-05-20T16:45:36.835Z"
   },
   {
    "duration": 8,
    "start_time": "2024-05-20T16:45:36.863Z"
   },
   {
    "duration": 53,
    "start_time": "2024-05-20T16:45:36.873Z"
   },
   {
    "duration": 56,
    "start_time": "2024-05-20T16:45:36.928Z"
   },
   {
    "duration": 24,
    "start_time": "2024-05-20T16:45:36.985Z"
   },
   {
    "duration": 3075,
    "start_time": "2024-05-20T16:47:23.415Z"
   },
   {
    "duration": 1284,
    "start_time": "2024-05-20T16:47:26.492Z"
   },
   {
    "duration": 2577,
    "start_time": "2024-05-20T16:47:27.777Z"
   },
   {
    "duration": 3,
    "start_time": "2024-05-20T16:47:30.356Z"
   },
   {
    "duration": 353,
    "start_time": "2024-05-20T16:47:30.361Z"
   },
   {
    "duration": 203,
    "start_time": "2024-05-20T16:47:30.716Z"
   },
   {
    "duration": 3,
    "start_time": "2024-05-20T16:47:30.921Z"
   },
   {
    "duration": 86,
    "start_time": "2024-05-20T16:47:30.925Z"
   },
   {
    "duration": 174,
    "start_time": "2024-05-20T16:47:31.013Z"
   },
   {
    "duration": 131,
    "start_time": "2024-05-20T16:47:31.189Z"
   },
   {
    "duration": 60,
    "start_time": "2024-05-20T16:47:31.322Z"
   },
   {
    "duration": 42,
    "start_time": "2024-05-20T16:47:31.384Z"
   },
   {
    "duration": 1006,
    "start_time": "2024-05-20T16:47:31.428Z"
   },
   {
    "duration": 3,
    "start_time": "2024-05-20T16:47:32.438Z"
   },
   {
    "duration": 11,
    "start_time": "2024-05-20T16:47:32.442Z"
   },
   {
    "duration": 19,
    "start_time": "2024-05-20T16:47:32.454Z"
   },
   {
    "duration": 263,
    "start_time": "2024-05-20T16:47:32.475Z"
   },
   {
    "duration": 19,
    "start_time": "2024-05-20T16:47:32.740Z"
   },
   {
    "duration": 106,
    "start_time": "2024-05-20T16:47:32.760Z"
   },
   {
    "duration": 12,
    "start_time": "2024-05-20T16:47:32.867Z"
   },
   {
    "duration": 4,
    "start_time": "2024-05-20T16:47:32.880Z"
   },
   {
    "duration": 8,
    "start_time": "2024-05-20T16:47:32.886Z"
   },
   {
    "duration": 3,
    "start_time": "2024-05-20T16:47:32.896Z"
   },
   {
    "duration": 13,
    "start_time": "2024-05-20T16:47:32.901Z"
   },
   {
    "duration": 10,
    "start_time": "2024-05-20T16:47:32.915Z"
   },
   {
    "duration": 27,
    "start_time": "2024-05-20T16:47:32.927Z"
   },
   {
    "duration": 10,
    "start_time": "2024-05-20T16:47:32.956Z"
   },
   {
    "duration": 7,
    "start_time": "2024-05-20T16:47:32.967Z"
   },
   {
    "duration": 12,
    "start_time": "2024-05-20T16:47:32.976Z"
   },
   {
    "duration": 8,
    "start_time": "2024-05-20T16:47:32.989Z"
   },
   {
    "duration": 15,
    "start_time": "2024-05-20T16:47:32.998Z"
   },
   {
    "duration": 13,
    "start_time": "2024-05-20T16:47:33.014Z"
   },
   {
    "duration": 13,
    "start_time": "2024-05-20T16:47:33.029Z"
   },
   {
    "duration": 2146,
    "start_time": "2024-05-20T16:47:33.043Z"
   },
   {
    "duration": 3,
    "start_time": "2024-05-20T16:47:35.191Z"
   },
   {
    "duration": 201,
    "start_time": "2024-05-20T16:47:35.196Z"
   },
   {
    "duration": 170,
    "start_time": "2024-05-20T16:47:35.399Z"
   },
   {
    "duration": 0,
    "start_time": "2024-05-20T16:47:35.571Z"
   },
   {
    "duration": 0,
    "start_time": "2024-05-20T16:47:35.572Z"
   },
   {
    "duration": 0,
    "start_time": "2024-05-20T16:47:35.573Z"
   },
   {
    "duration": 0,
    "start_time": "2024-05-20T16:47:35.574Z"
   },
   {
    "duration": 0,
    "start_time": "2024-05-20T16:47:35.575Z"
   },
   {
    "duration": 0,
    "start_time": "2024-05-20T16:47:35.576Z"
   },
   {
    "duration": 0,
    "start_time": "2024-05-20T16:47:35.577Z"
   },
   {
    "duration": 0,
    "start_time": "2024-05-20T16:47:35.578Z"
   },
   {
    "duration": 0,
    "start_time": "2024-05-20T16:47:35.579Z"
   },
   {
    "duration": 0,
    "start_time": "2024-05-20T16:47:35.580Z"
   },
   {
    "duration": 0,
    "start_time": "2024-05-20T16:47:35.581Z"
   },
   {
    "duration": 0,
    "start_time": "2024-05-20T16:47:35.582Z"
   },
   {
    "duration": 0,
    "start_time": "2024-05-20T16:47:35.583Z"
   },
   {
    "duration": 0,
    "start_time": "2024-05-20T16:47:35.584Z"
   },
   {
    "duration": 0,
    "start_time": "2024-05-20T16:47:35.585Z"
   },
   {
    "duration": 3,
    "start_time": "2024-05-20T16:47:51.142Z"
   },
   {
    "duration": 3,
    "start_time": "2024-05-20T16:48:09.037Z"
   },
   {
    "duration": 4,
    "start_time": "2024-05-20T16:48:09.585Z"
   },
   {
    "duration": 3086,
    "start_time": "2024-05-20T16:48:40.489Z"
   },
   {
    "duration": 1331,
    "start_time": "2024-05-20T16:48:43.577Z"
   },
   {
    "duration": 2509,
    "start_time": "2024-05-20T16:48:44.909Z"
   },
   {
    "duration": 2,
    "start_time": "2024-05-20T16:48:47.420Z"
   },
   {
    "duration": 45,
    "start_time": "2024-05-20T16:48:47.425Z"
   },
   {
    "duration": 73,
    "start_time": "2024-05-20T16:48:47.472Z"
   },
   {
    "duration": 4,
    "start_time": "2024-05-20T16:48:47.546Z"
   },
   {
    "duration": 19,
    "start_time": "2024-05-20T16:48:47.552Z"
   },
   {
    "duration": 23,
    "start_time": "2024-05-20T16:48:47.572Z"
   },
   {
    "duration": 9,
    "start_time": "2024-05-20T16:48:47.597Z"
   },
   {
    "duration": 12,
    "start_time": "2024-05-20T16:48:47.608Z"
   },
   {
    "duration": 60,
    "start_time": "2024-05-20T16:48:47.621Z"
   },
   {
    "duration": 943,
    "start_time": "2024-05-20T16:48:47.682Z"
   },
   {
    "duration": 2,
    "start_time": "2024-05-20T16:48:48.628Z"
   },
   {
    "duration": 62,
    "start_time": "2024-05-20T16:48:48.632Z"
   },
   {
    "duration": 9,
    "start_time": "2024-05-20T16:48:48.696Z"
   },
   {
    "duration": 263,
    "start_time": "2024-05-20T16:48:48.706Z"
   },
   {
    "duration": 20,
    "start_time": "2024-05-20T16:48:48.972Z"
   },
   {
    "duration": 5,
    "start_time": "2024-05-20T16:48:48.993Z"
   },
   {
    "duration": 8,
    "start_time": "2024-05-20T16:48:49.000Z"
   },
   {
    "duration": 4,
    "start_time": "2024-05-20T16:48:49.010Z"
   },
   {
    "duration": 6,
    "start_time": "2024-05-20T16:48:49.015Z"
   },
   {
    "duration": 6,
    "start_time": "2024-05-20T16:48:49.022Z"
   },
   {
    "duration": 6,
    "start_time": "2024-05-20T16:48:49.029Z"
   },
   {
    "duration": 34,
    "start_time": "2024-05-20T16:48:49.036Z"
   },
   {
    "duration": 3,
    "start_time": "2024-05-20T16:48:49.071Z"
   },
   {
    "duration": 7,
    "start_time": "2024-05-20T16:48:49.075Z"
   },
   {
    "duration": 8,
    "start_time": "2024-05-20T16:48:49.083Z"
   },
   {
    "duration": 5,
    "start_time": "2024-05-20T16:48:49.092Z"
   },
   {
    "duration": 7,
    "start_time": "2024-05-20T16:48:49.098Z"
   },
   {
    "duration": 5,
    "start_time": "2024-05-20T16:48:49.107Z"
   },
   {
    "duration": 5,
    "start_time": "2024-05-20T16:48:49.113Z"
   },
   {
    "duration": 3,
    "start_time": "2024-05-20T16:48:49.119Z"
   },
   {
    "duration": 1888,
    "start_time": "2024-05-20T16:48:49.124Z"
   },
   {
    "duration": 58,
    "start_time": "2024-05-20T16:48:51.015Z"
   },
   {
    "duration": 4,
    "start_time": "2024-05-20T16:48:51.075Z"
   },
   {
    "duration": 92,
    "start_time": "2024-05-20T16:48:51.081Z"
   },
   {
    "duration": 82,
    "start_time": "2024-05-20T16:48:51.175Z"
   },
   {
    "duration": 39,
    "start_time": "2024-05-20T16:48:51.258Z"
   },
   {
    "duration": 11,
    "start_time": "2024-05-20T16:48:51.299Z"
   },
   {
    "duration": 5,
    "start_time": "2024-05-20T16:48:51.316Z"
   },
   {
    "duration": 25162,
    "start_time": "2024-05-20T16:48:51.323Z"
   },
   {
    "duration": 3,
    "start_time": "2024-05-20T16:49:16.487Z"
   },
   {
    "duration": 79,
    "start_time": "2024-05-20T16:49:16.491Z"
   },
   {
    "duration": 58,
    "start_time": "2024-05-20T16:49:16.572Z"
   },
   {
    "duration": 24,
    "start_time": "2024-05-20T16:49:16.632Z"
   },
   {
    "duration": 22,
    "start_time": "2024-05-20T16:49:16.659Z"
   },
   {
    "duration": 14,
    "start_time": "2024-05-20T16:49:16.682Z"
   },
   {
    "duration": 32,
    "start_time": "2024-05-20T16:49:16.697Z"
   },
   {
    "duration": 26,
    "start_time": "2024-05-20T16:49:16.731Z"
   },
   {
    "duration": 77,
    "start_time": "2024-05-20T16:49:16.759Z"
   },
   {
    "duration": 20,
    "start_time": "2024-05-20T16:49:16.838Z"
   },
   {
    "duration": 30,
    "start_time": "2024-05-20T16:52:01.610Z"
   },
   {
    "duration": 224,
    "start_time": "2024-05-20T16:52:27.384Z"
   },
   {
    "duration": 305,
    "start_time": "2024-05-20T16:53:52.968Z"
   },
   {
    "duration": 196,
    "start_time": "2024-05-20T16:54:35.912Z"
   },
   {
    "duration": 261,
    "start_time": "2024-05-20T16:54:39.440Z"
   },
   {
    "duration": 244,
    "start_time": "2024-05-20T16:54:54.694Z"
   },
   {
    "duration": 3017,
    "start_time": "2024-05-20T16:58:40.864Z"
   },
   {
    "duration": 1370,
    "start_time": "2024-05-20T16:58:43.883Z"
   },
   {
    "duration": 2536,
    "start_time": "2024-05-20T16:58:45.255Z"
   },
   {
    "duration": 3,
    "start_time": "2024-05-20T16:58:47.794Z"
   },
   {
    "duration": 90,
    "start_time": "2024-05-20T16:58:47.798Z"
   },
   {
    "duration": 68,
    "start_time": "2024-05-20T16:58:47.889Z"
   },
   {
    "duration": 3,
    "start_time": "2024-05-20T16:58:47.958Z"
   },
   {
    "duration": 21,
    "start_time": "2024-05-20T16:58:47.962Z"
   },
   {
    "duration": 95,
    "start_time": "2024-05-20T16:58:47.984Z"
   },
   {
    "duration": 10,
    "start_time": "2024-05-20T16:58:48.082Z"
   },
   {
    "duration": 97,
    "start_time": "2024-05-20T16:58:48.094Z"
   },
   {
    "duration": 24,
    "start_time": "2024-05-20T16:58:48.193Z"
   },
   {
    "duration": 1080,
    "start_time": "2024-05-20T16:58:48.218Z"
   },
   {
    "duration": 3,
    "start_time": "2024-05-20T16:58:49.299Z"
   },
   {
    "duration": 40,
    "start_time": "2024-05-20T16:58:49.303Z"
   },
   {
    "duration": 23,
    "start_time": "2024-05-20T16:58:49.345Z"
   },
   {
    "duration": 188,
    "start_time": "2024-05-20T16:58:49.370Z"
   },
   {
    "duration": 22,
    "start_time": "2024-05-20T16:58:49.560Z"
   },
   {
    "duration": 244,
    "start_time": "2024-05-20T16:58:49.583Z"
   },
   {
    "duration": 8,
    "start_time": "2024-05-20T16:58:49.828Z"
   },
   {
    "duration": 13,
    "start_time": "2024-05-20T16:58:49.838Z"
   },
   {
    "duration": 3,
    "start_time": "2024-05-20T16:58:49.853Z"
   },
   {
    "duration": 4,
    "start_time": "2024-05-20T16:58:49.869Z"
   },
   {
    "duration": 11,
    "start_time": "2024-05-20T16:58:49.875Z"
   },
   {
    "duration": 19,
    "start_time": "2024-05-20T16:58:49.888Z"
   },
   {
    "duration": 8,
    "start_time": "2024-05-20T16:58:49.909Z"
   },
   {
    "duration": 4,
    "start_time": "2024-05-20T16:58:49.919Z"
   },
   {
    "duration": 4,
    "start_time": "2024-05-20T16:58:49.927Z"
   },
   {
    "duration": 22,
    "start_time": "2024-05-20T16:58:49.932Z"
   },
   {
    "duration": 18,
    "start_time": "2024-05-20T16:58:49.956Z"
   },
   {
    "duration": 87,
    "start_time": "2024-05-20T16:58:49.976Z"
   },
   {
    "duration": 17,
    "start_time": "2024-05-20T16:58:50.065Z"
   },
   {
    "duration": 21,
    "start_time": "2024-05-20T16:58:50.083Z"
   },
   {
    "duration": 105,
    "start_time": "2024-05-20T16:58:50.106Z"
   },
   {
    "duration": 2061,
    "start_time": "2024-05-20T16:58:50.213Z"
   },
   {
    "duration": 3,
    "start_time": "2024-05-20T16:58:52.277Z"
   },
   {
    "duration": 98,
    "start_time": "2024-05-20T16:58:52.371Z"
   },
   {
    "duration": 38,
    "start_time": "2024-05-20T16:58:52.471Z"
   },
   {
    "duration": 23,
    "start_time": "2024-05-20T16:58:52.510Z"
   },
   {
    "duration": 29,
    "start_time": "2024-05-20T16:58:52.534Z"
   },
   {
    "duration": 13,
    "start_time": "2024-05-20T16:58:52.564Z"
   },
   {
    "duration": 9,
    "start_time": "2024-05-20T16:58:52.579Z"
   },
   {
    "duration": 41089,
    "start_time": "2024-05-20T16:58:52.590Z"
   },
   {
    "duration": 3,
    "start_time": "2024-05-20T16:59:33.680Z"
   },
   {
    "duration": 49,
    "start_time": "2024-05-20T16:59:33.684Z"
   },
   {
    "duration": 118,
    "start_time": "2024-05-20T16:59:33.734Z"
   },
   {
    "duration": 6,
    "start_time": "2024-05-20T16:59:33.854Z"
   },
   {
    "duration": 11,
    "start_time": "2024-05-20T16:59:33.862Z"
   },
   {
    "duration": 11,
    "start_time": "2024-05-20T16:59:33.874Z"
   },
   {
    "duration": 6,
    "start_time": "2024-05-20T16:59:33.886Z"
   },
   {
    "duration": 13,
    "start_time": "2024-05-20T16:59:33.893Z"
   },
   {
    "duration": 3,
    "start_time": "2024-05-20T16:59:33.908Z"
   },
   {
    "duration": 10,
    "start_time": "2024-05-20T16:59:33.913Z"
   },
   {
    "duration": 3,
    "start_time": "2024-05-20T17:00:12.582Z"
   },
   {
    "duration": 3572,
    "start_time": "2024-05-20T17:00:20.030Z"
   },
   {
    "duration": 1306,
    "start_time": "2024-05-20T17:00:23.605Z"
   },
   {
    "duration": 2580,
    "start_time": "2024-05-20T17:00:24.913Z"
   },
   {
    "duration": 3,
    "start_time": "2024-05-20T17:00:27.494Z"
   },
   {
    "duration": 49,
    "start_time": "2024-05-20T17:00:27.500Z"
   },
   {
    "duration": 57,
    "start_time": "2024-05-20T17:00:27.551Z"
   },
   {
    "duration": 3,
    "start_time": "2024-05-20T17:00:27.610Z"
   },
   {
    "duration": 24,
    "start_time": "2024-05-20T17:00:27.615Z"
   },
   {
    "duration": 210,
    "start_time": "2024-05-20T17:00:27.641Z"
   },
   {
    "duration": 11,
    "start_time": "2024-05-20T17:00:27.853Z"
   },
   {
    "duration": 12,
    "start_time": "2024-05-20T17:00:27.866Z"
   },
   {
    "duration": 27,
    "start_time": "2024-05-20T17:00:27.879Z"
   },
   {
    "duration": 1069,
    "start_time": "2024-05-20T17:00:27.908Z"
   },
   {
    "duration": 2,
    "start_time": "2024-05-20T17:00:28.980Z"
   },
   {
    "duration": 25,
    "start_time": "2024-05-20T17:00:28.983Z"
   },
   {
    "duration": 14,
    "start_time": "2024-05-20T17:00:29.010Z"
   },
   {
    "duration": 195,
    "start_time": "2024-05-20T17:00:29.026Z"
   },
   {
    "duration": 20,
    "start_time": "2024-05-20T17:00:29.222Z"
   },
   {
    "duration": 285,
    "start_time": "2024-05-20T17:00:29.244Z"
   },
   {
    "duration": 6,
    "start_time": "2024-05-20T17:00:29.530Z"
   },
   {
    "duration": 9,
    "start_time": "2024-05-20T17:00:29.538Z"
   },
   {
    "duration": 18,
    "start_time": "2024-05-20T17:00:29.548Z"
   },
   {
    "duration": 15,
    "start_time": "2024-05-20T17:00:29.567Z"
   },
   {
    "duration": 6,
    "start_time": "2024-05-20T17:00:29.583Z"
   },
   {
    "duration": 10,
    "start_time": "2024-05-20T17:00:29.591Z"
   },
   {
    "duration": 23,
    "start_time": "2024-05-20T17:00:29.602Z"
   },
   {
    "duration": 150,
    "start_time": "2024-05-20T17:00:29.626Z"
   },
   {
    "duration": 89,
    "start_time": "2024-05-20T17:00:29.778Z"
   },
   {
    "duration": 10,
    "start_time": "2024-05-20T17:00:29.869Z"
   },
   {
    "duration": 22,
    "start_time": "2024-05-20T17:00:29.881Z"
   },
   {
    "duration": 8,
    "start_time": "2024-05-20T17:00:29.904Z"
   },
   {
    "duration": 11,
    "start_time": "2024-05-20T17:00:29.914Z"
   },
   {
    "duration": 12,
    "start_time": "2024-05-20T17:00:29.927Z"
   },
   {
    "duration": 5,
    "start_time": "2024-05-20T17:00:29.941Z"
   },
   {
    "duration": 1971,
    "start_time": "2024-05-20T17:00:29.948Z"
   },
   {
    "duration": 50,
    "start_time": "2024-05-20T17:00:31.921Z"
   },
   {
    "duration": 407,
    "start_time": "2024-05-20T17:00:31.973Z"
   },
   {
    "duration": 187,
    "start_time": "2024-05-20T17:00:32.382Z"
   },
   {
    "duration": 28,
    "start_time": "2024-05-20T17:00:32.571Z"
   },
   {
    "duration": 23,
    "start_time": "2024-05-20T17:00:32.601Z"
   },
   {
    "duration": 15,
    "start_time": "2024-05-20T17:00:32.628Z"
   },
   {
    "duration": 12,
    "start_time": "2024-05-20T17:00:32.645Z"
   },
   {
    "duration": 27224,
    "start_time": "2024-05-20T17:00:32.658Z"
   },
   {
    "duration": 3,
    "start_time": "2024-05-20T17:00:59.884Z"
   },
   {
    "duration": 39,
    "start_time": "2024-05-20T17:00:59.888Z"
   },
   {
    "duration": 6,
    "start_time": "2024-05-20T17:00:59.928Z"
   },
   {
    "duration": 38,
    "start_time": "2024-05-20T17:00:59.935Z"
   },
   {
    "duration": 7,
    "start_time": "2024-05-20T17:00:59.974Z"
   },
   {
    "duration": 412,
    "start_time": "2024-05-20T17:00:59.982Z"
   },
   {
    "duration": 3276,
    "start_time": "2024-05-20T17:01:02.288Z"
   },
   {
    "duration": 1437,
    "start_time": "2024-05-20T17:01:05.567Z"
   },
   {
    "duration": 2549,
    "start_time": "2024-05-20T17:01:07.006Z"
   },
   {
    "duration": 2,
    "start_time": "2024-05-20T17:01:09.557Z"
   },
   {
    "duration": 33,
    "start_time": "2024-05-20T17:01:09.561Z"
   },
   {
    "duration": 157,
    "start_time": "2024-05-20T17:01:09.596Z"
   },
   {
    "duration": 157,
    "start_time": "2024-05-20T17:01:09.755Z"
   },
   {
    "duration": 59,
    "start_time": "2024-05-20T17:01:09.914Z"
   },
   {
    "duration": 21,
    "start_time": "2024-05-20T17:01:09.974Z"
   },
   {
    "duration": 92,
    "start_time": "2024-05-20T17:01:09.997Z"
   },
   {
    "duration": 36,
    "start_time": "2024-05-20T17:01:10.090Z"
   },
   {
    "duration": 86,
    "start_time": "2024-05-20T17:01:10.128Z"
   },
   {
    "duration": 1049,
    "start_time": "2024-05-20T17:01:10.216Z"
   },
   {
    "duration": 2,
    "start_time": "2024-05-20T17:01:11.269Z"
   },
   {
    "duration": 75,
    "start_time": "2024-05-20T17:01:11.273Z"
   },
   {
    "duration": 16,
    "start_time": "2024-05-20T17:01:11.350Z"
   },
   {
    "duration": 212,
    "start_time": "2024-05-20T17:01:11.368Z"
   },
   {
    "duration": 21,
    "start_time": "2024-05-20T17:01:11.582Z"
   },
   {
    "duration": 228,
    "start_time": "2024-05-20T17:01:11.605Z"
   },
   {
    "duration": 7,
    "start_time": "2024-05-20T17:01:11.835Z"
   },
   {
    "duration": 25,
    "start_time": "2024-05-20T17:01:11.844Z"
   },
   {
    "duration": 5,
    "start_time": "2024-05-20T17:01:11.871Z"
   },
   {
    "duration": 7,
    "start_time": "2024-05-20T17:01:11.877Z"
   },
   {
    "duration": 7,
    "start_time": "2024-05-20T17:01:11.886Z"
   },
   {
    "duration": 7,
    "start_time": "2024-05-20T17:01:11.895Z"
   },
   {
    "duration": 7,
    "start_time": "2024-05-20T17:01:11.903Z"
   },
   {
    "duration": 14,
    "start_time": "2024-05-20T17:01:11.911Z"
   },
   {
    "duration": 35,
    "start_time": "2024-05-20T17:01:11.926Z"
   },
   {
    "duration": 11,
    "start_time": "2024-05-20T17:01:11.963Z"
   },
   {
    "duration": 79,
    "start_time": "2024-05-20T17:01:11.975Z"
   },
   {
    "duration": 20,
    "start_time": "2024-05-20T17:01:12.055Z"
   },
   {
    "duration": 16,
    "start_time": "2024-05-20T17:01:12.077Z"
   },
   {
    "duration": 18,
    "start_time": "2024-05-20T17:01:12.095Z"
   },
   {
    "duration": 5,
    "start_time": "2024-05-20T17:01:12.115Z"
   },
   {
    "duration": 1992,
    "start_time": "2024-05-20T17:01:12.121Z"
   },
   {
    "duration": 5,
    "start_time": "2024-05-20T17:01:14.171Z"
   },
   {
    "duration": 98,
    "start_time": "2024-05-20T17:01:14.270Z"
   },
   {
    "duration": 14,
    "start_time": "2024-05-20T17:01:14.370Z"
   },
   {
    "duration": 13,
    "start_time": "2024-05-20T17:01:14.385Z"
   },
   {
    "duration": 7,
    "start_time": "2024-05-20T17:01:14.400Z"
   },
   {
    "duration": 3,
    "start_time": "2024-05-20T17:01:14.411Z"
   },
   {
    "duration": 8,
    "start_time": "2024-05-20T17:01:14.415Z"
   },
   {
    "duration": 23861,
    "start_time": "2024-05-20T17:01:14.425Z"
   },
   {
    "duration": 3,
    "start_time": "2024-05-20T17:01:38.370Z"
   },
   {
    "duration": 31,
    "start_time": "2024-05-20T17:01:38.374Z"
   },
   {
    "duration": 10,
    "start_time": "2024-05-20T17:01:38.406Z"
   },
   {
    "duration": 9,
    "start_time": "2024-05-20T17:01:38.417Z"
   },
   {
    "duration": 9,
    "start_time": "2024-05-20T17:01:38.428Z"
   },
   {
    "duration": 11,
    "start_time": "2024-05-20T17:01:38.438Z"
   },
   {
    "duration": 20,
    "start_time": "2024-05-20T17:01:38.450Z"
   },
   {
    "duration": 22,
    "start_time": "2024-05-20T17:01:38.472Z"
   },
   {
    "duration": 9,
    "start_time": "2024-05-20T17:01:38.496Z"
   },
   {
    "duration": 19,
    "start_time": "2024-05-20T17:01:38.506Z"
   },
   {
    "duration": 2190,
    "start_time": "2024-08-28T17:34:06.997Z"
   },
   {
    "duration": 1377,
    "start_time": "2024-08-28T17:34:09.190Z"
   },
   {
    "duration": 1892,
    "start_time": "2024-08-28T17:34:10.570Z"
   },
   {
    "duration": 4,
    "start_time": "2024-08-28T17:34:12.465Z"
   },
   {
    "duration": 8,
    "start_time": "2024-08-28T17:34:12.471Z"
   },
   {
    "duration": 214,
    "start_time": "2024-08-28T17:34:12.481Z"
   },
   {
    "duration": 3,
    "start_time": "2024-08-28T17:34:12.697Z"
   },
   {
    "duration": 15,
    "start_time": "2024-08-28T17:34:12.702Z"
   },
   {
    "duration": 15,
    "start_time": "2024-08-28T17:34:12.718Z"
   },
   {
    "duration": 12,
    "start_time": "2024-08-28T17:34:12.736Z"
   },
   {
    "duration": 12,
    "start_time": "2024-08-28T17:34:12.750Z"
   },
   {
    "duration": 36,
    "start_time": "2024-08-28T17:34:12.763Z"
   },
   {
    "duration": 1010,
    "start_time": "2024-08-28T17:34:12.800Z"
   },
   {
    "duration": 2,
    "start_time": "2024-08-28T17:34:13.812Z"
   },
   {
    "duration": 6,
    "start_time": "2024-08-28T17:34:13.815Z"
   },
   {
    "duration": 9,
    "start_time": "2024-08-28T17:34:13.822Z"
   },
   {
    "duration": 172,
    "start_time": "2024-08-28T17:34:13.832Z"
   },
   {
    "duration": 21,
    "start_time": "2024-08-28T17:34:14.005Z"
   },
   {
    "duration": 224,
    "start_time": "2024-08-28T17:34:14.027Z"
   },
   {
    "duration": 6,
    "start_time": "2024-08-28T17:34:14.253Z"
   },
   {
    "duration": 40,
    "start_time": "2024-08-28T17:34:14.260Z"
   },
   {
    "duration": 5,
    "start_time": "2024-08-28T17:34:14.301Z"
   },
   {
    "duration": 5,
    "start_time": "2024-08-28T17:34:14.307Z"
   },
   {
    "duration": 18,
    "start_time": "2024-08-28T17:34:14.313Z"
   },
   {
    "duration": 5,
    "start_time": "2024-08-28T17:34:14.332Z"
   },
   {
    "duration": 5,
    "start_time": "2024-08-28T17:34:14.339Z"
   },
   {
    "duration": 13,
    "start_time": "2024-08-28T17:34:14.345Z"
   },
   {
    "duration": 5,
    "start_time": "2024-08-28T17:34:14.361Z"
   },
   {
    "duration": 3,
    "start_time": "2024-08-28T17:34:14.368Z"
   },
   {
    "duration": 3,
    "start_time": "2024-08-28T17:34:14.373Z"
   },
   {
    "duration": 20,
    "start_time": "2024-08-28T17:34:14.378Z"
   },
   {
    "duration": 8,
    "start_time": "2024-08-28T17:34:14.400Z"
   },
   {
    "duration": 3,
    "start_time": "2024-08-28T17:34:14.410Z"
   },
   {
    "duration": 7,
    "start_time": "2024-08-28T17:34:14.414Z"
   },
   {
    "duration": 2202,
    "start_time": "2024-08-28T17:34:14.422Z"
   },
   {
    "duration": 78,
    "start_time": "2024-08-28T17:34:16.626Z"
   },
   {
    "duration": 99,
    "start_time": "2024-08-28T17:34:16.706Z"
   },
   {
    "duration": 16,
    "start_time": "2024-08-28T17:34:16.807Z"
   },
   {
    "duration": 12,
    "start_time": "2024-08-28T17:34:16.824Z"
   },
   {
    "duration": 8,
    "start_time": "2024-08-28T17:34:16.838Z"
   },
   {
    "duration": 11,
    "start_time": "2024-08-28T17:34:16.847Z"
   },
   {
    "duration": 5,
    "start_time": "2024-08-28T17:34:16.860Z"
   },
   {
    "duration": 29431,
    "start_time": "2024-08-28T17:34:16.867Z"
   },
   {
    "duration": 3,
    "start_time": "2024-08-28T17:34:46.299Z"
   },
   {
    "duration": 20,
    "start_time": "2024-08-28T17:34:46.304Z"
   },
   {
    "duration": 4,
    "start_time": "2024-08-28T17:34:46.325Z"
   },
   {
    "duration": 4,
    "start_time": "2024-08-28T17:34:46.330Z"
   },
   {
    "duration": 5,
    "start_time": "2024-08-28T17:34:46.336Z"
   },
   {
    "duration": 4,
    "start_time": "2024-08-28T17:34:46.343Z"
   },
   {
    "duration": 7,
    "start_time": "2024-08-28T17:34:46.348Z"
   },
   {
    "duration": 43,
    "start_time": "2024-08-28T17:34:46.357Z"
   },
   {
    "duration": 5,
    "start_time": "2024-08-28T17:34:46.402Z"
   },
   {
    "duration": 14,
    "start_time": "2024-08-28T17:34:46.408Z"
   }
  ],
  "kernelspec": {
   "display_name": "Python 3 (ipykernel)",
   "language": "python",
   "name": "python3"
  },
  "language_info": {
   "codemirror_mode": {
    "name": "ipython",
    "version": 3
   },
   "file_extension": ".py",
   "mimetype": "text/x-python",
   "name": "python",
   "nbconvert_exporter": "python",
   "pygments_lexer": "ipython3",
   "version": "3.9.5"
  },
  "toc": {
   "base_numbering": 1,
   "nav_menu": {},
   "number_sections": true,
   "sideBar": true,
   "skip_h1_title": true,
   "title_cell": "Содержание",
   "title_sidebar": "Contents",
   "toc_cell": true,
   "toc_position": {
    "height": "calc(100% - 180px)",
    "left": "10px",
    "top": "150px",
    "width": "165px"
   },
   "toc_section_display": true,
   "toc_window_display": true
  }
 },
 "nbformat": 4,
 "nbformat_minor": 2
}
