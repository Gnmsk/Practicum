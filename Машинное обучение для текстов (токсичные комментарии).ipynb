{
 "cells": [
  {
   "cell_type": "markdown",
   "metadata": {
    "toc": true
   },
   "source": [
    "<h1>Содержание<span class=\"tocSkip\"></span></h1>\n",
    "<div class=\"toc\"><ul class=\"toc-item\"><li><span><a href=\"#Подготовка\" data-toc-modified-id=\"Подготовка-1\"><span class=\"toc-item-num\">1&nbsp;&nbsp;</span>Подготовка</a></span></li><li><span><a href=\"#Обучение\" data-toc-modified-id=\"Обучение-2\"><span class=\"toc-item-num\">2&nbsp;&nbsp;</span>Обучение</a></span></li><li><span><a href=\"#Выводы\" data-toc-modified-id=\"Выводы-3\"><span class=\"toc-item-num\">3&nbsp;&nbsp;</span>Выводы</a></span></li><li><span><a href=\"#Чек-лист-проверки\" data-toc-modified-id=\"Чек-лист-проверки-4\"><span class=\"toc-item-num\">4&nbsp;&nbsp;</span>Чек-лист проверки</a></span></li></ul></div>"
   ]
  },
  {
   "cell_type": "markdown",
   "metadata": {},
   "source": [
    "# Проект для «Викишоп»"
   ]
  },
  {
   "cell_type": "markdown",
   "metadata": {},
   "source": [
    "Интернет-магазин «Викишоп» запускает новый сервис. Теперь пользователи могут редактировать и дополнять описания товаров, как в вики-сообществах. То есть клиенты предлагают свои правки и комментируют изменения других. Магазину нужен инструмент, который будет искать токсичные комментарии и отправлять их на модерацию. \n",
    "\n",
    "Обучите модель классифицировать комментарии на позитивные и негативные. В вашем распоряжении набор данных с разметкой о токсичности правок.\n",
    "\n",
    "Постройте модель со значением метрики качества *F1* не меньше 0.75. \n",
    "\n",
    "**Инструкция по выполнению проекта**\n",
    "\n",
    "1. Загрузите и подготовьте данные.\n",
    "2. Обучите разные модели. \n",
    "3. Сделайте выводы.\n",
    "\n",
    "Для выполнения проекта применять *BERT* необязательно, но вы можете попробовать.\n",
    "\n",
    "**Описание данных**\n",
    "\n",
    "Данные находятся в файле `toxic_comments.csv`. Столбец *text* в нём содержит текст комментария, а *toxic* — целевой признак."
   ]
  },
  {
   "cell_type": "code",
   "execution_count": 1,
   "metadata": {},
   "outputs": [],
   "source": [
    "import sys"
   ]
  },
  {
   "cell_type": "code",
   "execution_count": 2,
   "metadata": {},
   "outputs": [],
   "source": [
    "!pip install --upgrade pip -q"
   ]
  },
  {
   "cell_type": "code",
   "execution_count": 3,
   "metadata": {},
   "outputs": [
    {
     "name": "stdout",
     "output_type": "stream",
     "text": [
      "\u001b[33mWARNING: Error parsing dependencies of ipykernel: Expected matching RIGHT_PARENTHESIS for LEFT_PARENTHESIS, after version specifier\r\n",
      "    matplotlib-inline (<0.2.0appnope,>=0.1.0) ; platform_system == \"Darwin\"\r\n",
      "                      ~~~~~~~~^\u001b[0m\u001b[33m\r\n",
      "\u001b[0m"
     ]
    }
   ],
   "source": [
    "!pip install -U scikit-learn -q"
   ]
  },
  {
   "cell_type": "code",
   "execution_count": 4,
   "metadata": {},
   "outputs": [
    {
     "name": "stdout",
     "output_type": "stream",
     "text": [
      "\u001b[33mWARNING: Error parsing dependencies of ipykernel: Expected matching RIGHT_PARENTHESIS for LEFT_PARENTHESIS, after version specifier\r\n",
      "    matplotlib-inline (<0.2.0appnope,>=0.1.0) ; platform_system == \"Darwin\"\r\n",
      "                      ~~~~~~~~^\u001b[0m\u001b[33m\r\n",
      "\u001b[0m"
     ]
    }
   ],
   "source": [
    "!{sys.executable} -m pip install spacy -q"
   ]
  },
  {
   "cell_type": "code",
   "execution_count": 5,
   "metadata": {},
   "outputs": [
    {
     "name": "stdout",
     "output_type": "stream",
     "text": [
      "\u001b[33mDEPRECATION: https://github.com/explosion/spacy-models/releases/download/en_core_web_sm-3.2.0/en_core_web_sm-3.2.0-py3-none-any.whl#egg=en_core_web_sm==3.2.0 contains an egg fragment with a non-PEP 508 name pip 25.0 will enforce this behaviour change. A possible replacement is to use the req @ url syntax, and remove the egg fragment. Discussion can be found at https://github.com/pypa/pip/issues/11617\u001b[0m\u001b[33m\n",
      "\u001b[0m\u001b[33mWARNING: Error parsing dependencies of ipykernel: Expected matching RIGHT_PARENTHESIS for LEFT_PARENTHESIS, after version specifier\n",
      "    matplotlib-inline (<0.2.0appnope,>=0.1.0) ; platform_system == \"Darwin\"\n",
      "                      ~~~~~~~~^\u001b[0m\u001b[33m\n",
      "\u001b[0m\u001b[38;5;2m✔ Download and installation successful\u001b[0m\n",
      "You can now load the package via spacy.load('en_core_web_sm')\n"
     ]
    }
   ],
   "source": [
    "!{sys.executable} -m spacy download en_core_web_sm -q"
   ]
  },
  {
   "cell_type": "code",
   "execution_count": 6,
   "metadata": {},
   "outputs": [],
   "source": [
    "import pandas as pd\n",
    "import re\n",
    "import spacy\n",
    "import nltk\n",
    "import seaborn as sn\n",
    "import matplotlib.pyplot as plt\n",
    "from nltk.corpus import stopwords\n",
    "from tqdm import tqdm\n",
    "from sklearn.metrics import f1_score\n",
    "from sklearn.feature_extraction.text import TfidfVectorizer\n",
    "\n",
    "from sklearn.model_selection import train_test_split, GridSearchCV\n",
    "from sklearn.pipeline import Pipeline\n",
    "from sklearn.compose import ColumnTransformer\n",
    "from sklearn.impute import SimpleImputer\n",
    "\n",
    "from sklearn.linear_model import LogisticRegression\n",
    "import sklearn.svm as svm\n",
    "from sklearn.tree import DecisionTreeClassifier\n",
    "from sklearn.neighbors import KNeighborsClassifier\n",
    "from catboost import CatBoostClassifier"
   ]
  },
  {
   "cell_type": "code",
   "execution_count": 7,
   "metadata": {},
   "outputs": [
    {
     "name": "stderr",
     "output_type": "stream",
     "text": [
      "[nltk_data] Downloading package stopwords to /home/jovyan/nltk_data...\n",
      "[nltk_data]   Package stopwords is already up-to-date!\n"
     ]
    },
    {
     "data": {
      "text/plain": [
       "True"
      ]
     },
     "execution_count": 7,
     "metadata": {},
     "output_type": "execute_result"
    }
   ],
   "source": [
    "nltk.download('stopwords')"
   ]
  },
  {
   "cell_type": "code",
   "execution_count": 8,
   "metadata": {},
   "outputs": [],
   "source": [
    "RANDOM_STATE=42"
   ]
  },
  {
   "cell_type": "code",
   "execution_count": 9,
   "metadata": {},
   "outputs": [],
   "source": [
    "def lemmatize_text(text):\n",
    "    doc = nlp(text)\n",
    "    return(re.sub(r'[^a-zA-Z ]', ' ',\" \".join([token.lemma_ for token in doc])))"
   ]
  },
  {
   "cell_type": "markdown",
   "metadata": {},
   "source": [
    "## Подготовка"
   ]
  },
  {
   "cell_type": "code",
   "execution_count": 10,
   "metadata": {},
   "outputs": [],
   "source": [
    "data = pd.read_csv('/datasets/toxic_comments.csv', index_col=[0])"
   ]
  },
  {
   "cell_type": "code",
   "execution_count": 11,
   "metadata": {},
   "outputs": [
    {
     "data": {
      "text/plain": [
       "0"
      ]
     },
     "execution_count": 11,
     "metadata": {},
     "output_type": "execute_result"
    }
   ],
   "source": [
    "data.duplicated().sum()"
   ]
  },
  {
   "cell_type": "code",
   "execution_count": 12,
   "metadata": {},
   "outputs": [
    {
     "data": {
      "text/plain": [
       "text     0\n",
       "toxic    0\n",
       "dtype: int64"
      ]
     },
     "execution_count": 12,
     "metadata": {},
     "output_type": "execute_result"
    }
   ],
   "source": [
    "data.isna().sum()"
   ]
  },
  {
   "cell_type": "code",
   "execution_count": 13,
   "metadata": {},
   "outputs": [
    {
     "data": {
      "text/plain": [
       "0    143106\n",
       "1     16186\n",
       "Name: toxic, dtype: int64"
      ]
     },
     "execution_count": 13,
     "metadata": {},
     "output_type": "execute_result"
    }
   ],
   "source": [
    "data['toxic'].value_counts()"
   ]
  },
  {
   "cell_type": "code",
   "execution_count": 14,
   "metadata": {},
   "outputs": [
    {
     "data": {
      "image/png": "[encoded data removed]",
      "text/plain": [
       "<Figure size 576x360 with 1 Axes>"
      ]
     },
     "metadata": {
      "needs_background": "light"
     },
     "output_type": "display_data"
    }
   ],
   "source": [
    "sn.set_palette('Set2')\n",
    "plt.subplots(figsize=(8, 5))\n",
    "plt.title(label=f'Распределение целевого признака в данных' , fontsize=15)\n",
    "sn.countplot(data=data, x='toxic');"
   ]
  },
  {
   "cell_type": "code",
   "execution_count": 15,
   "metadata": {},
   "outputs": [],
   "source": [
    "nlp = spacy.load('en_core_web_sm', disable=['parser', 'ner'])"
   ]
  },
  {
   "cell_type": "code",
   "execution_count": 16,
   "metadata": {},
   "outputs": [],
   "source": [
    "tqdm.pandas()"
   ]
  },
  {
   "cell_type": "code",
   "execution_count": 17,
   "metadata": {},
   "outputs": [
    {
     "name": "stderr",
     "output_type": "stream",
     "text": [
      "100%|██████████| 159292/159292 [17:04<00:00, 155.46it/s]\n"
     ]
    }
   ],
   "source": [
    "data['lemm_text'] = data['text'].progress_apply(lemmatize_text)"
   ]
  },
  {
   "cell_type": "code",
   "execution_count": 18,
   "metadata": {},
   "outputs": [],
   "source": [
    "stop_words = set(stopwords.words('english'))"
   ]
  },
  {
   "cell_type": "code",
   "execution_count": 19,
   "metadata": {},
   "outputs": [],
   "source": [
    "vectorizer = TfidfVectorizer(stop_words=list(stop_words))"
   ]
  },
  {
   "cell_type": "markdown",
   "metadata": {},
   "source": [
    "**Промежуточный вывод по подготовке данных**"
   ]
  },
  {
   "cell_type": "markdown",
   "metadata": {},
   "source": [
    "* Дубликатов в данных не было\n",
    "* Пропусков в данных не было\n",
    "* Наблюдается дисбаланс целевого признака, который будет учтен при разделении данных на обучающие и тестовые"
   ]
  },
  {
   "cell_type": "markdown",
   "metadata": {},
   "source": [
    "## Обучение"
   ]
  },
  {
   "cell_type": "code",
   "execution_count": 20,
   "metadata": {},
   "outputs": [],
   "source": [
    "train_X_pipe, test_X_pipe, train_y_pipe, test_y_pipe = train_test_split(\n",
    "    data['lemm_text'],\n",
    "    data['toxic'],\n",
    "    test_size=0.2,\n",
    "    random_state=42,\n",
    "    stratify = data['toxic']\n",
    ")"
   ]
  },
  {
   "cell_type": "code",
   "execution_count": 21,
   "metadata": {},
   "outputs": [],
   "source": [
    "text_pipe = Pipeline([\n",
    "        ('vector', TfidfVectorizer(stop_words=list(stop_words))),\n",
    "        ('models', None)\n",
    "])"
   ]
  },
  {
   "cell_type": "code",
   "execution_count": 22,
   "metadata": {},
   "outputs": [],
   "source": [
    "param_grid = [\n",
    "    {\n",
    "        'models':[DecisionTreeClassifier(random_state=RANDOM_STATE)],\n",
    "        'models__max_depth': range(5,15),\n",
    "        'models__max_features': range(2,5)\n",
    "    },\n",
    "    {\n",
    "        'models': [LogisticRegression(\n",
    "            random_state=RANDOM_STATE, \n",
    "            solver='liblinear', \n",
    "            penalty='l1'\n",
    "        )],\n",
    "        'models__C': [0.01, 0.1, 1, 10]\n",
    "    },\n",
    "    {\n",
    "        'models': [svm.SVC(kernel='linear')]\n",
    "    }\n",
    "]"
   ]
  },
  {
   "cell_type": "code",
   "execution_count": 23,
   "metadata": {},
   "outputs": [],
   "source": [
    "grid_search = GridSearchCV(\n",
    "    text_pipe, \n",
    "    param_grid,\n",
    "    cv=3,\n",
    "    scoring = 'f1',  \n",
    "    n_jobs=-1,\n",
    "    verbose = 2\n",
    ")"
   ]
  },
  {
   "cell_type": "code",
   "execution_count": 24,
   "metadata": {
    "scrolled": false
   },
   "outputs": [
    {
     "name": "stdout",
     "output_type": "stream",
     "text": [
      "Fitting 3 folds for each of 35 candidates, totalling 105 fits\n",
      "[CV] END models=DecisionTreeClassifier(random_state=42), models__max_depth=5, models__max_features=2; total time=   5.2s\n",
      "[CV] END models=DecisionTreeClassifier(random_state=42), models__max_depth=5, models__max_features=2; total time=   5.2s\n",
      "[CV] END models=DecisionTreeClassifier(random_state=42), models__max_depth=5, models__max_features=2; total time=   5.1s\n",
      "[CV] END models=DecisionTreeClassifier(random_state=42), models__max_depth=5, models__max_features=3; total time=   5.3s\n",
      "[CV] END models=DecisionTreeClassifier(random_state=42), models__max_depth=5, models__max_features=3; total time=   5.3s\n",
      "[CV] END models=DecisionTreeClassifier(random_state=42), models__max_depth=5, models__max_features=3; total time=   5.3s\n",
      "[CV] END models=DecisionTreeClassifier(random_state=42), models__max_depth=5, models__max_features=4; total time=   5.3s\n",
      "[CV] END models=DecisionTreeClassifier(random_state=42), models__max_depth=5, models__max_features=4; total time=   5.2s\n",
      "[CV] END models=DecisionTreeClassifier(random_state=42), models__max_depth=5, models__max_features=4; total time=   5.2s\n",
      "[CV] END models=DecisionTreeClassifier(random_state=42), models__max_depth=6, models__max_features=2; total time=   5.3s\n",
      "[CV] END models=DecisionTreeClassifier(random_state=42), models__max_depth=6, models__max_features=2; total time=   5.3s\n",
      "[CV] END models=DecisionTreeClassifier(random_state=42), models__max_depth=6, models__max_features=2; total time=   5.2s\n",
      "[CV] END models=DecisionTreeClassifier(random_state=42), models__max_depth=6, models__max_features=3; total time=   5.3s\n",
      "[CV] END models=DecisionTreeClassifier(random_state=42), models__max_depth=6, models__max_features=3; total time=   5.2s\n",
      "[CV] END models=DecisionTreeClassifier(random_state=42), models__max_depth=6, models__max_features=3; total time=   5.2s\n",
      "[CV] END models=DecisionTreeClassifier(random_state=42), models__max_depth=6, models__max_features=4; total time=   5.2s\n",
      "[CV] END models=DecisionTreeClassifier(random_state=42), models__max_depth=6, models__max_features=4; total time=   5.3s\n",
      "[CV] END models=DecisionTreeClassifier(random_state=42), models__max_depth=6, models__max_features=4; total time=   5.2s\n",
      "[CV] END models=DecisionTreeClassifier(random_state=42), models__max_depth=7, models__max_features=2; total time=   5.3s\n",
      "[CV] END models=DecisionTreeClassifier(random_state=42), models__max_depth=7, models__max_features=2; total time=   5.2s\n",
      "[CV] END models=DecisionTreeClassifier(random_state=42), models__max_depth=7, models__max_features=2; total time=   5.3s\n",
      "[CV] END models=DecisionTreeClassifier(random_state=42), models__max_depth=7, models__max_features=3; total time=   5.2s\n",
      "[CV] END models=DecisionTreeClassifier(random_state=42), models__max_depth=7, models__max_features=3; total time=   5.3s\n",
      "[CV] END models=DecisionTreeClassifier(random_state=42), models__max_depth=7, models__max_features=3; total time=   5.2s\n",
      "[CV] END models=DecisionTreeClassifier(random_state=42), models__max_depth=7, models__max_features=4; total time=   5.3s\n",
      "[CV] END models=DecisionTreeClassifier(random_state=42), models__max_depth=7, models__max_features=4; total time=   5.3s\n",
      "[CV] END models=DecisionTreeClassifier(random_state=42), models__max_depth=7, models__max_features=4; total time=   5.2s\n",
      "[CV] END models=DecisionTreeClassifier(random_state=42), models__max_depth=8, models__max_features=2; total time=   5.3s\n",
      "[CV] END models=DecisionTreeClassifier(random_state=42), models__max_depth=8, models__max_features=2; total time=   5.2s\n",
      "[CV] END models=DecisionTreeClassifier(random_state=42), models__max_depth=8, models__max_features=2; total time=   5.3s\n",
      "[CV] END models=DecisionTreeClassifier(random_state=42), models__max_depth=8, models__max_features=3; total time=   5.3s\n",
      "[CV] END models=DecisionTreeClassifier(random_state=42), models__max_depth=8, models__max_features=3; total time=   5.2s\n",
      "[CV] END models=DecisionTreeClassifier(random_state=42), models__max_depth=8, models__max_features=3; total time=   5.4s\n",
      "[CV] END models=DecisionTreeClassifier(random_state=42), models__max_depth=8, models__max_features=4; total time=   5.3s\n",
      "[CV] END models=DecisionTreeClassifier(random_state=42), models__max_depth=8, models__max_features=4; total time=   5.2s\n",
      "[CV] END models=DecisionTreeClassifier(random_state=42), models__max_depth=8, models__max_features=4; total time=   5.2s\n",
      "[CV] END models=DecisionTreeClassifier(random_state=42), models__max_depth=9, models__max_features=2; total time=   5.2s\n",
      "[CV] END models=DecisionTreeClassifier(random_state=42), models__max_depth=9, models__max_features=2; total time=   5.2s\n",
      "[CV] END models=DecisionTreeClassifier(random_state=42), models__max_depth=9, models__max_features=2; total time=   5.2s\n",
      "[CV] END models=DecisionTreeClassifier(random_state=42), models__max_depth=9, models__max_features=3; total time=   5.3s\n",
      "[CV] END models=DecisionTreeClassifier(random_state=42), models__max_depth=9, models__max_features=3; total time=   5.3s\n",
      "[CV] END models=DecisionTreeClassifier(random_state=42), models__max_depth=9, models__max_features=3; total time=   5.3s\n",
      "[CV] END models=DecisionTreeClassifier(random_state=42), models__max_depth=9, models__max_features=4; total time=   5.2s\n",
      "[CV] END models=DecisionTreeClassifier(random_state=42), models__max_depth=9, models__max_features=4; total time=   5.2s\n",
      "[CV] END models=DecisionTreeClassifier(random_state=42), models__max_depth=9, models__max_features=4; total time=   5.2s\n",
      "[CV] END models=DecisionTreeClassifier(random_state=42), models__max_depth=10, models__max_features=2; total time=   5.3s\n",
      "[CV] END models=DecisionTreeClassifier(random_state=42), models__max_depth=10, models__max_features=2; total time=   5.3s\n",
      "[CV] END models=DecisionTreeClassifier(random_state=42), models__max_depth=10, models__max_features=2; total time=   5.2s\n",
      "[CV] END models=DecisionTreeClassifier(random_state=42), models__max_depth=10, models__max_features=3; total time=   5.3s\n",
      "[CV] END models=DecisionTreeClassifier(random_state=42), models__max_depth=10, models__max_features=3; total time=   5.3s\n",
      "[CV] END models=DecisionTreeClassifier(random_state=42), models__max_depth=10, models__max_features=3; total time=   5.3s\n",
      "[CV] END models=DecisionTreeClassifier(random_state=42), models__max_depth=10, models__max_features=4; total time=   5.2s\n",
      "[CV] END models=DecisionTreeClassifier(random_state=42), models__max_depth=10, models__max_features=4; total time=   5.3s\n",
      "[CV] END models=DecisionTreeClassifier(random_state=42), models__max_depth=10, models__max_features=4; total time=   5.2s\n",
      "[CV] END models=DecisionTreeClassifier(random_state=42), models__max_depth=11, models__max_features=2; total time=   5.3s\n",
      "[CV] END models=DecisionTreeClassifier(random_state=42), models__max_depth=11, models__max_features=2; total time=   5.3s\n",
      "[CV] END models=DecisionTreeClassifier(random_state=42), models__max_depth=11, models__max_features=2; total time=   5.3s\n",
      "[CV] END models=DecisionTreeClassifier(random_state=42), models__max_depth=11, models__max_features=3; total time=   5.2s\n",
      "[CV] END models=DecisionTreeClassifier(random_state=42), models__max_depth=11, models__max_features=3; total time=   5.3s\n",
      "[CV] END models=DecisionTreeClassifier(random_state=42), models__max_depth=11, models__max_features=3; total time=   5.2s\n",
      "[CV] END models=DecisionTreeClassifier(random_state=42), models__max_depth=11, models__max_features=4; total time=   5.3s\n",
      "[CV] END models=DecisionTreeClassifier(random_state=42), models__max_depth=11, models__max_features=4; total time=   5.2s\n",
      "[CV] END models=DecisionTreeClassifier(random_state=42), models__max_depth=11, models__max_features=4; total time=   5.2s\n",
      "[CV] END models=DecisionTreeClassifier(random_state=42), models__max_depth=12, models__max_features=2; total time=   5.3s\n",
      "[CV] END models=DecisionTreeClassifier(random_state=42), models__max_depth=12, models__max_features=2; total time=   5.2s\n",
      "[CV] END models=DecisionTreeClassifier(random_state=42), models__max_depth=12, models__max_features=2; total time=   5.5s\n",
      "[CV] END models=DecisionTreeClassifier(random_state=42), models__max_depth=12, models__max_features=3; total time=   5.4s\n",
      "[CV] END models=DecisionTreeClassifier(random_state=42), models__max_depth=12, models__max_features=3; total time=   5.4s\n",
      "[CV] END models=DecisionTreeClassifier(random_state=42), models__max_depth=12, models__max_features=3; total time=   5.3s\n",
      "[CV] END models=DecisionTreeClassifier(random_state=42), models__max_depth=12, models__max_features=4; total time=   5.4s\n",
      "[CV] END models=DecisionTreeClassifier(random_state=42), models__max_depth=12, models__max_features=4; total time=   5.2s\n",
      "[CV] END models=DecisionTreeClassifier(random_state=42), models__max_depth=12, models__max_features=4; total time=   5.3s\n",
      "[CV] END models=DecisionTreeClassifier(random_state=42), models__max_depth=13, models__max_features=2; total time=   5.2s\n",
      "[CV] END models=DecisionTreeClassifier(random_state=42), models__max_depth=13, models__max_features=2; total time=   5.3s\n",
      "[CV] END models=DecisionTreeClassifier(random_state=42), models__max_depth=13, models__max_features=2; total time=   5.3s\n",
      "[CV] END models=DecisionTreeClassifier(random_state=42), models__max_depth=13, models__max_features=3; total time=   5.3s\n",
      "[CV] END models=DecisionTreeClassifier(random_state=42), models__max_depth=13, models__max_features=3; total time=   5.2s\n",
      "[CV] END models=DecisionTreeClassifier(random_state=42), models__max_depth=13, models__max_features=3; total time=   5.3s\n",
      "[CV] END models=DecisionTreeClassifier(random_state=42), models__max_depth=13, models__max_features=4; total time=   5.3s\n",
      "[CV] END models=DecisionTreeClassifier(random_state=42), models__max_depth=13, models__max_features=4; total time=   5.3s\n",
      "[CV] END models=DecisionTreeClassifier(random_state=42), models__max_depth=13, models__max_features=4; total time=   5.4s\n",
      "[CV] END models=DecisionTreeClassifier(random_state=42), models__max_depth=14, models__max_features=2; total time=   5.3s\n",
      "[CV] END models=DecisionTreeClassifier(random_state=42), models__max_depth=14, models__max_features=2; total time=   5.2s\n",
      "[CV] END models=DecisionTreeClassifier(random_state=42), models__max_depth=14, models__max_features=2; total time=   5.2s\n",
      "[CV] END models=DecisionTreeClassifier(random_state=42), models__max_depth=14, models__max_features=3; total time=   5.3s\n",
      "[CV] END models=DecisionTreeClassifier(random_state=42), models__max_depth=14, models__max_features=3; total time=   5.2s\n",
      "[CV] END models=DecisionTreeClassifier(random_state=42), models__max_depth=14, models__max_features=3; total time=   5.3s\n",
      "[CV] END models=DecisionTreeClassifier(random_state=42), models__max_depth=14, models__max_features=4; total time=   5.2s\n",
      "[CV] END models=DecisionTreeClassifier(random_state=42), models__max_depth=14, models__max_features=4; total time=   5.3s\n",
      "[CV] END models=DecisionTreeClassifier(random_state=42), models__max_depth=14, models__max_features=4; total time=   5.2s\n",
      "[CV] END models=LogisticRegression(penalty='l1', random_state=42, solver='liblinear'), models__C=0.01; total time=   5.6s\n",
      "[CV] END models=LogisticRegression(penalty='l1', random_state=42, solver='liblinear'), models__C=0.01; total time=   5.5s\n",
      "[CV] END models=LogisticRegression(penalty='l1', random_state=42, solver='liblinear'), models__C=0.01; total time=   5.6s\n",
      "[CV] END models=LogisticRegression(penalty='l1', random_state=42, solver='liblinear'), models__C=0.1; total time=   5.7s\n",
      "[CV] END models=LogisticRegression(penalty='l1', random_state=42, solver='liblinear'), models__C=0.1; total time=   5.6s\n",
      "[CV] END models=LogisticRegression(penalty='l1', random_state=42, solver='liblinear'), models__C=0.1; total time=   5.7s\n",
      "[CV] END models=LogisticRegression(penalty='l1', random_state=42, solver='liblinear'), models__C=1; total time=   5.8s\n",
      "[CV] END models=LogisticRegression(penalty='l1', random_state=42, solver='liblinear'), models__C=1; total time=   5.9s\n",
      "[CV] END models=LogisticRegression(penalty='l1', random_state=42, solver='liblinear'), models__C=1; total time=   5.8s\n",
      "[CV] END models=LogisticRegression(penalty='l1', random_state=42, solver='liblinear'), models__C=10; total time=   7.1s\n",
      "[CV] END models=LogisticRegression(penalty='l1', random_state=42, solver='liblinear'), models__C=10; total time=   7.1s\n",
      "[CV] END models=LogisticRegression(penalty='l1', random_state=42, solver='liblinear'), models__C=10; total time=   7.0s\n",
      "[CV] END ........................models=SVC(kernel='linear'); total time=13.1min\n",
      "[CV] END ........................models=SVC(kernel='linear'); total time=13.2min\n",
      "[CV] END ........................models=SVC(kernel='linear'); total time=13.0min\n"
     ]
    },
    {
     "data": {
      "text/html": [
       "<style>#sk-container-id-1 {\n",
       "  /* Definition of color scheme common for light and dark mode */\n",
       "  --sklearn-color-text: black;\n",
       "  --sklearn-color-line: gray;\n",
       "  /* Definition of color scheme for unfitted estimators */\n",
       "  --sklearn-color-unfitted-level-0: #fff5e6;\n",
       "  --sklearn-color-unfitted-level-1: #f6e4d2;\n",
       "  --sklearn-color-unfitted-level-2: #ffe0b3;\n",
       "  --sklearn-color-unfitted-level-3: chocolate;\n",
       "  /* Definition of color scheme for fitted estimators */\n",
       "  --sklearn-color-fitted-level-0: #f0f8ff;\n",
       "  --sklearn-color-fitted-level-1: #d4ebff;\n",
       "  --sklearn-color-fitted-level-2: #b3dbfd;\n",
       "  --sklearn-color-fitted-level-3: cornflowerblue;\n",
       "\n",
       "  /* Specific color for light theme */\n",
       "  --sklearn-color-text-on-default-background: var(--sg-text-color, var(--theme-code-foreground, var(--jp-content-font-color1, black)));\n",
       "  --sklearn-color-background: var(--sg-background-color, var(--theme-background, var(--jp-layout-color0, white)));\n",
       "  --sklearn-color-border-box: var(--sg-text-color, var(--theme-code-foreground, var(--jp-content-font-color1, black)));\n",
       "  --sklearn-color-icon: #696969;\n",
       "\n",
       "  @media (prefers-color-scheme: dark) {\n",
       "    /* Redefinition of color scheme for dark theme */\n",
       "    --sklearn-color-text-on-default-background: var(--sg-text-color, var(--theme-code-foreground, var(--jp-content-font-color1, white)));\n",
       "    --sklearn-color-background: var(--sg-background-color, var(--theme-background, var(--jp-layout-color0, #111)));\n",
       "    --sklearn-color-border-box: var(--sg-text-color, var(--theme-code-foreground, var(--jp-content-font-color1, white)));\n",
       "    --sklearn-color-icon: #878787;\n",
       "  }\n",
       "}\n",
       "\n",
       "#sk-container-id-1 {\n",
       "  color: var(--sklearn-color-text);\n",
       "}\n",
       "\n",
       "#sk-container-id-1 pre {\n",
       "  padding: 0;\n",
       "}\n",
       "\n",
       "#sk-container-id-1 input.sk-hidden--visually {\n",
       "  border: 0;\n",
       "  clip: rect(1px 1px 1px 1px);\n",
       "  clip: rect(1px, 1px, 1px, 1px);\n",
       "  height: 1px;\n",
       "  margin: -1px;\n",
       "  overflow: hidden;\n",
       "  padding: 0;\n",
       "  position: absolute;\n",
       "  width: 1px;\n",
       "}\n",
       "\n",
       "#sk-container-id-1 div.sk-dashed-wrapped {\n",
       "  border: 1px dashed var(--sklearn-color-line);\n",
       "  margin: 0 0.4em 0.5em 0.4em;\n",
       "  box-sizing: border-box;\n",
       "  padding-bottom: 0.4em;\n",
       "  background-color: var(--sklearn-color-background);\n",
       "}\n",
       "\n",
       "#sk-container-id-1 div.sk-container {\n",
       "  /* jupyter's `normalize.less` sets `[hidden] { display: none; }`\n",
       "     but bootstrap.min.css set `[hidden] { display: none !important; }`\n",
       "     so we also need the `!important` here to be able to override the\n",
       "     default hidden behavior on the sphinx rendered scikit-learn.org.\n",
       "     See: https://github.com/scikit-learn/scikit-learn/issues/21755 */\n",
       "  display: inline-block !important;\n",
       "  position: relative;\n",
       "}\n",
       "\n",
       "#sk-container-id-1 div.sk-text-repr-fallback {\n",
       "  display: none;\n",
       "}\n",
       "\n",
       "div.sk-parallel-item,\n",
       "div.sk-serial,\n",
       "div.sk-item {\n",
       "  /* draw centered vertical line to link estimators */\n",
       "  background-image: linear-gradient(var(--sklearn-color-text-on-default-background), var(--sklearn-color-text-on-default-background));\n",
       "  background-size: 2px 100%;\n",
       "  background-repeat: no-repeat;\n",
       "  background-position: center center;\n",
       "}\n",
       "\n",
       "/* Parallel-specific style estimator block */\n",
       "\n",
       "#sk-container-id-1 div.sk-parallel-item::after {\n",
       "  content: \"\";\n",
       "  width: 100%;\n",
       "  border-bottom: 2px solid var(--sklearn-color-text-on-default-background);\n",
       "  flex-grow: 1;\n",
       "}\n",
       "\n",
       "#sk-container-id-1 div.sk-parallel {\n",
       "  display: flex;\n",
       "  align-items: stretch;\n",
       "  justify-content: center;\n",
       "  background-color: var(--sklearn-color-background);\n",
       "  position: relative;\n",
       "}\n",
       "\n",
       "#sk-container-id-1 div.sk-parallel-item {\n",
       "  display: flex;\n",
       "  flex-direction: column;\n",
       "}\n",
       "\n",
       "#sk-container-id-1 div.sk-parallel-item:first-child::after {\n",
       "  align-self: flex-end;\n",
       "  width: 50%;\n",
       "}\n",
       "\n",
       "#sk-container-id-1 div.sk-parallel-item:last-child::after {\n",
       "  align-self: flex-start;\n",
       "  width: 50%;\n",
       "}\n",
       "\n",
       "#sk-container-id-1 div.sk-parallel-item:only-child::after {\n",
       "  width: 0;\n",
       "}\n",
       "\n",
       "/* Serial-specific style estimator block */\n",
       "\n",
       "#sk-container-id-1 div.sk-serial {\n",
       "  display: flex;\n",
       "  flex-direction: column;\n",
       "  align-items: center;\n",
       "  background-color: var(--sklearn-color-background);\n",
       "  padding-right: 1em;\n",
       "  padding-left: 1em;\n",
       "}\n",
       "\n",
       "\n",
       "/* Toggleable style: style used for estimator/Pipeline/ColumnTransformer box that is\n",
       "clickable and can be expanded/collapsed.\n",
       "- Pipeline and ColumnTransformer use this feature and define the default style\n",
       "- Estimators will overwrite some part of the style using the `sk-estimator` class\n",
       "*/\n",
       "\n",
       "/* Pipeline and ColumnTransformer style (default) */\n",
       "\n",
       "#sk-container-id-1 div.sk-toggleable {\n",
       "  /* Default theme specific background. It is overwritten whether we have a\n",
       "  specific estimator or a Pipeline/ColumnTransformer */\n",
       "  background-color: var(--sklearn-color-background);\n",
       "}\n",
       "\n",
       "/* Toggleable label */\n",
       "#sk-container-id-1 label.sk-toggleable__label {\n",
       "  cursor: pointer;\n",
       "  display: block;\n",
       "  width: 100%;\n",
       "  margin-bottom: 0;\n",
       "  padding: 0.5em;\n",
       "  box-sizing: border-box;\n",
       "  text-align: center;\n",
       "}\n",
       "\n",
       "#sk-container-id-1 label.sk-toggleable__label-arrow:before {\n",
       "  /* Arrow on the left of the label */\n",
       "  content: \"▸\";\n",
       "  float: left;\n",
       "  margin-right: 0.25em;\n",
       "  color: var(--sklearn-color-icon);\n",
       "}\n",
       "\n",
       "#sk-container-id-1 label.sk-toggleable__label-arrow:hover:before {\n",
       "  color: var(--sklearn-color-text);\n",
       "}\n",
       "\n",
       "/* Toggleable content - dropdown */\n",
       "\n",
       "#sk-container-id-1 div.sk-toggleable__content {\n",
       "  max-height: 0;\n",
       "  max-width: 0;\n",
       "  overflow: hidden;\n",
       "  text-align: left;\n",
       "  /* unfitted */\n",
       "  background-color: var(--sklearn-color-unfitted-level-0);\n",
       "}\n",
       "\n",
       "#sk-container-id-1 div.sk-toggleable__content.fitted {\n",
       "  /* fitted */\n",
       "  background-color: var(--sklearn-color-fitted-level-0);\n",
       "}\n",
       "\n",
       "#sk-container-id-1 div.sk-toggleable__content pre {\n",
       "  margin: 0.2em;\n",
       "  border-radius: 0.25em;\n",
       "  color: var(--sklearn-color-text);\n",
       "  /* unfitted */\n",
       "  background-color: var(--sklearn-color-unfitted-level-0);\n",
       "}\n",
       "\n",
       "#sk-container-id-1 div.sk-toggleable__content.fitted pre {\n",
       "  /* unfitted */\n",
       "  background-color: var(--sklearn-color-fitted-level-0);\n",
       "}\n",
       "\n",
       "#sk-container-id-1 input.sk-toggleable__control:checked~div.sk-toggleable__content {\n",
       "  /* Expand drop-down */\n",
       "  max-height: 200px;\n",
       "  max-width: 100%;\n",
       "  overflow: auto;\n",
       "}\n",
       "\n",
       "#sk-container-id-1 input.sk-toggleable__control:checked~label.sk-toggleable__label-arrow:before {\n",
       "  content: \"▾\";\n",
       "}\n",
       "\n",
       "/* Pipeline/ColumnTransformer-specific style */\n",
       "\n",
       "#sk-container-id-1 div.sk-label input.sk-toggleable__control:checked~label.sk-toggleable__label {\n",
       "  color: var(--sklearn-color-text);\n",
       "  background-color: var(--sklearn-color-unfitted-level-2);\n",
       "}\n",
       "\n",
       "#sk-container-id-1 div.sk-label.fitted input.sk-toggleable__control:checked~label.sk-toggleable__label {\n",
       "  background-color: var(--sklearn-color-fitted-level-2);\n",
       "}\n",
       "\n",
       "/* Estimator-specific style */\n",
       "\n",
       "/* Colorize estimator box */\n",
       "#sk-container-id-1 div.sk-estimator input.sk-toggleable__control:checked~label.sk-toggleable__label {\n",
       "  /* unfitted */\n",
       "  background-color: var(--sklearn-color-unfitted-level-2);\n",
       "}\n",
       "\n",
       "#sk-container-id-1 div.sk-estimator.fitted input.sk-toggleable__control:checked~label.sk-toggleable__label {\n",
       "  /* fitted */\n",
       "  background-color: var(--sklearn-color-fitted-level-2);\n",
       "}\n",
       "\n",
       "#sk-container-id-1 div.sk-label label.sk-toggleable__label,\n",
       "#sk-container-id-1 div.sk-label label {\n",
       "  /* The background is the default theme color */\n",
       "  color: var(--sklearn-color-text-on-default-background);\n",
       "}\n",
       "\n",
       "/* On hover, darken the color of the background */\n",
       "#sk-container-id-1 div.sk-label:hover label.sk-toggleable__label {\n",
       "  color: var(--sklearn-color-text);\n",
       "  background-color: var(--sklearn-color-unfitted-level-2);\n",
       "}\n",
       "\n",
       "/* Label box, darken color on hover, fitted */\n",
       "#sk-container-id-1 div.sk-label.fitted:hover label.sk-toggleable__label.fitted {\n",
       "  color: var(--sklearn-color-text);\n",
       "  background-color: var(--sklearn-color-fitted-level-2);\n",
       "}\n",
       "\n",
       "/* Estimator label */\n",
       "\n",
       "#sk-container-id-1 div.sk-label label {\n",
       "  font-family: monospace;\n",
       "  font-weight: bold;\n",
       "  display: inline-block;\n",
       "  line-height: 1.2em;\n",
       "}\n",
       "\n",
       "#sk-container-id-1 div.sk-label-container {\n",
       "  text-align: center;\n",
       "}\n",
       "\n",
       "/* Estimator-specific */\n",
       "#sk-container-id-1 div.sk-estimator {\n",
       "  font-family: monospace;\n",
       "  border: 1px dotted var(--sklearn-color-border-box);\n",
       "  border-radius: 0.25em;\n",
       "  box-sizing: border-box;\n",
       "  margin-bottom: 0.5em;\n",
       "  /* unfitted */\n",
       "  background-color: var(--sklearn-color-unfitted-level-0);\n",
       "}\n",
       "\n",
       "#sk-container-id-1 div.sk-estimator.fitted {\n",
       "  /* fitted */\n",
       "  background-color: var(--sklearn-color-fitted-level-0);\n",
       "}\n",
       "\n",
       "/* on hover */\n",
       "#sk-container-id-1 div.sk-estimator:hover {\n",
       "  /* unfitted */\n",
       "  background-color: var(--sklearn-color-unfitted-level-2);\n",
       "}\n",
       "\n",
       "#sk-container-id-1 div.sk-estimator.fitted:hover {\n",
       "  /* fitted */\n",
       "  background-color: var(--sklearn-color-fitted-level-2);\n",
       "}\n",
       "\n",
       "/* Specification for estimator info (e.g. \"i\" and \"?\") */\n",
       "\n",
       "/* Common style for \"i\" and \"?\" */\n",
       "\n",
       ".sk-estimator-doc-link,\n",
       "a:link.sk-estimator-doc-link,\n",
       "a:visited.sk-estimator-doc-link {\n",
       "  float: right;\n",
       "  font-size: smaller;\n",
       "  line-height: 1em;\n",
       "  font-family: monospace;\n",
       "  background-color: var(--sklearn-color-background);\n",
       "  border-radius: 1em;\n",
       "  height: 1em;\n",
       "  width: 1em;\n",
       "  text-decoration: none !important;\n",
       "  margin-left: 1ex;\n",
       "  /* unfitted */\n",
       "  border: var(--sklearn-color-unfitted-level-1) 1pt solid;\n",
       "  color: var(--sklearn-color-unfitted-level-1);\n",
       "}\n",
       "\n",
       ".sk-estimator-doc-link.fitted,\n",
       "a:link.sk-estimator-doc-link.fitted,\n",
       "a:visited.sk-estimator-doc-link.fitted {\n",
       "  /* fitted */\n",
       "  border: var(--sklearn-color-fitted-level-1) 1pt solid;\n",
       "  color: var(--sklearn-color-fitted-level-1);\n",
       "}\n",
       "\n",
       "/* On hover */\n",
       "div.sk-estimator:hover .sk-estimator-doc-link:hover,\n",
       ".sk-estimator-doc-link:hover,\n",
       "div.sk-label-container:hover .sk-estimator-doc-link:hover,\n",
       ".sk-estimator-doc-link:hover {\n",
       "  /* unfitted */\n",
       "  background-color: var(--sklearn-color-unfitted-level-3);\n",
       "  color: var(--sklearn-color-background);\n",
       "  text-decoration: none;\n",
       "}\n",
       "\n",
       "div.sk-estimator.fitted:hover .sk-estimator-doc-link.fitted:hover,\n",
       ".sk-estimator-doc-link.fitted:hover,\n",
       "div.sk-label-container:hover .sk-estimator-doc-link.fitted:hover,\n",
       ".sk-estimator-doc-link.fitted:hover {\n",
       "  /* fitted */\n",
       "  background-color: var(--sklearn-color-fitted-level-3);\n",
       "  color: var(--sklearn-color-background);\n",
       "  text-decoration: none;\n",
       "}\n",
       "\n",
       "/* Span, style for the box shown on hovering the info icon */\n",
       ".sk-estimator-doc-link span {\n",
       "  display: none;\n",
       "  z-index: 9999;\n",
       "  position: relative;\n",
       "  font-weight: normal;\n",
       "  right: .2ex;\n",
       "  padding: .5ex;\n",
       "  margin: .5ex;\n",
       "  width: min-content;\n",
       "  min-width: 20ex;\n",
       "  max-width: 50ex;\n",
       "  color: var(--sklearn-color-text);\n",
       "  box-shadow: 2pt 2pt 4pt #999;\n",
       "  /* unfitted */\n",
       "  background: var(--sklearn-color-unfitted-level-0);\n",
       "  border: .5pt solid var(--sklearn-color-unfitted-level-3);\n",
       "}\n",
       "\n",
       ".sk-estimator-doc-link.fitted span {\n",
       "  /* fitted */\n",
       "  background: var(--sklearn-color-fitted-level-0);\n",
       "  border: var(--sklearn-color-fitted-level-3);\n",
       "}\n",
       "\n",
       ".sk-estimator-doc-link:hover span {\n",
       "  display: block;\n",
       "}\n",
       "\n",
       "/* \"?\"-specific style due to the `<a>` HTML tag */\n",
       "\n",
       "#sk-container-id-1 a.estimator_doc_link {\n",
       "  float: right;\n",
       "  font-size: 1rem;\n",
       "  line-height: 1em;\n",
       "  font-family: monospace;\n",
       "  background-color: var(--sklearn-color-background);\n",
       "  border-radius: 1rem;\n",
       "  height: 1rem;\n",
       "  width: 1rem;\n",
       "  text-decoration: none;\n",
       "  /* unfitted */\n",
       "  color: var(--sklearn-color-unfitted-level-1);\n",
       "  border: var(--sklearn-color-unfitted-level-1) 1pt solid;\n",
       "}\n",
       "\n",
       "#sk-container-id-1 a.estimator_doc_link.fitted {\n",
       "  /* fitted */\n",
       "  border: var(--sklearn-color-fitted-level-1) 1pt solid;\n",
       "  color: var(--sklearn-color-fitted-level-1);\n",
       "}\n",
       "\n",
       "/* On hover */\n",
       "#sk-container-id-1 a.estimator_doc_link:hover {\n",
       "  /* unfitted */\n",
       "  background-color: var(--sklearn-color-unfitted-level-3);\n",
       "  color: var(--sklearn-color-background);\n",
       "  text-decoration: none;\n",
       "}\n",
       "\n",
       "#sk-container-id-1 a.estimator_doc_link.fitted:hover {\n",
       "  /* fitted */\n",
       "  background-color: var(--sklearn-color-fitted-level-3);\n",
       "}\n",
       "</style><div id=\"sk-container-id-1\" class=\"sk-top-container\"><div class=\"sk-text-repr-fallback\"><pre>GridSearchCV(cv=3,\n",
       "             estimator=Pipeline(steps=[(&#x27;vector&#x27;,\n",
       "                                        TfidfVectorizer(stop_words=[&#x27;an&#x27;,\n",
       "                                                                    &quot;mightn&#x27;t&quot;,\n",
       "                                                                    &#x27;and&#x27;,\n",
       "                                                                    &#x27;she&#x27;,\n",
       "                                                                    &quot;weren&#x27;t&quot;,\n",
       "                                                                    &#x27;no&#x27;,\n",
       "                                                                    &#x27;just&#x27;,\n",
       "                                                                    &quot;aren&#x27;t&quot;,\n",
       "                                                                    &#x27;about&#x27;,\n",
       "                                                                    &#x27;after&#x27;,\n",
       "                                                                    &#x27;will&#x27;,\n",
       "                                                                    &quot;doesn&#x27;t&quot;,\n",
       "                                                                    &#x27;than&#x27;,\n",
       "                                                                    &#x27;my&#x27;, &#x27;why&#x27;,\n",
       "                                                                    &#x27;all&#x27;,\n",
       "                                                                    &#x27;below&#x27;,\n",
       "                                                                    &quot;you&#x27;d&quot;,\n",
       "                                                                    &#x27;during&#x27;,\n",
       "                                                                    &#x27;had&#x27;,\n",
       "                                                                    &#x27;those&#x27;,\n",
       "                                                                    &quot;hadn&#x27;t&quot;,\n",
       "                                                                    &#x27;they&#x27;,\n",
       "                                                                    &#x27;while&#x27;,\n",
       "                                                                    &#x27;ourselves&#x27;,\n",
       "                                                                    &#x27;which&#x27;,\n",
       "                                                                    &#x27;a&#x27;, &#x27;its&#x27;,\n",
       "                                                                    &#x27;it&#x27;,\n",
       "                                                                    &#x27;some&#x27;, ...])),\n",
       "                                       (&#x27;models&#x27;, None)]),\n",
       "             n_jobs=-1,\n",
       "             param_grid=[{&#x27;models&#x27;: [DecisionTreeClassifier(random_state=42)],\n",
       "                          &#x27;models__max_depth&#x27;: range(5, 15),\n",
       "                          &#x27;models__max_features&#x27;: range(2, 5)},\n",
       "                         {&#x27;models&#x27;: [LogisticRegression(penalty=&#x27;l1&#x27;,\n",
       "                                                        random_state=42,\n",
       "                                                        solver=&#x27;liblinear&#x27;)],\n",
       "                          &#x27;models__C&#x27;: [0.01, 0.1, 1, 10]},\n",
       "                         {&#x27;models&#x27;: [SVC(kernel=&#x27;linear&#x27;)]}],\n",
       "             scoring=&#x27;f1&#x27;, verbose=2)</pre><b>In a Jupyter environment, please rerun this cell to show the HTML representation or trust the notebook. <br />On GitHub, the HTML representation is unable to render, please try loading this page with nbviewer.org.</b></div><div class=\"sk-container\" hidden><div class=\"sk-item sk-dashed-wrapped\"><div class=\"sk-label-container\"><div class=\"sk-label fitted sk-toggleable\"><input class=\"sk-toggleable__control sk-hidden--visually\" id=\"sk-estimator-id-1\" type=\"checkbox\" ><label for=\"sk-estimator-id-1\" class=\"sk-toggleable__label fitted sk-toggleable__label-arrow fitted\">&nbsp;&nbsp;GridSearchCV<a class=\"sk-estimator-doc-link fitted\" rel=\"noreferrer\" target=\"_blank\" href=\"https://scikit-learn.org/1.5/modules/generated/sklearn.model_selection.GridSearchCV.html\">?<span>Documentation for GridSearchCV</span></a><span class=\"sk-estimator-doc-link fitted\">i<span>Fitted</span></span></label><div class=\"sk-toggleable__content fitted\"><pre>GridSearchCV(cv=3,\n",
       "             estimator=Pipeline(steps=[(&#x27;vector&#x27;,\n",
       "                                        TfidfVectorizer(stop_words=[&#x27;an&#x27;,\n",
       "                                                                    &quot;mightn&#x27;t&quot;,\n",
       "                                                                    &#x27;and&#x27;,\n",
       "                                                                    &#x27;she&#x27;,\n",
       "                                                                    &quot;weren&#x27;t&quot;,\n",
       "                                                                    &#x27;no&#x27;,\n",
       "                                                                    &#x27;just&#x27;,\n",
       "                                                                    &quot;aren&#x27;t&quot;,\n",
       "                                                                    &#x27;about&#x27;,\n",
       "                                                                    &#x27;after&#x27;,\n",
       "                                                                    &#x27;will&#x27;,\n",
       "                                                                    &quot;doesn&#x27;t&quot;,\n",
       "                                                                    &#x27;than&#x27;,\n",
       "                                                                    &#x27;my&#x27;, &#x27;why&#x27;,\n",
       "                                                                    &#x27;all&#x27;,\n",
       "                                                                    &#x27;below&#x27;,\n",
       "                                                                    &quot;you&#x27;d&quot;,\n",
       "                                                                    &#x27;during&#x27;,\n",
       "                                                                    &#x27;had&#x27;,\n",
       "                                                                    &#x27;those&#x27;,\n",
       "                                                                    &quot;hadn&#x27;t&quot;,\n",
       "                                                                    &#x27;they&#x27;,\n",
       "                                                                    &#x27;while&#x27;,\n",
       "                                                                    &#x27;ourselves&#x27;,\n",
       "                                                                    &#x27;which&#x27;,\n",
       "                                                                    &#x27;a&#x27;, &#x27;its&#x27;,\n",
       "                                                                    &#x27;it&#x27;,\n",
       "                                                                    &#x27;some&#x27;, ...])),\n",
       "                                       (&#x27;models&#x27;, None)]),\n",
       "             n_jobs=-1,\n",
       "             param_grid=[{&#x27;models&#x27;: [DecisionTreeClassifier(random_state=42)],\n",
       "                          &#x27;models__max_depth&#x27;: range(5, 15),\n",
       "                          &#x27;models__max_features&#x27;: range(2, 5)},\n",
       "                         {&#x27;models&#x27;: [LogisticRegression(penalty=&#x27;l1&#x27;,\n",
       "                                                        random_state=42,\n",
       "                                                        solver=&#x27;liblinear&#x27;)],\n",
       "                          &#x27;models__C&#x27;: [0.01, 0.1, 1, 10]},\n",
       "                         {&#x27;models&#x27;: [SVC(kernel=&#x27;linear&#x27;)]}],\n",
       "             scoring=&#x27;f1&#x27;, verbose=2)</pre></div> </div></div><div class=\"sk-parallel\"><div class=\"sk-parallel-item\"><div class=\"sk-item\"><div class=\"sk-label-container\"><div class=\"sk-label fitted sk-toggleable\"><input class=\"sk-toggleable__control sk-hidden--visually\" id=\"sk-estimator-id-2\" type=\"checkbox\" ><label for=\"sk-estimator-id-2\" class=\"sk-toggleable__label fitted sk-toggleable__label-arrow fitted\">best_estimator_: Pipeline</label><div class=\"sk-toggleable__content fitted\"><pre>Pipeline(steps=[(&#x27;vector&#x27;,\n",
       "                 TfidfVectorizer(stop_words=[&#x27;an&#x27;, &quot;mightn&#x27;t&quot;, &#x27;and&#x27;, &#x27;she&#x27;,\n",
       "                                             &quot;weren&#x27;t&quot;, &#x27;no&#x27;, &#x27;just&#x27;, &quot;aren&#x27;t&quot;,\n",
       "                                             &#x27;about&#x27;, &#x27;after&#x27;, &#x27;will&#x27;,\n",
       "                                             &quot;doesn&#x27;t&quot;, &#x27;than&#x27;, &#x27;my&#x27;, &#x27;why&#x27;,\n",
       "                                             &#x27;all&#x27;, &#x27;below&#x27;, &quot;you&#x27;d&quot;, &#x27;during&#x27;,\n",
       "                                             &#x27;had&#x27;, &#x27;those&#x27;, &quot;hadn&#x27;t&quot;, &#x27;they&#x27;,\n",
       "                                             &#x27;while&#x27;, &#x27;ourselves&#x27;, &#x27;which&#x27;, &#x27;a&#x27;,\n",
       "                                             &#x27;its&#x27;, &#x27;it&#x27;, &#x27;some&#x27;, ...])),\n",
       "                (&#x27;models&#x27;,\n",
       "                 LogisticRegression(C=1, penalty=&#x27;l1&#x27;, random_state=42,\n",
       "                                    solver=&#x27;liblinear&#x27;))])</pre></div> </div></div><div class=\"sk-serial\"><div class=\"sk-item\"><div class=\"sk-serial\"><div class=\"sk-item\"><div class=\"sk-estimator fitted sk-toggleable\"><input class=\"sk-toggleable__control sk-hidden--visually\" id=\"sk-estimator-id-3\" type=\"checkbox\" ><label for=\"sk-estimator-id-3\" class=\"sk-toggleable__label fitted sk-toggleable__label-arrow fitted\">&nbsp;TfidfVectorizer<a class=\"sk-estimator-doc-link fitted\" rel=\"noreferrer\" target=\"_blank\" href=\"https://scikit-learn.org/1.5/modules/generated/sklearn.feature_extraction.text.TfidfVectorizer.html\">?<span>Documentation for TfidfVectorizer</span></a></label><div class=\"sk-toggleable__content fitted\"><pre>TfidfVectorizer(stop_words=[&#x27;an&#x27;, &quot;mightn&#x27;t&quot;, &#x27;and&#x27;, &#x27;she&#x27;, &quot;weren&#x27;t&quot;, &#x27;no&#x27;,\n",
       "                            &#x27;just&#x27;, &quot;aren&#x27;t&quot;, &#x27;about&#x27;, &#x27;after&#x27;, &#x27;will&#x27;,\n",
       "                            &quot;doesn&#x27;t&quot;, &#x27;than&#x27;, &#x27;my&#x27;, &#x27;why&#x27;, &#x27;all&#x27;, &#x27;below&#x27;,\n",
       "                            &quot;you&#x27;d&quot;, &#x27;during&#x27;, &#x27;had&#x27;, &#x27;those&#x27;, &quot;hadn&#x27;t&quot;, &#x27;they&#x27;,\n",
       "                            &#x27;while&#x27;, &#x27;ourselves&#x27;, &#x27;which&#x27;, &#x27;a&#x27;, &#x27;its&#x27;, &#x27;it&#x27;,\n",
       "                            &#x27;some&#x27;, ...])</pre></div> </div></div><div class=\"sk-item\"><div class=\"sk-estimator fitted sk-toggleable\"><input class=\"sk-toggleable__control sk-hidden--visually\" id=\"sk-estimator-id-4\" type=\"checkbox\" ><label for=\"sk-estimator-id-4\" class=\"sk-toggleable__label fitted sk-toggleable__label-arrow fitted\">&nbsp;LogisticRegression<a class=\"sk-estimator-doc-link fitted\" rel=\"noreferrer\" target=\"_blank\" href=\"https://scikit-learn.org/1.5/modules/generated/sklearn.linear_model.LogisticRegression.html\">?<span>Documentation for LogisticRegression</span></a></label><div class=\"sk-toggleable__content fitted\"><pre>LogisticRegression(C=1, penalty=&#x27;l1&#x27;, random_state=42, solver=&#x27;liblinear&#x27;)</pre></div> </div></div></div></div></div></div></div></div></div></div></div>"
      ],
      "text/plain": [
       "GridSearchCV(cv=3,\n",
       "             estimator=Pipeline(steps=[('vector',\n",
       "                                        TfidfVectorizer(stop_words=['an',\n",
       "                                                                    \"mightn't\",\n",
       "                                                                    'and',\n",
       "                                                                    'she',\n",
       "                                                                    \"weren't\",\n",
       "                                                                    'no',\n",
       "                                                                    'just',\n",
       "                                                                    \"aren't\",\n",
       "                                                                    'about',\n",
       "                                                                    'after',\n",
       "                                                                    'will',\n",
       "                                                                    \"doesn't\",\n",
       "                                                                    'than',\n",
       "                                                                    'my', 'why',\n",
       "                                                                    'all',\n",
       "                                                                    'below',\n",
       "                                                                    \"you'd\",\n",
       "                                                                    'during',\n",
       "                                                                    'had',\n",
       "                                                                    'those',\n",
       "                                                                    \"hadn't\",\n",
       "                                                                    'they',\n",
       "                                                                    'while',\n",
       "                                                                    'ourselves',\n",
       "                                                                    'which',\n",
       "                                                                    'a', 'its',\n",
       "                                                                    'it',\n",
       "                                                                    'some', ...])),\n",
       "                                       ('models', None)]),\n",
       "             n_jobs=-1,\n",
       "             param_grid=[{'models': [DecisionTreeClassifier(random_state=42)],\n",
       "                          'models__max_depth': range(5, 15),\n",
       "                          'models__max_features': range(2, 5)},\n",
       "                         {'models': [LogisticRegression(penalty='l1',\n",
       "                                                        random_state=42,\n",
       "                                                        solver='liblinear')],\n",
       "                          'models__C': [0.01, 0.1, 1, 10]},\n",
       "                         {'models': [SVC(kernel='linear')]}],\n",
       "             scoring='f1', verbose=2)"
      ]
     },
     "execution_count": 24,
     "metadata": {},
     "output_type": "execute_result"
    }
   ],
   "source": [
    "grid_search.fit(train_X_pipe, train_y_pipe)"
   ]
  },
  {
   "cell_type": "code",
   "execution_count": 25,
   "metadata": {
    "scrolled": true
   },
   "outputs": [
    {
     "name": "stdout",
     "output_type": "stream",
     "text": [
      "Метрика лучшей модели на кроссвалидации: 0.7703212668779358\n"
     ]
    }
   ],
   "source": [
    "print ('Метрика лучшей модели на кроссвалидации:', grid_search.best_score_)"
   ]
  },
  {
   "cell_type": "markdown",
   "metadata": {},
   "source": [
    "**Необходимый порог метрики на кроссвалидации достигнут. Его показала модель LogisticRegression(C=1, penalty='l1', random_state=42, solver='liblinear')**"
   ]
  },
  {
   "cell_type": "code",
   "execution_count": 26,
   "metadata": {},
   "outputs": [],
   "source": [
    "grid_pred = grid_search.best_estimator_.predict(test_X_pipe)"
   ]
  },
  {
   "cell_type": "code",
   "execution_count": 27,
   "metadata": {},
   "outputs": [
    {
     "data": {
      "text/plain": [
       "0.7763920604250835"
      ]
     },
     "execution_count": 27,
     "metadata": {},
     "output_type": "execute_result"
    }
   ],
   "source": [
    "f1_score(test_y_pipe, grid_pred)"
   ]
  },
  {
   "cell_type": "markdown",
   "metadata": {},
   "source": [
    "## Выводы"
   ]
  },
  {
   "cell_type": "markdown",
   "metadata": {},
   "source": [
    "**Линейная регрессия показала себя лучше, чем модель деревьев или опорных векторов в данном задании по классификации текста на предмет его токсичности**"
   ]
  },
  {
   "cell_type": "markdown",
   "metadata": {},
   "source": [
    "## Чек-лист проверки"
   ]
  },
  {
   "cell_type": "markdown",
   "metadata": {},
   "source": [
    "- [x]  Jupyter Notebook открыт\n",
    "- [x]  Весь код выполняется без ошибок\n",
    "- [x]  Ячейки с кодом расположены в порядке исполнения\n",
    "- [x]  Данные загружены и подготовлены\n",
    "- [x]  Модели обучены\n",
    "- [x]  Значение метрики *F1* не меньше 0.75\n",
    "- [x]  Выводы написаны"
   ]
  }
 ],
 "metadata": {
  "ExecuteTimeLog": [
   {
    "duration": 420,
    "start_time": "2024-05-29T13:53:41.995Z"
   },
   {
    "duration": 2474,
    "start_time": "2024-05-29T13:54:42.325Z"
   },
   {
    "duration": 30,
    "start_time": "2024-05-29T13:54:52.643Z"
   },
   {
    "duration": 982,
    "start_time": "2024-05-29T13:55:19.899Z"
   },
   {
    "duration": 9,
    "start_time": "2024-05-29T13:55:21.682Z"
   },
   {
    "duration": 773,
    "start_time": "2024-05-29T13:58:44.814Z"
   },
   {
    "duration": 7242,
    "start_time": "2024-05-29T13:59:09.341Z"
   },
   {
    "duration": 7,
    "start_time": "2024-05-29T13:59:22.138Z"
   },
   {
    "duration": 201,
    "start_time": "2024-05-29T14:05:24.163Z"
   },
   {
    "duration": 3,
    "start_time": "2024-05-29T14:05:28.523Z"
   },
   {
    "duration": 12,
    "start_time": "2024-05-29T14:28:28.051Z"
   },
   {
    "duration": 3376,
    "start_time": "2024-05-29T14:31:30.404Z"
   },
   {
    "duration": 2345,
    "start_time": "2024-05-29T14:31:33.783Z"
   },
   {
    "duration": 2568,
    "start_time": "2024-05-29T14:31:36.130Z"
   },
   {
    "duration": 14,
    "start_time": "2024-05-29T14:31:38.700Z"
   },
   {
    "duration": 79,
    "start_time": "2024-05-29T14:31:38.716Z"
   },
   {
    "duration": 2500,
    "start_time": "2024-05-29T14:31:38.796Z"
   },
   {
    "duration": 3,
    "start_time": "2024-05-29T14:31:41.297Z"
   },
   {
    "duration": 1417,
    "start_time": "2024-05-29T14:34:47.967Z"
   },
   {
    "duration": 3,
    "start_time": "2024-05-29T14:35:26.405Z"
   },
   {
    "duration": 4,
    "start_time": "2024-05-29T14:35:30.585Z"
   },
   {
    "duration": 3304,
    "start_time": "2024-05-29T14:36:11.419Z"
   },
   {
    "duration": 1321,
    "start_time": "2024-05-29T14:36:14.728Z"
   },
   {
    "duration": 1054,
    "start_time": "2024-05-29T14:36:16.051Z"
   },
   {
    "duration": 12,
    "start_time": "2024-05-29T14:36:17.107Z"
   },
   {
    "duration": 12,
    "start_time": "2024-05-29T14:36:17.121Z"
   },
   {
    "duration": 2466,
    "start_time": "2024-05-29T14:36:17.135Z"
   },
   {
    "duration": 19,
    "start_time": "2024-05-29T14:36:19.603Z"
   },
   {
    "duration": 1293,
    "start_time": "2024-05-29T14:36:19.624Z"
   },
   {
    "duration": 4,
    "start_time": "2024-05-29T14:36:20.919Z"
   },
   {
    "duration": 9,
    "start_time": "2024-05-29T14:41:29.954Z"
   },
   {
    "duration": 136,
    "start_time": "2024-05-29T14:41:41.130Z"
   },
   {
    "duration": 4,
    "start_time": "2024-05-29T14:41:50.302Z"
   },
   {
    "duration": 2,
    "start_time": "2024-05-29T14:41:59.636Z"
   },
   {
    "duration": 4,
    "start_time": "2024-05-29T14:42:02.177Z"
   },
   {
    "duration": 3,
    "start_time": "2024-05-29T14:46:02.824Z"
   },
   {
    "duration": 3,
    "start_time": "2024-05-29T14:46:03.416Z"
   },
   {
    "duration": 3,
    "start_time": "2024-05-29T14:46:09.205Z"
   },
   {
    "duration": 10,
    "start_time": "2024-05-29T14:46:09.853Z"
   },
   {
    "duration": 4,
    "start_time": "2024-05-29T14:46:10.297Z"
   },
   {
    "duration": 5,
    "start_time": "2024-05-29T14:55:56.288Z"
   },
   {
    "duration": 4,
    "start_time": "2024-05-29T14:56:03.638Z"
   },
   {
    "duration": 3,
    "start_time": "2024-05-29T14:56:08.007Z"
   },
   {
    "duration": 3,
    "start_time": "2024-05-29T14:56:09.781Z"
   },
   {
    "duration": 3189,
    "start_time": "2024-05-29T14:56:35.634Z"
   },
   {
    "duration": 1287,
    "start_time": "2024-05-29T14:56:38.825Z"
   },
   {
    "duration": 1056,
    "start_time": "2024-05-29T14:56:40.114Z"
   },
   {
    "duration": 13,
    "start_time": "2024-05-29T14:56:41.172Z"
   },
   {
    "duration": 27,
    "start_time": "2024-05-29T14:56:41.186Z"
   },
   {
    "duration": 2357,
    "start_time": "2024-05-29T14:56:41.214Z"
   },
   {
    "duration": 8,
    "start_time": "2024-05-29T14:56:43.573Z"
   },
   {
    "duration": 1229,
    "start_time": "2024-05-29T14:56:43.583Z"
   },
   {
    "duration": 4,
    "start_time": "2024-05-29T14:56:44.813Z"
   },
   {
    "duration": 6,
    "start_time": "2024-05-29T15:32:59.666Z"
   },
   {
    "duration": 2,
    "start_time": "2024-05-29T15:33:00.589Z"
   },
   {
    "duration": 3,
    "start_time": "2024-05-29T15:33:00.912Z"
   },
   {
    "duration": 7,
    "start_time": "2024-05-29T15:33:01.362Z"
   },
   {
    "duration": 3,
    "start_time": "2024-05-29T15:34:12.689Z"
   },
   {
    "duration": 2,
    "start_time": "2024-05-29T15:34:14.422Z"
   },
   {
    "duration": 3,
    "start_time": "2024-05-29T15:34:15.233Z"
   },
   {
    "duration": 9,
    "start_time": "2024-05-29T15:34:16.065Z"
   },
   {
    "duration": 2,
    "start_time": "2024-05-29T15:34:54.337Z"
   },
   {
    "duration": 2,
    "start_time": "2024-05-29T15:34:54.912Z"
   },
   {
    "duration": 13,
    "start_time": "2024-05-29T15:34:55.344Z"
   },
   {
    "duration": 3,
    "start_time": "2024-05-29T15:34:55.924Z"
   },
   {
    "duration": 3263,
    "start_time": "2024-05-29T15:37:01.112Z"
   },
   {
    "duration": 1315,
    "start_time": "2024-05-29T15:37:04.377Z"
   },
   {
    "duration": 1123,
    "start_time": "2024-05-29T15:37:05.695Z"
   },
   {
    "duration": 13,
    "start_time": "2024-05-29T15:37:06.819Z"
   },
   {
    "duration": 36,
    "start_time": "2024-05-29T15:37:06.834Z"
   },
   {
    "duration": 2487,
    "start_time": "2024-05-29T15:37:06.872Z"
   },
   {
    "duration": 54,
    "start_time": "2024-05-29T15:37:09.363Z"
   },
   {
    "duration": 1308,
    "start_time": "2024-05-29T15:37:09.418Z"
   },
   {
    "duration": 4,
    "start_time": "2024-05-29T15:37:10.728Z"
   },
   {
    "duration": 7040,
    "start_time": "2024-05-30T08:47:26.183Z"
   },
   {
    "duration": 1360,
    "start_time": "2024-05-30T08:47:33.226Z"
   },
   {
    "duration": 2601,
    "start_time": "2024-05-30T08:47:34.589Z"
   },
   {
    "duration": 15,
    "start_time": "2024-05-30T08:47:37.191Z"
   },
   {
    "duration": 7,
    "start_time": "2024-05-30T08:47:37.209Z"
   },
   {
    "duration": 2711,
    "start_time": "2024-05-30T08:47:37.217Z"
   },
   {
    "duration": 30,
    "start_time": "2024-05-30T08:47:39.930Z"
   },
   {
    "duration": 1174,
    "start_time": "2024-05-30T08:47:39.962Z"
   },
   {
    "duration": 4,
    "start_time": "2024-05-30T08:47:41.138Z"
   },
   {
    "duration": 3,
    "start_time": "2024-05-30T08:52:49.709Z"
   },
   {
    "duration": 14,
    "start_time": "2024-05-30T08:56:18.979Z"
   },
   {
    "duration": 9,
    "start_time": "2024-05-30T08:56:29.858Z"
   },
   {
    "duration": 3,
    "start_time": "2024-05-30T08:58:11.794Z"
   },
   {
    "duration": 135,
    "start_time": "2024-05-30T08:58:33.557Z"
   },
   {
    "duration": 3,
    "start_time": "2024-05-30T08:58:44.575Z"
   },
   {
    "duration": 11,
    "start_time": "2024-05-30T08:58:46.874Z"
   },
   {
    "duration": 3,
    "start_time": "2024-05-30T08:59:02.910Z"
   },
   {
    "duration": 3,
    "start_time": "2024-05-30T08:59:04.454Z"
   },
   {
    "duration": 3,
    "start_time": "2024-05-30T08:59:20.855Z"
   },
   {
    "duration": 3,
    "start_time": "2024-05-30T08:59:29.407Z"
   },
   {
    "duration": 4,
    "start_time": "2024-05-30T08:59:30.155Z"
   },
   {
    "duration": 3,
    "start_time": "2024-05-30T09:00:58.257Z"
   },
   {
    "duration": 3,
    "start_time": "2024-05-30T09:01:38.397Z"
   },
   {
    "duration": 3,
    "start_time": "2024-05-30T09:01:45.184Z"
   },
   {
    "duration": 5075,
    "start_time": "2024-05-30T09:06:02.854Z"
   },
   {
    "duration": 4,
    "start_time": "2024-05-30T09:06:10.558Z"
   },
   {
    "duration": 5,
    "start_time": "2024-05-30T09:06:11.134Z"
   },
   {
    "duration": 3,
    "start_time": "2024-05-30T09:06:11.446Z"
   },
   {
    "duration": 951,
    "start_time": "2024-05-30T09:06:12.346Z"
   },
   {
    "duration": 62,
    "start_time": "2024-05-30T09:06:17.145Z"
   },
   {
    "duration": 4,
    "start_time": "2024-05-30T09:06:23.082Z"
   },
   {
    "duration": 7,
    "start_time": "2024-05-30T09:06:24.829Z"
   },
   {
    "duration": 8,
    "start_time": "2024-05-30T09:06:27.599Z"
   },
   {
    "duration": 7,
    "start_time": "2024-05-30T09:06:30.350Z"
   },
   {
    "duration": 3333,
    "start_time": "2024-05-30T09:06:36.566Z"
   },
   {
    "duration": 2818,
    "start_time": "2024-05-30T09:06:39.902Z"
   },
   {
    "duration": 2590,
    "start_time": "2024-05-30T09:06:42.722Z"
   },
   {
    "duration": 3,
    "start_time": "2024-05-30T09:06:45.314Z"
   },
   {
    "duration": 20,
    "start_time": "2024-05-30T09:06:45.319Z"
   },
   {
    "duration": 2723,
    "start_time": "2024-05-30T09:06:45.341Z"
   },
   {
    "duration": 2286,
    "start_time": "2024-05-30T09:06:48.065Z"
   },
   {
    "duration": 11,
    "start_time": "2024-05-30T09:06:50.354Z"
   },
   {
    "duration": 23,
    "start_time": "2024-05-30T09:06:50.368Z"
   },
   {
    "duration": 1275,
    "start_time": "2024-05-30T09:06:50.393Z"
   },
   {
    "duration": 3,
    "start_time": "2024-05-30T09:06:51.670Z"
   },
   {
    "duration": 13,
    "start_time": "2024-05-30T09:06:51.675Z"
   },
   {
    "duration": 5,
    "start_time": "2024-05-30T09:06:51.690Z"
   },
   {
    "duration": 3353,
    "start_time": "2024-05-30T09:39:03.555Z"
   },
   {
    "duration": 396,
    "start_time": "2024-05-30T09:39:28.664Z"
   },
   {
    "duration": 77,
    "start_time": "2024-05-30T09:40:21.848Z"
   },
   {
    "duration": 5044,
    "start_time": "2024-05-30T09:40:34.826Z"
   },
   {
    "duration": 10148,
    "start_time": "2024-05-30T09:41:09.898Z"
   },
   {
    "duration": 2900,
    "start_time": "2024-05-30T09:41:33.056Z"
   },
   {
    "duration": 69,
    "start_time": "2024-05-30T09:42:15.856Z"
   },
   {
    "duration": 61,
    "start_time": "2024-05-30T09:43:20.032Z"
   },
   {
    "duration": 3071,
    "start_time": "2024-05-30T09:43:22.663Z"
   },
   {
    "duration": 841,
    "start_time": "2024-05-30T09:43:30.486Z"
   },
   {
    "duration": 851,
    "start_time": "2024-05-30T09:43:36.201Z"
   },
   {
    "duration": 848,
    "start_time": "2024-05-30T09:43:38.105Z"
   },
   {
    "duration": 99,
    "start_time": "2024-05-30T09:44:12.687Z"
   },
   {
    "duration": 56,
    "start_time": "2024-05-30T09:44:18.981Z"
   },
   {
    "duration": 2986,
    "start_time": "2024-05-30T09:47:04.856Z"
   },
   {
    "duration": 2446,
    "start_time": "2024-05-30T09:47:07.844Z"
   },
   {
    "duration": 3112,
    "start_time": "2024-05-30T09:47:10.292Z"
   },
   {
    "duration": 102,
    "start_time": "2024-05-30T09:47:13.406Z"
   },
   {
    "duration": 0,
    "start_time": "2024-05-30T09:47:13.510Z"
   },
   {
    "duration": 0,
    "start_time": "2024-05-30T09:47:13.511Z"
   },
   {
    "duration": 0,
    "start_time": "2024-05-30T09:47:13.512Z"
   },
   {
    "duration": 0,
    "start_time": "2024-05-30T09:47:13.513Z"
   },
   {
    "duration": 0,
    "start_time": "2024-05-30T09:47:13.514Z"
   },
   {
    "duration": 0,
    "start_time": "2024-05-30T09:47:13.515Z"
   },
   {
    "duration": 0,
    "start_time": "2024-05-30T09:47:13.516Z"
   },
   {
    "duration": 0,
    "start_time": "2024-05-30T09:47:13.517Z"
   },
   {
    "duration": 0,
    "start_time": "2024-05-30T09:47:13.518Z"
   },
   {
    "duration": 0,
    "start_time": "2024-05-30T09:47:13.519Z"
   },
   {
    "duration": 0,
    "start_time": "2024-05-30T09:47:13.521Z"
   },
   {
    "duration": 0,
    "start_time": "2024-05-30T09:47:13.522Z"
   },
   {
    "duration": 42,
    "start_time": "2024-05-30T09:50:04.145Z"
   },
   {
    "duration": 2859,
    "start_time": "2024-05-30T09:50:11.725Z"
   },
   {
    "duration": 2580,
    "start_time": "2024-05-30T09:50:14.587Z"
   },
   {
    "duration": 3258,
    "start_time": "2024-05-30T09:50:17.169Z"
   },
   {
    "duration": 2646,
    "start_time": "2024-05-30T09:50:20.429Z"
   },
   {
    "duration": 3,
    "start_time": "2024-05-30T09:50:23.077Z"
   },
   {
    "duration": 18,
    "start_time": "2024-05-30T09:50:23.082Z"
   },
   {
    "duration": 899,
    "start_time": "2024-05-30T09:50:23.101Z"
   },
   {
    "duration": 2487,
    "start_time": "2024-05-30T09:50:24.002Z"
   },
   {
    "duration": 19,
    "start_time": "2024-05-30T09:50:26.491Z"
   },
   {
    "duration": 3,
    "start_time": "2024-05-30T09:50:26.512Z"
   },
   {
    "duration": 1233,
    "start_time": "2024-05-30T09:50:26.516Z"
   },
   {
    "duration": 3,
    "start_time": "2024-05-30T09:50:27.751Z"
   },
   {
    "duration": 12,
    "start_time": "2024-05-30T09:50:27.756Z"
   },
   {
    "duration": 5,
    "start_time": "2024-05-30T09:50:27.771Z"
   },
   {
    "duration": 649,
    "start_time": "2024-05-30T09:50:27.778Z"
   },
   {
    "duration": 217,
    "start_time": "2024-05-30T09:51:16.941Z"
   },
   {
    "duration": 48,
    "start_time": "2024-05-30T09:55:25.940Z"
   },
   {
    "duration": 6205,
    "start_time": "2024-05-30T09:55:35.794Z"
   },
   {
    "duration": 3931,
    "start_time": "2024-05-30T09:55:42.002Z"
   },
   {
    "duration": 3817,
    "start_time": "2024-05-30T09:55:45.935Z"
   },
   {
    "duration": 13357,
    "start_time": "2024-05-30T09:55:49.755Z"
   },
   {
    "duration": 0,
    "start_time": "2024-05-30T09:56:03.113Z"
   },
   {
    "duration": 0,
    "start_time": "2024-05-30T09:56:03.115Z"
   },
   {
    "duration": 0,
    "start_time": "2024-05-30T09:56:03.116Z"
   },
   {
    "duration": 0,
    "start_time": "2024-05-30T09:56:03.117Z"
   },
   {
    "duration": 0,
    "start_time": "2024-05-30T09:56:03.118Z"
   },
   {
    "duration": 0,
    "start_time": "2024-05-30T09:56:03.118Z"
   },
   {
    "duration": 0,
    "start_time": "2024-05-30T09:56:03.119Z"
   },
   {
    "duration": 0,
    "start_time": "2024-05-30T09:56:03.120Z"
   },
   {
    "duration": 0,
    "start_time": "2024-05-30T09:56:03.121Z"
   },
   {
    "duration": 0,
    "start_time": "2024-05-30T09:56:03.121Z"
   },
   {
    "duration": 0,
    "start_time": "2024-05-30T09:56:03.122Z"
   },
   {
    "duration": 4433,
    "start_time": "2024-05-30T09:56:24.659Z"
   },
   {
    "duration": 3223,
    "start_time": "2024-05-30T09:56:29.094Z"
   },
   {
    "duration": 3796,
    "start_time": "2024-05-30T09:56:32.319Z"
   },
   {
    "duration": 10625,
    "start_time": "2024-05-30T09:56:36.117Z"
   },
   {
    "duration": 0,
    "start_time": "2024-05-30T09:56:46.745Z"
   },
   {
    "duration": 0,
    "start_time": "2024-05-30T09:56:46.746Z"
   },
   {
    "duration": 0,
    "start_time": "2024-05-30T09:56:46.748Z"
   },
   {
    "duration": 0,
    "start_time": "2024-05-30T09:56:46.749Z"
   },
   {
    "duration": 0,
    "start_time": "2024-05-30T09:56:46.750Z"
   },
   {
    "duration": 0,
    "start_time": "2024-05-30T09:56:46.752Z"
   },
   {
    "duration": 0,
    "start_time": "2024-05-30T09:56:46.753Z"
   },
   {
    "duration": 0,
    "start_time": "2024-05-30T09:56:46.755Z"
   },
   {
    "duration": 0,
    "start_time": "2024-05-30T09:56:46.756Z"
   },
   {
    "duration": 0,
    "start_time": "2024-05-30T09:56:46.757Z"
   },
   {
    "duration": 0,
    "start_time": "2024-05-30T09:56:46.758Z"
   },
   {
    "duration": 5950,
    "start_time": "2024-05-30T09:57:07.345Z"
   },
   {
    "duration": 2977,
    "start_time": "2024-05-30T09:57:17.448Z"
   },
   {
    "duration": 2771,
    "start_time": "2024-05-30T09:57:22.056Z"
   },
   {
    "duration": 3147,
    "start_time": "2024-05-30T09:57:25.497Z"
   },
   {
    "duration": 2613,
    "start_time": "2024-05-30T09:57:29.937Z"
   },
   {
    "duration": 1393,
    "start_time": "2024-05-30T09:57:56.890Z"
   },
   {
    "duration": 3,
    "start_time": "2024-05-30T09:58:04.928Z"
   },
   {
    "duration": 2794,
    "start_time": "2024-05-30T09:58:36.054Z"
   },
   {
    "duration": 2759,
    "start_time": "2024-05-30T09:58:54.429Z"
   },
   {
    "duration": 2847,
    "start_time": "2024-05-30T09:58:57.190Z"
   },
   {
    "duration": 3145,
    "start_time": "2024-05-30T09:59:00.039Z"
   },
   {
    "duration": 3043,
    "start_time": "2024-05-30T09:59:03.187Z"
   },
   {
    "duration": 900,
    "start_time": "2024-05-30T09:59:06.233Z"
   },
   {
    "duration": 4303,
    "start_time": "2024-05-30T09:59:07.135Z"
   },
   {
    "duration": 0,
    "start_time": "2024-05-30T09:59:11.440Z"
   },
   {
    "duration": 0,
    "start_time": "2024-05-30T09:59:11.440Z"
   },
   {
    "duration": 0,
    "start_time": "2024-05-30T09:59:11.441Z"
   },
   {
    "duration": 0,
    "start_time": "2024-05-30T09:59:11.443Z"
   },
   {
    "duration": 0,
    "start_time": "2024-05-30T09:59:11.444Z"
   },
   {
    "duration": 0,
    "start_time": "2024-05-30T09:59:11.445Z"
   },
   {
    "duration": 0,
    "start_time": "2024-05-30T09:59:11.446Z"
   },
   {
    "duration": 0,
    "start_time": "2024-05-30T09:59:11.447Z"
   },
   {
    "duration": 0,
    "start_time": "2024-05-30T09:59:11.448Z"
   },
   {
    "duration": 0,
    "start_time": "2024-05-30T09:59:11.449Z"
   },
   {
    "duration": 0,
    "start_time": "2024-05-30T09:59:11.450Z"
   },
   {
    "duration": 3095,
    "start_time": "2024-05-30T10:00:36.157Z"
   },
   {
    "duration": 1571,
    "start_time": "2024-05-30T10:00:40.202Z"
   },
   {
    "duration": 1144,
    "start_time": "2024-05-30T10:00:50.260Z"
   },
   {
    "duration": 2840,
    "start_time": "2024-05-30T10:03:04.384Z"
   },
   {
    "duration": 2941,
    "start_time": "2024-05-30T10:03:07.226Z"
   },
   {
    "duration": 2853,
    "start_time": "2024-05-30T10:03:10.169Z"
   },
   {
    "duration": 46372,
    "start_time": "2024-05-30T10:03:13.024Z"
   },
   {
    "duration": 958,
    "start_time": "2024-05-30T10:03:59.399Z"
   },
   {
    "duration": 1651,
    "start_time": "2024-05-30T10:04:00.359Z"
   },
   {
    "duration": 0,
    "start_time": "2024-05-30T10:04:02.012Z"
   },
   {
    "duration": 0,
    "start_time": "2024-05-30T10:04:02.013Z"
   },
   {
    "duration": 0,
    "start_time": "2024-05-30T10:04:02.014Z"
   },
   {
    "duration": 0,
    "start_time": "2024-05-30T10:04:02.016Z"
   },
   {
    "duration": 0,
    "start_time": "2024-05-30T10:04:02.017Z"
   },
   {
    "duration": 0,
    "start_time": "2024-05-30T10:04:02.018Z"
   },
   {
    "duration": 0,
    "start_time": "2024-05-30T10:04:02.019Z"
   },
   {
    "duration": 0,
    "start_time": "2024-05-30T10:04:02.020Z"
   },
   {
    "duration": 0,
    "start_time": "2024-05-30T10:04:02.021Z"
   },
   {
    "duration": 0,
    "start_time": "2024-05-30T10:04:02.022Z"
   },
   {
    "duration": 0,
    "start_time": "2024-05-30T10:04:02.023Z"
   },
   {
    "duration": 0,
    "start_time": "2024-05-30T10:04:02.024Z"
   },
   {
    "duration": 2909,
    "start_time": "2024-05-30T10:04:28.609Z"
   },
   {
    "duration": 2865,
    "start_time": "2024-05-30T10:04:31.521Z"
   },
   {
    "duration": 2707,
    "start_time": "2024-05-30T10:04:34.388Z"
   },
   {
    "duration": 917,
    "start_time": "2024-05-30T10:04:37.097Z"
   },
   {
    "duration": 93,
    "start_time": "2024-05-30T10:04:38.017Z"
   },
   {
    "duration": 0,
    "start_time": "2024-05-30T10:04:38.111Z"
   },
   {
    "duration": 0,
    "start_time": "2024-05-30T10:04:38.112Z"
   },
   {
    "duration": 0,
    "start_time": "2024-05-30T10:04:38.113Z"
   },
   {
    "duration": 0,
    "start_time": "2024-05-30T10:04:38.114Z"
   },
   {
    "duration": 0,
    "start_time": "2024-05-30T10:04:38.115Z"
   },
   {
    "duration": 0,
    "start_time": "2024-05-30T10:04:38.116Z"
   },
   {
    "duration": 0,
    "start_time": "2024-05-30T10:04:38.117Z"
   },
   {
    "duration": 0,
    "start_time": "2024-05-30T10:04:38.118Z"
   },
   {
    "duration": 0,
    "start_time": "2024-05-30T10:04:38.119Z"
   },
   {
    "duration": 0,
    "start_time": "2024-05-30T10:04:38.120Z"
   },
   {
    "duration": 0,
    "start_time": "2024-05-30T10:04:38.121Z"
   },
   {
    "duration": 3162,
    "start_time": "2024-05-30T10:05:25.497Z"
   },
   {
    "duration": 690,
    "start_time": "2024-05-30T10:06:25.119Z"
   },
   {
    "duration": 2821,
    "start_time": "2024-05-30T10:06:35.618Z"
   },
   {
    "duration": 2878,
    "start_time": "2024-05-30T10:06:38.441Z"
   },
   {
    "duration": 2816,
    "start_time": "2024-05-30T10:06:41.321Z"
   },
   {
    "duration": 978,
    "start_time": "2024-05-30T10:06:44.139Z"
   },
   {
    "duration": 3716,
    "start_time": "2024-05-30T10:06:45.120Z"
   },
   {
    "duration": 3,
    "start_time": "2024-05-30T10:06:48.838Z"
   },
   {
    "duration": 9,
    "start_time": "2024-05-30T10:06:48.842Z"
   },
   {
    "duration": 2350,
    "start_time": "2024-05-30T10:06:48.853Z"
   },
   {
    "duration": 2816,
    "start_time": "2024-05-30T10:06:51.205Z"
   },
   {
    "duration": 8,
    "start_time": "2024-05-30T10:06:54.023Z"
   },
   {
    "duration": 206,
    "start_time": "2024-05-30T10:06:54.032Z"
   },
   {
    "duration": 0,
    "start_time": "2024-05-30T10:06:54.240Z"
   },
   {
    "duration": 0,
    "start_time": "2024-05-30T10:06:54.242Z"
   },
   {
    "duration": 0,
    "start_time": "2024-05-30T10:06:54.243Z"
   },
   {
    "duration": 0,
    "start_time": "2024-05-30T10:06:54.244Z"
   },
   {
    "duration": 0,
    "start_time": "2024-05-30T10:06:54.246Z"
   },
   {
    "duration": 58,
    "start_time": "2024-05-30T10:07:16.682Z"
   },
   {
    "duration": 1347,
    "start_time": "2024-05-30T10:07:27.185Z"
   },
   {
    "duration": 2835,
    "start_time": "2024-05-30T10:14:47.770Z"
   },
   {
    "duration": 2864,
    "start_time": "2024-05-30T10:14:50.608Z"
   },
   {
    "duration": 2769,
    "start_time": "2024-05-30T10:14:53.477Z"
   },
   {
    "duration": 1005,
    "start_time": "2024-05-30T10:14:56.249Z"
   },
   {
    "duration": 4616,
    "start_time": "2024-05-30T10:14:57.256Z"
   },
   {
    "duration": 4,
    "start_time": "2024-05-30T10:15:01.874Z"
   },
   {
    "duration": 38,
    "start_time": "2024-05-30T10:15:01.879Z"
   },
   {
    "duration": 880,
    "start_time": "2024-05-30T10:15:01.918Z"
   },
   {
    "duration": 2242,
    "start_time": "2024-05-30T10:15:02.800Z"
   },
   {
    "duration": 3,
    "start_time": "2024-05-30T10:15:05.044Z"
   },
   {
    "duration": 1434,
    "start_time": "2024-05-30T10:15:05.048Z"
   },
   {
    "duration": 2980,
    "start_time": "2024-05-30T10:15:58.941Z"
   },
   {
    "duration": 2816,
    "start_time": "2024-05-30T10:16:01.923Z"
   },
   {
    "duration": 2825,
    "start_time": "2024-05-30T10:16:04.741Z"
   },
   {
    "duration": 962,
    "start_time": "2024-05-30T10:16:07.568Z"
   },
   {
    "duration": 3423,
    "start_time": "2024-05-30T10:16:08.533Z"
   },
   {
    "duration": 0,
    "start_time": "2024-05-30T10:16:11.958Z"
   },
   {
    "duration": 0,
    "start_time": "2024-05-30T10:16:11.959Z"
   },
   {
    "duration": 0,
    "start_time": "2024-05-30T10:16:11.960Z"
   },
   {
    "duration": 0,
    "start_time": "2024-05-30T10:16:11.961Z"
   },
   {
    "duration": 0,
    "start_time": "2024-05-30T10:16:11.962Z"
   },
   {
    "duration": 0,
    "start_time": "2024-05-30T10:16:11.964Z"
   },
   {
    "duration": 1025,
    "start_time": "2024-05-30T10:20:08.050Z"
   },
   {
    "duration": 3166,
    "start_time": "2024-05-30T10:20:10.927Z"
   },
   {
    "duration": 2795,
    "start_time": "2024-05-30T10:21:20.148Z"
   },
   {
    "duration": 2885,
    "start_time": "2024-05-30T10:21:22.945Z"
   },
   {
    "duration": 970,
    "start_time": "2024-05-30T10:21:25.835Z"
   },
   {
    "duration": 3947,
    "start_time": "2024-05-30T10:21:26.807Z"
   },
   {
    "duration": 0,
    "start_time": "2024-05-30T10:21:30.756Z"
   },
   {
    "duration": 0,
    "start_time": "2024-05-30T10:21:30.757Z"
   },
   {
    "duration": 0,
    "start_time": "2024-05-30T10:21:30.758Z"
   },
   {
    "duration": 0,
    "start_time": "2024-05-30T10:21:30.759Z"
   },
   {
    "duration": 0,
    "start_time": "2024-05-30T10:21:30.760Z"
   },
   {
    "duration": 0,
    "start_time": "2024-05-30T10:21:30.761Z"
   },
   {
    "duration": 2890,
    "start_time": "2024-05-30T10:22:00.093Z"
   },
   {
    "duration": 2929,
    "start_time": "2024-05-30T10:22:02.986Z"
   },
   {
    "duration": 904,
    "start_time": "2024-05-30T10:22:05.919Z"
   },
   {
    "duration": 3180,
    "start_time": "2024-05-30T10:22:06.826Z"
   },
   {
    "duration": 0,
    "start_time": "2024-05-30T10:22:10.008Z"
   },
   {
    "duration": 0,
    "start_time": "2024-05-30T10:22:10.009Z"
   },
   {
    "duration": 0,
    "start_time": "2024-05-30T10:22:10.010Z"
   },
   {
    "duration": 0,
    "start_time": "2024-05-30T10:22:10.012Z"
   },
   {
    "duration": 0,
    "start_time": "2024-05-30T10:22:10.013Z"
   },
   {
    "duration": 0,
    "start_time": "2024-05-30T10:22:10.014Z"
   },
   {
    "duration": 3008,
    "start_time": "2024-05-30T10:24:26.448Z"
   },
   {
    "duration": 3072,
    "start_time": "2024-05-30T10:24:29.458Z"
   },
   {
    "duration": 982,
    "start_time": "2024-05-30T10:24:32.532Z"
   },
   {
    "duration": 122,
    "start_time": "2024-05-30T10:24:33.516Z"
   },
   {
    "duration": 0,
    "start_time": "2024-05-30T10:24:33.640Z"
   },
   {
    "duration": 0,
    "start_time": "2024-05-30T10:24:33.642Z"
   },
   {
    "duration": 0,
    "start_time": "2024-05-30T10:24:33.644Z"
   },
   {
    "duration": 0,
    "start_time": "2024-05-30T10:24:33.645Z"
   },
   {
    "duration": 0,
    "start_time": "2024-05-30T10:24:33.646Z"
   },
   {
    "duration": 0,
    "start_time": "2024-05-30T10:24:33.648Z"
   },
   {
    "duration": 981,
    "start_time": "2024-05-30T10:26:38.970Z"
   },
   {
    "duration": 3244,
    "start_time": "2024-05-30T10:26:40.493Z"
   },
   {
    "duration": 687,
    "start_time": "2024-05-30T10:30:47.898Z"
   },
   {
    "duration": 2918,
    "start_time": "2024-05-30T10:35:33.860Z"
   },
   {
    "duration": 3267,
    "start_time": "2024-05-30T10:35:36.781Z"
   },
   {
    "duration": 963,
    "start_time": "2024-05-30T10:35:40.051Z"
   },
   {
    "duration": 3694,
    "start_time": "2024-05-30T10:35:41.016Z"
   },
   {
    "duration": 3,
    "start_time": "2024-05-30T10:35:44.713Z"
   },
   {
    "duration": 13,
    "start_time": "2024-05-30T10:35:44.718Z"
   },
   {
    "duration": 2217,
    "start_time": "2024-05-30T10:35:45.717Z"
   },
   {
    "duration": 23,
    "start_time": "2024-05-30T10:35:47.936Z"
   },
   {
    "duration": 3460,
    "start_time": "2024-05-30T10:35:47.961Z"
   },
   {
    "duration": 0,
    "start_time": "2024-05-30T10:35:51.423Z"
   },
   {
    "duration": 3,
    "start_time": "2024-05-30T10:49:31.320Z"
   },
   {
    "duration": 691,
    "start_time": "2024-05-30T10:49:35.383Z"
   },
   {
    "duration": 139,
    "start_time": "2024-05-30T10:54:03.956Z"
   },
   {
    "duration": 2979,
    "start_time": "2024-05-30T10:54:26.038Z"
   },
   {
    "duration": 3060,
    "start_time": "2024-05-30T10:54:29.019Z"
   },
   {
    "duration": 1034,
    "start_time": "2024-05-30T10:54:32.082Z"
   },
   {
    "duration": 3630,
    "start_time": "2024-05-30T10:54:33.118Z"
   },
   {
    "duration": 3,
    "start_time": "2024-05-30T10:54:36.750Z"
   },
   {
    "duration": 17,
    "start_time": "2024-05-30T10:54:36.754Z"
   },
   {
    "duration": 869,
    "start_time": "2024-05-30T10:54:36.772Z"
   },
   {
    "duration": 2162,
    "start_time": "2024-05-30T10:54:37.642Z"
   },
   {
    "duration": 7,
    "start_time": "2024-05-30T10:54:39.806Z"
   },
   {
    "duration": 220,
    "start_time": "2024-05-30T10:54:39.815Z"
   },
   {
    "duration": 5547,
    "start_time": "2024-05-30T15:06:03.302Z"
   },
   {
    "duration": 6614,
    "start_time": "2024-05-30T15:06:08.851Z"
   },
   {
    "duration": 1030,
    "start_time": "2024-05-30T15:06:15.467Z"
   },
   {
    "duration": 3116,
    "start_time": "2024-05-30T15:06:16.500Z"
   },
   {
    "duration": 4,
    "start_time": "2024-05-30T15:06:19.619Z"
   },
   {
    "duration": 5,
    "start_time": "2024-05-30T15:06:19.625Z"
   },
   {
    "duration": 3517,
    "start_time": "2024-05-30T15:06:19.631Z"
   },
   {
    "duration": 2571,
    "start_time": "2024-05-30T15:06:23.149Z"
   },
   {
    "duration": 5,
    "start_time": "2024-05-30T15:06:25.721Z"
   },
   {
    "duration": 356,
    "start_time": "2024-05-30T15:06:25.728Z"
   },
   {
    "duration": 374,
    "start_time": "2024-05-30T15:06:46.763Z"
   },
   {
    "duration": 3,
    "start_time": "2024-05-30T15:06:47.139Z"
   },
   {
    "duration": 41,
    "start_time": "2024-05-30T15:07:14.774Z"
   },
   {
    "duration": 19,
    "start_time": "2024-05-30T15:07:25.044Z"
   },
   {
    "duration": 2,
    "start_time": "2024-05-30T15:07:35.680Z"
   },
   {
    "duration": 18,
    "start_time": "2024-05-30T15:07:47.707Z"
   },
   {
    "duration": 18,
    "start_time": "2024-05-30T15:07:57.483Z"
   },
   {
    "duration": 3,
    "start_time": "2024-05-30T15:08:03.649Z"
   },
   {
    "duration": 2,
    "start_time": "2024-05-30T15:08:06.555Z"
   },
   {
    "duration": 1400,
    "start_time": "2024-05-30T15:08:07.506Z"
   },
   {
    "duration": 173,
    "start_time": "2024-05-30T15:08:46.472Z"
   },
   {
    "duration": 4,
    "start_time": "2024-05-30T15:08:50.025Z"
   },
   {
    "duration": 3,
    "start_time": "2024-05-30T15:08:59.076Z"
   },
   {
    "duration": 4,
    "start_time": "2024-05-30T15:08:59.711Z"
   },
   {
    "duration": 5258,
    "start_time": "2024-05-30T15:16:47.761Z"
   },
   {
    "duration": 3,
    "start_time": "2024-05-30T15:16:56.883Z"
   },
   {
    "duration": 5,
    "start_time": "2024-05-30T15:16:58.515Z"
   },
   {
    "duration": 3,
    "start_time": "2024-05-30T15:17:02.506Z"
   },
   {
    "duration": 3,
    "start_time": "2024-05-30T15:17:03.319Z"
   },
   {
    "duration": 999,
    "start_time": "2024-05-30T15:17:20.849Z"
   },
   {
    "duration": 269,
    "start_time": "2024-05-30T15:17:22.524Z"
   },
   {
    "duration": 2,
    "start_time": "2024-05-30T15:17:23.581Z"
   },
   {
    "duration": 167,
    "start_time": "2024-05-30T15:17:24.785Z"
   },
   {
    "duration": 3009,
    "start_time": "2024-05-30T15:17:26.289Z"
   },
   {
    "duration": 3,
    "start_time": "2024-05-30T15:17:29.300Z"
   },
   {
    "duration": 3,
    "start_time": "2024-05-30T15:17:30.458Z"
   },
   {
    "duration": 3,
    "start_time": "2024-05-30T15:17:36.055Z"
   },
   {
    "duration": 1338,
    "start_time": "2024-05-30T15:17:37.639Z"
   },
   {
    "duration": 3,
    "start_time": "2024-05-30T19:34:11.322Z"
   },
   {
    "duration": 2787,
    "start_time": "2024-05-30T19:34:19.204Z"
   },
   {
    "duration": 8788,
    "start_time": "2024-05-30T19:34:57.350Z"
   },
   {
    "duration": 3,
    "start_time": "2024-05-30T19:35:19.504Z"
   },
   {
    "duration": 537,
    "start_time": "2024-05-30T19:35:38.236Z"
   },
   {
    "duration": 2,
    "start_time": "2024-05-31T08:04:39.609Z"
   },
   {
    "duration": 7,
    "start_time": "2024-05-31T08:05:06.360Z"
   },
   {
    "duration": 936,
    "start_time": "2024-05-31T08:05:06.368Z"
   },
   {
    "duration": 2919,
    "start_time": "2024-05-31T08:05:07.306Z"
   },
   {
    "duration": 3060,
    "start_time": "2024-05-31T08:05:10.227Z"
   },
   {
    "duration": 2716,
    "start_time": "2024-05-31T08:05:13.290Z"
   },
   {
    "duration": 7853,
    "start_time": "2024-05-31T08:05:16.008Z"
   },
   {
    "duration": 2326,
    "start_time": "2024-05-31T08:05:23.863Z"
   },
   {
    "duration": 3,
    "start_time": "2024-05-31T08:05:26.190Z"
   },
   {
    "duration": 785,
    "start_time": "2024-05-31T08:05:26.194Z"
   },
   {
    "duration": 446,
    "start_time": "2024-05-31T08:05:26.981Z"
   },
   {
    "duration": 276,
    "start_time": "2024-05-31T08:05:27.428Z"
   },
   {
    "duration": 3,
    "start_time": "2024-05-31T08:05:55.996Z"
   },
   {
    "duration": 946903,
    "start_time": "2024-05-31T08:05:56.981Z"
   },
   {
    "duration": 78,
    "start_time": "2024-05-31T08:27:41.684Z"
   },
   {
    "duration": 14,
    "start_time": "2024-05-31T08:28:31.314Z"
   },
   {
    "duration": 16,
    "start_time": "2024-05-31T08:29:13.008Z"
   },
   {
    "duration": 6,
    "start_time": "2024-05-31T08:29:19.397Z"
   },
   {
    "duration": 9,
    "start_time": "2024-05-31T08:33:15.267Z"
   },
   {
    "duration": 2,
    "start_time": "2024-05-31T10:12:29.035Z"
   },
   {
    "duration": 5,
    "start_time": "2024-05-31T12:21:27.135Z"
   },
   {
    "duration": 6,
    "start_time": "2024-05-31T12:21:48.848Z"
   },
   {
    "duration": 32,
    "start_time": "2024-05-31T12:22:22.087Z"
   },
   {
    "duration": 3,
    "start_time": "2024-05-31T12:22:38.998Z"
   },
   {
    "duration": 6,
    "start_time": "2024-06-01T12:36:29.881Z"
   },
   {
    "duration": 4712,
    "start_time": "2024-06-01T12:36:29.888Z"
   },
   {
    "duration": 5568,
    "start_time": "2024-06-01T12:36:34.602Z"
   },
   {
    "duration": 2473,
    "start_time": "2024-06-01T12:36:40.172Z"
   },
   {
    "duration": 7521,
    "start_time": "2024-06-01T12:36:42.647Z"
   },
   {
    "duration": 3208,
    "start_time": "2024-06-01T12:36:50.169Z"
   },
   {
    "duration": 3,
    "start_time": "2024-06-01T12:36:53.379Z"
   },
   {
    "duration": 2214,
    "start_time": "2024-06-01T12:36:53.383Z"
   },
   {
    "duration": 421,
    "start_time": "2024-06-01T12:36:55.599Z"
   },
   {
    "duration": 3,
    "start_time": "2024-06-01T12:36:56.022Z"
   },
   {
    "duration": 880088,
    "start_time": "2024-06-01T12:36:56.026Z"
   },
   {
    "duration": 2,
    "start_time": "2024-06-01T12:51:36.115Z"
   },
   {
    "duration": 32,
    "start_time": "2024-06-01T12:51:36.118Z"
   },
   {
    "duration": 17,
    "start_time": "2024-06-01T12:51:36.151Z"
   },
   {
    "duration": 280,
    "start_time": "2024-06-01T12:51:36.169Z"
   },
   {
    "duration": 0,
    "start_time": "2024-06-01T12:51:36.450Z"
   },
   {
    "duration": 0,
    "start_time": "2024-06-01T12:51:36.451Z"
   },
   {
    "duration": 14,
    "start_time": "2024-06-01T13:03:58.653Z"
   },
   {
    "duration": 14,
    "start_time": "2024-06-01T13:10:59.502Z"
   },
   {
    "duration": 15,
    "start_time": "2024-06-01T13:11:15.195Z"
   },
   {
    "duration": 15,
    "start_time": "2024-06-01T13:11:27.878Z"
   },
   {
    "duration": 13,
    "start_time": "2024-06-01T13:13:42.767Z"
   },
   {
    "duration": 6,
    "start_time": "2024-06-01T13:13:55.370Z"
   },
   {
    "duration": 13,
    "start_time": "2024-06-01T13:13:57.531Z"
   },
   {
    "duration": 14,
    "start_time": "2024-06-01T13:14:05.809Z"
   },
   {
    "duration": 4,
    "start_time": "2024-06-01T13:19:57.862Z"
   },
   {
    "duration": 4,
    "start_time": "2024-06-01T13:20:43.418Z"
   },
   {
    "duration": 4,
    "start_time": "2024-06-01T13:21:41.198Z"
   },
   {
    "duration": 13,
    "start_time": "2024-06-01T16:44:44.032Z"
   },
   {
    "duration": 810,
    "start_time": "2024-06-01T16:45:11.298Z"
   },
   {
    "duration": 6,
    "start_time": "2024-06-01T16:45:19.766Z"
   },
   {
    "duration": 31,
    "start_time": "2024-06-01T16:45:30.779Z"
   },
   {
    "duration": 18,
    "start_time": "2024-06-01T16:46:17.131Z"
   },
   {
    "duration": 2,
    "start_time": "2024-06-01T16:46:36.072Z"
   },
   {
    "duration": 15,
    "start_time": "2024-06-01T16:46:59.007Z"
   },
   {
    "duration": 3,
    "start_time": "2024-06-01T16:47:24.558Z"
   },
   {
    "duration": 6,
    "start_time": "2024-06-01T16:47:45.687Z"
   },
   {
    "duration": 4,
    "start_time": "2024-06-01T16:48:10.396Z"
   },
   {
    "duration": 16,
    "start_time": "2024-06-01T16:48:20.007Z"
   },
   {
    "duration": 4,
    "start_time": "2024-06-01T16:48:26.752Z"
   },
   {
    "duration": 3,
    "start_time": "2024-06-01T16:48:42.453Z"
   },
   {
    "duration": 4,
    "start_time": "2024-06-01T16:49:15.243Z"
   },
   {
    "duration": 12,
    "start_time": "2024-06-01T16:49:26.487Z"
   },
   {
    "duration": 4,
    "start_time": "2024-06-01T16:49:51.232Z"
   },
   {
    "duration": 3,
    "start_time": "2024-06-01T16:51:03.591Z"
   },
   {
    "duration": 3,
    "start_time": "2024-06-01T16:51:17.016Z"
   },
   {
    "duration": 7,
    "start_time": "2024-06-01T16:51:44.533Z"
   },
   {
    "duration": 7,
    "start_time": "2024-06-01T16:51:45.822Z"
   },
   {
    "duration": 7,
    "start_time": "2024-06-01T16:51:47.217Z"
   },
   {
    "duration": 5,
    "start_time": "2024-06-01T16:51:48.245Z"
   },
   {
    "duration": 178,
    "start_time": "2024-06-01T16:51:50.614Z"
   },
   {
    "duration": 137,
    "start_time": "2024-06-01T16:51:54.154Z"
   },
   {
    "duration": 3,
    "start_time": "2024-06-01T16:51:55.182Z"
   },
   {
    "duration": 1192,
    "start_time": "2024-06-01T16:51:56.219Z"
   },
   {
    "duration": 2,
    "start_time": "2024-06-01T16:51:58.795Z"
   },
   {
    "duration": 6,
    "start_time": "2024-06-01T16:52:00.077Z"
   },
   {
    "duration": 18,
    "start_time": "2024-06-01T16:52:17.483Z"
   },
   {
    "duration": 6,
    "start_time": "2024-06-01T16:52:18.095Z"
   },
   {
    "duration": 13,
    "start_time": "2024-06-01T16:52:18.766Z"
   },
   {
    "duration": 13,
    "start_time": "2024-06-01T16:52:19.427Z"
   },
   {
    "duration": 1560,
    "start_time": "2024-06-01T16:52:20.096Z"
   },
   {
    "duration": 1364,
    "start_time": "2024-06-01T16:52:22.799Z"
   },
   {
    "duration": 2,
    "start_time": "2024-06-01T16:52:30.156Z"
   },
   {
    "duration": 8983,
    "start_time": "2024-06-01T16:52:31.521Z"
   },
   {
    "duration": 7,
    "start_time": "2024-06-01T16:52:43.208Z"
   },
   {
    "duration": 15,
    "start_time": "2024-06-01T16:52:44.597Z"
   },
   {
    "duration": 18,
    "start_time": "2024-06-01T16:53:04.371Z"
   },
   {
    "duration": 17,
    "start_time": "2024-06-01T16:53:05.757Z"
   },
   {
    "duration": 2379,
    "start_time": "2024-06-01T16:53:06.973Z"
   },
   {
    "duration": 2222,
    "start_time": "2024-06-01T16:53:09.842Z"
   },
   {
    "duration": 2,
    "start_time": "2024-06-01T16:53:12.618Z"
   },
   {
    "duration": 11375,
    "start_time": "2024-06-01T16:53:13.626Z"
   },
   {
    "duration": 8,
    "start_time": "2024-06-01T16:53:26.257Z"
   },
   {
    "duration": 26,
    "start_time": "2024-06-01T16:53:27.164Z"
   },
   {
    "duration": 19,
    "start_time": "2024-06-01T17:00:21.548Z"
   },
   {
    "duration": 17,
    "start_time": "2024-06-01T17:00:22.671Z"
   },
   {
    "duration": 3767,
    "start_time": "2024-06-01T17:00:23.519Z"
   },
   {
    "duration": 946,
    "start_time": "2024-06-01T17:00:29.266Z"
   },
   {
    "duration": 2,
    "start_time": "2024-06-01T17:00:31.023Z"
   },
   {
    "duration": 16243,
    "start_time": "2024-06-01T17:00:32.259Z"
   },
   {
    "duration": 5,
    "start_time": "2024-06-01T17:00:49.696Z"
   },
   {
    "duration": 10,
    "start_time": "2024-06-01T17:00:50.868Z"
   },
   {
    "duration": 19,
    "start_time": "2024-06-01T17:02:28.781Z"
   },
   {
    "duration": 27,
    "start_time": "2024-06-01T17:02:29.321Z"
   },
   {
    "duration": 4958,
    "start_time": "2024-06-01T17:02:30.132Z"
   },
   {
    "duration": 509,
    "start_time": "2024-06-01T17:02:35.669Z"
   },
   {
    "duration": 2,
    "start_time": "2024-06-01T17:02:37.032Z"
   },
   {
    "duration": 19585,
    "start_time": "2024-06-01T17:02:37.718Z"
   },
   {
    "duration": 4,
    "start_time": "2024-06-01T17:02:58.893Z"
   },
   {
    "duration": 8,
    "start_time": "2024-06-01T17:03:00.543Z"
   },
   {
    "duration": 18,
    "start_time": "2024-06-01T17:03:08.197Z"
   },
   {
    "duration": 17,
    "start_time": "2024-06-01T17:03:08.545Z"
   },
   {
    "duration": 3777,
    "start_time": "2024-06-01T17:03:09.636Z"
   },
   {
    "duration": 917,
    "start_time": "2024-06-01T17:03:14.112Z"
   },
   {
    "duration": 2,
    "start_time": "2024-06-01T17:03:15.807Z"
   },
   {
    "duration": 16875,
    "start_time": "2024-06-01T17:03:16.927Z"
   },
   {
    "duration": 5,
    "start_time": "2024-06-01T17:03:34.767Z"
   },
   {
    "duration": 11,
    "start_time": "2024-06-01T17:03:35.894Z"
   },
   {
    "duration": 3,
    "start_time": "2024-06-01T17:31:19.087Z"
   },
   {
    "duration": 2,
    "start_time": "2024-06-01T17:31:32.384Z"
   },
   {
    "duration": 851618,
    "start_time": "2024-06-01T17:31:52.678Z"
   },
   {
    "duration": 1195,
    "start_time": "2024-06-03T10:11:43.199Z"
   },
   {
    "duration": 99,
    "start_time": "2024-06-03T10:12:01.730Z"
   },
   {
    "duration": 2,
    "start_time": "2024-06-03T10:12:37.175Z"
   },
   {
    "duration": 3,
    "start_time": "2024-06-03T10:12:39.958Z"
   },
   {
    "duration": 6,
    "start_time": "2024-06-03T10:13:40.278Z"
   },
   {
    "duration": 5335,
    "start_time": "2024-06-03T10:13:40.285Z"
   },
   {
    "duration": 6322,
    "start_time": "2024-06-03T10:13:45.622Z"
   },
   {
    "duration": 2758,
    "start_time": "2024-06-03T10:13:51.946Z"
   },
   {
    "duration": 8120,
    "start_time": "2024-06-03T10:13:54.708Z"
   },
   {
    "duration": 3775,
    "start_time": "2024-06-03T10:14:02.830Z"
   },
   {
    "duration": 242,
    "start_time": "2024-06-03T10:14:06.606Z"
   },
   {
    "duration": 3,
    "start_time": "2024-06-03T10:14:06.849Z"
   },
   {
    "duration": 3125,
    "start_time": "2024-06-03T10:14:06.853Z"
   },
   {
    "duration": 467,
    "start_time": "2024-06-03T10:14:09.979Z"
   },
   {
    "duration": 3,
    "start_time": "2024-06-03T10:14:10.447Z"
   },
   {
    "duration": 932762,
    "start_time": "2024-06-03T10:14:10.451Z"
   },
   {
    "duration": 3,
    "start_time": "2024-06-03T10:29:43.214Z"
   },
   {
    "duration": 4,
    "start_time": "2024-06-03T10:29:43.220Z"
   },
   {
    "duration": 47,
    "start_time": "2024-06-03T10:29:43.225Z"
   },
   {
    "duration": 9,
    "start_time": "2024-06-03T10:29:43.273Z"
   },
   {
    "duration": 17,
    "start_time": "2024-06-03T10:29:43.283Z"
   },
   {
    "duration": 16,
    "start_time": "2024-06-03T10:29:43.301Z"
   },
   {
    "duration": 303,
    "start_time": "2024-06-03T10:29:43.318Z"
   },
   {
    "duration": 0,
    "start_time": "2024-06-03T10:29:43.622Z"
   },
   {
    "duration": 0,
    "start_time": "2024-06-03T10:29:43.623Z"
   },
   {
    "duration": 0,
    "start_time": "2024-06-03T10:29:43.624Z"
   },
   {
    "duration": 0,
    "start_time": "2024-06-03T10:29:43.625Z"
   },
   {
    "duration": 0,
    "start_time": "2024-06-03T10:29:43.625Z"
   },
   {
    "duration": 0,
    "start_time": "2024-06-03T10:29:43.626Z"
   },
   {
    "duration": 0,
    "start_time": "2024-06-03T10:29:43.627Z"
   },
   {
    "duration": 3,
    "start_time": "2024-06-03T10:34:30.742Z"
   },
   {
    "duration": 20,
    "start_time": "2024-06-03T10:34:34.244Z"
   },
   {
    "duration": 7,
    "start_time": "2024-06-03T10:34:35.059Z"
   },
   {
    "duration": 20,
    "start_time": "2024-06-03T10:34:35.907Z"
   },
   {
    "duration": 21,
    "start_time": "2024-06-03T10:34:36.470Z"
   },
   {
    "duration": 3982,
    "start_time": "2024-06-03T10:34:37.571Z"
   },
   {
    "duration": 895,
    "start_time": "2024-06-03T10:34:42.927Z"
   },
   {
    "duration": 2,
    "start_time": "2024-06-03T10:34:44.289Z"
   },
   {
    "duration": 2,
    "start_time": "2024-06-03T10:34:46.192Z"
   },
   {
    "duration": 17819,
    "start_time": "2024-06-03T10:34:47.565Z"
   },
   {
    "duration": 5,
    "start_time": "2024-06-03T10:35:11.069Z"
   },
   {
    "duration": 12,
    "start_time": "2024-06-03T10:35:14.194Z"
   },
   {
    "duration": 658720,
    "start_time": "2024-06-03T10:35:37.780Z"
   },
   {
    "duration": 94910,
    "start_time": "2024-06-03T10:51:22.695Z"
   },
   {
    "duration": 11,
    "start_time": "2024-06-03T10:53:07.234Z"
   },
   {
    "duration": 2,
    "start_time": "2024-06-03T10:54:29.087Z"
   },
   {
    "duration": 918411,
    "start_time": "2024-06-03T10:54:32.520Z"
   },
   {
    "duration": 81705,
    "start_time": "2024-06-03T11:10:25.840Z"
   },
   {
    "duration": 13,
    "start_time": "2024-06-03T11:12:05.302Z"
   },
   {
    "duration": 3,
    "start_time": "2024-06-03T11:17:24.616Z"
   },
   {
    "duration": 15,
    "start_time": "2024-06-03T11:20:38.853Z"
   },
   {
    "duration": 2,
    "start_time": "2024-06-03T11:21:00.694Z"
   },
   {
    "duration": 4,
    "start_time": "2024-06-03T11:21:04.830Z"
   },
   {
    "duration": 13,
    "start_time": "2024-06-03T11:22:26.826Z"
   },
   {
    "duration": 2,
    "start_time": "2024-06-03T11:22:34.200Z"
   },
   {
    "duration": 28,
    "start_time": "2024-06-03T11:23:06.086Z"
   },
   {
    "duration": 2,
    "start_time": "2024-06-03T11:23:26.205Z"
   },
   {
    "duration": 3,
    "start_time": "2024-06-03T11:23:27.080Z"
   },
   {
    "duration": 2,
    "start_time": "2024-06-03T11:23:27.705Z"
   },
   {
    "duration": 1016,
    "start_time": "2024-06-03T11:23:28.972Z"
   },
   {
    "duration": 2,
    "start_time": "2024-06-03T11:26:29.804Z"
   },
   {
    "duration": 986,
    "start_time": "2024-06-03T11:26:32.164Z"
   },
   {
    "duration": 5,
    "start_time": "2024-06-03T11:27:00.208Z"
   },
   {
    "duration": 2,
    "start_time": "2024-06-03T11:27:00.744Z"
   },
   {
    "duration": 1025,
    "start_time": "2024-06-03T11:27:02.164Z"
   },
   {
    "duration": 4,
    "start_time": "2024-06-03T11:27:09.925Z"
   },
   {
    "duration": 2,
    "start_time": "2024-06-03T11:27:12.357Z"
   },
   {
    "duration": 3,
    "start_time": "2024-06-03T11:28:16.057Z"
   },
   {
    "duration": 3,
    "start_time": "2024-06-03T11:28:16.400Z"
   },
   {
    "duration": 904,
    "start_time": "2024-06-03T11:28:17.016Z"
   },
   {
    "duration": 2,
    "start_time": "2024-06-03T11:28:46.442Z"
   },
   {
    "duration": 37,
    "start_time": "2024-06-03T11:28:46.977Z"
   },
   {
    "duration": 2,
    "start_time": "2024-06-03T11:28:56.972Z"
   },
   {
    "duration": 927,
    "start_time": "2024-06-03T11:28:58.296Z"
   },
   {
    "duration": 2,
    "start_time": "2024-06-03T11:29:25.684Z"
   },
   {
    "duration": 915,
    "start_time": "2024-06-03T11:29:26.127Z"
   },
   {
    "duration": 4,
    "start_time": "2024-06-03T11:29:40.687Z"
   },
   {
    "duration": 2,
    "start_time": "2024-06-03T11:29:41.295Z"
   },
   {
    "duration": 207,
    "start_time": "2024-06-03T11:29:41.951Z"
   },
   {
    "duration": 3,
    "start_time": "2024-06-03T11:32:11.782Z"
   },
   {
    "duration": 3,
    "start_time": "2024-06-03T11:32:21.649Z"
   },
   {
    "duration": 940,
    "start_time": "2024-06-03T11:32:22.562Z"
   },
   {
    "duration": 2,
    "start_time": "2024-06-03T11:39:46.629Z"
   },
   {
    "duration": 3,
    "start_time": "2024-06-03T11:39:46.996Z"
   },
   {
    "duration": 2,
    "start_time": "2024-06-03T11:39:47.541Z"
   },
   {
    "duration": 896,
    "start_time": "2024-06-03T11:39:48.257Z"
   },
   {
    "duration": 20,
    "start_time": "2024-06-03T11:50:17.188Z"
   },
   {
    "duration": 1112,
    "start_time": "2024-06-03T11:50:44.694Z"
   },
   {
    "duration": 104056,
    "start_time": "2024-06-03T11:50:47.134Z"
   },
   {
    "duration": 13,
    "start_time": "2024-06-03T11:52:40.803Z"
   },
   {
    "duration": 16,
    "start_time": "2024-06-03T11:54:42.759Z"
   },
   {
    "duration": 6,
    "start_time": "2024-06-03T11:55:00.920Z"
   },
   {
    "duration": 2,
    "start_time": "2024-06-03T11:55:05.165Z"
   },
   {
    "duration": 2,
    "start_time": "2024-06-03T11:55:27.649Z"
   },
   {
    "duration": 3,
    "start_time": "2024-06-03T11:55:28.471Z"
   },
   {
    "duration": 2,
    "start_time": "2024-06-03T11:55:29.466Z"
   },
   {
    "duration": 953,
    "start_time": "2024-06-03T11:55:30.532Z"
   },
   {
    "duration": 57,
    "start_time": "2024-06-03T12:17:46.161Z"
   },
   {
    "duration": 3,
    "start_time": "2024-06-03T12:17:59.831Z"
   },
   {
    "duration": 13,
    "start_time": "2024-06-03T12:18:24.498Z"
   },
   {
    "duration": 3,
    "start_time": "2024-06-03T12:20:40.073Z"
   },
   {
    "duration": 3,
    "start_time": "2024-06-03T12:20:41.373Z"
   },
   {
    "duration": 34,
    "start_time": "2024-06-03T12:20:50.011Z"
   },
   {
    "duration": 3,
    "start_time": "2024-06-03T12:21:31.526Z"
   },
   {
    "duration": 3,
    "start_time": "2024-06-03T12:21:32.154Z"
   },
   {
    "duration": 97,
    "start_time": "2024-06-03T12:21:32.810Z"
   },
   {
    "duration": 3,
    "start_time": "2024-06-03T12:21:58.380Z"
   },
   {
    "duration": 98,
    "start_time": "2024-06-03T12:21:58.824Z"
   },
   {
    "duration": 13,
    "start_time": "2024-06-03T12:22:33.535Z"
   },
   {
    "duration": 2,
    "start_time": "2024-06-03T12:22:44.630Z"
   },
   {
    "duration": 8,
    "start_time": "2024-06-03T12:23:20.980Z"
   },
   {
    "duration": 2,
    "start_time": "2024-06-03T12:24:04.336Z"
   },
   {
    "duration": 100,
    "start_time": "2024-06-03T12:24:06.004Z"
   },
   {
    "duration": 2,
    "start_time": "2024-06-03T12:24:12.057Z"
   },
   {
    "duration": 3,
    "start_time": "2024-06-03T12:26:34.000Z"
   },
   {
    "duration": 3,
    "start_time": "2024-06-03T12:26:34.360Z"
   },
   {
    "duration": 2,
    "start_time": "2024-06-03T12:26:34.809Z"
   },
   {
    "duration": 101,
    "start_time": "2024-06-03T12:26:35.429Z"
   },
   {
    "duration": 2,
    "start_time": "2024-06-03T12:27:16.255Z"
   },
   {
    "duration": 3,
    "start_time": "2024-06-03T12:27:16.682Z"
   },
   {
    "duration": 2,
    "start_time": "2024-06-03T12:27:17.143Z"
   },
   {
    "duration": 94,
    "start_time": "2024-06-03T12:27:17.571Z"
   },
   {
    "duration": 3,
    "start_time": "2024-06-03T12:27:24.240Z"
   },
   {
    "duration": 2,
    "start_time": "2024-06-03T12:27:24.532Z"
   },
   {
    "duration": 2,
    "start_time": "2024-06-03T12:27:24.817Z"
   },
   {
    "duration": 100,
    "start_time": "2024-06-03T12:27:25.173Z"
   },
   {
    "duration": 2,
    "start_time": "2024-06-03T12:28:47.222Z"
   },
   {
    "duration": 18,
    "start_time": "2024-06-03T12:29:19.882Z"
   },
   {
    "duration": 459689,
    "start_time": "2024-06-03T12:29:30.992Z"
   },
   {
    "duration": 0,
    "start_time": "2024-06-03T12:37:10.684Z"
   },
   {
    "duration": 0,
    "start_time": "2024-06-03T12:37:10.686Z"
   },
   {
    "duration": 4,
    "start_time": "2024-06-03T12:37:12.798Z"
   },
   {
    "duration": 7,
    "start_time": "2024-06-03T12:38:23.696Z"
   },
   {
    "duration": 2820,
    "start_time": "2024-06-03T12:38:23.704Z"
   },
   {
    "duration": 2828,
    "start_time": "2024-06-03T12:38:26.526Z"
   },
   {
    "duration": 2549,
    "start_time": "2024-06-03T12:38:29.356Z"
   },
   {
    "duration": 7661,
    "start_time": "2024-06-03T12:38:31.908Z"
   },
   {
    "duration": 3513,
    "start_time": "2024-06-03T12:38:39.571Z"
   },
   {
    "duration": 130,
    "start_time": "2024-06-03T12:38:43.085Z"
   },
   {
    "duration": 2,
    "start_time": "2024-06-03T12:38:43.216Z"
   },
   {
    "duration": 4,
    "start_time": "2024-06-03T12:38:43.219Z"
   },
   {
    "duration": 736,
    "start_time": "2024-06-03T12:38:43.224Z"
   },
   {
    "duration": 423,
    "start_time": "2024-06-03T12:38:43.961Z"
   },
   {
    "duration": 3,
    "start_time": "2024-06-03T12:38:44.385Z"
   },
   {
    "duration": 875696,
    "start_time": "2024-06-03T12:38:44.390Z"
   },
   {
    "duration": 3,
    "start_time": "2024-06-03T12:53:20.089Z"
   },
   {
    "duration": 8,
    "start_time": "2024-06-03T12:53:20.093Z"
   },
   {
    "duration": 29,
    "start_time": "2024-06-03T12:53:20.102Z"
   },
   {
    "duration": 9,
    "start_time": "2024-06-03T12:53:20.132Z"
   },
   {
    "duration": 17,
    "start_time": "2024-06-03T12:53:20.142Z"
   },
   {
    "duration": 36,
    "start_time": "2024-06-03T12:53:20.160Z"
   },
   {
    "duration": 3905,
    "start_time": "2024-06-03T12:53:20.197Z"
   },
   {
    "duration": 903,
    "start_time": "2024-06-03T12:53:24.103Z"
   },
   {
    "duration": 3,
    "start_time": "2024-06-03T12:53:25.008Z"
   },
   {
    "duration": 5,
    "start_time": "2024-06-03T12:53:25.012Z"
   },
   {
    "duration": 18070,
    "start_time": "2024-06-03T12:53:25.018Z"
   },
   {
    "duration": 912200,
    "start_time": "2024-06-03T12:53:43.089Z"
   },
   {
    "duration": 4,
    "start_time": "2024-06-03T13:08:55.290Z"
   },
   {
    "duration": 80200,
    "start_time": "2024-06-03T13:08:55.296Z"
   },
   {
    "duration": 11,
    "start_time": "2024-06-03T13:10:15.498Z"
   },
   {
    "duration": 14,
    "start_time": "2024-06-03T13:10:15.510Z"
   },
   {
    "duration": 1195,
    "start_time": "2024-06-03T13:10:15.525Z"
   },
   {
    "duration": 98508,
    "start_time": "2024-06-03T13:10:16.722Z"
   },
   {
    "duration": 12,
    "start_time": "2024-06-03T13:11:55.231Z"
   },
   {
    "duration": 22,
    "start_time": "2024-06-03T13:11:55.244Z"
   },
   {
    "duration": 17,
    "start_time": "2024-06-03T13:11:55.267Z"
   },
   {
    "duration": 4,
    "start_time": "2024-06-03T13:11:55.285Z"
   },
   {
    "duration": 8,
    "start_time": "2024-06-03T13:11:55.290Z"
   },
   {
    "duration": 2866855,
    "start_time": "2024-06-03T13:11:55.300Z"
   },
   {
    "duration": 338,
    "start_time": "2024-06-03T13:59:42.157Z"
   },
   {
    "duration": 3,
    "start_time": "2024-06-03T14:14:46.394Z"
   },
   {
    "duration": 3,
    "start_time": "2024-06-03T14:15:42.947Z"
   },
   {
    "duration": 2,
    "start_time": "2024-06-03T14:15:47.235Z"
   },
   {
    "duration": 3,
    "start_time": "2024-06-03T14:15:52.172Z"
   },
   {
    "duration": 6761506,
    "start_time": "2024-06-03T14:15:59.729Z"
   },
   {
    "duration": 3,
    "start_time": "2024-06-03T16:09:40.003Z"
   },
   {
    "duration": 2,
    "start_time": "2024-06-03T16:10:39.802Z"
   },
   {
    "duration": 915101,
    "start_time": "2024-06-03T16:10:46.884Z"
   },
   {
    "duration": 80181,
    "start_time": "2024-06-03T17:07:12.367Z"
   },
   {
    "duration": 12,
    "start_time": "2024-06-03T17:08:49.601Z"
   },
   {
    "duration": 17,
    "start_time": "2024-06-03T17:12:46.204Z"
   },
   {
    "duration": 1190,
    "start_time": "2024-06-03T17:13:07.326Z"
   },
   {
    "duration": 12,
    "start_time": "2024-06-03T17:14:08.513Z"
   },
   {
    "duration": 7,
    "start_time": "2024-06-04T08:30:36.725Z"
   },
   {
    "duration": 5025,
    "start_time": "2024-06-04T08:30:36.734Z"
   },
   {
    "duration": 6023,
    "start_time": "2024-06-04T08:30:41.761Z"
   },
   {
    "duration": 2450,
    "start_time": "2024-06-04T08:30:47.786Z"
   },
   {
    "duration": 8256,
    "start_time": "2024-06-04T08:30:50.238Z"
   },
   {
    "duration": 3907,
    "start_time": "2024-06-04T08:30:58.496Z"
   },
   {
    "duration": 224,
    "start_time": "2024-06-04T08:31:02.404Z"
   },
   {
    "duration": 2,
    "start_time": "2024-06-04T08:31:02.629Z"
   },
   {
    "duration": 5,
    "start_time": "2024-06-04T08:31:02.633Z"
   },
   {
    "duration": 3263,
    "start_time": "2024-06-04T08:31:02.639Z"
   },
   {
    "duration": 487,
    "start_time": "2024-06-04T08:31:05.904Z"
   },
   {
    "duration": 3,
    "start_time": "2024-06-04T08:31:06.392Z"
   },
   {
    "duration": 1066851,
    "start_time": "2024-06-04T08:31:06.399Z"
   },
   {
    "duration": 4,
    "start_time": "2024-06-04T08:48:53.253Z"
   },
   {
    "duration": 4,
    "start_time": "2024-06-04T08:48:53.259Z"
   },
   {
    "duration": 45,
    "start_time": "2024-06-04T08:48:53.264Z"
   },
   {
    "duration": 3,
    "start_time": "2024-06-04T08:48:53.311Z"
   },
   {
    "duration": 5,
    "start_time": "2024-06-04T08:48:53.315Z"
   },
   {
    "duration": 5,
    "start_time": "2024-06-04T08:48:53.321Z"
   },
   {
    "duration": 2861396,
    "start_time": "2024-06-04T08:48:53.327Z"
   },
   {
    "duration": 3,
    "start_time": "2024-06-04T09:36:34.725Z"
   },
   {
    "duration": 1291,
    "start_time": "2024-06-04T09:36:34.730Z"
   },
   {
    "duration": 13,
    "start_time": "2024-06-04T09:36:36.022Z"
   },
   {
    "duration": 4,
    "start_time": "2024-06-04T10:51:58.411Z"
   },
   {
    "duration": 149,
    "start_time": "2024-06-04T10:51:59.771Z"
   },
   {
    "duration": 2,
    "start_time": "2024-06-04T10:52:00.923Z"
   },
   {
    "duration": 3,
    "start_time": "2024-06-04T10:52:01.523Z"
   },
   {
    "duration": 877,
    "start_time": "2024-06-04T10:52:03.854Z"
   },
   {
    "duration": 302,
    "start_time": "2024-06-04T10:52:39.034Z"
   },
   {
    "duration": 17,
    "start_time": "2024-06-04T10:53:02.651Z"
   },
   {
    "duration": 17,
    "start_time": "2024-06-04T10:53:16.915Z"
   },
   {
    "duration": 17,
    "start_time": "2024-06-04T10:54:49.627Z"
   },
   {
    "duration": 202,
    "start_time": "2024-06-04T10:55:20.491Z"
   },
   {
    "duration": 174,
    "start_time": "2024-06-04T10:55:40.504Z"
   },
   {
    "duration": 28,
    "start_time": "2024-06-04T10:55:47.498Z"
   },
   {
    "duration": 17,
    "start_time": "2024-06-04T10:56:12.050Z"
   },
   {
    "duration": 17,
    "start_time": "2024-06-04T10:56:16.484Z"
   },
   {
    "duration": 7,
    "start_time": "2024-06-04T10:56:18.825Z"
   },
   {
    "duration": 61,
    "start_time": "2024-06-04T11:06:49.250Z"
   },
   {
    "duration": 379,
    "start_time": "2024-06-04T11:06:51.657Z"
   },
   {
    "duration": 155,
    "start_time": "2024-06-04T11:07:35.447Z"
   },
   {
    "duration": 130,
    "start_time": "2024-06-04T11:08:05.408Z"
   },
   {
    "duration": 106,
    "start_time": "2024-06-04T11:08:17.118Z"
   },
   {
    "duration": 37,
    "start_time": "2024-06-04T11:08:33.050Z"
   },
   {
    "duration": 118,
    "start_time": "2024-06-04T11:08:37.007Z"
   },
   {
    "duration": 97,
    "start_time": "2024-06-04T11:09:16.670Z"
   },
   {
    "duration": 133,
    "start_time": "2024-06-04T11:09:36.458Z"
   },
   {
    "duration": 97,
    "start_time": "2024-06-04T11:09:46.887Z"
   },
   {
    "duration": 91,
    "start_time": "2024-06-04T11:09:57.001Z"
   },
   {
    "duration": 95,
    "start_time": "2024-06-04T11:10:03.749Z"
   },
   {
    "duration": 100,
    "start_time": "2024-06-04T11:10:06.980Z"
   },
   {
    "duration": 93,
    "start_time": "2024-06-04T11:10:20.182Z"
   },
   {
    "duration": 161,
    "start_time": "2024-06-04T11:10:29.359Z"
   },
   {
    "duration": 171,
    "start_time": "2024-06-04T11:10:43.147Z"
   },
   {
    "duration": 98,
    "start_time": "2024-06-04T11:10:57.357Z"
   },
   {
    "duration": 16,
    "start_time": "2024-06-04T11:11:35.093Z"
   },
   {
    "duration": 4,
    "start_time": "2024-06-04T11:12:00.755Z"
   },
   {
    "duration": 124,
    "start_time": "2024-06-04T11:12:03.341Z"
   },
   {
    "duration": 104,
    "start_time": "2024-06-04T11:12:08.281Z"
   },
   {
    "duration": 202,
    "start_time": "2024-06-04T11:12:45.287Z"
   },
   {
    "duration": 113,
    "start_time": "2024-06-04T11:12:52.832Z"
   },
   {
    "duration": 51,
    "start_time": "2024-06-04T11:14:07.841Z"
   },
   {
    "duration": 499,
    "start_time": "2024-06-04T11:18:18.340Z"
   },
   {
    "duration": 4,
    "start_time": "2024-06-04T11:18:18.865Z"
   },
   {
    "duration": 1057260,
    "start_time": "2024-06-04T11:18:20.599Z"
   },
   {
    "duration": 3,
    "start_time": "2024-06-04T11:38:51.211Z"
   },
   {
    "duration": 2,
    "start_time": "2024-06-04T11:38:53.010Z"
   },
   {
    "duration": 108,
    "start_time": "2024-06-04T11:38:55.896Z"
   },
   {
    "duration": 7,
    "start_time": "2024-08-28T17:40:47.886Z"
   },
   {
    "duration": 2044,
    "start_time": "2024-08-28T17:40:47.895Z"
   },
   {
    "duration": 2050,
    "start_time": "2024-08-28T17:40:49.941Z"
   },
   {
    "duration": 1872,
    "start_time": "2024-08-28T17:40:51.994Z"
   },
   {
    "duration": 7663,
    "start_time": "2024-08-28T17:40:53.869Z"
   },
   {
    "duration": 4298,
    "start_time": "2024-08-28T17:41:01.534Z"
   },
   {
    "duration": 215,
    "start_time": "2024-08-28T17:41:05.834Z"
   },
   {
    "duration": 3,
    "start_time": "2024-08-28T17:41:06.051Z"
   },
   {
    "duration": 23,
    "start_time": "2024-08-28T17:41:06.055Z"
   },
   {
    "duration": 3839,
    "start_time": "2024-08-28T17:41:06.080Z"
   },
   {
    "duration": 216,
    "start_time": "2024-08-28T17:41:09.921Z"
   },
   {
    "duration": 26,
    "start_time": "2024-08-28T17:41:10.139Z"
   },
   {
    "duration": 7,
    "start_time": "2024-08-28T17:41:10.167Z"
   },
   {
    "duration": 141,
    "start_time": "2024-08-28T17:41:10.198Z"
   },
   {
    "duration": 512,
    "start_time": "2024-08-28T17:41:10.340Z"
   },
   {
    "duration": 3,
    "start_time": "2024-08-28T17:41:10.854Z"
   },
   {
    "duration": 1212889,
    "start_time": "2024-08-28T17:41:10.859Z"
   },
   {
    "duration": 5,
    "start_time": "2024-08-28T18:01:23.750Z"
   },
   {
    "duration": 9,
    "start_time": "2024-08-28T18:01:23.756Z"
   },
   {
    "duration": 87,
    "start_time": "2024-08-28T18:01:23.766Z"
   },
   {
    "duration": 3,
    "start_time": "2024-08-28T18:01:23.855Z"
   },
   {
    "duration": 12,
    "start_time": "2024-08-28T18:01:23.859Z"
   },
   {
    "duration": 9,
    "start_time": "2024-08-28T18:01:23.873Z"
   },
   {
    "duration": 3347807,
    "start_time": "2024-08-28T18:01:23.884Z"
   },
   {
    "duration": 4,
    "start_time": "2024-08-28T18:57:11.697Z"
   },
   {
    "duration": 1517,
    "start_time": "2024-08-28T18:57:11.702Z"
   },
   {
    "duration": 16,
    "start_time": "2024-08-28T18:57:13.221Z"
   },
   {
    "duration": 7,
    "start_time": "2024-08-29T13:10:32.094Z"
   },
   {
    "duration": 4579,
    "start_time": "2024-08-29T13:10:32.103Z"
   },
   {
    "duration": 4863,
    "start_time": "2024-08-29T13:10:36.684Z"
   },
   {
    "duration": 1623,
    "start_time": "2024-08-29T13:10:41.548Z"
   },
   {
    "duration": 7024,
    "start_time": "2024-08-29T13:10:43.173Z"
   },
   {
    "duration": 4148,
    "start_time": "2024-08-29T13:10:50.198Z"
   },
   {
    "duration": 217,
    "start_time": "2024-08-29T13:10:54.348Z"
   },
   {
    "duration": 3,
    "start_time": "2024-08-29T13:10:54.566Z"
   },
   {
    "duration": 10,
    "start_time": "2024-08-29T13:10:54.570Z"
   },
   {
    "duration": 3618,
    "start_time": "2024-08-29T13:10:54.582Z"
   },
   {
    "duration": 202,
    "start_time": "2024-08-29T13:10:58.202Z"
   },
   {
    "duration": 24,
    "start_time": "2024-08-29T13:10:58.405Z"
   },
   {
    "duration": 5,
    "start_time": "2024-08-29T13:10:58.431Z"
   },
   {
    "duration": 144,
    "start_time": "2024-08-29T13:10:58.438Z"
   },
   {
    "duration": 459,
    "start_time": "2024-08-29T13:10:58.589Z"
   },
   {
    "duration": 3,
    "start_time": "2024-08-29T13:10:59.050Z"
   },
   {
    "duration": 1024676,
    "start_time": "2024-08-29T13:10:59.054Z"
   },
   {
    "duration": 4,
    "start_time": "2024-08-29T13:28:03.731Z"
   },
   {
    "duration": 12,
    "start_time": "2024-08-29T13:28:03.736Z"
   },
   {
    "duration": 72,
    "start_time": "2024-08-29T13:28:03.749Z"
   },
   {
    "duration": 3,
    "start_time": "2024-08-29T13:28:03.823Z"
   },
   {
    "duration": 10,
    "start_time": "2024-08-29T13:28:03.827Z"
   },
   {
    "duration": 5,
    "start_time": "2024-08-29T13:28:03.838Z"
   },
   {
    "duration": 2910558,
    "start_time": "2024-08-29T13:28:03.844Z"
   },
   {
    "duration": 3,
    "start_time": "2024-08-29T14:16:34.404Z"
   },
   {
    "duration": 1387,
    "start_time": "2024-08-29T14:16:34.408Z"
   },
   {
    "duration": 17,
    "start_time": "2024-08-29T14:16:35.796Z"
   }
  ],
  "kernelspec": {
   "display_name": "Python 3 (ipykernel)",
   "language": "python",
   "name": "python3"
  },
  "language_info": {
   "codemirror_mode": {
    "name": "ipython",
    "version": 3
   },
   "file_extension": ".py",
   "mimetype": "text/x-python",
   "name": "python",
   "nbconvert_exporter": "python",
   "pygments_lexer": "ipython3",
   "version": "3.9.5"
  },
  "toc": {
   "base_numbering": 1,
   "nav_menu": {},
   "number_sections": true,
   "sideBar": true,
   "skip_h1_title": true,
   "title_cell": "Содержание",
   "title_sidebar": "Contents",
   "toc_cell": true,
   "toc_position": {
    "height": "calc(100% - 180px)",
    "left": "10px",
    "top": "150px",
    "width": "302.391px"
   },
   "toc_section_display": true,
   "toc_window_display": false
  }
 },
 "nbformat": 4,
 "nbformat_minor": 2
}
